{
 "cells": [
  {
   "cell_type": "code",
   "execution_count": 40,
   "id": "74d806f4",
   "metadata": {},
   "outputs": [],
   "source": [
    "import pandas as pd\n",
    "import numpy as np\n",
    "import seaborn as sns\n",
    "from pathlib import Path as P\n",
    "import matplotlib.pyplot as plt\n",
    "plt.rcParams['font.sans-serif'] = ['KaiTi', 'SimHei', 'FangSong']  # 汉字字体,优先使用楷体，如果找不到楷体，则使用黑体\n",
    "plt.rcParams['font.size'] = 12  # 字体大小\n",
    "plt.rcParams['axes.unicode_minus'] = False  # 正常显示负号\n",
    "from collections import defaultdict\n",
    "import plotly.express as px\n",
    "import pickle\n",
    "from sklearn.preprocessing import StandardScaler, MinMaxScaler\n",
    "from sklearn.model_selection import train_test_split\n",
    "\n",
    "import tensorflow.keras as keras"
   ]
  },
  {
   "cell_type": "code",
   "execution_count": 41,
   "id": "22f72b2f",
   "metadata": {},
   "outputs": [],
   "source": [
    "learning_rate=0.001\n",
    "train_size=0.9\n",
    "seqlen=3\n",
    "bs=32\n",
    "epochs=200"
   ]
  },
  {
   "cell_type": "markdown",
   "id": "1aeb6304",
   "metadata": {},
   "source": [
    "这些是模型的超参数。\n",
    "- learning_rate 是学习率，控制模型收敛的快慢，太大了模型容易发散，太小了模型收敛很慢；\n",
    "- train_size 训练集占整个数据集的比例，一般是28开；\n",
    "- seqlen：序列长度，在时序建模中，就是用前几个样本来预测当前样本；\n",
    "- bs：batch size，批量大小，随机梯度下降算法SGD中，每次用来估计梯度的训练样本数量；\n",
    "考虑到数据集本身只有100多个样本，批量不用太大；\n",
    "- epochs：训练的轮数，即迭代次数；"
   ]
  },
  {
   "cell_type": "code",
   "execution_count": 42,
   "id": "e2d95214",
   "metadata": {},
   "outputs": [],
   "source": [
    "df=pd.read_csv('问题2-训练数据-归一化.csv',index_col='time')"
   ]
  },
  {
   "cell_type": "code",
   "execution_count": 43,
   "id": "1c588675",
   "metadata": {},
   "outputs": [],
   "source": [
    "df_train, df_val = train_test_split(df, train_size=train_size, shuffle=False)"
   ]
  },
  {
   "cell_type": "markdown",
   "id": "5bb7803a",
   "metadata": {},
   "source": [
    "将数据集分割为训练集和验证集，二者没有交集，训练集用来训练模型，验证集用来确保模型没有过拟合。"
   ]
  },
  {
   "cell_type": "code",
   "execution_count": 44,
   "id": "9dea66db",
   "metadata": {},
   "outputs": [
    {
     "data": {
      "text/plain": [
       "((110, 6), (13, 6))"
      ]
     },
     "execution_count": 44,
     "metadata": {},
     "output_type": "execute_result"
    }
   ],
   "source": [
    "feature_size=df_train.shape[1]\n",
    "df_train.shape, df_val.shape"
   ]
  },
  {
   "cell_type": "code",
   "execution_count": 51,
   "id": "669f26d5",
   "metadata": {},
   "outputs": [],
   "source": [
    "dataset_train = keras.preprocessing.timeseries_dataset_from_array(\n",
    "    df_train.values, df_train.values, sequence_length=seqlen, batch_size=bs, shuffle=True)\n",
    "dataset_val = keras.preprocessing.timeseries_dataset_from_array(\n",
    "    df_val.values, df_val.values, sequence_length=seqlen, batch_size=bs, shuffle=True)"
   ]
  },
  {
   "cell_type": "markdown",
   "id": "f37523c9",
   "metadata": {},
   "source": [
    "利用keras的接口构造时序模型需要的时序数据集。"
   ]
  },
  {
   "cell_type": "code",
   "execution_count": 52,
   "id": "ba089bd4",
   "metadata": {},
   "outputs": [
    {
     "data": {
      "text/plain": [
       "(<BatchDataset element_spec=(TensorSpec(shape=(None, None, 6), dtype=tf.float64, name=None), TensorSpec(shape=(None, 6), dtype=tf.float64, name=None))>,\n",
       " <BatchDataset element_spec=(TensorSpec(shape=(None, None, 6), dtype=tf.float64, name=None), TensorSpec(shape=(None, 6), dtype=tf.float64, name=None))>)"
      ]
     },
     "execution_count": 52,
     "metadata": {},
     "output_type": "execute_result"
    }
   ],
   "source": [
    "dataset_train, dataset_val"
   ]
  },
  {
   "cell_type": "markdown",
   "id": "511ee8cd",
   "metadata": {},
   "source": [
    "构建一个单层的LSTM模型。LSTM是一种专门用来建模时序数据的神经网络模型，即长短期记忆（Long Short Term Memory）。\n",
    "可以展开说说理论。"
   ]
  },
  {
   "cell_type": "code",
   "execution_count": 53,
   "id": "29581858",
   "metadata": {},
   "outputs": [
    {
     "name": "stdout",
     "output_type": "stream",
     "text": [
      "Model: \"model_4\"\n",
      "_________________________________________________________________\n",
      " Layer (type)                Output Shape              Param #   \n",
      "=================================================================\n",
      " input_7 (InputLayer)        [(None, 3, 6)]            0         \n",
      "                                                                 \n",
      " lstm_6 (LSTM)               (None, 32)                4992      \n",
      "                                                                 \n",
      " dense_5 (Dense)             (None, 6)                 198       \n",
      "                                                                 \n",
      "=================================================================\n",
      "Total params: 5,190\n",
      "Trainable params: 5,190\n",
      "Non-trainable params: 0\n",
      "_________________________________________________________________\n"
     ]
    }
   ],
   "source": [
    "inputs = keras.layers.Input(shape=(seqlen, feature_size))\n",
    "lstm_out = keras.layers.LSTM(32)(inputs)\n",
    "# lstm_out = keras.layers.Dropout(0.1)(lstm_out)\n",
    "outputs = keras.layers.Dense(feature_size)(lstm_out)\n",
    "\n",
    "model = keras.Model(inputs=inputs, outputs=outputs)\n",
    "model.compile(optimizer=keras.optimizers.Adam(learning_rate=learning_rate), loss=\"mse\")\n",
    "model.summary()"
   ]
  },
  {
   "cell_type": "markdown",
   "id": "42f9a4d3",
   "metadata": {},
   "source": [
    "训练模型：\n",
    "1. 使用的损失函数：MSE，Mean Square Error，即均方误差；\n",
    "2. 早停止：当验证误差经过一段时间不再改进之后，停止训练模型，这是一种停止训练循环的策略；\n",
    "3. 检查点：当验证误差出现改进时，保存当前的模型参数；"
   ]
  },
  {
   "cell_type": "code",
   "execution_count": 54,
   "id": "606a13fa",
   "metadata": {},
   "outputs": [
    {
     "name": "stdout",
     "output_type": "stream",
     "text": [
      "Epoch 1/200\n",
      "1/4 [======>.......................] - ETA: 8s - loss: 0.1851\n",
      "Epoch 1: val_loss improved from inf to 0.39470, saving model to problem2_checkpoint.h5\n",
      "4/4 [==============================] - 3s 187ms/step - loss: 0.1623 - val_loss: 0.3947\n",
      "Epoch 2/200\n",
      "1/4 [======>.......................] - ETA: 0s - loss: 0.1275\n",
      "Epoch 2: val_loss improved from 0.39470 to 0.34322, saving model to problem2_checkpoint.h5\n",
      "4/4 [==============================] - 0s 41ms/step - loss: 0.1370 - val_loss: 0.3432\n",
      "Epoch 3/200\n",
      "1/4 [======>.......................] - ETA: 0s - loss: 0.1128\n",
      "Epoch 3: val_loss improved from 0.34322 to 0.29518, saving model to problem2_checkpoint.h5\n",
      "4/4 [==============================] - 0s 35ms/step - loss: 0.1155 - val_loss: 0.2952\n",
      "Epoch 4/200\n",
      "1/4 [======>.......................] - ETA: 0s - loss: 0.1211\n",
      "Epoch 4: val_loss improved from 0.29518 to 0.25098, saving model to problem2_checkpoint.h5\n",
      "4/4 [==============================] - 0s 30ms/step - loss: 0.0962 - val_loss: 0.2510\n",
      "Epoch 5/200\n",
      "1/4 [======>.......................] - ETA: 0s - loss: 0.0749\n",
      "Epoch 5: val_loss improved from 0.25098 to 0.21103, saving model to problem2_checkpoint.h5\n",
      "4/4 [==============================] - 0s 32ms/step - loss: 0.0786 - val_loss: 0.2110\n",
      "Epoch 6/200\n",
      "1/4 [======>.......................] - ETA: 0s - loss: 0.0713\n",
      "Epoch 6: val_loss improved from 0.21103 to 0.17528, saving model to problem2_checkpoint.h5\n",
      "4/4 [==============================] - 0s 31ms/step - loss: 0.0634 - val_loss: 0.1753\n",
      "Epoch 7/200\n",
      "1/4 [======>.......................] - ETA: 0s - loss: 0.0654\n",
      "Epoch 7: val_loss improved from 0.17528 to 0.14446, saving model to problem2_checkpoint.h5\n",
      "4/4 [==============================] - 0s 35ms/step - loss: 0.0508 - val_loss: 0.1445\n",
      "Epoch 8/200\n",
      "1/4 [======>.......................] - ETA: 0s - loss: 0.0429\n",
      "Epoch 8: val_loss improved from 0.14446 to 0.11950, saving model to problem2_checkpoint.h5\n",
      "4/4 [==============================] - 0s 42ms/step - loss: 0.0408 - val_loss: 0.1195\n",
      "Epoch 9/200\n",
      "1/4 [======>.......................] - ETA: 0s - loss: 0.0336\n",
      "Epoch 9: val_loss improved from 0.11950 to 0.09990, saving model to problem2_checkpoint.h5\n",
      "4/4 [==============================] - 0s 32ms/step - loss: 0.0337 - val_loss: 0.0999\n",
      "Epoch 10/200\n",
      "1/4 [======>.......................] - ETA: 0s - loss: 0.0253\n",
      "Epoch 10: val_loss improved from 0.09990 to 0.08627, saving model to problem2_checkpoint.h5\n",
      "4/4 [==============================] - 0s 31ms/step - loss: 0.0291 - val_loss: 0.0863\n",
      "Epoch 11/200\n",
      "1/4 [======>.......................] - ETA: 0s - loss: 0.0253\n",
      "Epoch 11: val_loss improved from 0.08627 to 0.07790, saving model to problem2_checkpoint.h5\n",
      "4/4 [==============================] - 0s 32ms/step - loss: 0.0272 - val_loss: 0.0779\n",
      "Epoch 12/200\n",
      "1/4 [======>.......................] - ETA: 0s - loss: 0.0271\n",
      "Epoch 12: val_loss improved from 0.07790 to 0.07285, saving model to problem2_checkpoint.h5\n",
      "4/4 [==============================] - 0s 31ms/step - loss: 0.0264 - val_loss: 0.0728\n",
      "Epoch 13/200\n",
      "1/4 [======>.......................] - ETA: 0s - loss: 0.0264\n",
      "Epoch 13: val_loss improved from 0.07285 to 0.06941, saving model to problem2_checkpoint.h5\n",
      "4/4 [==============================] - 0s 31ms/step - loss: 0.0257 - val_loss: 0.0694\n",
      "Epoch 14/200\n",
      "1/4 [======>.......................] - ETA: 0s - loss: 0.0279\n",
      "Epoch 14: val_loss improved from 0.06941 to 0.06726, saving model to problem2_checkpoint.h5\n",
      "4/4 [==============================] - 0s 31ms/step - loss: 0.0251 - val_loss: 0.0673\n",
      "Epoch 15/200\n",
      "1/4 [======>.......................] - ETA: 0s - loss: 0.0309\n",
      "Epoch 15: val_loss improved from 0.06726 to 0.06603, saving model to problem2_checkpoint.h5\n",
      "4/4 [==============================] - 0s 30ms/step - loss: 0.0243 - val_loss: 0.0660\n",
      "Epoch 16/200\n",
      "1/4 [======>.......................] - ETA: 0s - loss: 0.0219\n",
      "Epoch 16: val_loss improved from 0.06603 to 0.06516, saving model to problem2_checkpoint.h5\n",
      "4/4 [==============================] - 0s 32ms/step - loss: 0.0236 - val_loss: 0.0652\n",
      "Epoch 17/200\n",
      "1/4 [======>.......................] - ETA: 0s - loss: 0.0289\n",
      "Epoch 17: val_loss improved from 0.06516 to 0.06320, saving model to problem2_checkpoint.h5\n",
      "4/4 [==============================] - 0s 31ms/step - loss: 0.0230 - val_loss: 0.0632\n",
      "Epoch 18/200\n",
      "1/4 [======>.......................] - ETA: 0s - loss: 0.0202\n",
      "Epoch 18: val_loss improved from 0.06320 to 0.06100, saving model to problem2_checkpoint.h5\n",
      "4/4 [==============================] - 0s 32ms/step - loss: 0.0224 - val_loss: 0.0610\n",
      "Epoch 19/200\n",
      "1/4 [======>.......................] - ETA: 0s - loss: 0.0209\n",
      "Epoch 19: val_loss improved from 0.06100 to 0.05816, saving model to problem2_checkpoint.h5\n",
      "4/4 [==============================] - 0s 31ms/step - loss: 0.0218 - val_loss: 0.0582\n",
      "Epoch 20/200\n",
      "1/4 [======>.......................] - ETA: 0s - loss: 0.0207\n",
      "Epoch 20: val_loss improved from 0.05816 to 0.05490, saving model to problem2_checkpoint.h5\n",
      "4/4 [==============================] - 0s 34ms/step - loss: 0.0212 - val_loss: 0.0549\n",
      "Epoch 21/200\n",
      "1/4 [======>.......................] - ETA: 0s - loss: 0.0149\n",
      "Epoch 21: val_loss improved from 0.05490 to 0.05236, saving model to problem2_checkpoint.h5\n",
      "4/4 [==============================] - 0s 30ms/step - loss: 0.0207 - val_loss: 0.0524\n",
      "Epoch 22/200\n",
      "1/4 [======>.......................] - ETA: 0s - loss: 0.0171\n",
      "Epoch 22: val_loss improved from 0.05236 to 0.04927, saving model to problem2_checkpoint.h5\n",
      "4/4 [==============================] - 0s 41ms/step - loss: 0.0201 - val_loss: 0.0493\n",
      "Epoch 23/200\n",
      "1/4 [======>.......................] - ETA: 0s - loss: 0.0221\n",
      "Epoch 23: val_loss improved from 0.04927 to 0.04655, saving model to problem2_checkpoint.h5\n",
      "4/4 [==============================] - 0s 30ms/step - loss: 0.0197 - val_loss: 0.0465\n",
      "Epoch 24/200\n",
      "1/4 [======>.......................] - ETA: 0s - loss: 0.0190\n",
      "Epoch 24: val_loss improved from 0.04655 to 0.04379, saving model to problem2_checkpoint.h5\n",
      "4/4 [==============================] - 0s 38ms/step - loss: 0.0191 - val_loss: 0.0438\n",
      "Epoch 25/200\n",
      "1/4 [======>.......................] - ETA: 0s - loss: 0.0230\n",
      "Epoch 25: val_loss improved from 0.04379 to 0.04196, saving model to problem2_checkpoint.h5\n",
      "4/4 [==============================] - 0s 29ms/step - loss: 0.0187 - val_loss: 0.0420\n",
      "Epoch 26/200\n",
      "1/4 [======>.......................] - ETA: 0s - loss: 0.0221\n",
      "Epoch 26: val_loss improved from 0.04196 to 0.04009, saving model to problem2_checkpoint.h5\n",
      "4/4 [==============================] - 0s 33ms/step - loss: 0.0182 - val_loss: 0.0401\n",
      "Epoch 27/200\n",
      "1/4 [======>.......................] - ETA: 0s - loss: 0.0236\n",
      "Epoch 27: val_loss improved from 0.04009 to 0.03838, saving model to problem2_checkpoint.h5\n",
      "4/4 [==============================] - 0s 31ms/step - loss: 0.0177 - val_loss: 0.0384\n",
      "Epoch 28/200\n",
      "1/4 [======>.......................] - ETA: 0s - loss: 0.0154\n",
      "Epoch 28: val_loss improved from 0.03838 to 0.03670, saving model to problem2_checkpoint.h5\n",
      "4/4 [==============================] - 0s 30ms/step - loss: 0.0173 - val_loss: 0.0367\n",
      "Epoch 29/200\n",
      "1/4 [======>.......................] - ETA: 0s - loss: 0.0164\n",
      "Epoch 29: val_loss improved from 0.03670 to 0.03486, saving model to problem2_checkpoint.h5\n",
      "4/4 [==============================] - 0s 36ms/step - loss: 0.0168 - val_loss: 0.0349\n",
      "Epoch 30/200\n",
      "1/4 [======>.......................] - ETA: 0s - loss: 0.0202\n",
      "Epoch 30: val_loss improved from 0.03486 to 0.03311, saving model to problem2_checkpoint.h5\n",
      "4/4 [==============================] - 0s 34ms/step - loss: 0.0164 - val_loss: 0.0331\n",
      "Epoch 31/200\n",
      "1/4 [======>.......................] - ETA: 0s - loss: 0.0196\n",
      "Epoch 31: val_loss improved from 0.03311 to 0.03179, saving model to problem2_checkpoint.h5\n",
      "4/4 [==============================] - 0s 30ms/step - loss: 0.0160 - val_loss: 0.0318\n",
      "Epoch 32/200\n",
      "1/4 [======>.......................] - ETA: 0s - loss: 0.0190\n",
      "Epoch 32: val_loss improved from 0.03179 to 0.03047, saving model to problem2_checkpoint.h5\n",
      "4/4 [==============================] - 0s 40ms/step - loss: 0.0156 - val_loss: 0.0305\n",
      "Epoch 33/200\n",
      "1/4 [======>.......................] - ETA: 0s - loss: 0.0197\n",
      "Epoch 33: val_loss improved from 0.03047 to 0.02943, saving model to problem2_checkpoint.h5\n"
     ]
    },
    {
     "name": "stdout",
     "output_type": "stream",
     "text": [
      "4/4 [==============================] - 0s 35ms/step - loss: 0.0153 - val_loss: 0.0294\n",
      "Epoch 34/200\n",
      "1/4 [======>.......................] - ETA: 0s - loss: 0.0140\n",
      "Epoch 34: val_loss improved from 0.02943 to 0.02881, saving model to problem2_checkpoint.h5\n",
      "4/4 [==============================] - 0s 28ms/step - loss: 0.0149 - val_loss: 0.0288\n",
      "Epoch 35/200\n",
      "1/4 [======>.......................] - ETA: 0s - loss: 0.0133\n",
      "Epoch 35: val_loss improved from 0.02881 to 0.02837, saving model to problem2_checkpoint.h5\n",
      "4/4 [==============================] - 0s 36ms/step - loss: 0.0146 - val_loss: 0.0284\n",
      "Epoch 36/200\n",
      "1/4 [======>.......................] - ETA: 0s - loss: 0.0134\n",
      "Epoch 36: val_loss improved from 0.02837 to 0.02828, saving model to problem2_checkpoint.h5\n",
      "4/4 [==============================] - 0s 34ms/step - loss: 0.0142 - val_loss: 0.0283\n",
      "Epoch 37/200\n",
      "1/4 [======>.......................] - ETA: 0s - loss: 0.0113\n",
      "Epoch 37: val_loss improved from 0.02828 to 0.02773, saving model to problem2_checkpoint.h5\n",
      "4/4 [==============================] - 0s 36ms/step - loss: 0.0140 - val_loss: 0.0277\n",
      "Epoch 38/200\n",
      "1/4 [======>.......................] - ETA: 0s - loss: 0.0132\n",
      "Epoch 38: val_loss improved from 0.02773 to 0.02771, saving model to problem2_checkpoint.h5\n",
      "4/4 [==============================] - 0s 38ms/step - loss: 0.0137 - val_loss: 0.0277\n",
      "Epoch 39/200\n",
      "1/4 [======>.......................] - ETA: 0s - loss: 0.0141\n",
      "Epoch 39: val_loss did not improve from 0.02771\n",
      "4/4 [==============================] - 0s 23ms/step - loss: 0.0134 - val_loss: 0.0280\n",
      "Epoch 40/200\n",
      "1/4 [======>.......................] - ETA: 0s - loss: 0.0103\n",
      "Epoch 40: val_loss did not improve from 0.02771\n",
      "4/4 [==============================] - 0s 27ms/step - loss: 0.0131 - val_loss: 0.0278\n",
      "Epoch 41/200\n",
      "1/4 [======>.......................] - ETA: 0s - loss: 0.0140\n",
      "Epoch 41: val_loss did not improve from 0.02771\n",
      "4/4 [==============================] - 0s 24ms/step - loss: 0.0129 - val_loss: 0.0278\n",
      "Epoch 42/200\n",
      "1/4 [======>.......................] - ETA: 0s - loss: 0.0095\n",
      "Epoch 42: val_loss improved from 0.02771 to 0.02751, saving model to problem2_checkpoint.h5\n",
      "4/4 [==============================] - 0s 31ms/step - loss: 0.0126 - val_loss: 0.0275\n",
      "Epoch 43/200\n",
      "1/4 [======>.......................] - ETA: 0s - loss: 0.0111\n",
      "Epoch 43: val_loss improved from 0.02751 to 0.02743, saving model to problem2_checkpoint.h5\n",
      "4/4 [==============================] - 0s 39ms/step - loss: 0.0124 - val_loss: 0.0274\n",
      "Epoch 44/200\n",
      "1/4 [======>.......................] - ETA: 0s - loss: 0.0095\n",
      "Epoch 44: val_loss did not improve from 0.02743\n",
      "4/4 [==============================] - 0s 32ms/step - loss: 0.0122 - val_loss: 0.0276\n",
      "Epoch 45/200\n",
      "1/4 [======>.......................] - ETA: 0s - loss: 0.0150\n",
      "Epoch 45: val_loss did not improve from 0.02743\n",
      "4/4 [==============================] - 0s 23ms/step - loss: 0.0120 - val_loss: 0.0277\n",
      "Epoch 46/200\n",
      "1/4 [======>.......................] - ETA: 0s - loss: 0.0131\n",
      "Epoch 46: val_loss improved from 0.02743 to 0.02732, saving model to problem2_checkpoint.h5\n",
      "4/4 [==============================] - 0s 31ms/step - loss: 0.0118 - val_loss: 0.0273\n",
      "Epoch 47/200\n",
      "1/4 [======>.......................] - ETA: 0s - loss: 0.0099\n",
      "Epoch 47: val_loss improved from 0.02732 to 0.02671, saving model to problem2_checkpoint.h5\n",
      "4/4 [==============================] - 0s 34ms/step - loss: 0.0116 - val_loss: 0.0267\n",
      "Epoch 48/200\n",
      "1/4 [======>.......................] - ETA: 0s - loss: 0.0139\n",
      "Epoch 48: val_loss did not improve from 0.02671\n",
      "4/4 [==============================] - 0s 24ms/step - loss: 0.0114 - val_loss: 0.0268\n",
      "Epoch 49/200\n",
      "1/4 [======>.......................] - ETA: 0s - loss: 0.0102\n",
      "Epoch 49: val_loss improved from 0.02671 to 0.02664, saving model to problem2_checkpoint.h5\n",
      "4/4 [==============================] - 0s 32ms/step - loss: 0.0112 - val_loss: 0.0266\n",
      "Epoch 50/200\n",
      "1/4 [======>.......................] - ETA: 0s - loss: 0.0111\n",
      "Epoch 50: val_loss did not improve from 0.02664\n",
      "4/4 [==============================] - 0s 28ms/step - loss: 0.0110 - val_loss: 0.0269\n",
      "Epoch 51/200\n",
      "1/4 [======>.......................] - ETA: 0s - loss: 0.0105\n",
      "Epoch 51: val_loss improved from 0.02664 to 0.02662, saving model to problem2_checkpoint.h5\n",
      "4/4 [==============================] - 0s 32ms/step - loss: 0.0108 - val_loss: 0.0266\n",
      "Epoch 52/200\n",
      "1/4 [======>.......................] - ETA: 0s - loss: 0.0107\n",
      "Epoch 52: val_loss improved from 0.02662 to 0.02653, saving model to problem2_checkpoint.h5\n",
      "4/4 [==============================] - 0s 32ms/step - loss: 0.0106 - val_loss: 0.0265\n",
      "Epoch 53/200\n",
      "1/4 [======>.......................] - ETA: 0s - loss: 0.0115\n",
      "Epoch 53: val_loss did not improve from 0.02653\n",
      "4/4 [==============================] - 0s 24ms/step - loss: 0.0105 - val_loss: 0.0265\n",
      "Epoch 54/200\n",
      "1/4 [======>.......................] - ETA: 0s - loss: 0.0094\n",
      "Epoch 54: val_loss improved from 0.02653 to 0.02517, saving model to problem2_checkpoint.h5\n",
      "4/4 [==============================] - 0s 31ms/step - loss: 0.0103 - val_loss: 0.0252\n",
      "Epoch 55/200\n",
      "1/4 [======>.......................] - ETA: 0s - loss: 0.0085\n",
      "Epoch 55: val_loss improved from 0.02517 to 0.02472, saving model to problem2_checkpoint.h5\n",
      "4/4 [==============================] - 0s 32ms/step - loss: 0.0101 - val_loss: 0.0247\n",
      "Epoch 56/200\n",
      "1/4 [======>.......................] - ETA: 0s - loss: 0.0088\n",
      "Epoch 56: val_loss improved from 0.02472 to 0.02472, saving model to problem2_checkpoint.h5\n",
      "4/4 [==============================] - 0s 37ms/step - loss: 0.0099 - val_loss: 0.0247\n",
      "Epoch 57/200\n",
      "1/4 [======>.......................] - ETA: 0s - loss: 0.0124\n",
      "Epoch 57: val_loss did not improve from 0.02472\n",
      "4/4 [==============================] - 0s 28ms/step - loss: 0.0098 - val_loss: 0.0252\n",
      "Epoch 58/200\n",
      "1/4 [======>.......................] - ETA: 0s - loss: 0.0116\n",
      "Epoch 58: val_loss did not improve from 0.02472\n",
      "4/4 [==============================] - 0s 25ms/step - loss: 0.0096 - val_loss: 0.0252\n",
      "Epoch 59/200\n",
      "1/4 [======>.......................] - ETA: 0s - loss: 0.0082\n",
      "Epoch 59: val_loss did not improve from 0.02472\n",
      "4/4 [==============================] - 0s 24ms/step - loss: 0.0094 - val_loss: 0.0252\n",
      "Epoch 60/200\n",
      "1/4 [======>.......................] - ETA: 0s - loss: 0.0093\n",
      "Epoch 60: val_loss did not improve from 0.02472\n",
      "4/4 [==============================] - 0s 23ms/step - loss: 0.0093 - val_loss: 0.0248\n",
      "Epoch 61/200\n",
      "1/4 [======>.......................] - ETA: 0s - loss: 0.0081\n",
      "Epoch 61: val_loss improved from 0.02472 to 0.02414, saving model to problem2_checkpoint.h5\n",
      "4/4 [==============================] - 0s 34ms/step - loss: 0.0091 - val_loss: 0.0241\n",
      "Epoch 62/200\n",
      "1/4 [======>.......................] - ETA: 0s - loss: 0.0073\n",
      "Epoch 62: val_loss improved from 0.02414 to 0.02367, saving model to problem2_checkpoint.h5\n",
      "4/4 [==============================] - 0s 31ms/step - loss: 0.0090 - val_loss: 0.0237\n",
      "Epoch 63/200\n",
      "1/4 [======>.......................] - ETA: 0s - loss: 0.0089\n",
      "Epoch 63: val_loss improved from 0.02367 to 0.02322, saving model to problem2_checkpoint.h5\n",
      "4/4 [==============================] - 0s 31ms/step - loss: 0.0088 - val_loss: 0.0232\n",
      "Epoch 64/200\n",
      "1/4 [======>.......................] - ETA: 0s - loss: 0.0072\n",
      "Epoch 64: val_loss did not improve from 0.02322\n",
      "4/4 [==============================] - 0s 25ms/step - loss: 0.0086 - val_loss: 0.0232\n",
      "Epoch 65/200\n",
      "1/4 [======>.......................] - ETA: 0s - loss: 0.0095\n",
      "Epoch 65: val_loss did not improve from 0.02322\n",
      "4/4 [==============================] - 0s 31ms/step - loss: 0.0085 - val_loss: 0.0238\n",
      "Epoch 66/200\n",
      "1/4 [======>.......................] - ETA: 0s - loss: 0.0069\n",
      "Epoch 66: val_loss did not improve from 0.02322\n",
      "4/4 [==============================] - 0s 29ms/step - loss: 0.0084 - val_loss: 0.0233\n",
      "Epoch 67/200\n",
      "1/4 [======>.......................] - ETA: 0s - loss: 0.0069\n",
      "Epoch 67: val_loss improved from 0.02322 to 0.02202, saving model to problem2_checkpoint.h5\n",
      "4/4 [==============================] - 0s 33ms/step - loss: 0.0082 - val_loss: 0.0220\n",
      "Epoch 68/200\n",
      "1/4 [======>.......................] - ETA: 0s - loss: 0.0101\n",
      "Epoch 68: val_loss improved from 0.02202 to 0.02174, saving model to problem2_checkpoint.h5\n"
     ]
    },
    {
     "name": "stdout",
     "output_type": "stream",
     "text": [
      "4/4 [==============================] - 0s 35ms/step - loss: 0.0081 - val_loss: 0.0217\n",
      "Epoch 69/200\n",
      "1/4 [======>.......................] - ETA: 0s - loss: 0.0077\n",
      "Epoch 69: val_loss improved from 0.02174 to 0.02156, saving model to problem2_checkpoint.h5\n",
      "4/4 [==============================] - 0s 34ms/step - loss: 0.0080 - val_loss: 0.0216\n",
      "Epoch 70/200\n",
      "1/4 [======>.......................] - ETA: 0s - loss: 0.0075\n",
      "Epoch 70: val_loss improved from 0.02156 to 0.02153, saving model to problem2_checkpoint.h5\n",
      "4/4 [==============================] - 0s 30ms/step - loss: 0.0078 - val_loss: 0.0215\n",
      "Epoch 71/200\n",
      "1/4 [======>.......................] - ETA: 0s - loss: 0.0065\n",
      "Epoch 71: val_loss did not improve from 0.02153\n",
      "4/4 [==============================] - 0s 22ms/step - loss: 0.0077 - val_loss: 0.0215\n",
      "Epoch 72/200\n",
      "1/4 [======>.......................] - ETA: 0s - loss: 0.0087\n",
      "Epoch 72: val_loss improved from 0.02153 to 0.02115, saving model to problem2_checkpoint.h5\n",
      "4/4 [==============================] - 0s 31ms/step - loss: 0.0075 - val_loss: 0.0211\n",
      "Epoch 73/200\n",
      "1/4 [======>.......................] - ETA: 0s - loss: 0.0077\n",
      "Epoch 73: val_loss improved from 0.02115 to 0.02080, saving model to problem2_checkpoint.h5\n",
      "4/4 [==============================] - 0s 32ms/step - loss: 0.0074 - val_loss: 0.0208\n",
      "Epoch 74/200\n",
      "1/4 [======>.......................] - ETA: 0s - loss: 0.0092\n",
      "Epoch 74: val_loss improved from 0.02080 to 0.01999, saving model to problem2_checkpoint.h5\n",
      "4/4 [==============================] - 0s 32ms/step - loss: 0.0073 - val_loss: 0.0200\n",
      "Epoch 75/200\n",
      "1/4 [======>.......................] - ETA: 0s - loss: 0.0071\n",
      "Epoch 75: val_loss improved from 0.01999 to 0.01931, saving model to problem2_checkpoint.h5\n",
      "4/4 [==============================] - 0s 32ms/step - loss: 0.0072 - val_loss: 0.0193\n",
      "Epoch 76/200\n",
      "1/4 [======>.......................] - ETA: 0s - loss: 0.0075\n",
      "Epoch 76: val_loss improved from 0.01931 to 0.01903, saving model to problem2_checkpoint.h5\n",
      "4/4 [==============================] - 0s 31ms/step - loss: 0.0071 - val_loss: 0.0190\n",
      "Epoch 77/200\n",
      "1/4 [======>.......................] - ETA: 0s - loss: 0.0055\n",
      "Epoch 77: val_loss improved from 0.01903 to 0.01867, saving model to problem2_checkpoint.h5\n",
      "4/4 [==============================] - 0s 31ms/step - loss: 0.0069 - val_loss: 0.0187\n",
      "Epoch 78/200\n",
      "1/4 [======>.......................] - ETA: 0s - loss: 0.0077\n",
      "Epoch 78: val_loss did not improve from 0.01867\n",
      "4/4 [==============================] - 0s 22ms/step - loss: 0.0068 - val_loss: 0.0189\n",
      "Epoch 79/200\n",
      "1/4 [======>.......................] - ETA: 0s - loss: 0.0062\n",
      "Epoch 79: val_loss improved from 0.01867 to 0.01862, saving model to problem2_checkpoint.h5\n",
      "4/4 [==============================] - 0s 42ms/step - loss: 0.0067 - val_loss: 0.0186\n",
      "Epoch 80/200\n",
      "1/4 [======>.......................] - ETA: 0s - loss: 0.0077\n",
      "Epoch 80: val_loss improved from 0.01862 to 0.01752, saving model to problem2_checkpoint.h5\n",
      "4/4 [==============================] - 0s 30ms/step - loss: 0.0066 - val_loss: 0.0175\n",
      "Epoch 81/200\n",
      "1/4 [======>.......................] - ETA: 0s - loss: 0.0064\n",
      "Epoch 81: val_loss improved from 0.01752 to 0.01717, saving model to problem2_checkpoint.h5\n",
      "4/4 [==============================] - 0s 31ms/step - loss: 0.0065 - val_loss: 0.0172\n",
      "Epoch 82/200\n",
      "1/4 [======>.......................] - ETA: 0s - loss: 0.0051\n",
      "Epoch 82: val_loss improved from 0.01717 to 0.01680, saving model to problem2_checkpoint.h5\n",
      "4/4 [==============================] - 0s 32ms/step - loss: 0.0064 - val_loss: 0.0168\n",
      "Epoch 83/200\n",
      "1/4 [======>.......................] - ETA: 0s - loss: 0.0066\n",
      "Epoch 83: val_loss did not improve from 0.01680\n",
      "4/4 [==============================] - 0s 23ms/step - loss: 0.0063 - val_loss: 0.0172\n",
      "Epoch 84/200\n",
      "1/4 [======>.......................] - ETA: 0s - loss: 0.0074\n",
      "Epoch 84: val_loss did not improve from 0.01680\n",
      "4/4 [==============================] - 0s 23ms/step - loss: 0.0062 - val_loss: 0.0176\n",
      "Epoch 85/200\n",
      "1/4 [======>.......................] - ETA: 0s - loss: 0.0073\n",
      "Epoch 85: val_loss did not improve from 0.01680\n",
      "4/4 [==============================] - 0s 29ms/step - loss: 0.0061 - val_loss: 0.0177\n",
      "Epoch 86/200\n",
      "1/4 [======>.......................] - ETA: 0s - loss: 0.0083\n",
      "Epoch 86: val_loss did not improve from 0.01680\n",
      "4/4 [==============================] - 0s 23ms/step - loss: 0.0060 - val_loss: 0.0176\n",
      "Epoch 87/200\n",
      "1/4 [======>.......................] - ETA: 0s - loss: 0.0075\n",
      "Epoch 87: val_loss did not improve from 0.01680\n",
      "4/4 [==============================] - 0s 22ms/step - loss: 0.0059 - val_loss: 0.0169\n"
     ]
    }
   ],
   "source": [
    "path_checkpoint = \"problem2_checkpoint.h5\"\n",
    "es_callback = keras.callbacks.EarlyStopping(monitor=\"val_loss\", min_delta=0, patience=5)\n",
    "\n",
    "modelckpt_callback = keras.callbacks.ModelCheckpoint(\n",
    "    monitor=\"val_loss\",\n",
    "    filepath=path_checkpoint,\n",
    "    verbose=1,\n",
    "    # 要同时保存网络结构。\n",
    "    save_weights_only=False,\n",
    "    save_best_only=True,\n",
    ")\n",
    "\n",
    "history = model.fit(\n",
    "    dataset_train,\n",
    "    epochs=epochs,\n",
    "    validation_data=dataset_val,\n",
    "    callbacks=[es_callback, modelckpt_callback],\n",
    ")"
   ]
  },
  {
   "cell_type": "markdown",
   "id": "655407b2",
   "metadata": {},
   "source": [
    "对模型训练过程的损失函数和验证损失函数进行可视化。\n",
    "- 基于matplotlib的可视化；\n",
    "- 基于plotly的可视化；\n",
    "\n",
    "挑一个好看的就行。"
   ]
  },
  {
   "cell_type": "code",
   "execution_count": 55,
   "id": "83f76fc7",
   "metadata": {},
   "outputs": [
    {
     "data": {
      "image/png": "[encoded data removed]",
      "text/plain": [
       "<Figure size 720x360 with 1 Axes>"
      ]
     },
     "metadata": {
      "needs_background": "light"
     },
     "output_type": "display_data"
    }
   ],
   "source": [
    "def visualize_loss(history, title):\n",
    "    loss = history.history[\"loss\"]\n",
    "    val_loss = history.history[\"val_loss\"]\n",
    "    epochs = range(len(loss))\n",
    "    plt.figure(figsize=(10,5))\n",
    "    plt.plot(epochs, loss, \"b\", label=\"Training loss\")\n",
    "    plt.plot(epochs, val_loss, \"r\", label=\"Validation loss\")\n",
    "    plt.title(title)\n",
    "    plt.xlabel(\"Epochs\")\n",
    "    plt.ylabel(\"Loss\")\n",
    "    plt.legend()\n",
    "    plt.show()\n",
    "\n",
    "visualize_loss(history, \"Training and Validation Loss\")"
   ]
  },
  {
   "cell_type": "code",
   "execution_count": 56,
   "id": "e4aa1fe3",
   "metadata": {},
   "outputs": [
    {
     "data": {
      "application/vnd.plotly.v1+json": {
       "config": {
        "plotlyServerURL": "https://plot.ly"
       },
       "data": [
        {
         "hovertemplate": "variable=Training loss<br>index=%{x}<br>value=%{y}<extra></extra>",
         "legendgroup": "Training loss",
         "line": {
          "color": "#636efa",
          "dash": "solid"
         },
         "marker": {
          "symbol": "circle"
         },
         "mode": "lines",
         "name": "Training loss",
         "orientation": "v",
         "showlegend": true,
         "type": "scatter",
         "x": [
          0,
          1,
          2,
          3,
          4,
          5,
          6,
          7,
          8,
          9,
          10,
          11,
          12,
          13,
          14,
          15,
          16,
          17,
          18,
          19,
          20,
          21,
          22,
          23,
          24,
          25,
          26,
          27,
          28,
          29,
          30,
          31,
          32,
          33,
          34,
          35,
          36,
          37,
          38,
          39,
          40,
          41,
          42,
          43,
          44,
          45,
          46,
          47,
          48,
          49,
          50,
          51,
          52,
          53,
          54,
          55,
          56,
          57,
          58,
          59,
          60,
          61,
          62,
          63,
          64,
          65,
          66,
          67,
          68,
          69,
          70,
          71,
          72,
          73,
          74,
          75,
          76,
          77,
          78,
          79,
          80,
          81,
          82,
          83,
          84,
          85,
          86
         ],
         "xaxis": "x",
         "y": [
          0.16233079135417938,
          0.13698166608810425,
          0.11547662317752838,
          0.09619976580142975,
          0.07855825871229172,
          0.06340328603982925,
          0.05082753673195839,
          0.04084869846701622,
          0.033745720982551575,
          0.02912912517786026,
          0.0271921269595623,
          0.02638838440179825,
          0.025744663551449776,
          0.025098824873566628,
          0.024339139461517334,
          0.023551419377326965,
          0.022957421839237213,
          0.022384677082300186,
          0.021834589540958405,
          0.021240172907710075,
          0.02066032588481903,
          0.020137658342719078,
          0.019668372347950935,
          0.01914273388683796,
          0.018661081790924072,
          0.01817929558455944,
          0.01771705597639084,
          0.0172516331076622,
          0.01680431142449379,
          0.01642199605703354,
          0.016023889183998108,
          0.015631819143891335,
          0.01525101438164711,
          0.014882906340062618,
          0.014558188617229462,
          0.014242280274629593,
          0.01395462080836296,
          0.01368265226483345,
          0.01338544487953186,
          0.013132388703525066,
          0.01288306899368763,
          0.012647693045437336,
          0.012413657270371914,
          0.012201262637972832,
          0.01201663725078106,
          0.01180324424058199,
          0.011580342426896095,
          0.011367492377758026,
          0.011210475116968155,
          0.011012183502316475,
          0.010795614682137966,
          0.010628863237798214,
          0.010453786700963974,
          0.010266185738146305,
          0.010084940120577812,
          0.009924238547682762,
          0.009772627614438534,
          0.009574377909302711,
          0.009407926350831985,
          0.009262637235224247,
          0.009093673899769783,
          0.008962015621364117,
          0.008809331804513931,
          0.008639459498226643,
          0.008507288992404938,
          0.008385876193642616,
          0.008226023986935616,
          0.008069448173046112,
          0.007960380055010319,
          0.007827258668839931,
          0.007677266839891672,
          0.007546132430434227,
          0.0074148112908005714,
          0.0072820596396923065,
          0.007160418201237917,
          0.007057450246065855,
          0.006932422984391451,
          0.006784117314964533,
          0.006710277870297432,
          0.006603678222745657,
          0.006486387923359871,
          0.0063982573337852955,
          0.006267365533858538,
          0.006171459332108498,
          0.006056677550077438,
          0.0059593189507722855,
          0.005862424615770578
         ],
         "yaxis": "y"
        },
        {
         "hovertemplate": "variable=Validation loss<br>index=%{x}<br>value=%{y}<extra></extra>",
         "legendgroup": "Validation loss",
         "line": {
          "color": "#EF553B",
          "dash": "solid"
         },
         "marker": {
          "symbol": "circle"
         },
         "mode": "lines",
         "name": "Validation loss",
         "orientation": "v",
         "showlegend": true,
         "type": "scatter",
         "x": [
          0,
          1,
          2,
          3,
          4,
          5,
          6,
          7,
          8,
          9,
          10,
          11,
          12,
          13,
          14,
          15,
          16,
          17,
          18,
          19,
          20,
          21,
          22,
          23,
          24,
          25,
          26,
          27,
          28,
          29,
          30,
          31,
          32,
          33,
          34,
          35,
          36,
          37,
          38,
          39,
          40,
          41,
          42,
          43,
          44,
          45,
          46,
          47,
          48,
          49,
          50,
          51,
          52,
          53,
          54,
          55,
          56,
          57,
          58,
          59,
          60,
          61,
          62,
          63,
          64,
          65,
          66,
          67,
          68,
          69,
          70,
          71,
          72,
          73,
          74,
          75,
          76,
          77,
          78,
          79,
          80,
          81,
          82,
          83,
          84,
          85,
          86
         ],
         "xaxis": "x",
         "y": [
          0.39470240473747253,
          0.34321534633636475,
          0.29517534375190735,
          0.25097864866256714,
          0.21103039383888245,
          0.17528466880321503,
          0.1444620043039322,
          0.11950100213289261,
          0.09990308433771133,
          0.08627230674028397,
          0.07790064811706543,
          0.07284968346357346,
          0.06940669566392899,
          0.06726241856813431,
          0.0660310909152031,
          0.0651610866189003,
          0.06319702416658401,
          0.06099792569875717,
          0.05815832316875458,
          0.05489601939916611,
          0.05235759913921356,
          0.049265969544649124,
          0.04654780402779579,
          0.04378503933548927,
          0.04196302965283394,
          0.04008927196264267,
          0.03838283196091652,
          0.03670161962509155,
          0.03485722094774246,
          0.03310728073120117,
          0.0317886658012867,
          0.03047487698495388,
          0.02943326346576214,
          0.028806472197175026,
          0.028370331972837448,
          0.02827848307788372,
          0.027732206508517265,
          0.027706889435648918,
          0.028030002489686012,
          0.027787739410996437,
          0.02781752496957779,
          0.027506811544299126,
          0.027425341308116913,
          0.02759999781847,
          0.02772430144250393,
          0.027318455278873444,
          0.026713507249951363,
          0.02677447721362114,
          0.026644276455044746,
          0.026890236884355545,
          0.026615329086780548,
          0.026531826704740524,
          0.026538608595728874,
          0.025167353451251984,
          0.024718452244997025,
          0.024717528373003006,
          0.025210393592715263,
          0.025151902809739113,
          0.025167662650346756,
          0.02476400136947632,
          0.024144524708390236,
          0.02366526797413826,
          0.023219259455800056,
          0.023243248462677002,
          0.023797906935214996,
          0.02334555797278881,
          0.02202065847814083,
          0.021736105903983116,
          0.02156253345310688,
          0.021530600264668465,
          0.02153889648616314,
          0.02114635519683361,
          0.020797744393348694,
          0.019991712644696236,
          0.01930927485227585,
          0.019026465713977814,
          0.018667330965399742,
          0.01886586658656597,
          0.018623800948262215,
          0.017524227499961853,
          0.01717430353164673,
          0.01680131070315838,
          0.01716829091310501,
          0.017648855224251747,
          0.017701342701911926,
          0.017633697018027306,
          0.016885079443454742
         ],
         "yaxis": "y"
        }
       ],
       "layout": {
        "legend": {
         "title": {
          "text": ""
         },
         "tracegroupgap": 0
        },
        "margin": {
         "t": 60
        },
        "template": {
         "data": {
          "bar": [
           {
            "error_x": {
             "color": "#2a3f5f"
            },
            "error_y": {
             "color": "#2a3f5f"
            },
            "marker": {
             "line": {
              "color": "#E5ECF6",
              "width": 0.5
             },
             "pattern": {
              "fillmode": "overlay",
              "size": 10,
              "solidity": 0.2
             }
            },
            "type": "bar"
           }
          ],
          "barpolar": [
           {
            "marker": {
             "line": {
              "color": "#E5ECF6",
              "width": 0.5
             },
             "pattern": {
              "fillmode": "overlay",
              "size": 10,
              "solidity": 0.2
             }
            },
            "type": "barpolar"
           }
          ],
          "carpet": [
           {
            "aaxis": {
             "endlinecolor": "#2a3f5f",
             "gridcolor": "white",
             "linecolor": "white",
             "minorgridcolor": "white",
             "startlinecolor": "#2a3f5f"
            },
            "baxis": {
             "endlinecolor": "#2a3f5f",
             "gridcolor": "white",
             "linecolor": "white",
             "minorgridcolor": "white",
             "startlinecolor": "#2a3f5f"
            },
            "type": "carpet"
           }
          ],
          "choropleth": [
           {
            "colorbar": {
             "outlinewidth": 0,
             "ticks": ""
            },
            "type": "choropleth"
           }
          ],
          "contour": [
           {
            "colorbar": {
             "outlinewidth": 0,
             "ticks": ""
            },
            "colorscale": [
             [
              0,
              "#0d0887"
             ],
             [
              0.1111111111111111,
              "#46039f"
             ],
             [
              0.2222222222222222,
              "#7201a8"
             ],
             [
              0.3333333333333333,
              "#9c179e"
             ],
             [
              0.4444444444444444,
              "#bd3786"
             ],
             [
              0.5555555555555556,
              "#d8576b"
             ],
             [
              0.6666666666666666,
              "#ed7953"
             ],
             [
              0.7777777777777778,
              "#fb9f3a"
             ],
             [
              0.8888888888888888,
              "#fdca26"
             ],
             [
              1,
              "#f0f921"
             ]
            ],
            "type": "contour"
           }
          ],
          "contourcarpet": [
           {
            "colorbar": {
             "outlinewidth": 0,
             "ticks": ""
            },
            "type": "contourcarpet"
           }
          ],
          "heatmap": [
           {
            "colorbar": {
             "outlinewidth": 0,
             "ticks": ""
            },
            "colorscale": [
             [
              0,
              "#0d0887"
             ],
             [
              0.1111111111111111,
              "#46039f"
             ],
             [
              0.2222222222222222,
              "#7201a8"
             ],
             [
              0.3333333333333333,
              "#9c179e"
             ],
             [
              0.4444444444444444,
              "#bd3786"
             ],
             [
              0.5555555555555556,
              "#d8576b"
             ],
             [
              0.6666666666666666,
              "#ed7953"
             ],
             [
              0.7777777777777778,
              "#fb9f3a"
             ],
             [
              0.8888888888888888,
              "#fdca26"
             ],
             [
              1,
              "#f0f921"
             ]
            ],
            "type": "heatmap"
           }
          ],
          "heatmapgl": [
           {
            "colorbar": {
             "outlinewidth": 0,
             "ticks": ""
            },
            "colorscale": [
             [
              0,
              "#0d0887"
             ],
             [
              0.1111111111111111,
              "#46039f"
             ],
             [
              0.2222222222222222,
              "#7201a8"
             ],
             [
              0.3333333333333333,
              "#9c179e"
             ],
             [
              0.4444444444444444,
              "#bd3786"
             ],
             [
              0.5555555555555556,
              "#d8576b"
             ],
             [
              0.6666666666666666,
              "#ed7953"
             ],
             [
              0.7777777777777778,
              "#fb9f3a"
             ],
             [
              0.8888888888888888,
              "#fdca26"
             ],
             [
              1,
              "#f0f921"
             ]
            ],
            "type": "heatmapgl"
           }
          ],
          "histogram": [
           {
            "marker": {
             "pattern": {
              "fillmode": "overlay",
              "size": 10,
              "solidity": 0.2
             }
            },
            "type": "histogram"
           }
          ],
          "histogram2d": [
           {
            "colorbar": {
             "outlinewidth": 0,
             "ticks": ""
            },
            "colorscale": [
             [
              0,
              "#0d0887"
             ],
             [
              0.1111111111111111,
              "#46039f"
             ],
             [
              0.2222222222222222,
              "#7201a8"
             ],
             [
              0.3333333333333333,
              "#9c179e"
             ],
             [
              0.4444444444444444,
              "#bd3786"
             ],
             [
              0.5555555555555556,
              "#d8576b"
             ],
             [
              0.6666666666666666,
              "#ed7953"
             ],
             [
              0.7777777777777778,
              "#fb9f3a"
             ],
             [
              0.8888888888888888,
              "#fdca26"
             ],
             [
              1,
              "#f0f921"
             ]
            ],
            "type": "histogram2d"
           }
          ],
          "histogram2dcontour": [
           {
            "colorbar": {
             "outlinewidth": 0,
             "ticks": ""
            },
            "colorscale": [
             [
              0,
              "#0d0887"
             ],
             [
              0.1111111111111111,
              "#46039f"
             ],
             [
              0.2222222222222222,
              "#7201a8"
             ],
             [
              0.3333333333333333,
              "#9c179e"
             ],
             [
              0.4444444444444444,
              "#bd3786"
             ],
             [
              0.5555555555555556,
              "#d8576b"
             ],
             [
              0.6666666666666666,
              "#ed7953"
             ],
             [
              0.7777777777777778,
              "#fb9f3a"
             ],
             [
              0.8888888888888888,
              "#fdca26"
             ],
             [
              1,
              "#f0f921"
             ]
            ],
            "type": "histogram2dcontour"
           }
          ],
          "mesh3d": [
           {
            "colorbar": {
             "outlinewidth": 0,
             "ticks": ""
            },
            "type": "mesh3d"
           }
          ],
          "parcoords": [
           {
            "line": {
             "colorbar": {
              "outlinewidth": 0,
              "ticks": ""
             }
            },
            "type": "parcoords"
           }
          ],
          "pie": [
           {
            "automargin": true,
            "type": "pie"
           }
          ],
          "scatter": [
           {
            "fillpattern": {
             "fillmode": "overlay",
             "size": 10,
             "solidity": 0.2
            },
            "type": "scatter"
           }
          ],
          "scatter3d": [
           {
            "line": {
             "colorbar": {
              "outlinewidth": 0,
              "ticks": ""
             }
            },
            "marker": {
             "colorbar": {
              "outlinewidth": 0,
              "ticks": ""
             }
            },
            "type": "scatter3d"
           }
          ],
          "scattercarpet": [
           {
            "marker": {
             "colorbar": {
              "outlinewidth": 0,
              "ticks": ""
             }
            },
            "type": "scattercarpet"
           }
          ],
          "scattergeo": [
           {
            "marker": {
             "colorbar": {
              "outlinewidth": 0,
              "ticks": ""
             }
            },
            "type": "scattergeo"
           }
          ],
          "scattergl": [
           {
            "marker": {
             "colorbar": {
              "outlinewidth": 0,
              "ticks": ""
             }
            },
            "type": "scattergl"
           }
          ],
          "scattermapbox": [
           {
            "marker": {
             "colorbar": {
              "outlinewidth": 0,
              "ticks": ""
             }
            },
            "type": "scattermapbox"
           }
          ],
          "scatterpolar": [
           {
            "marker": {
             "colorbar": {
              "outlinewidth": 0,
              "ticks": ""
             }
            },
            "type": "scatterpolar"
           }
          ],
          "scatterpolargl": [
           {
            "marker": {
             "colorbar": {
              "outlinewidth": 0,
              "ticks": ""
             }
            },
            "type": "scatterpolargl"
           }
          ],
          "scatterternary": [
           {
            "marker": {
             "colorbar": {
              "outlinewidth": 0,
              "ticks": ""
             }
            },
            "type": "scatterternary"
           }
          ],
          "surface": [
           {
            "colorbar": {
             "outlinewidth": 0,
             "ticks": ""
            },
            "colorscale": [
             [
              0,
              "#0d0887"
             ],
             [
              0.1111111111111111,
              "#46039f"
             ],
             [
              0.2222222222222222,
              "#7201a8"
             ],
             [
              0.3333333333333333,
              "#9c179e"
             ],
             [
              0.4444444444444444,
              "#bd3786"
             ],
             [
              0.5555555555555556,
              "#d8576b"
             ],
             [
              0.6666666666666666,
              "#ed7953"
             ],
             [
              0.7777777777777778,
              "#fb9f3a"
             ],
             [
              0.8888888888888888,
              "#fdca26"
             ],
             [
              1,
              "#f0f921"
             ]
            ],
            "type": "surface"
           }
          ],
          "table": [
           {
            "cells": {
             "fill": {
              "color": "#EBF0F8"
             },
             "line": {
              "color": "white"
             }
            },
            "header": {
             "fill": {
              "color": "#C8D4E3"
             },
             "line": {
              "color": "white"
             }
            },
            "type": "table"
           }
          ]
         },
         "layout": {
          "annotationdefaults": {
           "arrowcolor": "#2a3f5f",
           "arrowhead": 0,
           "arrowwidth": 1
          },
          "autotypenumbers": "strict",
          "coloraxis": {
           "colorbar": {
            "outlinewidth": 0,
            "ticks": ""
           }
          },
          "colorscale": {
           "diverging": [
            [
             0,
             "#8e0152"
            ],
            [
             0.1,
             "#c51b7d"
            ],
            [
             0.2,
             "#de77ae"
            ],
            [
             0.3,
             "#f1b6da"
            ],
            [
             0.4,
             "#fde0ef"
            ],
            [
             0.5,
             "#f7f7f7"
            ],
            [
             0.6,
             "#e6f5d0"
            ],
            [
             0.7,
             "#b8e186"
            ],
            [
             0.8,
             "#7fbc41"
            ],
            [
             0.9,
             "#4d9221"
            ],
            [
             1,
             "#276419"
            ]
           ],
           "sequential": [
            [
             0,
             "#0d0887"
            ],
            [
             0.1111111111111111,
             "#46039f"
            ],
            [
             0.2222222222222222,
             "#7201a8"
            ],
            [
             0.3333333333333333,
             "#9c179e"
            ],
            [
             0.4444444444444444,
             "#bd3786"
            ],
            [
             0.5555555555555556,
             "#d8576b"
            ],
            [
             0.6666666666666666,
             "#ed7953"
            ],
            [
             0.7777777777777778,
             "#fb9f3a"
            ],
            [
             0.8888888888888888,
             "#fdca26"
            ],
            [
             1,
             "#f0f921"
            ]
           ],
           "sequentialminus": [
            [
             0,
             "#0d0887"
            ],
            [
             0.1111111111111111,
             "#46039f"
            ],
            [
             0.2222222222222222,
             "#7201a8"
            ],
            [
             0.3333333333333333,
             "#9c179e"
            ],
            [
             0.4444444444444444,
             "#bd3786"
            ],
            [
             0.5555555555555556,
             "#d8576b"
            ],
            [
             0.6666666666666666,
             "#ed7953"
            ],
            [
             0.7777777777777778,
             "#fb9f3a"
            ],
            [
             0.8888888888888888,
             "#fdca26"
            ],
            [
             1,
             "#f0f921"
            ]
           ]
          },
          "colorway": [
           "#636efa",
           "#EF553B",
           "#00cc96",
           "#ab63fa",
           "#FFA15A",
           "#19d3f3",
           "#FF6692",
           "#B6E880",
           "#FF97FF",
           "#FECB52"
          ],
          "font": {
           "color": "#2a3f5f"
          },
          "geo": {
           "bgcolor": "white",
           "lakecolor": "white",
           "landcolor": "#E5ECF6",
           "showlakes": true,
           "showland": true,
           "subunitcolor": "white"
          },
          "hoverlabel": {
           "align": "left"
          },
          "hovermode": "closest",
          "mapbox": {
           "style": "light"
          },
          "paper_bgcolor": "white",
          "plot_bgcolor": "#E5ECF6",
          "polar": {
           "angularaxis": {
            "gridcolor": "white",
            "linecolor": "white",
            "ticks": ""
           },
           "bgcolor": "#E5ECF6",
           "radialaxis": {
            "gridcolor": "white",
            "linecolor": "white",
            "ticks": ""
           }
          },
          "scene": {
           "xaxis": {
            "backgroundcolor": "#E5ECF6",
            "gridcolor": "white",
            "gridwidth": 2,
            "linecolor": "white",
            "showbackground": true,
            "ticks": "",
            "zerolinecolor": "white"
           },
           "yaxis": {
            "backgroundcolor": "#E5ECF6",
            "gridcolor": "white",
            "gridwidth": 2,
            "linecolor": "white",
            "showbackground": true,
            "ticks": "",
            "zerolinecolor": "white"
           },
           "zaxis": {
            "backgroundcolor": "#E5ECF6",
            "gridcolor": "white",
            "gridwidth": 2,
            "linecolor": "white",
            "showbackground": true,
            "ticks": "",
            "zerolinecolor": "white"
           }
          },
          "shapedefaults": {
           "line": {
            "color": "#2a3f5f"
           }
          },
          "ternary": {
           "aaxis": {
            "gridcolor": "white",
            "linecolor": "white",
            "ticks": ""
           },
           "baxis": {
            "gridcolor": "white",
            "linecolor": "white",
            "ticks": ""
           },
           "bgcolor": "#E5ECF6",
           "caxis": {
            "gridcolor": "white",
            "linecolor": "white",
            "ticks": ""
           }
          },
          "title": {
           "x": 0.05
          },
          "xaxis": {
           "automargin": true,
           "gridcolor": "white",
           "linecolor": "white",
           "ticks": "",
           "title": {
            "standoff": 15
           },
           "zerolinecolor": "white",
           "zerolinewidth": 2
          },
          "yaxis": {
           "automargin": true,
           "gridcolor": "white",
           "linecolor": "white",
           "ticks": "",
           "title": {
            "standoff": 15
           },
           "zerolinecolor": "white",
           "zerolinewidth": 2
          }
         }
        },
        "title": {
         "text": "Training and Validation Loss"
        },
        "xaxis": {
         "anchor": "y",
         "domain": [
          0,
          1
         ],
         "title": {
          "text": "Epochs"
         }
        },
        "yaxis": {
         "anchor": "x",
         "domain": [
          0,
          1
         ],
         "title": {
          "text": "Loss"
         }
        }
       }
      },
      "text/html": [
       "<div>                            <div id=\"0f8005c1-ccc9-47cc-8f35-5921b96f4cf6\" class=\"plotly-graph-div\" style=\"height:525px; width:100%;\"></div>            <script type=\"text/javascript\">                require([\"plotly\"], function(Plotly) {                    window.PLOTLYENV=window.PLOTLYENV || {};                                    if (document.getElementById(\"0f8005c1-ccc9-47cc-8f35-5921b96f4cf6\")) {                    Plotly.newPlot(                        \"0f8005c1-ccc9-47cc-8f35-5921b96f4cf6\",                        [{\"hovertemplate\":\"variable=Training loss<br>index=%{x}<br>value=%{y}<extra></extra>\",\"legendgroup\":\"Training loss\",\"line\":{\"color\":\"#636efa\",\"dash\":\"solid\"},\"marker\":{\"symbol\":\"circle\"},\"mode\":\"lines\",\"name\":\"Training loss\",\"orientation\":\"v\",\"showlegend\":true,\"x\":[0,1,2,3,4,5,6,7,8,9,10,11,12,13,14,15,16,17,18,19,20,21,22,23,24,25,26,27,28,29,30,31,32,33,34,35,36,37,38,39,40,41,42,43,44,45,46,47,48,49,50,51,52,53,54,55,56,57,58,59,60,61,62,63,64,65,66,67,68,69,70,71,72,73,74,75,76,77,78,79,80,81,82,83,84,85,86],\"xaxis\":\"x\",\"y\":[0.16233079135417938,0.13698166608810425,0.11547662317752838,0.09619976580142975,0.07855825871229172,0.06340328603982925,0.05082753673195839,0.04084869846701622,0.033745720982551575,0.02912912517786026,0.0271921269595623,0.02638838440179825,0.025744663551449776,0.025098824873566628,0.024339139461517334,0.023551419377326965,0.022957421839237213,0.022384677082300186,0.021834589540958405,0.021240172907710075,0.02066032588481903,0.020137658342719078,0.019668372347950935,0.01914273388683796,0.018661081790924072,0.01817929558455944,0.01771705597639084,0.0172516331076622,0.01680431142449379,0.01642199605703354,0.016023889183998108,0.015631819143891335,0.01525101438164711,0.014882906340062618,0.014558188617229462,0.014242280274629593,0.01395462080836296,0.01368265226483345,0.01338544487953186,0.013132388703525066,0.01288306899368763,0.012647693045437336,0.012413657270371914,0.012201262637972832,0.01201663725078106,0.01180324424058199,0.011580342426896095,0.011367492377758026,0.011210475116968155,0.011012183502316475,0.010795614682137966,0.010628863237798214,0.010453786700963974,0.010266185738146305,0.010084940120577812,0.009924238547682762,0.009772627614438534,0.009574377909302711,0.009407926350831985,0.009262637235224247,0.009093673899769783,0.008962015621364117,0.008809331804513931,0.008639459498226643,0.008507288992404938,0.008385876193642616,0.008226023986935616,0.008069448173046112,0.007960380055010319,0.007827258668839931,0.007677266839891672,0.007546132430434227,0.0074148112908005714,0.0072820596396923065,0.007160418201237917,0.007057450246065855,0.006932422984391451,0.006784117314964533,0.006710277870297432,0.006603678222745657,0.006486387923359871,0.0063982573337852955,0.006267365533858538,0.006171459332108498,0.006056677550077438,0.0059593189507722855,0.005862424615770578],\"yaxis\":\"y\",\"type\":\"scatter\"},{\"hovertemplate\":\"variable=Validation loss<br>index=%{x}<br>value=%{y}<extra></extra>\",\"legendgroup\":\"Validation loss\",\"line\":{\"color\":\"#EF553B\",\"dash\":\"solid\"},\"marker\":{\"symbol\":\"circle\"},\"mode\":\"lines\",\"name\":\"Validation loss\",\"orientation\":\"v\",\"showlegend\":true,\"x\":[0,1,2,3,4,5,6,7,8,9,10,11,12,13,14,15,16,17,18,19,20,21,22,23,24,25,26,27,28,29,30,31,32,33,34,35,36,37,38,39,40,41,42,43,44,45,46,47,48,49,50,51,52,53,54,55,56,57,58,59,60,61,62,63,64,65,66,67,68,69,70,71,72,73,74,75,76,77,78,79,80,81,82,83,84,85,86],\"xaxis\":\"x\",\"y\":[0.39470240473747253,0.34321534633636475,0.29517534375190735,0.25097864866256714,0.21103039383888245,0.17528466880321503,0.1444620043039322,0.11950100213289261,0.09990308433771133,0.08627230674028397,0.07790064811706543,0.07284968346357346,0.06940669566392899,0.06726241856813431,0.0660310909152031,0.0651610866189003,0.06319702416658401,0.06099792569875717,0.05815832316875458,0.05489601939916611,0.05235759913921356,0.049265969544649124,0.04654780402779579,0.04378503933548927,0.04196302965283394,0.04008927196264267,0.03838283196091652,0.03670161962509155,0.03485722094774246,0.03310728073120117,0.0317886658012867,0.03047487698495388,0.02943326346576214,0.028806472197175026,0.028370331972837448,0.02827848307788372,0.027732206508517265,0.027706889435648918,0.028030002489686012,0.027787739410996437,0.02781752496957779,0.027506811544299126,0.027425341308116913,0.02759999781847,0.02772430144250393,0.027318455278873444,0.026713507249951363,0.02677447721362114,0.026644276455044746,0.026890236884355545,0.026615329086780548,0.026531826704740524,0.026538608595728874,0.025167353451251984,0.024718452244997025,0.024717528373003006,0.025210393592715263,0.025151902809739113,0.025167662650346756,0.02476400136947632,0.024144524708390236,0.02366526797413826,0.023219259455800056,0.023243248462677002,0.023797906935214996,0.02334555797278881,0.02202065847814083,0.021736105903983116,0.02156253345310688,0.021530600264668465,0.02153889648616314,0.02114635519683361,0.020797744393348694,0.019991712644696236,0.01930927485227585,0.019026465713977814,0.018667330965399742,0.01886586658656597,0.018623800948262215,0.017524227499961853,0.01717430353164673,0.01680131070315838,0.01716829091310501,0.017648855224251747,0.017701342701911926,0.017633697018027306,0.016885079443454742],\"yaxis\":\"y\",\"type\":\"scatter\"}],                        {\"template\":{\"data\":{\"histogram2dcontour\":[{\"type\":\"histogram2dcontour\",\"colorbar\":{\"outlinewidth\":0,\"ticks\":\"\"},\"colorscale\":[[0.0,\"#0d0887\"],[0.1111111111111111,\"#46039f\"],[0.2222222222222222,\"#7201a8\"],[0.3333333333333333,\"#9c179e\"],[0.4444444444444444,\"#bd3786\"],[0.5555555555555556,\"#d8576b\"],[0.6666666666666666,\"#ed7953\"],[0.7777777777777778,\"#fb9f3a\"],[0.8888888888888888,\"#fdca26\"],[1.0,\"#f0f921\"]]}],\"choropleth\":[{\"type\":\"choropleth\",\"colorbar\":{\"outlinewidth\":0,\"ticks\":\"\"}}],\"histogram2d\":[{\"type\":\"histogram2d\",\"colorbar\":{\"outlinewidth\":0,\"ticks\":\"\"},\"colorscale\":[[0.0,\"#0d0887\"],[0.1111111111111111,\"#46039f\"],[0.2222222222222222,\"#7201a8\"],[0.3333333333333333,\"#9c179e\"],[0.4444444444444444,\"#bd3786\"],[0.5555555555555556,\"#d8576b\"],[0.6666666666666666,\"#ed7953\"],[0.7777777777777778,\"#fb9f3a\"],[0.8888888888888888,\"#fdca26\"],[1.0,\"#f0f921\"]]}],\"heatmap\":[{\"type\":\"heatmap\",\"colorbar\":{\"outlinewidth\":0,\"ticks\":\"\"},\"colorscale\":[[0.0,\"#0d0887\"],[0.1111111111111111,\"#46039f\"],[0.2222222222222222,\"#7201a8\"],[0.3333333333333333,\"#9c179e\"],[0.4444444444444444,\"#bd3786\"],[0.5555555555555556,\"#d8576b\"],[0.6666666666666666,\"#ed7953\"],[0.7777777777777778,\"#fb9f3a\"],[0.8888888888888888,\"#fdca26\"],[1.0,\"#f0f921\"]]}],\"heatmapgl\":[{\"type\":\"heatmapgl\",\"colorbar\":{\"outlinewidth\":0,\"ticks\":\"\"},\"colorscale\":[[0.0,\"#0d0887\"],[0.1111111111111111,\"#46039f\"],[0.2222222222222222,\"#7201a8\"],[0.3333333333333333,\"#9c179e\"],[0.4444444444444444,\"#bd3786\"],[0.5555555555555556,\"#d8576b\"],[0.6666666666666666,\"#ed7953\"],[0.7777777777777778,\"#fb9f3a\"],[0.8888888888888888,\"#fdca26\"],[1.0,\"#f0f921\"]]}],\"contourcarpet\":[{\"type\":\"contourcarpet\",\"colorbar\":{\"outlinewidth\":0,\"ticks\":\"\"}}],\"contour\":[{\"type\":\"contour\",\"colorbar\":{\"outlinewidth\":0,\"ticks\":\"\"},\"colorscale\":[[0.0,\"#0d0887\"],[0.1111111111111111,\"#46039f\"],[0.2222222222222222,\"#7201a8\"],[0.3333333333333333,\"#9c179e\"],[0.4444444444444444,\"#bd3786\"],[0.5555555555555556,\"#d8576b\"],[0.6666666666666666,\"#ed7953\"],[0.7777777777777778,\"#fb9f3a\"],[0.8888888888888888,\"#fdca26\"],[1.0,\"#f0f921\"]]}],\"surface\":[{\"type\":\"surface\",\"colorbar\":{\"outlinewidth\":0,\"ticks\":\"\"},\"colorscale\":[[0.0,\"#0d0887\"],[0.1111111111111111,\"#46039f\"],[0.2222222222222222,\"#7201a8\"],[0.3333333333333333,\"#9c179e\"],[0.4444444444444444,\"#bd3786\"],[0.5555555555555556,\"#d8576b\"],[0.6666666666666666,\"#ed7953\"],[0.7777777777777778,\"#fb9f3a\"],[0.8888888888888888,\"#fdca26\"],[1.0,\"#f0f921\"]]}],\"mesh3d\":[{\"type\":\"mesh3d\",\"colorbar\":{\"outlinewidth\":0,\"ticks\":\"\"}}],\"scatter\":[{\"fillpattern\":{\"fillmode\":\"overlay\",\"size\":10,\"solidity\":0.2},\"type\":\"scatter\"}],\"parcoords\":[{\"type\":\"parcoords\",\"line\":{\"colorbar\":{\"outlinewidth\":0,\"ticks\":\"\"}}}],\"scatterpolargl\":[{\"type\":\"scatterpolargl\",\"marker\":{\"colorbar\":{\"outlinewidth\":0,\"ticks\":\"\"}}}],\"bar\":[{\"error_x\":{\"color\":\"#2a3f5f\"},\"error_y\":{\"color\":\"#2a3f5f\"},\"marker\":{\"line\":{\"color\":\"#E5ECF6\",\"width\":0.5},\"pattern\":{\"fillmode\":\"overlay\",\"size\":10,\"solidity\":0.2}},\"type\":\"bar\"}],\"scattergeo\":[{\"type\":\"scattergeo\",\"marker\":{\"colorbar\":{\"outlinewidth\":0,\"ticks\":\"\"}}}],\"scatterpolar\":[{\"type\":\"scatterpolar\",\"marker\":{\"colorbar\":{\"outlinewidth\":0,\"ticks\":\"\"}}}],\"histogram\":[{\"marker\":{\"pattern\":{\"fillmode\":\"overlay\",\"size\":10,\"solidity\":0.2}},\"type\":\"histogram\"}],\"scattergl\":[{\"type\":\"scattergl\",\"marker\":{\"colorbar\":{\"outlinewidth\":0,\"ticks\":\"\"}}}],\"scatter3d\":[{\"type\":\"scatter3d\",\"line\":{\"colorbar\":{\"outlinewidth\":0,\"ticks\":\"\"}},\"marker\":{\"colorbar\":{\"outlinewidth\":0,\"ticks\":\"\"}}}],\"scattermapbox\":[{\"type\":\"scattermapbox\",\"marker\":{\"colorbar\":{\"outlinewidth\":0,\"ticks\":\"\"}}}],\"scatterternary\":[{\"type\":\"scatterternary\",\"marker\":{\"colorbar\":{\"outlinewidth\":0,\"ticks\":\"\"}}}],\"scattercarpet\":[{\"type\":\"scattercarpet\",\"marker\":{\"colorbar\":{\"outlinewidth\":0,\"ticks\":\"\"}}}],\"carpet\":[{\"aaxis\":{\"endlinecolor\":\"#2a3f5f\",\"gridcolor\":\"white\",\"linecolor\":\"white\",\"minorgridcolor\":\"white\",\"startlinecolor\":\"#2a3f5f\"},\"baxis\":{\"endlinecolor\":\"#2a3f5f\",\"gridcolor\":\"white\",\"linecolor\":\"white\",\"minorgridcolor\":\"white\",\"startlinecolor\":\"#2a3f5f\"},\"type\":\"carpet\"}],\"table\":[{\"cells\":{\"fill\":{\"color\":\"#EBF0F8\"},\"line\":{\"color\":\"white\"}},\"header\":{\"fill\":{\"color\":\"#C8D4E3\"},\"line\":{\"color\":\"white\"}},\"type\":\"table\"}],\"barpolar\":[{\"marker\":{\"line\":{\"color\":\"#E5ECF6\",\"width\":0.5},\"pattern\":{\"fillmode\":\"overlay\",\"size\":10,\"solidity\":0.2}},\"type\":\"barpolar\"}],\"pie\":[{\"automargin\":true,\"type\":\"pie\"}]},\"layout\":{\"autotypenumbers\":\"strict\",\"colorway\":[\"#636efa\",\"#EF553B\",\"#00cc96\",\"#ab63fa\",\"#FFA15A\",\"#19d3f3\",\"#FF6692\",\"#B6E880\",\"#FF97FF\",\"#FECB52\"],\"font\":{\"color\":\"#2a3f5f\"},\"hovermode\":\"closest\",\"hoverlabel\":{\"align\":\"left\"},\"paper_bgcolor\":\"white\",\"plot_bgcolor\":\"#E5ECF6\",\"polar\":{\"bgcolor\":\"#E5ECF6\",\"angularaxis\":{\"gridcolor\":\"white\",\"linecolor\":\"white\",\"ticks\":\"\"},\"radialaxis\":{\"gridcolor\":\"white\",\"linecolor\":\"white\",\"ticks\":\"\"}},\"ternary\":{\"bgcolor\":\"#E5ECF6\",\"aaxis\":{\"gridcolor\":\"white\",\"linecolor\":\"white\",\"ticks\":\"\"},\"baxis\":{\"gridcolor\":\"white\",\"linecolor\":\"white\",\"ticks\":\"\"},\"caxis\":{\"gridcolor\":\"white\",\"linecolor\":\"white\",\"ticks\":\"\"}},\"coloraxis\":{\"colorbar\":{\"outlinewidth\":0,\"ticks\":\"\"}},\"colorscale\":{\"sequential\":[[0.0,\"#0d0887\"],[0.1111111111111111,\"#46039f\"],[0.2222222222222222,\"#7201a8\"],[0.3333333333333333,\"#9c179e\"],[0.4444444444444444,\"#bd3786\"],[0.5555555555555556,\"#d8576b\"],[0.6666666666666666,\"#ed7953\"],[0.7777777777777778,\"#fb9f3a\"],[0.8888888888888888,\"#fdca26\"],[1.0,\"#f0f921\"]],\"sequentialminus\":[[0.0,\"#0d0887\"],[0.1111111111111111,\"#46039f\"],[0.2222222222222222,\"#7201a8\"],[0.3333333333333333,\"#9c179e\"],[0.4444444444444444,\"#bd3786\"],[0.5555555555555556,\"#d8576b\"],[0.6666666666666666,\"#ed7953\"],[0.7777777777777778,\"#fb9f3a\"],[0.8888888888888888,\"#fdca26\"],[1.0,\"#f0f921\"]],\"diverging\":[[0,\"#8e0152\"],[0.1,\"#c51b7d\"],[0.2,\"#de77ae\"],[0.3,\"#f1b6da\"],[0.4,\"#fde0ef\"],[0.5,\"#f7f7f7\"],[0.6,\"#e6f5d0\"],[0.7,\"#b8e186\"],[0.8,\"#7fbc41\"],[0.9,\"#4d9221\"],[1,\"#276419\"]]},\"xaxis\":{\"gridcolor\":\"white\",\"linecolor\":\"white\",\"ticks\":\"\",\"title\":{\"standoff\":15},\"zerolinecolor\":\"white\",\"automargin\":true,\"zerolinewidth\":2},\"yaxis\":{\"gridcolor\":\"white\",\"linecolor\":\"white\",\"ticks\":\"\",\"title\":{\"standoff\":15},\"zerolinecolor\":\"white\",\"automargin\":true,\"zerolinewidth\":2},\"scene\":{\"xaxis\":{\"backgroundcolor\":\"#E5ECF6\",\"gridcolor\":\"white\",\"linecolor\":\"white\",\"showbackground\":true,\"ticks\":\"\",\"zerolinecolor\":\"white\",\"gridwidth\":2},\"yaxis\":{\"backgroundcolor\":\"#E5ECF6\",\"gridcolor\":\"white\",\"linecolor\":\"white\",\"showbackground\":true,\"ticks\":\"\",\"zerolinecolor\":\"white\",\"gridwidth\":2},\"zaxis\":{\"backgroundcolor\":\"#E5ECF6\",\"gridcolor\":\"white\",\"linecolor\":\"white\",\"showbackground\":true,\"ticks\":\"\",\"zerolinecolor\":\"white\",\"gridwidth\":2}},\"shapedefaults\":{\"line\":{\"color\":\"#2a3f5f\"}},\"annotationdefaults\":{\"arrowcolor\":\"#2a3f5f\",\"arrowhead\":0,\"arrowwidth\":1},\"geo\":{\"bgcolor\":\"white\",\"landcolor\":\"#E5ECF6\",\"subunitcolor\":\"white\",\"showland\":true,\"showlakes\":true,\"lakecolor\":\"white\"},\"title\":{\"x\":0.05},\"mapbox\":{\"style\":\"light\"}}},\"xaxis\":{\"anchor\":\"y\",\"domain\":[0.0,1.0],\"title\":{\"text\":\"Epochs\"}},\"yaxis\":{\"anchor\":\"x\",\"domain\":[0.0,1.0],\"title\":{\"text\":\"Loss\"}},\"legend\":{\"title\":{\"text\":\"\"},\"tracegroupgap\":0},\"margin\":{\"t\":60},\"title\":{\"text\":\"Training and Validation Loss\"}},                        {\"responsive\": true}                    ).then(function(){\n",
       "                            \n",
       "var gd = document.getElementById('0f8005c1-ccc9-47cc-8f35-5921b96f4cf6');\n",
       "var x = new MutationObserver(function (mutations, observer) {{\n",
       "        var display = window.getComputedStyle(gd).display;\n",
       "        if (!display || display === 'none') {{\n",
       "            console.log([gd, 'removed!']);\n",
       "            Plotly.purge(gd);\n",
       "            observer.disconnect();\n",
       "        }}\n",
       "}});\n",
       "\n",
       "// Listen for the removal of the full notebook cells\n",
       "var notebookContainer = gd.closest('#notebook-container');\n",
       "if (notebookContainer) {{\n",
       "    x.observe(notebookContainer, {childList: true});\n",
       "}}\n",
       "\n",
       "// Listen for the clearing of the current output cell\n",
       "var outputEl = gd.closest('.output');\n",
       "if (outputEl) {{\n",
       "    x.observe(outputEl, {childList: true});\n",
       "}}\n",
       "\n",
       "                        })                };                });            </script>        </div>"
      ]
     },
     "metadata": {},
     "output_type": "display_data"
    }
   ],
   "source": [
    "def visualize_loss_px(history, title):\n",
    "    loss = history.history[\"loss\"]\n",
    "    val_loss = history.history[\"val_loss\"]\n",
    "    df=pd.DataFrame(data={'Training loss': loss, 'Validation loss': val_loss})\n",
    "    return px.line(df, y=df.columns).update_layout(xaxis_title='Epochs', yaxis_title='Loss',legend_title='',title=title)\n",
    "\n",
    "visualize_loss_px(history, \"Training and Validation Loss\")"
   ]
  }
 ],
 "metadata": {
  "kernelspec": {
   "display_name": "Python 3 (ipykernel)",
   "language": "python",
   "name": "python3"
  },
  "language_info": {
   "codemirror_mode": {
    "name": "ipython",
    "version": 3
   },
   "file_extension": ".py",
   "mimetype": "text/x-python",
   "name": "python",
   "nbconvert_exporter": "python",
   "pygments_lexer": "ipython3",
   "version": "3.9.7"
  }
 },
 "nbformat": 4,
 "nbformat_minor": 5
}

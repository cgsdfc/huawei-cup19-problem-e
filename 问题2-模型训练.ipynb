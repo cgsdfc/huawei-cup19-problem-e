{
 "cells": [
  {
   "cell_type": "code",
   "execution_count": 17,
   "id": "74d806f4",
   "metadata": {},
   "outputs": [],
   "source": [
    "import pandas as pd\n",
    "import numpy as np\n",
    "import seaborn as sns\n",
    "from pathlib import Path as P\n",
    "import matplotlib.pyplot as plt\n",
    "plt.rcParams['font.sans-serif'] = ['KaiTi', 'SimHei', 'FangSong']  # 汉字字体,优先使用楷体，如果找不到楷体，则使用黑体\n",
    "plt.rcParams['font.size'] = 12  # 字体大小\n",
    "plt.rcParams['axes.unicode_minus'] = False  # 正常显示负号\n",
    "from collections import defaultdict\n",
    "import plotly.express as px\n",
    "import pickle\n",
    "from sklearn.preprocessing import StandardScaler, MinMaxScaler\n",
    "from sklearn.model_selection import train_test_split\n",
    "\n",
    "import tensorflow.keras as keras"
   ]
  },
  {
   "cell_type": "code",
   "execution_count": 18,
   "id": "86f3d14f",
   "metadata": {},
   "outputs": [],
   "source": [
    "learning_rate=0.001\n",
    "train_size=0.8\n",
    "seqlen=12\n",
    "bs=32\n",
    "epochs=200"
   ]
  },
  {
   "cell_type": "markdown",
   "id": "42f343cd",
   "metadata": {},
   "source": [
    "这些是模型的超参数。\n",
    "- learning_rate 是学习率，控制模型收敛的快慢，太大了模型容易发散，太小了模型收敛很慢；\n",
    "- train_size 训练集占整个数据集的比例，一般是28开；\n",
    "- seqlen：序列长度，在时序建模中，就是用前几个样本来预测当前样本；\n",
    "- bs：batch size，批量大小，随机梯度下降算法SGD中，每次用来估计梯度的训练样本数量；\n",
    "考虑到数据集本身只有100多个样本，批量不用太大；\n",
    "- epochs：训练的轮数，即迭代次数；"
   ]
  },
  {
   "cell_type": "code",
   "execution_count": 19,
   "id": "e2d95214",
   "metadata": {},
   "outputs": [],
   "source": [
    "df=pd.read_csv('问题2-训练数据-归一化.csv',index_col='time')"
   ]
  },
  {
   "cell_type": "code",
   "execution_count": 20,
   "id": "cc1bfb7a",
   "metadata": {},
   "outputs": [],
   "source": [
    "df_train, df_val = train_test_split(df, train_size=train_size, shuffle=True)"
   ]
  },
  {
   "cell_type": "markdown",
   "id": "2969f38d",
   "metadata": {},
   "source": [
    "将数据集分割为训练集和验证集，二者没有交集，训练集用来训练模型，验证集用来确保模型没有过拟合。"
   ]
  },
  {
   "cell_type": "code",
   "execution_count": 21,
   "id": "6d681a1a",
   "metadata": {},
   "outputs": [
    {
     "data": {
      "text/plain": [
       "((98, 6), (25, 6))"
      ]
     },
     "execution_count": 21,
     "metadata": {},
     "output_type": "execute_result"
    }
   ],
   "source": [
    "feature_size=df_train.shape[1]\n",
    "df_train.shape, df_val.shape"
   ]
  },
  {
   "cell_type": "code",
   "execution_count": 22,
   "id": "7324e26a",
   "metadata": {},
   "outputs": [],
   "source": [
    "dataset_train = keras.preprocessing.timeseries_dataset_from_array(\n",
    "    df_train.values, df_train.values, sequence_length=seqlen, batch_size=bs)\n",
    "dataset_val = keras.preprocessing.timeseries_dataset_from_array(\n",
    "    df_val.values, df_val.values, sequence_length=seqlen, batch_size=bs)"
   ]
  },
  {
   "cell_type": "markdown",
   "id": "ee8c78d2",
   "metadata": {},
   "source": [
    "利用keras的接口构造时序模型需要的时序数据集。"
   ]
  },
  {
   "cell_type": "code",
   "execution_count": 23,
   "id": "f086a78f",
   "metadata": {},
   "outputs": [
    {
     "data": {
      "text/plain": [
       "(<BatchDataset element_spec=(TensorSpec(shape=(None, None, 6), dtype=tf.float64, name=None), TensorSpec(shape=(None, 6), dtype=tf.float64, name=None))>,\n",
       " <BatchDataset element_spec=(TensorSpec(shape=(None, None, 6), dtype=tf.float64, name=None), TensorSpec(shape=(None, 6), dtype=tf.float64, name=None))>)"
      ]
     },
     "execution_count": 23,
     "metadata": {},
     "output_type": "execute_result"
    }
   ],
   "source": [
    "dataset_train, dataset_val"
   ]
  },
  {
   "cell_type": "markdown",
   "id": "dc88903d",
   "metadata": {},
   "source": [
    "构建一个单层的LSTM模型。LSTM是一种专门用来建模时序数据的神经网络模型，即长短期记忆（Long Short Term Memory）。\n",
    "可以展开说说理论。"
   ]
  },
  {
   "cell_type": "code",
   "execution_count": 24,
   "id": "043354e5",
   "metadata": {},
   "outputs": [
    {
     "name": "stdout",
     "output_type": "stream",
     "text": [
      "Model: \"model_1\"\n",
      "_________________________________________________________________\n",
      " Layer (type)                Output Shape              Param #   \n",
      "=================================================================\n",
      " input_4 (InputLayer)        [(None, 12, 6)]           0         \n",
      "                                                                 \n",
      " lstm_3 (LSTM)               (None, 4)                 176       \n",
      "                                                                 \n",
      " dropout_1 (Dropout)         (None, 4)                 0         \n",
      "                                                                 \n",
      " dense_2 (Dense)             (None, 6)                 30        \n",
      "                                                                 \n",
      "=================================================================\n",
      "Total params: 206\n",
      "Trainable params: 206\n",
      "Non-trainable params: 0\n",
      "_________________________________________________________________\n"
     ]
    }
   ],
   "source": [
    "inputs = keras.layers.Input(shape=(seqlen, feature_size))\n",
    "lstm_out = keras.layers.LSTM(4)(inputs)\n",
    "lstm_out = keras.layers.Dropout(0.1)(lstm_out)\n",
    "outputs = keras.layers.Dense(feature_size)(lstm_out)\n",
    "\n",
    "model = keras.Model(inputs=inputs, outputs=outputs)\n",
    "model.compile(optimizer=keras.optimizers.Adam(learning_rate=learning_rate), loss=\"mse\")\n",
    "model.summary()"
   ]
  },
  {
   "cell_type": "markdown",
   "id": "d1ce5aa7",
   "metadata": {},
   "source": [
    "训练模型：\n",
    "1. 使用的损失函数：MSE，Mean Square Error，即均方误差；\n",
    "2. 早停止：当验证误差经过一段时间不再改进之后，停止训练模型，这是一种停止训练循环的策略；\n",
    "3. 检查点：当验证误差出现改进时，保存当前的模型参数；"
   ]
  },
  {
   "cell_type": "code",
   "execution_count": 25,
   "id": "4f710554",
   "metadata": {
    "scrolled": true
   },
   "outputs": [
    {
     "name": "stdout",
     "output_type": "stream",
     "text": [
      "Epoch 1/200\n",
      "1/3 [=========>....................] - ETA: 3s - loss: 0.2914\n",
      "Epoch 1: val_loss improved from inf to 0.41713, saving model to problem2_checkpoint.h5\n",
      "3/3 [==============================] - 2s 242ms/step - loss: 0.2844 - val_loss: 0.4171\n",
      "Epoch 2/200\n",
      "1/3 [=========>....................] - ETA: 0s - loss: 0.2691\n",
      "Epoch 2: val_loss improved from 0.41713 to 0.39975, saving model to problem2_checkpoint.h5\n",
      "3/3 [==============================] - 0s 57ms/step - loss: 0.2639 - val_loss: 0.3998\n",
      "Epoch 3/200\n",
      "1/3 [=========>....................] - ETA: 0s - loss: 0.2586\n",
      "Epoch 3: val_loss improved from 0.39975 to 0.38364, saving model to problem2_checkpoint.h5\n",
      "3/3 [==============================] - 0s 101ms/step - loss: 0.2517 - val_loss: 0.3836\n",
      "Epoch 4/200\n",
      "1/3 [=========>....................] - ETA: 0s - loss: 0.2451\n",
      "Epoch 4: val_loss improved from 0.38364 to 0.36877, saving model to problem2_checkpoint.h5\n",
      "3/3 [==============================] - 0s 62ms/step - loss: 0.2425 - val_loss: 0.3688\n",
      "Epoch 5/200\n",
      "1/3 [=========>....................] - ETA: 0s - loss: 0.2330\n",
      "Epoch 5: val_loss improved from 0.36877 to 0.35511, saving model to problem2_checkpoint.h5\n",
      "3/3 [==============================] - 0s 57ms/step - loss: 0.2299 - val_loss: 0.3551\n",
      "Epoch 6/200\n",
      "1/3 [=========>....................] - ETA: 0s - loss: 0.2286\n",
      "Epoch 6: val_loss improved from 0.35511 to 0.34247, saving model to problem2_checkpoint.h5\n",
      "3/3 [==============================] - 0s 57ms/step - loss: 0.2252 - val_loss: 0.3425\n",
      "Epoch 7/200\n",
      "1/3 [=========>....................] - ETA: 0s - loss: 0.2182\n",
      "Epoch 7: val_loss improved from 0.34247 to 0.33083, saving model to problem2_checkpoint.h5\n",
      "3/3 [==============================] - 0s 57ms/step - loss: 0.2137 - val_loss: 0.3308\n",
      "Epoch 8/200\n",
      "1/3 [=========>....................] - ETA: 0s - loss: 0.2103\n",
      "Epoch 8: val_loss improved from 0.33083 to 0.32011, saving model to problem2_checkpoint.h5\n",
      "3/3 [==============================] - 0s 59ms/step - loss: 0.2061 - val_loss: 0.3201\n",
      "Epoch 9/200\n",
      "1/3 [=========>....................] - ETA: 0s - loss: 0.2009\n",
      "Epoch 9: val_loss improved from 0.32011 to 0.31027, saving model to problem2_checkpoint.h5\n",
      "3/3 [==============================] - 0s 64ms/step - loss: 0.1976 - val_loss: 0.3103\n",
      "Epoch 10/200\n",
      "1/3 [=========>....................] - ETA: 0s - loss: 0.1964\n",
      "Epoch 10: val_loss improved from 0.31027 to 0.30122, saving model to problem2_checkpoint.h5\n",
      "3/3 [==============================] - 0s 60ms/step - loss: 0.1920 - val_loss: 0.3012\n",
      "Epoch 11/200\n",
      "1/3 [=========>....................] - ETA: 0s - loss: 0.1898\n",
      "Epoch 11: val_loss improved from 0.30122 to 0.29289, saving model to problem2_checkpoint.h5\n",
      "3/3 [==============================] - 0s 58ms/step - loss: 0.1850 - val_loss: 0.2929\n",
      "Epoch 12/200\n",
      "1/3 [=========>....................] - ETA: 0s - loss: 0.1855\n",
      "Epoch 12: val_loss improved from 0.29289 to 0.28516, saving model to problem2_checkpoint.h5\n",
      "3/3 [==============================] - 0s 53ms/step - loss: 0.1805 - val_loss: 0.2852\n",
      "Epoch 13/200\n",
      "1/3 [=========>....................] - ETA: 0s - loss: 0.1799\n",
      "Epoch 13: val_loss improved from 0.28516 to 0.27795, saving model to problem2_checkpoint.h5\n",
      "3/3 [==============================] - 0s 57ms/step - loss: 0.1766 - val_loss: 0.2780\n",
      "Epoch 14/200\n",
      "1/3 [=========>....................] - ETA: 0s - loss: 0.1756\n",
      "Epoch 14: val_loss improved from 0.27795 to 0.27122, saving model to problem2_checkpoint.h5\n",
      "3/3 [==============================] - 0s 58ms/step - loss: 0.1709 - val_loss: 0.2712\n",
      "Epoch 15/200\n",
      "1/3 [=========>....................] - ETA: 0s - loss: 0.1711\n",
      "Epoch 15: val_loss improved from 0.27122 to 0.26492, saving model to problem2_checkpoint.h5\n",
      "3/3 [==============================] - 0s 62ms/step - loss: 0.1661 - val_loss: 0.2649\n",
      "Epoch 16/200\n",
      "1/3 [=========>....................] - ETA: 0s - loss: 0.1667\n",
      "Epoch 16: val_loss improved from 0.26492 to 0.25901, saving model to problem2_checkpoint.h5\n",
      "3/3 [==============================] - 0s 76ms/step - loss: 0.1619 - val_loss: 0.2590\n",
      "Epoch 17/200\n",
      "1/3 [=========>....................] - ETA: 0s - loss: 0.1613\n",
      "Epoch 17: val_loss improved from 0.25901 to 0.25341, saving model to problem2_checkpoint.h5\n",
      "3/3 [==============================] - 0s 52ms/step - loss: 0.1573 - val_loss: 0.2534\n",
      "Epoch 18/200\n",
      "1/3 [=========>....................] - ETA: 0s - loss: 0.1571\n",
      "Epoch 18: val_loss improved from 0.25341 to 0.24811, saving model to problem2_checkpoint.h5\n",
      "3/3 [==============================] - 0s 52ms/step - loss: 0.1534 - val_loss: 0.2481\n",
      "Epoch 19/200\n",
      "1/3 [=========>....................] - ETA: 0s - loss: 0.1556\n",
      "Epoch 19: val_loss improved from 0.24811 to 0.24306, saving model to problem2_checkpoint.h5\n",
      "3/3 [==============================] - 0s 54ms/step - loss: 0.1503 - val_loss: 0.2431\n",
      "Epoch 20/200\n",
      "1/3 [=========>....................] - ETA: 0s - loss: 0.1564\n",
      "Epoch 20: val_loss improved from 0.24306 to 0.23826, saving model to problem2_checkpoint.h5\n",
      "3/3 [==============================] - 0s 57ms/step - loss: 0.1489 - val_loss: 0.2383\n",
      "Epoch 21/200\n",
      "1/3 [=========>....................] - ETA: 0s - loss: 0.1508\n",
      "Epoch 21: val_loss improved from 0.23826 to 0.23364, saving model to problem2_checkpoint.h5\n",
      "3/3 [==============================] - 0s 67ms/step - loss: 0.1447 - val_loss: 0.2336\n",
      "Epoch 22/200\n",
      "1/3 [=========>....................] - ETA: 0s - loss: 0.1467\n",
      "Epoch 22: val_loss improved from 0.23364 to 0.22920, saving model to problem2_checkpoint.h5\n",
      "3/3 [==============================] - 0s 84ms/step - loss: 0.1413 - val_loss: 0.2292\n",
      "Epoch 23/200\n",
      "1/3 [=========>....................] - ETA: 0s - loss: 0.1433\n",
      "Epoch 23: val_loss improved from 0.22920 to 0.22492, saving model to problem2_checkpoint.h5\n",
      "3/3 [==============================] - 0s 78ms/step - loss: 0.1379 - val_loss: 0.2249\n",
      "Epoch 24/200\n",
      "1/3 [=========>....................] - ETA: 0s - loss: 0.1379\n",
      "Epoch 24: val_loss improved from 0.22492 to 0.22078, saving model to problem2_checkpoint.h5\n",
      "3/3 [==============================] - 0s 78ms/step - loss: 0.1346 - val_loss: 0.2208\n",
      "Epoch 25/200\n",
      "1/3 [=========>....................] - ETA: 0s - loss: 0.1390\n",
      "Epoch 25: val_loss improved from 0.22078 to 0.21678, saving model to problem2_checkpoint.h5\n",
      "3/3 [==============================] - 0s 57ms/step - loss: 0.1331 - val_loss: 0.2168\n",
      "Epoch 26/200\n",
      "1/3 [=========>....................] - ETA: 0s - loss: 0.1341\n",
      "Epoch 26: val_loss improved from 0.21678 to 0.21289, saving model to problem2_checkpoint.h5\n",
      "3/3 [==============================] - 0s 64ms/step - loss: 0.1300 - val_loss: 0.2129\n",
      "Epoch 27/200\n",
      "1/3 [=========>....................] - ETA: 0s - loss: 0.1314\n",
      "Epoch 27: val_loss improved from 0.21289 to 0.20909, saving model to problem2_checkpoint.h5\n",
      "3/3 [==============================] - 0s 82ms/step - loss: 0.1279 - val_loss: 0.2091\n",
      "Epoch 28/200\n",
      "1/3 [=========>....................] - ETA: 0s - loss: 0.1304\n",
      "Epoch 28: val_loss improved from 0.20909 to 0.20538, saving model to problem2_checkpoint.h5\n",
      "3/3 [==============================] - 0s 62ms/step - loss: 0.1245 - val_loss: 0.2054\n",
      "Epoch 29/200\n",
      "1/3 [=========>....................] - ETA: 0s - loss: 0.1291\n",
      "Epoch 29: val_loss improved from 0.20538 to 0.20177, saving model to problem2_checkpoint.h5\n",
      "3/3 [==============================] - 0s 59ms/step - loss: 0.1222 - val_loss: 0.2018\n",
      "Epoch 30/200\n",
      "1/3 [=========>....................] - ETA: 0s - loss: 0.1265\n",
      "Epoch 30: val_loss improved from 0.20177 to 0.19822, saving model to problem2_checkpoint.h5\n",
      "3/3 [==============================] - 0s 58ms/step - loss: 0.1211 - val_loss: 0.1982\n",
      "Epoch 31/200\n",
      "1/3 [=========>....................] - ETA: 0s - loss: 0.1258\n",
      "Epoch 31: val_loss improved from 0.19822 to 0.19473, saving model to problem2_checkpoint.h5\n",
      "3/3 [==============================] - 0s 61ms/step - loss: 0.1180 - val_loss: 0.1947\n",
      "Epoch 32/200\n",
      "1/3 [=========>....................] - ETA: 0s - loss: 0.1205\n",
      "Epoch 32: val_loss improved from 0.19473 to 0.19127, saving model to problem2_checkpoint.h5\n",
      "3/3 [==============================] - 0s 64ms/step - loss: 0.1154 - val_loss: 0.1913\n",
      "Epoch 33/200\n",
      "1/3 [=========>....................] - ETA: 0s - loss: 0.1207\n",
      "Epoch 33: val_loss improved from 0.19127 to 0.18787, saving model to problem2_checkpoint.h5\n"
     ]
    },
    {
     "name": "stdout",
     "output_type": "stream",
     "text": [
      "3/3 [==============================] - 0s 67ms/step - loss: 0.1135 - val_loss: 0.1879\n",
      "Epoch 34/200\n",
      "1/3 [=========>....................] - ETA: 0s - loss: 0.1171\n",
      "Epoch 34: val_loss improved from 0.18787 to 0.18450, saving model to problem2_checkpoint.h5\n",
      "3/3 [==============================] - 0s 65ms/step - loss: 0.1119 - val_loss: 0.1845\n",
      "Epoch 35/200\n",
      "1/3 [=========>....................] - ETA: 0s - loss: 0.1143\n",
      "Epoch 35: val_loss improved from 0.18450 to 0.18116, saving model to problem2_checkpoint.h5\n",
      "3/3 [==============================] - 0s 63ms/step - loss: 0.1082 - val_loss: 0.1812\n",
      "Epoch 36/200\n",
      "1/3 [=========>....................] - ETA: 0s - loss: 0.1100\n",
      "Epoch 36: val_loss improved from 0.18116 to 0.17785, saving model to problem2_checkpoint.h5\n",
      "3/3 [==============================] - 0s 66ms/step - loss: 0.1057 - val_loss: 0.1778\n",
      "Epoch 37/200\n",
      "1/3 [=========>....................] - ETA: 0s - loss: 0.1135\n",
      "Epoch 37: val_loss improved from 0.17785 to 0.17459, saving model to problem2_checkpoint.h5\n",
      "3/3 [==============================] - 0s 60ms/step - loss: 0.1064 - val_loss: 0.1746\n",
      "Epoch 38/200\n",
      "1/3 [=========>....................] - ETA: 0s - loss: 0.1066\n",
      "Epoch 38: val_loss improved from 0.17459 to 0.17137, saving model to problem2_checkpoint.h5\n",
      "3/3 [==============================] - 0s 61ms/step - loss: 0.1025 - val_loss: 0.1714\n",
      "Epoch 39/200\n",
      "1/3 [=========>....................] - ETA: 0s - loss: 0.1071\n",
      "Epoch 39: val_loss improved from 0.17137 to 0.16819, saving model to problem2_checkpoint.h5\n",
      "3/3 [==============================] - 0s 76ms/step - loss: 0.1022 - val_loss: 0.1682\n",
      "Epoch 40/200\n",
      "1/3 [=========>....................] - ETA: 0s - loss: 0.1050\n",
      "Epoch 40: val_loss improved from 0.16819 to 0.16503, saving model to problem2_checkpoint.h5\n",
      "3/3 [==============================] - 0s 70ms/step - loss: 0.0981 - val_loss: 0.1650\n",
      "Epoch 41/200\n",
      "1/3 [=========>....................] - ETA: 0s - loss: 0.1016\n",
      "Epoch 41: val_loss improved from 0.16503 to 0.16189, saving model to problem2_checkpoint.h5\n",
      "3/3 [==============================] - 0s 66ms/step - loss: 0.0979 - val_loss: 0.1619\n",
      "Epoch 42/200\n",
      "1/3 [=========>....................] - ETA: 0s - loss: 0.1005\n",
      "Epoch 42: val_loss improved from 0.16189 to 0.15877, saving model to problem2_checkpoint.h5\n",
      "3/3 [==============================] - 0s 63ms/step - loss: 0.0949 - val_loss: 0.1588\n",
      "Epoch 43/200\n",
      "1/3 [=========>....................] - ETA: 0s - loss: 0.0988\n",
      "Epoch 43: val_loss improved from 0.15877 to 0.15567, saving model to problem2_checkpoint.h5\n",
      "3/3 [==============================] - 0s 60ms/step - loss: 0.0938 - val_loss: 0.1557\n",
      "Epoch 44/200\n",
      "1/3 [=========>....................] - ETA: 0s - loss: 0.0977\n",
      "Epoch 44: val_loss improved from 0.15567 to 0.15261, saving model to problem2_checkpoint.h5\n",
      "3/3 [==============================] - 0s 59ms/step - loss: 0.0913 - val_loss: 0.1526\n",
      "Epoch 45/200\n",
      "1/3 [=========>....................] - ETA: 0s - loss: 0.0942\n",
      "Epoch 45: val_loss improved from 0.15261 to 0.14957, saving model to problem2_checkpoint.h5\n",
      "3/3 [==============================] - 0s 57ms/step - loss: 0.0898 - val_loss: 0.1496\n",
      "Epoch 46/200\n",
      "1/3 [=========>....................] - ETA: 0s - loss: 0.0914\n",
      "Epoch 46: val_loss improved from 0.14957 to 0.14655, saving model to problem2_checkpoint.h5\n",
      "3/3 [==============================] - 0s 62ms/step - loss: 0.0868 - val_loss: 0.1466\n",
      "Epoch 47/200\n",
      "1/3 [=========>....................] - ETA: 0s - loss: 0.0944\n",
      "Epoch 47: val_loss improved from 0.14655 to 0.14360, saving model to problem2_checkpoint.h5\n",
      "3/3 [==============================] - 0s 60ms/step - loss: 0.0885 - val_loss: 0.1436\n",
      "Epoch 48/200\n",
      "1/3 [=========>....................] - ETA: 0s - loss: 0.0912\n",
      "Epoch 48: val_loss improved from 0.14360 to 0.14072, saving model to problem2_checkpoint.h5\n",
      "3/3 [==============================] - 0s 67ms/step - loss: 0.0860 - val_loss: 0.1407\n",
      "Epoch 49/200\n",
      "1/3 [=========>....................] - ETA: 0s - loss: 0.0874\n",
      "Epoch 49: val_loss improved from 0.14072 to 0.13785, saving model to problem2_checkpoint.h5\n",
      "3/3 [==============================] - 0s 54ms/step - loss: 0.0814 - val_loss: 0.1379\n",
      "Epoch 50/200\n",
      "1/3 [=========>....................] - ETA: 0s - loss: 0.0862\n",
      "Epoch 50: val_loss improved from 0.13785 to 0.13500, saving model to problem2_checkpoint.h5\n",
      "3/3 [==============================] - 0s 60ms/step - loss: 0.0817 - val_loss: 0.1350\n",
      "Epoch 51/200\n",
      "1/3 [=========>....................] - ETA: 0s - loss: 0.0876\n",
      "Epoch 51: val_loss improved from 0.13500 to 0.13218, saving model to problem2_checkpoint.h5\n",
      "3/3 [==============================] - 0s 78ms/step - loss: 0.0805 - val_loss: 0.1322\n",
      "Epoch 52/200\n",
      "1/3 [=========>....................] - ETA: 0s - loss: 0.0821\n",
      "Epoch 52: val_loss improved from 0.13218 to 0.12941, saving model to problem2_checkpoint.h5\n",
      "3/3 [==============================] - 0s 61ms/step - loss: 0.0777 - val_loss: 0.1294\n",
      "Epoch 53/200\n",
      "1/3 [=========>....................] - ETA: 0s - loss: 0.0793\n",
      "Epoch 53: val_loss improved from 0.12941 to 0.12671, saving model to problem2_checkpoint.h5\n",
      "3/3 [==============================] - 0s 66ms/step - loss: 0.0760 - val_loss: 0.1267\n",
      "Epoch 54/200\n",
      "1/3 [=========>....................] - ETA: 0s - loss: 0.0808\n",
      "Epoch 54: val_loss improved from 0.12671 to 0.12409, saving model to problem2_checkpoint.h5\n",
      "3/3 [==============================] - 0s 62ms/step - loss: 0.0762 - val_loss: 0.1241\n",
      "Epoch 55/200\n",
      "1/3 [=========>....................] - ETA: 0s - loss: 0.0872\n",
      "Epoch 55: val_loss improved from 0.12409 to 0.12160, saving model to problem2_checkpoint.h5\n",
      "3/3 [==============================] - 0s 56ms/step - loss: 0.0758 - val_loss: 0.1216\n",
      "Epoch 56/200\n",
      "1/3 [=========>....................] - ETA: 0s - loss: 0.0827\n",
      "Epoch 56: val_loss improved from 0.12160 to 0.11921, saving model to problem2_checkpoint.h5\n",
      "3/3 [==============================] - 0s 57ms/step - loss: 0.0760 - val_loss: 0.1192\n",
      "Epoch 57/200\n",
      "1/3 [=========>....................] - ETA: 0s - loss: 0.0799\n",
      "Epoch 57: val_loss improved from 0.11921 to 0.11694, saving model to problem2_checkpoint.h5\n",
      "3/3 [==============================] - 0s 74ms/step - loss: 0.0731 - val_loss: 0.1169\n",
      "Epoch 58/200\n",
      "1/3 [=========>....................] - ETA: 0s - loss: 0.0733\n",
      "Epoch 58: val_loss improved from 0.11694 to 0.11474, saving model to problem2_checkpoint.h5\n",
      "3/3 [==============================] - 0s 61ms/step - loss: 0.0709 - val_loss: 0.1147\n",
      "Epoch 59/200\n",
      "1/3 [=========>....................] - ETA: 0s - loss: 0.0804\n",
      "Epoch 59: val_loss improved from 0.11474 to 0.11268, saving model to problem2_checkpoint.h5\n",
      "3/3 [==============================] - 0s 59ms/step - loss: 0.0711 - val_loss: 0.1127\n",
      "Epoch 60/200\n",
      "1/3 [=========>....................] - ETA: 0s - loss: 0.0745\n",
      "Epoch 60: val_loss improved from 0.11268 to 0.11071, saving model to problem2_checkpoint.h5\n",
      "3/3 [==============================] - 0s 57ms/step - loss: 0.0688 - val_loss: 0.1107\n",
      "Epoch 61/200\n",
      "1/3 [=========>....................] - ETA: 0s - loss: 0.0708\n",
      "Epoch 61: val_loss improved from 0.11071 to 0.10882, saving model to problem2_checkpoint.h5\n",
      "3/3 [==============================] - 0s 60ms/step - loss: 0.0670 - val_loss: 0.1088\n",
      "Epoch 62/200\n",
      "1/3 [=========>....................] - ETA: 0s - loss: 0.0713\n",
      "Epoch 62: val_loss improved from 0.10882 to 0.10704, saving model to problem2_checkpoint.h5\n",
      "3/3 [==============================] - 0s 63ms/step - loss: 0.0666 - val_loss: 0.1070\n",
      "Epoch 63/200\n",
      "1/3 [=========>....................] - ETA: 0s - loss: 0.0770\n",
      "Epoch 63: val_loss improved from 0.10704 to 0.10541, saving model to problem2_checkpoint.h5\n",
      "3/3 [==============================] - 0s 66ms/step - loss: 0.0686 - val_loss: 0.1054\n",
      "Epoch 64/200\n",
      "1/3 [=========>....................] - ETA: 0s - loss: 0.0697\n",
      "Epoch 64: val_loss improved from 0.10541 to 0.10387, saving model to problem2_checkpoint.h5\n",
      "3/3 [==============================] - 0s 80ms/step - loss: 0.0664 - val_loss: 0.1039\n",
      "Epoch 65/200\n",
      "1/3 [=========>....................] - ETA: 0s - loss: 0.0704\n",
      "Epoch 65: val_loss improved from 0.10387 to 0.10245, saving model to problem2_checkpoint.h5\n",
      "3/3 [==============================] - 0s 60ms/step - loss: 0.0653 - val_loss: 0.1024\n",
      "Epoch 66/200\n"
     ]
    },
    {
     "name": "stdout",
     "output_type": "stream",
     "text": [
      "1/3 [=========>....................] - ETA: 0s - loss: 0.0767\n",
      "Epoch 66: val_loss improved from 0.10245 to 0.10119, saving model to problem2_checkpoint.h5\n",
      "3/3 [==============================] - 0s 56ms/step - loss: 0.0686 - val_loss: 0.1012\n",
      "Epoch 67/200\n",
      "1/3 [=========>....................] - ETA: 0s - loss: 0.0711\n",
      "Epoch 67: val_loss improved from 0.10119 to 0.10005, saving model to problem2_checkpoint.h5\n",
      "3/3 [==============================] - 0s 54ms/step - loss: 0.0629 - val_loss: 0.1000\n",
      "Epoch 68/200\n",
      "1/3 [=========>....................] - ETA: 0s - loss: 0.0654\n",
      "Epoch 68: val_loss improved from 0.10005 to 0.09896, saving model to problem2_checkpoint.h5\n",
      "3/3 [==============================] - 0s 58ms/step - loss: 0.0599 - val_loss: 0.0990\n",
      "Epoch 69/200\n",
      "1/3 [=========>....................] - ETA: 0s - loss: 0.0684\n",
      "Epoch 69: val_loss improved from 0.09896 to 0.09796, saving model to problem2_checkpoint.h5\n",
      "3/3 [==============================] - 0s 57ms/step - loss: 0.0636 - val_loss: 0.0980\n",
      "Epoch 70/200\n",
      "1/3 [=========>....................] - ETA: 0s - loss: 0.0704\n",
      "Epoch 70: val_loss improved from 0.09796 to 0.09711, saving model to problem2_checkpoint.h5\n",
      "3/3 [==============================] - 0s 57ms/step - loss: 0.0622 - val_loss: 0.0971\n",
      "Epoch 71/200\n",
      "1/3 [=========>....................] - ETA: 0s - loss: 0.0689\n",
      "Epoch 71: val_loss improved from 0.09711 to 0.09635, saving model to problem2_checkpoint.h5\n",
      "3/3 [==============================] - 0s 55ms/step - loss: 0.0631 - val_loss: 0.0964\n",
      "Epoch 72/200\n",
      "1/3 [=========>....................] - ETA: 0s - loss: 0.0728\n",
      "Epoch 72: val_loss improved from 0.09635 to 0.09573, saving model to problem2_checkpoint.h5\n",
      "3/3 [==============================] - 0s 65ms/step - loss: 0.0639 - val_loss: 0.0957\n",
      "Epoch 73/200\n",
      "1/3 [=========>....................] - ETA: 0s - loss: 0.0754\n",
      "Epoch 73: val_loss improved from 0.09573 to 0.09520, saving model to problem2_checkpoint.h5\n",
      "3/3 [==============================] - 0s 67ms/step - loss: 0.0646 - val_loss: 0.0952\n",
      "Epoch 74/200\n",
      "1/3 [=========>....................] - ETA: 0s - loss: 0.0667\n",
      "Epoch 74: val_loss improved from 0.09520 to 0.09474, saving model to problem2_checkpoint.h5\n",
      "3/3 [==============================] - 0s 53ms/step - loss: 0.0616 - val_loss: 0.0947\n",
      "Epoch 75/200\n",
      "1/3 [=========>....................] - ETA: 0s - loss: 0.0687\n",
      "Epoch 75: val_loss improved from 0.09474 to 0.09432, saving model to problem2_checkpoint.h5\n",
      "3/3 [==============================] - 0s 66ms/step - loss: 0.0614 - val_loss: 0.0943\n",
      "Epoch 76/200\n",
      "1/3 [=========>....................] - ETA: 0s - loss: 0.0696\n",
      "Epoch 76: val_loss improved from 0.09432 to 0.09394, saving model to problem2_checkpoint.h5\n",
      "3/3 [==============================] - 0s 85ms/step - loss: 0.0606 - val_loss: 0.0939\n",
      "Epoch 77/200\n",
      "1/3 [=========>....................] - ETA: 0s - loss: 0.0639\n",
      "Epoch 77: val_loss improved from 0.09394 to 0.09354, saving model to problem2_checkpoint.h5\n",
      "3/3 [==============================] - 0s 53ms/step - loss: 0.0605 - val_loss: 0.0935\n",
      "Epoch 78/200\n",
      "1/3 [=========>....................] - ETA: 0s - loss: 0.0655\n",
      "Epoch 78: val_loss improved from 0.09354 to 0.09315, saving model to problem2_checkpoint.h5\n",
      "3/3 [==============================] - 0s 56ms/step - loss: 0.0601 - val_loss: 0.0932\n",
      "Epoch 79/200\n",
      "1/3 [=========>....................] - ETA: 0s - loss: 0.0646\n",
      "Epoch 79: val_loss improved from 0.09315 to 0.09276, saving model to problem2_checkpoint.h5\n",
      "3/3 [==============================] - 0s 63ms/step - loss: 0.0587 - val_loss: 0.0928\n",
      "Epoch 80/200\n",
      "1/3 [=========>....................] - ETA: 0s - loss: 0.0677\n",
      "Epoch 80: val_loss improved from 0.09276 to 0.09236, saving model to problem2_checkpoint.h5\n",
      "3/3 [==============================] - 0s 67ms/step - loss: 0.0595 - val_loss: 0.0924\n",
      "Epoch 81/200\n",
      "1/3 [=========>....................] - ETA: 0s - loss: 0.0658\n",
      "Epoch 81: val_loss improved from 0.09236 to 0.09204, saving model to problem2_checkpoint.h5\n",
      "3/3 [==============================] - 0s 58ms/step - loss: 0.0616 - val_loss: 0.0920\n",
      "Epoch 82/200\n",
      "1/3 [=========>....................] - ETA: 0s - loss: 0.0696\n",
      "Epoch 82: val_loss improved from 0.09204 to 0.09177, saving model to problem2_checkpoint.h5\n",
      "3/3 [==============================] - 0s 66ms/step - loss: 0.0601 - val_loss: 0.0918\n",
      "Epoch 83/200\n",
      "1/3 [=========>....................] - ETA: 0s - loss: 0.0675\n",
      "Epoch 83: val_loss improved from 0.09177 to 0.09155, saving model to problem2_checkpoint.h5\n",
      "3/3 [==============================] - 0s 60ms/step - loss: 0.0637 - val_loss: 0.0916\n",
      "Epoch 84/200\n",
      "1/3 [=========>....................] - ETA: 0s - loss: 0.0675\n",
      "Epoch 84: val_loss improved from 0.09155 to 0.09139, saving model to problem2_checkpoint.h5\n",
      "3/3 [==============================] - 0s 60ms/step - loss: 0.0601 - val_loss: 0.0914\n",
      "Epoch 85/200\n",
      "1/3 [=========>....................] - ETA: 0s - loss: 0.0682\n",
      "Epoch 85: val_loss improved from 0.09139 to 0.09124, saving model to problem2_checkpoint.h5\n",
      "3/3 [==============================] - 0s 65ms/step - loss: 0.0597 - val_loss: 0.0912\n",
      "Epoch 86/200\n",
      "1/3 [=========>....................] - ETA: 0s - loss: 0.0683\n",
      "Epoch 86: val_loss improved from 0.09124 to 0.09110, saving model to problem2_checkpoint.h5\n",
      "3/3 [==============================] - 0s 57ms/step - loss: 0.0612 - val_loss: 0.0911\n",
      "Epoch 87/200\n",
      "1/3 [=========>....................] - ETA: 0s - loss: 0.0672\n",
      "Epoch 87: val_loss improved from 0.09110 to 0.09094, saving model to problem2_checkpoint.h5\n",
      "3/3 [==============================] - 0s 54ms/step - loss: 0.0602 - val_loss: 0.0909\n",
      "Epoch 88/200\n",
      "1/3 [=========>....................] - ETA: 0s - loss: 0.0663\n",
      "Epoch 88: val_loss improved from 0.09094 to 0.09080, saving model to problem2_checkpoint.h5\n",
      "3/3 [==============================] - 0s 77ms/step - loss: 0.0614 - val_loss: 0.0908\n",
      "Epoch 89/200\n",
      "1/3 [=========>....................] - ETA: 0s - loss: 0.0707\n",
      "Epoch 89: val_loss improved from 0.09080 to 0.09069, saving model to problem2_checkpoint.h5\n",
      "3/3 [==============================] - 0s 74ms/step - loss: 0.0613 - val_loss: 0.0907\n",
      "Epoch 90/200\n",
      "1/3 [=========>....................] - ETA: 0s - loss: 0.0670\n",
      "Epoch 90: val_loss improved from 0.09069 to 0.09061, saving model to problem2_checkpoint.h5\n",
      "3/3 [==============================] - 0s 56ms/step - loss: 0.0606 - val_loss: 0.0906\n",
      "Epoch 91/200\n",
      "1/3 [=========>....................] - ETA: 0s - loss: 0.0676\n",
      "Epoch 91: val_loss improved from 0.09061 to 0.09055, saving model to problem2_checkpoint.h5\n",
      "3/3 [==============================] - 0s 63ms/step - loss: 0.0603 - val_loss: 0.0906\n",
      "Epoch 92/200\n",
      "1/3 [=========>....................] - ETA: 0s - loss: 0.0743\n",
      "Epoch 92: val_loss improved from 0.09055 to 0.09054, saving model to problem2_checkpoint.h5\n",
      "3/3 [==============================] - 0s 55ms/step - loss: 0.0608 - val_loss: 0.0905\n",
      "Epoch 93/200\n",
      "1/3 [=========>....................] - ETA: 0s - loss: 0.0643\n",
      "Epoch 93: val_loss improved from 0.09054 to 0.09053, saving model to problem2_checkpoint.h5\n",
      "3/3 [==============================] - 0s 58ms/step - loss: 0.0573 - val_loss: 0.0905\n",
      "Epoch 94/200\n",
      "1/3 [=========>....................] - ETA: 0s - loss: 0.0693\n",
      "Epoch 94: val_loss improved from 0.09053 to 0.09050, saving model to problem2_checkpoint.h5\n",
      "3/3 [==============================] - 0s 60ms/step - loss: 0.0587 - val_loss: 0.0905\n",
      "Epoch 95/200\n",
      "1/3 [=========>....................] - ETA: 0s - loss: 0.0652\n",
      "Epoch 95: val_loss improved from 0.09050 to 0.09039, saving model to problem2_checkpoint.h5\n",
      "3/3 [==============================] - 0s 70ms/step - loss: 0.0582 - val_loss: 0.0904\n",
      "Epoch 96/200\n",
      "1/3 [=========>....................] - ETA: 0s - loss: 0.0666\n",
      "Epoch 96: val_loss improved from 0.09039 to 0.09022, saving model to problem2_checkpoint.h5\n",
      "3/3 [==============================] - 0s 56ms/step - loss: 0.0593 - val_loss: 0.0902\n",
      "Epoch 97/200\n",
      "1/3 [=========>....................] - ETA: 0s - loss: 0.0626\n",
      "Epoch 97: val_loss improved from 0.09022 to 0.09005, saving model to problem2_checkpoint.h5\n",
      "3/3 [==============================] - 0s 63ms/step - loss: 0.0564 - val_loss: 0.0901\n",
      "Epoch 98/200\n",
      "1/3 [=========>....................] - ETA: 0s - loss: 0.0633\n",
      "Epoch 98: val_loss improved from 0.09005 to 0.08990, saving model to problem2_checkpoint.h5\n"
     ]
    },
    {
     "name": "stdout",
     "output_type": "stream",
     "text": [
      "3/3 [==============================] - 0s 62ms/step - loss: 0.0592 - val_loss: 0.0899\n",
      "Epoch 99/200\n",
      "1/3 [=========>....................] - ETA: 0s - loss: 0.0695\n",
      "Epoch 99: val_loss improved from 0.08990 to 0.08981, saving model to problem2_checkpoint.h5\n",
      "3/3 [==============================] - 0s 54ms/step - loss: 0.0606 - val_loss: 0.0898\n",
      "Epoch 100/200\n",
      "1/3 [=========>....................] - ETA: 0s - loss: 0.0648\n",
      "Epoch 100: val_loss improved from 0.08981 to 0.08973, saving model to problem2_checkpoint.h5\n",
      "3/3 [==============================] - 0s 68ms/step - loss: 0.0581 - val_loss: 0.0897\n",
      "Epoch 101/200\n",
      "1/3 [=========>....................] - ETA: 0s - loss: 0.0680\n",
      "Epoch 101: val_loss improved from 0.08973 to 0.08970, saving model to problem2_checkpoint.h5\n",
      "3/3 [==============================] - 0s 89ms/step - loss: 0.0613 - val_loss: 0.0897\n",
      "Epoch 102/200\n",
      "1/3 [=========>....................] - ETA: 0s - loss: 0.0618\n",
      "Epoch 102: val_loss improved from 0.08970 to 0.08963, saving model to problem2_checkpoint.h5\n",
      "3/3 [==============================] - 0s 60ms/step - loss: 0.0588 - val_loss: 0.0896\n",
      "Epoch 103/200\n",
      "1/3 [=========>....................] - ETA: 0s - loss: 0.0627\n",
      "Epoch 103: val_loss improved from 0.08963 to 0.08958, saving model to problem2_checkpoint.h5\n",
      "3/3 [==============================] - 0s 61ms/step - loss: 0.0579 - val_loss: 0.0896\n",
      "Epoch 104/200\n",
      "1/3 [=========>....................] - ETA: 0s - loss: 0.0666\n",
      "Epoch 104: val_loss improved from 0.08958 to 0.08952, saving model to problem2_checkpoint.h5\n",
      "3/3 [==============================] - 0s 60ms/step - loss: 0.0578 - val_loss: 0.0895\n",
      "Epoch 105/200\n",
      "1/3 [=========>....................] - ETA: 0s - loss: 0.0702\n",
      "Epoch 105: val_loss improved from 0.08952 to 0.08947, saving model to problem2_checkpoint.h5\n",
      "3/3 [==============================] - 0s 59ms/step - loss: 0.0598 - val_loss: 0.0895\n",
      "Epoch 106/200\n",
      "1/3 [=========>....................] - ETA: 0s - loss: 0.0642\n",
      "Epoch 106: val_loss improved from 0.08947 to 0.08943, saving model to problem2_checkpoint.h5\n",
      "3/3 [==============================] - 0s 68ms/step - loss: 0.0618 - val_loss: 0.0894\n",
      "Epoch 107/200\n",
      "1/3 [=========>....................] - ETA: 0s - loss: 0.0637\n",
      "Epoch 107: val_loss improved from 0.08943 to 0.08940, saving model to problem2_checkpoint.h5\n",
      "3/3 [==============================] - 0s 60ms/step - loss: 0.0574 - val_loss: 0.0894\n",
      "Epoch 108/200\n",
      "1/3 [=========>....................] - ETA: 0s - loss: 0.0685\n",
      "Epoch 108: val_loss improved from 0.08940 to 0.08938, saving model to problem2_checkpoint.h5\n",
      "3/3 [==============================] - 0s 76ms/step - loss: 0.0602 - val_loss: 0.0894\n",
      "Epoch 109/200\n",
      "1/3 [=========>....................] - ETA: 0s - loss: 0.0705\n",
      "Epoch 109: val_loss improved from 0.08938 to 0.08935, saving model to problem2_checkpoint.h5\n",
      "3/3 [==============================] - 0s 56ms/step - loss: 0.0588 - val_loss: 0.0894\n",
      "Epoch 110/200\n",
      "1/3 [=========>....................] - ETA: 0s - loss: 0.0732\n",
      "Epoch 110: val_loss improved from 0.08935 to 0.08926, saving model to problem2_checkpoint.h5\n",
      "3/3 [==============================] - 0s 67ms/step - loss: 0.0619 - val_loss: 0.0893\n",
      "Epoch 111/200\n",
      "1/3 [=========>....................] - ETA: 0s - loss: 0.0611\n",
      "Epoch 111: val_loss improved from 0.08926 to 0.08916, saving model to problem2_checkpoint.h5\n",
      "3/3 [==============================] - 0s 61ms/step - loss: 0.0578 - val_loss: 0.0892\n",
      "Epoch 112/200\n",
      "1/3 [=========>....................] - ETA: 0s - loss: 0.0642\n",
      "Epoch 112: val_loss improved from 0.08916 to 0.08909, saving model to problem2_checkpoint.h5\n",
      "3/3 [==============================] - 0s 75ms/step - loss: 0.0579 - val_loss: 0.0891\n",
      "Epoch 113/200\n",
      "1/3 [=========>....................] - ETA: 0s - loss: 0.0638\n",
      "Epoch 113: val_loss improved from 0.08909 to 0.08903, saving model to problem2_checkpoint.h5\n",
      "3/3 [==============================] - 0s 89ms/step - loss: 0.0576 - val_loss: 0.0890\n",
      "Epoch 114/200\n",
      "1/3 [=========>....................] - ETA: 0s - loss: 0.0649\n",
      "Epoch 114: val_loss improved from 0.08903 to 0.08898, saving model to problem2_checkpoint.h5\n",
      "3/3 [==============================] - 0s 66ms/step - loss: 0.0576 - val_loss: 0.0890\n",
      "Epoch 115/200\n",
      "1/3 [=========>....................] - ETA: 0s - loss: 0.0682\n",
      "Epoch 115: val_loss improved from 0.08898 to 0.08897, saving model to problem2_checkpoint.h5\n",
      "3/3 [==============================] - 0s 53ms/step - loss: 0.0612 - val_loss: 0.0890\n",
      "Epoch 116/200\n",
      "1/3 [=========>....................] - ETA: 0s - loss: 0.0643\n",
      "Epoch 116: val_loss did not improve from 0.08897\n",
      "3/3 [==============================] - 0s 44ms/step - loss: 0.0594 - val_loss: 0.0890\n",
      "Epoch 117/200\n",
      "1/3 [=========>....................] - ETA: 0s - loss: 0.0667\n",
      "Epoch 117: val_loss did not improve from 0.08897\n",
      "3/3 [==============================] - 0s 44ms/step - loss: 0.0597 - val_loss: 0.0891\n",
      "Epoch 118/200\n",
      "1/3 [=========>....................] - ETA: 0s - loss: 0.0655\n",
      "Epoch 118: val_loss did not improve from 0.08897\n",
      "3/3 [==============================] - 0s 42ms/step - loss: 0.0603 - val_loss: 0.0891\n",
      "Epoch 119/200\n",
      "1/3 [=========>....................] - ETA: 0s - loss: 0.0664\n",
      "Epoch 119: val_loss did not improve from 0.08897\n",
      "3/3 [==============================] - 0s 46ms/step - loss: 0.0581 - val_loss: 0.0890\n",
      "Epoch 120/200\n",
      "1/3 [=========>....................] - ETA: 0s - loss: 0.0632\n",
      "Epoch 120: val_loss improved from 0.08897 to 0.08891, saving model to problem2_checkpoint.h5\n",
      "3/3 [==============================] - 0s 62ms/step - loss: 0.0576 - val_loss: 0.0889\n",
      "Epoch 121/200\n",
      "1/3 [=========>....................] - ETA: 0s - loss: 0.0647\n",
      "Epoch 121: val_loss improved from 0.08891 to 0.08883, saving model to problem2_checkpoint.h5\n",
      "3/3 [==============================] - 0s 55ms/step - loss: 0.0598 - val_loss: 0.0888\n",
      "Epoch 122/200\n",
      "1/3 [=========>....................] - ETA: 0s - loss: 0.0679\n",
      "Epoch 122: val_loss improved from 0.08883 to 0.08875, saving model to problem2_checkpoint.h5\n",
      "3/3 [==============================] - 0s 63ms/step - loss: 0.0598 - val_loss: 0.0887\n",
      "Epoch 123/200\n",
      "1/3 [=========>....................] - ETA: 0s - loss: 0.0733\n",
      "Epoch 123: val_loss improved from 0.08875 to 0.08870, saving model to problem2_checkpoint.h5\n",
      "3/3 [==============================] - 0s 66ms/step - loss: 0.0617 - val_loss: 0.0887\n",
      "Epoch 124/200\n",
      "1/3 [=========>....................] - ETA: 0s - loss: 0.0648\n",
      "Epoch 124: val_loss did not improve from 0.08870\n",
      "3/3 [==============================] - 0s 62ms/step - loss: 0.0557 - val_loss: 0.0887\n",
      "Epoch 125/200\n",
      "1/3 [=========>....................] - ETA: 0s - loss: 0.0686\n",
      "Epoch 125: val_loss did not improve from 0.08870\n",
      "3/3 [==============================] - 0s 59ms/step - loss: 0.0571 - val_loss: 0.0887\n",
      "Epoch 126/200\n",
      "1/3 [=========>....................] - ETA: 0s - loss: 0.0634\n",
      "Epoch 126: val_loss did not improve from 0.08870\n",
      "3/3 [==============================] - 0s 45ms/step - loss: 0.0589 - val_loss: 0.0887\n",
      "Epoch 127/200\n",
      "1/3 [=========>....................] - ETA: 0s - loss: 0.0659\n",
      "Epoch 127: val_loss did not improve from 0.08870\n",
      "3/3 [==============================] - 0s 43ms/step - loss: 0.0573 - val_loss: 0.0888\n",
      "Epoch 128/200\n",
      "1/3 [=========>....................] - ETA: 0s - loss: 0.0672\n",
      "Epoch 128: val_loss did not improve from 0.08870\n",
      "3/3 [==============================] - 0s 46ms/step - loss: 0.0580 - val_loss: 0.0889\n"
     ]
    }
   ],
   "source": [
    "path_checkpoint = \"problem2_checkpoint.h5\"\n",
    "es_callback = keras.callbacks.EarlyStopping(monitor=\"val_loss\", min_delta=0, patience=5)\n",
    "\n",
    "modelckpt_callback = keras.callbacks.ModelCheckpoint(\n",
    "    monitor=\"val_loss\",\n",
    "    filepath=path_checkpoint,\n",
    "    verbose=1,\n",
    "    # 要同时保存网络结构。\n",
    "    save_weights_only=False,\n",
    "    save_best_only=True,\n",
    ")\n",
    "\n",
    "history = model.fit(\n",
    "    dataset_train,\n",
    "    epochs=epochs,\n",
    "    validation_data=dataset_val,\n",
    "    callbacks=[es_callback, modelckpt_callback],\n",
    ")"
   ]
  },
  {
   "cell_type": "markdown",
   "id": "c5aec7c5",
   "metadata": {},
   "source": [
    "对模型训练过程的损失函数和验证损失函数进行可视化。\n",
    "- 基于matplotlib的可视化；\n",
    "- 基于plotly的可视化；\n",
    "\n",
    "挑一个好看的就行。"
   ]
  },
  {
   "cell_type": "code",
   "execution_count": 26,
   "id": "66ca2145",
   "metadata": {},
   "outputs": [
    {
     "data": {
      "image/png": "[encoded data removed]",
      "text/plain": [
       "<Figure size 720x360 with 1 Axes>"
      ]
     },
     "metadata": {
      "needs_background": "light"
     },
     "output_type": "display_data"
    }
   ],
   "source": [
    "def visualize_loss(history, title):\n",
    "    loss = history.history[\"loss\"]\n",
    "    val_loss = history.history[\"val_loss\"]\n",
    "    epochs = range(len(loss))\n",
    "    plt.figure(figsize=(10,5))\n",
    "    plt.plot(epochs, loss, \"b\", label=\"Training loss\")\n",
    "    plt.plot(epochs, val_loss, \"r\", label=\"Validation loss\")\n",
    "    plt.title(title)\n",
    "    plt.xlabel(\"Epochs\")\n",
    "    plt.ylabel(\"Loss\")\n",
    "    plt.legend()\n",
    "    plt.show()\n",
    "\n",
    "visualize_loss(history, \"Training and Validation Loss\")"
   ]
  },
  {
   "cell_type": "code",
   "execution_count": 27,
   "id": "b42e7b87",
   "metadata": {},
   "outputs": [
    {
     "data": {
      "application/vnd.plotly.v1+json": {
       "config": {
        "plotlyServerURL": "https://plot.ly"
       },
       "data": [
        {
         "hovertemplate": "variable=Training loss<br>index=%{x}<br>value=%{y}<extra></extra>",
         "legendgroup": "Training loss",
         "line": {
          "color": "#636efa",
          "dash": "solid"
         },
         "marker": {
          "symbol": "circle"
         },
         "mode": "lines",
         "name": "Training loss",
         "orientation": "v",
         "showlegend": true,
         "type": "scatter",
         "x": [
          0,
          1,
          2,
          3,
          4,
          5,
          6,
          7,
          8,
          9,
          10,
          11,
          12,
          13,
          14,
          15,
          16,
          17,
          18,
          19,
          20,
          21,
          22,
          23,
          24,
          25,
          26,
          27,
          28,
          29,
          30,
          31,
          32,
          33,
          34,
          35,
          36,
          37,
          38,
          39,
          40,
          41,
          42,
          43,
          44,
          45,
          46,
          47,
          48,
          49,
          50,
          51,
          52,
          53,
          54,
          55,
          56,
          57,
          58,
          59,
          60,
          61,
          62,
          63,
          64,
          65,
          66,
          67,
          68,
          69,
          70,
          71,
          72,
          73,
          74,
          75,
          76,
          77,
          78,
          79,
          80,
          81,
          82,
          83,
          84,
          85,
          86,
          87,
          88,
          89,
          90,
          91,
          92,
          93,
          94,
          95,
          96,
          97,
          98,
          99,
          100,
          101,
          102,
          103,
          104,
          105,
          106,
          107,
          108,
          109,
          110,
          111,
          112,
          113,
          114,
          115,
          116,
          117,
          118,
          119,
          120,
          121,
          122,
          123,
          124,
          125,
          126,
          127
         ],
         "xaxis": "x",
         "y": [
          0.28439682722091675,
          0.2639225125312805,
          0.25172775983810425,
          0.24248768389225006,
          0.22987788915634155,
          0.22521626949310303,
          0.21367837488651276,
          0.20605133473873138,
          0.1975649893283844,
          0.1919746845960617,
          0.18501926958560944,
          0.18047945201396942,
          0.17655910551548004,
          0.17092086374759674,
          0.1661359965801239,
          0.16190609335899353,
          0.15726497769355774,
          0.15344639122486115,
          0.15032538771629333,
          0.1489202082157135,
          0.1446772813796997,
          0.14129826426506042,
          0.13792535662651062,
          0.13464154303073883,
          0.13306839764118195,
          0.13001196086406708,
          0.12791188061237335,
          0.12448852509260178,
          0.12221699953079224,
          0.12112493813037872,
          0.11800598353147507,
          0.11537998169660568,
          0.11346694082021713,
          0.11186511069536209,
          0.10820791125297546,
          0.10568272322416306,
          0.10641223192214966,
          0.10250026732683182,
          0.10217878222465515,
          0.09810938686132431,
          0.09788841754198074,
          0.09492433816194534,
          0.09376592934131622,
          0.09134121239185333,
          0.0897882878780365,
          0.08679763972759247,
          0.08852982521057129,
          0.08598142117261887,
          0.08139414340257645,
          0.08166822046041489,
          0.08050917834043503,
          0.07766517251729965,
          0.07598842680454254,
          0.07623223215341568,
          0.07578422874212265,
          0.07597198337316513,
          0.07314179837703705,
          0.07093437761068344,
          0.07109328359365463,
          0.06880129128694534,
          0.06697636842727661,
          0.06663575023412704,
          0.0686340257525444,
          0.06641127914190292,
          0.06534644216299057,
          0.06857970356941223,
          0.06289516389369965,
          0.059852320700883865,
          0.06363969296216965,
          0.06219887360930443,
          0.06313980370759964,
          0.06393265724182129,
          0.06461814045906067,
          0.0616406574845314,
          0.061371929943561554,
          0.060616087168455124,
          0.060469742864370346,
          0.0600765161216259,
          0.05867564678192139,
          0.059451594948768616,
          0.0615718774497509,
          0.06011847406625748,
          0.06371331214904785,
          0.06013499200344086,
          0.05973276123404503,
          0.06118284910917282,
          0.06019901856780052,
          0.061369139701128006,
          0.061334915459156036,
          0.06059587001800537,
          0.060283102095127106,
          0.060780905187129974,
          0.05726252868771553,
          0.058730918914079666,
          0.05823468789458275,
          0.059257298707962036,
          0.05643218755722046,
          0.05916707217693329,
          0.060576267540454865,
          0.05808625742793083,
          0.06132211536169052,
          0.05877913162112236,
          0.057894017547369,
          0.057794734835624695,
          0.059841059148311615,
          0.06184735894203186,
          0.05738003924489021,
          0.060204390436410904,
          0.058833781629800797,
          0.06193629652261734,
          0.05780769884586334,
          0.0579393208026886,
          0.05759916454553604,
          0.05763230472803116,
          0.06123992055654526,
          0.059379808604717255,
          0.05965513363480568,
          0.060347940772771835,
          0.05812912806868553,
          0.057579923421144485,
          0.05983676761388779,
          0.05984741076827049,
          0.06169496104121208,
          0.05569151043891907,
          0.05707620084285736,
          0.05885491892695427,
          0.057329293340444565,
          0.05796561762690544
         ],
         "yaxis": "y"
        },
        {
         "hovertemplate": "variable=Validation loss<br>index=%{x}<br>value=%{y}<extra></extra>",
         "legendgroup": "Validation loss",
         "line": {
          "color": "#EF553B",
          "dash": "solid"
         },
         "marker": {
          "symbol": "circle"
         },
         "mode": "lines",
         "name": "Validation loss",
         "orientation": "v",
         "showlegend": true,
         "type": "scatter",
         "x": [
          0,
          1,
          2,
          3,
          4,
          5,
          6,
          7,
          8,
          9,
          10,
          11,
          12,
          13,
          14,
          15,
          16,
          17,
          18,
          19,
          20,
          21,
          22,
          23,
          24,
          25,
          26,
          27,
          28,
          29,
          30,
          31,
          32,
          33,
          34,
          35,
          36,
          37,
          38,
          39,
          40,
          41,
          42,
          43,
          44,
          45,
          46,
          47,
          48,
          49,
          50,
          51,
          52,
          53,
          54,
          55,
          56,
          57,
          58,
          59,
          60,
          61,
          62,
          63,
          64,
          65,
          66,
          67,
          68,
          69,
          70,
          71,
          72,
          73,
          74,
          75,
          76,
          77,
          78,
          79,
          80,
          81,
          82,
          83,
          84,
          85,
          86,
          87,
          88,
          89,
          90,
          91,
          92,
          93,
          94,
          95,
          96,
          97,
          98,
          99,
          100,
          101,
          102,
          103,
          104,
          105,
          106,
          107,
          108,
          109,
          110,
          111,
          112,
          113,
          114,
          115,
          116,
          117,
          118,
          119,
          120,
          121,
          122,
          123,
          124,
          125,
          126,
          127
         ],
         "xaxis": "x",
         "y": [
          0.4171283543109894,
          0.3997512757778168,
          0.3836371600627899,
          0.3687678277492523,
          0.3551051914691925,
          0.34247127175331116,
          0.3308268189430237,
          0.3201090395450592,
          0.3102748692035675,
          0.3012155592441559,
          0.2928907871246338,
          0.28515979647636414,
          0.2779545783996582,
          0.27122119069099426,
          0.2649177610874176,
          0.2590070068836212,
          0.2534102499485016,
          0.24810539186000824,
          0.24306340515613556,
          0.23825614154338837,
          0.2336437702178955,
          0.2292032688856125,
          0.2249191552400589,
          0.22077950835227966,
          0.2167784422636032,
          0.2128879278898239,
          0.20909300446510315,
          0.2053847312927246,
          0.2017659842967987,
          0.1982155740261078,
          0.19473052024841309,
          0.19127321243286133,
          0.1878667026758194,
          0.18449759483337402,
          0.18116387724876404,
          0.17784500122070312,
          0.17458927631378174,
          0.17137135565280914,
          0.16819466650485992,
          0.16502952575683594,
          0.1618863344192505,
          0.15876899659633636,
          0.1556748002767563,
          0.1526130884885788,
          0.14957214891910553,
          0.14655467867851257,
          0.14359986782073975,
          0.14071722328662872,
          0.13785341382026672,
          0.1349954903125763,
          0.13217803835868835,
          0.1294143795967102,
          0.1267062872648239,
          0.12409115582704544,
          0.12159644067287445,
          0.11921357363462448,
          0.11693556606769562,
          0.11474473774433136,
          0.11268226057291031,
          0.11071006208658218,
          0.10882245004177094,
          0.1070442721247673,
          0.10540854185819626,
          0.10386587679386139,
          0.10244929045438766,
          0.10119136422872543,
          0.10004900395870209,
          0.09896273910999298,
          0.09796462208032608,
          0.09710556268692017,
          0.09635043889284134,
          0.09572585672140121,
          0.09520300477743149,
          0.09474456310272217,
          0.09432276338338852,
          0.0939350575208664,
          0.09354417026042938,
          0.09315209090709686,
          0.09275525063276291,
          0.09236007183790207,
          0.09204090386629105,
          0.09176790714263916,
          0.09155305474996567,
          0.09138556569814682,
          0.0912356898188591,
          0.09110040962696075,
          0.09094279259443283,
          0.09080232679843903,
          0.09069488942623138,
          0.09061181545257568,
          0.09055043756961823,
          0.0905374214053154,
          0.09053343534469604,
          0.09049529582262039,
          0.09038513153791428,
          0.09021981805562973,
          0.09005169570446014,
          0.08990151435136795,
          0.0898115262389183,
          0.08972644060850143,
          0.08969883620738983,
          0.089631088078022,
          0.08957893401384354,
          0.08952032029628754,
          0.08947009593248367,
          0.0894317552447319,
          0.08939606696367264,
          0.08937998861074448,
          0.0893508791923523,
          0.08926450461149216,
          0.08915857970714569,
          0.08909254521131516,
          0.08903462439775467,
          0.08897515386343002,
          0.0889669731259346,
          0.08900483697652817,
          0.08906684815883636,
          0.08907680958509445,
          0.08903606981039047,
          0.08891119807958603,
          0.08882928639650345,
          0.0887494683265686,
          0.08869651705026627,
          0.08869801461696625,
          0.08869921416044235,
          0.08872752636671066,
          0.08880650997161865,
          0.08887676149606705
         ],
         "yaxis": "y"
        }
       ],
       "layout": {
        "legend": {
         "title": {
          "text": ""
         },
         "tracegroupgap": 0
        },
        "margin": {
         "t": 60
        },
        "template": {
         "data": {
          "bar": [
           {
            "error_x": {
             "color": "#2a3f5f"
            },
            "error_y": {
             "color": "#2a3f5f"
            },
            "marker": {
             "line": {
              "color": "#E5ECF6",
              "width": 0.5
             },
             "pattern": {
              "fillmode": "overlay",
              "size": 10,
              "solidity": 0.2
             }
            },
            "type": "bar"
           }
          ],
          "barpolar": [
           {
            "marker": {
             "line": {
              "color": "#E5ECF6",
              "width": 0.5
             },
             "pattern": {
              "fillmode": "overlay",
              "size": 10,
              "solidity": 0.2
             }
            },
            "type": "barpolar"
           }
          ],
          "carpet": [
           {
            "aaxis": {
             "endlinecolor": "#2a3f5f",
             "gridcolor": "white",
             "linecolor": "white",
             "minorgridcolor": "white",
             "startlinecolor": "#2a3f5f"
            },
            "baxis": {
             "endlinecolor": "#2a3f5f",
             "gridcolor": "white",
             "linecolor": "white",
             "minorgridcolor": "white",
             "startlinecolor": "#2a3f5f"
            },
            "type": "carpet"
           }
          ],
          "choropleth": [
           {
            "colorbar": {
             "outlinewidth": 0,
             "ticks": ""
            },
            "type": "choropleth"
           }
          ],
          "contour": [
           {
            "colorbar": {
             "outlinewidth": 0,
             "ticks": ""
            },
            "colorscale": [
             [
              0,
              "#0d0887"
             ],
             [
              0.1111111111111111,
              "#46039f"
             ],
             [
              0.2222222222222222,
              "#7201a8"
             ],
             [
              0.3333333333333333,
              "#9c179e"
             ],
             [
              0.4444444444444444,
              "#bd3786"
             ],
             [
              0.5555555555555556,
              "#d8576b"
             ],
             [
              0.6666666666666666,
              "#ed7953"
             ],
             [
              0.7777777777777778,
              "#fb9f3a"
             ],
             [
              0.8888888888888888,
              "#fdca26"
             ],
             [
              1,
              "#f0f921"
             ]
            ],
            "type": "contour"
           }
          ],
          "contourcarpet": [
           {
            "colorbar": {
             "outlinewidth": 0,
             "ticks": ""
            },
            "type": "contourcarpet"
           }
          ],
          "heatmap": [
           {
            "colorbar": {
             "outlinewidth": 0,
             "ticks": ""
            },
            "colorscale": [
             [
              0,
              "#0d0887"
             ],
             [
              0.1111111111111111,
              "#46039f"
             ],
             [
              0.2222222222222222,
              "#7201a8"
             ],
             [
              0.3333333333333333,
              "#9c179e"
             ],
             [
              0.4444444444444444,
              "#bd3786"
             ],
             [
              0.5555555555555556,
              "#d8576b"
             ],
             [
              0.6666666666666666,
              "#ed7953"
             ],
             [
              0.7777777777777778,
              "#fb9f3a"
             ],
             [
              0.8888888888888888,
              "#fdca26"
             ],
             [
              1,
              "#f0f921"
             ]
            ],
            "type": "heatmap"
           }
          ],
          "heatmapgl": [
           {
            "colorbar": {
             "outlinewidth": 0,
             "ticks": ""
            },
            "colorscale": [
             [
              0,
              "#0d0887"
             ],
             [
              0.1111111111111111,
              "#46039f"
             ],
             [
              0.2222222222222222,
              "#7201a8"
             ],
             [
              0.3333333333333333,
              "#9c179e"
             ],
             [
              0.4444444444444444,
              "#bd3786"
             ],
             [
              0.5555555555555556,
              "#d8576b"
             ],
             [
              0.6666666666666666,
              "#ed7953"
             ],
             [
              0.7777777777777778,
              "#fb9f3a"
             ],
             [
              0.8888888888888888,
              "#fdca26"
             ],
             [
              1,
              "#f0f921"
             ]
            ],
            "type": "heatmapgl"
           }
          ],
          "histogram": [
           {
            "marker": {
             "pattern": {
              "fillmode": "overlay",
              "size": 10,
              "solidity": 0.2
             }
            },
            "type": "histogram"
           }
          ],
          "histogram2d": [
           {
            "colorbar": {
             "outlinewidth": 0,
             "ticks": ""
            },
            "colorscale": [
             [
              0,
              "#0d0887"
             ],
             [
              0.1111111111111111,
              "#46039f"
             ],
             [
              0.2222222222222222,
              "#7201a8"
             ],
             [
              0.3333333333333333,
              "#9c179e"
             ],
             [
              0.4444444444444444,
              "#bd3786"
             ],
             [
              0.5555555555555556,
              "#d8576b"
             ],
             [
              0.6666666666666666,
              "#ed7953"
             ],
             [
              0.7777777777777778,
              "#fb9f3a"
             ],
             [
              0.8888888888888888,
              "#fdca26"
             ],
             [
              1,
              "#f0f921"
             ]
            ],
            "type": "histogram2d"
           }
          ],
          "histogram2dcontour": [
           {
            "colorbar": {
             "outlinewidth": 0,
             "ticks": ""
            },
            "colorscale": [
             [
              0,
              "#0d0887"
             ],
             [
              0.1111111111111111,
              "#46039f"
             ],
             [
              0.2222222222222222,
              "#7201a8"
             ],
             [
              0.3333333333333333,
              "#9c179e"
             ],
             [
              0.4444444444444444,
              "#bd3786"
             ],
             [
              0.5555555555555556,
              "#d8576b"
             ],
             [
              0.6666666666666666,
              "#ed7953"
             ],
             [
              0.7777777777777778,
              "#fb9f3a"
             ],
             [
              0.8888888888888888,
              "#fdca26"
             ],
             [
              1,
              "#f0f921"
             ]
            ],
            "type": "histogram2dcontour"
           }
          ],
          "mesh3d": [
           {
            "colorbar": {
             "outlinewidth": 0,
             "ticks": ""
            },
            "type": "mesh3d"
           }
          ],
          "parcoords": [
           {
            "line": {
             "colorbar": {
              "outlinewidth": 0,
              "ticks": ""
             }
            },
            "type": "parcoords"
           }
          ],
          "pie": [
           {
            "automargin": true,
            "type": "pie"
           }
          ],
          "scatter": [
           {
            "fillpattern": {
             "fillmode": "overlay",
             "size": 10,
             "solidity": 0.2
            },
            "type": "scatter"
           }
          ],
          "scatter3d": [
           {
            "line": {
             "colorbar": {
              "outlinewidth": 0,
              "ticks": ""
             }
            },
            "marker": {
             "colorbar": {
              "outlinewidth": 0,
              "ticks": ""
             }
            },
            "type": "scatter3d"
           }
          ],
          "scattercarpet": [
           {
            "marker": {
             "colorbar": {
              "outlinewidth": 0,
              "ticks": ""
             }
            },
            "type": "scattercarpet"
           }
          ],
          "scattergeo": [
           {
            "marker": {
             "colorbar": {
              "outlinewidth": 0,
              "ticks": ""
             }
            },
            "type": "scattergeo"
           }
          ],
          "scattergl": [
           {
            "marker": {
             "colorbar": {
              "outlinewidth": 0,
              "ticks": ""
             }
            },
            "type": "scattergl"
           }
          ],
          "scattermapbox": [
           {
            "marker": {
             "colorbar": {
              "outlinewidth": 0,
              "ticks": ""
             }
            },
            "type": "scattermapbox"
           }
          ],
          "scatterpolar": [
           {
            "marker": {
             "colorbar": {
              "outlinewidth": 0,
              "ticks": ""
             }
            },
            "type": "scatterpolar"
           }
          ],
          "scatterpolargl": [
           {
            "marker": {
             "colorbar": {
              "outlinewidth": 0,
              "ticks": ""
             }
            },
            "type": "scatterpolargl"
           }
          ],
          "scatterternary": [
           {
            "marker": {
             "colorbar": {
              "outlinewidth": 0,
              "ticks": ""
             }
            },
            "type": "scatterternary"
           }
          ],
          "surface": [
           {
            "colorbar": {
             "outlinewidth": 0,
             "ticks": ""
            },
            "colorscale": [
             [
              0,
              "#0d0887"
             ],
             [
              0.1111111111111111,
              "#46039f"
             ],
             [
              0.2222222222222222,
              "#7201a8"
             ],
             [
              0.3333333333333333,
              "#9c179e"
             ],
             [
              0.4444444444444444,
              "#bd3786"
             ],
             [
              0.5555555555555556,
              "#d8576b"
             ],
             [
              0.6666666666666666,
              "#ed7953"
             ],
             [
              0.7777777777777778,
              "#fb9f3a"
             ],
             [
              0.8888888888888888,
              "#fdca26"
             ],
             [
              1,
              "#f0f921"
             ]
            ],
            "type": "surface"
           }
          ],
          "table": [
           {
            "cells": {
             "fill": {
              "color": "#EBF0F8"
             },
             "line": {
              "color": "white"
             }
            },
            "header": {
             "fill": {
              "color": "#C8D4E3"
             },
             "line": {
              "color": "white"
             }
            },
            "type": "table"
           }
          ]
         },
         "layout": {
          "annotationdefaults": {
           "arrowcolor": "#2a3f5f",
           "arrowhead": 0,
           "arrowwidth": 1
          },
          "autotypenumbers": "strict",
          "coloraxis": {
           "colorbar": {
            "outlinewidth": 0,
            "ticks": ""
           }
          },
          "colorscale": {
           "diverging": [
            [
             0,
             "#8e0152"
            ],
            [
             0.1,
             "#c51b7d"
            ],
            [
             0.2,
             "#de77ae"
            ],
            [
             0.3,
             "#f1b6da"
            ],
            [
             0.4,
             "#fde0ef"
            ],
            [
             0.5,
             "#f7f7f7"
            ],
            [
             0.6,
             "#e6f5d0"
            ],
            [
             0.7,
             "#b8e186"
            ],
            [
             0.8,
             "#7fbc41"
            ],
            [
             0.9,
             "#4d9221"
            ],
            [
             1,
             "#276419"
            ]
           ],
           "sequential": [
            [
             0,
             "#0d0887"
            ],
            [
             0.1111111111111111,
             "#46039f"
            ],
            [
             0.2222222222222222,
             "#7201a8"
            ],
            [
             0.3333333333333333,
             "#9c179e"
            ],
            [
             0.4444444444444444,
             "#bd3786"
            ],
            [
             0.5555555555555556,
             "#d8576b"
            ],
            [
             0.6666666666666666,
             "#ed7953"
            ],
            [
             0.7777777777777778,
             "#fb9f3a"
            ],
            [
             0.8888888888888888,
             "#fdca26"
            ],
            [
             1,
             "#f0f921"
            ]
           ],
           "sequentialminus": [
            [
             0,
             "#0d0887"
            ],
            [
             0.1111111111111111,
             "#46039f"
            ],
            [
             0.2222222222222222,
             "#7201a8"
            ],
            [
             0.3333333333333333,
             "#9c179e"
            ],
            [
             0.4444444444444444,
             "#bd3786"
            ],
            [
             0.5555555555555556,
             "#d8576b"
            ],
            [
             0.6666666666666666,
             "#ed7953"
            ],
            [
             0.7777777777777778,
             "#fb9f3a"
            ],
            [
             0.8888888888888888,
             "#fdca26"
            ],
            [
             1,
             "#f0f921"
            ]
           ]
          },
          "colorway": [
           "#636efa",
           "#EF553B",
           "#00cc96",
           "#ab63fa",
           "#FFA15A",
           "#19d3f3",
           "#FF6692",
           "#B6E880",
           "#FF97FF",
           "#FECB52"
          ],
          "font": {
           "color": "#2a3f5f"
          },
          "geo": {
           "bgcolor": "white",
           "lakecolor": "white",
           "landcolor": "#E5ECF6",
           "showlakes": true,
           "showland": true,
           "subunitcolor": "white"
          },
          "hoverlabel": {
           "align": "left"
          },
          "hovermode": "closest",
          "mapbox": {
           "style": "light"
          },
          "paper_bgcolor": "white",
          "plot_bgcolor": "#E5ECF6",
          "polar": {
           "angularaxis": {
            "gridcolor": "white",
            "linecolor": "white",
            "ticks": ""
           },
           "bgcolor": "#E5ECF6",
           "radialaxis": {
            "gridcolor": "white",
            "linecolor": "white",
            "ticks": ""
           }
          },
          "scene": {
           "xaxis": {
            "backgroundcolor": "#E5ECF6",
            "gridcolor": "white",
            "gridwidth": 2,
            "linecolor": "white",
            "showbackground": true,
            "ticks": "",
            "zerolinecolor": "white"
           },
           "yaxis": {
            "backgroundcolor": "#E5ECF6",
            "gridcolor": "white",
            "gridwidth": 2,
            "linecolor": "white",
            "showbackground": true,
            "ticks": "",
            "zerolinecolor": "white"
           },
           "zaxis": {
            "backgroundcolor": "#E5ECF6",
            "gridcolor": "white",
            "gridwidth": 2,
            "linecolor": "white",
            "showbackground": true,
            "ticks": "",
            "zerolinecolor": "white"
           }
          },
          "shapedefaults": {
           "line": {
            "color": "#2a3f5f"
           }
          },
          "ternary": {
           "aaxis": {
            "gridcolor": "white",
            "linecolor": "white",
            "ticks": ""
           },
           "baxis": {
            "gridcolor": "white",
            "linecolor": "white",
            "ticks": ""
           },
           "bgcolor": "#E5ECF6",
           "caxis": {
            "gridcolor": "white",
            "linecolor": "white",
            "ticks": ""
           }
          },
          "title": {
           "x": 0.05
          },
          "xaxis": {
           "automargin": true,
           "gridcolor": "white",
           "linecolor": "white",
           "ticks": "",
           "title": {
            "standoff": 15
           },
           "zerolinecolor": "white",
           "zerolinewidth": 2
          },
          "yaxis": {
           "automargin": true,
           "gridcolor": "white",
           "linecolor": "white",
           "ticks": "",
           "title": {
            "standoff": 15
           },
           "zerolinecolor": "white",
           "zerolinewidth": 2
          }
         }
        },
        "title": {
         "text": "Training and Validation Loss"
        },
        "xaxis": {
         "anchor": "y",
         "domain": [
          0,
          1
         ],
         "title": {
          "text": "Epochs"
         }
        },
        "yaxis": {
         "anchor": "x",
         "domain": [
          0,
          1
         ],
         "title": {
          "text": "Loss"
         }
        }
       }
      },
      "text/html": [
       "<div>                            <div id=\"7ac8e384-76c0-4410-9c40-ba3380094148\" class=\"plotly-graph-div\" style=\"height:525px; width:100%;\"></div>            <script type=\"text/javascript\">                require([\"plotly\"], function(Plotly) {                    window.PLOTLYENV=window.PLOTLYENV || {};                                    if (document.getElementById(\"7ac8e384-76c0-4410-9c40-ba3380094148\")) {                    Plotly.newPlot(                        \"7ac8e384-76c0-4410-9c40-ba3380094148\",                        [{\"hovertemplate\":\"variable=Training loss<br>index=%{x}<br>value=%{y}<extra></extra>\",\"legendgroup\":\"Training loss\",\"line\":{\"color\":\"#636efa\",\"dash\":\"solid\"},\"marker\":{\"symbol\":\"circle\"},\"mode\":\"lines\",\"name\":\"Training loss\",\"orientation\":\"v\",\"showlegend\":true,\"x\":[0,1,2,3,4,5,6,7,8,9,10,11,12,13,14,15,16,17,18,19,20,21,22,23,24,25,26,27,28,29,30,31,32,33,34,35,36,37,38,39,40,41,42,43,44,45,46,47,48,49,50,51,52,53,54,55,56,57,58,59,60,61,62,63,64,65,66,67,68,69,70,71,72,73,74,75,76,77,78,79,80,81,82,83,84,85,86,87,88,89,90,91,92,93,94,95,96,97,98,99,100,101,102,103,104,105,106,107,108,109,110,111,112,113,114,115,116,117,118,119,120,121,122,123,124,125,126,127],\"xaxis\":\"x\",\"y\":[0.28439682722091675,0.2639225125312805,0.25172775983810425,0.24248768389225006,0.22987788915634155,0.22521626949310303,0.21367837488651276,0.20605133473873138,0.1975649893283844,0.1919746845960617,0.18501926958560944,0.18047945201396942,0.17655910551548004,0.17092086374759674,0.1661359965801239,0.16190609335899353,0.15726497769355774,0.15344639122486115,0.15032538771629333,0.1489202082157135,0.1446772813796997,0.14129826426506042,0.13792535662651062,0.13464154303073883,0.13306839764118195,0.13001196086406708,0.12791188061237335,0.12448852509260178,0.12221699953079224,0.12112493813037872,0.11800598353147507,0.11537998169660568,0.11346694082021713,0.11186511069536209,0.10820791125297546,0.10568272322416306,0.10641223192214966,0.10250026732683182,0.10217878222465515,0.09810938686132431,0.09788841754198074,0.09492433816194534,0.09376592934131622,0.09134121239185333,0.0897882878780365,0.08679763972759247,0.08852982521057129,0.08598142117261887,0.08139414340257645,0.08166822046041489,0.08050917834043503,0.07766517251729965,0.07598842680454254,0.07623223215341568,0.07578422874212265,0.07597198337316513,0.07314179837703705,0.07093437761068344,0.07109328359365463,0.06880129128694534,0.06697636842727661,0.06663575023412704,0.0686340257525444,0.06641127914190292,0.06534644216299057,0.06857970356941223,0.06289516389369965,0.059852320700883865,0.06363969296216965,0.06219887360930443,0.06313980370759964,0.06393265724182129,0.06461814045906067,0.0616406574845314,0.061371929943561554,0.060616087168455124,0.060469742864370346,0.0600765161216259,0.05867564678192139,0.059451594948768616,0.0615718774497509,0.06011847406625748,0.06371331214904785,0.06013499200344086,0.05973276123404503,0.06118284910917282,0.06019901856780052,0.061369139701128006,0.061334915459156036,0.06059587001800537,0.060283102095127106,0.060780905187129974,0.05726252868771553,0.058730918914079666,0.05823468789458275,0.059257298707962036,0.05643218755722046,0.05916707217693329,0.060576267540454865,0.05808625742793083,0.06132211536169052,0.05877913162112236,0.057894017547369,0.057794734835624695,0.059841059148311615,0.06184735894203186,0.05738003924489021,0.060204390436410904,0.058833781629800797,0.06193629652261734,0.05780769884586334,0.0579393208026886,0.05759916454553604,0.05763230472803116,0.06123992055654526,0.059379808604717255,0.05965513363480568,0.060347940772771835,0.05812912806868553,0.057579923421144485,0.05983676761388779,0.05984741076827049,0.06169496104121208,0.05569151043891907,0.05707620084285736,0.05885491892695427,0.057329293340444565,0.05796561762690544],\"yaxis\":\"y\",\"type\":\"scatter\"},{\"hovertemplate\":\"variable=Validation loss<br>index=%{x}<br>value=%{y}<extra></extra>\",\"legendgroup\":\"Validation loss\",\"line\":{\"color\":\"#EF553B\",\"dash\":\"solid\"},\"marker\":{\"symbol\":\"circle\"},\"mode\":\"lines\",\"name\":\"Validation loss\",\"orientation\":\"v\",\"showlegend\":true,\"x\":[0,1,2,3,4,5,6,7,8,9,10,11,12,13,14,15,16,17,18,19,20,21,22,23,24,25,26,27,28,29,30,31,32,33,34,35,36,37,38,39,40,41,42,43,44,45,46,47,48,49,50,51,52,53,54,55,56,57,58,59,60,61,62,63,64,65,66,67,68,69,70,71,72,73,74,75,76,77,78,79,80,81,82,83,84,85,86,87,88,89,90,91,92,93,94,95,96,97,98,99,100,101,102,103,104,105,106,107,108,109,110,111,112,113,114,115,116,117,118,119,120,121,122,123,124,125,126,127],\"xaxis\":\"x\",\"y\":[0.4171283543109894,0.3997512757778168,0.3836371600627899,0.3687678277492523,0.3551051914691925,0.34247127175331116,0.3308268189430237,0.3201090395450592,0.3102748692035675,0.3012155592441559,0.2928907871246338,0.28515979647636414,0.2779545783996582,0.27122119069099426,0.2649177610874176,0.2590070068836212,0.2534102499485016,0.24810539186000824,0.24306340515613556,0.23825614154338837,0.2336437702178955,0.2292032688856125,0.2249191552400589,0.22077950835227966,0.2167784422636032,0.2128879278898239,0.20909300446510315,0.2053847312927246,0.2017659842967987,0.1982155740261078,0.19473052024841309,0.19127321243286133,0.1878667026758194,0.18449759483337402,0.18116387724876404,0.17784500122070312,0.17458927631378174,0.17137135565280914,0.16819466650485992,0.16502952575683594,0.1618863344192505,0.15876899659633636,0.1556748002767563,0.1526130884885788,0.14957214891910553,0.14655467867851257,0.14359986782073975,0.14071722328662872,0.13785341382026672,0.1349954903125763,0.13217803835868835,0.1294143795967102,0.1267062872648239,0.12409115582704544,0.12159644067287445,0.11921357363462448,0.11693556606769562,0.11474473774433136,0.11268226057291031,0.11071006208658218,0.10882245004177094,0.1070442721247673,0.10540854185819626,0.10386587679386139,0.10244929045438766,0.10119136422872543,0.10004900395870209,0.09896273910999298,0.09796462208032608,0.09710556268692017,0.09635043889284134,0.09572585672140121,0.09520300477743149,0.09474456310272217,0.09432276338338852,0.0939350575208664,0.09354417026042938,0.09315209090709686,0.09275525063276291,0.09236007183790207,0.09204090386629105,0.09176790714263916,0.09155305474996567,0.09138556569814682,0.0912356898188591,0.09110040962696075,0.09094279259443283,0.09080232679843903,0.09069488942623138,0.09061181545257568,0.09055043756961823,0.0905374214053154,0.09053343534469604,0.09049529582262039,0.09038513153791428,0.09021981805562973,0.09005169570446014,0.08990151435136795,0.0898115262389183,0.08972644060850143,0.08969883620738983,0.089631088078022,0.08957893401384354,0.08952032029628754,0.08947009593248367,0.0894317552447319,0.08939606696367264,0.08937998861074448,0.0893508791923523,0.08926450461149216,0.08915857970714569,0.08909254521131516,0.08903462439775467,0.08897515386343002,0.0889669731259346,0.08900483697652817,0.08906684815883636,0.08907680958509445,0.08903606981039047,0.08891119807958603,0.08882928639650345,0.0887494683265686,0.08869651705026627,0.08869801461696625,0.08869921416044235,0.08872752636671066,0.08880650997161865,0.08887676149606705],\"yaxis\":\"y\",\"type\":\"scatter\"}],                        {\"template\":{\"data\":{\"histogram2dcontour\":[{\"type\":\"histogram2dcontour\",\"colorbar\":{\"outlinewidth\":0,\"ticks\":\"\"},\"colorscale\":[[0.0,\"#0d0887\"],[0.1111111111111111,\"#46039f\"],[0.2222222222222222,\"#7201a8\"],[0.3333333333333333,\"#9c179e\"],[0.4444444444444444,\"#bd3786\"],[0.5555555555555556,\"#d8576b\"],[0.6666666666666666,\"#ed7953\"],[0.7777777777777778,\"#fb9f3a\"],[0.8888888888888888,\"#fdca26\"],[1.0,\"#f0f921\"]]}],\"choropleth\":[{\"type\":\"choropleth\",\"colorbar\":{\"outlinewidth\":0,\"ticks\":\"\"}}],\"histogram2d\":[{\"type\":\"histogram2d\",\"colorbar\":{\"outlinewidth\":0,\"ticks\":\"\"},\"colorscale\":[[0.0,\"#0d0887\"],[0.1111111111111111,\"#46039f\"],[0.2222222222222222,\"#7201a8\"],[0.3333333333333333,\"#9c179e\"],[0.4444444444444444,\"#bd3786\"],[0.5555555555555556,\"#d8576b\"],[0.6666666666666666,\"#ed7953\"],[0.7777777777777778,\"#fb9f3a\"],[0.8888888888888888,\"#fdca26\"],[1.0,\"#f0f921\"]]}],\"heatmap\":[{\"type\":\"heatmap\",\"colorbar\":{\"outlinewidth\":0,\"ticks\":\"\"},\"colorscale\":[[0.0,\"#0d0887\"],[0.1111111111111111,\"#46039f\"],[0.2222222222222222,\"#7201a8\"],[0.3333333333333333,\"#9c179e\"],[0.4444444444444444,\"#bd3786\"],[0.5555555555555556,\"#d8576b\"],[0.6666666666666666,\"#ed7953\"],[0.7777777777777778,\"#fb9f3a\"],[0.8888888888888888,\"#fdca26\"],[1.0,\"#f0f921\"]]}],\"heatmapgl\":[{\"type\":\"heatmapgl\",\"colorbar\":{\"outlinewidth\":0,\"ticks\":\"\"},\"colorscale\":[[0.0,\"#0d0887\"],[0.1111111111111111,\"#46039f\"],[0.2222222222222222,\"#7201a8\"],[0.3333333333333333,\"#9c179e\"],[0.4444444444444444,\"#bd3786\"],[0.5555555555555556,\"#d8576b\"],[0.6666666666666666,\"#ed7953\"],[0.7777777777777778,\"#fb9f3a\"],[0.8888888888888888,\"#fdca26\"],[1.0,\"#f0f921\"]]}],\"contourcarpet\":[{\"type\":\"contourcarpet\",\"colorbar\":{\"outlinewidth\":0,\"ticks\":\"\"}}],\"contour\":[{\"type\":\"contour\",\"colorbar\":{\"outlinewidth\":0,\"ticks\":\"\"},\"colorscale\":[[0.0,\"#0d0887\"],[0.1111111111111111,\"#46039f\"],[0.2222222222222222,\"#7201a8\"],[0.3333333333333333,\"#9c179e\"],[0.4444444444444444,\"#bd3786\"],[0.5555555555555556,\"#d8576b\"],[0.6666666666666666,\"#ed7953\"],[0.7777777777777778,\"#fb9f3a\"],[0.8888888888888888,\"#fdca26\"],[1.0,\"#f0f921\"]]}],\"surface\":[{\"type\":\"surface\",\"colorbar\":{\"outlinewidth\":0,\"ticks\":\"\"},\"colorscale\":[[0.0,\"#0d0887\"],[0.1111111111111111,\"#46039f\"],[0.2222222222222222,\"#7201a8\"],[0.3333333333333333,\"#9c179e\"],[0.4444444444444444,\"#bd3786\"],[0.5555555555555556,\"#d8576b\"],[0.6666666666666666,\"#ed7953\"],[0.7777777777777778,\"#fb9f3a\"],[0.8888888888888888,\"#fdca26\"],[1.0,\"#f0f921\"]]}],\"mesh3d\":[{\"type\":\"mesh3d\",\"colorbar\":{\"outlinewidth\":0,\"ticks\":\"\"}}],\"scatter\":[{\"fillpattern\":{\"fillmode\":\"overlay\",\"size\":10,\"solidity\":0.2},\"type\":\"scatter\"}],\"parcoords\":[{\"type\":\"parcoords\",\"line\":{\"colorbar\":{\"outlinewidth\":0,\"ticks\":\"\"}}}],\"scatterpolargl\":[{\"type\":\"scatterpolargl\",\"marker\":{\"colorbar\":{\"outlinewidth\":0,\"ticks\":\"\"}}}],\"bar\":[{\"error_x\":{\"color\":\"#2a3f5f\"},\"error_y\":{\"color\":\"#2a3f5f\"},\"marker\":{\"line\":{\"color\":\"#E5ECF6\",\"width\":0.5},\"pattern\":{\"fillmode\":\"overlay\",\"size\":10,\"solidity\":0.2}},\"type\":\"bar\"}],\"scattergeo\":[{\"type\":\"scattergeo\",\"marker\":{\"colorbar\":{\"outlinewidth\":0,\"ticks\":\"\"}}}],\"scatterpolar\":[{\"type\":\"scatterpolar\",\"marker\":{\"colorbar\":{\"outlinewidth\":0,\"ticks\":\"\"}}}],\"histogram\":[{\"marker\":{\"pattern\":{\"fillmode\":\"overlay\",\"size\":10,\"solidity\":0.2}},\"type\":\"histogram\"}],\"scattergl\":[{\"type\":\"scattergl\",\"marker\":{\"colorbar\":{\"outlinewidth\":0,\"ticks\":\"\"}}}],\"scatter3d\":[{\"type\":\"scatter3d\",\"line\":{\"colorbar\":{\"outlinewidth\":0,\"ticks\":\"\"}},\"marker\":{\"colorbar\":{\"outlinewidth\":0,\"ticks\":\"\"}}}],\"scattermapbox\":[{\"type\":\"scattermapbox\",\"marker\":{\"colorbar\":{\"outlinewidth\":0,\"ticks\":\"\"}}}],\"scatterternary\":[{\"type\":\"scatterternary\",\"marker\":{\"colorbar\":{\"outlinewidth\":0,\"ticks\":\"\"}}}],\"scattercarpet\":[{\"type\":\"scattercarpet\",\"marker\":{\"colorbar\":{\"outlinewidth\":0,\"ticks\":\"\"}}}],\"carpet\":[{\"aaxis\":{\"endlinecolor\":\"#2a3f5f\",\"gridcolor\":\"white\",\"linecolor\":\"white\",\"minorgridcolor\":\"white\",\"startlinecolor\":\"#2a3f5f\"},\"baxis\":{\"endlinecolor\":\"#2a3f5f\",\"gridcolor\":\"white\",\"linecolor\":\"white\",\"minorgridcolor\":\"white\",\"startlinecolor\":\"#2a3f5f\"},\"type\":\"carpet\"}],\"table\":[{\"cells\":{\"fill\":{\"color\":\"#EBF0F8\"},\"line\":{\"color\":\"white\"}},\"header\":{\"fill\":{\"color\":\"#C8D4E3\"},\"line\":{\"color\":\"white\"}},\"type\":\"table\"}],\"barpolar\":[{\"marker\":{\"line\":{\"color\":\"#E5ECF6\",\"width\":0.5},\"pattern\":{\"fillmode\":\"overlay\",\"size\":10,\"solidity\":0.2}},\"type\":\"barpolar\"}],\"pie\":[{\"automargin\":true,\"type\":\"pie\"}]},\"layout\":{\"autotypenumbers\":\"strict\",\"colorway\":[\"#636efa\",\"#EF553B\",\"#00cc96\",\"#ab63fa\",\"#FFA15A\",\"#19d3f3\",\"#FF6692\",\"#B6E880\",\"#FF97FF\",\"#FECB52\"],\"font\":{\"color\":\"#2a3f5f\"},\"hovermode\":\"closest\",\"hoverlabel\":{\"align\":\"left\"},\"paper_bgcolor\":\"white\",\"plot_bgcolor\":\"#E5ECF6\",\"polar\":{\"bgcolor\":\"#E5ECF6\",\"angularaxis\":{\"gridcolor\":\"white\",\"linecolor\":\"white\",\"ticks\":\"\"},\"radialaxis\":{\"gridcolor\":\"white\",\"linecolor\":\"white\",\"ticks\":\"\"}},\"ternary\":{\"bgcolor\":\"#E5ECF6\",\"aaxis\":{\"gridcolor\":\"white\",\"linecolor\":\"white\",\"ticks\":\"\"},\"baxis\":{\"gridcolor\":\"white\",\"linecolor\":\"white\",\"ticks\":\"\"},\"caxis\":{\"gridcolor\":\"white\",\"linecolor\":\"white\",\"ticks\":\"\"}},\"coloraxis\":{\"colorbar\":{\"outlinewidth\":0,\"ticks\":\"\"}},\"colorscale\":{\"sequential\":[[0.0,\"#0d0887\"],[0.1111111111111111,\"#46039f\"],[0.2222222222222222,\"#7201a8\"],[0.3333333333333333,\"#9c179e\"],[0.4444444444444444,\"#bd3786\"],[0.5555555555555556,\"#d8576b\"],[0.6666666666666666,\"#ed7953\"],[0.7777777777777778,\"#fb9f3a\"],[0.8888888888888888,\"#fdca26\"],[1.0,\"#f0f921\"]],\"sequentialminus\":[[0.0,\"#0d0887\"],[0.1111111111111111,\"#46039f\"],[0.2222222222222222,\"#7201a8\"],[0.3333333333333333,\"#9c179e\"],[0.4444444444444444,\"#bd3786\"],[0.5555555555555556,\"#d8576b\"],[0.6666666666666666,\"#ed7953\"],[0.7777777777777778,\"#fb9f3a\"],[0.8888888888888888,\"#fdca26\"],[1.0,\"#f0f921\"]],\"diverging\":[[0,\"#8e0152\"],[0.1,\"#c51b7d\"],[0.2,\"#de77ae\"],[0.3,\"#f1b6da\"],[0.4,\"#fde0ef\"],[0.5,\"#f7f7f7\"],[0.6,\"#e6f5d0\"],[0.7,\"#b8e186\"],[0.8,\"#7fbc41\"],[0.9,\"#4d9221\"],[1,\"#276419\"]]},\"xaxis\":{\"gridcolor\":\"white\",\"linecolor\":\"white\",\"ticks\":\"\",\"title\":{\"standoff\":15},\"zerolinecolor\":\"white\",\"automargin\":true,\"zerolinewidth\":2},\"yaxis\":{\"gridcolor\":\"white\",\"linecolor\":\"white\",\"ticks\":\"\",\"title\":{\"standoff\":15},\"zerolinecolor\":\"white\",\"automargin\":true,\"zerolinewidth\":2},\"scene\":{\"xaxis\":{\"backgroundcolor\":\"#E5ECF6\",\"gridcolor\":\"white\",\"linecolor\":\"white\",\"showbackground\":true,\"ticks\":\"\",\"zerolinecolor\":\"white\",\"gridwidth\":2},\"yaxis\":{\"backgroundcolor\":\"#E5ECF6\",\"gridcolor\":\"white\",\"linecolor\":\"white\",\"showbackground\":true,\"ticks\":\"\",\"zerolinecolor\":\"white\",\"gridwidth\":2},\"zaxis\":{\"backgroundcolor\":\"#E5ECF6\",\"gridcolor\":\"white\",\"linecolor\":\"white\",\"showbackground\":true,\"ticks\":\"\",\"zerolinecolor\":\"white\",\"gridwidth\":2}},\"shapedefaults\":{\"line\":{\"color\":\"#2a3f5f\"}},\"annotationdefaults\":{\"arrowcolor\":\"#2a3f5f\",\"arrowhead\":0,\"arrowwidth\":1},\"geo\":{\"bgcolor\":\"white\",\"landcolor\":\"#E5ECF6\",\"subunitcolor\":\"white\",\"showland\":true,\"showlakes\":true,\"lakecolor\":\"white\"},\"title\":{\"x\":0.05},\"mapbox\":{\"style\":\"light\"}}},\"xaxis\":{\"anchor\":\"y\",\"domain\":[0.0,1.0],\"title\":{\"text\":\"Epochs\"}},\"yaxis\":{\"anchor\":\"x\",\"domain\":[0.0,1.0],\"title\":{\"text\":\"Loss\"}},\"legend\":{\"title\":{\"text\":\"\"},\"tracegroupgap\":0},\"margin\":{\"t\":60},\"title\":{\"text\":\"Training and Validation Loss\"}},                        {\"responsive\": true}                    ).then(function(){\n",
       "                            \n",
       "var gd = document.getElementById('7ac8e384-76c0-4410-9c40-ba3380094148');\n",
       "var x = new MutationObserver(function (mutations, observer) {{\n",
       "        var display = window.getComputedStyle(gd).display;\n",
       "        if (!display || display === 'none') {{\n",
       "            console.log([gd, 'removed!']);\n",
       "            Plotly.purge(gd);\n",
       "            observer.disconnect();\n",
       "        }}\n",
       "}});\n",
       "\n",
       "// Listen for the removal of the full notebook cells\n",
       "var notebookContainer = gd.closest('#notebook-container');\n",
       "if (notebookContainer) {{\n",
       "    x.observe(notebookContainer, {childList: true});\n",
       "}}\n",
       "\n",
       "// Listen for the clearing of the current output cell\n",
       "var outputEl = gd.closest('.output');\n",
       "if (outputEl) {{\n",
       "    x.observe(outputEl, {childList: true});\n",
       "}}\n",
       "\n",
       "                        })                };                });            </script>        </div>"
      ]
     },
     "metadata": {},
     "output_type": "display_data"
    }
   ],
   "source": [
    "def visualize_loss_px(history, title):\n",
    "    loss = history.history[\"loss\"]\n",
    "    val_loss = history.history[\"val_loss\"]\n",
    "    df=pd.DataFrame(data={'Training loss': loss, 'Validation loss': val_loss})\n",
    "    return px.line(df, y=df.columns).update_layout(xaxis_title='Epochs', yaxis_title='Loss',legend_title='',title=title)\n",
    "\n",
    "visualize_loss_px(history, \"Training and Validation Loss\")"
   ]
  }
 ],
 "metadata": {
  "kernelspec": {
   "display_name": "Python 3 (ipykernel)",
   "language": "python",
   "name": "python3"
  },
  "language_info": {
   "codemirror_mode": {
    "name": "ipython",
    "version": 3
   },
   "file_extension": ".py",
   "mimetype": "text/x-python",
   "name": "python",
   "nbconvert_exporter": "python",
   "pygments_lexer": "ipython3",
   "version": "3.9.7"
  }
 },
 "nbformat": 4,
 "nbformat_minor": 5
}

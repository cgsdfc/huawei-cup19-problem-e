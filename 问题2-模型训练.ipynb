{
 "cells": [
  {
   "cell_type": "code",
   "execution_count": 111,
   "id": "74d806f4",
   "metadata": {},
   "outputs": [],
   "source": [
    "import pandas as pd\n",
    "import numpy as np\n",
    "import seaborn as sns\n",
    "from pathlib import Path as P\n",
    "import matplotlib.pyplot as plt\n",
    "plt.rcParams['font.sans-serif'] = ['KaiTi', 'SimHei', 'FangSong']  # 汉字字体,优先使用楷体，如果找不到楷体，则使用黑体\n",
    "plt.rcParams['font.size'] = 12  # 字体大小\n",
    "plt.rcParams['axes.unicode_minus'] = False  # 正常显示负号\n",
    "from collections import defaultdict\n",
    "import plotly.express as px\n",
    "import pickle\n",
    "from sklearn.preprocessing import StandardScaler, MinMaxScaler\n",
    "from sklearn.model_selection import train_test_split\n",
    "\n",
    "import tensorflow.keras as keras"
   ]
  },
  {
   "cell_type": "code",
   "execution_count": 112,
   "id": "bbb641fd",
   "metadata": {},
   "outputs": [],
   "source": [
    "learning_rate=0.01\n",
    "train_size=0.8\n",
    "seqlen=3\n",
    "bs=32\n",
    "epochs=200"
   ]
  },
  {
   "cell_type": "markdown",
   "id": "d81d1e5c",
   "metadata": {},
   "source": [
    "这些是模型的超参数。\n",
    "- learning_rate 是学习率，控制模型收敛的快慢，太大了模型容易发散，太小了模型收敛很慢；\n",
    "- train_size 训练集占整个数据集的比例，一般是28开；\n",
    "- seqlen：序列长度，在时序建模中，就是用前几个样本来预测当前样本；\n",
    "- bs：batch size，批量大小，随机梯度下降算法SGD中，每次用来估计梯度的训练样本数量；\n",
    "考虑到数据集本身只有100多个样本，批量不用太大；\n",
    "- epochs：训练的轮数，即迭代次数；"
   ]
  },
  {
   "cell_type": "code",
   "execution_count": 113,
   "id": "e2d95214",
   "metadata": {},
   "outputs": [],
   "source": [
    "df=pd.read_csv('问题2-训练数据-归一化.csv',index_col='time')"
   ]
  },
  {
   "cell_type": "code",
   "execution_count": 114,
   "id": "6b4a5796",
   "metadata": {},
   "outputs": [],
   "source": [
    "df_train, df_val = train_test_split(df, train_size=train_size, shuffle=True)"
   ]
  },
  {
   "cell_type": "markdown",
   "id": "56fdf415",
   "metadata": {},
   "source": [
    "将数据集分割为训练集和验证集，二者没有交集，训练集用来训练模型，验证集用来确保模型没有过拟合。"
   ]
  },
  {
   "cell_type": "code",
   "execution_count": 115,
   "id": "3100a9c3",
   "metadata": {},
   "outputs": [
    {
     "data": {
      "text/plain": [
       "((98, 6), (25, 6))"
      ]
     },
     "execution_count": 115,
     "metadata": {},
     "output_type": "execute_result"
    }
   ],
   "source": [
    "df_train.shape, df_val.shape"
   ]
  },
  {
   "cell_type": "code",
   "execution_count": 116,
   "id": "b7b95b23",
   "metadata": {},
   "outputs": [],
   "source": [
    "dataset_train = keras.preprocessing.timeseries_dataset_from_array(\n",
    "    df_train.values, df_train.values, sequence_length=seqlen, batch_size=bs)\n",
    "dataset_val = keras.preprocessing.timeseries_dataset_from_array(\n",
    "    df_val.values, df_val.values, sequence_length=seqlen, batch_size=bs)"
   ]
  },
  {
   "cell_type": "markdown",
   "id": "36070078",
   "metadata": {},
   "source": [
    "利用keras的接口构造时序模型需要的时序数据集。"
   ]
  },
  {
   "cell_type": "code",
   "execution_count": 117,
   "id": "baa7adf9",
   "metadata": {},
   "outputs": [
    {
     "data": {
      "text/plain": [
       "(<BatchDataset element_spec=(TensorSpec(shape=(None, None, 6), dtype=tf.float64, name=None), TensorSpec(shape=(None, 6), dtype=tf.float64, name=None))>,\n",
       " <BatchDataset element_spec=(TensorSpec(shape=(None, None, 6), dtype=tf.float64, name=None), TensorSpec(shape=(None, 6), dtype=tf.float64, name=None))>)"
      ]
     },
     "execution_count": 117,
     "metadata": {},
     "output_type": "execute_result"
    }
   ],
   "source": [
    "dataset_train, dataset_val"
   ]
  },
  {
   "cell_type": "markdown",
   "id": "ebd449aa",
   "metadata": {},
   "source": [
    "构建一个单层的LSTM模型。LSTM是一种专门用来建模时序数据的神经网络模型，即长短期记忆（Long Short Term Memory）。\n",
    "可以展开说说理论。"
   ]
  },
  {
   "cell_type": "code",
   "execution_count": 118,
   "id": "aa0ce5fe",
   "metadata": {},
   "outputs": [
    {
     "name": "stdout",
     "output_type": "stream",
     "text": [
      "Model: \"model_8\"\n",
      "_________________________________________________________________\n",
      " Layer (type)                Output Shape              Param #   \n",
      "=================================================================\n",
      " input_9 (InputLayer)        [(None, 3, 6)]            0         \n",
      "                                                                 \n",
      " lstm_8 (LSTM)               (None, 32)                4992      \n",
      "                                                                 \n",
      " dense_8 (Dense)             (None, 6)                 198       \n",
      "                                                                 \n",
      "=================================================================\n",
      "Total params: 5,190\n",
      "Trainable params: 5,190\n",
      "Non-trainable params: 0\n",
      "_________________________________________________________________\n"
     ]
    }
   ],
   "source": [
    "inputs = keras.layers.Input(shape=(SEQ, FEA))\n",
    "lstm_out = keras.layers.LSTM(32)(inputs)\n",
    "outputs = keras.layers.Dense(FEA)(lstm_out)\n",
    "\n",
    "model = keras.Model(inputs=inputs, outputs=outputs)\n",
    "model.compile(optimizer=keras.optimizers.Adam(learning_rate=learning_rate), loss=\"mse\")\n",
    "model.summary()"
   ]
  },
  {
   "cell_type": "markdown",
   "id": "3019bd68",
   "metadata": {},
   "source": [
    "训练模型：\n",
    "1. 使用的损失函数：MSE，Mean Square Error，即均方误差；\n",
    "2. 早停止：当验证误差经过一段时间不再改进之后，停止训练模型，这是一种停止训练循环的策略；\n",
    "3. 检查点：当验证误差出现改进时，保存当前的模型参数；"
   ]
  },
  {
   "cell_type": "code",
   "execution_count": 119,
   "id": "55ab3267",
   "metadata": {
    "scrolled": true
   },
   "outputs": [
    {
     "name": "stdout",
     "output_type": "stream",
     "text": [
      "Epoch 1/200\n",
      "1/3 [=========>....................] - ETA: 3s - loss: 0.1845\n",
      "Epoch 1: val_loss improved from inf to 0.06563, saving model to problem2_checkpoint.h5\n",
      "3/3 [==============================] - 3s 315ms/step - loss: 0.1392 - val_loss: 0.0656\n",
      "Epoch 2/200\n",
      "1/3 [=========>....................] - ETA: 0s - loss: 0.0699\n",
      "Epoch 2: val_loss improved from 0.06563 to 0.06164, saving model to problem2_checkpoint.h5\n",
      "3/3 [==============================] - 0s 71ms/step - loss: 0.0659 - val_loss: 0.0616\n",
      "Epoch 3/200\n",
      "1/3 [=========>....................] - ETA: 0s - loss: 0.0686\n",
      "Epoch 3: val_loss improved from 0.06164 to 0.05271, saving model to problem2_checkpoint.h5\n",
      "3/3 [==============================] - 0s 64ms/step - loss: 0.0653 - val_loss: 0.0527\n",
      "Epoch 4/200\n",
      "1/3 [=========>....................] - ETA: 0s - loss: 0.0564\n",
      "Epoch 4: val_loss improved from 0.05271 to 0.05172, saving model to problem2_checkpoint.h5\n",
      "3/3 [==============================] - 0s 72ms/step - loss: 0.0575 - val_loss: 0.0517\n",
      "Epoch 5/200\n",
      "1/3 [=========>....................] - ETA: 0s - loss: 0.0533\n",
      "Epoch 5: val_loss improved from 0.05172 to 0.04696, saving model to problem2_checkpoint.h5\n",
      "3/3 [==============================] - 0s 64ms/step - loss: 0.0558 - val_loss: 0.0470\n",
      "Epoch 6/200\n",
      "1/3 [=========>....................] - ETA: 0s - loss: 0.0480\n",
      "Epoch 6: val_loss improved from 0.04696 to 0.04122, saving model to problem2_checkpoint.h5\n",
      "3/3 [==============================] - 0s 69ms/step - loss: 0.0501 - val_loss: 0.0412\n",
      "Epoch 7/200\n",
      "1/3 [=========>....................] - ETA: 0s - loss: 0.0429\n",
      "Epoch 7: val_loss improved from 0.04122 to 0.03982, saving model to problem2_checkpoint.h5\n",
      "3/3 [==============================] - 0s 85ms/step - loss: 0.0463 - val_loss: 0.0398\n",
      "Epoch 8/200\n",
      "1/3 [=========>....................] - ETA: 0s - loss: 0.0425\n",
      "Epoch 8: val_loss improved from 0.03982 to 0.03598, saving model to problem2_checkpoint.h5\n",
      "3/3 [==============================] - 0s 77ms/step - loss: 0.0444 - val_loss: 0.0360\n",
      "Epoch 9/200\n",
      "1/3 [=========>....................] - ETA: 0s - loss: 0.0386\n",
      "Epoch 9: val_loss improved from 0.03598 to 0.03254, saving model to problem2_checkpoint.h5\n",
      "3/3 [==============================] - 0s 56ms/step - loss: 0.0394 - val_loss: 0.0325\n",
      "Epoch 10/200\n",
      "1/3 [=========>....................] - ETA: 0s - loss: 0.0341\n",
      "Epoch 10: val_loss improved from 0.03254 to 0.03153, saving model to problem2_checkpoint.h5\n",
      "3/3 [==============================] - 0s 58ms/step - loss: 0.0359 - val_loss: 0.0315\n",
      "Epoch 11/200\n",
      "1/3 [=========>....................] - ETA: 0s - loss: 0.0326\n",
      "Epoch 11: val_loss improved from 0.03153 to 0.03042, saving model to problem2_checkpoint.h5\n",
      "3/3 [==============================] - 0s 59ms/step - loss: 0.0339 - val_loss: 0.0304\n",
      "Epoch 12/200\n",
      "1/3 [=========>....................] - ETA: 0s - loss: 0.0315\n",
      "Epoch 12: val_loss improved from 0.03042 to 0.02877, saving model to problem2_checkpoint.h5\n",
      "3/3 [==============================] - 0s 83ms/step - loss: 0.0311 - val_loss: 0.0288\n",
      "Epoch 13/200\n",
      "1/3 [=========>....................] - ETA: 0s - loss: 0.0291\n",
      "Epoch 13: val_loss improved from 0.02877 to 0.02622, saving model to problem2_checkpoint.h5\n",
      "3/3 [==============================] - 0s 67ms/step - loss: 0.0280 - val_loss: 0.0262\n",
      "Epoch 14/200\n",
      "1/3 [=========>....................] - ETA: 0s - loss: 0.0256\n",
      "Epoch 14: val_loss improved from 0.02622 to 0.02357, saving model to problem2_checkpoint.h5\n",
      "3/3 [==============================] - 0s 53ms/step - loss: 0.0251 - val_loss: 0.0236\n",
      "Epoch 15/200\n",
      "1/3 [=========>....................] - ETA: 0s - loss: 0.0224\n",
      "Epoch 15: val_loss improved from 0.02357 to 0.02109, saving model to problem2_checkpoint.h5\n",
      "3/3 [==============================] - 0s 53ms/step - loss: 0.0223 - val_loss: 0.0211\n",
      "Epoch 16/200\n",
      "1/3 [=========>....................] - ETA: 0s - loss: 0.0199\n",
      "Epoch 16: val_loss improved from 0.02109 to 0.01907, saving model to problem2_checkpoint.h5\n",
      "3/3 [==============================] - 0s 54ms/step - loss: 0.0202 - val_loss: 0.0191\n",
      "Epoch 17/200\n",
      "1/3 [=========>....................] - ETA: 0s - loss: 0.0179\n",
      "Epoch 17: val_loss improved from 0.01907 to 0.01791, saving model to problem2_checkpoint.h5\n",
      "3/3 [==============================] - 0s 77ms/step - loss: 0.0182 - val_loss: 0.0179\n",
      "Epoch 18/200\n",
      "1/3 [=========>....................] - ETA: 0s - loss: 0.0166\n",
      "Epoch 18: val_loss improved from 0.01791 to 0.01638, saving model to problem2_checkpoint.h5\n",
      "3/3 [==============================] - 0s 61ms/step - loss: 0.0166 - val_loss: 0.0164\n",
      "Epoch 19/200\n",
      "1/3 [=========>....................] - ETA: 0s - loss: 0.0149\n",
      "Epoch 19: val_loss improved from 0.01638 to 0.01527, saving model to problem2_checkpoint.h5\n",
      "3/3 [==============================] - 0s 53ms/step - loss: 0.0150 - val_loss: 0.0153\n",
      "Epoch 20/200\n",
      "1/3 [=========>....................] - ETA: 0s - loss: 0.0136\n",
      "Epoch 20: val_loss improved from 0.01527 to 0.01414, saving model to problem2_checkpoint.h5\n",
      "3/3 [==============================] - 0s 92ms/step - loss: 0.0136 - val_loss: 0.0141\n",
      "Epoch 21/200\n",
      "1/3 [=========>....................] - ETA: 0s - loss: 0.0124\n",
      "Epoch 21: val_loss improved from 0.01414 to 0.01312, saving model to problem2_checkpoint.h5\n",
      "3/3 [==============================] - 0s 60ms/step - loss: 0.0126 - val_loss: 0.0131\n",
      "Epoch 22/200\n",
      "1/3 [=========>....................] - ETA: 0s - loss: 0.0113\n",
      "Epoch 22: val_loss improved from 0.01312 to 0.01242, saving model to problem2_checkpoint.h5\n",
      "3/3 [==============================] - 0s 62ms/step - loss: 0.0117 - val_loss: 0.0124\n",
      "Epoch 23/200\n",
      "1/3 [=========>....................] - ETA: 0s - loss: 0.0106\n",
      "Epoch 23: val_loss improved from 0.01242 to 0.01171, saving model to problem2_checkpoint.h5\n",
      "3/3 [==============================] - 0s 57ms/step - loss: 0.0109 - val_loss: 0.0117\n",
      "Epoch 24/200\n",
      "1/3 [=========>....................] - ETA: 0s - loss: 0.0100\n",
      "Epoch 24: val_loss improved from 0.01171 to 0.01112, saving model to problem2_checkpoint.h5\n",
      "3/3 [==============================] - 0s 54ms/step - loss: 0.0102 - val_loss: 0.0111\n",
      "Epoch 25/200\n",
      "1/3 [=========>....................] - ETA: 0s - loss: 0.0095\n",
      "Epoch 25: val_loss improved from 0.01112 to 0.01047, saving model to problem2_checkpoint.h5\n",
      "3/3 [==============================] - 0s 59ms/step - loss: 0.0095 - val_loss: 0.0105\n",
      "Epoch 26/200\n",
      "1/3 [=========>....................] - ETA: 0s - loss: 0.0091\n",
      "Epoch 26: val_loss improved from 0.01047 to 0.01017, saving model to problem2_checkpoint.h5\n",
      "3/3 [==============================] - 0s 68ms/step - loss: 0.0090 - val_loss: 0.0102\n",
      "Epoch 27/200\n",
      "1/3 [=========>....................] - ETA: 0s - loss: 0.0087\n",
      "Epoch 27: val_loss improved from 0.01017 to 0.00972, saving model to problem2_checkpoint.h5\n",
      "3/3 [==============================] - 0s 67ms/step - loss: 0.0085 - val_loss: 0.0097\n",
      "Epoch 28/200\n",
      "1/3 [=========>....................] - ETA: 0s - loss: 0.0084\n",
      "Epoch 28: val_loss improved from 0.00972 to 0.00930, saving model to problem2_checkpoint.h5\n",
      "3/3 [==============================] - 0s 58ms/step - loss: 0.0082 - val_loss: 0.0093\n",
      "Epoch 29/200\n",
      "1/3 [=========>....................] - ETA: 0s - loss: 0.0080\n",
      "Epoch 29: val_loss improved from 0.00930 to 0.00887, saving model to problem2_checkpoint.h5\n",
      "3/3 [==============================] - 0s 56ms/step - loss: 0.0077 - val_loss: 0.0089\n",
      "Epoch 30/200\n",
      "1/3 [=========>....................] - ETA: 0s - loss: 0.0075\n",
      "Epoch 30: val_loss improved from 0.00887 to 0.00859, saving model to problem2_checkpoint.h5\n",
      "3/3 [==============================] - 0s 62ms/step - loss: 0.0073 - val_loss: 0.0086\n",
      "Epoch 31/200\n",
      "1/3 [=========>....................] - ETA: 0s - loss: 0.0072\n",
      "Epoch 31: val_loss improved from 0.00859 to 0.00844, saving model to problem2_checkpoint.h5\n",
      "3/3 [==============================] - 0s 53ms/step - loss: 0.0070 - val_loss: 0.0084\n",
      "Epoch 32/200\n",
      "1/3 [=========>....................] - ETA: 0s - loss: 0.0069\n",
      "Epoch 32: val_loss improved from 0.00844 to 0.00819, saving model to problem2_checkpoint.h5\n",
      "3/3 [==============================] - 0s 75ms/step - loss: 0.0067 - val_loss: 0.0082\n",
      "Epoch 33/200\n",
      "1/3 [=========>....................] - ETA: 0s - loss: 0.0066\n",
      "Epoch 33: val_loss improved from 0.00819 to 0.00793, saving model to problem2_checkpoint.h5\n"
     ]
    },
    {
     "name": "stdout",
     "output_type": "stream",
     "text": [
      "3/3 [==============================] - 0s 57ms/step - loss: 0.0064 - val_loss: 0.0079\n",
      "Epoch 34/200\n",
      "1/3 [=========>....................] - ETA: 0s - loss: 0.0062\n",
      "Epoch 34: val_loss improved from 0.00793 to 0.00768, saving model to problem2_checkpoint.h5\n",
      "3/3 [==============================] - 0s 53ms/step - loss: 0.0061 - val_loss: 0.0077\n",
      "Epoch 35/200\n",
      "1/3 [=========>....................] - ETA: 0s - loss: 0.0059\n",
      "Epoch 35: val_loss improved from 0.00768 to 0.00746, saving model to problem2_checkpoint.h5\n",
      "3/3 [==============================] - 0s 52ms/step - loss: 0.0057 - val_loss: 0.0075\n",
      "Epoch 36/200\n",
      "1/3 [=========>....................] - ETA: 0s - loss: 0.0056\n",
      "Epoch 36: val_loss improved from 0.00746 to 0.00723, saving model to problem2_checkpoint.h5\n",
      "3/3 [==============================] - 0s 53ms/step - loss: 0.0055 - val_loss: 0.0072\n",
      "Epoch 37/200\n",
      "1/3 [=========>....................] - ETA: 0s - loss: 0.0053\n",
      "Epoch 37: val_loss improved from 0.00723 to 0.00698, saving model to problem2_checkpoint.h5\n",
      "3/3 [==============================] - 0s 56ms/step - loss: 0.0052 - val_loss: 0.0070\n",
      "Epoch 38/200\n",
      "1/3 [=========>....................] - ETA: 0s - loss: 0.0050\n",
      "Epoch 38: val_loss improved from 0.00698 to 0.00676, saving model to problem2_checkpoint.h5\n",
      "3/3 [==============================] - 0s 60ms/step - loss: 0.0049 - val_loss: 0.0068\n",
      "Epoch 39/200\n",
      "1/3 [=========>....................] - ETA: 0s - loss: 0.0048\n",
      "Epoch 39: val_loss improved from 0.00676 to 0.00657, saving model to problem2_checkpoint.h5\n",
      "3/3 [==============================] - 0s 61ms/step - loss: 0.0047 - val_loss: 0.0066\n",
      "Epoch 40/200\n",
      "1/3 [=========>....................] - ETA: 0s - loss: 0.0045\n",
      "Epoch 40: val_loss improved from 0.00657 to 0.00637, saving model to problem2_checkpoint.h5\n",
      "3/3 [==============================] - 0s 84ms/step - loss: 0.0044 - val_loss: 0.0064\n",
      "Epoch 41/200\n",
      "1/3 [=========>....................] - ETA: 0s - loss: 0.0043\n",
      "Epoch 41: val_loss improved from 0.00637 to 0.00618, saving model to problem2_checkpoint.h5\n",
      "3/3 [==============================] - 0s 84ms/step - loss: 0.0042 - val_loss: 0.0062\n",
      "Epoch 42/200\n",
      "1/3 [=========>....................] - ETA: 0s - loss: 0.0042\n",
      "Epoch 42: val_loss improved from 0.00618 to 0.00599, saving model to problem2_checkpoint.h5\n",
      "3/3 [==============================] - 0s 57ms/step - loss: 0.0040 - val_loss: 0.0060\n",
      "Epoch 43/200\n",
      "1/3 [=========>....................] - ETA: 0s - loss: 0.0039\n",
      "Epoch 43: val_loss improved from 0.00599 to 0.00581, saving model to problem2_checkpoint.h5\n",
      "3/3 [==============================] - 0s 60ms/step - loss: 0.0038 - val_loss: 0.0058\n",
      "Epoch 44/200\n",
      "1/3 [=========>....................] - ETA: 0s - loss: 0.0037\n",
      "Epoch 44: val_loss improved from 0.00581 to 0.00563, saving model to problem2_checkpoint.h5\n",
      "3/3 [==============================] - 0s 95ms/step - loss: 0.0036 - val_loss: 0.0056\n",
      "Epoch 45/200\n",
      "1/3 [=========>....................] - ETA: 0s - loss: 0.0035\n",
      "Epoch 45: val_loss improved from 0.00563 to 0.00544, saving model to problem2_checkpoint.h5\n",
      "3/3 [==============================] - 0s 50ms/step - loss: 0.0034 - val_loss: 0.0054\n",
      "Epoch 46/200\n",
      "1/3 [=========>....................] - ETA: 0s - loss: 0.0033\n",
      "Epoch 46: val_loss improved from 0.00544 to 0.00531, saving model to problem2_checkpoint.h5\n",
      "3/3 [==============================] - 0s 51ms/step - loss: 0.0032 - val_loss: 0.0053\n",
      "Epoch 47/200\n",
      "1/3 [=========>....................] - ETA: 0s - loss: 0.0032\n",
      "Epoch 47: val_loss improved from 0.00531 to 0.00524, saving model to problem2_checkpoint.h5\n",
      "3/3 [==============================] - 0s 52ms/step - loss: 0.0031 - val_loss: 0.0052\n",
      "Epoch 48/200\n",
      "1/3 [=========>....................] - ETA: 0s - loss: 0.0032\n",
      "Epoch 48: val_loss improved from 0.00524 to 0.00516, saving model to problem2_checkpoint.h5\n",
      "3/3 [==============================] - 0s 61ms/step - loss: 0.0030 - val_loss: 0.0052\n",
      "Epoch 49/200\n",
      "1/3 [=========>....................] - ETA: 0s - loss: 0.0030\n",
      "Epoch 49: val_loss improved from 0.00516 to 0.00499, saving model to problem2_checkpoint.h5\n",
      "3/3 [==============================] - 0s 48ms/step - loss: 0.0029 - val_loss: 0.0050\n",
      "Epoch 50/200\n",
      "1/3 [=========>....................] - ETA: 0s - loss: 0.0028\n",
      "Epoch 50: val_loss improved from 0.00499 to 0.00478, saving model to problem2_checkpoint.h5\n",
      "3/3 [==============================] - 0s 49ms/step - loss: 0.0029 - val_loss: 0.0048\n",
      "Epoch 51/200\n",
      "1/3 [=========>....................] - ETA: 0s - loss: 0.0026\n",
      "Epoch 51: val_loss did not improve from 0.00478\n",
      "3/3 [==============================] - 0s 42ms/step - loss: 0.0029 - val_loss: 0.0051\n",
      "Epoch 52/200\n",
      "1/3 [=========>....................] - ETA: 0s - loss: 0.0031\n",
      "Epoch 52: val_loss did not improve from 0.00478\n",
      "3/3 [==============================] - 0s 42ms/step - loss: 0.0031 - val_loss: 0.0062\n",
      "Epoch 53/200\n",
      "1/3 [=========>....................] - ETA: 0s - loss: 0.0045\n",
      "Epoch 53: val_loss did not improve from 0.00478\n",
      "3/3 [==============================] - 0s 38ms/step - loss: 0.0037 - val_loss: 0.0049\n",
      "Epoch 54/200\n",
      "1/3 [=========>....................] - ETA: 0s - loss: 0.0032\n",
      "Epoch 54: val_loss improved from 0.00478 to 0.00472, saving model to problem2_checkpoint.h5\n",
      "3/3 [==============================] - 0s 53ms/step - loss: 0.0032 - val_loss: 0.0047\n",
      "Epoch 55/200\n",
      "1/3 [=========>....................] - ETA: 0s - loss: 0.0026\n",
      "Epoch 55: val_loss did not improve from 0.00472\n",
      "3/3 [==============================] - 0s 41ms/step - loss: 0.0027 - val_loss: 0.0052\n",
      "Epoch 56/200\n",
      "1/3 [=========>....................] - ETA: 0s - loss: 0.0025\n",
      "Epoch 56: val_loss did not improve from 0.00472\n",
      "3/3 [==============================] - 0s 43ms/step - loss: 0.0026 - val_loss: 0.0049\n",
      "Epoch 57/200\n",
      "1/3 [=========>....................] - ETA: 0s - loss: 0.0025\n",
      "Epoch 57: val_loss improved from 0.00472 to 0.00435, saving model to problem2_checkpoint.h5\n",
      "3/3 [==============================] - 0s 47ms/step - loss: 0.0025 - val_loss: 0.0043\n",
      "Epoch 58/200\n",
      "1/3 [=========>....................] - ETA: 0s - loss: 0.0027\n",
      "Epoch 58: val_loss improved from 0.00435 to 0.00394, saving model to problem2_checkpoint.h5\n",
      "3/3 [==============================] - 0s 47ms/step - loss: 0.0024 - val_loss: 0.0039\n",
      "Epoch 59/200\n",
      "1/3 [=========>....................] - ETA: 0s - loss: 0.0021\n",
      "Epoch 59: val_loss did not improve from 0.00394\n",
      "3/3 [==============================] - 0s 41ms/step - loss: 0.0022 - val_loss: 0.0045\n",
      "Epoch 60/200\n",
      "1/3 [=========>....................] - ETA: 0s - loss: 0.0021\n",
      "Epoch 60: val_loss did not improve from 0.00394\n",
      "3/3 [==============================] - 0s 54ms/step - loss: 0.0020 - val_loss: 0.0040\n",
      "Epoch 61/200\n",
      "1/3 [=========>....................] - ETA: 0s - loss: 0.0019\n",
      "Epoch 61: val_loss improved from 0.00394 to 0.00380, saving model to problem2_checkpoint.h5\n",
      "3/3 [==============================] - 0s 50ms/step - loss: 0.0019 - val_loss: 0.0038\n",
      "Epoch 62/200\n",
      "1/3 [=========>....................] - ETA: 0s - loss: 0.0021\n",
      "Epoch 62: val_loss improved from 0.00380 to 0.00369, saving model to problem2_checkpoint.h5\n",
      "3/3 [==============================] - 0s 52ms/step - loss: 0.0019 - val_loss: 0.0037\n",
      "Epoch 63/200\n",
      "1/3 [=========>....................] - ETA: 0s - loss: 0.0018\n",
      "Epoch 63: val_loss did not improve from 0.00369\n",
      "3/3 [==============================] - 0s 45ms/step - loss: 0.0018 - val_loss: 0.0039\n",
      "Epoch 64/200\n",
      "1/3 [=========>....................] - ETA: 0s - loss: 0.0018\n",
      "Epoch 64: val_loss improved from 0.00369 to 0.00360, saving model to problem2_checkpoint.h5\n",
      "3/3 [==============================] - 0s 48ms/step - loss: 0.0017 - val_loss: 0.0036\n",
      "Epoch 65/200\n",
      "1/3 [=========>....................] - ETA: 0s - loss: 0.0017\n",
      "Epoch 65: val_loss improved from 0.00360 to 0.00341, saving model to problem2_checkpoint.h5\n",
      "3/3 [==============================] - 0s 52ms/step - loss: 0.0016 - val_loss: 0.0034\n",
      "Epoch 66/200\n",
      "1/3 [=========>....................] - ETA: 0s - loss: 0.0018\n",
      "Epoch 66: val_loss improved from 0.00341 to 0.00340, saving model to problem2_checkpoint.h5\n",
      "3/3 [==============================] - 0s 57ms/step - loss: 0.0017 - val_loss: 0.0034\n",
      "Epoch 67/200\n",
      "1/3 [=========>....................] - ETA: 0s - loss: 0.0016\n",
      "Epoch 67: val_loss did not improve from 0.00340\n"
     ]
    },
    {
     "name": "stdout",
     "output_type": "stream",
     "text": [
      "3/3 [==============================] - 0s 39ms/step - loss: 0.0016 - val_loss: 0.0035\n",
      "Epoch 68/200\n",
      "1/3 [=========>....................] - ETA: 0s - loss: 0.0015\n",
      "Epoch 68: val_loss improved from 0.00340 to 0.00334, saving model to problem2_checkpoint.h5\n",
      "3/3 [==============================] - 0s 51ms/step - loss: 0.0014 - val_loss: 0.0033\n",
      "Epoch 69/200\n",
      "1/3 [=========>....................] - ETA: 0s - loss: 0.0015\n",
      "Epoch 69: val_loss improved from 0.00334 to 0.00314, saving model to problem2_checkpoint.h5\n",
      "3/3 [==============================] - 0s 54ms/step - loss: 0.0014 - val_loss: 0.0031\n",
      "Epoch 70/200\n",
      "1/3 [=========>....................] - ETA: 0s - loss: 0.0015\n",
      "Epoch 70: val_loss improved from 0.00314 to 0.00312, saving model to problem2_checkpoint.h5\n",
      "3/3 [==============================] - 0s 51ms/step - loss: 0.0014 - val_loss: 0.0031\n",
      "Epoch 71/200\n",
      "1/3 [=========>....................] - ETA: 0s - loss: 0.0015\n",
      "Epoch 71: val_loss improved from 0.00312 to 0.00309, saving model to problem2_checkpoint.h5\n",
      "3/3 [==============================] - 0s 58ms/step - loss: 0.0014 - val_loss: 0.0031\n",
      "Epoch 72/200\n",
      "1/3 [=========>....................] - ETA: 0s - loss: 0.0014\n",
      "Epoch 72: val_loss improved from 0.00309 to 0.00304, saving model to problem2_checkpoint.h5\n",
      "3/3 [==============================] - 0s 55ms/step - loss: 0.0013 - val_loss: 0.0030\n",
      "Epoch 73/200\n",
      "1/3 [=========>....................] - ETA: 0s - loss: 0.0014\n",
      "Epoch 73: val_loss improved from 0.00304 to 0.00293, saving model to problem2_checkpoint.h5\n",
      "3/3 [==============================] - 0s 52ms/step - loss: 0.0013 - val_loss: 0.0029\n",
      "Epoch 74/200\n",
      "1/3 [=========>....................] - ETA: 0s - loss: 0.0013\n",
      "Epoch 74: val_loss improved from 0.00293 to 0.00288, saving model to problem2_checkpoint.h5\n",
      "3/3 [==============================] - 0s 51ms/step - loss: 0.0012 - val_loss: 0.0029\n",
      "Epoch 75/200\n",
      "1/3 [=========>....................] - ETA: 0s - loss: 0.0013\n",
      "Epoch 75: val_loss improved from 0.00288 to 0.00283, saving model to problem2_checkpoint.h5\n",
      "3/3 [==============================] - 0s 65ms/step - loss: 0.0012 - val_loss: 0.0028\n",
      "Epoch 76/200\n",
      "1/3 [=========>....................] - ETA: 0s - loss: 0.0013\n",
      "Epoch 76: val_loss improved from 0.00283 to 0.00272, saving model to problem2_checkpoint.h5\n",
      "3/3 [==============================] - 0s 56ms/step - loss: 0.0012 - val_loss: 0.0027\n",
      "Epoch 77/200\n",
      "1/3 [=========>....................] - ETA: 0s - loss: 0.0013\n",
      "Epoch 77: val_loss improved from 0.00272 to 0.00266, saving model to problem2_checkpoint.h5\n",
      "3/3 [==============================] - 0s 55ms/step - loss: 0.0012 - val_loss: 0.0027\n",
      "Epoch 78/200\n",
      "1/3 [=========>....................] - ETA: 0s - loss: 0.0012\n",
      "Epoch 78: val_loss did not improve from 0.00266\n",
      "3/3 [==============================] - 0s 41ms/step - loss: 0.0011 - val_loss: 0.0027\n",
      "Epoch 79/200\n",
      "1/3 [=========>....................] - ETA: 0s - loss: 0.0012\n",
      "Epoch 79: val_loss did not improve from 0.00266\n",
      "3/3 [==============================] - 0s 39ms/step - loss: 0.0011 - val_loss: 0.0027\n",
      "Epoch 80/200\n",
      "1/3 [=========>....................] - ETA: 0s - loss: 0.0012\n",
      "Epoch 80: val_loss improved from 0.00266 to 0.00258, saving model to problem2_checkpoint.h5\n",
      "3/3 [==============================] - 0s 51ms/step - loss: 0.0010 - val_loss: 0.0026\n",
      "Epoch 81/200\n",
      "1/3 [=========>....................] - ETA: 0s - loss: 0.0011\n",
      "Epoch 81: val_loss improved from 0.00258 to 0.00246, saving model to problem2_checkpoint.h5\n",
      "3/3 [==============================] - 0s 49ms/step - loss: 0.0010 - val_loss: 0.0025\n",
      "Epoch 82/200\n",
      "1/3 [=========>....................] - ETA: 0s - loss: 0.0012\n",
      "Epoch 82: val_loss improved from 0.00246 to 0.00241, saving model to problem2_checkpoint.h5\n",
      "3/3 [==============================] - 0s 52ms/step - loss: 0.0010 - val_loss: 0.0024\n",
      "Epoch 83/200\n",
      "1/3 [=========>....................] - ETA: 0s - loss: 0.0012\n",
      "Epoch 83: val_loss improved from 0.00241 to 0.00238, saving model to problem2_checkpoint.h5\n",
      "3/3 [==============================] - 0s 48ms/step - loss: 0.0011 - val_loss: 0.0024\n",
      "Epoch 84/200\n",
      "1/3 [=========>....................] - ETA: 0s - loss: 0.0012\n",
      "Epoch 84: val_loss improved from 0.00238 to 0.00233, saving model to problem2_checkpoint.h5\n",
      "3/3 [==============================] - 0s 50ms/step - loss: 0.0011 - val_loss: 0.0023\n",
      "Epoch 85/200\n",
      "1/3 [=========>....................] - ETA: 0s - loss: 0.0011\n",
      "Epoch 85: val_loss did not improve from 0.00233\n",
      "3/3 [==============================] - 0s 39ms/step - loss: 9.9726e-04 - val_loss: 0.0024\n",
      "Epoch 86/200\n",
      "1/3 [=========>....................] - ETA: 0s - loss: 0.0010\n",
      "Epoch 86: val_loss did not improve from 0.00233\n",
      "3/3 [==============================] - 0s 42ms/step - loss: 9.5098e-04 - val_loss: 0.0026\n",
      "Epoch 87/200\n",
      "1/3 [=========>....................] - ETA: 0s - loss: 0.0012\n",
      "Epoch 87: val_loss did not improve from 0.00233\n",
      "3/3 [==============================] - 0s 40ms/step - loss: 9.8576e-04 - val_loss: 0.0025\n",
      "Epoch 88/200\n",
      "1/3 [=========>....................] - ETA: 0s - loss: 0.0011\n",
      "Epoch 88: val_loss improved from 0.00233 to 0.00220, saving model to problem2_checkpoint.h5\n",
      "3/3 [==============================] - 0s 56ms/step - loss: 0.0010 - val_loss: 0.0022\n",
      "Epoch 89/200\n",
      "1/3 [=========>....................] - ETA: 0s - loss: 9.6539e-04\n",
      "Epoch 89: val_loss improved from 0.00220 to 0.00210, saving model to problem2_checkpoint.h5\n",
      "3/3 [==============================] - 0s 69ms/step - loss: 9.8011e-04 - val_loss: 0.0021\n",
      "Epoch 90/200\n",
      "1/3 [=========>....................] - ETA: 0s - loss: 0.0012\n",
      "Epoch 90: val_loss did not improve from 0.00210\n",
      "3/3 [==============================] - 0s 70ms/step - loss: 0.0011 - val_loss: 0.0024\n",
      "Epoch 91/200\n",
      "1/3 [=========>....................] - ETA: 0s - loss: 0.0017\n",
      "Epoch 91: val_loss did not improve from 0.00210\n",
      "3/3 [==============================] - 0s 41ms/step - loss: 0.0013 - val_loss: 0.0024\n",
      "Epoch 92/200\n",
      "1/3 [=========>....................] - ETA: 0s - loss: 0.0016\n",
      "Epoch 92: val_loss did not improve from 0.00210\n",
      "3/3 [==============================] - 0s 44ms/step - loss: 0.0014 - val_loss: 0.0022\n",
      "Epoch 93/200\n",
      "1/3 [=========>....................] - ETA: 0s - loss: 0.0011\n",
      "Epoch 93: val_loss did not improve from 0.00210\n",
      "3/3 [==============================] - 0s 37ms/step - loss: 0.0011 - val_loss: 0.0027\n",
      "Epoch 94/200\n",
      "1/3 [=========>....................] - ETA: 0s - loss: 0.0013\n",
      "Epoch 94: val_loss did not improve from 0.00210\n",
      "3/3 [==============================] - 0s 41ms/step - loss: 0.0012 - val_loss: 0.0030\n"
     ]
    }
   ],
   "source": [
    "path_checkpoint = \"problem2_checkpoint.h5\"\n",
    "es_callback = keras.callbacks.EarlyStopping(monitor=\"val_loss\", min_delta=0, patience=5)\n",
    "\n",
    "modelckpt_callback = keras.callbacks.ModelCheckpoint(\n",
    "    monitor=\"val_loss\",\n",
    "    filepath=path_checkpoint,\n",
    "    verbose=1,\n",
    "    # 要同时保存网络结构。\n",
    "    save_weights_only=False,\n",
    "    save_best_only=True,\n",
    ")\n",
    "\n",
    "history = model.fit(\n",
    "    dataset_train,\n",
    "    epochs=epochs,\n",
    "    validation_data=dataset_val,\n",
    "    callbacks=[es_callback, modelckpt_callback],\n",
    ")"
   ]
  },
  {
   "cell_type": "markdown",
   "id": "349f8adb",
   "metadata": {},
   "source": [
    "对模型训练过程的损失函数和验证损失函数进行可视化。\n",
    "- 基于matplotlib的可视化；\n",
    "- 基于plotly的可视化；\n",
    "\n",
    "挑一个好看的就行。"
   ]
  },
  {
   "cell_type": "code",
   "execution_count": 120,
   "id": "5fdcd0d4",
   "metadata": {},
   "outputs": [
    {
     "data": {
      "image/png": "[encoded data removed]",
      "text/plain": [
       "<Figure size 720x360 with 1 Axes>"
      ]
     },
     "metadata": {
      "needs_background": "light"
     },
     "output_type": "display_data"
    }
   ],
   "source": [
    "def visualize_loss(history, title):\n",
    "    loss = history.history[\"loss\"]\n",
    "    val_loss = history.history[\"val_loss\"]\n",
    "    epochs = range(len(loss))\n",
    "    plt.figure(figsize=(10,5))\n",
    "    plt.plot(epochs, loss, \"b\", label=\"Training loss\")\n",
    "    plt.plot(epochs, val_loss, \"r\", label=\"Validation loss\")\n",
    "    plt.title(title)\n",
    "    plt.xlabel(\"Epochs\")\n",
    "    plt.ylabel(\"Loss\")\n",
    "    plt.legend()\n",
    "    plt.show()\n",
    "\n",
    "visualize_loss(history, \"Training and Validation Loss\")"
   ]
  },
  {
   "cell_type": "code",
   "execution_count": 121,
   "id": "e10bea17",
   "metadata": {},
   "outputs": [
    {
     "data": {
      "application/vnd.plotly.v1+json": {
       "config": {
        "plotlyServerURL": "https://plot.ly"
       },
       "data": [
        {
         "hovertemplate": "variable=Training loss<br>index=%{x}<br>value=%{y}<extra></extra>",
         "legendgroup": "Training loss",
         "line": {
          "color": "#636efa",
          "dash": "solid"
         },
         "marker": {
          "symbol": "circle"
         },
         "mode": "lines",
         "name": "Training loss",
         "orientation": "v",
         "showlegend": true,
         "type": "scatter",
         "x": [
          0,
          1,
          2,
          3,
          4,
          5,
          6,
          7,
          8,
          9,
          10,
          11,
          12,
          13,
          14,
          15,
          16,
          17,
          18,
          19,
          20,
          21,
          22,
          23,
          24,
          25,
          26,
          27,
          28,
          29,
          30,
          31,
          32,
          33,
          34,
          35,
          36,
          37,
          38,
          39,
          40,
          41,
          42,
          43,
          44,
          45,
          46,
          47,
          48,
          49,
          50,
          51,
          52,
          53,
          54,
          55,
          56,
          57,
          58,
          59,
          60,
          61,
          62,
          63,
          64,
          65,
          66,
          67,
          68,
          69,
          70,
          71,
          72,
          73,
          74,
          75,
          76,
          77,
          78,
          79,
          80,
          81,
          82,
          83,
          84,
          85,
          86,
          87,
          88,
          89,
          90,
          91,
          92,
          93
         ],
         "xaxis": "x",
         "y": [
          0.13922040164470673,
          0.06593207269906998,
          0.06526410579681396,
          0.05745705962181091,
          0.05579200014472008,
          0.05011603236198425,
          0.04628678038716316,
          0.04443027451634407,
          0.03942194581031799,
          0.035927001386880875,
          0.033860888332128525,
          0.031147649511694908,
          0.028029488399624825,
          0.02507692016661167,
          0.022316651418805122,
          0.02016533352434635,
          0.018205389380455017,
          0.016611767932772636,
          0.014978192746639252,
          0.013601760379970074,
          0.012603506445884705,
          0.011741600930690765,
          0.010948576033115387,
          0.010187889449298382,
          0.00954419281333685,
          0.009014618583023548,
          0.008543826639652252,
          0.008163999766111374,
          0.0077457427978515625,
          0.007341284304857254,
          0.006967000663280487,
          0.00665348069742322,
          0.006381968501955271,
          0.006053560879081488,
          0.005746803712099791,
          0.005480801220983267,
          0.0052109998650848866,
          0.004942990839481354,
          0.00468068290501833,
          0.004443389363586903,
          0.004235092084854841,
          0.004032820928841829,
          0.00382212083786726,
          0.003610127605497837,
          0.003412701189517975,
          0.0032417813781648874,
          0.003108494682237506,
          0.003002939047291875,
          0.0029174459632486105,
          0.0028917796444147825,
          0.0029427390545606613,
          0.003124333219602704,
          0.0036852590274065733,
          0.0032054055482149124,
          0.002692361129447818,
          0.002635000506415963,
          0.0024509739596396685,
          0.0023880046792328358,
          0.002151787979528308,
          0.0019856004510074854,
          0.0018962109461426735,
          0.0019377870485186577,
          0.001762359868735075,
          0.0016537966439500451,
          0.0016476892633363605,
          0.001679367502219975,
          0.0015749087324365973,
          0.0014466284774243832,
          0.001421793014742434,
          0.0014355202438309789,
          0.0013922374928370118,
          0.0013024158542975783,
          0.0012519601732492447,
          0.0012403015280142426,
          0.0012180051999166608,
          0.0011903602862730622,
          0.0011566001921892166,
          0.0011127130128443241,
          0.0010702199069783092,
          0.001045174547471106,
          0.0010316759580746293,
          0.001031158259138465,
          0.0010541375959292054,
          0.0010564510012045503,
          0.000997256487607956,
          0.0009509758092463017,
          0.0009857559343799949,
          0.001007861690595746,
          0.0009801090927794576,
          0.0010664159199222922,
          0.0012984691420570016,
          0.0013564638793468475,
          0.0011456030188128352,
          0.0011895474744960666
         ],
         "yaxis": "y"
        },
        {
         "hovertemplate": "variable=Validation loss<br>index=%{x}<br>value=%{y}<extra></extra>",
         "legendgroup": "Validation loss",
         "line": {
          "color": "#EF553B",
          "dash": "solid"
         },
         "marker": {
          "symbol": "circle"
         },
         "mode": "lines",
         "name": "Validation loss",
         "orientation": "v",
         "showlegend": true,
         "type": "scatter",
         "x": [
          0,
          1,
          2,
          3,
          4,
          5,
          6,
          7,
          8,
          9,
          10,
          11,
          12,
          13,
          14,
          15,
          16,
          17,
          18,
          19,
          20,
          21,
          22,
          23,
          24,
          25,
          26,
          27,
          28,
          29,
          30,
          31,
          32,
          33,
          34,
          35,
          36,
          37,
          38,
          39,
          40,
          41,
          42,
          43,
          44,
          45,
          46,
          47,
          48,
          49,
          50,
          51,
          52,
          53,
          54,
          55,
          56,
          57,
          58,
          59,
          60,
          61,
          62,
          63,
          64,
          65,
          66,
          67,
          68,
          69,
          70,
          71,
          72,
          73,
          74,
          75,
          76,
          77,
          78,
          79,
          80,
          81,
          82,
          83,
          84,
          85,
          86,
          87,
          88,
          89,
          90,
          91,
          92,
          93
         ],
         "xaxis": "x",
         "y": [
          0.0656328797340393,
          0.06164375692605972,
          0.05271061509847641,
          0.05171884596347809,
          0.04695529863238335,
          0.0412173829972744,
          0.039819907397031784,
          0.03597910329699516,
          0.03253868594765663,
          0.031526219099760056,
          0.03042183816432953,
          0.02877095900475979,
          0.0262172631919384,
          0.023567210882902145,
          0.02109340764582157,
          0.019066618755459785,
          0.017906170338392258,
          0.016379795968532562,
          0.015270974487066269,
          0.014139685779809952,
          0.013118242844939232,
          0.012418723665177822,
          0.011713141575455666,
          0.011120716109871864,
          0.010466597974300385,
          0.010171298868954182,
          0.009717346169054508,
          0.009295324794948101,
          0.00887205358594656,
          0.008591382764279842,
          0.008443058468401432,
          0.008194470778107643,
          0.007930322550237179,
          0.007684121374040842,
          0.007462756708264351,
          0.007227424532175064,
          0.006980778183788061,
          0.006757449824362993,
          0.006568816490471363,
          0.0063692303374409676,
          0.006175406742841005,
          0.005991183687001467,
          0.005813613533973694,
          0.005627237726002932,
          0.005442364607006311,
          0.005311352200806141,
          0.005239167716354132,
          0.005157421343028545,
          0.004992829170078039,
          0.004781013820320368,
          0.005106443539261818,
          0.006207651924341917,
          0.0048903669230639935,
          0.0047212340869009495,
          0.00519875343888998,
          0.0049017975106835365,
          0.004345237277448177,
          0.003944805357605219,
          0.00451641296967864,
          0.003987582866102457,
          0.0037980847992002964,
          0.003685788717120886,
          0.0038996462244540453,
          0.0035955291241407394,
          0.0034071875270456076,
          0.0033952766098082066,
          0.0034705805592238903,
          0.0033413690980523825,
          0.0031386830378323793,
          0.0031161836814135313,
          0.0030868470203131437,
          0.003037835704162717,
          0.0029296979773789644,
          0.002879504580050707,
          0.0028336583636701107,
          0.0027167692314833403,
          0.002658544108271599,
          0.0026818623300641775,
          0.0026863778475672007,
          0.0025817344430834055,
          0.0024577248841524124,
          0.002411559456959367,
          0.0023782197386026382,
          0.0023287192452698946,
          0.0024012208450585604,
          0.0025885007344186306,
          0.0025482673663645983,
          0.002203411655500531,
          0.002103059785440564,
          0.0023767338134348392,
          0.0023861245717853308,
          0.0022210772149264812,
          0.0027468865737318993,
          0.002991314511746168
         ],
         "yaxis": "y"
        }
       ],
       "layout": {
        "legend": {
         "title": {
          "text": ""
         },
         "tracegroupgap": 0
        },
        "margin": {
         "t": 60
        },
        "template": {
         "data": {
          "bar": [
           {
            "error_x": {
             "color": "#2a3f5f"
            },
            "error_y": {
             "color": "#2a3f5f"
            },
            "marker": {
             "line": {
              "color": "#E5ECF6",
              "width": 0.5
             },
             "pattern": {
              "fillmode": "overlay",
              "size": 10,
              "solidity": 0.2
             }
            },
            "type": "bar"
           }
          ],
          "barpolar": [
           {
            "marker": {
             "line": {
              "color": "#E5ECF6",
              "width": 0.5
             },
             "pattern": {
              "fillmode": "overlay",
              "size": 10,
              "solidity": 0.2
             }
            },
            "type": "barpolar"
           }
          ],
          "carpet": [
           {
            "aaxis": {
             "endlinecolor": "#2a3f5f",
             "gridcolor": "white",
             "linecolor": "white",
             "minorgridcolor": "white",
             "startlinecolor": "#2a3f5f"
            },
            "baxis": {
             "endlinecolor": "#2a3f5f",
             "gridcolor": "white",
             "linecolor": "white",
             "minorgridcolor": "white",
             "startlinecolor": "#2a3f5f"
            },
            "type": "carpet"
           }
          ],
          "choropleth": [
           {
            "colorbar": {
             "outlinewidth": 0,
             "ticks": ""
            },
            "type": "choropleth"
           }
          ],
          "contour": [
           {
            "colorbar": {
             "outlinewidth": 0,
             "ticks": ""
            },
            "colorscale": [
             [
              0,
              "#0d0887"
             ],
             [
              0.1111111111111111,
              "#46039f"
             ],
             [
              0.2222222222222222,
              "#7201a8"
             ],
             [
              0.3333333333333333,
              "#9c179e"
             ],
             [
              0.4444444444444444,
              "#bd3786"
             ],
             [
              0.5555555555555556,
              "#d8576b"
             ],
             [
              0.6666666666666666,
              "#ed7953"
             ],
             [
              0.7777777777777778,
              "#fb9f3a"
             ],
             [
              0.8888888888888888,
              "#fdca26"
             ],
             [
              1,
              "#f0f921"
             ]
            ],
            "type": "contour"
           }
          ],
          "contourcarpet": [
           {
            "colorbar": {
             "outlinewidth": 0,
             "ticks": ""
            },
            "type": "contourcarpet"
           }
          ],
          "heatmap": [
           {
            "colorbar": {
             "outlinewidth": 0,
             "ticks": ""
            },
            "colorscale": [
             [
              0,
              "#0d0887"
             ],
             [
              0.1111111111111111,
              "#46039f"
             ],
             [
              0.2222222222222222,
              "#7201a8"
             ],
             [
              0.3333333333333333,
              "#9c179e"
             ],
             [
              0.4444444444444444,
              "#bd3786"
             ],
             [
              0.5555555555555556,
              "#d8576b"
             ],
             [
              0.6666666666666666,
              "#ed7953"
             ],
             [
              0.7777777777777778,
              "#fb9f3a"
             ],
             [
              0.8888888888888888,
              "#fdca26"
             ],
             [
              1,
              "#f0f921"
             ]
            ],
            "type": "heatmap"
           }
          ],
          "heatmapgl": [
           {
            "colorbar": {
             "outlinewidth": 0,
             "ticks": ""
            },
            "colorscale": [
             [
              0,
              "#0d0887"
             ],
             [
              0.1111111111111111,
              "#46039f"
             ],
             [
              0.2222222222222222,
              "#7201a8"
             ],
             [
              0.3333333333333333,
              "#9c179e"
             ],
             [
              0.4444444444444444,
              "#bd3786"
             ],
             [
              0.5555555555555556,
              "#d8576b"
             ],
             [
              0.6666666666666666,
              "#ed7953"
             ],
             [
              0.7777777777777778,
              "#fb9f3a"
             ],
             [
              0.8888888888888888,
              "#fdca26"
             ],
             [
              1,
              "#f0f921"
             ]
            ],
            "type": "heatmapgl"
           }
          ],
          "histogram": [
           {
            "marker": {
             "pattern": {
              "fillmode": "overlay",
              "size": 10,
              "solidity": 0.2
             }
            },
            "type": "histogram"
           }
          ],
          "histogram2d": [
           {
            "colorbar": {
             "outlinewidth": 0,
             "ticks": ""
            },
            "colorscale": [
             [
              0,
              "#0d0887"
             ],
             [
              0.1111111111111111,
              "#46039f"
             ],
             [
              0.2222222222222222,
              "#7201a8"
             ],
             [
              0.3333333333333333,
              "#9c179e"
             ],
             [
              0.4444444444444444,
              "#bd3786"
             ],
             [
              0.5555555555555556,
              "#d8576b"
             ],
             [
              0.6666666666666666,
              "#ed7953"
             ],
             [
              0.7777777777777778,
              "#fb9f3a"
             ],
             [
              0.8888888888888888,
              "#fdca26"
             ],
             [
              1,
              "#f0f921"
             ]
            ],
            "type": "histogram2d"
           }
          ],
          "histogram2dcontour": [
           {
            "colorbar": {
             "outlinewidth": 0,
             "ticks": ""
            },
            "colorscale": [
             [
              0,
              "#0d0887"
             ],
             [
              0.1111111111111111,
              "#46039f"
             ],
             [
              0.2222222222222222,
              "#7201a8"
             ],
             [
              0.3333333333333333,
              "#9c179e"
             ],
             [
              0.4444444444444444,
              "#bd3786"
             ],
             [
              0.5555555555555556,
              "#d8576b"
             ],
             [
              0.6666666666666666,
              "#ed7953"
             ],
             [
              0.7777777777777778,
              "#fb9f3a"
             ],
             [
              0.8888888888888888,
              "#fdca26"
             ],
             [
              1,
              "#f0f921"
             ]
            ],
            "type": "histogram2dcontour"
           }
          ],
          "mesh3d": [
           {
            "colorbar": {
             "outlinewidth": 0,
             "ticks": ""
            },
            "type": "mesh3d"
           }
          ],
          "parcoords": [
           {
            "line": {
             "colorbar": {
              "outlinewidth": 0,
              "ticks": ""
             }
            },
            "type": "parcoords"
           }
          ],
          "pie": [
           {
            "automargin": true,
            "type": "pie"
           }
          ],
          "scatter": [
           {
            "fillpattern": {
             "fillmode": "overlay",
             "size": 10,
             "solidity": 0.2
            },
            "type": "scatter"
           }
          ],
          "scatter3d": [
           {
            "line": {
             "colorbar": {
              "outlinewidth": 0,
              "ticks": ""
             }
            },
            "marker": {
             "colorbar": {
              "outlinewidth": 0,
              "ticks": ""
             }
            },
            "type": "scatter3d"
           }
          ],
          "scattercarpet": [
           {
            "marker": {
             "colorbar": {
              "outlinewidth": 0,
              "ticks": ""
             }
            },
            "type": "scattercarpet"
           }
          ],
          "scattergeo": [
           {
            "marker": {
             "colorbar": {
              "outlinewidth": 0,
              "ticks": ""
             }
            },
            "type": "scattergeo"
           }
          ],
          "scattergl": [
           {
            "marker": {
             "colorbar": {
              "outlinewidth": 0,
              "ticks": ""
             }
            },
            "type": "scattergl"
           }
          ],
          "scattermapbox": [
           {
            "marker": {
             "colorbar": {
              "outlinewidth": 0,
              "ticks": ""
             }
            },
            "type": "scattermapbox"
           }
          ],
          "scatterpolar": [
           {
            "marker": {
             "colorbar": {
              "outlinewidth": 0,
              "ticks": ""
             }
            },
            "type": "scatterpolar"
           }
          ],
          "scatterpolargl": [
           {
            "marker": {
             "colorbar": {
              "outlinewidth": 0,
              "ticks": ""
             }
            },
            "type": "scatterpolargl"
           }
          ],
          "scatterternary": [
           {
            "marker": {
             "colorbar": {
              "outlinewidth": 0,
              "ticks": ""
             }
            },
            "type": "scatterternary"
           }
          ],
          "surface": [
           {
            "colorbar": {
             "outlinewidth": 0,
             "ticks": ""
            },
            "colorscale": [
             [
              0,
              "#0d0887"
             ],
             [
              0.1111111111111111,
              "#46039f"
             ],
             [
              0.2222222222222222,
              "#7201a8"
             ],
             [
              0.3333333333333333,
              "#9c179e"
             ],
             [
              0.4444444444444444,
              "#bd3786"
             ],
             [
              0.5555555555555556,
              "#d8576b"
             ],
             [
              0.6666666666666666,
              "#ed7953"
             ],
             [
              0.7777777777777778,
              "#fb9f3a"
             ],
             [
              0.8888888888888888,
              "#fdca26"
             ],
             [
              1,
              "#f0f921"
             ]
            ],
            "type": "surface"
           }
          ],
          "table": [
           {
            "cells": {
             "fill": {
              "color": "#EBF0F8"
             },
             "line": {
              "color": "white"
             }
            },
            "header": {
             "fill": {
              "color": "#C8D4E3"
             },
             "line": {
              "color": "white"
             }
            },
            "type": "table"
           }
          ]
         },
         "layout": {
          "annotationdefaults": {
           "arrowcolor": "#2a3f5f",
           "arrowhead": 0,
           "arrowwidth": 1
          },
          "autotypenumbers": "strict",
          "coloraxis": {
           "colorbar": {
            "outlinewidth": 0,
            "ticks": ""
           }
          },
          "colorscale": {
           "diverging": [
            [
             0,
             "#8e0152"
            ],
            [
             0.1,
             "#c51b7d"
            ],
            [
             0.2,
             "#de77ae"
            ],
            [
             0.3,
             "#f1b6da"
            ],
            [
             0.4,
             "#fde0ef"
            ],
            [
             0.5,
             "#f7f7f7"
            ],
            [
             0.6,
             "#e6f5d0"
            ],
            [
             0.7,
             "#b8e186"
            ],
            [
             0.8,
             "#7fbc41"
            ],
            [
             0.9,
             "#4d9221"
            ],
            [
             1,
             "#276419"
            ]
           ],
           "sequential": [
            [
             0,
             "#0d0887"
            ],
            [
             0.1111111111111111,
             "#46039f"
            ],
            [
             0.2222222222222222,
             "#7201a8"
            ],
            [
             0.3333333333333333,
             "#9c179e"
            ],
            [
             0.4444444444444444,
             "#bd3786"
            ],
            [
             0.5555555555555556,
             "#d8576b"
            ],
            [
             0.6666666666666666,
             "#ed7953"
            ],
            [
             0.7777777777777778,
             "#fb9f3a"
            ],
            [
             0.8888888888888888,
             "#fdca26"
            ],
            [
             1,
             "#f0f921"
            ]
           ],
           "sequentialminus": [
            [
             0,
             "#0d0887"
            ],
            [
             0.1111111111111111,
             "#46039f"
            ],
            [
             0.2222222222222222,
             "#7201a8"
            ],
            [
             0.3333333333333333,
             "#9c179e"
            ],
            [
             0.4444444444444444,
             "#bd3786"
            ],
            [
             0.5555555555555556,
             "#d8576b"
            ],
            [
             0.6666666666666666,
             "#ed7953"
            ],
            [
             0.7777777777777778,
             "#fb9f3a"
            ],
            [
             0.8888888888888888,
             "#fdca26"
            ],
            [
             1,
             "#f0f921"
            ]
           ]
          },
          "colorway": [
           "#636efa",
           "#EF553B",
           "#00cc96",
           "#ab63fa",
           "#FFA15A",
           "#19d3f3",
           "#FF6692",
           "#B6E880",
           "#FF97FF",
           "#FECB52"
          ],
          "font": {
           "color": "#2a3f5f"
          },
          "geo": {
           "bgcolor": "white",
           "lakecolor": "white",
           "landcolor": "#E5ECF6",
           "showlakes": true,
           "showland": true,
           "subunitcolor": "white"
          },
          "hoverlabel": {
           "align": "left"
          },
          "hovermode": "closest",
          "mapbox": {
           "style": "light"
          },
          "paper_bgcolor": "white",
          "plot_bgcolor": "#E5ECF6",
          "polar": {
           "angularaxis": {
            "gridcolor": "white",
            "linecolor": "white",
            "ticks": ""
           },
           "bgcolor": "#E5ECF6",
           "radialaxis": {
            "gridcolor": "white",
            "linecolor": "white",
            "ticks": ""
           }
          },
          "scene": {
           "xaxis": {
            "backgroundcolor": "#E5ECF6",
            "gridcolor": "white",
            "gridwidth": 2,
            "linecolor": "white",
            "showbackground": true,
            "ticks": "",
            "zerolinecolor": "white"
           },
           "yaxis": {
            "backgroundcolor": "#E5ECF6",
            "gridcolor": "white",
            "gridwidth": 2,
            "linecolor": "white",
            "showbackground": true,
            "ticks": "",
            "zerolinecolor": "white"
           },
           "zaxis": {
            "backgroundcolor": "#E5ECF6",
            "gridcolor": "white",
            "gridwidth": 2,
            "linecolor": "white",
            "showbackground": true,
            "ticks": "",
            "zerolinecolor": "white"
           }
          },
          "shapedefaults": {
           "line": {
            "color": "#2a3f5f"
           }
          },
          "ternary": {
           "aaxis": {
            "gridcolor": "white",
            "linecolor": "white",
            "ticks": ""
           },
           "baxis": {
            "gridcolor": "white",
            "linecolor": "white",
            "ticks": ""
           },
           "bgcolor": "#E5ECF6",
           "caxis": {
            "gridcolor": "white",
            "linecolor": "white",
            "ticks": ""
           }
          },
          "title": {
           "x": 0.05
          },
          "xaxis": {
           "automargin": true,
           "gridcolor": "white",
           "linecolor": "white",
           "ticks": "",
           "title": {
            "standoff": 15
           },
           "zerolinecolor": "white",
           "zerolinewidth": 2
          },
          "yaxis": {
           "automargin": true,
           "gridcolor": "white",
           "linecolor": "white",
           "ticks": "",
           "title": {
            "standoff": 15
           },
           "zerolinecolor": "white",
           "zerolinewidth": 2
          }
         }
        },
        "title": {
         "text": "Training and Validation Loss"
        },
        "xaxis": {
         "anchor": "y",
         "domain": [
          0,
          1
         ],
         "title": {
          "text": "Epochs"
         }
        },
        "yaxis": {
         "anchor": "x",
         "domain": [
          0,
          1
         ],
         "title": {
          "text": "Loss"
         }
        }
       }
      },
      "text/html": [
       "<div>                            <div id=\"53082ee1-fba2-4430-83b4-52e1d5425714\" class=\"plotly-graph-div\" style=\"height:525px; width:100%;\"></div>            <script type=\"text/javascript\">                require([\"plotly\"], function(Plotly) {                    window.PLOTLYENV=window.PLOTLYENV || {};                                    if (document.getElementById(\"53082ee1-fba2-4430-83b4-52e1d5425714\")) {                    Plotly.newPlot(                        \"53082ee1-fba2-4430-83b4-52e1d5425714\",                        [{\"hovertemplate\":\"variable=Training loss<br>index=%{x}<br>value=%{y}<extra></extra>\",\"legendgroup\":\"Training loss\",\"line\":{\"color\":\"#636efa\",\"dash\":\"solid\"},\"marker\":{\"symbol\":\"circle\"},\"mode\":\"lines\",\"name\":\"Training loss\",\"orientation\":\"v\",\"showlegend\":true,\"x\":[0,1,2,3,4,5,6,7,8,9,10,11,12,13,14,15,16,17,18,19,20,21,22,23,24,25,26,27,28,29,30,31,32,33,34,35,36,37,38,39,40,41,42,43,44,45,46,47,48,49,50,51,52,53,54,55,56,57,58,59,60,61,62,63,64,65,66,67,68,69,70,71,72,73,74,75,76,77,78,79,80,81,82,83,84,85,86,87,88,89,90,91,92,93],\"xaxis\":\"x\",\"y\":[0.13922040164470673,0.06593207269906998,0.06526410579681396,0.05745705962181091,0.05579200014472008,0.05011603236198425,0.04628678038716316,0.04443027451634407,0.03942194581031799,0.035927001386880875,0.033860888332128525,0.031147649511694908,0.028029488399624825,0.02507692016661167,0.022316651418805122,0.02016533352434635,0.018205389380455017,0.016611767932772636,0.014978192746639252,0.013601760379970074,0.012603506445884705,0.011741600930690765,0.010948576033115387,0.010187889449298382,0.00954419281333685,0.009014618583023548,0.008543826639652252,0.008163999766111374,0.0077457427978515625,0.007341284304857254,0.006967000663280487,0.00665348069742322,0.006381968501955271,0.006053560879081488,0.005746803712099791,0.005480801220983267,0.0052109998650848866,0.004942990839481354,0.00468068290501833,0.004443389363586903,0.004235092084854841,0.004032820928841829,0.00382212083786726,0.003610127605497837,0.003412701189517975,0.0032417813781648874,0.003108494682237506,0.003002939047291875,0.0029174459632486105,0.0028917796444147825,0.0029427390545606613,0.003124333219602704,0.0036852590274065733,0.0032054055482149124,0.002692361129447818,0.002635000506415963,0.0024509739596396685,0.0023880046792328358,0.002151787979528308,0.0019856004510074854,0.0018962109461426735,0.0019377870485186577,0.001762359868735075,0.0016537966439500451,0.0016476892633363605,0.001679367502219975,0.0015749087324365973,0.0014466284774243832,0.001421793014742434,0.0014355202438309789,0.0013922374928370118,0.0013024158542975783,0.0012519601732492447,0.0012403015280142426,0.0012180051999166608,0.0011903602862730622,0.0011566001921892166,0.0011127130128443241,0.0010702199069783092,0.001045174547471106,0.0010316759580746293,0.001031158259138465,0.0010541375959292054,0.0010564510012045503,0.000997256487607956,0.0009509758092463017,0.0009857559343799949,0.001007861690595746,0.0009801090927794576,0.0010664159199222922,0.0012984691420570016,0.0013564638793468475,0.0011456030188128352,0.0011895474744960666],\"yaxis\":\"y\",\"type\":\"scatter\"},{\"hovertemplate\":\"variable=Validation loss<br>index=%{x}<br>value=%{y}<extra></extra>\",\"legendgroup\":\"Validation loss\",\"line\":{\"color\":\"#EF553B\",\"dash\":\"solid\"},\"marker\":{\"symbol\":\"circle\"},\"mode\":\"lines\",\"name\":\"Validation loss\",\"orientation\":\"v\",\"showlegend\":true,\"x\":[0,1,2,3,4,5,6,7,8,9,10,11,12,13,14,15,16,17,18,19,20,21,22,23,24,25,26,27,28,29,30,31,32,33,34,35,36,37,38,39,40,41,42,43,44,45,46,47,48,49,50,51,52,53,54,55,56,57,58,59,60,61,62,63,64,65,66,67,68,69,70,71,72,73,74,75,76,77,78,79,80,81,82,83,84,85,86,87,88,89,90,91,92,93],\"xaxis\":\"x\",\"y\":[0.0656328797340393,0.06164375692605972,0.05271061509847641,0.05171884596347809,0.04695529863238335,0.0412173829972744,0.039819907397031784,0.03597910329699516,0.03253868594765663,0.031526219099760056,0.03042183816432953,0.02877095900475979,0.0262172631919384,0.023567210882902145,0.02109340764582157,0.019066618755459785,0.017906170338392258,0.016379795968532562,0.015270974487066269,0.014139685779809952,0.013118242844939232,0.012418723665177822,0.011713141575455666,0.011120716109871864,0.010466597974300385,0.010171298868954182,0.009717346169054508,0.009295324794948101,0.00887205358594656,0.008591382764279842,0.008443058468401432,0.008194470778107643,0.007930322550237179,0.007684121374040842,0.007462756708264351,0.007227424532175064,0.006980778183788061,0.006757449824362993,0.006568816490471363,0.0063692303374409676,0.006175406742841005,0.005991183687001467,0.005813613533973694,0.005627237726002932,0.005442364607006311,0.005311352200806141,0.005239167716354132,0.005157421343028545,0.004992829170078039,0.004781013820320368,0.005106443539261818,0.006207651924341917,0.0048903669230639935,0.0047212340869009495,0.00519875343888998,0.0049017975106835365,0.004345237277448177,0.003944805357605219,0.00451641296967864,0.003987582866102457,0.0037980847992002964,0.003685788717120886,0.0038996462244540453,0.0035955291241407394,0.0034071875270456076,0.0033952766098082066,0.0034705805592238903,0.0033413690980523825,0.0031386830378323793,0.0031161836814135313,0.0030868470203131437,0.003037835704162717,0.0029296979773789644,0.002879504580050707,0.0028336583636701107,0.0027167692314833403,0.002658544108271599,0.0026818623300641775,0.0026863778475672007,0.0025817344430834055,0.0024577248841524124,0.002411559456959367,0.0023782197386026382,0.0023287192452698946,0.0024012208450585604,0.0025885007344186306,0.0025482673663645983,0.002203411655500531,0.002103059785440564,0.0023767338134348392,0.0023861245717853308,0.0022210772149264812,0.0027468865737318993,0.002991314511746168],\"yaxis\":\"y\",\"type\":\"scatter\"}],                        {\"template\":{\"data\":{\"histogram2dcontour\":[{\"type\":\"histogram2dcontour\",\"colorbar\":{\"outlinewidth\":0,\"ticks\":\"\"},\"colorscale\":[[0.0,\"#0d0887\"],[0.1111111111111111,\"#46039f\"],[0.2222222222222222,\"#7201a8\"],[0.3333333333333333,\"#9c179e\"],[0.4444444444444444,\"#bd3786\"],[0.5555555555555556,\"#d8576b\"],[0.6666666666666666,\"#ed7953\"],[0.7777777777777778,\"#fb9f3a\"],[0.8888888888888888,\"#fdca26\"],[1.0,\"#f0f921\"]]}],\"choropleth\":[{\"type\":\"choropleth\",\"colorbar\":{\"outlinewidth\":0,\"ticks\":\"\"}}],\"histogram2d\":[{\"type\":\"histogram2d\",\"colorbar\":{\"outlinewidth\":0,\"ticks\":\"\"},\"colorscale\":[[0.0,\"#0d0887\"],[0.1111111111111111,\"#46039f\"],[0.2222222222222222,\"#7201a8\"],[0.3333333333333333,\"#9c179e\"],[0.4444444444444444,\"#bd3786\"],[0.5555555555555556,\"#d8576b\"],[0.6666666666666666,\"#ed7953\"],[0.7777777777777778,\"#fb9f3a\"],[0.8888888888888888,\"#fdca26\"],[1.0,\"#f0f921\"]]}],\"heatmap\":[{\"type\":\"heatmap\",\"colorbar\":{\"outlinewidth\":0,\"ticks\":\"\"},\"colorscale\":[[0.0,\"#0d0887\"],[0.1111111111111111,\"#46039f\"],[0.2222222222222222,\"#7201a8\"],[0.3333333333333333,\"#9c179e\"],[0.4444444444444444,\"#bd3786\"],[0.5555555555555556,\"#d8576b\"],[0.6666666666666666,\"#ed7953\"],[0.7777777777777778,\"#fb9f3a\"],[0.8888888888888888,\"#fdca26\"],[1.0,\"#f0f921\"]]}],\"heatmapgl\":[{\"type\":\"heatmapgl\",\"colorbar\":{\"outlinewidth\":0,\"ticks\":\"\"},\"colorscale\":[[0.0,\"#0d0887\"],[0.1111111111111111,\"#46039f\"],[0.2222222222222222,\"#7201a8\"],[0.3333333333333333,\"#9c179e\"],[0.4444444444444444,\"#bd3786\"],[0.5555555555555556,\"#d8576b\"],[0.6666666666666666,\"#ed7953\"],[0.7777777777777778,\"#fb9f3a\"],[0.8888888888888888,\"#fdca26\"],[1.0,\"#f0f921\"]]}],\"contourcarpet\":[{\"type\":\"contourcarpet\",\"colorbar\":{\"outlinewidth\":0,\"ticks\":\"\"}}],\"contour\":[{\"type\":\"contour\",\"colorbar\":{\"outlinewidth\":0,\"ticks\":\"\"},\"colorscale\":[[0.0,\"#0d0887\"],[0.1111111111111111,\"#46039f\"],[0.2222222222222222,\"#7201a8\"],[0.3333333333333333,\"#9c179e\"],[0.4444444444444444,\"#bd3786\"],[0.5555555555555556,\"#d8576b\"],[0.6666666666666666,\"#ed7953\"],[0.7777777777777778,\"#fb9f3a\"],[0.8888888888888888,\"#fdca26\"],[1.0,\"#f0f921\"]]}],\"surface\":[{\"type\":\"surface\",\"colorbar\":{\"outlinewidth\":0,\"ticks\":\"\"},\"colorscale\":[[0.0,\"#0d0887\"],[0.1111111111111111,\"#46039f\"],[0.2222222222222222,\"#7201a8\"],[0.3333333333333333,\"#9c179e\"],[0.4444444444444444,\"#bd3786\"],[0.5555555555555556,\"#d8576b\"],[0.6666666666666666,\"#ed7953\"],[0.7777777777777778,\"#fb9f3a\"],[0.8888888888888888,\"#fdca26\"],[1.0,\"#f0f921\"]]}],\"mesh3d\":[{\"type\":\"mesh3d\",\"colorbar\":{\"outlinewidth\":0,\"ticks\":\"\"}}],\"scatter\":[{\"fillpattern\":{\"fillmode\":\"overlay\",\"size\":10,\"solidity\":0.2},\"type\":\"scatter\"}],\"parcoords\":[{\"type\":\"parcoords\",\"line\":{\"colorbar\":{\"outlinewidth\":0,\"ticks\":\"\"}}}],\"scatterpolargl\":[{\"type\":\"scatterpolargl\",\"marker\":{\"colorbar\":{\"outlinewidth\":0,\"ticks\":\"\"}}}],\"bar\":[{\"error_x\":{\"color\":\"#2a3f5f\"},\"error_y\":{\"color\":\"#2a3f5f\"},\"marker\":{\"line\":{\"color\":\"#E5ECF6\",\"width\":0.5},\"pattern\":{\"fillmode\":\"overlay\",\"size\":10,\"solidity\":0.2}},\"type\":\"bar\"}],\"scattergeo\":[{\"type\":\"scattergeo\",\"marker\":{\"colorbar\":{\"outlinewidth\":0,\"ticks\":\"\"}}}],\"scatterpolar\":[{\"type\":\"scatterpolar\",\"marker\":{\"colorbar\":{\"outlinewidth\":0,\"ticks\":\"\"}}}],\"histogram\":[{\"marker\":{\"pattern\":{\"fillmode\":\"overlay\",\"size\":10,\"solidity\":0.2}},\"type\":\"histogram\"}],\"scattergl\":[{\"type\":\"scattergl\",\"marker\":{\"colorbar\":{\"outlinewidth\":0,\"ticks\":\"\"}}}],\"scatter3d\":[{\"type\":\"scatter3d\",\"line\":{\"colorbar\":{\"outlinewidth\":0,\"ticks\":\"\"}},\"marker\":{\"colorbar\":{\"outlinewidth\":0,\"ticks\":\"\"}}}],\"scattermapbox\":[{\"type\":\"scattermapbox\",\"marker\":{\"colorbar\":{\"outlinewidth\":0,\"ticks\":\"\"}}}],\"scatterternary\":[{\"type\":\"scatterternary\",\"marker\":{\"colorbar\":{\"outlinewidth\":0,\"ticks\":\"\"}}}],\"scattercarpet\":[{\"type\":\"scattercarpet\",\"marker\":{\"colorbar\":{\"outlinewidth\":0,\"ticks\":\"\"}}}],\"carpet\":[{\"aaxis\":{\"endlinecolor\":\"#2a3f5f\",\"gridcolor\":\"white\",\"linecolor\":\"white\",\"minorgridcolor\":\"white\",\"startlinecolor\":\"#2a3f5f\"},\"baxis\":{\"endlinecolor\":\"#2a3f5f\",\"gridcolor\":\"white\",\"linecolor\":\"white\",\"minorgridcolor\":\"white\",\"startlinecolor\":\"#2a3f5f\"},\"type\":\"carpet\"}],\"table\":[{\"cells\":{\"fill\":{\"color\":\"#EBF0F8\"},\"line\":{\"color\":\"white\"}},\"header\":{\"fill\":{\"color\":\"#C8D4E3\"},\"line\":{\"color\":\"white\"}},\"type\":\"table\"}],\"barpolar\":[{\"marker\":{\"line\":{\"color\":\"#E5ECF6\",\"width\":0.5},\"pattern\":{\"fillmode\":\"overlay\",\"size\":10,\"solidity\":0.2}},\"type\":\"barpolar\"}],\"pie\":[{\"automargin\":true,\"type\":\"pie\"}]},\"layout\":{\"autotypenumbers\":\"strict\",\"colorway\":[\"#636efa\",\"#EF553B\",\"#00cc96\",\"#ab63fa\",\"#FFA15A\",\"#19d3f3\",\"#FF6692\",\"#B6E880\",\"#FF97FF\",\"#FECB52\"],\"font\":{\"color\":\"#2a3f5f\"},\"hovermode\":\"closest\",\"hoverlabel\":{\"align\":\"left\"},\"paper_bgcolor\":\"white\",\"plot_bgcolor\":\"#E5ECF6\",\"polar\":{\"bgcolor\":\"#E5ECF6\",\"angularaxis\":{\"gridcolor\":\"white\",\"linecolor\":\"white\",\"ticks\":\"\"},\"radialaxis\":{\"gridcolor\":\"white\",\"linecolor\":\"white\",\"ticks\":\"\"}},\"ternary\":{\"bgcolor\":\"#E5ECF6\",\"aaxis\":{\"gridcolor\":\"white\",\"linecolor\":\"white\",\"ticks\":\"\"},\"baxis\":{\"gridcolor\":\"white\",\"linecolor\":\"white\",\"ticks\":\"\"},\"caxis\":{\"gridcolor\":\"white\",\"linecolor\":\"white\",\"ticks\":\"\"}},\"coloraxis\":{\"colorbar\":{\"outlinewidth\":0,\"ticks\":\"\"}},\"colorscale\":{\"sequential\":[[0.0,\"#0d0887\"],[0.1111111111111111,\"#46039f\"],[0.2222222222222222,\"#7201a8\"],[0.3333333333333333,\"#9c179e\"],[0.4444444444444444,\"#bd3786\"],[0.5555555555555556,\"#d8576b\"],[0.6666666666666666,\"#ed7953\"],[0.7777777777777778,\"#fb9f3a\"],[0.8888888888888888,\"#fdca26\"],[1.0,\"#f0f921\"]],\"sequentialminus\":[[0.0,\"#0d0887\"],[0.1111111111111111,\"#46039f\"],[0.2222222222222222,\"#7201a8\"],[0.3333333333333333,\"#9c179e\"],[0.4444444444444444,\"#bd3786\"],[0.5555555555555556,\"#d8576b\"],[0.6666666666666666,\"#ed7953\"],[0.7777777777777778,\"#fb9f3a\"],[0.8888888888888888,\"#fdca26\"],[1.0,\"#f0f921\"]],\"diverging\":[[0,\"#8e0152\"],[0.1,\"#c51b7d\"],[0.2,\"#de77ae\"],[0.3,\"#f1b6da\"],[0.4,\"#fde0ef\"],[0.5,\"#f7f7f7\"],[0.6,\"#e6f5d0\"],[0.7,\"#b8e186\"],[0.8,\"#7fbc41\"],[0.9,\"#4d9221\"],[1,\"#276419\"]]},\"xaxis\":{\"gridcolor\":\"white\",\"linecolor\":\"white\",\"ticks\":\"\",\"title\":{\"standoff\":15},\"zerolinecolor\":\"white\",\"automargin\":true,\"zerolinewidth\":2},\"yaxis\":{\"gridcolor\":\"white\",\"linecolor\":\"white\",\"ticks\":\"\",\"title\":{\"standoff\":15},\"zerolinecolor\":\"white\",\"automargin\":true,\"zerolinewidth\":2},\"scene\":{\"xaxis\":{\"backgroundcolor\":\"#E5ECF6\",\"gridcolor\":\"white\",\"linecolor\":\"white\",\"showbackground\":true,\"ticks\":\"\",\"zerolinecolor\":\"white\",\"gridwidth\":2},\"yaxis\":{\"backgroundcolor\":\"#E5ECF6\",\"gridcolor\":\"white\",\"linecolor\":\"white\",\"showbackground\":true,\"ticks\":\"\",\"zerolinecolor\":\"white\",\"gridwidth\":2},\"zaxis\":{\"backgroundcolor\":\"#E5ECF6\",\"gridcolor\":\"white\",\"linecolor\":\"white\",\"showbackground\":true,\"ticks\":\"\",\"zerolinecolor\":\"white\",\"gridwidth\":2}},\"shapedefaults\":{\"line\":{\"color\":\"#2a3f5f\"}},\"annotationdefaults\":{\"arrowcolor\":\"#2a3f5f\",\"arrowhead\":0,\"arrowwidth\":1},\"geo\":{\"bgcolor\":\"white\",\"landcolor\":\"#E5ECF6\",\"subunitcolor\":\"white\",\"showland\":true,\"showlakes\":true,\"lakecolor\":\"white\"},\"title\":{\"x\":0.05},\"mapbox\":{\"style\":\"light\"}}},\"xaxis\":{\"anchor\":\"y\",\"domain\":[0.0,1.0],\"title\":{\"text\":\"Epochs\"}},\"yaxis\":{\"anchor\":\"x\",\"domain\":[0.0,1.0],\"title\":{\"text\":\"Loss\"}},\"legend\":{\"title\":{\"text\":\"\"},\"tracegroupgap\":0},\"margin\":{\"t\":60},\"title\":{\"text\":\"Training and Validation Loss\"}},                        {\"responsive\": true}                    ).then(function(){\n",
       "                            \n",
       "var gd = document.getElementById('53082ee1-fba2-4430-83b4-52e1d5425714');\n",
       "var x = new MutationObserver(function (mutations, observer) {{\n",
       "        var display = window.getComputedStyle(gd).display;\n",
       "        if (!display || display === 'none') {{\n",
       "            console.log([gd, 'removed!']);\n",
       "            Plotly.purge(gd);\n",
       "            observer.disconnect();\n",
       "        }}\n",
       "}});\n",
       "\n",
       "// Listen for the removal of the full notebook cells\n",
       "var notebookContainer = gd.closest('#notebook-container');\n",
       "if (notebookContainer) {{\n",
       "    x.observe(notebookContainer, {childList: true});\n",
       "}}\n",
       "\n",
       "// Listen for the clearing of the current output cell\n",
       "var outputEl = gd.closest('.output');\n",
       "if (outputEl) {{\n",
       "    x.observe(outputEl, {childList: true});\n",
       "}}\n",
       "\n",
       "                        })                };                });            </script>        </div>"
      ]
     },
     "metadata": {},
     "output_type": "display_data"
    }
   ],
   "source": [
    "def visualize_loss_px(history, title):\n",
    "    loss = history.history[\"loss\"]\n",
    "    val_loss = history.history[\"val_loss\"]\n",
    "    df=pd.DataFrame(data={'Training loss': loss, 'Validation loss': val_loss})\n",
    "    return px.line(df, y=df.columns).update_layout(xaxis_title='Epochs', yaxis_title='Loss',legend_title='',title=title)\n",
    "\n",
    "visualize_loss_px(history, \"Training and Validation Loss\")"
   ]
  }
 ],
 "metadata": {
  "kernelspec": {
   "display_name": "Python 3 (ipykernel)",
   "language": "python",
   "name": "python3"
  },
  "language_info": {
   "codemirror_mode": {
    "name": "ipython",
    "version": 3
   },
   "file_extension": ".py",
   "mimetype": "text/x-python",
   "name": "python",
   "nbconvert_exporter": "python",
   "pygments_lexer": "ipython3",
   "version": "3.9.7"
  }
 },
 "nbformat": 4,
 "nbformat_minor": 5
}

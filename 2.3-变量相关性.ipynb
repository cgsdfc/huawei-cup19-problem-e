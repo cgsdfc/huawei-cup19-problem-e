{
 "cells": [
  {
   "cell_type": "code",
   "execution_count": 36,
   "id": "74d806f4",
   "metadata": {},
   "outputs": [],
   "source": [
    "import pandas as pd\n",
    "import numpy as np\n",
    "import seaborn as sns\n",
    "from pathlib import Path as P\n",
    "import matplotlib.pyplot as plt\n",
    "plt.rcParams['font.sans-serif'] = ['KaiTi', 'SimHei', 'FangSong']  # 汉字字体,优先使用楷体，如果找不到楷体，则使用黑体\n",
    "plt.rcParams['font.size'] = 12  # 字体大小\n",
    "plt.rcParams['axes.unicode_minus'] = False  # 正常显示负号\n",
    "from collections import defaultdict\n",
    "import plotly.express as px\n",
    "\n",
    "FACTORS=defaultdict(list)"
   ]
  },
  {
   "cell_type": "code",
   "execution_count": 37,
   "id": "8a081ebb",
   "metadata": {},
   "outputs": [
    {
     "data": {
      "text/plain": [
       "Index(['month', 'year', '10cm湿度(kg/m2)', '40cm湿度(kg/m2)', '100cm湿度(kg/m2)',\n",
       "       '200cm湿度(kg/m2)'],\n",
       "      dtype='object')"
      ]
     },
     "execution_count": 37,
     "metadata": {},
     "output_type": "execute_result"
    }
   ],
   "source": [
    "df = pd.read_csv('./附件3-湿度-预处理.csv', index_col='time')\n",
    "df_H=df\n",
    "df.columns"
   ]
  },
  {
   "cell_type": "code",
   "execution_count": 38,
   "id": "cee161b6",
   "metadata": {},
   "outputs": [],
   "source": [
    "YCOLS=['10cm湿度(kg/m2)', '40cm湿度(kg/m2)', '100cm湿度(kg/m2)',\n",
    "       '200cm湿度(kg/m2)']\n",
    "H_COLS=YCOLS\n"
   ]
  },
  {
   "cell_type": "code",
   "execution_count": 39,
   "id": "3447c247",
   "metadata": {},
   "outputs": [],
   "source": [
    "df = pd.read_csv('./附件4-土壤蒸发量-预处理.csv', index_col='time')\n",
    "df_SoilEvap=df"
   ]
  },
  {
   "cell_type": "code",
   "execution_count": 40,
   "id": "b682870c",
   "metadata": {},
   "outputs": [],
   "source": [
    "YCOLS=[ '土壤蒸发量(W/m2)', '土壤蒸发量(mm)']\n",
    "\n",
    "SOIL_EVAP_COLS=YCOLS\n"
   ]
  },
  {
   "cell_type": "code",
   "execution_count": 41,
   "id": "5d2d38a3",
   "metadata": {},
   "outputs": [],
   "source": [
    "df = pd.read_csv('附件8-气候-预处理.csv',index_col='time')\n",
    "df_Climate=df"
   ]
  },
  {
   "cell_type": "code",
   "execution_count": 42,
   "id": "f7a377ed",
   "metadata": {},
   "outputs": [
    {
     "data": {
      "text/plain": [
       "['平均气温(℃)', '平均最高气温(℃)', '平均最低气温(℃)', '最高气温极值(℃)', '最低气温极值(℃)', '平均露点温度(℃)']"
      ]
     },
     "execution_count": 42,
     "metadata": {},
     "output_type": "execute_result"
    }
   ],
   "source": [
    "TEMP_COLS=[col for col in df.columns if col.endswith('(℃)')]\n",
    "df_Temp=df_Climate[TEMP_COLS]\n",
    "TEMP_COLS"
   ]
  },
  {
   "cell_type": "code",
   "execution_count": 43,
   "id": "1bd935ad",
   "metadata": {},
   "outputs": [
    {
     "data": {
      "text/plain": [
       "['平均风速(knots)', '平均最大持续风速(knots)', '单日最大平均风速(knots)']"
      ]
     },
     "execution_count": 43,
     "metadata": {},
     "output_type": "execute_result"
    }
   ],
   "source": [
    "WIND_COLS=[col for col in df.columns if col.endswith('(knots)')]\n",
    "df_Wind=df_Climate[WIND_COLS]\n",
    "WIND_COLS"
   ]
  },
  {
   "cell_type": "code",
   "execution_count": 44,
   "id": "4b4a4fc1",
   "metadata": {},
   "outputs": [
    {
     "data": {
      "text/plain": [
       "['平均能见度(km)', '最小能见度(km)', '最大能见度(km)']"
      ]
     },
     "execution_count": 44,
     "metadata": {},
     "output_type": "execute_result"
    }
   ],
   "source": [
    "VIS_COLS=[col for col in df.columns if col.endswith('(km)')]\n",
    "df_Vis=df_Climate[VIS_COLS]\n",
    "VIS_COLS"
   ]
  },
  {
   "cell_type": "code",
   "execution_count": 45,
   "id": "bb81621c",
   "metadata": {},
   "outputs": [
    {
     "data": {
      "text/plain": [
       "['平均海平面气压(hPa)', '最低海平面气压(hPa)', '平均站点气压(hPa)']"
      ]
     },
     "execution_count": 45,
     "metadata": {},
     "output_type": "execute_result"
    }
   ],
   "source": [
    "PRESS_COLS=[col for col in df.columns if col.endswith('(hPa)')]\n",
    "df_Press=df_Climate[PRESS_COLS]\n",
    "PRESS_COLS"
   ]
  },
  {
   "cell_type": "code",
   "execution_count": 46,
   "id": "15b2f48a",
   "metadata": {},
   "outputs": [
    {
     "data": {
      "text/plain": [
       "['平均气温≥18℃的天数', '平均气温≤0℃的天数', '降水天数']"
      ]
     },
     "execution_count": 46,
     "metadata": {},
     "output_type": "execute_result"
    }
   ],
   "source": [
    "DAYS_COLS=[col for col in df.columns if col.endswith('天数')]\n",
    "df_Days=df_Climate[DAYS_COLS]\n",
    "DAYS_COLS"
   ]
  },
  {
   "cell_type": "code",
   "execution_count": 47,
   "id": "c1e22b32",
   "metadata": {},
   "outputs": [
    {
     "data": {
      "text/plain": [
       "['降水量(mm)', '最大单日降水量(mm)']"
      ]
     },
     "execution_count": 47,
     "metadata": {},
     "output_type": "execute_result"
    }
   ],
   "source": [
    "RAIN_COLS=[col for col in df.columns if col.endswith('(mm)')]\n",
    "df_Rain=df_Climate[RAIN_COLS]\n",
    "RAIN_COLS"
   ]
  },
  {
   "cell_type": "code",
   "execution_count": 48,
   "id": "b60c0eb1",
   "metadata": {},
   "outputs": [
    {
     "data": {
      "text/plain": [
       "(20, 22)"
      ]
     },
     "execution_count": 48,
     "metadata": {},
     "output_type": "execute_result"
    }
   ],
   "source": [
    "len(TEMP_COLS)+len(WIND_COLS)+len(VIS_COLS)+len(PRESS_COLS)+len(DAYS_COLS)+len(RAIN_COLS), len(df.columns)"
   ]
  },
  {
   "cell_type": "code",
   "execution_count": 49,
   "id": "a6562227",
   "metadata": {},
   "outputs": [
    {
     "data": {
      "text/plain": [
       "6"
      ]
     },
     "execution_count": 49,
     "metadata": {},
     "output_type": "execute_result"
    }
   ],
   "source": [
    "VAR_GROUP=[TEMP_COLS,WIND_COLS,VIS_COLS,PRESS_COLS,DAYS_COLS,RAIN_COLS]\n",
    "len(VAR_GROUP)"
   ]
  },
  {
   "cell_type": "code",
   "execution_count": 50,
   "id": "3debd545",
   "metadata": {},
   "outputs": [],
   "source": [
    "X_list=[ df_Temp, df_Wind, df_Rain, df_Days, df_Vis, df_Press]\n",
    "Y_list=[df_H, df_SoilEvap]\n"
   ]
  },
  {
   "cell_type": "code",
   "execution_count": 51,
   "id": "01ed5db3",
   "metadata": {},
   "outputs": [
    {
     "data": {
      "text/plain": [
       "([127, 127, 127, 127, 127, 127], [123, 123])"
      ]
     },
     "execution_count": 51,
     "metadata": {},
     "output_type": "execute_result"
    }
   ],
   "source": [
    "[len(df.index) for df in X_list], [len(df.index) for df in Y_list], "
   ]
  },
  {
   "cell_type": "code",
   "execution_count": 52,
   "id": "686d41c0",
   "metadata": {},
   "outputs": [],
   "source": [
    "Y_list=[df.drop(columns=['month','year']) for df in Y_list]"
   ]
  },
  {
   "cell_type": "code",
   "execution_count": 53,
   "id": "d34eeb88",
   "metadata": {
    "scrolled": true
   },
   "outputs": [],
   "source": [
    "# 将自变量和因变量进行日期对齐。\n",
    "XY_list=X_list+Y_list\n",
    "df=XY_list[0].join(XY_list[1:], how='inner')\n",
    "df_All=df"
   ]
  },
  {
   "cell_type": "code",
   "execution_count": 54,
   "id": "c9ce67e1",
   "metadata": {},
   "outputs": [],
   "source": [
    "df.to_csv('问题2-自变量因变量表.csv')"
   ]
  },
  {
   "cell_type": "code",
   "execution_count": 55,
   "id": "7df6747b",
   "metadata": {},
   "outputs": [],
   "source": [
    "df_corr_list=[] # 记录每个变量对因变量的相关系数"
   ]
  },
  {
   "cell_type": "code",
   "execution_count": 56,
   "id": "ebcfb584",
   "metadata": {},
   "outputs": [],
   "source": [
    "def plotCorr(xcorr, title):\n",
    "    #设置右上三角不绘制\n",
    "    plt.figure(figsize=(8,8))\n",
    "    #mask为 和相关系数矩阵xcorr一样大的 全0(False)矩阵\n",
    "    mask = np.zeros_like(xcorr, dtype=bool)\n",
    "    # 将mask右上三角(列号》=行号)设置为True\n",
    "    mask[np.triu_indices_from(mask)] = True\n",
    "    #cmap是设置热图的颜色\n",
    "    cmap = sns.diverging_palette(220, 10, as_cmap=True)\n",
    "    #绘制热图\n",
    "    g = sns.heatmap(xcorr, mask=mask, cmap=cmap, square=True, annot=True, fmt='0.2f')\n",
    "    plt.title(title)\n",
    "    #  xcorr : 数据矩阵\n",
    "    #  mask : 为True的元素对应位置不会画出来（mask面具的意义）\n",
    "    #  cmap: 颜色设置\n",
    "    #  square: （True）代表行列长度一致，且绘制的每个也是方格\n",
    "    #  annot ： 在格内显示数据\n",
    "    #  fmt ：数据格式"
   ]
  },
  {
   "cell_type": "code",
   "execution_count": 57,
   "id": "5dc14942",
   "metadata": {},
   "outputs": [
    {
     "data": {
      "image/png": "[encoded data removed]",
      "text/plain": [
       "<Figure size 576x576 with 2 Axes>"
      ]
     },
     "metadata": {
      "needs_background": "light"
     },
     "output_type": "display_data"
    }
   ],
   "source": [
    "df_corr=df[H_COLS+RAIN_COLS].corr()\n",
    "df_corr_list.append(df_corr.loc[RAIN_COLS, H_COLS])\n",
    "plotCorr(df_corr, '降水量对土壤湿度的影响')"
   ]
  },
  {
   "cell_type": "code",
   "execution_count": 58,
   "id": "691066b7",
   "metadata": {
    "scrolled": true
   },
   "outputs": [
    {
     "data": {
      "image/png": "[encoded data removed]",
      "text/plain": [
       "<Figure size 576x576 with 2 Axes>"
      ]
     },
     "metadata": {
      "needs_background": "light"
     },
     "output_type": "display_data"
    }
   ],
   "source": [
    "df_corr=df[H_COLS+TEMP_COLS].corr()\n",
    "df_corr_list.append(df_corr.loc[TEMP_COLS, H_COLS])\n",
    "plotCorr(df_corr, '温度对土壤湿度的影响')"
   ]
  },
  {
   "cell_type": "code",
   "execution_count": 59,
   "id": "d54c10cd",
   "metadata": {
    "scrolled": true
   },
   "outputs": [
    {
     "data": {
      "image/png": "[encoded data removed]",
      "text/plain": [
       "<Figure size 576x576 with 2 Axes>"
      ]
     },
     "metadata": {
      "needs_background": "light"
     },
     "output_type": "display_data"
    }
   ],
   "source": [
    "df_corr=df[H_COLS+WIND_COLS].corr()\n",
    "df_corr_list.append(df_corr.loc[WIND_COLS, H_COLS])\n",
    "plotCorr(df_corr, '风速对土壤湿度的影响')"
   ]
  },
  {
   "cell_type": "code",
   "execution_count": 60,
   "id": "8301b96d",
   "metadata": {},
   "outputs": [
    {
     "data": {
      "image/png": "[encoded data removed]",
      "text/plain": [
       "<Figure size 576x576 with 2 Axes>"
      ]
     },
     "metadata": {
      "needs_background": "light"
     },
     "output_type": "display_data"
    }
   ],
   "source": [
    "df_corr=df[H_COLS+PRESS_COLS].corr()\n",
    "df_corr_list.append(df_corr.loc[PRESS_COLS, H_COLS])\n",
    "plotCorr(df_corr, '气压对土壤湿度的影响')"
   ]
  },
  {
   "cell_type": "code",
   "execution_count": 61,
   "id": "adbe57fb",
   "metadata": {},
   "outputs": [
    {
     "data": {
      "image/png": "[encoded data removed]",
      "text/plain": [
       "<Figure size 576x576 with 2 Axes>"
      ]
     },
     "metadata": {
      "needs_background": "light"
     },
     "output_type": "display_data"
    }
   ],
   "source": [
    "df_corr=df[DAYS_COLS+TEMP_COLS].corr()\n",
    "plotCorr(df_corr, '天数和气温的关系')"
   ]
  },
  {
   "cell_type": "code",
   "execution_count": 62,
   "id": "6451bcd1",
   "metadata": {},
   "outputs": [
    {
     "data": {
      "image/png": "[encoded data removed]",
      "text/plain": [
       "<Figure size 576x576 with 2 Axes>"
      ]
     },
     "metadata": {
      "needs_background": "light"
     },
     "output_type": "display_data"
    }
   ],
   "source": [
    "df_corr=df[H_COLS+SOIL_EVAP_COLS].corr()\n",
    "df_corr_list.append(df_corr.loc[SOIL_EVAP_COLS, H_COLS])\n",
    "plotCorr(df_corr, '土壤蒸发量对土壤湿度的影响')"
   ]
  },
  {
   "cell_type": "code",
   "execution_count": 63,
   "id": "331e0a21",
   "metadata": {},
   "outputs": [
    {
     "data": {
      "image/png": "[encoded data removed]",
      "text/plain": [
       "<Figure size 576x576 with 2 Axes>"
      ]
     },
     "metadata": {
      "needs_background": "light"
     },
     "output_type": "display_data"
    }
   ],
   "source": [
    "df_corr=df[H_COLS+VIS_COLS].corr()\n",
    "df_corr_list.append(df_corr.loc[VIS_COLS, H_COLS])\n",
    "plotCorr(df_corr, '能见度对土壤湿度的影响')"
   ]
  },
  {
   "cell_type": "markdown",
   "id": "079320e9",
   "metadata": {},
   "source": [
    "能见度对不同深度的土壤湿度都没有显著的影响。"
   ]
  },
  {
   "cell_type": "code",
   "execution_count": 64,
   "id": "8c3021c1",
   "metadata": {},
   "outputs": [
    {
     "data": {
      "image/png": "[encoded data removed]",
      "text/plain": [
       "<Figure size 576x576 with 2 Axes>"
      ]
     },
     "metadata": {
      "needs_background": "light"
     },
     "output_type": "display_data"
    }
   ],
   "source": [
    "df_corr=df[H_COLS].corr()\n",
    "plotCorr(df_corr, '不同深度土壤湿度的互相影响')"
   ]
  },
  {
   "cell_type": "markdown",
   "id": "793f2536",
   "metadata": {},
   "source": [
    "1. 40cm和100cm的湿度呈现高度的正相关；\n",
    "2. 10cm和100cm的湿度呈现高度的负相关；\n",
    "3. 10cm和40cm的湿度呈现中度的正相关；\n",
    "\n",
    "可能的解释：\n",
    "1. 相邻层面的湿度呈现正相关，比如10和40,40和100；\n",
    "2. 最深层和最浅层的湿度是负相关，可能因为水从浅层渗透到深层；"
   ]
  },
  {
   "cell_type": "code",
   "execution_count": 65,
   "id": "13ba31b1",
   "metadata": {},
   "outputs": [
    {
     "data": {
      "text/html": [
       "<div>\n",
       "<style scoped>\n",
       "    .dataframe tbody tr th:only-of-type {\n",
       "        vertical-align: middle;\n",
       "    }\n",
       "\n",
       "    .dataframe tbody tr th {\n",
       "        vertical-align: top;\n",
       "    }\n",
       "\n",
       "    .dataframe thead th {\n",
       "        text-align: right;\n",
       "    }\n",
       "</style>\n",
       "<table border=\"1\" class=\"dataframe\">\n",
       "  <thead>\n",
       "    <tr style=\"text-align: right;\">\n",
       "      <th></th>\n",
       "      <th>10cm湿度(kg/m2)</th>\n",
       "      <th>40cm湿度(kg/m2)</th>\n",
       "      <th>100cm湿度(kg/m2)</th>\n",
       "      <th>200cm湿度(kg/m2)</th>\n",
       "    </tr>\n",
       "  </thead>\n",
       "  <tbody>\n",
       "    <tr>\n",
       "      <th>降水量(mm)</th>\n",
       "      <td>0.082812</td>\n",
       "      <td>0.256206</td>\n",
       "      <td>0.236984</td>\n",
       "      <td>0.329449</td>\n",
       "    </tr>\n",
       "    <tr>\n",
       "      <th>最大单日降水量(mm)</th>\n",
       "      <td>0.184470</td>\n",
       "      <td>0.356570</td>\n",
       "      <td>0.171895</td>\n",
       "      <td>0.203708</td>\n",
       "    </tr>\n",
       "    <tr>\n",
       "      <th>平均气温(℃)</th>\n",
       "      <td>0.634830</td>\n",
       "      <td>0.136755</td>\n",
       "      <td>0.085383</td>\n",
       "      <td>0.073979</td>\n",
       "    </tr>\n",
       "    <tr>\n",
       "      <th>平均最高气温(℃)</th>\n",
       "      <td>0.632798</td>\n",
       "      <td>0.144604</td>\n",
       "      <td>0.054182</td>\n",
       "      <td>0.045259</td>\n",
       "    </tr>\n",
       "    <tr>\n",
       "      <th>平均最低气温(℃)</th>\n",
       "      <td>0.666587</td>\n",
       "      <td>0.157085</td>\n",
       "      <td>0.084854</td>\n",
       "      <td>0.076006</td>\n",
       "    </tr>\n",
       "    <tr>\n",
       "      <th>最高气温极值(℃)</th>\n",
       "      <td>0.550871</td>\n",
       "      <td>0.081406</td>\n",
       "      <td>0.104792</td>\n",
       "      <td>0.087426</td>\n",
       "    </tr>\n",
       "    <tr>\n",
       "      <th>最低气温极值(℃)</th>\n",
       "      <td>0.672587</td>\n",
       "      <td>0.183864</td>\n",
       "      <td>0.063484</td>\n",
       "      <td>0.063002</td>\n",
       "    </tr>\n",
       "    <tr>\n",
       "      <th>平均露点温度(℃)</th>\n",
       "      <td>0.750773</td>\n",
       "      <td>0.222186</td>\n",
       "      <td>0.040296</td>\n",
       "      <td>0.048706</td>\n",
       "    </tr>\n",
       "    <tr>\n",
       "      <th>平均风速(knots)</th>\n",
       "      <td>0.002884</td>\n",
       "      <td>0.178671</td>\n",
       "      <td>0.201186</td>\n",
       "      <td>0.290999</td>\n",
       "    </tr>\n",
       "    <tr>\n",
       "      <th>平均最大持续风速(knots)</th>\n",
       "      <td>0.022897</td>\n",
       "      <td>0.228624</td>\n",
       "      <td>0.256866</td>\n",
       "      <td>0.315822</td>\n",
       "    </tr>\n",
       "    <tr>\n",
       "      <th>单日最大平均风速(knots)</th>\n",
       "      <td>0.005989</td>\n",
       "      <td>0.164379</td>\n",
       "      <td>0.228271</td>\n",
       "      <td>0.363893</td>\n",
       "    </tr>\n",
       "    <tr>\n",
       "      <th>平均海平面气压(hPa)</th>\n",
       "      <td>0.610890</td>\n",
       "      <td>0.129192</td>\n",
       "      <td>0.093079</td>\n",
       "      <td>0.115911</td>\n",
       "    </tr>\n",
       "    <tr>\n",
       "      <th>最低海平面气压(hPa)</th>\n",
       "      <td>0.490880</td>\n",
       "      <td>0.083721</td>\n",
       "      <td>0.089570</td>\n",
       "      <td>0.110227</td>\n",
       "    </tr>\n",
       "    <tr>\n",
       "      <th>平均站点气压(hPa)</th>\n",
       "      <td>0.502700</td>\n",
       "      <td>0.150340</td>\n",
       "      <td>0.045586</td>\n",
       "      <td>0.099695</td>\n",
       "    </tr>\n",
       "    <tr>\n",
       "      <th>土壤蒸发量(W/m2)</th>\n",
       "      <td>0.813381</td>\n",
       "      <td>0.329817</td>\n",
       "      <td>0.038684</td>\n",
       "      <td>0.066240</td>\n",
       "    </tr>\n",
       "    <tr>\n",
       "      <th>土壤蒸发量(mm)</th>\n",
       "      <td>0.814474</td>\n",
       "      <td>0.332594</td>\n",
       "      <td>0.040177</td>\n",
       "      <td>0.065537</td>\n",
       "    </tr>\n",
       "    <tr>\n",
       "      <th>平均能见度(km)</th>\n",
       "      <td>0.312384</td>\n",
       "      <td>0.151257</td>\n",
       "      <td>0.188674</td>\n",
       "      <td>0.011858</td>\n",
       "    </tr>\n",
       "    <tr>\n",
       "      <th>最小能见度(km)</th>\n",
       "      <td>0.283184</td>\n",
       "      <td>0.001846</td>\n",
       "      <td>0.039242</td>\n",
       "      <td>0.237336</td>\n",
       "    </tr>\n",
       "    <tr>\n",
       "      <th>最大能见度(km)</th>\n",
       "      <td>0.155144</td>\n",
       "      <td>0.217320</td>\n",
       "      <td>0.215576</td>\n",
       "      <td>0.220136</td>\n",
       "    </tr>\n",
       "  </tbody>\n",
       "</table>\n",
       "</div>"
      ],
      "text/plain": [
       "                 10cm湿度(kg/m2)  40cm湿度(kg/m2)  100cm湿度(kg/m2)  200cm湿度(kg/m2)\n",
       "降水量(mm)               0.082812       0.256206        0.236984        0.329449\n",
       "最大单日降水量(mm)           0.184470       0.356570        0.171895        0.203708\n",
       "平均气温(℃)               0.634830       0.136755        0.085383        0.073979\n",
       "平均最高气温(℃)             0.632798       0.144604        0.054182        0.045259\n",
       "平均最低气温(℃)             0.666587       0.157085        0.084854        0.076006\n",
       "最高气温极值(℃)             0.550871       0.081406        0.104792        0.087426\n",
       "最低气温极值(℃)             0.672587       0.183864        0.063484        0.063002\n",
       "平均露点温度(℃)             0.750773       0.222186        0.040296        0.048706\n",
       "平均风速(knots)           0.002884       0.178671        0.201186        0.290999\n",
       "平均最大持续风速(knots)       0.022897       0.228624        0.256866        0.315822\n",
       "单日最大平均风速(knots)       0.005989       0.164379        0.228271        0.363893\n",
       "平均海平面气压(hPa)          0.610890       0.129192        0.093079        0.115911\n",
       "最低海平面气压(hPa)          0.490880       0.083721        0.089570        0.110227\n",
       "平均站点气压(hPa)           0.502700       0.150340        0.045586        0.099695\n",
       "土壤蒸发量(W/m2)           0.813381       0.329817        0.038684        0.066240\n",
       "土壤蒸发量(mm)             0.814474       0.332594        0.040177        0.065537\n",
       "平均能见度(km)             0.312384       0.151257        0.188674        0.011858\n",
       "最小能见度(km)             0.283184       0.001846        0.039242        0.237336\n",
       "最大能见度(km)             0.155144       0.217320        0.215576        0.220136"
      ]
     },
     "execution_count": 65,
     "metadata": {},
     "output_type": "execute_result"
    }
   ],
   "source": [
    "df=pd.concat(df_corr_list).abs()\n",
    "df"
   ]
  },
  {
   "cell_type": "code",
   "execution_count": 66,
   "id": "21f61fa3",
   "metadata": {},
   "outputs": [],
   "source": [
    "df.to_csv('各变量对土壤湿度因变量的相关系数.csv')"
   ]
  },
  {
   "cell_type": "code",
   "execution_count": 67,
   "id": "77758d2d",
   "metadata": {},
   "outputs": [
    {
     "name": "stdout",
     "output_type": "stream",
     "text": [
      "土壤蒸发量(mm)      0.814474\n",
      "土壤蒸发量(W/m2)    0.813381\n",
      "平均露点温度(℃)      0.750773\n",
      "最低气温极值(℃)      0.672587\n",
      "平均最低气温(℃)      0.666587\n",
      "Name: 10cm湿度(kg/m2), dtype: float64\n",
      "['土壤蒸发量(mm)', '土壤蒸发量(W/m2)', '平均露点温度(℃)', '最低气温极值(℃)', '平均最低气温(℃)', '10cm湿度(kg/m2)']\n",
      "\n",
      "最大单日降水量(mm)        0.356570\n",
      "土壤蒸发量(mm)          0.332594\n",
      "土壤蒸发量(W/m2)        0.329817\n",
      "降水量(mm)            0.256206\n",
      "平均最大持续风速(knots)    0.228624\n",
      "Name: 40cm湿度(kg/m2), dtype: float64\n",
      "['最大单日降水量(mm)', '土壤蒸发量(mm)', '土壤蒸发量(W/m2)', '降水量(mm)', '平均最大持续风速(knots)', '40cm湿度(kg/m2)']\n",
      "\n",
      "平均最大持续风速(knots)    0.256866\n",
      "降水量(mm)            0.236984\n",
      "单日最大平均风速(knots)    0.228271\n",
      "最大能见度(km)          0.215576\n",
      "平均风速(knots)        0.201186\n",
      "Name: 100cm湿度(kg/m2), dtype: float64\n",
      "['平均最大持续风速(knots)', '降水量(mm)', '单日最大平均风速(knots)', '最大能见度(km)', '平均风速(knots)', '100cm湿度(kg/m2)']\n",
      "\n",
      "单日最大平均风速(knots)    0.363893\n",
      "降水量(mm)            0.329449\n",
      "平均最大持续风速(knots)    0.315822\n",
      "平均风速(knots)        0.290999\n",
      "最小能见度(km)          0.237336\n",
      "Name: 200cm湿度(kg/m2), dtype: float64\n",
      "['单日最大平均风速(knots)', '降水量(mm)', '平均最大持续风速(knots)', '平均风速(knots)', '最小能见度(km)', '200cm湿度(kg/m2)']\n",
      "\n"
     ]
    }
   ],
   "source": [
    "for col in df.columns:\n",
    "    ss = df[col].sort_values(ascending=False)\n",
    "    ss = ss.iloc[:5]\n",
    "    print(ss)\n",
    "    print(ss.index.to_list()+[col])\n",
    "    print()"
   ]
  },
  {
   "cell_type": "code",
   "execution_count": 71,
   "id": "d0f1df81",
   "metadata": {},
   "outputs": [
    {
     "data": {
      "application/vnd.plotly.v1+json": {
       "config": {
        "plotlyServerURL": "https://plot.ly"
       },
       "data": [
        {
         "hovertemplate": "variable=土壤蒸发量(mm)<br>time=%{x}<br>value=%{y}<extra></extra>",
         "legendgroup": "土壤蒸发量(mm)",
         "line": {
          "color": "#636efa",
          "dash": "solid"
         },
         "marker": {
          "symbol": "circle"
         },
         "mode": "lines",
         "name": "土壤蒸发量(mm)",
         "orientation": "v",
         "showlegend": true,
         "type": "scatter",
         "x": [
          "2012-01-01",
          "2012-02-01",
          "2012-03-01",
          "2012-04-01",
          "2012-05-01",
          "2012-06-01",
          "2012-07-01",
          "2012-08-01",
          "2012-09-01",
          "2012-10-01",
          "2012-11-01",
          "2012-12-01",
          "2013-01-01",
          "2013-02-01",
          "2013-03-01",
          "2013-04-01",
          "2013-05-01",
          "2013-06-01",
          "2013-07-01",
          "2013-08-01",
          "2013-09-01",
          "2013-10-01",
          "2013-11-01",
          "2013-12-01",
          "2014-01-01",
          "2014-02-01",
          "2014-03-01",
          "2014-04-01",
          "2014-05-01",
          "2014-06-01",
          "2014-07-01",
          "2014-08-01",
          "2014-09-01",
          "2014-10-01",
          "2014-11-01",
          "2014-12-01",
          "2015-01-01",
          "2015-02-01",
          "2015-03-01",
          "2015-04-01",
          "2015-05-01",
          "2015-06-01",
          "2015-07-01",
          "2015-08-01",
          "2015-09-01",
          "2015-10-01",
          "2015-11-01",
          "2015-12-01",
          "2016-01-01",
          "2016-02-01",
          "2016-03-01",
          "2016-04-01",
          "2016-05-01",
          "2016-06-01",
          "2016-07-01",
          "2016-08-01",
          "2016-09-01",
          "2016-10-01",
          "2016-11-01",
          "2016-12-01",
          "2017-01-01",
          "2017-02-01",
          "2017-03-01",
          "2017-04-01",
          "2017-05-01",
          "2017-06-01",
          "2017-07-01",
          "2017-08-01",
          "2017-09-01",
          "2017-10-01",
          "2017-11-01",
          "2017-12-01",
          "2018-01-01",
          "2018-02-01",
          "2018-03-01",
          "2018-04-01",
          "2018-05-01",
          "2018-06-01",
          "2018-07-01",
          "2018-08-01",
          "2018-09-01",
          "2018-10-01",
          "2018-11-01",
          "2018-12-01",
          "2019-01-01",
          "2019-02-01",
          "2019-03-01",
          "2019-04-01",
          "2019-05-01",
          "2019-06-01",
          "2019-07-01",
          "2019-08-01",
          "2019-09-01",
          "2019-10-01",
          "2019-11-01",
          "2019-12-01",
          "2020-01-01",
          "2020-02-01",
          "2020-03-01",
          "2020-04-01",
          "2020-05-01",
          "2020-06-01",
          "2020-07-01",
          "2020-08-01",
          "2020-09-01",
          "2020-10-01",
          "2020-11-01",
          "2020-12-01",
          "2021-01-01",
          "2021-02-01",
          "2021-03-01",
          "2021-04-01",
          "2021-05-01",
          "2021-06-01",
          "2021-07-01",
          "2021-08-01",
          "2021-09-01",
          "2021-10-01",
          "2021-11-01",
          "2021-12-01",
          "2022-01-01",
          "2022-02-01",
          "2022-03-01"
         ],
         "xaxis": "x",
         "y": [
          0.61,
          0.86,
          1.91,
          7.2,
          18.1,
          33.53,
          31.48,
          14.27,
          13.36,
          8.13,
          0.92,
          0.34,
          0.4,
          0.78,
          3.37,
          4.99,
          12.45,
          38.54,
          39.26,
          21.73,
          9.51,
          5.9,
          2.03,
          0.4,
          0.67,
          0.42,
          14.46,
          20.12,
          25.29,
          28.85,
          23.14,
          11.07,
          5.32,
          8.8,
          3.9,
          0.73,
          0.46,
          0.56,
          1.54,
          12.64,
          16.06,
          21.54,
          18.79,
          11.11,
          12.5,
          10.17,
          2.03,
          0.65,
          0.63,
          0.95,
          2.76,
          4.47,
          23.75,
          24.91,
          22.05,
          6.89,
          9.83,
          9.8,
          6.01,
          1.46,
          0.67,
          1.04,
          2.15,
          4.1,
          8.55,
          10.7,
          14.58,
          11.84,
          6.85,
          4.37,
          1.99,
          0.73,
          0.45,
          0.45,
          1.23,
          12.76,
          12.66,
          16.37,
          27.6,
          15.7,
          13.17,
          6.53,
          1.98,
          1.22,
          0.79,
          0.32,
          1.28,
          5,
          22.68,
          21.56,
          20.25,
          15.29,
          4.85,
          5.05,
          3.05,
          0.56,
          0.36,
          0.63,
          2.78,
          10.89,
          21.31,
          24.06,
          32.37,
          24.66,
          17.58,
          11.99,
          2.52,
          1.51,
          1.13,
          1.53,
          7.5,
          11.14,
          16.38,
          25.57,
          30.88,
          19.25,
          17.94,
          10.48,
          1.44,
          0.93,
          0.44,
          0.27,
          5.98
         ],
         "yaxis": "y"
        },
        {
         "hovertemplate": "variable=土壤蒸发量(W/m2)<br>time=%{x}<br>value=%{y}<extra></extra>",
         "legendgroup": "土壤蒸发量(W/m2)",
         "line": {
          "color": "#EF553B",
          "dash": "solid"
         },
         "marker": {
          "symbol": "circle"
         },
         "mode": "lines",
         "name": "土壤蒸发量(W/m2)",
         "orientation": "v",
         "showlegend": true,
         "type": "scatter",
         "x": [
          "2012-01-01",
          "2012-02-01",
          "2012-03-01",
          "2012-04-01",
          "2012-05-01",
          "2012-06-01",
          "2012-07-01",
          "2012-08-01",
          "2012-09-01",
          "2012-10-01",
          "2012-11-01",
          "2012-12-01",
          "2013-01-01",
          "2013-02-01",
          "2013-03-01",
          "2013-04-01",
          "2013-05-01",
          "2013-06-01",
          "2013-07-01",
          "2013-08-01",
          "2013-09-01",
          "2013-10-01",
          "2013-11-01",
          "2013-12-01",
          "2014-01-01",
          "2014-02-01",
          "2014-03-01",
          "2014-04-01",
          "2014-05-01",
          "2014-06-01",
          "2014-07-01",
          "2014-08-01",
          "2014-09-01",
          "2014-10-01",
          "2014-11-01",
          "2014-12-01",
          "2015-01-01",
          "2015-02-01",
          "2015-03-01",
          "2015-04-01",
          "2015-05-01",
          "2015-06-01",
          "2015-07-01",
          "2015-08-01",
          "2015-09-01",
          "2015-10-01",
          "2015-11-01",
          "2015-12-01",
          "2016-01-01",
          "2016-02-01",
          "2016-03-01",
          "2016-04-01",
          "2016-05-01",
          "2016-06-01",
          "2016-07-01",
          "2016-08-01",
          "2016-09-01",
          "2016-10-01",
          "2016-11-01",
          "2016-12-01",
          "2017-01-01",
          "2017-02-01",
          "2017-03-01",
          "2017-04-01",
          "2017-05-01",
          "2017-06-01",
          "2017-07-01",
          "2017-08-01",
          "2017-09-01",
          "2017-10-01",
          "2017-11-01",
          "2017-12-01",
          "2018-01-01",
          "2018-02-01",
          "2018-03-01",
          "2018-04-01",
          "2018-05-01",
          "2018-06-01",
          "2018-07-01",
          "2018-08-01",
          "2018-09-01",
          "2018-10-01",
          "2018-11-01",
          "2018-12-01",
          "2019-01-01",
          "2019-02-01",
          "2019-03-01",
          "2019-04-01",
          "2019-05-01",
          "2019-06-01",
          "2019-07-01",
          "2019-08-01",
          "2019-09-01",
          "2019-10-01",
          "2019-11-01",
          "2019-12-01",
          "2020-01-01",
          "2020-02-01",
          "2020-03-01",
          "2020-04-01",
          "2020-05-01",
          "2020-06-01",
          "2020-07-01",
          "2020-08-01",
          "2020-09-01",
          "2020-10-01",
          "2020-11-01",
          "2020-12-01",
          "2021-01-01",
          "2021-02-01",
          "2021-03-01",
          "2021-04-01",
          "2021-05-01",
          "2021-06-01",
          "2021-07-01",
          "2021-08-01",
          "2021-09-01",
          "2021-10-01",
          "2021-11-01",
          "2021-12-01",
          "2022-01-01",
          "2022-02-01",
          "2022-03-01"
         ],
         "xaxis": "x",
         "y": [
          0.57,
          0.86,
          1.78,
          6.94,
          16.89,
          32.34,
          29.38,
          13.32,
          12.88,
          7.59,
          0.88,
          0.32,
          0.37,
          0.81,
          3.14,
          4.81,
          11.62,
          37.17,
          36.64,
          20.28,
          9.18,
          5.5,
          1.96,
          0.38,
          0.63,
          0.43,
          13.5,
          19.41,
          23.61,
          27.83,
          21.6,
          10.33,
          5.13,
          8.21,
          3.76,
          0.69,
          0.43,
          0.58,
          1.44,
          12.19,
          14.99,
          20.78,
          17.54,
          10.37,
          12.06,
          9.49,
          1.96,
          0.6,
          0.59,
          0.94,
          2.58,
          4.31,
          22.17,
          24.02,
          20.58,
          6.43,
          9.48,
          9.15,
          5.8,
          1.36,
          0.62,
          1.07,
          2.01,
          3.95,
          7.98,
          10.32,
          13.61,
          11.05,
          6.61,
          4.08,
          1.92,
          0.69,
          0.42,
          0.46,
          1.15,
          12.3,
          11.82,
          15.79,
          25.76,
          14.65,
          12.7,
          6.09,
          1.91,
          1.14,
          0.74,
          0.33,
          1.19,
          4.82,
          21.17,
          20.79,
          18.9,
          14.27,
          4.68,
          4.71,
          2.94,
          0.52,
          0.33,
          0.63,
          2.6,
          10.51,
          19.89,
          23.21,
          30.21,
          23.02,
          16.95,
          11.19,
          2.43,
          1.41,
          1.05,
          1.58,
          7,
          10.75,
          15.29,
          24.66,
          28.82,
          17.97,
          17.3,
          9.78,
          1.39,
          0.87,
          0.41,
          0.28,
          5.58
         ],
         "yaxis": "y"
        },
        {
         "hovertemplate": "variable=平均露点温度(℃)<br>time=%{x}<br>value=%{y}<extra></extra>",
         "legendgroup": "平均露点温度(℃)",
         "line": {
          "color": "#00cc96",
          "dash": "solid"
         },
         "marker": {
          "symbol": "circle"
         },
         "mode": "lines",
         "name": "平均露点温度(℃)",
         "orientation": "v",
         "showlegend": true,
         "type": "scatter",
         "x": [
          "2012-01-01",
          "2012-02-01",
          "2012-03-01",
          "2012-04-01",
          "2012-05-01",
          "2012-06-01",
          "2012-07-01",
          "2012-08-01",
          "2012-09-01",
          "2012-10-01",
          "2012-11-01",
          "2012-12-01",
          "2013-01-01",
          "2013-02-01",
          "2013-03-01",
          "2013-04-01",
          "2013-05-01",
          "2013-06-01",
          "2013-07-01",
          "2013-08-01",
          "2013-09-01",
          "2013-10-01",
          "2013-11-01",
          "2013-12-01",
          "2014-01-01",
          "2014-02-01",
          "2014-03-01",
          "2014-04-01",
          "2014-05-01",
          "2014-06-01",
          "2014-07-01",
          "2014-08-01",
          "2014-09-01",
          "2014-10-01",
          "2014-11-01",
          "2014-12-01",
          "2015-01-01",
          "2015-02-01",
          "2015-03-01",
          "2015-04-01",
          "2015-05-01",
          "2015-06-01",
          "2015-07-01",
          "2015-08-01",
          "2015-09-01",
          "2015-10-01",
          "2015-11-01",
          "2015-12-01",
          "2016-01-01",
          "2016-02-01",
          "2016-03-01",
          "2016-04-01",
          "2016-05-01",
          "2016-06-01",
          "2016-07-01",
          "2016-08-01",
          "2016-09-01",
          "2016-10-01",
          "2016-11-01",
          "2016-12-01",
          "2017-01-01",
          "2017-02-01",
          "2017-03-01",
          "2017-04-01",
          "2017-05-01",
          "2017-06-01",
          "2017-07-01",
          "2017-08-01",
          "2017-09-01",
          "2017-10-01",
          "2017-11-01",
          "2017-12-01",
          "2018-01-01",
          "2018-02-01",
          "2018-03-01",
          "2018-04-01",
          "2018-05-01",
          "2018-06-01",
          "2018-07-01",
          "2018-08-01",
          "2018-09-01",
          "2018-10-01",
          "2018-11-01",
          "2018-12-01",
          "2019-01-01",
          "2019-02-01",
          "2019-03-01",
          "2019-04-01",
          "2019-05-01",
          "2019-06-01",
          "2019-07-01",
          "2019-08-01",
          "2019-09-01",
          "2019-10-01",
          "2019-11-01",
          "2019-12-01",
          "2020-01-01",
          "2020-02-01",
          "2020-03-01",
          "2020-04-01",
          "2020-05-01",
          "2020-06-01",
          "2020-07-01",
          "2020-08-01",
          "2020-09-01",
          "2020-10-01",
          "2020-11-01",
          "2020-12-01",
          "2021-01-01",
          "2021-02-01",
          "2021-03-01",
          "2021-04-01",
          "2021-05-01",
          "2021-06-01",
          "2021-07-01",
          "2021-08-01",
          "2021-09-01",
          "2021-10-01",
          "2021-11-01",
          "2021-12-01",
          "2022-01-01",
          "2022-02-01",
          "2022-03-01"
         ],
         "xaxis": "x",
         "y": [
          -26.72,
          -22.43,
          -12.99,
          -9.5,
          -3.31,
          8.66,
          13.04,
          10.36,
          2.99,
          -5.42,
          -14.17,
          -24.75,
          -23.86,
          -21.69,
          -12.77,
          -9.63,
          -2.79,
          8.21,
          12.23,
          9.28,
          0.48,
          -5.58,
          -12.57,
          -19.62,
          -20.59,
          -20.02,
          -15.14,
          -8.48,
          -0.18,
          9.33,
          11.48,
          7.99,
          1.06,
          -4.53,
          -13.51,
          -20.87,
          -19.74,
          -17.27,
          -16.83,
          -7.78,
          -2.87,
          7.94,
          12.33,
          9.86,
          4.77,
          -5.29,
          -13.01,
          -17.39,
          -27.26,
          -19.73,
          -12.18,
          -9.51,
          -4.29,
          6.39,
          12.43,
          9.14,
          6.37,
          -4.46,
          -14.41,
          -17.87,
          -21.06,
          -17.89,
          -13.73,
          -8.48,
          -4.63,
          4.28,
          11.28,
          9.67,
          -0.12,
          -6.63,
          -15.96,
          -20.86,
          -24.66,
          -21.99,
          -14.4,
          -8.17,
          -2.06,
          4.96,
          14.08,
          12.63,
          3.04,
          -7.68,
          -13.47,
          -24.69,
          -22.87,
          -22.01,
          -14.68,
          -12.92,
          -5.57,
          6.66,
          11.14,
          10.63,
          2.17,
          -6.34,
          -13.85,
          -19.49,
          -21.13,
          -17.08,
          -11.69,
          -11.24,
          0.15,
          6.93,
          12.95,
          11.96,
          4.95,
          -8.98,
          -13.92,
          -23.92,
          -24.19,
          -17.65,
          -9.88,
          -7.77,
          -3.44,
          6.93,
          15.16,
          10.41,
          6.84,
          -6.91,
          -12.19,
          -18.37,
          -21.92,
          -22.32,
          -12.67
         ],
         "yaxis": "y"
        },
        {
         "hovertemplate": "variable=最低气温极值(℃)<br>time=%{x}<br>value=%{y}<extra></extra>",
         "legendgroup": "最低气温极值(℃)",
         "line": {
          "color": "#ab63fa",
          "dash": "solid"
         },
         "marker": {
          "symbol": "circle"
         },
         "mode": "lines",
         "name": "最低气温极值(℃)",
         "orientation": "v",
         "showlegend": true,
         "type": "scatter",
         "x": [
          "2012-01-01",
          "2012-02-01",
          "2012-03-01",
          "2012-04-01",
          "2012-05-01",
          "2012-06-01",
          "2012-07-01",
          "2012-08-01",
          "2012-09-01",
          "2012-10-01",
          "2012-11-01",
          "2012-12-01",
          "2013-01-01",
          "2013-02-01",
          "2013-03-01",
          "2013-04-01",
          "2013-05-01",
          "2013-06-01",
          "2013-07-01",
          "2013-08-01",
          "2013-09-01",
          "2013-10-01",
          "2013-11-01",
          "2013-12-01",
          "2014-01-01",
          "2014-02-01",
          "2014-03-01",
          "2014-04-01",
          "2014-05-01",
          "2014-06-01",
          "2014-07-01",
          "2014-08-01",
          "2014-09-01",
          "2014-10-01",
          "2014-11-01",
          "2014-12-01",
          "2015-01-01",
          "2015-02-01",
          "2015-03-01",
          "2015-04-01",
          "2015-05-01",
          "2015-06-01",
          "2015-07-01",
          "2015-08-01",
          "2015-09-01",
          "2015-10-01",
          "2015-11-01",
          "2015-12-01",
          "2016-01-01",
          "2016-02-01",
          "2016-03-01",
          "2016-04-01",
          "2016-05-01",
          "2016-06-01",
          "2016-07-01",
          "2016-08-01",
          "2016-09-01",
          "2016-10-01",
          "2016-11-01",
          "2016-12-01",
          "2017-01-01",
          "2017-02-01",
          "2017-03-01",
          "2017-04-01",
          "2017-05-01",
          "2017-06-01",
          "2017-07-01",
          "2017-08-01",
          "2017-09-01",
          "2017-10-01",
          "2017-11-01",
          "2017-12-01",
          "2018-01-01",
          "2018-02-01",
          "2018-03-01",
          "2018-04-01",
          "2018-05-01",
          "2018-06-01",
          "2018-07-01",
          "2018-08-01",
          "2018-09-01",
          "2018-10-01",
          "2018-11-01",
          "2018-12-01",
          "2019-01-01",
          "2019-02-01",
          "2019-03-01",
          "2019-04-01",
          "2019-05-01",
          "2019-06-01",
          "2019-07-01",
          "2019-08-01",
          "2019-09-01",
          "2019-10-01",
          "2019-11-01",
          "2019-12-01",
          "2020-01-01",
          "2020-02-01",
          "2020-03-01",
          "2020-04-01",
          "2020-05-01",
          "2020-06-01",
          "2020-07-01",
          "2020-08-01",
          "2020-09-01",
          "2020-10-01",
          "2020-11-01",
          "2020-12-01",
          "2021-01-01",
          "2021-02-01",
          "2021-03-01",
          "2021-04-01",
          "2021-05-01",
          "2021-06-01",
          "2021-07-01",
          "2021-08-01",
          "2021-09-01",
          "2021-10-01",
          "2021-11-01",
          "2021-12-01",
          "2022-01-01",
          "2022-02-01",
          "2022-03-01"
         ],
         "xaxis": "x",
         "y": [
          -35.61,
          -34.89,
          -27.28,
          -8.5,
          0.11,
          5.5,
          12,
          1.39,
          -1.39,
          -11.22,
          -28.28,
          -33.61,
          -33.11,
          -32.5,
          -21.72,
          -10.5,
          -3.78,
          3.61,
          11,
          3.89,
          -3,
          -9.5,
          -21.5,
          -27.72,
          -31,
          -27.11,
          -22.61,
          -9.61,
          -6.72,
          5.11,
          9.78,
          5.78,
          -3.89,
          -11.72,
          -20.28,
          -25.61,
          -27.39,
          -29.11,
          -22.28,
          -11.89,
          -5.28,
          5.78,
          6,
          9.22,
          0.11,
          -9,
          -28.22,
          -32.61,
          -38.39,
          -27.89,
          -21.61,
          -6.61,
          -1.72,
          3.28,
          9.89,
          6.72,
          -3,
          -16.28,
          -20.78,
          -28.89,
          -30.39,
          -27,
          -19.78,
          -7.28,
          -2.39,
          5.78,
          13.28,
          3.5,
          -4.5,
          -9.39,
          -23.61,
          -29.89,
          -33.89,
          -29.39,
          -23.89,
          -10.78,
          -1.72,
          8.39,
          14.28,
          8.89,
          0.39,
          -13.22,
          -17.89,
          -31.28,
          -26.28,
          -29.72,
          -15.11,
          -11.28,
          -2.39,
          6.78,
          9.22,
          7.28,
          -0.89,
          -12,
          -22.28,
          -29,
          -31.22,
          -33.72,
          -24.22,
          -9.11,
          -0.22,
          5.22,
          10.22,
          8.61,
          -1.72,
          -10.89,
          -23.89,
          -33.39,
          -37.78,
          -30.22,
          -24,
          -8.72,
          -3.78,
          5.78,
          12.72,
          8.28,
          -2.5,
          -9.89,
          -19.11,
          -31.39,
          -29.5,
          -33.28,
          -20.5
         ],
         "yaxis": "y"
        },
        {
         "hovertemplate": "variable=平均最低气温(℃)<br>time=%{x}<br>value=%{y}<extra></extra>",
         "legendgroup": "平均最低气温(℃)",
         "line": {
          "color": "#FFA15A",
          "dash": "solid"
         },
         "marker": {
          "symbol": "circle"
         },
         "mode": "lines",
         "name": "平均最低气温(℃)",
         "orientation": "v",
         "showlegend": true,
         "type": "scatter",
         "x": [
          "2012-01-01",
          "2012-02-01",
          "2012-03-01",
          "2012-04-01",
          "2012-05-01",
          "2012-06-01",
          "2012-07-01",
          "2012-08-01",
          "2012-09-01",
          "2012-10-01",
          "2012-11-01",
          "2012-12-01",
          "2013-01-01",
          "2013-02-01",
          "2013-03-01",
          "2013-04-01",
          "2013-05-01",
          "2013-06-01",
          "2013-07-01",
          "2013-08-01",
          "2013-09-01",
          "2013-10-01",
          "2013-11-01",
          "2013-12-01",
          "2014-01-01",
          "2014-02-01",
          "2014-03-01",
          "2014-04-01",
          "2014-05-01",
          "2014-06-01",
          "2014-07-01",
          "2014-08-01",
          "2014-09-01",
          "2014-10-01",
          "2014-11-01",
          "2014-12-01",
          "2015-01-01",
          "2015-02-01",
          "2015-03-01",
          "2015-04-01",
          "2015-05-01",
          "2015-06-01",
          "2015-07-01",
          "2015-08-01",
          "2015-09-01",
          "2015-10-01",
          "2015-11-01",
          "2015-12-01",
          "2016-01-01",
          "2016-02-01",
          "2016-03-01",
          "2016-04-01",
          "2016-05-01",
          "2016-06-01",
          "2016-07-01",
          "2016-08-01",
          "2016-09-01",
          "2016-10-01",
          "2016-11-01",
          "2016-12-01",
          "2017-01-01",
          "2017-02-01",
          "2017-03-01",
          "2017-04-01",
          "2017-05-01",
          "2017-06-01",
          "2017-07-01",
          "2017-08-01",
          "2017-09-01",
          "2017-10-01",
          "2017-11-01",
          "2017-12-01",
          "2018-01-01",
          "2018-02-01",
          "2018-03-01",
          "2018-04-01",
          "2018-05-01",
          "2018-06-01",
          "2018-07-01",
          "2018-08-01",
          "2018-09-01",
          "2018-10-01",
          "2018-11-01",
          "2018-12-01",
          "2019-01-01",
          "2019-02-01",
          "2019-03-01",
          "2019-04-01",
          "2019-05-01",
          "2019-06-01",
          "2019-07-01",
          "2019-08-01",
          "2019-09-01",
          "2019-10-01",
          "2019-11-01",
          "2019-12-01",
          "2020-01-01",
          "2020-02-01",
          "2020-03-01",
          "2020-04-01",
          "2020-05-01",
          "2020-06-01",
          "2020-07-01",
          "2020-08-01",
          "2020-09-01",
          "2020-10-01",
          "2020-11-01",
          "2020-12-01",
          "2021-01-01",
          "2021-02-01",
          "2021-03-01",
          "2021-04-01",
          "2021-05-01",
          "2021-06-01",
          "2021-07-01",
          "2021-08-01",
          "2021-09-01",
          "2021-10-01",
          "2021-11-01",
          "2021-12-01",
          "2022-01-01",
          "2022-02-01",
          "2022-03-01"
         ],
         "xaxis": "x",
         "y": [
          -29.35,
          -26.25,
          -14.78,
          -1.94,
          4.93,
          11.84,
          15.43,
          12.21,
          4.85,
          -3,
          -15.79,
          -26.77,
          -26.56,
          -24.29,
          -12.31,
          -5.26,
          6.54,
          11.97,
          14.4,
          12.19,
          4.37,
          -3.63,
          -11.76,
          -21,
          -21.23,
          -20.41,
          -11.33,
          -0.07,
          4.07,
          11.57,
          14.33,
          11.88,
          4.4,
          -1.72,
          -11.91,
          -20.86,
          -22.05,
          -18.87,
          -11.28,
          -1.68,
          3.83,
          10.39,
          14.87,
          11.93,
          6.18,
          -2.58,
          -13.42,
          -19.66,
          -29.33,
          -22.64,
          -9.65,
          -1.45,
          5.07,
          10.33,
          16.54,
          14.22,
          6.71,
          -3.92,
          -13.03,
          -20.32,
          -23.03,
          -18.68,
          -11.44,
          -2,
          6.16,
          11.88,
          17.02,
          13.01,
          5.69,
          -2.81,
          -15.18,
          -21.43,
          -25.83,
          -22.18,
          -9.03,
          -0.92,
          7.46,
          12.89,
          18.7,
          14.66,
          5.17,
          -4.83,
          -12.34,
          -21.94,
          -20.5,
          -22.03,
          -10.71,
          -2.03,
          5.09,
          11.91,
          15.19,
          12.36,
          7.68,
          -2.93,
          -12.69,
          -22.64,
          -24.89,
          -20.57,
          -9.16,
          -3.37,
          6.06,
          12.19,
          14.81,
          13.75,
          5.73,
          -4.69,
          -14.51,
          -26.01,
          -27.67,
          -20.91,
          -9.28,
          -1.81,
          3.73,
          11.09,
          16.41,
          11.24,
          7.08,
          -3.61,
          -12.83,
          -20.26,
          -25.18,
          -25.89,
          -11.22
         ],
         "yaxis": "y"
        },
        {
         "hovertemplate": "variable=10cm湿度(kg/m2)<br>time=%{x}<br>value=%{y}<extra></extra>",
         "legendgroup": "10cm湿度(kg/m2)",
         "line": {
          "color": "#19d3f3",
          "dash": "solid"
         },
         "marker": {
          "symbol": "circle"
         },
         "mode": "lines",
         "name": "10cm湿度(kg/m2)",
         "orientation": "v",
         "showlegend": true,
         "type": "scatter",
         "x": [
          "2012-01-01",
          "2012-02-01",
          "2012-03-01",
          "2012-04-01",
          "2012-05-01",
          "2012-06-01",
          "2012-07-01",
          "2012-08-01",
          "2012-09-01",
          "2012-10-01",
          "2012-11-01",
          "2012-12-01",
          "2013-01-01",
          "2013-02-01",
          "2013-03-01",
          "2013-04-01",
          "2013-05-01",
          "2013-06-01",
          "2013-07-01",
          "2013-08-01",
          "2013-09-01",
          "2013-10-01",
          "2013-11-01",
          "2013-12-01",
          "2014-01-01",
          "2014-02-01",
          "2014-03-01",
          "2014-04-01",
          "2014-05-01",
          "2014-06-01",
          "2014-07-01",
          "2014-08-01",
          "2014-09-01",
          "2014-10-01",
          "2014-11-01",
          "2014-12-01",
          "2015-01-01",
          "2015-02-01",
          "2015-03-01",
          "2015-04-01",
          "2015-05-01",
          "2015-06-01",
          "2015-07-01",
          "2015-08-01",
          "2015-09-01",
          "2015-10-01",
          "2015-11-01",
          "2015-12-01",
          "2016-01-01",
          "2016-02-01",
          "2016-03-01",
          "2016-04-01",
          "2016-05-01",
          "2016-06-01",
          "2016-07-01",
          "2016-08-01",
          "2016-09-01",
          "2016-10-01",
          "2016-11-01",
          "2016-12-01",
          "2017-01-01",
          "2017-02-01",
          "2017-03-01",
          "2017-04-01",
          "2017-05-01",
          "2017-06-01",
          "2017-07-01",
          "2017-08-01",
          "2017-09-01",
          "2017-10-01",
          "2017-11-01",
          "2017-12-01",
          "2018-01-01",
          "2018-02-01",
          "2018-03-01",
          "2018-04-01",
          "2018-05-01",
          "2018-06-01",
          "2018-07-01",
          "2018-08-01",
          "2018-09-01",
          "2018-10-01",
          "2018-11-01",
          "2018-12-01",
          "2019-01-01",
          "2019-02-01",
          "2019-03-01",
          "2019-04-01",
          "2019-05-01",
          "2019-06-01",
          "2019-07-01",
          "2019-08-01",
          "2019-09-01",
          "2019-10-01",
          "2019-11-01",
          "2019-12-01",
          "2020-01-01",
          "2020-02-01",
          "2020-03-01",
          "2020-04-01",
          "2020-05-01",
          "2020-06-01",
          "2020-07-01",
          "2020-08-01",
          "2020-09-01",
          "2020-10-01",
          "2020-11-01",
          "2020-12-01",
          "2021-01-01",
          "2021-02-01",
          "2021-03-01",
          "2021-04-01",
          "2021-05-01",
          "2021-06-01",
          "2021-07-01",
          "2021-08-01",
          "2021-09-01",
          "2021-10-01",
          "2021-11-01",
          "2021-12-01",
          "2022-01-01",
          "2022-02-01",
          "2022-03-01"
         ],
         "xaxis": "x",
         "y": [
          13.73,
          13,
          12.6,
          11.97,
          14.18,
          19.28,
          19.64,
          15.76,
          17.12,
          15.04,
          14.79,
          14.42,
          14.09,
          13.55,
          12.85,
          11.82,
          12.73,
          19.25,
          20.34,
          17.61,
          14.49,
          13.56,
          11.92,
          10.98,
          10.55,
          9.97,
          13.96,
          15.5,
          16.73,
          18.29,
          16.7,
          14.85,
          12.84,
          14.98,
          13.72,
          11.73,
          11.17,
          10.77,
          9.93,
          15.31,
          14.55,
          16.82,
          17.13,
          15.47,
          17.31,
          15.55,
          14.55,
          14.73,
          14.11,
          13.34,
          12.26,
          11.05,
          15.43,
          17,
          17.33,
          12.85,
          16.22,
          17.79,
          16.33,
          13.25,
          12.48,
          11.71,
          11.1,
          11.06,
          11.81,
          13.29,
          15.33,
          16.83,
          14.24,
          13.52,
          12.13,
          11.21,
          10.69,
          10.26,
          9.75,
          14.55,
          13.94,
          15.68,
          19.66,
          19.01,
          18.27,
          14.81,
          12.47,
          11.08,
          10.27,
          9.64,
          10.02,
          11.22,
          15.88,
          16.75,
          17.25,
          17.39,
          12.68,
          13.99,
          13.89,
          12.59,
          12.21,
          11.86,
          11.95,
          13.73,
          16.51,
          17.01,
          21.31,
          20.79,
          20.04,
          16.59,
          15.04,
          16.51,
          15.17,
          13.93,
          14.37,
          14.18,
          14.77,
          17.66,
          22.1,
          20.36,
          21.01,
          16.93,
          13.91,
          13.14,
          12.45,
          12.1,
          14.96
         ],
         "yaxis": "y"
        }
       ],
       "layout": {
        "legend": {
         "title": {
          "text": "变量"
         },
         "tracegroupgap": 0
        },
        "margin": {
         "t": 60
        },
        "template": {
         "data": {
          "bar": [
           {
            "error_x": {
             "color": "#2a3f5f"
            },
            "error_y": {
             "color": "#2a3f5f"
            },
            "marker": {
             "line": {
              "color": "#E5ECF6",
              "width": 0.5
             },
             "pattern": {
              "fillmode": "overlay",
              "size": 10,
              "solidity": 0.2
             }
            },
            "type": "bar"
           }
          ],
          "barpolar": [
           {
            "marker": {
             "line": {
              "color": "#E5ECF6",
              "width": 0.5
             },
             "pattern": {
              "fillmode": "overlay",
              "size": 10,
              "solidity": 0.2
             }
            },
            "type": "barpolar"
           }
          ],
          "carpet": [
           {
            "aaxis": {
             "endlinecolor": "#2a3f5f",
             "gridcolor": "white",
             "linecolor": "white",
             "minorgridcolor": "white",
             "startlinecolor": "#2a3f5f"
            },
            "baxis": {
             "endlinecolor": "#2a3f5f",
             "gridcolor": "white",
             "linecolor": "white",
             "minorgridcolor": "white",
             "startlinecolor": "#2a3f5f"
            },
            "type": "carpet"
           }
          ],
          "choropleth": [
           {
            "colorbar": {
             "outlinewidth": 0,
             "ticks": ""
            },
            "type": "choropleth"
           }
          ],
          "contour": [
           {
            "colorbar": {
             "outlinewidth": 0,
             "ticks": ""
            },
            "colorscale": [
             [
              0,
              "#0d0887"
             ],
             [
              0.1111111111111111,
              "#46039f"
             ],
             [
              0.2222222222222222,
              "#7201a8"
             ],
             [
              0.3333333333333333,
              "#9c179e"
             ],
             [
              0.4444444444444444,
              "#bd3786"
             ],
             [
              0.5555555555555556,
              "#d8576b"
             ],
             [
              0.6666666666666666,
              "#ed7953"
             ],
             [
              0.7777777777777778,
              "#fb9f3a"
             ],
             [
              0.8888888888888888,
              "#fdca26"
             ],
             [
              1,
              "#f0f921"
             ]
            ],
            "type": "contour"
           }
          ],
          "contourcarpet": [
           {
            "colorbar": {
             "outlinewidth": 0,
             "ticks": ""
            },
            "type": "contourcarpet"
           }
          ],
          "heatmap": [
           {
            "colorbar": {
             "outlinewidth": 0,
             "ticks": ""
            },
            "colorscale": [
             [
              0,
              "#0d0887"
             ],
             [
              0.1111111111111111,
              "#46039f"
             ],
             [
              0.2222222222222222,
              "#7201a8"
             ],
             [
              0.3333333333333333,
              "#9c179e"
             ],
             [
              0.4444444444444444,
              "#bd3786"
             ],
             [
              0.5555555555555556,
              "#d8576b"
             ],
             [
              0.6666666666666666,
              "#ed7953"
             ],
             [
              0.7777777777777778,
              "#fb9f3a"
             ],
             [
              0.8888888888888888,
              "#fdca26"
             ],
             [
              1,
              "#f0f921"
             ]
            ],
            "type": "heatmap"
           }
          ],
          "heatmapgl": [
           {
            "colorbar": {
             "outlinewidth": 0,
             "ticks": ""
            },
            "colorscale": [
             [
              0,
              "#0d0887"
             ],
             [
              0.1111111111111111,
              "#46039f"
             ],
             [
              0.2222222222222222,
              "#7201a8"
             ],
             [
              0.3333333333333333,
              "#9c179e"
             ],
             [
              0.4444444444444444,
              "#bd3786"
             ],
             [
              0.5555555555555556,
              "#d8576b"
             ],
             [
              0.6666666666666666,
              "#ed7953"
             ],
             [
              0.7777777777777778,
              "#fb9f3a"
             ],
             [
              0.8888888888888888,
              "#fdca26"
             ],
             [
              1,
              "#f0f921"
             ]
            ],
            "type": "heatmapgl"
           }
          ],
          "histogram": [
           {
            "marker": {
             "pattern": {
              "fillmode": "overlay",
              "size": 10,
              "solidity": 0.2
             }
            },
            "type": "histogram"
           }
          ],
          "histogram2d": [
           {
            "colorbar": {
             "outlinewidth": 0,
             "ticks": ""
            },
            "colorscale": [
             [
              0,
              "#0d0887"
             ],
             [
              0.1111111111111111,
              "#46039f"
             ],
             [
              0.2222222222222222,
              "#7201a8"
             ],
             [
              0.3333333333333333,
              "#9c179e"
             ],
             [
              0.4444444444444444,
              "#bd3786"
             ],
             [
              0.5555555555555556,
              "#d8576b"
             ],
             [
              0.6666666666666666,
              "#ed7953"
             ],
             [
              0.7777777777777778,
              "#fb9f3a"
             ],
             [
              0.8888888888888888,
              "#fdca26"
             ],
             [
              1,
              "#f0f921"
             ]
            ],
            "type": "histogram2d"
           }
          ],
          "histogram2dcontour": [
           {
            "colorbar": {
             "outlinewidth": 0,
             "ticks": ""
            },
            "colorscale": [
             [
              0,
              "#0d0887"
             ],
             [
              0.1111111111111111,
              "#46039f"
             ],
             [
              0.2222222222222222,
              "#7201a8"
             ],
             [
              0.3333333333333333,
              "#9c179e"
             ],
             [
              0.4444444444444444,
              "#bd3786"
             ],
             [
              0.5555555555555556,
              "#d8576b"
             ],
             [
              0.6666666666666666,
              "#ed7953"
             ],
             [
              0.7777777777777778,
              "#fb9f3a"
             ],
             [
              0.8888888888888888,
              "#fdca26"
             ],
             [
              1,
              "#f0f921"
             ]
            ],
            "type": "histogram2dcontour"
           }
          ],
          "mesh3d": [
           {
            "colorbar": {
             "outlinewidth": 0,
             "ticks": ""
            },
            "type": "mesh3d"
           }
          ],
          "parcoords": [
           {
            "line": {
             "colorbar": {
              "outlinewidth": 0,
              "ticks": ""
             }
            },
            "type": "parcoords"
           }
          ],
          "pie": [
           {
            "automargin": true,
            "type": "pie"
           }
          ],
          "scatter": [
           {
            "fillpattern": {
             "fillmode": "overlay",
             "size": 10,
             "solidity": 0.2
            },
            "type": "scatter"
           }
          ],
          "scatter3d": [
           {
            "line": {
             "colorbar": {
              "outlinewidth": 0,
              "ticks": ""
             }
            },
            "marker": {
             "colorbar": {
              "outlinewidth": 0,
              "ticks": ""
             }
            },
            "type": "scatter3d"
           }
          ],
          "scattercarpet": [
           {
            "marker": {
             "colorbar": {
              "outlinewidth": 0,
              "ticks": ""
             }
            },
            "type": "scattercarpet"
           }
          ],
          "scattergeo": [
           {
            "marker": {
             "colorbar": {
              "outlinewidth": 0,
              "ticks": ""
             }
            },
            "type": "scattergeo"
           }
          ],
          "scattergl": [
           {
            "marker": {
             "colorbar": {
              "outlinewidth": 0,
              "ticks": ""
             }
            },
            "type": "scattergl"
           }
          ],
          "scattermapbox": [
           {
            "marker": {
             "colorbar": {
              "outlinewidth": 0,
              "ticks": ""
             }
            },
            "type": "scattermapbox"
           }
          ],
          "scatterpolar": [
           {
            "marker": {
             "colorbar": {
              "outlinewidth": 0,
              "ticks": ""
             }
            },
            "type": "scatterpolar"
           }
          ],
          "scatterpolargl": [
           {
            "marker": {
             "colorbar": {
              "outlinewidth": 0,
              "ticks": ""
             }
            },
            "type": "scatterpolargl"
           }
          ],
          "scatterternary": [
           {
            "marker": {
             "colorbar": {
              "outlinewidth": 0,
              "ticks": ""
             }
            },
            "type": "scatterternary"
           }
          ],
          "surface": [
           {
            "colorbar": {
             "outlinewidth": 0,
             "ticks": ""
            },
            "colorscale": [
             [
              0,
              "#0d0887"
             ],
             [
              0.1111111111111111,
              "#46039f"
             ],
             [
              0.2222222222222222,
              "#7201a8"
             ],
             [
              0.3333333333333333,
              "#9c179e"
             ],
             [
              0.4444444444444444,
              "#bd3786"
             ],
             [
              0.5555555555555556,
              "#d8576b"
             ],
             [
              0.6666666666666666,
              "#ed7953"
             ],
             [
              0.7777777777777778,
              "#fb9f3a"
             ],
             [
              0.8888888888888888,
              "#fdca26"
             ],
             [
              1,
              "#f0f921"
             ]
            ],
            "type": "surface"
           }
          ],
          "table": [
           {
            "cells": {
             "fill": {
              "color": "#EBF0F8"
             },
             "line": {
              "color": "white"
             }
            },
            "header": {
             "fill": {
              "color": "#C8D4E3"
             },
             "line": {
              "color": "white"
             }
            },
            "type": "table"
           }
          ]
         },
         "layout": {
          "annotationdefaults": {
           "arrowcolor": "#2a3f5f",
           "arrowhead": 0,
           "arrowwidth": 1
          },
          "autotypenumbers": "strict",
          "coloraxis": {
           "colorbar": {
            "outlinewidth": 0,
            "ticks": ""
           }
          },
          "colorscale": {
           "diverging": [
            [
             0,
             "#8e0152"
            ],
            [
             0.1,
             "#c51b7d"
            ],
            [
             0.2,
             "#de77ae"
            ],
            [
             0.3,
             "#f1b6da"
            ],
            [
             0.4,
             "#fde0ef"
            ],
            [
             0.5,
             "#f7f7f7"
            ],
            [
             0.6,
             "#e6f5d0"
            ],
            [
             0.7,
             "#b8e186"
            ],
            [
             0.8,
             "#7fbc41"
            ],
            [
             0.9,
             "#4d9221"
            ],
            [
             1,
             "#276419"
            ]
           ],
           "sequential": [
            [
             0,
             "#0d0887"
            ],
            [
             0.1111111111111111,
             "#46039f"
            ],
            [
             0.2222222222222222,
             "#7201a8"
            ],
            [
             0.3333333333333333,
             "#9c179e"
            ],
            [
             0.4444444444444444,
             "#bd3786"
            ],
            [
             0.5555555555555556,
             "#d8576b"
            ],
            [
             0.6666666666666666,
             "#ed7953"
            ],
            [
             0.7777777777777778,
             "#fb9f3a"
            ],
            [
             0.8888888888888888,
             "#fdca26"
            ],
            [
             1,
             "#f0f921"
            ]
           ],
           "sequentialminus": [
            [
             0,
             "#0d0887"
            ],
            [
             0.1111111111111111,
             "#46039f"
            ],
            [
             0.2222222222222222,
             "#7201a8"
            ],
            [
             0.3333333333333333,
             "#9c179e"
            ],
            [
             0.4444444444444444,
             "#bd3786"
            ],
            [
             0.5555555555555556,
             "#d8576b"
            ],
            [
             0.6666666666666666,
             "#ed7953"
            ],
            [
             0.7777777777777778,
             "#fb9f3a"
            ],
            [
             0.8888888888888888,
             "#fdca26"
            ],
            [
             1,
             "#f0f921"
            ]
           ]
          },
          "colorway": [
           "#636efa",
           "#EF553B",
           "#00cc96",
           "#ab63fa",
           "#FFA15A",
           "#19d3f3",
           "#FF6692",
           "#B6E880",
           "#FF97FF",
           "#FECB52"
          ],
          "font": {
           "color": "#2a3f5f"
          },
          "geo": {
           "bgcolor": "white",
           "lakecolor": "white",
           "landcolor": "#E5ECF6",
           "showlakes": true,
           "showland": true,
           "subunitcolor": "white"
          },
          "hoverlabel": {
           "align": "left"
          },
          "hovermode": "closest",
          "mapbox": {
           "style": "light"
          },
          "paper_bgcolor": "white",
          "plot_bgcolor": "#E5ECF6",
          "polar": {
           "angularaxis": {
            "gridcolor": "white",
            "linecolor": "white",
            "ticks": ""
           },
           "bgcolor": "#E5ECF6",
           "radialaxis": {
            "gridcolor": "white",
            "linecolor": "white",
            "ticks": ""
           }
          },
          "scene": {
           "xaxis": {
            "backgroundcolor": "#E5ECF6",
            "gridcolor": "white",
            "gridwidth": 2,
            "linecolor": "white",
            "showbackground": true,
            "ticks": "",
            "zerolinecolor": "white"
           },
           "yaxis": {
            "backgroundcolor": "#E5ECF6",
            "gridcolor": "white",
            "gridwidth": 2,
            "linecolor": "white",
            "showbackground": true,
            "ticks": "",
            "zerolinecolor": "white"
           },
           "zaxis": {
            "backgroundcolor": "#E5ECF6",
            "gridcolor": "white",
            "gridwidth": 2,
            "linecolor": "white",
            "showbackground": true,
            "ticks": "",
            "zerolinecolor": "white"
           }
          },
          "shapedefaults": {
           "line": {
            "color": "#2a3f5f"
           }
          },
          "ternary": {
           "aaxis": {
            "gridcolor": "white",
            "linecolor": "white",
            "ticks": ""
           },
           "baxis": {
            "gridcolor": "white",
            "linecolor": "white",
            "ticks": ""
           },
           "bgcolor": "#E5ECF6",
           "caxis": {
            "gridcolor": "white",
            "linecolor": "white",
            "ticks": ""
           }
          },
          "title": {
           "x": 0.05
          },
          "xaxis": {
           "automargin": true,
           "gridcolor": "white",
           "linecolor": "white",
           "ticks": "",
           "title": {
            "standoff": 15
           },
           "zerolinecolor": "white",
           "zerolinewidth": 2
          },
          "yaxis": {
           "automargin": true,
           "gridcolor": "white",
           "linecolor": "white",
           "ticks": "",
           "title": {
            "standoff": 15
           },
           "zerolinecolor": "white",
           "zerolinewidth": 2
          }
         }
        },
        "title": {
         "text": "相关性最高的5个自变量和10cm湿度的变化趋势图"
        },
        "xaxis": {
         "anchor": "y",
         "domain": [
          0,
          1
         ],
         "title": {
          "text": "时间"
         }
        },
        "yaxis": {
         "anchor": "x",
         "domain": [
          0,
          1
         ],
         "title": {
          "text": "取值"
         }
        }
       }
      },
      "text/html": [
       "<div>                            <div id=\"ad33ae9e-aa56-4ac0-830e-889c84c3142b\" class=\"plotly-graph-div\" style=\"height:525px; width:100%;\"></div>            <script type=\"text/javascript\">                require([\"plotly\"], function(Plotly) {                    window.PLOTLYENV=window.PLOTLYENV || {};                                    if (document.getElementById(\"ad33ae9e-aa56-4ac0-830e-889c84c3142b\")) {                    Plotly.newPlot(                        \"ad33ae9e-aa56-4ac0-830e-889c84c3142b\",                        [{\"hovertemplate\":\"variable=\\u571f\\u58e4\\u84b8\\u53d1\\u91cf(mm)<br>time=%{x}<br>value=%{y}<extra></extra>\",\"legendgroup\":\"\\u571f\\u58e4\\u84b8\\u53d1\\u91cf(mm)\",\"line\":{\"color\":\"#636efa\",\"dash\":\"solid\"},\"marker\":{\"symbol\":\"circle\"},\"mode\":\"lines\",\"name\":\"\\u571f\\u58e4\\u84b8\\u53d1\\u91cf(mm)\",\"orientation\":\"v\",\"showlegend\":true,\"x\":[\"2012-01-01\",\"2012-02-01\",\"2012-03-01\",\"2012-04-01\",\"2012-05-01\",\"2012-06-01\",\"2012-07-01\",\"2012-08-01\",\"2012-09-01\",\"2012-10-01\",\"2012-11-01\",\"2012-12-01\",\"2013-01-01\",\"2013-02-01\",\"2013-03-01\",\"2013-04-01\",\"2013-05-01\",\"2013-06-01\",\"2013-07-01\",\"2013-08-01\",\"2013-09-01\",\"2013-10-01\",\"2013-11-01\",\"2013-12-01\",\"2014-01-01\",\"2014-02-01\",\"2014-03-01\",\"2014-04-01\",\"2014-05-01\",\"2014-06-01\",\"2014-07-01\",\"2014-08-01\",\"2014-09-01\",\"2014-10-01\",\"2014-11-01\",\"2014-12-01\",\"2015-01-01\",\"2015-02-01\",\"2015-03-01\",\"2015-04-01\",\"2015-05-01\",\"2015-06-01\",\"2015-07-01\",\"2015-08-01\",\"2015-09-01\",\"2015-10-01\",\"2015-11-01\",\"2015-12-01\",\"2016-01-01\",\"2016-02-01\",\"2016-03-01\",\"2016-04-01\",\"2016-05-01\",\"2016-06-01\",\"2016-07-01\",\"2016-08-01\",\"2016-09-01\",\"2016-10-01\",\"2016-11-01\",\"2016-12-01\",\"2017-01-01\",\"2017-02-01\",\"2017-03-01\",\"2017-04-01\",\"2017-05-01\",\"2017-06-01\",\"2017-07-01\",\"2017-08-01\",\"2017-09-01\",\"2017-10-01\",\"2017-11-01\",\"2017-12-01\",\"2018-01-01\",\"2018-02-01\",\"2018-03-01\",\"2018-04-01\",\"2018-05-01\",\"2018-06-01\",\"2018-07-01\",\"2018-08-01\",\"2018-09-01\",\"2018-10-01\",\"2018-11-01\",\"2018-12-01\",\"2019-01-01\",\"2019-02-01\",\"2019-03-01\",\"2019-04-01\",\"2019-05-01\",\"2019-06-01\",\"2019-07-01\",\"2019-08-01\",\"2019-09-01\",\"2019-10-01\",\"2019-11-01\",\"2019-12-01\",\"2020-01-01\",\"2020-02-01\",\"2020-03-01\",\"2020-04-01\",\"2020-05-01\",\"2020-06-01\",\"2020-07-01\",\"2020-08-01\",\"2020-09-01\",\"2020-10-01\",\"2020-11-01\",\"2020-12-01\",\"2021-01-01\",\"2021-02-01\",\"2021-03-01\",\"2021-04-01\",\"2021-05-01\",\"2021-06-01\",\"2021-07-01\",\"2021-08-01\",\"2021-09-01\",\"2021-10-01\",\"2021-11-01\",\"2021-12-01\",\"2022-01-01\",\"2022-02-01\",\"2022-03-01\"],\"xaxis\":\"x\",\"y\":[0.61,0.86,1.91,7.2,18.1,33.53,31.48,14.27,13.36,8.13,0.92,0.34,0.4,0.78,3.37,4.99,12.45,38.54,39.26,21.73,9.51,5.9,2.03,0.4,0.67,0.42,14.46,20.12,25.29,28.85,23.14,11.07,5.32,8.8,3.9,0.73,0.46,0.56,1.54,12.64,16.06,21.54,18.79,11.11,12.5,10.17,2.03,0.65,0.63,0.95,2.76,4.47,23.75,24.91,22.05,6.89,9.83,9.8,6.01,1.46,0.67,1.04,2.15,4.1,8.55,10.7,14.58,11.84,6.85,4.37,1.99,0.73,0.45,0.45,1.23,12.76,12.66,16.37,27.6,15.7,13.17,6.53,1.98,1.22,0.79,0.32,1.28,5.0,22.68,21.56,20.25,15.29,4.85,5.05,3.05,0.56,0.36,0.63,2.78,10.89,21.31,24.06,32.37,24.66,17.58,11.99,2.52,1.51,1.13,1.53,7.5,11.14,16.38,25.57,30.88,19.25,17.94,10.48,1.44,0.93,0.44,0.27,5.98],\"yaxis\":\"y\",\"type\":\"scatter\"},{\"hovertemplate\":\"variable=\\u571f\\u58e4\\u84b8\\u53d1\\u91cf(W/m2)<br>time=%{x}<br>value=%{y}<extra></extra>\",\"legendgroup\":\"\\u571f\\u58e4\\u84b8\\u53d1\\u91cf(W/m2)\",\"line\":{\"color\":\"#EF553B\",\"dash\":\"solid\"},\"marker\":{\"symbol\":\"circle\"},\"mode\":\"lines\",\"name\":\"\\u571f\\u58e4\\u84b8\\u53d1\\u91cf(W/m2)\",\"orientation\":\"v\",\"showlegend\":true,\"x\":[\"2012-01-01\",\"2012-02-01\",\"2012-03-01\",\"2012-04-01\",\"2012-05-01\",\"2012-06-01\",\"2012-07-01\",\"2012-08-01\",\"2012-09-01\",\"2012-10-01\",\"2012-11-01\",\"2012-12-01\",\"2013-01-01\",\"2013-02-01\",\"2013-03-01\",\"2013-04-01\",\"2013-05-01\",\"2013-06-01\",\"2013-07-01\",\"2013-08-01\",\"2013-09-01\",\"2013-10-01\",\"2013-11-01\",\"2013-12-01\",\"2014-01-01\",\"2014-02-01\",\"2014-03-01\",\"2014-04-01\",\"2014-05-01\",\"2014-06-01\",\"2014-07-01\",\"2014-08-01\",\"2014-09-01\",\"2014-10-01\",\"2014-11-01\",\"2014-12-01\",\"2015-01-01\",\"2015-02-01\",\"2015-03-01\",\"2015-04-01\",\"2015-05-01\",\"2015-06-01\",\"2015-07-01\",\"2015-08-01\",\"2015-09-01\",\"2015-10-01\",\"2015-11-01\",\"2015-12-01\",\"2016-01-01\",\"2016-02-01\",\"2016-03-01\",\"2016-04-01\",\"2016-05-01\",\"2016-06-01\",\"2016-07-01\",\"2016-08-01\",\"2016-09-01\",\"2016-10-01\",\"2016-11-01\",\"2016-12-01\",\"2017-01-01\",\"2017-02-01\",\"2017-03-01\",\"2017-04-01\",\"2017-05-01\",\"2017-06-01\",\"2017-07-01\",\"2017-08-01\",\"2017-09-01\",\"2017-10-01\",\"2017-11-01\",\"2017-12-01\",\"2018-01-01\",\"2018-02-01\",\"2018-03-01\",\"2018-04-01\",\"2018-05-01\",\"2018-06-01\",\"2018-07-01\",\"2018-08-01\",\"2018-09-01\",\"2018-10-01\",\"2018-11-01\",\"2018-12-01\",\"2019-01-01\",\"2019-02-01\",\"2019-03-01\",\"2019-04-01\",\"2019-05-01\",\"2019-06-01\",\"2019-07-01\",\"2019-08-01\",\"2019-09-01\",\"2019-10-01\",\"2019-11-01\",\"2019-12-01\",\"2020-01-01\",\"2020-02-01\",\"2020-03-01\",\"2020-04-01\",\"2020-05-01\",\"2020-06-01\",\"2020-07-01\",\"2020-08-01\",\"2020-09-01\",\"2020-10-01\",\"2020-11-01\",\"2020-12-01\",\"2021-01-01\",\"2021-02-01\",\"2021-03-01\",\"2021-04-01\",\"2021-05-01\",\"2021-06-01\",\"2021-07-01\",\"2021-08-01\",\"2021-09-01\",\"2021-10-01\",\"2021-11-01\",\"2021-12-01\",\"2022-01-01\",\"2022-02-01\",\"2022-03-01\"],\"xaxis\":\"x\",\"y\":[0.57,0.86,1.78,6.94,16.89,32.34,29.38,13.32,12.88,7.59,0.88,0.32,0.37,0.81,3.14,4.81,11.62,37.17,36.64,20.28,9.18,5.5,1.96,0.38,0.63,0.43,13.5,19.41,23.61,27.83,21.6,10.33,5.13,8.21,3.76,0.69,0.43,0.58,1.44,12.19,14.99,20.78,17.54,10.37,12.06,9.49,1.96,0.6,0.59,0.94,2.58,4.31,22.17,24.02,20.58,6.43,9.48,9.15,5.8,1.36,0.62,1.07,2.01,3.95,7.98,10.32,13.61,11.05,6.61,4.08,1.92,0.69,0.42,0.46,1.15,12.3,11.82,15.79,25.76,14.65,12.7,6.09,1.91,1.14,0.74,0.33,1.19,4.82,21.17,20.79,18.9,14.27,4.68,4.71,2.94,0.52,0.33,0.63,2.6,10.51,19.89,23.21,30.21,23.02,16.95,11.19,2.43,1.41,1.05,1.58,7.0,10.75,15.29,24.66,28.82,17.97,17.3,9.78,1.39,0.87,0.41,0.28,5.58],\"yaxis\":\"y\",\"type\":\"scatter\"},{\"hovertemplate\":\"variable=\\u5e73\\u5747\\u9732\\u70b9\\u6e29\\u5ea6(\\u2103)<br>time=%{x}<br>value=%{y}<extra></extra>\",\"legendgroup\":\"\\u5e73\\u5747\\u9732\\u70b9\\u6e29\\u5ea6(\\u2103)\",\"line\":{\"color\":\"#00cc96\",\"dash\":\"solid\"},\"marker\":{\"symbol\":\"circle\"},\"mode\":\"lines\",\"name\":\"\\u5e73\\u5747\\u9732\\u70b9\\u6e29\\u5ea6(\\u2103)\",\"orientation\":\"v\",\"showlegend\":true,\"x\":[\"2012-01-01\",\"2012-02-01\",\"2012-03-01\",\"2012-04-01\",\"2012-05-01\",\"2012-06-01\",\"2012-07-01\",\"2012-08-01\",\"2012-09-01\",\"2012-10-01\",\"2012-11-01\",\"2012-12-01\",\"2013-01-01\",\"2013-02-01\",\"2013-03-01\",\"2013-04-01\",\"2013-05-01\",\"2013-06-01\",\"2013-07-01\",\"2013-08-01\",\"2013-09-01\",\"2013-10-01\",\"2013-11-01\",\"2013-12-01\",\"2014-01-01\",\"2014-02-01\",\"2014-03-01\",\"2014-04-01\",\"2014-05-01\",\"2014-06-01\",\"2014-07-01\",\"2014-08-01\",\"2014-09-01\",\"2014-10-01\",\"2014-11-01\",\"2014-12-01\",\"2015-01-01\",\"2015-02-01\",\"2015-03-01\",\"2015-04-01\",\"2015-05-01\",\"2015-06-01\",\"2015-07-01\",\"2015-08-01\",\"2015-09-01\",\"2015-10-01\",\"2015-11-01\",\"2015-12-01\",\"2016-01-01\",\"2016-02-01\",\"2016-03-01\",\"2016-04-01\",\"2016-05-01\",\"2016-06-01\",\"2016-07-01\",\"2016-08-01\",\"2016-09-01\",\"2016-10-01\",\"2016-11-01\",\"2016-12-01\",\"2017-01-01\",\"2017-02-01\",\"2017-03-01\",\"2017-04-01\",\"2017-05-01\",\"2017-06-01\",\"2017-07-01\",\"2017-08-01\",\"2017-09-01\",\"2017-10-01\",\"2017-11-01\",\"2017-12-01\",\"2018-01-01\",\"2018-02-01\",\"2018-03-01\",\"2018-04-01\",\"2018-05-01\",\"2018-06-01\",\"2018-07-01\",\"2018-08-01\",\"2018-09-01\",\"2018-10-01\",\"2018-11-01\",\"2018-12-01\",\"2019-01-01\",\"2019-02-01\",\"2019-03-01\",\"2019-04-01\",\"2019-05-01\",\"2019-06-01\",\"2019-07-01\",\"2019-08-01\",\"2019-09-01\",\"2019-10-01\",\"2019-11-01\",\"2019-12-01\",\"2020-01-01\",\"2020-02-01\",\"2020-03-01\",\"2020-04-01\",\"2020-05-01\",\"2020-06-01\",\"2020-07-01\",\"2020-08-01\",\"2020-09-01\",\"2020-10-01\",\"2020-11-01\",\"2020-12-01\",\"2021-01-01\",\"2021-02-01\",\"2021-03-01\",\"2021-04-01\",\"2021-05-01\",\"2021-06-01\",\"2021-07-01\",\"2021-08-01\",\"2021-09-01\",\"2021-10-01\",\"2021-11-01\",\"2021-12-01\",\"2022-01-01\",\"2022-02-01\",\"2022-03-01\"],\"xaxis\":\"x\",\"y\":[-26.72,-22.43,-12.99,-9.5,-3.31,8.66,13.04,10.36,2.99,-5.42,-14.17,-24.75,-23.86,-21.69,-12.77,-9.63,-2.79,8.21,12.23,9.28,0.48,-5.58,-12.57,-19.62,-20.59,-20.02,-15.14,-8.48,-0.18,9.33,11.48,7.99,1.06,-4.53,-13.51,-20.87,-19.74,-17.27,-16.83,-7.78,-2.87,7.94,12.33,9.86,4.77,-5.29,-13.01,-17.39,-27.26,-19.73,-12.18,-9.51,-4.29,6.39,12.43,9.14,6.37,-4.46,-14.41,-17.87,-21.06,-17.89,-13.73,-8.48,-4.63,4.28,11.28,9.67,-0.12,-6.63,-15.96,-20.86,-24.66,-21.99,-14.4,-8.17,-2.06,4.96,14.08,12.63,3.04,-7.68,-13.47,-24.69,-22.87,-22.01,-14.68,-12.92,-5.57,6.66,11.14,10.63,2.17,-6.34,-13.85,-19.49,-21.13,-17.08,-11.69,-11.24,0.15,6.93,12.95,11.96,4.95,-8.98,-13.92,-23.92,-24.19,-17.65,-9.88,-7.77,-3.44,6.93,15.16,10.41,6.84,-6.91,-12.19,-18.37,-21.92,-22.32,-12.67],\"yaxis\":\"y\",\"type\":\"scatter\"},{\"hovertemplate\":\"variable=\\u6700\\u4f4e\\u6c14\\u6e29\\u6781\\u503c(\\u2103)<br>time=%{x}<br>value=%{y}<extra></extra>\",\"legendgroup\":\"\\u6700\\u4f4e\\u6c14\\u6e29\\u6781\\u503c(\\u2103)\",\"line\":{\"color\":\"#ab63fa\",\"dash\":\"solid\"},\"marker\":{\"symbol\":\"circle\"},\"mode\":\"lines\",\"name\":\"\\u6700\\u4f4e\\u6c14\\u6e29\\u6781\\u503c(\\u2103)\",\"orientation\":\"v\",\"showlegend\":true,\"x\":[\"2012-01-01\",\"2012-02-01\",\"2012-03-01\",\"2012-04-01\",\"2012-05-01\",\"2012-06-01\",\"2012-07-01\",\"2012-08-01\",\"2012-09-01\",\"2012-10-01\",\"2012-11-01\",\"2012-12-01\",\"2013-01-01\",\"2013-02-01\",\"2013-03-01\",\"2013-04-01\",\"2013-05-01\",\"2013-06-01\",\"2013-07-01\",\"2013-08-01\",\"2013-09-01\",\"2013-10-01\",\"2013-11-01\",\"2013-12-01\",\"2014-01-01\",\"2014-02-01\",\"2014-03-01\",\"2014-04-01\",\"2014-05-01\",\"2014-06-01\",\"2014-07-01\",\"2014-08-01\",\"2014-09-01\",\"2014-10-01\",\"2014-11-01\",\"2014-12-01\",\"2015-01-01\",\"2015-02-01\",\"2015-03-01\",\"2015-04-01\",\"2015-05-01\",\"2015-06-01\",\"2015-07-01\",\"2015-08-01\",\"2015-09-01\",\"2015-10-01\",\"2015-11-01\",\"2015-12-01\",\"2016-01-01\",\"2016-02-01\",\"2016-03-01\",\"2016-04-01\",\"2016-05-01\",\"2016-06-01\",\"2016-07-01\",\"2016-08-01\",\"2016-09-01\",\"2016-10-01\",\"2016-11-01\",\"2016-12-01\",\"2017-01-01\",\"2017-02-01\",\"2017-03-01\",\"2017-04-01\",\"2017-05-01\",\"2017-06-01\",\"2017-07-01\",\"2017-08-01\",\"2017-09-01\",\"2017-10-01\",\"2017-11-01\",\"2017-12-01\",\"2018-01-01\",\"2018-02-01\",\"2018-03-01\",\"2018-04-01\",\"2018-05-01\",\"2018-06-01\",\"2018-07-01\",\"2018-08-01\",\"2018-09-01\",\"2018-10-01\",\"2018-11-01\",\"2018-12-01\",\"2019-01-01\",\"2019-02-01\",\"2019-03-01\",\"2019-04-01\",\"2019-05-01\",\"2019-06-01\",\"2019-07-01\",\"2019-08-01\",\"2019-09-01\",\"2019-10-01\",\"2019-11-01\",\"2019-12-01\",\"2020-01-01\",\"2020-02-01\",\"2020-03-01\",\"2020-04-01\",\"2020-05-01\",\"2020-06-01\",\"2020-07-01\",\"2020-08-01\",\"2020-09-01\",\"2020-10-01\",\"2020-11-01\",\"2020-12-01\",\"2021-01-01\",\"2021-02-01\",\"2021-03-01\",\"2021-04-01\",\"2021-05-01\",\"2021-06-01\",\"2021-07-01\",\"2021-08-01\",\"2021-09-01\",\"2021-10-01\",\"2021-11-01\",\"2021-12-01\",\"2022-01-01\",\"2022-02-01\",\"2022-03-01\"],\"xaxis\":\"x\",\"y\":[-35.61,-34.89,-27.28,-8.5,0.11,5.5,12.0,1.39,-1.39,-11.22,-28.28,-33.61,-33.11,-32.5,-21.72,-10.5,-3.78,3.61,11.0,3.89,-3.0,-9.5,-21.5,-27.72,-31.0,-27.11,-22.61,-9.61,-6.72,5.11,9.78,5.78,-3.89,-11.72,-20.28,-25.61,-27.39,-29.11,-22.28,-11.89,-5.28,5.78,6.0,9.22,0.11,-9.0,-28.22,-32.61,-38.39,-27.89,-21.61,-6.61,-1.72,3.28,9.89,6.72,-3.0,-16.28,-20.78,-28.89,-30.39,-27.0,-19.78,-7.28,-2.39,5.78,13.28,3.5,-4.5,-9.39,-23.61,-29.89,-33.89,-29.39,-23.89,-10.78,-1.72,8.39,14.28,8.89,0.39,-13.22,-17.89,-31.28,-26.28,-29.72,-15.11,-11.28,-2.39,6.78,9.22,7.28,-0.89,-12.0,-22.28,-29.0,-31.22,-33.72,-24.22,-9.11,-0.22,5.22,10.22,8.61,-1.72,-10.89,-23.89,-33.39,-37.78,-30.22,-24.0,-8.72,-3.78,5.78,12.72,8.28,-2.5,-9.89,-19.11,-31.39,-29.5,-33.28,-20.5],\"yaxis\":\"y\",\"type\":\"scatter\"},{\"hovertemplate\":\"variable=\\u5e73\\u5747\\u6700\\u4f4e\\u6c14\\u6e29(\\u2103)<br>time=%{x}<br>value=%{y}<extra></extra>\",\"legendgroup\":\"\\u5e73\\u5747\\u6700\\u4f4e\\u6c14\\u6e29(\\u2103)\",\"line\":{\"color\":\"#FFA15A\",\"dash\":\"solid\"},\"marker\":{\"symbol\":\"circle\"},\"mode\":\"lines\",\"name\":\"\\u5e73\\u5747\\u6700\\u4f4e\\u6c14\\u6e29(\\u2103)\",\"orientation\":\"v\",\"showlegend\":true,\"x\":[\"2012-01-01\",\"2012-02-01\",\"2012-03-01\",\"2012-04-01\",\"2012-05-01\",\"2012-06-01\",\"2012-07-01\",\"2012-08-01\",\"2012-09-01\",\"2012-10-01\",\"2012-11-01\",\"2012-12-01\",\"2013-01-01\",\"2013-02-01\",\"2013-03-01\",\"2013-04-01\",\"2013-05-01\",\"2013-06-01\",\"2013-07-01\",\"2013-08-01\",\"2013-09-01\",\"2013-10-01\",\"2013-11-01\",\"2013-12-01\",\"2014-01-01\",\"2014-02-01\",\"2014-03-01\",\"2014-04-01\",\"2014-05-01\",\"2014-06-01\",\"2014-07-01\",\"2014-08-01\",\"2014-09-01\",\"2014-10-01\",\"2014-11-01\",\"2014-12-01\",\"2015-01-01\",\"2015-02-01\",\"2015-03-01\",\"2015-04-01\",\"2015-05-01\",\"2015-06-01\",\"2015-07-01\",\"2015-08-01\",\"2015-09-01\",\"2015-10-01\",\"2015-11-01\",\"2015-12-01\",\"2016-01-01\",\"2016-02-01\",\"2016-03-01\",\"2016-04-01\",\"2016-05-01\",\"2016-06-01\",\"2016-07-01\",\"2016-08-01\",\"2016-09-01\",\"2016-10-01\",\"2016-11-01\",\"2016-12-01\",\"2017-01-01\",\"2017-02-01\",\"2017-03-01\",\"2017-04-01\",\"2017-05-01\",\"2017-06-01\",\"2017-07-01\",\"2017-08-01\",\"2017-09-01\",\"2017-10-01\",\"2017-11-01\",\"2017-12-01\",\"2018-01-01\",\"2018-02-01\",\"2018-03-01\",\"2018-04-01\",\"2018-05-01\",\"2018-06-01\",\"2018-07-01\",\"2018-08-01\",\"2018-09-01\",\"2018-10-01\",\"2018-11-01\",\"2018-12-01\",\"2019-01-01\",\"2019-02-01\",\"2019-03-01\",\"2019-04-01\",\"2019-05-01\",\"2019-06-01\",\"2019-07-01\",\"2019-08-01\",\"2019-09-01\",\"2019-10-01\",\"2019-11-01\",\"2019-12-01\",\"2020-01-01\",\"2020-02-01\",\"2020-03-01\",\"2020-04-01\",\"2020-05-01\",\"2020-06-01\",\"2020-07-01\",\"2020-08-01\",\"2020-09-01\",\"2020-10-01\",\"2020-11-01\",\"2020-12-01\",\"2021-01-01\",\"2021-02-01\",\"2021-03-01\",\"2021-04-01\",\"2021-05-01\",\"2021-06-01\",\"2021-07-01\",\"2021-08-01\",\"2021-09-01\",\"2021-10-01\",\"2021-11-01\",\"2021-12-01\",\"2022-01-01\",\"2022-02-01\",\"2022-03-01\"],\"xaxis\":\"x\",\"y\":[-29.35,-26.25,-14.78,-1.94,4.93,11.84,15.43,12.21,4.85,-3.0,-15.79,-26.77,-26.56,-24.29,-12.31,-5.26,6.54,11.97,14.4,12.19,4.37,-3.63,-11.76,-21.0,-21.23,-20.41,-11.33,-0.07,4.07,11.57,14.33,11.88,4.4,-1.72,-11.91,-20.86,-22.05,-18.87,-11.28,-1.68,3.83,10.39,14.87,11.93,6.18,-2.58,-13.42,-19.66,-29.33,-22.64,-9.65,-1.45,5.07,10.33,16.54,14.22,6.71,-3.92,-13.03,-20.32,-23.03,-18.68,-11.44,-2.0,6.16,11.88,17.02,13.01,5.69,-2.81,-15.18,-21.43,-25.83,-22.18,-9.03,-0.92,7.46,12.89,18.7,14.66,5.17,-4.83,-12.34,-21.94,-20.5,-22.03,-10.71,-2.03,5.09,11.91,15.19,12.36,7.68,-2.93,-12.69,-22.64,-24.89,-20.57,-9.16,-3.37,6.06,12.19,14.81,13.75,5.73,-4.69,-14.51,-26.01,-27.67,-20.91,-9.28,-1.81,3.73,11.09,16.41,11.24,7.08,-3.61,-12.83,-20.26,-25.18,-25.89,-11.22],\"yaxis\":\"y\",\"type\":\"scatter\"},{\"hovertemplate\":\"variable=10cm\\u6e7f\\u5ea6(kg/m2)<br>time=%{x}<br>value=%{y}<extra></extra>\",\"legendgroup\":\"10cm\\u6e7f\\u5ea6(kg/m2)\",\"line\":{\"color\":\"#19d3f3\",\"dash\":\"solid\"},\"marker\":{\"symbol\":\"circle\"},\"mode\":\"lines\",\"name\":\"10cm\\u6e7f\\u5ea6(kg/m2)\",\"orientation\":\"v\",\"showlegend\":true,\"x\":[\"2012-01-01\",\"2012-02-01\",\"2012-03-01\",\"2012-04-01\",\"2012-05-01\",\"2012-06-01\",\"2012-07-01\",\"2012-08-01\",\"2012-09-01\",\"2012-10-01\",\"2012-11-01\",\"2012-12-01\",\"2013-01-01\",\"2013-02-01\",\"2013-03-01\",\"2013-04-01\",\"2013-05-01\",\"2013-06-01\",\"2013-07-01\",\"2013-08-01\",\"2013-09-01\",\"2013-10-01\",\"2013-11-01\",\"2013-12-01\",\"2014-01-01\",\"2014-02-01\",\"2014-03-01\",\"2014-04-01\",\"2014-05-01\",\"2014-06-01\",\"2014-07-01\",\"2014-08-01\",\"2014-09-01\",\"2014-10-01\",\"2014-11-01\",\"2014-12-01\",\"2015-01-01\",\"2015-02-01\",\"2015-03-01\",\"2015-04-01\",\"2015-05-01\",\"2015-06-01\",\"2015-07-01\",\"2015-08-01\",\"2015-09-01\",\"2015-10-01\",\"2015-11-01\",\"2015-12-01\",\"2016-01-01\",\"2016-02-01\",\"2016-03-01\",\"2016-04-01\",\"2016-05-01\",\"2016-06-01\",\"2016-07-01\",\"2016-08-01\",\"2016-09-01\",\"2016-10-01\",\"2016-11-01\",\"2016-12-01\",\"2017-01-01\",\"2017-02-01\",\"2017-03-01\",\"2017-04-01\",\"2017-05-01\",\"2017-06-01\",\"2017-07-01\",\"2017-08-01\",\"2017-09-01\",\"2017-10-01\",\"2017-11-01\",\"2017-12-01\",\"2018-01-01\",\"2018-02-01\",\"2018-03-01\",\"2018-04-01\",\"2018-05-01\",\"2018-06-01\",\"2018-07-01\",\"2018-08-01\",\"2018-09-01\",\"2018-10-01\",\"2018-11-01\",\"2018-12-01\",\"2019-01-01\",\"2019-02-01\",\"2019-03-01\",\"2019-04-01\",\"2019-05-01\",\"2019-06-01\",\"2019-07-01\",\"2019-08-01\",\"2019-09-01\",\"2019-10-01\",\"2019-11-01\",\"2019-12-01\",\"2020-01-01\",\"2020-02-01\",\"2020-03-01\",\"2020-04-01\",\"2020-05-01\",\"2020-06-01\",\"2020-07-01\",\"2020-08-01\",\"2020-09-01\",\"2020-10-01\",\"2020-11-01\",\"2020-12-01\",\"2021-01-01\",\"2021-02-01\",\"2021-03-01\",\"2021-04-01\",\"2021-05-01\",\"2021-06-01\",\"2021-07-01\",\"2021-08-01\",\"2021-09-01\",\"2021-10-01\",\"2021-11-01\",\"2021-12-01\",\"2022-01-01\",\"2022-02-01\",\"2022-03-01\"],\"xaxis\":\"x\",\"y\":[13.73,13.0,12.6,11.97,14.18,19.28,19.64,15.76,17.12,15.04,14.79,14.42,14.09,13.55,12.85,11.82,12.73,19.25,20.34,17.61,14.49,13.56,11.92,10.98,10.55,9.97,13.96,15.5,16.73,18.29,16.7,14.85,12.84,14.98,13.72,11.73,11.17,10.77,9.93,15.31,14.55,16.82,17.13,15.47,17.31,15.55,14.55,14.73,14.11,13.34,12.26,11.05,15.43,17.0,17.33,12.85,16.22,17.79,16.33,13.25,12.48,11.71,11.1,11.06,11.81,13.29,15.33,16.83,14.24,13.52,12.13,11.21,10.69,10.26,9.75,14.55,13.94,15.68,19.66,19.01,18.27,14.81,12.47,11.08,10.27,9.64,10.02,11.22,15.88,16.75,17.25,17.39,12.68,13.99,13.89,12.59,12.21,11.86,11.95,13.73,16.51,17.01,21.31,20.79,20.04,16.59,15.04,16.51,15.17,13.93,14.37,14.18,14.77,17.66,22.1,20.36,21.01,16.93,13.91,13.14,12.45,12.1,14.96],\"yaxis\":\"y\",\"type\":\"scatter\"}],                        {\"template\":{\"data\":{\"histogram2dcontour\":[{\"type\":\"histogram2dcontour\",\"colorbar\":{\"outlinewidth\":0,\"ticks\":\"\"},\"colorscale\":[[0.0,\"#0d0887\"],[0.1111111111111111,\"#46039f\"],[0.2222222222222222,\"#7201a8\"],[0.3333333333333333,\"#9c179e\"],[0.4444444444444444,\"#bd3786\"],[0.5555555555555556,\"#d8576b\"],[0.6666666666666666,\"#ed7953\"],[0.7777777777777778,\"#fb9f3a\"],[0.8888888888888888,\"#fdca26\"],[1.0,\"#f0f921\"]]}],\"choropleth\":[{\"type\":\"choropleth\",\"colorbar\":{\"outlinewidth\":0,\"ticks\":\"\"}}],\"histogram2d\":[{\"type\":\"histogram2d\",\"colorbar\":{\"outlinewidth\":0,\"ticks\":\"\"},\"colorscale\":[[0.0,\"#0d0887\"],[0.1111111111111111,\"#46039f\"],[0.2222222222222222,\"#7201a8\"],[0.3333333333333333,\"#9c179e\"],[0.4444444444444444,\"#bd3786\"],[0.5555555555555556,\"#d8576b\"],[0.6666666666666666,\"#ed7953\"],[0.7777777777777778,\"#fb9f3a\"],[0.8888888888888888,\"#fdca26\"],[1.0,\"#f0f921\"]]}],\"heatmap\":[{\"type\":\"heatmap\",\"colorbar\":{\"outlinewidth\":0,\"ticks\":\"\"},\"colorscale\":[[0.0,\"#0d0887\"],[0.1111111111111111,\"#46039f\"],[0.2222222222222222,\"#7201a8\"],[0.3333333333333333,\"#9c179e\"],[0.4444444444444444,\"#bd3786\"],[0.5555555555555556,\"#d8576b\"],[0.6666666666666666,\"#ed7953\"],[0.7777777777777778,\"#fb9f3a\"],[0.8888888888888888,\"#fdca26\"],[1.0,\"#f0f921\"]]}],\"heatmapgl\":[{\"type\":\"heatmapgl\",\"colorbar\":{\"outlinewidth\":0,\"ticks\":\"\"},\"colorscale\":[[0.0,\"#0d0887\"],[0.1111111111111111,\"#46039f\"],[0.2222222222222222,\"#7201a8\"],[0.3333333333333333,\"#9c179e\"],[0.4444444444444444,\"#bd3786\"],[0.5555555555555556,\"#d8576b\"],[0.6666666666666666,\"#ed7953\"],[0.7777777777777778,\"#fb9f3a\"],[0.8888888888888888,\"#fdca26\"],[1.0,\"#f0f921\"]]}],\"contourcarpet\":[{\"type\":\"contourcarpet\",\"colorbar\":{\"outlinewidth\":0,\"ticks\":\"\"}}],\"contour\":[{\"type\":\"contour\",\"colorbar\":{\"outlinewidth\":0,\"ticks\":\"\"},\"colorscale\":[[0.0,\"#0d0887\"],[0.1111111111111111,\"#46039f\"],[0.2222222222222222,\"#7201a8\"],[0.3333333333333333,\"#9c179e\"],[0.4444444444444444,\"#bd3786\"],[0.5555555555555556,\"#d8576b\"],[0.6666666666666666,\"#ed7953\"],[0.7777777777777778,\"#fb9f3a\"],[0.8888888888888888,\"#fdca26\"],[1.0,\"#f0f921\"]]}],\"surface\":[{\"type\":\"surface\",\"colorbar\":{\"outlinewidth\":0,\"ticks\":\"\"},\"colorscale\":[[0.0,\"#0d0887\"],[0.1111111111111111,\"#46039f\"],[0.2222222222222222,\"#7201a8\"],[0.3333333333333333,\"#9c179e\"],[0.4444444444444444,\"#bd3786\"],[0.5555555555555556,\"#d8576b\"],[0.6666666666666666,\"#ed7953\"],[0.7777777777777778,\"#fb9f3a\"],[0.8888888888888888,\"#fdca26\"],[1.0,\"#f0f921\"]]}],\"mesh3d\":[{\"type\":\"mesh3d\",\"colorbar\":{\"outlinewidth\":0,\"ticks\":\"\"}}],\"scatter\":[{\"fillpattern\":{\"fillmode\":\"overlay\",\"size\":10,\"solidity\":0.2},\"type\":\"scatter\"}],\"parcoords\":[{\"type\":\"parcoords\",\"line\":{\"colorbar\":{\"outlinewidth\":0,\"ticks\":\"\"}}}],\"scatterpolargl\":[{\"type\":\"scatterpolargl\",\"marker\":{\"colorbar\":{\"outlinewidth\":0,\"ticks\":\"\"}}}],\"bar\":[{\"error_x\":{\"color\":\"#2a3f5f\"},\"error_y\":{\"color\":\"#2a3f5f\"},\"marker\":{\"line\":{\"color\":\"#E5ECF6\",\"width\":0.5},\"pattern\":{\"fillmode\":\"overlay\",\"size\":10,\"solidity\":0.2}},\"type\":\"bar\"}],\"scattergeo\":[{\"type\":\"scattergeo\",\"marker\":{\"colorbar\":{\"outlinewidth\":0,\"ticks\":\"\"}}}],\"scatterpolar\":[{\"type\":\"scatterpolar\",\"marker\":{\"colorbar\":{\"outlinewidth\":0,\"ticks\":\"\"}}}],\"histogram\":[{\"marker\":{\"pattern\":{\"fillmode\":\"overlay\",\"size\":10,\"solidity\":0.2}},\"type\":\"histogram\"}],\"scattergl\":[{\"type\":\"scattergl\",\"marker\":{\"colorbar\":{\"outlinewidth\":0,\"ticks\":\"\"}}}],\"scatter3d\":[{\"type\":\"scatter3d\",\"line\":{\"colorbar\":{\"outlinewidth\":0,\"ticks\":\"\"}},\"marker\":{\"colorbar\":{\"outlinewidth\":0,\"ticks\":\"\"}}}],\"scattermapbox\":[{\"type\":\"scattermapbox\",\"marker\":{\"colorbar\":{\"outlinewidth\":0,\"ticks\":\"\"}}}],\"scatterternary\":[{\"type\":\"scatterternary\",\"marker\":{\"colorbar\":{\"outlinewidth\":0,\"ticks\":\"\"}}}],\"scattercarpet\":[{\"type\":\"scattercarpet\",\"marker\":{\"colorbar\":{\"outlinewidth\":0,\"ticks\":\"\"}}}],\"carpet\":[{\"aaxis\":{\"endlinecolor\":\"#2a3f5f\",\"gridcolor\":\"white\",\"linecolor\":\"white\",\"minorgridcolor\":\"white\",\"startlinecolor\":\"#2a3f5f\"},\"baxis\":{\"endlinecolor\":\"#2a3f5f\",\"gridcolor\":\"white\",\"linecolor\":\"white\",\"minorgridcolor\":\"white\",\"startlinecolor\":\"#2a3f5f\"},\"type\":\"carpet\"}],\"table\":[{\"cells\":{\"fill\":{\"color\":\"#EBF0F8\"},\"line\":{\"color\":\"white\"}},\"header\":{\"fill\":{\"color\":\"#C8D4E3\"},\"line\":{\"color\":\"white\"}},\"type\":\"table\"}],\"barpolar\":[{\"marker\":{\"line\":{\"color\":\"#E5ECF6\",\"width\":0.5},\"pattern\":{\"fillmode\":\"overlay\",\"size\":10,\"solidity\":0.2}},\"type\":\"barpolar\"}],\"pie\":[{\"automargin\":true,\"type\":\"pie\"}]},\"layout\":{\"autotypenumbers\":\"strict\",\"colorway\":[\"#636efa\",\"#EF553B\",\"#00cc96\",\"#ab63fa\",\"#FFA15A\",\"#19d3f3\",\"#FF6692\",\"#B6E880\",\"#FF97FF\",\"#FECB52\"],\"font\":{\"color\":\"#2a3f5f\"},\"hovermode\":\"closest\",\"hoverlabel\":{\"align\":\"left\"},\"paper_bgcolor\":\"white\",\"plot_bgcolor\":\"#E5ECF6\",\"polar\":{\"bgcolor\":\"#E5ECF6\",\"angularaxis\":{\"gridcolor\":\"white\",\"linecolor\":\"white\",\"ticks\":\"\"},\"radialaxis\":{\"gridcolor\":\"white\",\"linecolor\":\"white\",\"ticks\":\"\"}},\"ternary\":{\"bgcolor\":\"#E5ECF6\",\"aaxis\":{\"gridcolor\":\"white\",\"linecolor\":\"white\",\"ticks\":\"\"},\"baxis\":{\"gridcolor\":\"white\",\"linecolor\":\"white\",\"ticks\":\"\"},\"caxis\":{\"gridcolor\":\"white\",\"linecolor\":\"white\",\"ticks\":\"\"}},\"coloraxis\":{\"colorbar\":{\"outlinewidth\":0,\"ticks\":\"\"}},\"colorscale\":{\"sequential\":[[0.0,\"#0d0887\"],[0.1111111111111111,\"#46039f\"],[0.2222222222222222,\"#7201a8\"],[0.3333333333333333,\"#9c179e\"],[0.4444444444444444,\"#bd3786\"],[0.5555555555555556,\"#d8576b\"],[0.6666666666666666,\"#ed7953\"],[0.7777777777777778,\"#fb9f3a\"],[0.8888888888888888,\"#fdca26\"],[1.0,\"#f0f921\"]],\"sequentialminus\":[[0.0,\"#0d0887\"],[0.1111111111111111,\"#46039f\"],[0.2222222222222222,\"#7201a8\"],[0.3333333333333333,\"#9c179e\"],[0.4444444444444444,\"#bd3786\"],[0.5555555555555556,\"#d8576b\"],[0.6666666666666666,\"#ed7953\"],[0.7777777777777778,\"#fb9f3a\"],[0.8888888888888888,\"#fdca26\"],[1.0,\"#f0f921\"]],\"diverging\":[[0,\"#8e0152\"],[0.1,\"#c51b7d\"],[0.2,\"#de77ae\"],[0.3,\"#f1b6da\"],[0.4,\"#fde0ef\"],[0.5,\"#f7f7f7\"],[0.6,\"#e6f5d0\"],[0.7,\"#b8e186\"],[0.8,\"#7fbc41\"],[0.9,\"#4d9221\"],[1,\"#276419\"]]},\"xaxis\":{\"gridcolor\":\"white\",\"linecolor\":\"white\",\"ticks\":\"\",\"title\":{\"standoff\":15},\"zerolinecolor\":\"white\",\"automargin\":true,\"zerolinewidth\":2},\"yaxis\":{\"gridcolor\":\"white\",\"linecolor\":\"white\",\"ticks\":\"\",\"title\":{\"standoff\":15},\"zerolinecolor\":\"white\",\"automargin\":true,\"zerolinewidth\":2},\"scene\":{\"xaxis\":{\"backgroundcolor\":\"#E5ECF6\",\"gridcolor\":\"white\",\"linecolor\":\"white\",\"showbackground\":true,\"ticks\":\"\",\"zerolinecolor\":\"white\",\"gridwidth\":2},\"yaxis\":{\"backgroundcolor\":\"#E5ECF6\",\"gridcolor\":\"white\",\"linecolor\":\"white\",\"showbackground\":true,\"ticks\":\"\",\"zerolinecolor\":\"white\",\"gridwidth\":2},\"zaxis\":{\"backgroundcolor\":\"#E5ECF6\",\"gridcolor\":\"white\",\"linecolor\":\"white\",\"showbackground\":true,\"ticks\":\"\",\"zerolinecolor\":\"white\",\"gridwidth\":2}},\"shapedefaults\":{\"line\":{\"color\":\"#2a3f5f\"}},\"annotationdefaults\":{\"arrowcolor\":\"#2a3f5f\",\"arrowhead\":0,\"arrowwidth\":1},\"geo\":{\"bgcolor\":\"white\",\"landcolor\":\"#E5ECF6\",\"subunitcolor\":\"white\",\"showland\":true,\"showlakes\":true,\"lakecolor\":\"white\"},\"title\":{\"x\":0.05},\"mapbox\":{\"style\":\"light\"}}},\"xaxis\":{\"anchor\":\"y\",\"domain\":[0.0,1.0],\"title\":{\"text\":\"\\u65f6\\u95f4\"}},\"yaxis\":{\"anchor\":\"x\",\"domain\":[0.0,1.0],\"title\":{\"text\":\"\\u53d6\\u503c\"}},\"legend\":{\"title\":{\"text\":\"\\u53d8\\u91cf\"},\"tracegroupgap\":0},\"margin\":{\"t\":60},\"title\":{\"text\":\"\\u76f8\\u5173\\u6027\\u6700\\u9ad8\\u76845\\u4e2a\\u81ea\\u53d8\\u91cf\\u548c10cm\\u6e7f\\u5ea6\\u7684\\u53d8\\u5316\\u8d8b\\u52bf\\u56fe\"}},                        {\"responsive\": true}                    ).then(function(){\n",
       "                            \n",
       "var gd = document.getElementById('ad33ae9e-aa56-4ac0-830e-889c84c3142b');\n",
       "var x = new MutationObserver(function (mutations, observer) {{\n",
       "        var display = window.getComputedStyle(gd).display;\n",
       "        if (!display || display === 'none') {{\n",
       "            console.log([gd, 'removed!']);\n",
       "            Plotly.purge(gd);\n",
       "            observer.disconnect();\n",
       "        }}\n",
       "}});\n",
       "\n",
       "// Listen for the removal of the full notebook cells\n",
       "var notebookContainer = gd.closest('#notebook-container');\n",
       "if (notebookContainer) {{\n",
       "    x.observe(notebookContainer, {childList: true});\n",
       "}}\n",
       "\n",
       "// Listen for the clearing of the current output cell\n",
       "var outputEl = gd.closest('.output');\n",
       "if (outputEl) {{\n",
       "    x.observe(outputEl, {childList: true});\n",
       "}}\n",
       "\n",
       "                        })                };                });            </script>        </div>"
      ]
     },
     "metadata": {},
     "output_type": "display_data"
    }
   ],
   "source": [
    "df=df_All[['土壤蒸发量(mm)', '土壤蒸发量(W/m2)', '平均露点温度(℃)', '最低气温极值(℃)', '平均最低气温(℃)', '10cm湿度(kg/m2)']]\n",
    "px.line(df).update_layout(legend_title='变量', title='相关性最高的5个自变量和10cm湿度的变化趋势图', xaxis_title='时间',yaxis_title='取值')"
   ]
  }
 ],
 "metadata": {
  "kernelspec": {
   "display_name": "Python 3 (ipykernel)",
   "language": "python",
   "name": "python3"
  },
  "language_info": {
   "codemirror_mode": {
    "name": "ipython",
    "version": 3
   },
   "file_extension": ".py",
   "mimetype": "text/x-python",
   "name": "python",
   "nbconvert_exporter": "python",
   "pygments_lexer": "ipython3",
   "version": "3.9.7"
  }
 },
 "nbformat": 4,
 "nbformat_minor": 5
}

{
 "cells": [
  {
   "cell_type": "code",
   "execution_count": 33,
   "metadata": {},
   "outputs": [],
   "source": [
    "import pandas as pd\n",
    "import numpy as np\n",
    "import seaborn as sns\n",
    "from pathlib import Path as P\n",
    "import matplotlib.pyplot as plt\n",
    "import plotly.express as px\n",
    "import re\n"
   ]
  },
  {
   "cell_type": "code",
   "execution_count": 11,
   "metadata": {},
   "outputs": [],
   "source": [
    "def parseQiangdu(s):\n",
    "    x=re.match(r'\\w牧（(\\d+)天）', s).group(1)\n",
    "    x=int(x)\n",
    "    return x"
   ]
  },
  {
   "cell_type": "code",
   "execution_count": 27,
   "metadata": {},
   "outputs": [
    {
     "data": {
      "text/html": [
       "<div>\n",
       "<style scoped>\n",
       "    .dataframe tbody tr th:only-of-type {\n",
       "        vertical-align: middle;\n",
       "    }\n",
       "\n",
       "    .dataframe tbody tr th {\n",
       "        vertical-align: top;\n",
       "    }\n",
       "\n",
       "    .dataframe thead th {\n",
       "        text-align: right;\n",
       "    }\n",
       "</style>\n",
       "<table border=\"1\" class=\"dataframe\">\n",
       "  <thead>\n",
       "    <tr style=\"text-align: right;\">\n",
       "      <th></th>\n",
       "      <th>time</th>\n",
       "      <th>blk</th>\n",
       "      <th>w</th>\n",
       "      <th>S</th>\n",
       "    </tr>\n",
       "  </thead>\n",
       "  <tbody>\n",
       "    <tr>\n",
       "      <th>0</th>\n",
       "      <td>2016-06-01</td>\n",
       "      <td>G11</td>\n",
       "      <td>363.80</td>\n",
       "      <td>6</td>\n",
       "    </tr>\n",
       "    <tr>\n",
       "      <th>1</th>\n",
       "      <td>2016-06-01</td>\n",
       "      <td>G16</td>\n",
       "      <td>320.09</td>\n",
       "      <td>6</td>\n",
       "    </tr>\n",
       "    <tr>\n",
       "      <th>2</th>\n",
       "      <td>2016-06-01</td>\n",
       "      <td>G8</td>\n",
       "      <td>383.44</td>\n",
       "      <td>6</td>\n",
       "    </tr>\n",
       "    <tr>\n",
       "      <th>3</th>\n",
       "      <td>2016-06-01</td>\n",
       "      <td>G17</td>\n",
       "      <td>297.32</td>\n",
       "      <td>0</td>\n",
       "    </tr>\n",
       "    <tr>\n",
       "      <th>4</th>\n",
       "      <td>2016-06-01</td>\n",
       "      <td>G19</td>\n",
       "      <td>259.70</td>\n",
       "      <td>0</td>\n",
       "    </tr>\n",
       "    <tr>\n",
       "      <th>...</th>\n",
       "      <td>...</td>\n",
       "      <td>...</td>\n",
       "      <td>...</td>\n",
       "      <td>...</td>\n",
       "    </tr>\n",
       "    <tr>\n",
       "      <th>293</th>\n",
       "      <td>2020-09-17</td>\n",
       "      <td>G18</td>\n",
       "      <td>1198.35</td>\n",
       "      <td>3</td>\n",
       "    </tr>\n",
       "    <tr>\n",
       "      <th>294</th>\n",
       "      <td>2020-09-17</td>\n",
       "      <td>G6</td>\n",
       "      <td>1597.61</td>\n",
       "      <td>3</td>\n",
       "    </tr>\n",
       "    <tr>\n",
       "      <th>295</th>\n",
       "      <td>2020-09-17</td>\n",
       "      <td>G13</td>\n",
       "      <td>1062.98</td>\n",
       "      <td>12</td>\n",
       "    </tr>\n",
       "    <tr>\n",
       "      <th>296</th>\n",
       "      <td>2020-09-17</td>\n",
       "      <td>G20</td>\n",
       "      <td>787.06</td>\n",
       "      <td>12</td>\n",
       "    </tr>\n",
       "    <tr>\n",
       "      <th>297</th>\n",
       "      <td>2020-09-17</td>\n",
       "      <td>G9</td>\n",
       "      <td>740.23</td>\n",
       "      <td>12</td>\n",
       "    </tr>\n",
       "  </tbody>\n",
       "</table>\n",
       "<p>298 rows × 4 columns</p>\n",
       "</div>"
      ],
      "text/plain": [
       "           time  blk        w   S\n",
       "0    2016-06-01  G11   363.80   6\n",
       "1    2016-06-01  G16   320.09   6\n",
       "2    2016-06-01   G8   383.44   6\n",
       "3    2016-06-01  G17   297.32   0\n",
       "4    2016-06-01  G19   259.70   0\n",
       "..          ...  ...      ...  ..\n",
       "293  2020-09-17  G18  1198.35   3\n",
       "294  2020-09-17   G6  1597.61   3\n",
       "295  2020-09-17  G13  1062.98  12\n",
       "296  2020-09-17  G20   787.06  12\n",
       "297  2020-09-17   G9   740.23  12\n",
       "\n",
       "[298 rows x 4 columns]"
      ]
     },
     "execution_count": 27,
     "metadata": {},
     "output_type": "execute_result"
    }
   ],
   "source": [
    "df=pd.read_csv('问题1-附件15.csv').drop(columns=[\n",
    "    '年份', '轮次'\n",
    "]).rename(columns={\n",
    "    '干重(g)': 'w',\n",
    "    '放牧小区Block': 'blk',\n",
    "    '处理': 'qiangdu',\n",
    "    '日期': 'time',\n",
    "})\n",
    "df['S'] = df.qiangdu.apply(parseQiangdu)\n",
    "df=df.drop(columns='qiangdu')\n",
    "df.to_csv('问题1-附件15-小区生物量放牧强度.csv')\n",
    "df"
   ]
  },
  {
   "cell_type": "code",
   "execution_count": 29,
   "metadata": {},
   "outputs": [
    {
     "data": {
      "text/plain": [
       "(298, 298)"
      ]
     },
     "execution_count": 29,
     "metadata": {},
     "output_type": "execute_result"
    }
   ],
   "source": [
    "# 若每个小区每个强度在一天内有多组数据，视为多次重复实验，取平均值。\n",
    "df_ = df.groupby(['time', 'blk', 'S']).mean().reset_index()\n",
    "len(df_), len(df)"
   ]
  },
  {
   "cell_type": "code",
   "execution_count": 30,
   "metadata": {},
   "outputs": [
    {
     "data": {
      "text/plain": [
       "(100, 298)"
      ]
     },
     "execution_count": 30,
     "metadata": {},
     "output_type": "execute_result"
    }
   ],
   "source": [
    "# 消除不同的小区，相同强度的小区取平均值。\n",
    "df_ = df.groupby(['time', 'S']).mean().reset_index()\n",
    "len(df_), len(df)"
   ]
  },
  {
   "cell_type": "code",
   "execution_count": 32,
   "metadata": {},
   "outputs": [
    {
     "data": {
      "text/html": [
       "<div>\n",
       "<style scoped>\n",
       "    .dataframe tbody tr th:only-of-type {\n",
       "        vertical-align: middle;\n",
       "    }\n",
       "\n",
       "    .dataframe tbody tr th {\n",
       "        vertical-align: top;\n",
       "    }\n",
       "\n",
       "    .dataframe thead th {\n",
       "        text-align: right;\n",
       "    }\n",
       "</style>\n",
       "<table border=\"1\" class=\"dataframe\">\n",
       "  <thead>\n",
       "    <tr style=\"text-align: right;\">\n",
       "      <th></th>\n",
       "      <th>time</th>\n",
       "      <th>S</th>\n",
       "      <th>w</th>\n",
       "    </tr>\n",
       "  </thead>\n",
       "  <tbody>\n",
       "    <tr>\n",
       "      <th>0</th>\n",
       "      <td>2016-06-01</td>\n",
       "      <td>0</td>\n",
       "      <td>290.053333</td>\n",
       "    </tr>\n",
       "    <tr>\n",
       "      <th>1</th>\n",
       "      <td>2016-06-01</td>\n",
       "      <td>3</td>\n",
       "      <td>349.070000</td>\n",
       "    </tr>\n",
       "    <tr>\n",
       "      <th>2</th>\n",
       "      <td>2016-06-01</td>\n",
       "      <td>6</td>\n",
       "      <td>355.776667</td>\n",
       "    </tr>\n",
       "    <tr>\n",
       "      <th>3</th>\n",
       "      <td>2016-06-01</td>\n",
       "      <td>12</td>\n",
       "      <td>430.590000</td>\n",
       "    </tr>\n",
       "    <tr>\n",
       "      <th>4</th>\n",
       "      <td>2016-06-21</td>\n",
       "      <td>0</td>\n",
       "      <td>487.780000</td>\n",
       "    </tr>\n",
       "    <tr>\n",
       "      <th>...</th>\n",
       "      <td>...</td>\n",
       "      <td>...</td>\n",
       "      <td>...</td>\n",
       "    </tr>\n",
       "    <tr>\n",
       "      <th>95</th>\n",
       "      <td>2020-08-14</td>\n",
       "      <td>12</td>\n",
       "      <td>767.096667</td>\n",
       "    </tr>\n",
       "    <tr>\n",
       "      <th>96</th>\n",
       "      <td>2020-09-17</td>\n",
       "      <td>0</td>\n",
       "      <td>897.293333</td>\n",
       "    </tr>\n",
       "    <tr>\n",
       "      <th>97</th>\n",
       "      <td>2020-09-17</td>\n",
       "      <td>3</td>\n",
       "      <td>1415.590000</td>\n",
       "    </tr>\n",
       "    <tr>\n",
       "      <th>98</th>\n",
       "      <td>2020-09-17</td>\n",
       "      <td>6</td>\n",
       "      <td>1148.493333</td>\n",
       "    </tr>\n",
       "    <tr>\n",
       "      <th>99</th>\n",
       "      <td>2020-09-17</td>\n",
       "      <td>12</td>\n",
       "      <td>863.423333</td>\n",
       "    </tr>\n",
       "  </tbody>\n",
       "</table>\n",
       "<p>100 rows × 3 columns</p>\n",
       "</div>"
      ],
      "text/plain": [
       "          time   S            w\n",
       "0   2016-06-01   0   290.053333\n",
       "1   2016-06-01   3   349.070000\n",
       "2   2016-06-01   6   355.776667\n",
       "3   2016-06-01  12   430.590000\n",
       "4   2016-06-21   0   487.780000\n",
       "..         ...  ..          ...\n",
       "95  2020-08-14  12   767.096667\n",
       "96  2020-09-17   0   897.293333\n",
       "97  2020-09-17   3  1415.590000\n",
       "98  2020-09-17   6  1148.493333\n",
       "99  2020-09-17  12   863.423333\n",
       "\n",
       "[100 rows x 3 columns]"
      ]
     },
     "execution_count": 32,
     "metadata": {},
     "output_type": "execute_result"
    }
   ],
   "source": [
    "df=df_\n",
    "df.set_index('time').groupby('S').resample('1M')."
   ]
  },
  {
   "cell_type": "code",
   "execution_count": null,
   "metadata": {},
   "outputs": [],
   "source": []
  }
 ],
 "metadata": {
  "kernelspec": {
   "display_name": "Python 3 (ipykernel)",
   "language": "python",
   "name": "python3"
  },
  "language_info": {
   "codemirror_mode": {
    "name": "ipython",
    "version": 3
   },
   "file_extension": ".py",
   "mimetype": "text/x-python",
   "name": "python",
   "nbconvert_exporter": "python",
   "pygments_lexer": "ipython3",
   "version": "3.9.7"
  },
  "vscode": {
   "interpreter": {
    "hash": "7333d47a3a2e5eb003ed4862432b269301e4f62a805920b00eb5758860da8060"
   }
  }
 },
 "nbformat": 4,
 "nbformat_minor": 2
}

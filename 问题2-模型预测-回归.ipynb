{
 "cells": [
  {
   "cell_type": "code",
   "execution_count": 13,
   "id": "74d806f4",
   "metadata": {},
   "outputs": [],
   "source": [
    "import pandas as pd\n",
    "import numpy as np\n",
    "import seaborn as sns\n",
    "from pathlib import Path as P\n",
    "import matplotlib.pyplot as plt\n",
    "plt.rcParams['font.sans-serif'] = ['KaiTi', 'SimHei', 'FangSong']  # 汉字字体,优先使用楷体，如果找不到楷体，则使用黑体\n",
    "plt.rcParams['font.size'] = 12  # 字体大小\n",
    "plt.rcParams['axes.unicode_minus'] = False  # 正常显示负号\n",
    "from collections import defaultdict\n",
    "import plotly.express as px\n",
    "import pickle\n",
    "from sklearn.preprocessing import StandardScaler, MinMaxScaler\n",
    "from sklearn.model_selection import train_test_split\n",
    "\n",
    "import tensorflow.keras as keras"
   ]
  },
  {
   "cell_type": "code",
   "execution_count": 15,
   "id": "e2d95214",
   "metadata": {},
   "outputs": [],
   "source": [
    "scaler=pickle.load(P('问题2-MinMaxScaler-训练数据.pkl').open('rb'))\n",
    "df=pd.read_csv('问题2-训练数据-归一化.csv').drop(columns='time')\n",
    "model=keras.models.load_model('./problem2_regress_checkpoint.h5')"
   ]
  },
  {
   "cell_type": "code",
   "execution_count": 16,
   "id": "8977988a",
   "metadata": {},
   "outputs": [
    {
     "data": {
      "text/plain": [
       "(array([0.08025682, 0.03125977, 0.0195733 , 0.24509804, 0.0256476 ,\n",
       "        0.00112134, 0.02069108]),\n",
       " array([-7.73675762e-01, -9.28727727e-01, -8.29125073e-01, -4.03137255e+01,\n",
       "        -6.92485253e-03,  0.00000000e+00,  4.82722946e-01]))"
      ]
     },
     "execution_count": 16,
     "metadata": {},
     "output_type": "execute_result"
    }
   ],
   "source": [
    "scaler.scale_, scaler.min_"
   ]
  }
 ],
 "metadata": {
  "kernelspec": {
   "display_name": "Python 3.7.0 64-bit",
   "language": "python",
   "name": "python3"
  },
  "language_info": {
   "codemirror_mode": {
    "name": "ipython",
    "version": 3
   },
   "file_extension": ".py",
   "mimetype": "text/x-python",
   "name": "python",
   "nbconvert_exporter": "python",
   "pygments_lexer": "ipython3",
   "version": "3.7.0"
  },
  "vscode": {
   "interpreter": {
    "hash": "7333d47a3a2e5eb003ed4862432b269301e4f62a805920b00eb5758860da8060"
   }
  }
 },
 "nbformat": 4,
 "nbformat_minor": 5
}

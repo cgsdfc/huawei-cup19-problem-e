{
 "cells": [
  {
   "cell_type": "code",
   "execution_count": 189,
   "id": "74d806f4",
   "metadata": {},
   "outputs": [],
   "source": [
    "import pandas as pd\n",
    "import numpy as np\n",
    "import seaborn as sns\n",
    "from pathlib import Path as P\n",
    "import matplotlib.pyplot as plt\n",
    "plt.rcParams['font.sans-serif'] = ['KaiTi', 'SimHei', 'FangSong']  # 汉字字体,优先使用楷体，如果找不到楷体，则使用黑体\n",
    "plt.rcParams['font.size'] = 12  # 字体大小\n",
    "plt.rcParams['axes.unicode_minus'] = False  # 正常显示负号\n",
    "from collections import defaultdict\n",
    "import plotly.express as px\n",
    "import pickle\n",
    "from sklearn.preprocessing import StandardScaler, MinMaxScaler\n",
    "from sklearn.model_selection import train_test_split\n",
    "\n",
    "import tensorflow.keras as keras"
   ]
  },
  {
   "cell_type": "code",
   "execution_count": 190,
   "id": "a4207b3a",
   "metadata": {},
   "outputs": [],
   "source": [
    "learning_rate=0.0001\n",
    "train_size=0.8\n",
    "bs=4\n",
    "epochs=500"
   ]
  },
  {
   "cell_type": "code",
   "execution_count": 191,
   "id": "e2d95214",
   "metadata": {},
   "outputs": [],
   "source": [
    "df=pd.read_csv('问题2-训练数据-归一化-回归.csv',index_col='time',parse_dates=True)\n",
    "df['T']=100*df['year']+df['month']\n",
    "# df=df.drop(columns='year')"
   ]
  },
  {
   "cell_type": "code",
   "execution_count": 192,
   "id": "550eb32c",
   "metadata": {},
   "outputs": [],
   "source": [
    "# YCOLS=['100cm湿度(kg/m2)', '10cm湿度(kg/m2)', '40cm湿度(kg/m2)','200cm湿度(kg/m2)']\n",
    "YCOLS=[ '40cm湿度(kg/m2)',]\n",
    "XCOLS=['10cm湿度(kg/m2)',]\n",
    "# XCOLS=['month', 'year']\n",
    "\n",
    "X,Y=df[XCOLS].values,df[YCOLS].values\n",
    "\n",
    "X_train,X_val,Y_train,Y_val = train_test_split(X,Y, train_size=train_size, shuffle=False)"
   ]
  },
  {
   "cell_type": "code",
   "execution_count": 193,
   "id": "223f78fc",
   "metadata": {},
   "outputs": [
    {
     "data": {
      "text/plain": [
       "((98, 1), (25, 1), (98, 1), (25, 1))"
      ]
     },
     "execution_count": 193,
     "metadata": {},
     "output_type": "execute_result"
    }
   ],
   "source": [
    "X_train.shape,X_val.shape,Y_train.shape,Y_val.shape"
   ]
  },
  {
   "cell_type": "code",
   "execution_count": 194,
   "id": "a1bed2b3",
   "metadata": {},
   "outputs": [
    {
     "name": "stdout",
     "output_type": "stream",
     "text": [
      "Model: \"model_24\"\n",
      "_________________________________________________________________\n",
      " Layer (type)                Output Shape              Param #   \n",
      "=================================================================\n",
      " input_25 (InputLayer)       [(None, 1)]               0         \n",
      "                                                                 \n",
      " dense_69 (Dense)            (None, 128)               256       \n",
      "                                                                 \n",
      " dense_70 (Dense)            (None, 16)                2064      \n",
      "                                                                 \n",
      " dense_71 (Dense)            (None, 1)                 17        \n",
      "                                                                 \n",
      "=================================================================\n",
      "Total params: 2,337\n",
      "Trainable params: 2,337\n",
      "Non-trainable params: 0\n",
      "_________________________________________________________________\n"
     ]
    }
   ],
   "source": [
    "inputs = keras.layers.Input(shape=(X_train.shape[1], ))\n",
    "x = keras.layers.Dense(128, activation='relu')(inputs)\n",
    "# x = keras.layers.BatchNormalization()(x)\n",
    "x = keras.layers.Dense(16, activation='relu')(x)\n",
    "outputs = keras.layers.Dense(Y_train.shape[1])(x)\n",
    "\n",
    "model = keras.Model(inputs=inputs, outputs=outputs)\n",
    "model.compile(optimizer=keras.optimizers.Adam(learning_rate=learning_rate), loss=\"mse\")\n",
    "model.summary()"
   ]
  },
  {
   "cell_type": "code",
   "execution_count": 195,
   "id": "4d6def6b",
   "metadata": {
    "scrolled": true
   },
   "outputs": [
    {
     "name": "stdout",
     "output_type": "stream",
     "text": [
      "Epoch 1/500\n",
      "20/25 [=======================>......] - ETA: 0s - loss: 0.6965 \n",
      "Epoch 1: val_loss improved from inf to 2.14461, saving model to problem2_regress_checkpoint.h5\n",
      "25/25 [==============================] - 1s 13ms/step - loss: 0.6611 - val_loss: 2.1446\n",
      "Epoch 2/500\n",
      "24/25 [===========================>..] - ETA: 0s - loss: 0.6508\n",
      "Epoch 2: val_loss improved from 2.14461 to 2.11476, saving model to problem2_regress_checkpoint.h5\n",
      "25/25 [==============================] - 0s 8ms/step - loss: 0.6452 - val_loss: 2.1148\n",
      "Epoch 3/500\n",
      "15/25 [=================>............] - ETA: 0s - loss: 0.6585\n",
      "Epoch 3: val_loss improved from 2.11476 to 2.08771, saving model to problem2_regress_checkpoint.h5\n",
      "25/25 [==============================] - 0s 7ms/step - loss: 0.6344 - val_loss: 2.0877\n",
      "Epoch 4/500\n",
      "16/25 [==================>...........] - ETA: 0s - loss: 0.5810\n",
      "Epoch 4: val_loss improved from 2.08771 to 2.05357, saving model to problem2_regress_checkpoint.h5\n",
      "25/25 [==============================] - 0s 7ms/step - loss: 0.6248 - val_loss: 2.0536\n",
      "Epoch 5/500\n",
      "14/25 [===============>..............] - ETA: 0s - loss: 0.6717\n",
      "Epoch 5: val_loss improved from 2.05357 to 2.01858, saving model to problem2_regress_checkpoint.h5\n",
      "25/25 [==============================] - 0s 7ms/step - loss: 0.6164 - val_loss: 2.0186\n",
      "Epoch 6/500\n",
      "18/25 [====================>.........] - ETA: 0s - loss: 0.6006\n",
      "Epoch 6: val_loss improved from 2.01858 to 1.99711, saving model to problem2_regress_checkpoint.h5\n",
      "25/25 [==============================] - 0s 7ms/step - loss: 0.6092 - val_loss: 1.9971\n",
      "Epoch 7/500\n",
      "16/25 [==================>...........] - ETA: 0s - loss: 0.5926\n",
      "Epoch 7: val_loss improved from 1.99711 to 1.97907, saving model to problem2_regress_checkpoint.h5\n",
      "25/25 [==============================] - 0s 6ms/step - loss: 0.6033 - val_loss: 1.9791\n",
      "Epoch 8/500\n",
      "16/25 [==================>...........] - ETA: 0s - loss: 0.5284\n",
      "Epoch 8: val_loss improved from 1.97907 to 1.96064, saving model to problem2_regress_checkpoint.h5\n",
      "25/25 [==============================] - 0s 6ms/step - loss: 0.5982 - val_loss: 1.9606\n",
      "Epoch 9/500\n",
      "16/25 [==================>...........] - ETA: 0s - loss: 0.6139\n",
      "Epoch 9: val_loss improved from 1.96064 to 1.93371, saving model to problem2_regress_checkpoint.h5\n",
      "25/25 [==============================] - 0s 7ms/step - loss: 0.5941 - val_loss: 1.9337\n",
      "Epoch 10/500\n",
      "16/25 [==================>...........] - ETA: 0s - loss: 0.5643\n",
      "Epoch 10: val_loss improved from 1.93371 to 1.92356, saving model to problem2_regress_checkpoint.h5\n",
      "25/25 [==============================] - 0s 7ms/step - loss: 0.5900 - val_loss: 1.9236\n",
      "Epoch 11/500\n",
      "16/25 [==================>...........] - ETA: 0s - loss: 0.6195\n",
      "Epoch 11: val_loss improved from 1.92356 to 1.91107, saving model to problem2_regress_checkpoint.h5\n",
      "25/25 [==============================] - 0s 6ms/step - loss: 0.5862 - val_loss: 1.9111\n",
      "Epoch 12/500\n",
      "13/25 [==============>...............] - ETA: 0s - loss: 0.5783\n",
      "Epoch 12: val_loss improved from 1.91107 to 1.89389, saving model to problem2_regress_checkpoint.h5\n",
      "25/25 [==============================] - 0s 7ms/step - loss: 0.5813 - val_loss: 1.8939\n",
      "Epoch 13/500\n",
      "16/25 [==================>...........] - ETA: 0s - loss: 0.6089\n",
      "Epoch 13: val_loss improved from 1.89389 to 1.88174, saving model to problem2_regress_checkpoint.h5\n",
      "25/25 [==============================] - 0s 6ms/step - loss: 0.5775 - val_loss: 1.8817\n",
      "Epoch 14/500\n",
      "16/25 [==================>...........] - ETA: 0s - loss: 0.5261\n",
      "Epoch 14: val_loss improved from 1.88174 to 1.87608, saving model to problem2_regress_checkpoint.h5\n",
      "25/25 [==============================] - 0s 7ms/step - loss: 0.5731 - val_loss: 1.8761\n",
      "Epoch 15/500\n",
      "15/25 [=================>............] - ETA: 0s - loss: 0.5596\n",
      "Epoch 15: val_loss improved from 1.87608 to 1.86237, saving model to problem2_regress_checkpoint.h5\n",
      "25/25 [==============================] - 0s 7ms/step - loss: 0.5707 - val_loss: 1.8624\n",
      "Epoch 16/500\n",
      "22/25 [=========================>....] - ETA: 0s - loss: 0.5768\n",
      "Epoch 16: val_loss improved from 1.86237 to 1.85398, saving model to problem2_regress_checkpoint.h5\n",
      "25/25 [==============================] - 0s 12ms/step - loss: 0.5661 - val_loss: 1.8540\n",
      "Epoch 17/500\n",
      "21/25 [========================>.....] - ETA: 0s - loss: 0.5321\n",
      "Epoch 17: val_loss improved from 1.85398 to 1.83733, saving model to problem2_regress_checkpoint.h5\n",
      "25/25 [==============================] - 0s 8ms/step - loss: 0.5628 - val_loss: 1.8373\n",
      "Epoch 18/500\n",
      "13/25 [==============>...............] - ETA: 0s - loss: 0.5461\n",
      "Epoch 18: val_loss improved from 1.83733 to 1.82284, saving model to problem2_regress_checkpoint.h5\n",
      "25/25 [==============================] - 0s 7ms/step - loss: 0.5596 - val_loss: 1.8228\n",
      "Epoch 19/500\n",
      "19/25 [=====================>........] - ETA: 0s - loss: 0.5914\n",
      "Epoch 19: val_loss improved from 1.82284 to 1.82249, saving model to problem2_regress_checkpoint.h5\n",
      "25/25 [==============================] - 0s 10ms/step - loss: 0.5566 - val_loss: 1.8225\n",
      "Epoch 20/500\n",
      "12/25 [=============>................] - ETA: 0s - loss: 0.4709\n",
      "Epoch 20: val_loss improved from 1.82249 to 1.81483, saving model to problem2_regress_checkpoint.h5\n",
      "25/25 [==============================] - 0s 10ms/step - loss: 0.5528 - val_loss: 1.8148\n",
      "Epoch 21/500\n",
      "24/25 [===========================>..] - ETA: 0s - loss: 0.5527\n",
      "Epoch 21: val_loss improved from 1.81483 to 1.80485, saving model to problem2_regress_checkpoint.h5\n",
      "25/25 [==============================] - 0s 8ms/step - loss: 0.5499 - val_loss: 1.8048\n",
      "Epoch 22/500\n",
      "15/25 [=================>............] - ETA: 0s - loss: 0.4723\n",
      "Epoch 22: val_loss improved from 1.80485 to 1.79713, saving model to problem2_regress_checkpoint.h5\n",
      "25/25 [==============================] - 0s 7ms/step - loss: 0.5465 - val_loss: 1.7971\n",
      "Epoch 23/500\n",
      "17/25 [===================>..........] - ETA: 0s - loss: 0.5768\n",
      "Epoch 23: val_loss improved from 1.79713 to 1.79572, saving model to problem2_regress_checkpoint.h5\n",
      "25/25 [==============================] - 0s 7ms/step - loss: 0.5436 - val_loss: 1.7957\n",
      "Epoch 24/500\n",
      "22/25 [=========================>....] - ETA: 0s - loss: 0.5348\n",
      "Epoch 24: val_loss improved from 1.79572 to 1.78665, saving model to problem2_regress_checkpoint.h5\n",
      "25/25 [==============================] - 0s 7ms/step - loss: 0.5408 - val_loss: 1.7867\n",
      "Epoch 25/500\n",
      "20/25 [=======================>......] - ETA: 0s - loss: 0.5199\n",
      "Epoch 25: val_loss improved from 1.78665 to 1.76762, saving model to problem2_regress_checkpoint.h5\n",
      "25/25 [==============================] - 0s 12ms/step - loss: 0.5391 - val_loss: 1.7676\n",
      "Epoch 26/500\n",
      "14/25 [===============>..............] - ETA: 0s - loss: 0.5684\n",
      "Epoch 26: val_loss did not improve from 1.76762\n",
      "25/25 [==============================] - 0s 6ms/step - loss: 0.5340 - val_loss: 1.7747\n",
      "Epoch 27/500\n",
      "16/25 [==================>...........] - ETA: 0s - loss: 0.4855\n",
      "Epoch 27: val_loss did not improve from 1.76762\n",
      "25/25 [==============================] - 0s 5ms/step - loss: 0.5316 - val_loss: 1.7781\n",
      "Epoch 28/500\n",
      "21/25 [========================>.....] - ETA: 0s - loss: 0.5759\n",
      "Epoch 28: val_loss improved from 1.76762 to 1.76447, saving model to problem2_regress_checkpoint.h5\n",
      "25/25 [==============================] - 0s 8ms/step - loss: 0.5272 - val_loss: 1.7645\n",
      "Epoch 29/500\n",
      "15/25 [=================>............] - ETA: 0s - loss: 0.4756\n",
      "Epoch 29: val_loss improved from 1.76447 to 1.76197, saving model to problem2_regress_checkpoint.h5\n",
      "25/25 [==============================] - 0s 7ms/step - loss: 0.5244 - val_loss: 1.7620\n",
      "Epoch 30/500\n",
      "13/25 [==============>...............] - ETA: 0s - loss: 0.5318\n",
      "Epoch 30: val_loss improved from 1.76197 to 1.74764, saving model to problem2_regress_checkpoint.h5\n",
      "25/25 [==============================] - 0s 7ms/step - loss: 0.5228 - val_loss: 1.7476\n",
      "Epoch 31/500\n",
      "14/25 [===============>..............] - ETA: 0s - loss: 0.4874\n",
      "Epoch 31: val_loss improved from 1.74764 to 1.74196, saving model to problem2_regress_checkpoint.h5\n",
      "25/25 [==============================] - 0s 7ms/step - loss: 0.5189 - val_loss: 1.7420\n",
      "Epoch 32/500\n",
      "18/25 [====================>.........] - ETA: 0s - loss: 0.5504\n",
      "Epoch 32: val_loss improved from 1.74196 to 1.73819, saving model to problem2_regress_checkpoint.h5\n",
      "25/25 [==============================] - 0s 9ms/step - loss: 0.5170 - val_loss: 1.7382\n",
      "Epoch 33/500\n",
      "15/25 [=================>............] - ETA: 0s - loss: 0.5618\n",
      "Epoch 33: val_loss did not improve from 1.73819\n",
      "25/25 [==============================] - 0s 6ms/step - loss: 0.5152 - val_loss: 1.7404\n",
      "Epoch 34/500\n",
      "18/25 [====================>.........] - ETA: 0s - loss: 0.4959\n",
      "Epoch 34: val_loss improved from 1.73819 to 1.72594, saving model to problem2_regress_checkpoint.h5\n",
      "25/25 [==============================] - 0s 6ms/step - loss: 0.5125 - val_loss: 1.7259\n",
      "Epoch 35/500\n",
      "16/25 [==================>...........] - ETA: 0s - loss: 0.4600\n",
      "Epoch 35: val_loss improved from 1.72594 to 1.72094, saving model to problem2_regress_checkpoint.h5\n",
      "25/25 [==============================] - 0s 7ms/step - loss: 0.5093 - val_loss: 1.7209\n",
      "Epoch 36/500\n",
      "25/25 [==============================] - ETA: 0s - loss: 0.5071\n",
      "Epoch 36: val_loss improved from 1.72094 to 1.71047, saving model to problem2_regress_checkpoint.h5\n",
      "25/25 [==============================] - 0s 8ms/step - loss: 0.5071 - val_loss: 1.7105\n",
      "Epoch 37/500\n",
      "15/25 [=================>............] - ETA: 0s - loss: 0.4445\n",
      "Epoch 37: val_loss did not improve from 1.71047\n",
      "25/25 [==============================] - 0s 5ms/step - loss: 0.5059 - val_loss: 1.7171\n",
      "Epoch 38/500\n",
      "18/25 [====================>.........] - ETA: 0s - loss: 0.4686\n",
      "Epoch 38: val_loss improved from 1.71047 to 1.70057, saving model to problem2_regress_checkpoint.h5\n",
      "25/25 [==============================] - 0s 6ms/step - loss: 0.5045 - val_loss: 1.7006\n",
      "Epoch 39/500\n",
      "13/25 [==============>...............] - ETA: 0s - loss: 0.5601\n",
      "Epoch 39: val_loss did not improve from 1.70057\n",
      "25/25 [==============================] - 0s 6ms/step - loss: 0.5017 - val_loss: 1.7084\n",
      "Epoch 40/500\n",
      "19/25 [=====================>........] - ETA: 0s - loss: 0.5180\n",
      "Epoch 40: val_loss improved from 1.70057 to 1.69668, saving model to problem2_regress_checkpoint.h5\n",
      "25/25 [==============================] - 0s 6ms/step - loss: 0.4998 - val_loss: 1.6967\n",
      "Epoch 41/500\n",
      "13/25 [==============>...............] - ETA: 0s - loss: 0.4951\n",
      "Epoch 41: val_loss did not improve from 1.69668\n",
      "25/25 [==============================] - 0s 6ms/step - loss: 0.4973 - val_loss: 1.6985\n",
      "Epoch 42/500\n",
      "24/25 [===========================>..] - ETA: 0s - loss: 0.5039\n",
      "Epoch 42: val_loss improved from 1.69668 to 1.69524, saving model to problem2_regress_checkpoint.h5\n",
      "25/25 [==============================] - 0s 8ms/step - loss: 0.4951 - val_loss: 1.6952\n",
      "Epoch 43/500\n",
      "13/25 [==============>...............] - ETA: 0s - loss: 0.5631\n",
      "Epoch 43: val_loss improved from 1.69524 to 1.69240, saving model to problem2_regress_checkpoint.h5\n",
      "25/25 [==============================] - 0s 7ms/step - loss: 0.4939 - val_loss: 1.6924\n",
      "Epoch 44/500\n",
      "14/25 [===============>..............] - ETA: 0s - loss: 0.5350\n",
      "Epoch 44: val_loss improved from 1.69240 to 1.68111, saving model to problem2_regress_checkpoint.h5\n",
      "25/25 [==============================] - 0s 7ms/step - loss: 0.4917 - val_loss: 1.6811\n",
      "Epoch 45/500\n",
      "25/25 [==============================] - ETA: 0s - loss: 0.4905\n",
      "Epoch 45: val_loss did not improve from 1.68111\n",
      "25/25 [==============================] - 0s 6ms/step - loss: 0.4905 - val_loss: 1.6870\n",
      "Epoch 46/500\n",
      "20/25 [=======================>......] - ETA: 0s - loss: 0.4950\n",
      "Epoch 46: val_loss did not improve from 1.68111\n",
      "25/25 [==============================] - 0s 5ms/step - loss: 0.4889 - val_loss: 1.6814\n",
      "Epoch 47/500\n",
      "15/25 [=================>............] - ETA: 0s - loss: 0.4797\n",
      "Epoch 47: val_loss improved from 1.68111 to 1.67973, saving model to problem2_regress_checkpoint.h5\n",
      "25/25 [==============================] - 0s 8ms/step - loss: 0.4870 - val_loss: 1.6797\n",
      "Epoch 48/500\n",
      "11/25 [============>.................] - ETA: 0s - loss: 0.5207\n",
      "Epoch 48: val_loss did not improve from 1.67973\n",
      "25/25 [==============================] - 0s 6ms/step - loss: 0.4854 - val_loss: 1.6821\n",
      "Epoch 49/500\n",
      "15/25 [=================>............] - ETA: 0s - loss: 0.4987\n",
      "Epoch 49: val_loss improved from 1.67973 to 1.67352, saving model to problem2_regress_checkpoint.h5\n",
      "25/25 [==============================] - 0s 8ms/step - loss: 0.4846 - val_loss: 1.6735\n",
      "Epoch 50/500\n",
      "14/25 [===============>..............] - ETA: 0s - loss: 0.4312\n",
      "Epoch 50: val_loss did not improve from 1.67352\n",
      "25/25 [==============================] - 0s 6ms/step - loss: 0.4829 - val_loss: 1.6852\n",
      "Epoch 51/500\n",
      "17/25 [===================>..........] - ETA: 0s - loss: 0.3801\n",
      "Epoch 51: val_loss did not improve from 1.67352\n",
      "25/25 [==============================] - 0s 5ms/step - loss: 0.4824 - val_loss: 1.6768\n",
      "Epoch 52/500\n",
      "15/25 [=================>............] - ETA: 0s - loss: 0.4486\n",
      "Epoch 52: val_loss did not improve from 1.67352\n",
      "25/25 [==============================] - 0s 5ms/step - loss: 0.4808 - val_loss: 1.6859\n",
      "Epoch 53/500\n",
      "19/25 [=====================>........] - ETA: 0s - loss: 0.4782\n",
      "Epoch 53: val_loss did not improve from 1.67352\n",
      "25/25 [==============================] - 0s 5ms/step - loss: 0.4799 - val_loss: 1.6932\n",
      "Epoch 54/500\n",
      "14/25 [===============>..............] - ETA: 0s - loss: 0.4642\n",
      "Epoch 54: val_loss did not improve from 1.67352\n",
      "25/25 [==============================] - 0s 6ms/step - loss: 0.4783 - val_loss: 1.6796\n",
      "Epoch 55/500\n",
      "12/25 [=============>................] - ETA: 0s - loss: 0.5006\n",
      "Epoch 55: val_loss did not improve from 1.67352\n",
      "25/25 [==============================] - 0s 6ms/step - loss: 0.4788 - val_loss: 1.6928\n",
      "Epoch 56/500\n",
      "15/25 [=================>............] - ETA: 0s - loss: 0.4248\n",
      "Epoch 56: val_loss did not improve from 1.67352\n",
      "25/25 [==============================] - 0s 5ms/step - loss: 0.4760 - val_loss: 1.6785\n",
      "Epoch 57/500\n",
      "17/25 [===================>..........] - ETA: 0s - loss: 0.4504\n",
      "Epoch 57: val_loss did not improve from 1.67352\n",
      "25/25 [==============================] - 0s 5ms/step - loss: 0.4752 - val_loss: 1.6836\n",
      "Epoch 58/500\n",
      "18/25 [====================>.........] - ETA: 0s - loss: 0.4537\n",
      "Epoch 58: val_loss did not improve from 1.67352\n",
      "25/25 [==============================] - 0s 8ms/step - loss: 0.4744 - val_loss: 1.6919\n",
      "Epoch 59/500\n",
      "18/25 [====================>.........] - ETA: 0s - loss: 0.5198\n",
      "Epoch 59: val_loss did not improve from 1.67352\n",
      "25/25 [==============================] - 0s 9ms/step - loss: 0.4727 - val_loss: 1.6794\n"
     ]
    }
   ],
   "source": [
    "path_checkpoint = \"problem2_regress_checkpoint.h5\"\n",
    "es_callback = keras.callbacks.EarlyStopping(monitor=\"val_loss\", min_delta=0, patience=10)\n",
    "\n",
    "modelckpt_callback = keras.callbacks.ModelCheckpoint(\n",
    "    monitor=\"val_loss\",\n",
    "    filepath=path_checkpoint,\n",
    "    verbose=1,\n",
    "    # 要同时保存网络结构。\n",
    "    save_weights_only=False,\n",
    "    save_best_only=True,\n",
    ")\n",
    "\n",
    "history = model.fit(\n",
    "    X_train, Y_train,\n",
    "    epochs=epochs,\n",
    "    validation_data=(X_val, Y_val),\n",
    "    callbacks=[es_callback, modelckpt_callback],\n",
    "    batch_size=bs\n",
    ")"
   ]
  },
  {
   "cell_type": "code",
   "execution_count": 196,
   "id": "e784dfa5",
   "metadata": {},
   "outputs": [
    {
     "data": {
      "image/png": "[encoded data removed]",
      "text/plain": [
       "<Figure size 1000x500 with 1 Axes>"
      ]
     },
     "metadata": {},
     "output_type": "display_data"
    }
   ],
   "source": [
    "def visualize_loss(history, title):\n",
    "    loss = history.history[\"loss\"]\n",
    "    val_loss = history.history[\"val_loss\"]\n",
    "    epochs = range(len(loss))\n",
    "    plt.figure(figsize=(10,5))\n",
    "    plt.plot(epochs, loss, \"b\", label=\"Training loss\")\n",
    "    plt.plot(epochs, val_loss, \"r\", label=\"Validation loss\")\n",
    "    plt.title(title)\n",
    "    plt.xlabel(\"Epochs\")\n",
    "    plt.ylabel(\"Loss\")\n",
    "    plt.legend()\n",
    "    plt.show()\n",
    "\n",
    "visualize_loss(history, \"Training and Validation Loss\")"
   ]
  },
  {
   "cell_type": "code",
   "execution_count": 200,
   "id": "321e6e7e",
   "metadata": {},
   "outputs": [
    {
     "name": "stdout",
     "output_type": "stream",
     "text": [
      "4/4 [==============================] - 0s 4ms/step\n"
     ]
    },
    {
     "data": {
      "text/html": [
       "<div>\n",
       "<style scoped>\n",
       "    .dataframe tbody tr th:only-of-type {\n",
       "        vertical-align: middle;\n",
       "    }\n",
       "\n",
       "    .dataframe tbody tr th {\n",
       "        vertical-align: top;\n",
       "    }\n",
       "\n",
       "    .dataframe thead th {\n",
       "        text-align: right;\n",
       "    }\n",
       "</style>\n",
       "<table border=\"1\" class=\"dataframe\">\n",
       "  <thead>\n",
       "    <tr style=\"text-align: right;\">\n",
       "      <th></th>\n",
       "      <th>40cm湿度(kg/m2)</th>\n",
       "    </tr>\n",
       "    <tr>\n",
       "      <th>time</th>\n",
       "      <th></th>\n",
       "    </tr>\n",
       "  </thead>\n",
       "  <tbody>\n",
       "    <tr>\n",
       "      <th>2012-01-01</th>\n",
       "      <td>-0.476042</td>\n",
       "    </tr>\n",
       "    <tr>\n",
       "      <th>2012-02-01</th>\n",
       "      <td>-0.460566</td>\n",
       "    </tr>\n",
       "    <tr>\n",
       "      <th>2012-03-01</th>\n",
       "      <td>-0.456921</td>\n",
       "    </tr>\n",
       "    <tr>\n",
       "      <th>2012-04-01</th>\n",
       "      <td>-0.468253</td>\n",
       "    </tr>\n",
       "    <tr>\n",
       "      <th>2012-05-01</th>\n",
       "      <td>-0.452231</td>\n",
       "    </tr>\n",
       "    <tr>\n",
       "      <th>...</th>\n",
       "      <td>...</td>\n",
       "    </tr>\n",
       "    <tr>\n",
       "      <th>2021-11-01</th>\n",
       "      <td>-0.473091</td>\n",
       "    </tr>\n",
       "    <tr>\n",
       "      <th>2021-12-01</th>\n",
       "      <td>-0.462517</td>\n",
       "    </tr>\n",
       "    <tr>\n",
       "      <th>2022-01-01</th>\n",
       "      <td>-0.458679</td>\n",
       "    </tr>\n",
       "    <tr>\n",
       "      <th>2022-02-01</th>\n",
       "      <td>-0.465213</td>\n",
       "    </tr>\n",
       "    <tr>\n",
       "      <th>2022-03-01</th>\n",
       "      <td>-0.287052</td>\n",
       "    </tr>\n",
       "  </tbody>\n",
       "</table>\n",
       "<p>123 rows × 1 columns</p>\n",
       "</div>"
      ],
      "text/plain": [
       "            40cm湿度(kg/m2)\n",
       "time                     \n",
       "2012-01-01      -0.476042\n",
       "2012-02-01      -0.460566\n",
       "2012-03-01      -0.456921\n",
       "2012-04-01      -0.468253\n",
       "2012-05-01      -0.452231\n",
       "...                   ...\n",
       "2021-11-01      -0.473091\n",
       "2021-12-01      -0.462517\n",
       "2022-01-01      -0.458679\n",
       "2022-02-01      -0.465213\n",
       "2022-03-01      -0.287052\n",
       "\n",
       "[123 rows x 1 columns]"
      ]
     },
     "execution_count": 200,
     "metadata": {},
     "output_type": "execute_result"
    }
   ],
   "source": [
    "pred=model.predict(X)\n",
    "df_pred=pd.DataFrame(data=pred, index=df.index, columns=YCOLS)\n",
    "df_pred"
   ]
  },
  {
   "cell_type": "code",
   "execution_count": 201,
   "id": "9779e575",
   "metadata": {},
   "outputs": [
    {
     "data": {
      "application/vnd.plotly.v1+json": {
       "config": {
        "plotlyServerURL": "https://plot.ly"
       },
       "data": [
        {
         "hovertemplate": "variable=40cm湿度(kg/m2)<br>time=%{x}<br>value=%{y}<extra></extra>",
         "legendgroup": "40cm湿度(kg/m2)",
         "line": {
          "color": "#636efa",
          "dash": "solid"
         },
         "marker": {
          "symbol": "circle"
         },
         "mode": "lines",
         "name": "40cm湿度(kg/m2)",
         "orientation": "v",
         "showlegend": true,
         "type": "scatter",
         "x": [
          "2012-01-01T00:00:00",
          "2012-02-01T00:00:00",
          "2012-03-01T00:00:00",
          "2012-04-01T00:00:00",
          "2012-05-01T00:00:00",
          "2012-06-01T00:00:00",
          "2012-07-01T00:00:00",
          "2012-08-01T00:00:00",
          "2012-09-01T00:00:00",
          "2012-10-01T00:00:00",
          "2012-11-01T00:00:00",
          "2012-12-01T00:00:00",
          "2013-01-01T00:00:00",
          "2013-02-01T00:00:00",
          "2013-03-01T00:00:00",
          "2013-04-01T00:00:00",
          "2013-05-01T00:00:00",
          "2013-06-01T00:00:00",
          "2013-07-01T00:00:00",
          "2013-08-01T00:00:00",
          "2013-09-01T00:00:00",
          "2013-10-01T00:00:00",
          "2013-11-01T00:00:00",
          "2013-12-01T00:00:00",
          "2014-01-01T00:00:00",
          "2014-02-01T00:00:00",
          "2014-03-01T00:00:00",
          "2014-04-01T00:00:00",
          "2014-05-01T00:00:00",
          "2014-06-01T00:00:00",
          "2014-07-01T00:00:00",
          "2014-08-01T00:00:00",
          "2014-09-01T00:00:00",
          "2014-10-01T00:00:00",
          "2014-11-01T00:00:00",
          "2014-12-01T00:00:00",
          "2015-01-01T00:00:00",
          "2015-02-01T00:00:00",
          "2015-03-01T00:00:00",
          "2015-04-01T00:00:00",
          "2015-05-01T00:00:00",
          "2015-06-01T00:00:00",
          "2015-07-01T00:00:00",
          "2015-08-01T00:00:00",
          "2015-09-01T00:00:00",
          "2015-10-01T00:00:00",
          "2015-11-01T00:00:00",
          "2015-12-01T00:00:00",
          "2016-01-01T00:00:00",
          "2016-02-01T00:00:00",
          "2016-03-01T00:00:00",
          "2016-04-01T00:00:00",
          "2016-05-01T00:00:00",
          "2016-06-01T00:00:00",
          "2016-07-01T00:00:00",
          "2016-08-01T00:00:00",
          "2016-09-01T00:00:00",
          "2016-10-01T00:00:00",
          "2016-11-01T00:00:00",
          "2016-12-01T00:00:00",
          "2017-01-01T00:00:00",
          "2017-02-01T00:00:00",
          "2017-03-01T00:00:00",
          "2017-04-01T00:00:00",
          "2017-05-01T00:00:00",
          "2017-06-01T00:00:00",
          "2017-07-01T00:00:00",
          "2017-08-01T00:00:00",
          "2017-09-01T00:00:00",
          "2017-10-01T00:00:00",
          "2017-11-01T00:00:00",
          "2017-12-01T00:00:00",
          "2018-01-01T00:00:00",
          "2018-02-01T00:00:00",
          "2018-03-01T00:00:00",
          "2018-04-01T00:00:00",
          "2018-05-01T00:00:00",
          "2018-06-01T00:00:00",
          "2018-07-01T00:00:00",
          "2018-08-01T00:00:00",
          "2018-09-01T00:00:00",
          "2018-10-01T00:00:00",
          "2018-11-01T00:00:00",
          "2018-12-01T00:00:00",
          "2019-01-01T00:00:00",
          "2019-02-01T00:00:00",
          "2019-03-01T00:00:00",
          "2019-04-01T00:00:00",
          "2019-05-01T00:00:00",
          "2019-06-01T00:00:00",
          "2019-07-01T00:00:00",
          "2019-08-01T00:00:00",
          "2019-09-01T00:00:00",
          "2019-10-01T00:00:00",
          "2019-11-01T00:00:00",
          "2019-12-01T00:00:00",
          "2020-01-01T00:00:00",
          "2020-02-01T00:00:00",
          "2020-03-01T00:00:00",
          "2020-04-01T00:00:00",
          "2020-05-01T00:00:00",
          "2020-06-01T00:00:00",
          "2020-07-01T00:00:00",
          "2020-08-01T00:00:00",
          "2020-09-01T00:00:00",
          "2020-10-01T00:00:00",
          "2020-11-01T00:00:00",
          "2020-12-01T00:00:00",
          "2021-01-01T00:00:00",
          "2021-02-01T00:00:00",
          "2021-03-01T00:00:00",
          "2021-04-01T00:00:00",
          "2021-05-01T00:00:00",
          "2021-06-01T00:00:00",
          "2021-07-01T00:00:00",
          "2021-08-01T00:00:00",
          "2021-09-01T00:00:00",
          "2021-10-01T00:00:00",
          "2021-11-01T00:00:00",
          "2021-12-01T00:00:00",
          "2022-01-01T00:00:00",
          "2022-02-01T00:00:00",
          "2022-03-01T00:00:00"
         ],
         "xaxis": "x",
         "y": [
          -0.4760419428348541,
          -0.4605664014816284,
          -0.4569210708141327,
          -0.46825268864631653,
          -0.4522310793399811,
          0.6953613758087158,
          0.767209529876709,
          -0.062104687094688416,
          0.24166640639305115,
          -0.259583443403244,
          -0.3478653132915497,
          -0.4326460659503937,
          -0.45916396379470825,
          -0.47203513979911804,
          -0.458639532327652,
          -0.47175973653793335,
          -0.4575309455394745,
          0.689272403717041,
          0.8726209402084351,
          0.3472759425640106,
          -0.42691317200660706,
          -0.4722672700881958,
          -0.4694216549396515,
          -0.4913991093635559,
          -0.5014526844024658,
          -0.5150132179260254,
          -0.46962597966194153,
          -0.12345030903816223,
          0.15648718178272247,
          0.4901283085346222,
          0.14993491768836975,
          -0.32598450779914856,
          -0.4585111141204834,
          -0.28025975823402405,
          -0.47587713599205017,
          -0.47386398911476135,
          -0.4869568645954132,
          -0.49630895256996155,
          -0.5159482955932617,
          -0.17541350424289703,
          -0.41770070791244507,
          0.1761438548564911,
          0.2438504993915558,
          -0.13101479411125183,
          0.2831639349460602,
          -0.11105769127607346,
          -0.41770070791244507,
          -0.36944034695625305,
          -0.4575112760066986,
          -0.4671601355075836,
          -0.4614724814891815,
          -0.489762544631958,
          -0.14215920865535736,
          0.21545737981796265,
          0.28753218054771423,
          -0.458639532327652,
          0.041985832154750824,
          0.38536620140075684,
          0.06699775159358978,
          -0.4650709629058838,
          -0.45828258991241455,
          -0.4743315279483795,
          -0.48859354853630066,
          -0.4895287752151489,
          -0.4719935357570648,
          -0.4659995436668396,
          -0.17014490067958832,
          0.17832806706428528,
          -0.4470992982387543,
          -0.4713387191295624,
          -0.464511901140213,
          -0.48602163791656494,
          -0.49817946553230286,
          -0.5082328915596008,
          -0.5201568603515625,
          -0.41770070791244507,
          -0.47103187441825867,
          -0.08020682632923126,
          0.7708974480628967,
          0.6401140093803406,
          0.4859377443790436,
          -0.3404266834259033,
          -0.4584147036075592,
          -0.4890611171722412,
          -0.507999062538147,
          -0.5227286219596863,
          -0.5138442516326904,
          -0.485787957906723,
          -0.03495755046606064,
          0.16085536777973175,
          0.2700594663619995,
          0.30050161480903625,
          -0.4572964310646057,
          -0.4673353433609009,
          -0.47440841794013977,
          -0.45687422156333923,
          -0.46264147758483887,
          -0.47082456946372986,
          -0.4687202572822571,
          -0.4760419428348541,
          0.10792641341686249,
          0.21764153242111206,
          1.0161935091018677,
          0.9392649531364441,
          0.8279895782470703,
          0.12591001391410828,
          -0.259583443403244,
          0.10792641341686249,
          -0.21647894382476807,
          -0.4717734754085541,
          -0.43667349219322205,
          -0.4522310793399811,
          -0.3552887737751007,
          0.3579064905643463,
          1.1326055526733398,
          0.8755958676338196,
          0.9718179106712341,
          0.20016884803771973,
          -0.4730909466743469,
          -0.4625174403190613,
          -0.45867905020713806,
          -0.46521326899528503,
          -0.2870523929595947
         ],
         "yaxis": "y"
        }
       ],
       "layout": {
        "legend": {
         "title": {
          "text": "variable"
         },
         "tracegroupgap": 0
        },
        "margin": {
         "t": 60
        },
        "template": {
         "data": {
          "bar": [
           {
            "error_x": {
             "color": "#2a3f5f"
            },
            "error_y": {
             "color": "#2a3f5f"
            },
            "marker": {
             "line": {
              "color": "#E5ECF6",
              "width": 0.5
             },
             "pattern": {
              "fillmode": "overlay",
              "size": 10,
              "solidity": 0.2
             }
            },
            "type": "bar"
           }
          ],
          "barpolar": [
           {
            "marker": {
             "line": {
              "color": "#E5ECF6",
              "width": 0.5
             },
             "pattern": {
              "fillmode": "overlay",
              "size": 10,
              "solidity": 0.2
             }
            },
            "type": "barpolar"
           }
          ],
          "carpet": [
           {
            "aaxis": {
             "endlinecolor": "#2a3f5f",
             "gridcolor": "white",
             "linecolor": "white",
             "minorgridcolor": "white",
             "startlinecolor": "#2a3f5f"
            },
            "baxis": {
             "endlinecolor": "#2a3f5f",
             "gridcolor": "white",
             "linecolor": "white",
             "minorgridcolor": "white",
             "startlinecolor": "#2a3f5f"
            },
            "type": "carpet"
           }
          ],
          "choropleth": [
           {
            "colorbar": {
             "outlinewidth": 0,
             "ticks": ""
            },
            "type": "choropleth"
           }
          ],
          "contour": [
           {
            "colorbar": {
             "outlinewidth": 0,
             "ticks": ""
            },
            "colorscale": [
             [
              0,
              "#0d0887"
             ],
             [
              0.1111111111111111,
              "#46039f"
             ],
             [
              0.2222222222222222,
              "#7201a8"
             ],
             [
              0.3333333333333333,
              "#9c179e"
             ],
             [
              0.4444444444444444,
              "#bd3786"
             ],
             [
              0.5555555555555556,
              "#d8576b"
             ],
             [
              0.6666666666666666,
              "#ed7953"
             ],
             [
              0.7777777777777778,
              "#fb9f3a"
             ],
             [
              0.8888888888888888,
              "#fdca26"
             ],
             [
              1,
              "#f0f921"
             ]
            ],
            "type": "contour"
           }
          ],
          "contourcarpet": [
           {
            "colorbar": {
             "outlinewidth": 0,
             "ticks": ""
            },
            "type": "contourcarpet"
           }
          ],
          "heatmap": [
           {
            "colorbar": {
             "outlinewidth": 0,
             "ticks": ""
            },
            "colorscale": [
             [
              0,
              "#0d0887"
             ],
             [
              0.1111111111111111,
              "#46039f"
             ],
             [
              0.2222222222222222,
              "#7201a8"
             ],
             [
              0.3333333333333333,
              "#9c179e"
             ],
             [
              0.4444444444444444,
              "#bd3786"
             ],
             [
              0.5555555555555556,
              "#d8576b"
             ],
             [
              0.6666666666666666,
              "#ed7953"
             ],
             [
              0.7777777777777778,
              "#fb9f3a"
             ],
             [
              0.8888888888888888,
              "#fdca26"
             ],
             [
              1,
              "#f0f921"
             ]
            ],
            "type": "heatmap"
           }
          ],
          "heatmapgl": [
           {
            "colorbar": {
             "outlinewidth": 0,
             "ticks": ""
            },
            "colorscale": [
             [
              0,
              "#0d0887"
             ],
             [
              0.1111111111111111,
              "#46039f"
             ],
             [
              0.2222222222222222,
              "#7201a8"
             ],
             [
              0.3333333333333333,
              "#9c179e"
             ],
             [
              0.4444444444444444,
              "#bd3786"
             ],
             [
              0.5555555555555556,
              "#d8576b"
             ],
             [
              0.6666666666666666,
              "#ed7953"
             ],
             [
              0.7777777777777778,
              "#fb9f3a"
             ],
             [
              0.8888888888888888,
              "#fdca26"
             ],
             [
              1,
              "#f0f921"
             ]
            ],
            "type": "heatmapgl"
           }
          ],
          "histogram": [
           {
            "marker": {
             "pattern": {
              "fillmode": "overlay",
              "size": 10,
              "solidity": 0.2
             }
            },
            "type": "histogram"
           }
          ],
          "histogram2d": [
           {
            "colorbar": {
             "outlinewidth": 0,
             "ticks": ""
            },
            "colorscale": [
             [
              0,
              "#0d0887"
             ],
             [
              0.1111111111111111,
              "#46039f"
             ],
             [
              0.2222222222222222,
              "#7201a8"
             ],
             [
              0.3333333333333333,
              "#9c179e"
             ],
             [
              0.4444444444444444,
              "#bd3786"
             ],
             [
              0.5555555555555556,
              "#d8576b"
             ],
             [
              0.6666666666666666,
              "#ed7953"
             ],
             [
              0.7777777777777778,
              "#fb9f3a"
             ],
             [
              0.8888888888888888,
              "#fdca26"
             ],
             [
              1,
              "#f0f921"
             ]
            ],
            "type": "histogram2d"
           }
          ],
          "histogram2dcontour": [
           {
            "colorbar": {
             "outlinewidth": 0,
             "ticks": ""
            },
            "colorscale": [
             [
              0,
              "#0d0887"
             ],
             [
              0.1111111111111111,
              "#46039f"
             ],
             [
              0.2222222222222222,
              "#7201a8"
             ],
             [
              0.3333333333333333,
              "#9c179e"
             ],
             [
              0.4444444444444444,
              "#bd3786"
             ],
             [
              0.5555555555555556,
              "#d8576b"
             ],
             [
              0.6666666666666666,
              "#ed7953"
             ],
             [
              0.7777777777777778,
              "#fb9f3a"
             ],
             [
              0.8888888888888888,
              "#fdca26"
             ],
             [
              1,
              "#f0f921"
             ]
            ],
            "type": "histogram2dcontour"
           }
          ],
          "mesh3d": [
           {
            "colorbar": {
             "outlinewidth": 0,
             "ticks": ""
            },
            "type": "mesh3d"
           }
          ],
          "parcoords": [
           {
            "line": {
             "colorbar": {
              "outlinewidth": 0,
              "ticks": ""
             }
            },
            "type": "parcoords"
           }
          ],
          "pie": [
           {
            "automargin": true,
            "type": "pie"
           }
          ],
          "scatter": [
           {
            "fillpattern": {
             "fillmode": "overlay",
             "size": 10,
             "solidity": 0.2
            },
            "type": "scatter"
           }
          ],
          "scatter3d": [
           {
            "line": {
             "colorbar": {
              "outlinewidth": 0,
              "ticks": ""
             }
            },
            "marker": {
             "colorbar": {
              "outlinewidth": 0,
              "ticks": ""
             }
            },
            "type": "scatter3d"
           }
          ],
          "scattercarpet": [
           {
            "marker": {
             "colorbar": {
              "outlinewidth": 0,
              "ticks": ""
             }
            },
            "type": "scattercarpet"
           }
          ],
          "scattergeo": [
           {
            "marker": {
             "colorbar": {
              "outlinewidth": 0,
              "ticks": ""
             }
            },
            "type": "scattergeo"
           }
          ],
          "scattergl": [
           {
            "marker": {
             "colorbar": {
              "outlinewidth": 0,
              "ticks": ""
             }
            },
            "type": "scattergl"
           }
          ],
          "scattermapbox": [
           {
            "marker": {
             "colorbar": {
              "outlinewidth": 0,
              "ticks": ""
             }
            },
            "type": "scattermapbox"
           }
          ],
          "scatterpolar": [
           {
            "marker": {
             "colorbar": {
              "outlinewidth": 0,
              "ticks": ""
             }
            },
            "type": "scatterpolar"
           }
          ],
          "scatterpolargl": [
           {
            "marker": {
             "colorbar": {
              "outlinewidth": 0,
              "ticks": ""
             }
            },
            "type": "scatterpolargl"
           }
          ],
          "scatterternary": [
           {
            "marker": {
             "colorbar": {
              "outlinewidth": 0,
              "ticks": ""
             }
            },
            "type": "scatterternary"
           }
          ],
          "surface": [
           {
            "colorbar": {
             "outlinewidth": 0,
             "ticks": ""
            },
            "colorscale": [
             [
              0,
              "#0d0887"
             ],
             [
              0.1111111111111111,
              "#46039f"
             ],
             [
              0.2222222222222222,
              "#7201a8"
             ],
             [
              0.3333333333333333,
              "#9c179e"
             ],
             [
              0.4444444444444444,
              "#bd3786"
             ],
             [
              0.5555555555555556,
              "#d8576b"
             ],
             [
              0.6666666666666666,
              "#ed7953"
             ],
             [
              0.7777777777777778,
              "#fb9f3a"
             ],
             [
              0.8888888888888888,
              "#fdca26"
             ],
             [
              1,
              "#f0f921"
             ]
            ],
            "type": "surface"
           }
          ],
          "table": [
           {
            "cells": {
             "fill": {
              "color": "#EBF0F8"
             },
             "line": {
              "color": "white"
             }
            },
            "header": {
             "fill": {
              "color": "#C8D4E3"
             },
             "line": {
              "color": "white"
             }
            },
            "type": "table"
           }
          ]
         },
         "layout": {
          "annotationdefaults": {
           "arrowcolor": "#2a3f5f",
           "arrowhead": 0,
           "arrowwidth": 1
          },
          "autotypenumbers": "strict",
          "coloraxis": {
           "colorbar": {
            "outlinewidth": 0,
            "ticks": ""
           }
          },
          "colorscale": {
           "diverging": [
            [
             0,
             "#8e0152"
            ],
            [
             0.1,
             "#c51b7d"
            ],
            [
             0.2,
             "#de77ae"
            ],
            [
             0.3,
             "#f1b6da"
            ],
            [
             0.4,
             "#fde0ef"
            ],
            [
             0.5,
             "#f7f7f7"
            ],
            [
             0.6,
             "#e6f5d0"
            ],
            [
             0.7,
             "#b8e186"
            ],
            [
             0.8,
             "#7fbc41"
            ],
            [
             0.9,
             "#4d9221"
            ],
            [
             1,
             "#276419"
            ]
           ],
           "sequential": [
            [
             0,
             "#0d0887"
            ],
            [
             0.1111111111111111,
             "#46039f"
            ],
            [
             0.2222222222222222,
             "#7201a8"
            ],
            [
             0.3333333333333333,
             "#9c179e"
            ],
            [
             0.4444444444444444,
             "#bd3786"
            ],
            [
             0.5555555555555556,
             "#d8576b"
            ],
            [
             0.6666666666666666,
             "#ed7953"
            ],
            [
             0.7777777777777778,
             "#fb9f3a"
            ],
            [
             0.8888888888888888,
             "#fdca26"
            ],
            [
             1,
             "#f0f921"
            ]
           ],
           "sequentialminus": [
            [
             0,
             "#0d0887"
            ],
            [
             0.1111111111111111,
             "#46039f"
            ],
            [
             0.2222222222222222,
             "#7201a8"
            ],
            [
             0.3333333333333333,
             "#9c179e"
            ],
            [
             0.4444444444444444,
             "#bd3786"
            ],
            [
             0.5555555555555556,
             "#d8576b"
            ],
            [
             0.6666666666666666,
             "#ed7953"
            ],
            [
             0.7777777777777778,
             "#fb9f3a"
            ],
            [
             0.8888888888888888,
             "#fdca26"
            ],
            [
             1,
             "#f0f921"
            ]
           ]
          },
          "colorway": [
           "#636efa",
           "#EF553B",
           "#00cc96",
           "#ab63fa",
           "#FFA15A",
           "#19d3f3",
           "#FF6692",
           "#B6E880",
           "#FF97FF",
           "#FECB52"
          ],
          "font": {
           "color": "#2a3f5f"
          },
          "geo": {
           "bgcolor": "white",
           "lakecolor": "white",
           "landcolor": "#E5ECF6",
           "showlakes": true,
           "showland": true,
           "subunitcolor": "white"
          },
          "hoverlabel": {
           "align": "left"
          },
          "hovermode": "closest",
          "mapbox": {
           "style": "light"
          },
          "paper_bgcolor": "white",
          "plot_bgcolor": "#E5ECF6",
          "polar": {
           "angularaxis": {
            "gridcolor": "white",
            "linecolor": "white",
            "ticks": ""
           },
           "bgcolor": "#E5ECF6",
           "radialaxis": {
            "gridcolor": "white",
            "linecolor": "white",
            "ticks": ""
           }
          },
          "scene": {
           "xaxis": {
            "backgroundcolor": "#E5ECF6",
            "gridcolor": "white",
            "gridwidth": 2,
            "linecolor": "white",
            "showbackground": true,
            "ticks": "",
            "zerolinecolor": "white"
           },
           "yaxis": {
            "backgroundcolor": "#E5ECF6",
            "gridcolor": "white",
            "gridwidth": 2,
            "linecolor": "white",
            "showbackground": true,
            "ticks": "",
            "zerolinecolor": "white"
           },
           "zaxis": {
            "backgroundcolor": "#E5ECF6",
            "gridcolor": "white",
            "gridwidth": 2,
            "linecolor": "white",
            "showbackground": true,
            "ticks": "",
            "zerolinecolor": "white"
           }
          },
          "shapedefaults": {
           "line": {
            "color": "#2a3f5f"
           }
          },
          "ternary": {
           "aaxis": {
            "gridcolor": "white",
            "linecolor": "white",
            "ticks": ""
           },
           "baxis": {
            "gridcolor": "white",
            "linecolor": "white",
            "ticks": ""
           },
           "bgcolor": "#E5ECF6",
           "caxis": {
            "gridcolor": "white",
            "linecolor": "white",
            "ticks": ""
           }
          },
          "title": {
           "x": 0.05
          },
          "xaxis": {
           "automargin": true,
           "gridcolor": "white",
           "linecolor": "white",
           "ticks": "",
           "title": {
            "standoff": 15
           },
           "zerolinecolor": "white",
           "zerolinewidth": 2
          },
          "yaxis": {
           "automargin": true,
           "gridcolor": "white",
           "linecolor": "white",
           "ticks": "",
           "title": {
            "standoff": 15
           },
           "zerolinecolor": "white",
           "zerolinewidth": 2
          }
         }
        },
        "xaxis": {
         "anchor": "y",
         "domain": [
          0,
          1
         ],
         "title": {
          "text": "time"
         }
        },
        "yaxis": {
         "anchor": "x",
         "domain": [
          0,
          1
         ],
         "title": {
          "text": "value"
         }
        }
       }
      }
     },
     "metadata": {},
     "output_type": "display_data"
    }
   ],
   "source": [
    "px.line(df_pred)"
   ]
  },
  {
   "cell_type": "code",
   "execution_count": 199,
   "id": "f1eed70a",
   "metadata": {},
   "outputs": [
    {
     "data": {
      "application/vnd.plotly.v1+json": {
       "config": {
        "plotlyServerURL": "https://plot.ly"
       },
       "data": [
        {
         "hovertemplate": "variable=40cm湿度(kg/m2)<br>time=%{x}<br>value=%{y}<extra></extra>",
         "legendgroup": "40cm湿度(kg/m2)",
         "line": {
          "color": "#636efa",
          "dash": "solid"
         },
         "marker": {
          "symbol": "circle"
         },
         "mode": "lines",
         "name": "40cm湿度(kg/m2)",
         "orientation": "v",
         "showlegend": true,
         "type": "scatter",
         "x": [
          "2012-01-01T00:00:00",
          "2012-02-01T00:00:00",
          "2012-03-01T00:00:00",
          "2012-04-01T00:00:00",
          "2012-05-01T00:00:00",
          "2012-06-01T00:00:00",
          "2012-07-01T00:00:00",
          "2012-08-01T00:00:00",
          "2012-09-01T00:00:00",
          "2012-10-01T00:00:00",
          "2012-11-01T00:00:00",
          "2012-12-01T00:00:00",
          "2013-01-01T00:00:00",
          "2013-02-01T00:00:00",
          "2013-03-01T00:00:00",
          "2013-04-01T00:00:00",
          "2013-05-01T00:00:00",
          "2013-06-01T00:00:00",
          "2013-07-01T00:00:00",
          "2013-08-01T00:00:00",
          "2013-09-01T00:00:00",
          "2013-10-01T00:00:00",
          "2013-11-01T00:00:00",
          "2013-12-01T00:00:00",
          "2014-01-01T00:00:00",
          "2014-02-01T00:00:00",
          "2014-03-01T00:00:00",
          "2014-04-01T00:00:00",
          "2014-05-01T00:00:00",
          "2014-06-01T00:00:00",
          "2014-07-01T00:00:00",
          "2014-08-01T00:00:00",
          "2014-09-01T00:00:00",
          "2014-10-01T00:00:00",
          "2014-11-01T00:00:00",
          "2014-12-01T00:00:00",
          "2015-01-01T00:00:00",
          "2015-02-01T00:00:00",
          "2015-03-01T00:00:00",
          "2015-04-01T00:00:00",
          "2015-05-01T00:00:00",
          "2015-06-01T00:00:00",
          "2015-07-01T00:00:00",
          "2015-08-01T00:00:00",
          "2015-09-01T00:00:00",
          "2015-10-01T00:00:00",
          "2015-11-01T00:00:00",
          "2015-12-01T00:00:00",
          "2016-01-01T00:00:00",
          "2016-02-01T00:00:00",
          "2016-03-01T00:00:00",
          "2016-04-01T00:00:00",
          "2016-05-01T00:00:00",
          "2016-06-01T00:00:00",
          "2016-07-01T00:00:00",
          "2016-08-01T00:00:00",
          "2016-09-01T00:00:00",
          "2016-10-01T00:00:00",
          "2016-11-01T00:00:00",
          "2016-12-01T00:00:00",
          "2017-01-01T00:00:00",
          "2017-02-01T00:00:00",
          "2017-03-01T00:00:00",
          "2017-04-01T00:00:00",
          "2017-05-01T00:00:00",
          "2017-06-01T00:00:00",
          "2017-07-01T00:00:00",
          "2017-08-01T00:00:00",
          "2017-09-01T00:00:00",
          "2017-10-01T00:00:00",
          "2017-11-01T00:00:00",
          "2017-12-01T00:00:00",
          "2018-01-01T00:00:00",
          "2018-02-01T00:00:00",
          "2018-03-01T00:00:00",
          "2018-04-01T00:00:00",
          "2018-05-01T00:00:00",
          "2018-06-01T00:00:00",
          "2018-07-01T00:00:00",
          "2018-08-01T00:00:00",
          "2018-09-01T00:00:00",
          "2018-10-01T00:00:00",
          "2018-11-01T00:00:00",
          "2018-12-01T00:00:00",
          "2019-01-01T00:00:00",
          "2019-02-01T00:00:00",
          "2019-03-01T00:00:00",
          "2019-04-01T00:00:00",
          "2019-05-01T00:00:00",
          "2019-06-01T00:00:00",
          "2019-07-01T00:00:00",
          "2019-08-01T00:00:00",
          "2019-09-01T00:00:00",
          "2019-10-01T00:00:00",
          "2019-11-01T00:00:00",
          "2019-12-01T00:00:00",
          "2020-01-01T00:00:00",
          "2020-02-01T00:00:00",
          "2020-03-01T00:00:00",
          "2020-04-01T00:00:00",
          "2020-05-01T00:00:00",
          "2020-06-01T00:00:00",
          "2020-07-01T00:00:00",
          "2020-08-01T00:00:00",
          "2020-09-01T00:00:00",
          "2020-10-01T00:00:00",
          "2020-11-01T00:00:00",
          "2020-12-01T00:00:00",
          "2021-01-01T00:00:00",
          "2021-02-01T00:00:00",
          "2021-03-01T00:00:00",
          "2021-04-01T00:00:00",
          "2021-05-01T00:00:00",
          "2021-06-01T00:00:00",
          "2021-07-01T00:00:00",
          "2021-08-01T00:00:00",
          "2021-09-01T00:00:00",
          "2021-10-01T00:00:00",
          "2021-11-01T00:00:00",
          "2021-12-01T00:00:00",
          "2022-01-01T00:00:00",
          "2022-02-01T00:00:00",
          "2022-03-01T00:00:00"
         ],
         "xaxis": "x",
         "y": [
          -1.546133054174414,
          -1.546133054174414,
          -1.546133054174414,
          -1.5649341439152418,
          -1.6643113325453311,
          -0.3844942951875646,
          1.7574870002852956,
          0.343376464778761,
          0.4414107184273627,
          0.014357394314278274,
          0.043901963907007235,
          0.043901963907007235,
          0.043901963907007235,
          0.043901963907007235,
          0.04255902892551982,
          0.02912967911064276,
          -0.2313997072979692,
          0.8402624079292056,
          1.646023396821818,
          0.7664009839473832,
          -0.5523611678735255,
          -0.9471840524309059,
          -0.9606134022457832,
          -0.9619563372272706,
          -0.9619563372272706,
          -0.9619563372272706,
          -0.8316916440229651,
          -0.007129565389525211,
          -0.05547522472308187,
          0.9785847110224376,
          0.307117220278594,
          -0.920325352801152,
          -1.701913512026986,
          -1.1607107144874478,
          -0.8854090432824724,
          -0.8827231733194966,
          -0.8827231733194966,
          -0.8827231733194966,
          -0.8854090432824724,
          -0.9068960029862748,
          -1.0304460212831423,
          -0.4019524499469049,
          0.05598837874039592,
          -0.4610415891323628,
          -0.428811149576659,
          0.5569031268353037,
          0.29100200050074115,
          0.27622971570437665,
          0.27622971570437665,
          0.27622971570437665,
          0.27488678072288925,
          0.2265411213893325,
          0.0009280444994012161,
          0.1499938274445344,
          0.3782927742974416,
          -1.2318862685062957,
          -1.230543333524808,
          0.5824188914835694,
          0.58779063140952,
          0.58779063140952,
          0.58779063140952,
          0.58779063140952,
          0.5864476964280326,
          0.5233297522981115,
          0.19699655179660364,
          -0.5671334526698909,
          -0.8370633839489158,
          -0.5255024682437723,
          -0.9646422071902454,
          -1.1459384296910833,
          -1.1190797300613302,
          -1.1190797300613302,
          -1.1190797300613302,
          -1.1190797300613302,
          -1.1231085350057923,
          -1.1472813646725708,
          -1.230543333524808,
          -0.9686710121347086,
          0.9624694912445846,
          1.3613211807464285,
          0.9893281908743388,
          0.7731156588548213,
          0.4991569226313332,
          0.4951281176868701,
          0.4951281176868701,
          0.4951281176868701,
          0.4924422477238942,
          0.4414107184273627,
          0.31248896020454464,
          0.1956536168151162,
          0.35143407466768745,
          -0.2327426422794566,
          -0.682625861077832,
          -1.2614308380990245,
          -1.1553389745614973,
          -1.1459384296910833,
          -1.1459384296910833,
          -1.1459384296910833,
          -1.1472813646725708,
          -1.1727971293208377,
          -1.1231085350057923,
          -0.32003341607615604,
          1.9092386531934045,
          1.9132674581378681,
          1.9186391980638184,
          1.4096668400799852,
          1.1115352741897178,
          1.0766189646710382,
          1.0766189646710382,
          1.0766189646710382,
          1.0739330947080634,
          1.0014146057077284,
          0.7234270645397771,
          0.7046259747989495,
          2.594135493752125,
          1.8434348391005075,
          2.266459358269129,
          1.6728820964515718,
          1.3143184563943593,
          1.3102896514498958,
          1.3102896514498958,
          1.3102896514498958,
          1.3089467164684083
         ],
         "yaxis": "y"
        }
       ],
       "layout": {
        "legend": {
         "title": {
          "text": "variable"
         },
         "tracegroupgap": 0
        },
        "margin": {
         "t": 60
        },
        "template": {
         "data": {
          "bar": [
           {
            "error_x": {
             "color": "#2a3f5f"
            },
            "error_y": {
             "color": "#2a3f5f"
            },
            "marker": {
             "line": {
              "color": "#E5ECF6",
              "width": 0.5
             },
             "pattern": {
              "fillmode": "overlay",
              "size": 10,
              "solidity": 0.2
             }
            },
            "type": "bar"
           }
          ],
          "barpolar": [
           {
            "marker": {
             "line": {
              "color": "#E5ECF6",
              "width": 0.5
             },
             "pattern": {
              "fillmode": "overlay",
              "size": 10,
              "solidity": 0.2
             }
            },
            "type": "barpolar"
           }
          ],
          "carpet": [
           {
            "aaxis": {
             "endlinecolor": "#2a3f5f",
             "gridcolor": "white",
             "linecolor": "white",
             "minorgridcolor": "white",
             "startlinecolor": "#2a3f5f"
            },
            "baxis": {
             "endlinecolor": "#2a3f5f",
             "gridcolor": "white",
             "linecolor": "white",
             "minorgridcolor": "white",
             "startlinecolor": "#2a3f5f"
            },
            "type": "carpet"
           }
          ],
          "choropleth": [
           {
            "colorbar": {
             "outlinewidth": 0,
             "ticks": ""
            },
            "type": "choropleth"
           }
          ],
          "contour": [
           {
            "colorbar": {
             "outlinewidth": 0,
             "ticks": ""
            },
            "colorscale": [
             [
              0,
              "#0d0887"
             ],
             [
              0.1111111111111111,
              "#46039f"
             ],
             [
              0.2222222222222222,
              "#7201a8"
             ],
             [
              0.3333333333333333,
              "#9c179e"
             ],
             [
              0.4444444444444444,
              "#bd3786"
             ],
             [
              0.5555555555555556,
              "#d8576b"
             ],
             [
              0.6666666666666666,
              "#ed7953"
             ],
             [
              0.7777777777777778,
              "#fb9f3a"
             ],
             [
              0.8888888888888888,
              "#fdca26"
             ],
             [
              1,
              "#f0f921"
             ]
            ],
            "type": "contour"
           }
          ],
          "contourcarpet": [
           {
            "colorbar": {
             "outlinewidth": 0,
             "ticks": ""
            },
            "type": "contourcarpet"
           }
          ],
          "heatmap": [
           {
            "colorbar": {
             "outlinewidth": 0,
             "ticks": ""
            },
            "colorscale": [
             [
              0,
              "#0d0887"
             ],
             [
              0.1111111111111111,
              "#46039f"
             ],
             [
              0.2222222222222222,
              "#7201a8"
             ],
             [
              0.3333333333333333,
              "#9c179e"
             ],
             [
              0.4444444444444444,
              "#bd3786"
             ],
             [
              0.5555555555555556,
              "#d8576b"
             ],
             [
              0.6666666666666666,
              "#ed7953"
             ],
             [
              0.7777777777777778,
              "#fb9f3a"
             ],
             [
              0.8888888888888888,
              "#fdca26"
             ],
             [
              1,
              "#f0f921"
             ]
            ],
            "type": "heatmap"
           }
          ],
          "heatmapgl": [
           {
            "colorbar": {
             "outlinewidth": 0,
             "ticks": ""
            },
            "colorscale": [
             [
              0,
              "#0d0887"
             ],
             [
              0.1111111111111111,
              "#46039f"
             ],
             [
              0.2222222222222222,
              "#7201a8"
             ],
             [
              0.3333333333333333,
              "#9c179e"
             ],
             [
              0.4444444444444444,
              "#bd3786"
             ],
             [
              0.5555555555555556,
              "#d8576b"
             ],
             [
              0.6666666666666666,
              "#ed7953"
             ],
             [
              0.7777777777777778,
              "#fb9f3a"
             ],
             [
              0.8888888888888888,
              "#fdca26"
             ],
             [
              1,
              "#f0f921"
             ]
            ],
            "type": "heatmapgl"
           }
          ],
          "histogram": [
           {
            "marker": {
             "pattern": {
              "fillmode": "overlay",
              "size": 10,
              "solidity": 0.2
             }
            },
            "type": "histogram"
           }
          ],
          "histogram2d": [
           {
            "colorbar": {
             "outlinewidth": 0,
             "ticks": ""
            },
            "colorscale": [
             [
              0,
              "#0d0887"
             ],
             [
              0.1111111111111111,
              "#46039f"
             ],
             [
              0.2222222222222222,
              "#7201a8"
             ],
             [
              0.3333333333333333,
              "#9c179e"
             ],
             [
              0.4444444444444444,
              "#bd3786"
             ],
             [
              0.5555555555555556,
              "#d8576b"
             ],
             [
              0.6666666666666666,
              "#ed7953"
             ],
             [
              0.7777777777777778,
              "#fb9f3a"
             ],
             [
              0.8888888888888888,
              "#fdca26"
             ],
             [
              1,
              "#f0f921"
             ]
            ],
            "type": "histogram2d"
           }
          ],
          "histogram2dcontour": [
           {
            "colorbar": {
             "outlinewidth": 0,
             "ticks": ""
            },
            "colorscale": [
             [
              0,
              "#0d0887"
             ],
             [
              0.1111111111111111,
              "#46039f"
             ],
             [
              0.2222222222222222,
              "#7201a8"
             ],
             [
              0.3333333333333333,
              "#9c179e"
             ],
             [
              0.4444444444444444,
              "#bd3786"
             ],
             [
              0.5555555555555556,
              "#d8576b"
             ],
             [
              0.6666666666666666,
              "#ed7953"
             ],
             [
              0.7777777777777778,
              "#fb9f3a"
             ],
             [
              0.8888888888888888,
              "#fdca26"
             ],
             [
              1,
              "#f0f921"
             ]
            ],
            "type": "histogram2dcontour"
           }
          ],
          "mesh3d": [
           {
            "colorbar": {
             "outlinewidth": 0,
             "ticks": ""
            },
            "type": "mesh3d"
           }
          ],
          "parcoords": [
           {
            "line": {
             "colorbar": {
              "outlinewidth": 0,
              "ticks": ""
             }
            },
            "type": "parcoords"
           }
          ],
          "pie": [
           {
            "automargin": true,
            "type": "pie"
           }
          ],
          "scatter": [
           {
            "fillpattern": {
             "fillmode": "overlay",
             "size": 10,
             "solidity": 0.2
            },
            "type": "scatter"
           }
          ],
          "scatter3d": [
           {
            "line": {
             "colorbar": {
              "outlinewidth": 0,
              "ticks": ""
             }
            },
            "marker": {
             "colorbar": {
              "outlinewidth": 0,
              "ticks": ""
             }
            },
            "type": "scatter3d"
           }
          ],
          "scattercarpet": [
           {
            "marker": {
             "colorbar": {
              "outlinewidth": 0,
              "ticks": ""
             }
            },
            "type": "scattercarpet"
           }
          ],
          "scattergeo": [
           {
            "marker": {
             "colorbar": {
              "outlinewidth": 0,
              "ticks": ""
             }
            },
            "type": "scattergeo"
           }
          ],
          "scattergl": [
           {
            "marker": {
             "colorbar": {
              "outlinewidth": 0,
              "ticks": ""
             }
            },
            "type": "scattergl"
           }
          ],
          "scattermapbox": [
           {
            "marker": {
             "colorbar": {
              "outlinewidth": 0,
              "ticks": ""
             }
            },
            "type": "scattermapbox"
           }
          ],
          "scatterpolar": [
           {
            "marker": {
             "colorbar": {
              "outlinewidth": 0,
              "ticks": ""
             }
            },
            "type": "scatterpolar"
           }
          ],
          "scatterpolargl": [
           {
            "marker": {
             "colorbar": {
              "outlinewidth": 0,
              "ticks": ""
             }
            },
            "type": "scatterpolargl"
           }
          ],
          "scatterternary": [
           {
            "marker": {
             "colorbar": {
              "outlinewidth": 0,
              "ticks": ""
             }
            },
            "type": "scatterternary"
           }
          ],
          "surface": [
           {
            "colorbar": {
             "outlinewidth": 0,
             "ticks": ""
            },
            "colorscale": [
             [
              0,
              "#0d0887"
             ],
             [
              0.1111111111111111,
              "#46039f"
             ],
             [
              0.2222222222222222,
              "#7201a8"
             ],
             [
              0.3333333333333333,
              "#9c179e"
             ],
             [
              0.4444444444444444,
              "#bd3786"
             ],
             [
              0.5555555555555556,
              "#d8576b"
             ],
             [
              0.6666666666666666,
              "#ed7953"
             ],
             [
              0.7777777777777778,
              "#fb9f3a"
             ],
             [
              0.8888888888888888,
              "#fdca26"
             ],
             [
              1,
              "#f0f921"
             ]
            ],
            "type": "surface"
           }
          ],
          "table": [
           {
            "cells": {
             "fill": {
              "color": "#EBF0F8"
             },
             "line": {
              "color": "white"
             }
            },
            "header": {
             "fill": {
              "color": "#C8D4E3"
             },
             "line": {
              "color": "white"
             }
            },
            "type": "table"
           }
          ]
         },
         "layout": {
          "annotationdefaults": {
           "arrowcolor": "#2a3f5f",
           "arrowhead": 0,
           "arrowwidth": 1
          },
          "autotypenumbers": "strict",
          "coloraxis": {
           "colorbar": {
            "outlinewidth": 0,
            "ticks": ""
           }
          },
          "colorscale": {
           "diverging": [
            [
             0,
             "#8e0152"
            ],
            [
             0.1,
             "#c51b7d"
            ],
            [
             0.2,
             "#de77ae"
            ],
            [
             0.3,
             "#f1b6da"
            ],
            [
             0.4,
             "#fde0ef"
            ],
            [
             0.5,
             "#f7f7f7"
            ],
            [
             0.6,
             "#e6f5d0"
            ],
            [
             0.7,
             "#b8e186"
            ],
            [
             0.8,
             "#7fbc41"
            ],
            [
             0.9,
             "#4d9221"
            ],
            [
             1,
             "#276419"
            ]
           ],
           "sequential": [
            [
             0,
             "#0d0887"
            ],
            [
             0.1111111111111111,
             "#46039f"
            ],
            [
             0.2222222222222222,
             "#7201a8"
            ],
            [
             0.3333333333333333,
             "#9c179e"
            ],
            [
             0.4444444444444444,
             "#bd3786"
            ],
            [
             0.5555555555555556,
             "#d8576b"
            ],
            [
             0.6666666666666666,
             "#ed7953"
            ],
            [
             0.7777777777777778,
             "#fb9f3a"
            ],
            [
             0.8888888888888888,
             "#fdca26"
            ],
            [
             1,
             "#f0f921"
            ]
           ],
           "sequentialminus": [
            [
             0,
             "#0d0887"
            ],
            [
             0.1111111111111111,
             "#46039f"
            ],
            [
             0.2222222222222222,
             "#7201a8"
            ],
            [
             0.3333333333333333,
             "#9c179e"
            ],
            [
             0.4444444444444444,
             "#bd3786"
            ],
            [
             0.5555555555555556,
             "#d8576b"
            ],
            [
             0.6666666666666666,
             "#ed7953"
            ],
            [
             0.7777777777777778,
             "#fb9f3a"
            ],
            [
             0.8888888888888888,
             "#fdca26"
            ],
            [
             1,
             "#f0f921"
            ]
           ]
          },
          "colorway": [
           "#636efa",
           "#EF553B",
           "#00cc96",
           "#ab63fa",
           "#FFA15A",
           "#19d3f3",
           "#FF6692",
           "#B6E880",
           "#FF97FF",
           "#FECB52"
          ],
          "font": {
           "color": "#2a3f5f"
          },
          "geo": {
           "bgcolor": "white",
           "lakecolor": "white",
           "landcolor": "#E5ECF6",
           "showlakes": true,
           "showland": true,
           "subunitcolor": "white"
          },
          "hoverlabel": {
           "align": "left"
          },
          "hovermode": "closest",
          "mapbox": {
           "style": "light"
          },
          "paper_bgcolor": "white",
          "plot_bgcolor": "#E5ECF6",
          "polar": {
           "angularaxis": {
            "gridcolor": "white",
            "linecolor": "white",
            "ticks": ""
           },
           "bgcolor": "#E5ECF6",
           "radialaxis": {
            "gridcolor": "white",
            "linecolor": "white",
            "ticks": ""
           }
          },
          "scene": {
           "xaxis": {
            "backgroundcolor": "#E5ECF6",
            "gridcolor": "white",
            "gridwidth": 2,
            "linecolor": "white",
            "showbackground": true,
            "ticks": "",
            "zerolinecolor": "white"
           },
           "yaxis": {
            "backgroundcolor": "#E5ECF6",
            "gridcolor": "white",
            "gridwidth": 2,
            "linecolor": "white",
            "showbackground": true,
            "ticks": "",
            "zerolinecolor": "white"
           },
           "zaxis": {
            "backgroundcolor": "#E5ECF6",
            "gridcolor": "white",
            "gridwidth": 2,
            "linecolor": "white",
            "showbackground": true,
            "ticks": "",
            "zerolinecolor": "white"
           }
          },
          "shapedefaults": {
           "line": {
            "color": "#2a3f5f"
           }
          },
          "ternary": {
           "aaxis": {
            "gridcolor": "white",
            "linecolor": "white",
            "ticks": ""
           },
           "baxis": {
            "gridcolor": "white",
            "linecolor": "white",
            "ticks": ""
           },
           "bgcolor": "#E5ECF6",
           "caxis": {
            "gridcolor": "white",
            "linecolor": "white",
            "ticks": ""
           }
          },
          "title": {
           "x": 0.05
          },
          "xaxis": {
           "automargin": true,
           "gridcolor": "white",
           "linecolor": "white",
           "ticks": "",
           "title": {
            "standoff": 15
           },
           "zerolinecolor": "white",
           "zerolinewidth": 2
          },
          "yaxis": {
           "automargin": true,
           "gridcolor": "white",
           "linecolor": "white",
           "ticks": "",
           "title": {
            "standoff": 15
           },
           "zerolinecolor": "white",
           "zerolinewidth": 2
          }
         }
        },
        "xaxis": {
         "anchor": "y",
         "domain": [
          0,
          1
         ],
         "title": {
          "text": "time"
         }
        },
        "yaxis": {
         "anchor": "x",
         "domain": [
          0,
          1
         ],
         "title": {
          "text": "value"
         }
        }
       }
      }
     },
     "metadata": {},
     "output_type": "display_data"
    }
   ],
   "source": [
    "px.line(df[YCOLS])"
   ]
  }
 ],
 "metadata": {
  "kernelspec": {
   "display_name": "Python 3.7.0 64-bit",
   "language": "python",
   "name": "python3"
  },
  "language_info": {
   "codemirror_mode": {
    "name": "ipython",
    "version": 3
   },
   "file_extension": ".py",
   "mimetype": "text/x-python",
   "name": "python",
   "nbconvert_exporter": "python",
   "pygments_lexer": "ipython3",
   "version": "3.7.0"
  },
  "vscode": {
   "interpreter": {
    "hash": "7333d47a3a2e5eb003ed4862432b269301e4f62a805920b00eb5758860da8060"
   }
  }
 },
 "nbformat": 4,
 "nbformat_minor": 5
}

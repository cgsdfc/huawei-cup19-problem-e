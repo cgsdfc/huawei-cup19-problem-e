{
 "cells": [
  {
   "cell_type": "code",
   "execution_count": 213,
   "id": "74d806f4",
   "metadata": {},
   "outputs": [],
   "source": [
    "import pandas as pd\n",
    "import numpy as np\n",
    "import seaborn as sns\n",
    "from pathlib import Path as P\n",
    "import matplotlib.pyplot as plt\n",
    "plt.rcParams['font.sans-serif'] = ['KaiTi', 'SimHei', 'FangSong']  # 汉字字体,优先使用楷体，如果找不到楷体，则使用黑体\n",
    "plt.rcParams['font.size'] = 12  # 字体大小\n",
    "plt.rcParams['axes.unicode_minus'] = False  # 正常显示负号\n",
    "from collections import defaultdict\n",
    "import plotly.express as px\n",
    "import pickle\n",
    "from sklearn.preprocessing import StandardScaler, MinMaxScaler\n",
    "from sklearn.model_selection import train_test_split\n",
    "\n",
    "import tensorflow.keras as keras"
   ]
  },
  {
   "cell_type": "code",
   "execution_count": 232,
   "id": "a4207b3a",
   "metadata": {},
   "outputs": [],
   "source": [
    "learning_rate=0.0001\n",
    "train_size=0.99\n",
    "bs=1\n",
    "epochs=500"
   ]
  },
  {
   "cell_type": "code",
   "execution_count": 233,
   "id": "e2d95214",
   "metadata": {},
   "outputs": [],
   "source": [
    "df=pd.read_csv('问题2-训练数据-归一化-回归.csv',index_col='time',parse_dates=True)\n",
    "df['T']=100*df['year']+df['month']\n",
    "# df=df.drop(columns='year')"
   ]
  },
  {
   "cell_type": "code",
   "execution_count": 234,
   "id": "550eb32c",
   "metadata": {},
   "outputs": [],
   "source": [
    "YCOLS=['100cm湿度(kg/m2)', '10cm湿度(kg/m2)', '40cm湿度(kg/m2)','200cm湿度(kg/m2)']\n",
    "XCOLS=['month', 'year']\n",
    "\n",
    "X,Y=df[XCOLS].values,df[YCOLS].values\n",
    "\n",
    "X_train,X_val,Y_train,Y_val = train_test_split(X,Y, train_size=train_size, shuffle=False)"
   ]
  },
  {
   "cell_type": "code",
   "execution_count": 235,
   "id": "223f78fc",
   "metadata": {},
   "outputs": [
    {
     "data": {
      "text/plain": [
       "((121, 2), (2, 2), (121, 4), (2, 4))"
      ]
     },
     "execution_count": 235,
     "metadata": {},
     "output_type": "execute_result"
    }
   ],
   "source": [
    "X_train.shape,X_val.shape,Y_train.shape,Y_val.shape"
   ]
  },
  {
   "cell_type": "code",
   "execution_count": 236,
   "id": "a1bed2b3",
   "metadata": {},
   "outputs": [
    {
     "name": "stdout",
     "output_type": "stream",
     "text": [
      "Model: \"model_28\"\n",
      "_________________________________________________________________\n",
      " Layer (type)                Output Shape              Param #   \n",
      "=================================================================\n",
      " input_29 (InputLayer)       [(None, 2)]               0         \n",
      "                                                                 \n",
      " dense_81 (Dense)            (None, 128)               384       \n",
      "                                                                 \n",
      " dense_82 (Dense)            (None, 128)               16512     \n",
      "                                                                 \n",
      " dense_83 (Dense)            (None, 4)                 516       \n",
      "                                                                 \n",
      "=================================================================\n",
      "Total params: 17,412\n",
      "Trainable params: 17,412\n",
      "Non-trainable params: 0\n",
      "_________________________________________________________________\n"
     ]
    }
   ],
   "source": [
    "inputs = keras.layers.Input(shape=(X_train.shape[1], ))\n",
    "x = keras.layers.Dense(128, activation='relu')(inputs)\n",
    "x = keras.layers.Dense(128, activation='relu')(x)\n",
    "outputs = keras.layers.Dense(Y_train.shape[1])(x)\n",
    "\n",
    "model = keras.Model(inputs=inputs, outputs=outputs)\n",
    "model.compile(optimizer=keras.optimizers.Adam(learning_rate=learning_rate), loss=\"mse\")\n",
    "model.summary()"
   ]
  },
  {
   "cell_type": "code",
   "execution_count": 237,
   "id": "4d6def6b",
   "metadata": {
    "scrolled": true
   },
   "outputs": [
    {
     "name": "stdout",
     "output_type": "stream",
     "text": [
      "Epoch 1/500\n",
      "114/121 [===========================>..] - ETA: 0s - loss: 0.1730\n",
      "Epoch 1: val_loss improved from inf to 0.11428, saving model to problem2_regress_checkpoint.h5\n",
      "121/121 [==============================] - 1s 6ms/step - loss: 0.1674 - val_loss: 0.1143\n",
      "Epoch 2/500\n",
      "110/121 [==========================>...] - ETA: 0s - loss: 0.0750\n",
      "Epoch 2: val_loss improved from 0.11428 to 0.10640, saving model to problem2_regress_checkpoint.h5\n",
      "121/121 [==============================] - 0s 4ms/step - loss: 0.0747 - val_loss: 0.1064\n",
      "Epoch 3/500\n",
      "116/121 [===========================>..] - ETA: 0s - loss: 0.0694\n",
      "Epoch 3: val_loss did not improve from 0.10640\n",
      "121/121 [==============================] - 0s 3ms/step - loss: 0.0694 - val_loss: 0.1094\n",
      "Epoch 4/500\n",
      "113/121 [===========================>..] - ETA: 0s - loss: 0.0662\n",
      "Epoch 4: val_loss did not improve from 0.10640\n",
      "121/121 [==============================] - 0s 3ms/step - loss: 0.0670 - val_loss: 0.1768\n",
      "Epoch 5/500\n",
      "104/121 [========================>.....] - ETA: 0s - loss: 0.0670\n",
      "Epoch 5: val_loss did not improve from 0.10640\n",
      "121/121 [==============================] - 0s 3ms/step - loss: 0.0675 - val_loss: 0.1451\n",
      "Epoch 6/500\n",
      "110/121 [==========================>...] - ETA: 0s - loss: 0.0573\n",
      "Epoch 6: val_loss improved from 0.10640 to 0.08181, saving model to problem2_regress_checkpoint.h5\n",
      "121/121 [==============================] - 0s 4ms/step - loss: 0.0602 - val_loss: 0.0818\n",
      "Epoch 7/500\n",
      "121/121 [==============================] - ETA: 0s - loss: 0.0615\n",
      "Epoch 7: val_loss did not improve from 0.08181\n",
      "121/121 [==============================] - 0s 4ms/step - loss: 0.0615 - val_loss: 0.1143\n",
      "Epoch 8/500\n",
      "110/121 [==========================>...] - ETA: 0s - loss: 0.0582\n",
      "Epoch 8: val_loss did not improve from 0.08181\n",
      "121/121 [==============================] - 1s 5ms/step - loss: 0.0588 - val_loss: 0.1620\n",
      "Epoch 9/500\n",
      "117/121 [============================>.] - ETA: 0s - loss: 0.0560\n",
      "Epoch 9: val_loss did not improve from 0.08181\n",
      "121/121 [==============================] - 1s 6ms/step - loss: 0.0571 - val_loss: 0.1227\n",
      "Epoch 10/500\n",
      "121/121 [==============================] - ETA: 0s - loss: 0.0556\n",
      "Epoch 10: val_loss did not improve from 0.08181\n",
      "121/121 [==============================] - 1s 4ms/step - loss: 0.0556 - val_loss: 0.1840\n",
      "Epoch 11/500\n",
      "107/121 [=========================>....] - ETA: 0s - loss: 0.0526\n",
      "Epoch 11: val_loss did not improve from 0.08181\n",
      "121/121 [==============================] - 0s 4ms/step - loss: 0.0531 - val_loss: 0.1287\n",
      "Epoch 12/500\n",
      "114/121 [===========================>..] - ETA: 0s - loss: 0.0509\n",
      "Epoch 12: val_loss did not improve from 0.08181\n",
      "121/121 [==============================] - 0s 3ms/step - loss: 0.0519 - val_loss: 0.1552\n",
      "Epoch 13/500\n",
      "114/121 [===========================>..] - ETA: 0s - loss: 0.0498\n",
      "Epoch 13: val_loss did not improve from 0.08181\n",
      "121/121 [==============================] - 0s 3ms/step - loss: 0.0509 - val_loss: 0.1571\n",
      "Epoch 14/500\n",
      "109/121 [==========================>...] - ETA: 0s - loss: 0.0470\n",
      "Epoch 14: val_loss did not improve from 0.08181\n",
      "121/121 [==============================] - 0s 3ms/step - loss: 0.0500 - val_loss: 0.1296\n",
      "Epoch 15/500\n",
      "115/121 [===========================>..] - ETA: 0s - loss: 0.0491\n",
      "Epoch 15: val_loss did not improve from 0.08181\n",
      "121/121 [==============================] - 0s 3ms/step - loss: 0.0494 - val_loss: 0.1248\n",
      "Epoch 16/500\n",
      "111/121 [==========================>...] - ETA: 0s - loss: 0.0470\n",
      "Epoch 16: val_loss did not improve from 0.08181\n",
      "121/121 [==============================] - 0s 4ms/step - loss: 0.0474 - val_loss: 0.1728\n"
     ]
    }
   ],
   "source": [
    "path_checkpoint = \"problem2_regress_checkpoint.h5\"\n",
    "es_callback = keras.callbacks.EarlyStopping(monitor=\"val_loss\", min_delta=0, patience=10)\n",
    "\n",
    "modelckpt_callback = keras.callbacks.ModelCheckpoint(\n",
    "    monitor=\"val_loss\",\n",
    "    filepath=path_checkpoint,\n",
    "    verbose=1,\n",
    "    # 要同时保存网络结构。\n",
    "    save_weights_only=False,\n",
    "    save_best_only=True,\n",
    ")\n",
    "\n",
    "history = model.fit(\n",
    "    X_train, Y_train,\n",
    "    epochs=epochs,\n",
    "    validation_data=(X_val, Y_val),\n",
    "    callbacks=[es_callback, modelckpt_callback],\n",
    "    batch_size=bs\n",
    ")"
   ]
  },
  {
   "cell_type": "code",
   "execution_count": 238,
   "id": "e784dfa5",
   "metadata": {},
   "outputs": [
    {
     "data": {
      "image/png": "[encoded data removed]",
      "text/plain": [
       "<Figure size 1000x500 with 1 Axes>"
      ]
     },
     "metadata": {},
     "output_type": "display_data"
    }
   ],
   "source": [
    "def visualize_loss(history, title):\n",
    "    loss = history.history[\"loss\"]\n",
    "    val_loss = history.history[\"val_loss\"]\n",
    "    epochs = range(len(loss))\n",
    "    plt.figure(figsize=(10,5))\n",
    "    plt.plot(epochs, loss, \"b\", label=\"Training loss\")\n",
    "    plt.plot(epochs, val_loss, \"r\", label=\"Validation loss\")\n",
    "    plt.title(title)\n",
    "    plt.xlabel(\"Epochs\")\n",
    "    plt.ylabel(\"Loss\")\n",
    "    plt.legend()\n",
    "    plt.show()\n",
    "\n",
    "visualize_loss(history, \"Training and Validation Loss\")"
   ]
  },
  {
   "cell_type": "code",
   "execution_count": 239,
   "id": "321e6e7e",
   "metadata": {},
   "outputs": [
    {
     "name": "stdout",
     "output_type": "stream",
     "text": [
      "4/4 [==============================] - 0s 4ms/step\n"
     ]
    },
    {
     "data": {
      "text/html": [
       "<div>\n",
       "<style scoped>\n",
       "    .dataframe tbody tr th:only-of-type {\n",
       "        vertical-align: middle;\n",
       "    }\n",
       "\n",
       "    .dataframe tbody tr th {\n",
       "        vertical-align: top;\n",
       "    }\n",
       "\n",
       "    .dataframe thead th {\n",
       "        text-align: right;\n",
       "    }\n",
       "</style>\n",
       "<table border=\"1\" class=\"dataframe\">\n",
       "  <thead>\n",
       "    <tr style=\"text-align: right;\">\n",
       "      <th></th>\n",
       "      <th>100cm湿度(kg/m2)</th>\n",
       "      <th>10cm湿度(kg/m2)</th>\n",
       "      <th>40cm湿度(kg/m2)</th>\n",
       "      <th>200cm湿度(kg/m2)</th>\n",
       "    </tr>\n",
       "    <tr>\n",
       "      <th>time</th>\n",
       "      <th></th>\n",
       "      <th></th>\n",
       "      <th></th>\n",
       "      <th></th>\n",
       "    </tr>\n",
       "  </thead>\n",
       "  <tbody>\n",
       "    <tr>\n",
       "      <th>2012-01-01</th>\n",
       "      <td>0.017606</td>\n",
       "      <td>0.118912</td>\n",
       "      <td>0.096094</td>\n",
       "      <td>0.492701</td>\n",
       "    </tr>\n",
       "    <tr>\n",
       "      <th>2012-02-01</th>\n",
       "      <td>0.049652</td>\n",
       "      <td>0.180984</td>\n",
       "      <td>0.140729</td>\n",
       "      <td>0.573976</td>\n",
       "    </tr>\n",
       "    <tr>\n",
       "      <th>2012-03-01</th>\n",
       "      <td>0.082496</td>\n",
       "      <td>0.235823</td>\n",
       "      <td>0.183489</td>\n",
       "      <td>0.638783</td>\n",
       "    </tr>\n",
       "    <tr>\n",
       "      <th>2012-04-01</th>\n",
       "      <td>0.116921</td>\n",
       "      <td>0.282755</td>\n",
       "      <td>0.225554</td>\n",
       "      <td>0.700243</td>\n",
       "    </tr>\n",
       "    <tr>\n",
       "      <th>2012-05-01</th>\n",
       "      <td>0.150206</td>\n",
       "      <td>0.324522</td>\n",
       "      <td>0.263538</td>\n",
       "      <td>0.757669</td>\n",
       "    </tr>\n",
       "    <tr>\n",
       "      <th>...</th>\n",
       "      <td>...</td>\n",
       "      <td>...</td>\n",
       "      <td>...</td>\n",
       "      <td>...</td>\n",
       "    </tr>\n",
       "    <tr>\n",
       "      <th>2021-11-01</th>\n",
       "      <td>0.632673</td>\n",
       "      <td>0.708390</td>\n",
       "      <td>0.781976</td>\n",
       "      <td>0.444147</td>\n",
       "    </tr>\n",
       "    <tr>\n",
       "      <th>2021-12-01</th>\n",
       "      <td>0.627505</td>\n",
       "      <td>0.677187</td>\n",
       "      <td>0.738871</td>\n",
       "      <td>0.483238</td>\n",
       "    </tr>\n",
       "    <tr>\n",
       "      <th>2022-01-01</th>\n",
       "      <td>0.610897</td>\n",
       "      <td>0.237891</td>\n",
       "      <td>0.593959</td>\n",
       "      <td>0.481340</td>\n",
       "    </tr>\n",
       "    <tr>\n",
       "      <th>2022-02-01</th>\n",
       "      <td>0.518696</td>\n",
       "      <td>0.249939</td>\n",
       "      <td>0.566902</td>\n",
       "      <td>0.601257</td>\n",
       "    </tr>\n",
       "    <tr>\n",
       "      <th>2022-03-01</th>\n",
       "      <td>0.460366</td>\n",
       "      <td>0.290746</td>\n",
       "      <td>0.577578</td>\n",
       "      <td>0.665958</td>\n",
       "    </tr>\n",
       "  </tbody>\n",
       "</table>\n",
       "<p>123 rows × 4 columns</p>\n",
       "</div>"
      ],
      "text/plain": [
       "            100cm湿度(kg/m2)  10cm湿度(kg/m2)  40cm湿度(kg/m2)  200cm湿度(kg/m2)\n",
       "time                                                                    \n",
       "2012-01-01        0.017606       0.118912       0.096094        0.492701\n",
       "2012-02-01        0.049652       0.180984       0.140729        0.573976\n",
       "2012-03-01        0.082496       0.235823       0.183489        0.638783\n",
       "2012-04-01        0.116921       0.282755       0.225554        0.700243\n",
       "2012-05-01        0.150206       0.324522       0.263538        0.757669\n",
       "...                    ...            ...            ...             ...\n",
       "2021-11-01        0.632673       0.708390       0.781976        0.444147\n",
       "2021-12-01        0.627505       0.677187       0.738871        0.483238\n",
       "2022-01-01        0.610897       0.237891       0.593959        0.481340\n",
       "2022-02-01        0.518696       0.249939       0.566902        0.601257\n",
       "2022-03-01        0.460366       0.290746       0.577578        0.665958\n",
       "\n",
       "[123 rows x 4 columns]"
      ]
     },
     "execution_count": 239,
     "metadata": {},
     "output_type": "execute_result"
    }
   ],
   "source": [
    "pred=model.predict(X)\n",
    "df_pred=pd.DataFrame(data=pred, index=df.index, columns=YCOLS)\n",
    "df_pred"
   ]
  },
  {
   "cell_type": "code",
   "execution_count": 240,
   "id": "9779e575",
   "metadata": {},
   "outputs": [
    {
     "data": {
      "application/vnd.plotly.v1+json": {
       "config": {
        "plotlyServerURL": "https://plot.ly"
       },
       "data": [
        {
         "hovertemplate": "variable=100cm湿度(kg/m2)<br>time=%{x}<br>value=%{y}<extra></extra>",
         "legendgroup": "100cm湿度(kg/m2)",
         "line": {
          "color": "#636efa",
          "dash": "solid"
         },
         "marker": {
          "symbol": "circle"
         },
         "mode": "lines",
         "name": "100cm湿度(kg/m2)",
         "orientation": "v",
         "showlegend": true,
         "type": "scatter",
         "x": [
          "2012-01-01T00:00:00",
          "2012-02-01T00:00:00",
          "2012-03-01T00:00:00",
          "2012-04-01T00:00:00",
          "2012-05-01T00:00:00",
          "2012-06-01T00:00:00",
          "2012-07-01T00:00:00",
          "2012-08-01T00:00:00",
          "2012-09-01T00:00:00",
          "2012-10-01T00:00:00",
          "2012-11-01T00:00:00",
          "2012-12-01T00:00:00",
          "2013-01-01T00:00:00",
          "2013-02-01T00:00:00",
          "2013-03-01T00:00:00",
          "2013-04-01T00:00:00",
          "2013-05-01T00:00:00",
          "2013-06-01T00:00:00",
          "2013-07-01T00:00:00",
          "2013-08-01T00:00:00",
          "2013-09-01T00:00:00",
          "2013-10-01T00:00:00",
          "2013-11-01T00:00:00",
          "2013-12-01T00:00:00",
          "2014-01-01T00:00:00",
          "2014-02-01T00:00:00",
          "2014-03-01T00:00:00",
          "2014-04-01T00:00:00",
          "2014-05-01T00:00:00",
          "2014-06-01T00:00:00",
          "2014-07-01T00:00:00",
          "2014-08-01T00:00:00",
          "2014-09-01T00:00:00",
          "2014-10-01T00:00:00",
          "2014-11-01T00:00:00",
          "2014-12-01T00:00:00",
          "2015-01-01T00:00:00",
          "2015-02-01T00:00:00",
          "2015-03-01T00:00:00",
          "2015-04-01T00:00:00",
          "2015-05-01T00:00:00",
          "2015-06-01T00:00:00",
          "2015-07-01T00:00:00",
          "2015-08-01T00:00:00",
          "2015-09-01T00:00:00",
          "2015-10-01T00:00:00",
          "2015-11-01T00:00:00",
          "2015-12-01T00:00:00",
          "2016-01-01T00:00:00",
          "2016-02-01T00:00:00",
          "2016-03-01T00:00:00",
          "2016-04-01T00:00:00",
          "2016-05-01T00:00:00",
          "2016-06-01T00:00:00",
          "2016-07-01T00:00:00",
          "2016-08-01T00:00:00",
          "2016-09-01T00:00:00",
          "2016-10-01T00:00:00",
          "2016-11-01T00:00:00",
          "2016-12-01T00:00:00",
          "2017-01-01T00:00:00",
          "2017-02-01T00:00:00",
          "2017-03-01T00:00:00",
          "2017-04-01T00:00:00",
          "2017-05-01T00:00:00",
          "2017-06-01T00:00:00",
          "2017-07-01T00:00:00",
          "2017-08-01T00:00:00",
          "2017-09-01T00:00:00",
          "2017-10-01T00:00:00",
          "2017-11-01T00:00:00",
          "2017-12-01T00:00:00",
          "2018-01-01T00:00:00",
          "2018-02-01T00:00:00",
          "2018-03-01T00:00:00",
          "2018-04-01T00:00:00",
          "2018-05-01T00:00:00",
          "2018-06-01T00:00:00",
          "2018-07-01T00:00:00",
          "2018-08-01T00:00:00",
          "2018-09-01T00:00:00",
          "2018-10-01T00:00:00",
          "2018-11-01T00:00:00",
          "2018-12-01T00:00:00",
          "2019-01-01T00:00:00",
          "2019-02-01T00:00:00",
          "2019-03-01T00:00:00",
          "2019-04-01T00:00:00",
          "2019-05-01T00:00:00",
          "2019-06-01T00:00:00",
          "2019-07-01T00:00:00",
          "2019-08-01T00:00:00",
          "2019-09-01T00:00:00",
          "2019-10-01T00:00:00",
          "2019-11-01T00:00:00",
          "2019-12-01T00:00:00",
          "2020-01-01T00:00:00",
          "2020-02-01T00:00:00",
          "2020-03-01T00:00:00",
          "2020-04-01T00:00:00",
          "2020-05-01T00:00:00",
          "2020-06-01T00:00:00",
          "2020-07-01T00:00:00",
          "2020-08-01T00:00:00",
          "2020-09-01T00:00:00",
          "2020-10-01T00:00:00",
          "2020-11-01T00:00:00",
          "2020-12-01T00:00:00",
          "2021-01-01T00:00:00",
          "2021-02-01T00:00:00",
          "2021-03-01T00:00:00",
          "2021-04-01T00:00:00",
          "2021-05-01T00:00:00",
          "2021-06-01T00:00:00",
          "2021-07-01T00:00:00",
          "2021-08-01T00:00:00",
          "2021-09-01T00:00:00",
          "2021-10-01T00:00:00",
          "2021-11-01T00:00:00",
          "2021-12-01T00:00:00",
          "2022-01-01T00:00:00",
          "2022-02-01T00:00:00",
          "2022-03-01T00:00:00"
         ],
         "xaxis": "x",
         "y": [
          0.01760639250278473,
          0.04965244606137276,
          0.08249595016241074,
          0.11692118644714355,
          0.150206059217453,
          0.18399977684020996,
          0.21542508900165558,
          0.246360644698143,
          0.27681198716163635,
          0.3067139685153961,
          0.33661550283432007,
          0.3665180206298828,
          0.01795371063053608,
          -0.0021854082588106394,
          0.02908598631620407,
          0.06506514549255371,
          0.0997849777340889,
          0.13601522147655487,
          0.17261236906051636,
          0.20739763975143433,
          0.24143843352794647,
          0.2727670669555664,
          0.30326542258262634,
          0.33313798904418945,
          0.0568794421851635,
          0.08596805483102798,
          0.08161503821611404,
          0.04259537532925606,
          0.04585527256131172,
          0.08331577479839325,
          0.11840563267469406,
          0.15304981172084808,
          0.18654319643974304,
          0.22003565728664398,
          0.2533396780490875,
          0.287328839302063,
          0.10468549281358719,
          0.11012421548366547,
          0.15348654985427856,
          0.17389416694641113,
          0.1265709549188614,
          0.08938807249069214,
          0.08499187231063843,
          0.10296905040740967,
          0.13449202477931976,
          0.1679845154285431,
          0.20147742331027985,
          0.23497074842453003,
          0.16682760417461395,
          0.1596662402153015,
          0.16069696843624115,
          0.22217483818531036,
          0.2555452287197113,
          0.22002668678760529,
          0.1713607758283615,
          0.1342737227678299,
          0.12694819271564484,
          0.13837625086307526,
          0.15521931648254395,
          0.18291950225830078,
          0.2372046411037445,
          0.20526380836963654,
          0.2115153968334198,
          0.22016458213329315,
          0.2916802167892456,
          0.3314189910888672,
          0.31286877393722534,
          0.26426857709884644,
          0.2162245362997055,
          0.1796233057975769,
          0.16863606870174408,
          0.17979271709918976,
          0.30945590138435364,
          0.25573962926864624,
          0.25865620374679565,
          0.260408878326416,
          0.284304678440094,
          0.36130496859550476,
          0.40268680453300476,
          0.4016514718532562,
          0.35660141706466675,
          0.3057428300380707,
          0.26139140129089355,
          0.2249736487865448,
          0.3848625123500824,
          0.3137550950050354,
          0.3092759847640991,
          0.31213778257369995,
          0.3105073571205139,
          0.35530588030815125,
          0.43127232789993286,
          0.4738962650299072,
          0.48257434368133545,
          0.44885706901550293,
          0.401029109954834,
          0.3476361632347107,
          0.4602687954902649,
          0.375419020652771,
          0.35278382897377014,
          0.35759228467941284,
          0.36289340257644653,
          0.36290985345840454,
          0.42584967613220215,
          0.501350462436676,
          0.5448328852653503,
          0.560552179813385,
          0.5415062308311462,
          0.49273204803466797,
          0.5356752872467041,
          0.4472756087779999,
          0.4054014980792999,
          0.4083707928657532,
          0.41176411509513855,
          0.41178715229034424,
          0.42062652111053467,
          0.49592429399490356,
          0.5710657238960266,
          0.615282416343689,
          0.6326733231544495,
          0.6275048851966858,
          0.6108969449996948,
          0.5186957120895386,
          0.4603657126426697
         ],
         "yaxis": "y"
        },
        {
         "hovertemplate": "variable=10cm湿度(kg/m2)<br>time=%{x}<br>value=%{y}<extra></extra>",
         "legendgroup": "10cm湿度(kg/m2)",
         "line": {
          "color": "#EF553B",
          "dash": "solid"
         },
         "marker": {
          "symbol": "circle"
         },
         "mode": "lines",
         "name": "10cm湿度(kg/m2)",
         "orientation": "v",
         "showlegend": true,
         "type": "scatter",
         "x": [
          "2012-01-01T00:00:00",
          "2012-02-01T00:00:00",
          "2012-03-01T00:00:00",
          "2012-04-01T00:00:00",
          "2012-05-01T00:00:00",
          "2012-06-01T00:00:00",
          "2012-07-01T00:00:00",
          "2012-08-01T00:00:00",
          "2012-09-01T00:00:00",
          "2012-10-01T00:00:00",
          "2012-11-01T00:00:00",
          "2012-12-01T00:00:00",
          "2013-01-01T00:00:00",
          "2013-02-01T00:00:00",
          "2013-03-01T00:00:00",
          "2013-04-01T00:00:00",
          "2013-05-01T00:00:00",
          "2013-06-01T00:00:00",
          "2013-07-01T00:00:00",
          "2013-08-01T00:00:00",
          "2013-09-01T00:00:00",
          "2013-10-01T00:00:00",
          "2013-11-01T00:00:00",
          "2013-12-01T00:00:00",
          "2014-01-01T00:00:00",
          "2014-02-01T00:00:00",
          "2014-03-01T00:00:00",
          "2014-04-01T00:00:00",
          "2014-05-01T00:00:00",
          "2014-06-01T00:00:00",
          "2014-07-01T00:00:00",
          "2014-08-01T00:00:00",
          "2014-09-01T00:00:00",
          "2014-10-01T00:00:00",
          "2014-11-01T00:00:00",
          "2014-12-01T00:00:00",
          "2015-01-01T00:00:00",
          "2015-02-01T00:00:00",
          "2015-03-01T00:00:00",
          "2015-04-01T00:00:00",
          "2015-05-01T00:00:00",
          "2015-06-01T00:00:00",
          "2015-07-01T00:00:00",
          "2015-08-01T00:00:00",
          "2015-09-01T00:00:00",
          "2015-10-01T00:00:00",
          "2015-11-01T00:00:00",
          "2015-12-01T00:00:00",
          "2016-01-01T00:00:00",
          "2016-02-01T00:00:00",
          "2016-03-01T00:00:00",
          "2016-04-01T00:00:00",
          "2016-05-01T00:00:00",
          "2016-06-01T00:00:00",
          "2016-07-01T00:00:00",
          "2016-08-01T00:00:00",
          "2016-09-01T00:00:00",
          "2016-10-01T00:00:00",
          "2016-11-01T00:00:00",
          "2016-12-01T00:00:00",
          "2017-01-01T00:00:00",
          "2017-02-01T00:00:00",
          "2017-03-01T00:00:00",
          "2017-04-01T00:00:00",
          "2017-05-01T00:00:00",
          "2017-06-01T00:00:00",
          "2017-07-01T00:00:00",
          "2017-08-01T00:00:00",
          "2017-09-01T00:00:00",
          "2017-10-01T00:00:00",
          "2017-11-01T00:00:00",
          "2017-12-01T00:00:00",
          "2018-01-01T00:00:00",
          "2018-02-01T00:00:00",
          "2018-03-01T00:00:00",
          "2018-04-01T00:00:00",
          "2018-05-01T00:00:00",
          "2018-06-01T00:00:00",
          "2018-07-01T00:00:00",
          "2018-08-01T00:00:00",
          "2018-09-01T00:00:00",
          "2018-10-01T00:00:00",
          "2018-11-01T00:00:00",
          "2018-12-01T00:00:00",
          "2019-01-01T00:00:00",
          "2019-02-01T00:00:00",
          "2019-03-01T00:00:00",
          "2019-04-01T00:00:00",
          "2019-05-01T00:00:00",
          "2019-06-01T00:00:00",
          "2019-07-01T00:00:00",
          "2019-08-01T00:00:00",
          "2019-09-01T00:00:00",
          "2019-10-01T00:00:00",
          "2019-11-01T00:00:00",
          "2019-12-01T00:00:00",
          "2020-01-01T00:00:00",
          "2020-02-01T00:00:00",
          "2020-03-01T00:00:00",
          "2020-04-01T00:00:00",
          "2020-05-01T00:00:00",
          "2020-06-01T00:00:00",
          "2020-07-01T00:00:00",
          "2020-08-01T00:00:00",
          "2020-09-01T00:00:00",
          "2020-10-01T00:00:00",
          "2020-11-01T00:00:00",
          "2020-12-01T00:00:00",
          "2021-01-01T00:00:00",
          "2021-02-01T00:00:00",
          "2021-03-01T00:00:00",
          "2021-04-01T00:00:00",
          "2021-05-01T00:00:00",
          "2021-06-01T00:00:00",
          "2021-07-01T00:00:00",
          "2021-08-01T00:00:00",
          "2021-09-01T00:00:00",
          "2021-10-01T00:00:00",
          "2021-11-01T00:00:00",
          "2021-12-01T00:00:00",
          "2022-01-01T00:00:00",
          "2022-02-01T00:00:00",
          "2022-03-01T00:00:00"
         ],
         "xaxis": "x",
         "y": [
          0.1189115047454834,
          0.18098421394824982,
          0.2358226627111435,
          0.28275540471076965,
          0.3245221674442291,
          0.3635101914405823,
          0.3994722068309784,
          0.4347550868988037,
          0.47052738070487976,
          0.5060642957687378,
          0.5416011214256287,
          0.5771379470825195,
          0.12418496608734131,
          0.16748805344104767,
          0.20800219476222992,
          0.2455831617116928,
          0.28326019644737244,
          0.32263416051864624,
          0.36106589436531067,
          0.39774245023727417,
          0.43367600440979004,
          0.4675706923007965,
          0.5020741820335388,
          0.5368697643280029,
          0.1283547431230545,
          0.21371878683567047,
          0.21675942838191986,
          0.2277097851037979,
          0.2718566358089447,
          0.3123796880245209,
          0.3465714156627655,
          0.37950435280799866,
          0.4113216996192932,
          0.4431392252445221,
          0.4754584729671478,
          0.5102920532226562,
          0.12461384385824203,
          0.2251739799976349,
          0.30090999603271484,
          0.2854534089565277,
          0.269667387008667,
          0.2874486744403839,
          0.331788033246994,
          0.37460026144981384,
          0.41159525513648987,
          0.44341227412223816,
          0.4752299189567566,
          0.5070471167564392,
          0.13469289243221283,
          0.20875434577465057,
          0.31972894072532654,
          0.382342666387558,
          0.3581327497959137,
          0.3394715487957001,
          0.3276398181915283,
          0.34468764066696167,
          0.3872750699520111,
          0.43708986043930054,
          0.47177302837371826,
          0.5073202848434448,
          0.14716525375843048,
          0.2020600289106369,
          0.30990591645240784,
          0.41287755966186523,
          0.4624057114124298,
          0.4350823163986206,
          0.4107080101966858,
          0.3909607231616974,
          0.3857199549674988,
          0.4025212228298187,
          0.44328856468200684,
          0.49209246039390564,
          0.16347408294677734,
          0.20267680287361145,
          0.2903881371021271,
          0.40733709931373596,
          0.5019415020942688,
          0.541588306427002,
          0.5152831673622131,
          0.4816225469112396,
          0.4628707468509674,
          0.4442533552646637,
          0.44427865743637085,
          0.4603547155857086,
          0.182377889752388,
          0.2126287817955017,
          0.28357914090156555,
          0.3923892080783844,
          0.5037606358528137,
          0.588356077671051,
          0.6207159757614136,
          0.5954311490058899,
          0.554390549659729,
          0.5335650444030762,
          0.5144965648651123,
          0.5016419291496277,
          0.20128168165683746,
          0.2277134209871292,
          0.2826792299747467,
          0.3720904290676117,
          0.49134573340415955,
          0.6000499129295349,
          0.6689554452896118,
          0.6998257637023926,
          0.6753331422805786,
          0.6293232440948486,
          0.6043093204498291,
          0.5858684778213501,
          0.22018592059612274,
          0.239308163523674,
          0.2861226797103882,
          0.3658362925052643,
          0.47405633330345154,
          0.5887764692306519,
          0.6931556463241577,
          0.7496542930603027,
          0.7785356044769287,
          0.7560427784919739,
          0.7083897590637207,
          0.677187442779541,
          0.23789139091968536,
          0.24993915855884552,
          0.2907463610172272
         ],
         "yaxis": "y"
        },
        {
         "hovertemplate": "variable=40cm湿度(kg/m2)<br>time=%{x}<br>value=%{y}<extra></extra>",
         "legendgroup": "40cm湿度(kg/m2)",
         "line": {
          "color": "#00cc96",
          "dash": "solid"
         },
         "marker": {
          "symbol": "circle"
         },
         "mode": "lines",
         "name": "40cm湿度(kg/m2)",
         "orientation": "v",
         "showlegend": true,
         "type": "scatter",
         "x": [
          "2012-01-01T00:00:00",
          "2012-02-01T00:00:00",
          "2012-03-01T00:00:00",
          "2012-04-01T00:00:00",
          "2012-05-01T00:00:00",
          "2012-06-01T00:00:00",
          "2012-07-01T00:00:00",
          "2012-08-01T00:00:00",
          "2012-09-01T00:00:00",
          "2012-10-01T00:00:00",
          "2012-11-01T00:00:00",
          "2012-12-01T00:00:00",
          "2013-01-01T00:00:00",
          "2013-02-01T00:00:00",
          "2013-03-01T00:00:00",
          "2013-04-01T00:00:00",
          "2013-05-01T00:00:00",
          "2013-06-01T00:00:00",
          "2013-07-01T00:00:00",
          "2013-08-01T00:00:00",
          "2013-09-01T00:00:00",
          "2013-10-01T00:00:00",
          "2013-11-01T00:00:00",
          "2013-12-01T00:00:00",
          "2014-01-01T00:00:00",
          "2014-02-01T00:00:00",
          "2014-03-01T00:00:00",
          "2014-04-01T00:00:00",
          "2014-05-01T00:00:00",
          "2014-06-01T00:00:00",
          "2014-07-01T00:00:00",
          "2014-08-01T00:00:00",
          "2014-09-01T00:00:00",
          "2014-10-01T00:00:00",
          "2014-11-01T00:00:00",
          "2014-12-01T00:00:00",
          "2015-01-01T00:00:00",
          "2015-02-01T00:00:00",
          "2015-03-01T00:00:00",
          "2015-04-01T00:00:00",
          "2015-05-01T00:00:00",
          "2015-06-01T00:00:00",
          "2015-07-01T00:00:00",
          "2015-08-01T00:00:00",
          "2015-09-01T00:00:00",
          "2015-10-01T00:00:00",
          "2015-11-01T00:00:00",
          "2015-12-01T00:00:00",
          "2016-01-01T00:00:00",
          "2016-02-01T00:00:00",
          "2016-03-01T00:00:00",
          "2016-04-01T00:00:00",
          "2016-05-01T00:00:00",
          "2016-06-01T00:00:00",
          "2016-07-01T00:00:00",
          "2016-08-01T00:00:00",
          "2016-09-01T00:00:00",
          "2016-10-01T00:00:00",
          "2016-11-01T00:00:00",
          "2016-12-01T00:00:00",
          "2017-01-01T00:00:00",
          "2017-02-01T00:00:00",
          "2017-03-01T00:00:00",
          "2017-04-01T00:00:00",
          "2017-05-01T00:00:00",
          "2017-06-01T00:00:00",
          "2017-07-01T00:00:00",
          "2017-08-01T00:00:00",
          "2017-09-01T00:00:00",
          "2017-10-01T00:00:00",
          "2017-11-01T00:00:00",
          "2017-12-01T00:00:00",
          "2018-01-01T00:00:00",
          "2018-02-01T00:00:00",
          "2018-03-01T00:00:00",
          "2018-04-01T00:00:00",
          "2018-05-01T00:00:00",
          "2018-06-01T00:00:00",
          "2018-07-01T00:00:00",
          "2018-08-01T00:00:00",
          "2018-09-01T00:00:00",
          "2018-10-01T00:00:00",
          "2018-11-01T00:00:00",
          "2018-12-01T00:00:00",
          "2019-01-01T00:00:00",
          "2019-02-01T00:00:00",
          "2019-03-01T00:00:00",
          "2019-04-01T00:00:00",
          "2019-05-01T00:00:00",
          "2019-06-01T00:00:00",
          "2019-07-01T00:00:00",
          "2019-08-01T00:00:00",
          "2019-09-01T00:00:00",
          "2019-10-01T00:00:00",
          "2019-11-01T00:00:00",
          "2019-12-01T00:00:00",
          "2020-01-01T00:00:00",
          "2020-02-01T00:00:00",
          "2020-03-01T00:00:00",
          "2020-04-01T00:00:00",
          "2020-05-01T00:00:00",
          "2020-06-01T00:00:00",
          "2020-07-01T00:00:00",
          "2020-08-01T00:00:00",
          "2020-09-01T00:00:00",
          "2020-10-01T00:00:00",
          "2020-11-01T00:00:00",
          "2020-12-01T00:00:00",
          "2021-01-01T00:00:00",
          "2021-02-01T00:00:00",
          "2021-03-01T00:00:00",
          "2021-04-01T00:00:00",
          "2021-05-01T00:00:00",
          "2021-06-01T00:00:00",
          "2021-07-01T00:00:00",
          "2021-08-01T00:00:00",
          "2021-09-01T00:00:00",
          "2021-10-01T00:00:00",
          "2021-11-01T00:00:00",
          "2021-12-01T00:00:00",
          "2022-01-01T00:00:00",
          "2022-02-01T00:00:00",
          "2022-03-01T00:00:00"
         ],
         "xaxis": "x",
         "y": [
          0.09609404951334,
          0.1407286375761032,
          0.18348877131938934,
          0.2255542278289795,
          0.2635379433631897,
          0.2973216474056244,
          0.3288238048553467,
          0.35968881845474243,
          0.3911672830581665,
          0.4232538342475891,
          0.45534083247184753,
          0.4874274730682373,
          0.13822269439697266,
          0.15230754017829895,
          0.19298091530799866,
          0.2310808300971985,
          0.26555967330932617,
          0.29578277468681335,
          0.3245617747306824,
          0.35328614711761475,
          0.38200488686561584,
          0.4098387658596039,
          0.4370895028114319,
          0.4652080237865448,
          0.18855559825897217,
          0.23327063024044037,
          0.21421968936920166,
          0.20817142724990845,
          0.2440856248140335,
          0.2924943268299103,
          0.32465407252311707,
          0.35636967420578003,
          0.38805055618286133,
          0.41973111033439636,
          0.45176488161087036,
          0.4819771647453308,
          0.22506633400917053,
          0.2723997235298157,
          0.3231184482574463,
          0.2961967885494232,
          0.26896870136260986,
          0.2641834318637848,
          0.29168546199798584,
          0.34386909008026123,
          0.3837670683860779,
          0.41544777154922485,
          0.44712862372398376,
          0.47880956530570984,
          0.2618471682071686,
          0.2969549000263214,
          0.36658966541290283,
          0.40849876403808594,
          0.384714812040329,
          0.35106605291366577,
          0.32879531383514404,
          0.32152020931243896,
          0.3402046263217926,
          0.385090708732605,
          0.4387972950935364,
          0.4745258092880249,
          0.31139275431632996,
          0.33621951937675476,
          0.38848263025283813,
          0.45490097999572754,
          0.49021071195602417,
          0.4732613265514374,
          0.43430155515670776,
          0.4002768099308014,
          0.3853122889995575,
          0.37808534502983093,
          0.3899860680103302,
          0.43157005310058594,
          0.3670259118080139,
          0.3779298961162567,
          0.4123637080192566,
          0.4800003170967102,
          0.5432131290435791,
          0.5713518857955933,
          0.5593268871307373,
          0.5188787579536438,
          0.48816776275634766,
          0.45538777112960815,
          0.44213050603866577,
          0.4346503019332886,
          0.4238797128200531,
          0.41811737418174744,
          0.446298748254776,
          0.5041072368621826,
          0.5718792676925659,
          0.6289796829223633,
          0.6527090072631836,
          0.6452530026435852,
          0.6070020198822021,
          0.5711720585823059,
          0.5346527099609375,
          0.513970673084259,
          0.4807336926460266,
          0.45935916900634766,
          0.4918094277381897,
          0.5278297066688538,
          0.5964112877845764,
          0.6631298661231995,
          0.7117247581481934,
          0.7341366410255432,
          0.7305250763893127,
          0.6960659623146057,
          0.6520871520042419,
          0.6242048144340515,
          0.5375878214836121,
          0.5128121376037598,
          0.5343835353851318,
          0.5615125298500061,
          0.6193107962608337,
          0.6879286766052246,
          0.752054750919342,
          0.7944369912147522,
          0.8155038952827454,
          0.8147651553153992,
          0.7819761037826538,
          0.7388707399368286,
          0.5939586758613586,
          0.5669015645980835,
          0.577577531337738
         ],
         "yaxis": "y"
        },
        {
         "hovertemplate": "variable=200cm湿度(kg/m2)<br>time=%{x}<br>value=%{y}<extra></extra>",
         "legendgroup": "200cm湿度(kg/m2)",
         "line": {
          "color": "#ab63fa",
          "dash": "solid"
         },
         "marker": {
          "symbol": "circle"
         },
         "mode": "lines",
         "name": "200cm湿度(kg/m2)",
         "orientation": "v",
         "showlegend": true,
         "type": "scatter",
         "x": [
          "2012-01-01T00:00:00",
          "2012-02-01T00:00:00",
          "2012-03-01T00:00:00",
          "2012-04-01T00:00:00",
          "2012-05-01T00:00:00",
          "2012-06-01T00:00:00",
          "2012-07-01T00:00:00",
          "2012-08-01T00:00:00",
          "2012-09-01T00:00:00",
          "2012-10-01T00:00:00",
          "2012-11-01T00:00:00",
          "2012-12-01T00:00:00",
          "2013-01-01T00:00:00",
          "2013-02-01T00:00:00",
          "2013-03-01T00:00:00",
          "2013-04-01T00:00:00",
          "2013-05-01T00:00:00",
          "2013-06-01T00:00:00",
          "2013-07-01T00:00:00",
          "2013-08-01T00:00:00",
          "2013-09-01T00:00:00",
          "2013-10-01T00:00:00",
          "2013-11-01T00:00:00",
          "2013-12-01T00:00:00",
          "2014-01-01T00:00:00",
          "2014-02-01T00:00:00",
          "2014-03-01T00:00:00",
          "2014-04-01T00:00:00",
          "2014-05-01T00:00:00",
          "2014-06-01T00:00:00",
          "2014-07-01T00:00:00",
          "2014-08-01T00:00:00",
          "2014-09-01T00:00:00",
          "2014-10-01T00:00:00",
          "2014-11-01T00:00:00",
          "2014-12-01T00:00:00",
          "2015-01-01T00:00:00",
          "2015-02-01T00:00:00",
          "2015-03-01T00:00:00",
          "2015-04-01T00:00:00",
          "2015-05-01T00:00:00",
          "2015-06-01T00:00:00",
          "2015-07-01T00:00:00",
          "2015-08-01T00:00:00",
          "2015-09-01T00:00:00",
          "2015-10-01T00:00:00",
          "2015-11-01T00:00:00",
          "2015-12-01T00:00:00",
          "2016-01-01T00:00:00",
          "2016-02-01T00:00:00",
          "2016-03-01T00:00:00",
          "2016-04-01T00:00:00",
          "2016-05-01T00:00:00",
          "2016-06-01T00:00:00",
          "2016-07-01T00:00:00",
          "2016-08-01T00:00:00",
          "2016-09-01T00:00:00",
          "2016-10-01T00:00:00",
          "2016-11-01T00:00:00",
          "2016-12-01T00:00:00",
          "2017-01-01T00:00:00",
          "2017-02-01T00:00:00",
          "2017-03-01T00:00:00",
          "2017-04-01T00:00:00",
          "2017-05-01T00:00:00",
          "2017-06-01T00:00:00",
          "2017-07-01T00:00:00",
          "2017-08-01T00:00:00",
          "2017-09-01T00:00:00",
          "2017-10-01T00:00:00",
          "2017-11-01T00:00:00",
          "2017-12-01T00:00:00",
          "2018-01-01T00:00:00",
          "2018-02-01T00:00:00",
          "2018-03-01T00:00:00",
          "2018-04-01T00:00:00",
          "2018-05-01T00:00:00",
          "2018-06-01T00:00:00",
          "2018-07-01T00:00:00",
          "2018-08-01T00:00:00",
          "2018-09-01T00:00:00",
          "2018-10-01T00:00:00",
          "2018-11-01T00:00:00",
          "2018-12-01T00:00:00",
          "2019-01-01T00:00:00",
          "2019-02-01T00:00:00",
          "2019-03-01T00:00:00",
          "2019-04-01T00:00:00",
          "2019-05-01T00:00:00",
          "2019-06-01T00:00:00",
          "2019-07-01T00:00:00",
          "2019-08-01T00:00:00",
          "2019-09-01T00:00:00",
          "2019-10-01T00:00:00",
          "2019-11-01T00:00:00",
          "2019-12-01T00:00:00",
          "2020-01-01T00:00:00",
          "2020-02-01T00:00:00",
          "2020-03-01T00:00:00",
          "2020-04-01T00:00:00",
          "2020-05-01T00:00:00",
          "2020-06-01T00:00:00",
          "2020-07-01T00:00:00",
          "2020-08-01T00:00:00",
          "2020-09-01T00:00:00",
          "2020-10-01T00:00:00",
          "2020-11-01T00:00:00",
          "2020-12-01T00:00:00",
          "2021-01-01T00:00:00",
          "2021-02-01T00:00:00",
          "2021-03-01T00:00:00",
          "2021-04-01T00:00:00",
          "2021-05-01T00:00:00",
          "2021-06-01T00:00:00",
          "2021-07-01T00:00:00",
          "2021-08-01T00:00:00",
          "2021-09-01T00:00:00",
          "2021-10-01T00:00:00",
          "2021-11-01T00:00:00",
          "2021-12-01T00:00:00",
          "2022-01-01T00:00:00",
          "2022-02-01T00:00:00",
          "2022-03-01T00:00:00"
         ],
         "xaxis": "x",
         "y": [
          0.49270129203796387,
          0.5739758610725403,
          0.638782799243927,
          0.7002431750297546,
          0.7576691508293152,
          0.8141029477119446,
          0.873799741268158,
          0.9343628287315369,
          0.9953644871711731,
          1.0574723482131958,
          1.1195801496505737,
          1.1816877126693726,
          0.45926451683044434,
          0.5289214849472046,
          0.571239173412323,
          0.6233724355697632,
          0.6769799590110779,
          0.732361376285553,
          0.7883414030075073,
          0.8464553952217102,
          0.9052044749259949,
          0.9661142230033875,
          1.0273807048797607,
          1.0896106958389282,
          0.4619463086128235,
          0.46426844596862793,
          0.5175083875656128,
          0.583805501461029,
          0.6128692626953125,
          0.6540361642837524,
          0.709632933139801,
          0.7663708329200745,
          0.8244643807411194,
          0.8825585842132568,
          0.9398658871650696,
          0.9975860714912415,
          0.4663938879966736,
          0.4906926155090332,
          0.471340537071228,
          0.4898139238357544,
          0.57376629114151,
          0.6326054930686951,
          0.6621694564819336,
          0.691466212272644,
          0.7400925159454346,
          0.7981863617897034,
          0.8562804460525513,
          0.9143742322921753,
          0.4804524779319763,
          0.523360013961792,
          0.5074446201324463,
          0.4724988341331482,
          0.4738836884498596,
          0.5409338474273682,
          0.6204414963722229,
          0.6807030439376831,
          0.7135884761810303,
          0.7415549755096436,
          0.7749383449554443,
          0.8300021886825562,
          0.4866012930870056,
          0.5369955897331238,
          0.5462785363197327,
          0.5152962803840637,
          0.47429412603378296,
          0.45956164598464966,
          0.5080441236495972,
          0.5998113751411438,
          0.6675652861595154,
          0.728766143321991,
          0.7641007304191589,
          0.7963837385177612,
          0.48712050914764404,
          0.5524464249610901,
          0.580083966255188,
          0.56438148021698,
          0.5270668864250183,
          0.4760172963142395,
          0.4486926198005676,
          0.48473304510116577,
          0.5662790536880493,
          0.6529552936553955,
          0.7154287099838257,
          0.7768290638923645,
          0.4857901930809021,
          0.5721591114997864,
          0.6023736596107483,
          0.6024104356765747,
          0.5818077921867371,
          0.5402780771255493,
          0.478615403175354,
          0.43791866302490234,
          0.4709708094596863,
          0.5334823131561279,
          0.625981330871582,
          0.6976922750473022,
          0.48446011543273926,
          0.589412271976471,
          0.6207754611968994,
          0.636639416217804,
          0.6208636164665222,
          0.5899136662483215,
          0.5446057319641113,
          0.481497585773468,
          0.42759090662002563,
          0.45536375045776367,
          0.5018545985221863,
          0.592349112033844,
          0.483129620552063,
          0.5940369963645935,
          0.6454241275787354,
          0.6598524451255798,
          0.658354640007019,
          0.6389665007591248,
          0.5979202389717102,
          0.5472251772880554,
          0.4840688705444336,
          0.41976553201675415,
          0.44414734840393066,
          0.48323845863342285,
          0.48134034872055054,
          0.6012573838233948,
          0.665957510471344
         ],
         "yaxis": "y"
        }
       ],
       "layout": {
        "legend": {
         "title": {
          "text": "variable"
         },
         "tracegroupgap": 0
        },
        "margin": {
         "t": 60
        },
        "template": {
         "data": {
          "bar": [
           {
            "error_x": {
             "color": "#2a3f5f"
            },
            "error_y": {
             "color": "#2a3f5f"
            },
            "marker": {
             "line": {
              "color": "#E5ECF6",
              "width": 0.5
             },
             "pattern": {
              "fillmode": "overlay",
              "size": 10,
              "solidity": 0.2
             }
            },
            "type": "bar"
           }
          ],
          "barpolar": [
           {
            "marker": {
             "line": {
              "color": "#E5ECF6",
              "width": 0.5
             },
             "pattern": {
              "fillmode": "overlay",
              "size": 10,
              "solidity": 0.2
             }
            },
            "type": "barpolar"
           }
          ],
          "carpet": [
           {
            "aaxis": {
             "endlinecolor": "#2a3f5f",
             "gridcolor": "white",
             "linecolor": "white",
             "minorgridcolor": "white",
             "startlinecolor": "#2a3f5f"
            },
            "baxis": {
             "endlinecolor": "#2a3f5f",
             "gridcolor": "white",
             "linecolor": "white",
             "minorgridcolor": "white",
             "startlinecolor": "#2a3f5f"
            },
            "type": "carpet"
           }
          ],
          "choropleth": [
           {
            "colorbar": {
             "outlinewidth": 0,
             "ticks": ""
            },
            "type": "choropleth"
           }
          ],
          "contour": [
           {
            "colorbar": {
             "outlinewidth": 0,
             "ticks": ""
            },
            "colorscale": [
             [
              0,
              "#0d0887"
             ],
             [
              0.1111111111111111,
              "#46039f"
             ],
             [
              0.2222222222222222,
              "#7201a8"
             ],
             [
              0.3333333333333333,
              "#9c179e"
             ],
             [
              0.4444444444444444,
              "#bd3786"
             ],
             [
              0.5555555555555556,
              "#d8576b"
             ],
             [
              0.6666666666666666,
              "#ed7953"
             ],
             [
              0.7777777777777778,
              "#fb9f3a"
             ],
             [
              0.8888888888888888,
              "#fdca26"
             ],
             [
              1,
              "#f0f921"
             ]
            ],
            "type": "contour"
           }
          ],
          "contourcarpet": [
           {
            "colorbar": {
             "outlinewidth": 0,
             "ticks": ""
            },
            "type": "contourcarpet"
           }
          ],
          "heatmap": [
           {
            "colorbar": {
             "outlinewidth": 0,
             "ticks": ""
            },
            "colorscale": [
             [
              0,
              "#0d0887"
             ],
             [
              0.1111111111111111,
              "#46039f"
             ],
             [
              0.2222222222222222,
              "#7201a8"
             ],
             [
              0.3333333333333333,
              "#9c179e"
             ],
             [
              0.4444444444444444,
              "#bd3786"
             ],
             [
              0.5555555555555556,
              "#d8576b"
             ],
             [
              0.6666666666666666,
              "#ed7953"
             ],
             [
              0.7777777777777778,
              "#fb9f3a"
             ],
             [
              0.8888888888888888,
              "#fdca26"
             ],
             [
              1,
              "#f0f921"
             ]
            ],
            "type": "heatmap"
           }
          ],
          "heatmapgl": [
           {
            "colorbar": {
             "outlinewidth": 0,
             "ticks": ""
            },
            "colorscale": [
             [
              0,
              "#0d0887"
             ],
             [
              0.1111111111111111,
              "#46039f"
             ],
             [
              0.2222222222222222,
              "#7201a8"
             ],
             [
              0.3333333333333333,
              "#9c179e"
             ],
             [
              0.4444444444444444,
              "#bd3786"
             ],
             [
              0.5555555555555556,
              "#d8576b"
             ],
             [
              0.6666666666666666,
              "#ed7953"
             ],
             [
              0.7777777777777778,
              "#fb9f3a"
             ],
             [
              0.8888888888888888,
              "#fdca26"
             ],
             [
              1,
              "#f0f921"
             ]
            ],
            "type": "heatmapgl"
           }
          ],
          "histogram": [
           {
            "marker": {
             "pattern": {
              "fillmode": "overlay",
              "size": 10,
              "solidity": 0.2
             }
            },
            "type": "histogram"
           }
          ],
          "histogram2d": [
           {
            "colorbar": {
             "outlinewidth": 0,
             "ticks": ""
            },
            "colorscale": [
             [
              0,
              "#0d0887"
             ],
             [
              0.1111111111111111,
              "#46039f"
             ],
             [
              0.2222222222222222,
              "#7201a8"
             ],
             [
              0.3333333333333333,
              "#9c179e"
             ],
             [
              0.4444444444444444,
              "#bd3786"
             ],
             [
              0.5555555555555556,
              "#d8576b"
             ],
             [
              0.6666666666666666,
              "#ed7953"
             ],
             [
              0.7777777777777778,
              "#fb9f3a"
             ],
             [
              0.8888888888888888,
              "#fdca26"
             ],
             [
              1,
              "#f0f921"
             ]
            ],
            "type": "histogram2d"
           }
          ],
          "histogram2dcontour": [
           {
            "colorbar": {
             "outlinewidth": 0,
             "ticks": ""
            },
            "colorscale": [
             [
              0,
              "#0d0887"
             ],
             [
              0.1111111111111111,
              "#46039f"
             ],
             [
              0.2222222222222222,
              "#7201a8"
             ],
             [
              0.3333333333333333,
              "#9c179e"
             ],
             [
              0.4444444444444444,
              "#bd3786"
             ],
             [
              0.5555555555555556,
              "#d8576b"
             ],
             [
              0.6666666666666666,
              "#ed7953"
             ],
             [
              0.7777777777777778,
              "#fb9f3a"
             ],
             [
              0.8888888888888888,
              "#fdca26"
             ],
             [
              1,
              "#f0f921"
             ]
            ],
            "type": "histogram2dcontour"
           }
          ],
          "mesh3d": [
           {
            "colorbar": {
             "outlinewidth": 0,
             "ticks": ""
            },
            "type": "mesh3d"
           }
          ],
          "parcoords": [
           {
            "line": {
             "colorbar": {
              "outlinewidth": 0,
              "ticks": ""
             }
            },
            "type": "parcoords"
           }
          ],
          "pie": [
           {
            "automargin": true,
            "type": "pie"
           }
          ],
          "scatter": [
           {
            "fillpattern": {
             "fillmode": "overlay",
             "size": 10,
             "solidity": 0.2
            },
            "type": "scatter"
           }
          ],
          "scatter3d": [
           {
            "line": {
             "colorbar": {
              "outlinewidth": 0,
              "ticks": ""
             }
            },
            "marker": {
             "colorbar": {
              "outlinewidth": 0,
              "ticks": ""
             }
            },
            "type": "scatter3d"
           }
          ],
          "scattercarpet": [
           {
            "marker": {
             "colorbar": {
              "outlinewidth": 0,
              "ticks": ""
             }
            },
            "type": "scattercarpet"
           }
          ],
          "scattergeo": [
           {
            "marker": {
             "colorbar": {
              "outlinewidth": 0,
              "ticks": ""
             }
            },
            "type": "scattergeo"
           }
          ],
          "scattergl": [
           {
            "marker": {
             "colorbar": {
              "outlinewidth": 0,
              "ticks": ""
             }
            },
            "type": "scattergl"
           }
          ],
          "scattermapbox": [
           {
            "marker": {
             "colorbar": {
              "outlinewidth": 0,
              "ticks": ""
             }
            },
            "type": "scattermapbox"
           }
          ],
          "scatterpolar": [
           {
            "marker": {
             "colorbar": {
              "outlinewidth": 0,
              "ticks": ""
             }
            },
            "type": "scatterpolar"
           }
          ],
          "scatterpolargl": [
           {
            "marker": {
             "colorbar": {
              "outlinewidth": 0,
              "ticks": ""
             }
            },
            "type": "scatterpolargl"
           }
          ],
          "scatterternary": [
           {
            "marker": {
             "colorbar": {
              "outlinewidth": 0,
              "ticks": ""
             }
            },
            "type": "scatterternary"
           }
          ],
          "surface": [
           {
            "colorbar": {
             "outlinewidth": 0,
             "ticks": ""
            },
            "colorscale": [
             [
              0,
              "#0d0887"
             ],
             [
              0.1111111111111111,
              "#46039f"
             ],
             [
              0.2222222222222222,
              "#7201a8"
             ],
             [
              0.3333333333333333,
              "#9c179e"
             ],
             [
              0.4444444444444444,
              "#bd3786"
             ],
             [
              0.5555555555555556,
              "#d8576b"
             ],
             [
              0.6666666666666666,
              "#ed7953"
             ],
             [
              0.7777777777777778,
              "#fb9f3a"
             ],
             [
              0.8888888888888888,
              "#fdca26"
             ],
             [
              1,
              "#f0f921"
             ]
            ],
            "type": "surface"
           }
          ],
          "table": [
           {
            "cells": {
             "fill": {
              "color": "#EBF0F8"
             },
             "line": {
              "color": "white"
             }
            },
            "header": {
             "fill": {
              "color": "#C8D4E3"
             },
             "line": {
              "color": "white"
             }
            },
            "type": "table"
           }
          ]
         },
         "layout": {
          "annotationdefaults": {
           "arrowcolor": "#2a3f5f",
           "arrowhead": 0,
           "arrowwidth": 1
          },
          "autotypenumbers": "strict",
          "coloraxis": {
           "colorbar": {
            "outlinewidth": 0,
            "ticks": ""
           }
          },
          "colorscale": {
           "diverging": [
            [
             0,
             "#8e0152"
            ],
            [
             0.1,
             "#c51b7d"
            ],
            [
             0.2,
             "#de77ae"
            ],
            [
             0.3,
             "#f1b6da"
            ],
            [
             0.4,
             "#fde0ef"
            ],
            [
             0.5,
             "#f7f7f7"
            ],
            [
             0.6,
             "#e6f5d0"
            ],
            [
             0.7,
             "#b8e186"
            ],
            [
             0.8,
             "#7fbc41"
            ],
            [
             0.9,
             "#4d9221"
            ],
            [
             1,
             "#276419"
            ]
           ],
           "sequential": [
            [
             0,
             "#0d0887"
            ],
            [
             0.1111111111111111,
             "#46039f"
            ],
            [
             0.2222222222222222,
             "#7201a8"
            ],
            [
             0.3333333333333333,
             "#9c179e"
            ],
            [
             0.4444444444444444,
             "#bd3786"
            ],
            [
             0.5555555555555556,
             "#d8576b"
            ],
            [
             0.6666666666666666,
             "#ed7953"
            ],
            [
             0.7777777777777778,
             "#fb9f3a"
            ],
            [
             0.8888888888888888,
             "#fdca26"
            ],
            [
             1,
             "#f0f921"
            ]
           ],
           "sequentialminus": [
            [
             0,
             "#0d0887"
            ],
            [
             0.1111111111111111,
             "#46039f"
            ],
            [
             0.2222222222222222,
             "#7201a8"
            ],
            [
             0.3333333333333333,
             "#9c179e"
            ],
            [
             0.4444444444444444,
             "#bd3786"
            ],
            [
             0.5555555555555556,
             "#d8576b"
            ],
            [
             0.6666666666666666,
             "#ed7953"
            ],
            [
             0.7777777777777778,
             "#fb9f3a"
            ],
            [
             0.8888888888888888,
             "#fdca26"
            ],
            [
             1,
             "#f0f921"
            ]
           ]
          },
          "colorway": [
           "#636efa",
           "#EF553B",
           "#00cc96",
           "#ab63fa",
           "#FFA15A",
           "#19d3f3",
           "#FF6692",
           "#B6E880",
           "#FF97FF",
           "#FECB52"
          ],
          "font": {
           "color": "#2a3f5f"
          },
          "geo": {
           "bgcolor": "white",
           "lakecolor": "white",
           "landcolor": "#E5ECF6",
           "showlakes": true,
           "showland": true,
           "subunitcolor": "white"
          },
          "hoverlabel": {
           "align": "left"
          },
          "hovermode": "closest",
          "mapbox": {
           "style": "light"
          },
          "paper_bgcolor": "white",
          "plot_bgcolor": "#E5ECF6",
          "polar": {
           "angularaxis": {
            "gridcolor": "white",
            "linecolor": "white",
            "ticks": ""
           },
           "bgcolor": "#E5ECF6",
           "radialaxis": {
            "gridcolor": "white",
            "linecolor": "white",
            "ticks": ""
           }
          },
          "scene": {
           "xaxis": {
            "backgroundcolor": "#E5ECF6",
            "gridcolor": "white",
            "gridwidth": 2,
            "linecolor": "white",
            "showbackground": true,
            "ticks": "",
            "zerolinecolor": "white"
           },
           "yaxis": {
            "backgroundcolor": "#E5ECF6",
            "gridcolor": "white",
            "gridwidth": 2,
            "linecolor": "white",
            "showbackground": true,
            "ticks": "",
            "zerolinecolor": "white"
           },
           "zaxis": {
            "backgroundcolor": "#E5ECF6",
            "gridcolor": "white",
            "gridwidth": 2,
            "linecolor": "white",
            "showbackground": true,
            "ticks": "",
            "zerolinecolor": "white"
           }
          },
          "shapedefaults": {
           "line": {
            "color": "#2a3f5f"
           }
          },
          "ternary": {
           "aaxis": {
            "gridcolor": "white",
            "linecolor": "white",
            "ticks": ""
           },
           "baxis": {
            "gridcolor": "white",
            "linecolor": "white",
            "ticks": ""
           },
           "bgcolor": "#E5ECF6",
           "caxis": {
            "gridcolor": "white",
            "linecolor": "white",
            "ticks": ""
           }
          },
          "title": {
           "x": 0.05
          },
          "xaxis": {
           "automargin": true,
           "gridcolor": "white",
           "linecolor": "white",
           "ticks": "",
           "title": {
            "standoff": 15
           },
           "zerolinecolor": "white",
           "zerolinewidth": 2
          },
          "yaxis": {
           "automargin": true,
           "gridcolor": "white",
           "linecolor": "white",
           "ticks": "",
           "title": {
            "standoff": 15
           },
           "zerolinecolor": "white",
           "zerolinewidth": 2
          }
         }
        },
        "xaxis": {
         "anchor": "y",
         "domain": [
          0,
          1
         ],
         "title": {
          "text": "time"
         }
        },
        "yaxis": {
         "anchor": "x",
         "domain": [
          0,
          1
         ],
         "title": {
          "text": "value"
         }
        }
       }
      }
     },
     "metadata": {},
     "output_type": "display_data"
    }
   ],
   "source": [
    "px.line(df_pred)"
   ]
  },
  {
   "cell_type": "code",
   "execution_count": 241,
   "id": "f1eed70a",
   "metadata": {},
   "outputs": [
    {
     "data": {
      "application/vnd.plotly.v1+json": {
       "config": {
        "plotlyServerURL": "https://plot.ly"
       },
       "data": [
        {
         "hovertemplate": "variable=100cm湿度(kg/m2)<br>time=%{x}<br>value=%{y}<extra></extra>",
         "legendgroup": "100cm湿度(kg/m2)",
         "line": {
          "color": "#636efa",
          "dash": "solid"
         },
         "marker": {
          "symbol": "circle"
         },
         "mode": "lines",
         "name": "100cm湿度(kg/m2)",
         "orientation": "v",
         "showlegend": true,
         "type": "scatter",
         "x": [
          "2012-01-01T00:00:00",
          "2012-02-01T00:00:00",
          "2012-03-01T00:00:00",
          "2012-04-01T00:00:00",
          "2012-05-01T00:00:00",
          "2012-06-01T00:00:00",
          "2012-07-01T00:00:00",
          "2012-08-01T00:00:00",
          "2012-09-01T00:00:00",
          "2012-10-01T00:00:00",
          "2012-11-01T00:00:00",
          "2012-12-01T00:00:00",
          "2013-01-01T00:00:00",
          "2013-02-01T00:00:00",
          "2013-03-01T00:00:00",
          "2013-04-01T00:00:00",
          "2013-05-01T00:00:00",
          "2013-06-01T00:00:00",
          "2013-07-01T00:00:00",
          "2013-08-01T00:00:00",
          "2013-09-01T00:00:00",
          "2013-10-01T00:00:00",
          "2013-11-01T00:00:00",
          "2013-12-01T00:00:00",
          "2014-01-01T00:00:00",
          "2014-02-01T00:00:00",
          "2014-03-01T00:00:00",
          "2014-04-01T00:00:00",
          "2014-05-01T00:00:00",
          "2014-06-01T00:00:00",
          "2014-07-01T00:00:00",
          "2014-08-01T00:00:00",
          "2014-09-01T00:00:00",
          "2014-10-01T00:00:00",
          "2014-11-01T00:00:00",
          "2014-12-01T00:00:00",
          "2015-01-01T00:00:00",
          "2015-02-01T00:00:00",
          "2015-03-01T00:00:00",
          "2015-04-01T00:00:00",
          "2015-05-01T00:00:00",
          "2015-06-01T00:00:00",
          "2015-07-01T00:00:00",
          "2015-08-01T00:00:00",
          "2015-09-01T00:00:00",
          "2015-10-01T00:00:00",
          "2015-11-01T00:00:00",
          "2015-12-01T00:00:00",
          "2016-01-01T00:00:00",
          "2016-02-01T00:00:00",
          "2016-03-01T00:00:00",
          "2016-04-01T00:00:00",
          "2016-05-01T00:00:00",
          "2016-06-01T00:00:00",
          "2016-07-01T00:00:00",
          "2016-08-01T00:00:00",
          "2016-09-01T00:00:00",
          "2016-10-01T00:00:00",
          "2016-11-01T00:00:00",
          "2016-12-01T00:00:00",
          "2017-01-01T00:00:00",
          "2017-02-01T00:00:00",
          "2017-03-01T00:00:00",
          "2017-04-01T00:00:00",
          "2017-05-01T00:00:00",
          "2017-06-01T00:00:00",
          "2017-07-01T00:00:00",
          "2017-08-01T00:00:00",
          "2017-09-01T00:00:00",
          "2017-10-01T00:00:00",
          "2017-11-01T00:00:00",
          "2017-12-01T00:00:00",
          "2018-01-01T00:00:00",
          "2018-02-01T00:00:00",
          "2018-03-01T00:00:00",
          "2018-04-01T00:00:00",
          "2018-05-01T00:00:00",
          "2018-06-01T00:00:00",
          "2018-07-01T00:00:00",
          "2018-08-01T00:00:00",
          "2018-09-01T00:00:00",
          "2018-10-01T00:00:00",
          "2018-11-01T00:00:00",
          "2018-12-01T00:00:00",
          "2019-01-01T00:00:00",
          "2019-02-01T00:00:00",
          "2019-03-01T00:00:00",
          "2019-04-01T00:00:00",
          "2019-05-01T00:00:00",
          "2019-06-01T00:00:00",
          "2019-07-01T00:00:00",
          "2019-08-01T00:00:00",
          "2019-09-01T00:00:00",
          "2019-10-01T00:00:00",
          "2019-11-01T00:00:00",
          "2019-12-01T00:00:00",
          "2020-01-01T00:00:00",
          "2020-02-01T00:00:00",
          "2020-03-01T00:00:00",
          "2020-04-01T00:00:00",
          "2020-05-01T00:00:00",
          "2020-06-01T00:00:00",
          "2020-07-01T00:00:00",
          "2020-08-01T00:00:00",
          "2020-09-01T00:00:00",
          "2020-10-01T00:00:00",
          "2020-11-01T00:00:00",
          "2020-12-01T00:00:00",
          "2021-01-01T00:00:00",
          "2021-02-01T00:00:00",
          "2021-03-01T00:00:00",
          "2021-04-01T00:00:00",
          "2021-05-01T00:00:00",
          "2021-06-01T00:00:00",
          "2021-07-01T00:00:00",
          "2021-08-01T00:00:00",
          "2021-09-01T00:00:00",
          "2021-10-01T00:00:00",
          "2021-11-01T00:00:00",
          "2021-12-01T00:00:00",
          "2022-01-01T00:00:00",
          "2022-02-01T00:00:00",
          "2022-03-01T00:00:00"
         ],
         "xaxis": "x",
         "y": [
          0.008416519866901506,
          0.008416519866901506,
          0.008416519866901506,
          0.00782932080641996,
          0.004306126443531011,
          0.012722646310432515,
          0.2454492072812684,
          0.3697396750831865,
          0.25308279506752784,
          0.2413388138578978,
          0.2477980035231944,
          0.2477980035231944,
          0.2477980035231944,
          0.2477980035231944,
          0.2477980035231944,
          0.2466236054022313,
          0.2293990996281073,
          0.2293990996281073,
          0.4022313564298297,
          0.3638676844783715,
          0.25308279506752784,
          0.20493247210804447,
          0.20336660794676065,
          0.2035623409669212,
          0.2035623409669212,
          0.2035623409669212,
          0.20336660794676065,
          0.19964768056371107,
          0.19338422391857504,
          0.22568017224505765,
          0.2540614601683304,
          0.13681738109219033,
          0.056958308866705824,
          0.040712468193384144,
          0.04227833235466827,
          0.04227833235466827,
          0.04227833235466827,
          0.04227833235466827,
          0.04227833235466827,
          0.041495400274026206,
          0.03738500685065582,
          0.03562340966921118,
          0.0442356625562732,
          0.04090820121354477,
          0.023683695439420616,
          0.07711880994323739,
          0.10628302994715212,
          0.10824036014875717,
          0.10824036014875717,
          0.10824036014875717,
          0.10824036014875717,
          0.10687022900763354,
          0.1006067723624976,
          0.10256410256410264,
          0.11802701115678214,
          0.06165590135055776,
          0.021139166177334023,
          0.047171657858680834,
          0.06850655705617538,
          0.06850655705617538,
          0.06850655705617538,
          0.06850655705617538,
          0.06850655705617538,
          0.0675278919553729,
          0.06361323155216281,
          0.061460168330397365,
          0.037776472890976735,
          0.017615971814445075,
          0.006850655705617603,
          0.003327461342728544,
          0.005480524564493994,
          0.005676257584654509,
          0.005676257584654509,
          0.005676257584654509,
          0.005676257584654509,
          0.005089058524172962,
          0.0025445292620865922,
          0,
          0.0606772362497553,
          0.29007633587786263,
          0.35623409669211203,
          0.3959678997846938,
          0.4169113329418672,
          0.41730279898218825,
          0.41730279898218825,
          0.41730279898218825,
          0.4169113329418672,
          0.4120180074378548,
          0.3904873752201996,
          0.3603444901154824,
          0.30553924447054204,
          0.18966529653552544,
          0.12644353102368364,
          0.0923859855157565,
          0.09199451947543558,
          0.09219025249559598,
          0.09219025249559598,
          0.09219025249559598,
          0.09219025249559598,
          0.09062438833431208,
          0.08455666470933643,
          0.07966333920532398,
          0.2325308279506753,
          0.5120375807398707,
          0.6592288119005678,
          0.7531806615776082,
          0.7807790174202387,
          0.7844979448032883,
          0.7844979448032883,
          0.7844979448032883,
          0.784302211783128,
          0.7747112937952632,
          0.733998825601879,
          0.6639264043844197,
          0.8398903895087099,
          0.8471325112546486,
          0.8800156586416126,
          0.9817968291250732,
          0.999608533959679,
          1,
          1,
          1,
          0.9998042669798396
         ],
         "yaxis": "y"
        },
        {
         "hovertemplate": "variable=10cm湿度(kg/m2)<br>time=%{x}<br>value=%{y}<extra></extra>",
         "legendgroup": "10cm湿度(kg/m2)",
         "line": {
          "color": "#EF553B",
          "dash": "solid"
         },
         "marker": {
          "symbol": "circle"
         },
         "mode": "lines",
         "name": "10cm湿度(kg/m2)",
         "orientation": "v",
         "showlegend": true,
         "type": "scatter",
         "x": [
          "2012-01-01T00:00:00",
          "2012-02-01T00:00:00",
          "2012-03-01T00:00:00",
          "2012-04-01T00:00:00",
          "2012-05-01T00:00:00",
          "2012-06-01T00:00:00",
          "2012-07-01T00:00:00",
          "2012-08-01T00:00:00",
          "2012-09-01T00:00:00",
          "2012-10-01T00:00:00",
          "2012-11-01T00:00:00",
          "2012-12-01T00:00:00",
          "2013-01-01T00:00:00",
          "2013-02-01T00:00:00",
          "2013-03-01T00:00:00",
          "2013-04-01T00:00:00",
          "2013-05-01T00:00:00",
          "2013-06-01T00:00:00",
          "2013-07-01T00:00:00",
          "2013-08-01T00:00:00",
          "2013-09-01T00:00:00",
          "2013-10-01T00:00:00",
          "2013-11-01T00:00:00",
          "2013-12-01T00:00:00",
          "2014-01-01T00:00:00",
          "2014-02-01T00:00:00",
          "2014-03-01T00:00:00",
          "2014-04-01T00:00:00",
          "2014-05-01T00:00:00",
          "2014-06-01T00:00:00",
          "2014-07-01T00:00:00",
          "2014-08-01T00:00:00",
          "2014-09-01T00:00:00",
          "2014-10-01T00:00:00",
          "2014-11-01T00:00:00",
          "2014-12-01T00:00:00",
          "2015-01-01T00:00:00",
          "2015-02-01T00:00:00",
          "2015-03-01T00:00:00",
          "2015-04-01T00:00:00",
          "2015-05-01T00:00:00",
          "2015-06-01T00:00:00",
          "2015-07-01T00:00:00",
          "2015-08-01T00:00:00",
          "2015-09-01T00:00:00",
          "2015-10-01T00:00:00",
          "2015-11-01T00:00:00",
          "2015-12-01T00:00:00",
          "2016-01-01T00:00:00",
          "2016-02-01T00:00:00",
          "2016-03-01T00:00:00",
          "2016-04-01T00:00:00",
          "2016-05-01T00:00:00",
          "2016-06-01T00:00:00",
          "2016-07-01T00:00:00",
          "2016-08-01T00:00:00",
          "2016-09-01T00:00:00",
          "2016-10-01T00:00:00",
          "2016-11-01T00:00:00",
          "2016-12-01T00:00:00",
          "2017-01-01T00:00:00",
          "2017-02-01T00:00:00",
          "2017-03-01T00:00:00",
          "2017-04-01T00:00:00",
          "2017-05-01T00:00:00",
          "2017-06-01T00:00:00",
          "2017-07-01T00:00:00",
          "2017-08-01T00:00:00",
          "2017-09-01T00:00:00",
          "2017-10-01T00:00:00",
          "2017-11-01T00:00:00",
          "2017-12-01T00:00:00",
          "2018-01-01T00:00:00",
          "2018-02-01T00:00:00",
          "2018-03-01T00:00:00",
          "2018-04-01T00:00:00",
          "2018-05-01T00:00:00",
          "2018-06-01T00:00:00",
          "2018-07-01T00:00:00",
          "2018-08-01T00:00:00",
          "2018-09-01T00:00:00",
          "2018-10-01T00:00:00",
          "2018-11-01T00:00:00",
          "2018-12-01T00:00:00",
          "2019-01-01T00:00:00",
          "2019-02-01T00:00:00",
          "2019-03-01T00:00:00",
          "2019-04-01T00:00:00",
          "2019-05-01T00:00:00",
          "2019-06-01T00:00:00",
          "2019-07-01T00:00:00",
          "2019-08-01T00:00:00",
          "2019-09-01T00:00:00",
          "2019-10-01T00:00:00",
          "2019-11-01T00:00:00",
          "2019-12-01T00:00:00",
          "2020-01-01T00:00:00",
          "2020-02-01T00:00:00",
          "2020-03-01T00:00:00",
          "2020-04-01T00:00:00",
          "2020-05-01T00:00:00",
          "2020-06-01T00:00:00",
          "2020-07-01T00:00:00",
          "2020-08-01T00:00:00",
          "2020-09-01T00:00:00",
          "2020-10-01T00:00:00",
          "2020-11-01T00:00:00",
          "2020-12-01T00:00:00",
          "2021-01-01T00:00:00",
          "2021-02-01T00:00:00",
          "2021-03-01T00:00:00",
          "2021-04-01T00:00:00",
          "2021-05-01T00:00:00",
          "2021-06-01T00:00:00",
          "2021-07-01T00:00:00",
          "2021-08-01T00:00:00",
          "2021-09-01T00:00:00",
          "2021-10-01T00:00:00",
          "2021-11-01T00:00:00",
          "2021-12-01T00:00:00",
          "2022-01-01T00:00:00",
          "2022-02-01T00:00:00",
          "2022-03-01T00:00:00"
         ],
         "xaxis": "x",
         "y": [
          0.3282504012841092,
          0.2696629213483146,
          0.2375601926163724,
          0.1869983948635634,
          0.3643659711075442,
          0.7736757624398074,
          0.8025682182985554,
          0.4911717495987158,
          0.6003210272873194,
          0.4333868378812198,
          0.4133226324237561,
          0.3836276083467094,
          0.3571428571428572,
          0.3138041733547352,
          0.2576243980738362,
          0.1749598715890851,
          0.2479935794542536,
          0.7712680577849116,
          0.8587479935794542,
          0.6396468699839486,
          0.3892455858747994,
          0.3146067415730338,
          0.1829855537720706,
          0.1075441412520064,
          0.0730337078651686,
          0.026484751203852408,
          0.346709470304976,
          0.4703049759229534,
          0.5690208667736758,
          0.6942215088282504,
          0.56661316211878,
          0.4181380417335474,
          0.2568218298555376,
          0.4285714285714286,
          0.3274478330658106,
          0.1677367576243981,
          0.12279293739967888,
          0.0906902086677367,
          0.0232744783306581,
          0.455056179775281,
          0.3940609951845908,
          0.5762439807383628,
          0.6011235955056178,
          0.4678972712680578,
          0.6155698234349918,
          0.4743178170144462,
          0.3940609951845908,
          0.4085072231139646,
          0.3587479935794542,
          0.2969502407704654,
          0.2102728731942215,
          0.1131621187800963,
          0.4646869983948636,
          0.5906902086677368,
          0.617174959871589,
          0.2576243980738362,
          0.5280898876404494,
          0.6540930979133226,
          0.5369181380417334,
          0.2897271268057784,
          0.2279293739967898,
          0.16613162118780098,
          0.117174959871589,
          0.1139646869983949,
          0.1741573033707865,
          0.2929373996789726,
          0.456661316211878,
          0.5770465489566612,
          0.3691813804173354,
          0.3113964686998394,
          0.1998394863563403,
          0.1260032102728732,
          0.0842696629213483,
          0.0497592295345104,
          0.008828250401284099,
          0.3940609951845908,
          0.3451043338683788,
          0.4847512038523274,
          0.8041733547351524,
          0.7520064205457464,
          0.6926163723916532,
          0.4149277688603532,
          0.2271268057784912,
          0.115569823434992,
          0.05056179775280889,
          0,
          0.0304975922953451,
          0.1268057784911718,
          0.5008025682182986,
          0.5706260032102728,
          0.6107544141252006,
          0.6219903691813804,
          0.2439807383627608,
          0.3491171749598716,
          0.341091492776886,
          0.2367576243980738,
          0.2062600321027288,
          0.1781701444622792,
          0.1853932584269662,
          0.3282504012841092,
          0.5513643659711076,
          0.5914927768860354,
          0.936597110754414,
          0.8948635634028892,
          0.8346709470304976,
          0.557784911717496,
          0.4333868378812198,
          0.5513643659711076,
          0.44382022471910093,
          0.3443017656500802,
          0.3796147672552166,
          0.3643659711075442,
          0.4117174959871588,
          0.6436597110754414,
          1,
          0.8603531300160514,
          0.9125200642054576,
          0.5850722311396468,
          0.3426966292134832,
          0.2808988764044944,
          0.225521669341894,
          0.1974317817014446,
          0.4269662921348316
         ],
         "yaxis": "y"
        },
        {
         "hovertemplate": "variable=40cm湿度(kg/m2)<br>time=%{x}<br>value=%{y}<extra></extra>",
         "legendgroup": "40cm湿度(kg/m2)",
         "line": {
          "color": "#00cc96",
          "dash": "solid"
         },
         "marker": {
          "symbol": "circle"
         },
         "mode": "lines",
         "name": "40cm湿度(kg/m2)",
         "orientation": "v",
         "showlegend": true,
         "type": "scatter",
         "x": [
          "2012-01-01T00:00:00",
          "2012-02-01T00:00:00",
          "2012-03-01T00:00:00",
          "2012-04-01T00:00:00",
          "2012-05-01T00:00:00",
          "2012-06-01T00:00:00",
          "2012-07-01T00:00:00",
          "2012-08-01T00:00:00",
          "2012-09-01T00:00:00",
          "2012-10-01T00:00:00",
          "2012-11-01T00:00:00",
          "2012-12-01T00:00:00",
          "2013-01-01T00:00:00",
          "2013-02-01T00:00:00",
          "2013-03-01T00:00:00",
          "2013-04-01T00:00:00",
          "2013-05-01T00:00:00",
          "2013-06-01T00:00:00",
          "2013-07-01T00:00:00",
          "2013-08-01T00:00:00",
          "2013-09-01T00:00:00",
          "2013-10-01T00:00:00",
          "2013-11-01T00:00:00",
          "2013-12-01T00:00:00",
          "2014-01-01T00:00:00",
          "2014-02-01T00:00:00",
          "2014-03-01T00:00:00",
          "2014-04-01T00:00:00",
          "2014-05-01T00:00:00",
          "2014-06-01T00:00:00",
          "2014-07-01T00:00:00",
          "2014-08-01T00:00:00",
          "2014-09-01T00:00:00",
          "2014-10-01T00:00:00",
          "2014-11-01T00:00:00",
          "2014-12-01T00:00:00",
          "2015-01-01T00:00:00",
          "2015-02-01T00:00:00",
          "2015-03-01T00:00:00",
          "2015-04-01T00:00:00",
          "2015-05-01T00:00:00",
          "2015-06-01T00:00:00",
          "2015-07-01T00:00:00",
          "2015-08-01T00:00:00",
          "2015-09-01T00:00:00",
          "2015-10-01T00:00:00",
          "2015-11-01T00:00:00",
          "2015-12-01T00:00:00",
          "2016-01-01T00:00:00",
          "2016-02-01T00:00:00",
          "2016-03-01T00:00:00",
          "2016-04-01T00:00:00",
          "2016-05-01T00:00:00",
          "2016-06-01T00:00:00",
          "2016-07-01T00:00:00",
          "2016-08-01T00:00:00",
          "2016-09-01T00:00:00",
          "2016-10-01T00:00:00",
          "2016-11-01T00:00:00",
          "2016-12-01T00:00:00",
          "2017-01-01T00:00:00",
          "2017-02-01T00:00:00",
          "2017-03-01T00:00:00",
          "2017-04-01T00:00:00",
          "2017-05-01T00:00:00",
          "2017-06-01T00:00:00",
          "2017-07-01T00:00:00",
          "2017-08-01T00:00:00",
          "2017-09-01T00:00:00",
          "2017-10-01T00:00:00",
          "2017-11-01T00:00:00",
          "2017-12-01T00:00:00",
          "2018-01-01T00:00:00",
          "2018-02-01T00:00:00",
          "2018-03-01T00:00:00",
          "2018-04-01T00:00:00",
          "2018-05-01T00:00:00",
          "2018-06-01T00:00:00",
          "2018-07-01T00:00:00",
          "2018-08-01T00:00:00",
          "2018-09-01T00:00:00",
          "2018-10-01T00:00:00",
          "2018-11-01T00:00:00",
          "2018-12-01T00:00:00",
          "2019-01-01T00:00:00",
          "2019-02-01T00:00:00",
          "2019-03-01T00:00:00",
          "2019-04-01T00:00:00",
          "2019-05-01T00:00:00",
          "2019-06-01T00:00:00",
          "2019-07-01T00:00:00",
          "2019-08-01T00:00:00",
          "2019-09-01T00:00:00",
          "2019-10-01T00:00:00",
          "2019-11-01T00:00:00",
          "2019-12-01T00:00:00",
          "2020-01-01T00:00:00",
          "2020-02-01T00:00:00",
          "2020-03-01T00:00:00",
          "2020-04-01T00:00:00",
          "2020-05-01T00:00:00",
          "2020-06-01T00:00:00",
          "2020-07-01T00:00:00",
          "2020-08-01T00:00:00",
          "2020-09-01T00:00:00",
          "2020-10-01T00:00:00",
          "2020-11-01T00:00:00",
          "2020-12-01T00:00:00",
          "2021-01-01T00:00:00",
          "2021-02-01T00:00:00",
          "2021-03-01T00:00:00",
          "2021-04-01T00:00:00",
          "2021-05-01T00:00:00",
          "2021-06-01T00:00:00",
          "2021-07-01T00:00:00",
          "2021-08-01T00:00:00",
          "2021-09-01T00:00:00",
          "2021-10-01T00:00:00",
          "2021-11-01T00:00:00",
          "2021-12-01T00:00:00",
          "2022-01-01T00:00:00",
          "2022-02-01T00:00:00",
          "2022-03-01T00:00:00"
         ],
         "xaxis": "x",
         "y": [
          0.03626133166614565,
          0.03626133166614565,
          0.03626133166614565,
          0.03188496405126595,
          0.008752735229759171,
          0.3066583307283526,
          0.8052516411378554,
          0.4760862769615504,
          0.4989059080962801,
          0.3994998437011565,
          0.4063769928102532,
          0.4063769928102532,
          0.4063769928102532,
          0.4063769928102532,
          0.40606439512347614,
          0.4029384182557048,
          0.3422944670209438,
          0.5917474210690841,
          0.7793060331353547,
          0.5745545482963426,
          0.2675836198812129,
          0.17567989996874012,
          0.17255392310096895,
          0.1722413254141919,
          0.1722413254141919,
          0.1722413254141919,
          0.20256330103157216,
          0.3944982807127225,
          0.3832447639887464,
          0.6239449828071271,
          0.4676461394185682,
          0.18193185370428244,
          0,
          0.12597686777117856,
          0.1900593935604875,
          0.19068458893404186,
          0.19068458893404186,
          0.19068458893404186,
          0.1900593935604875,
          0.18505783057205386,
          0.15629884338855882,
          0.30259456080025005,
          0.4091903719912471,
          0.28884026258205703,
          0.2963426070647075,
          0.5257893091591122,
          0.4638949671772428,
          0.4604563926226943,
          0.4604563926226943,
          0.4604563926226943,
          0.4601437949359173,
          0.44889027821194105,
          0.3963738668333854,
          0.43107221006564544,
          0.4842138168177554,
          0.10940919037199116,
          0.1097217880587682,
          0.5317286652078774,
          0.5329790559549858,
          0.5329790559549858,
          0.5329790559549858,
          0.5329790559549858,
          0.5326664582682088,
          0.5179743669896841,
          0.4420131291028446,
          0.2641450453266645,
          0.2013129102844637,
          0.27383557361675503,
          0.1716161300406378,
          0.12941544232572674,
          0.1356673960612691,
          0.1356673960612691,
          0.1356673960612691,
          0.1356673960612691,
          0.13472960300093773,
          0.12910284463894972,
          0.1097217880587682,
          0.17067833698030646,
          0.6201938105658016,
          0.7130353235386058,
          0.6264457643013441,
          0.576117536730228,
          0.5123476086276961,
          0.5114098155673648,
          0.5114098155673648,
          0.5114098155673648,
          0.5107846201938104,
          0.4989059080962801,
          0.4688965301656767,
          0.4417005314160676,
          0.4779618630822131,
          0.34198186933416674,
          0.23726164426383226,
          0.10253204126289472,
          0.12722725851828698,
          0.12941544232572674,
          0.12941544232572674,
          0.12941544232572674,
          0.12910284463894972,
          0.12316348859018422,
          0.13472960300093773,
          0.3216630196936543,
          0.8405751797436698,
          0.8415129728040012,
          0.8427633635511096,
          0.724288840262582,
          0.6548921537980616,
          0.6467646139418566,
          0.6467646139418566,
          0.6467646139418566,
          0.6461394185683025,
          0.6292591434823382,
          0.5645514223194747,
          0.5601750547045952,
          1,
          0.825257893091591,
          0.9237261644263828,
          0.7855579868708971,
          0.7020944045014066,
          0.7011566114410752,
          0.7011566114410752,
          0.7011566114410752,
          0.7008440137542982
         ],
         "yaxis": "y"
        },
        {
         "hovertemplate": "variable=200cm湿度(kg/m2)<br>time=%{x}<br>value=%{y}<extra></extra>",
         "legendgroup": "200cm湿度(kg/m2)",
         "line": {
          "color": "#ab63fa",
          "dash": "solid"
         },
         "marker": {
          "symbol": "circle"
         },
         "mode": "lines",
         "name": "200cm湿度(kg/m2)",
         "orientation": "v",
         "showlegend": true,
         "type": "scatter",
         "x": [
          "2012-01-01T00:00:00",
          "2012-02-01T00:00:00",
          "2012-03-01T00:00:00",
          "2012-04-01T00:00:00",
          "2012-05-01T00:00:00",
          "2012-06-01T00:00:00",
          "2012-07-01T00:00:00",
          "2012-08-01T00:00:00",
          "2012-09-01T00:00:00",
          "2012-10-01T00:00:00",
          "2012-11-01T00:00:00",
          "2012-12-01T00:00:00",
          "2013-01-01T00:00:00",
          "2013-02-01T00:00:00",
          "2013-03-01T00:00:00",
          "2013-04-01T00:00:00",
          "2013-05-01T00:00:00",
          "2013-06-01T00:00:00",
          "2013-07-01T00:00:00",
          "2013-08-01T00:00:00",
          "2013-09-01T00:00:00",
          "2013-10-01T00:00:00",
          "2013-11-01T00:00:00",
          "2013-12-01T00:00:00",
          "2014-01-01T00:00:00",
          "2014-02-01T00:00:00",
          "2014-03-01T00:00:00",
          "2014-04-01T00:00:00",
          "2014-05-01T00:00:00",
          "2014-06-01T00:00:00",
          "2014-07-01T00:00:00",
          "2014-08-01T00:00:00",
          "2014-09-01T00:00:00",
          "2014-10-01T00:00:00",
          "2014-11-01T00:00:00",
          "2014-12-01T00:00:00",
          "2015-01-01T00:00:00",
          "2015-02-01T00:00:00",
          "2015-03-01T00:00:00",
          "2015-04-01T00:00:00",
          "2015-05-01T00:00:00",
          "2015-06-01T00:00:00",
          "2015-07-01T00:00:00",
          "2015-08-01T00:00:00",
          "2015-09-01T00:00:00",
          "2015-10-01T00:00:00",
          "2015-11-01T00:00:00",
          "2015-12-01T00:00:00",
          "2016-01-01T00:00:00",
          "2016-02-01T00:00:00",
          "2016-03-01T00:00:00",
          "2016-04-01T00:00:00",
          "2016-05-01T00:00:00",
          "2016-06-01T00:00:00",
          "2016-07-01T00:00:00",
          "2016-08-01T00:00:00",
          "2016-09-01T00:00:00",
          "2016-10-01T00:00:00",
          "2016-11-01T00:00:00",
          "2016-12-01T00:00:00",
          "2017-01-01T00:00:00",
          "2017-02-01T00:00:00",
          "2017-03-01T00:00:00",
          "2017-04-01T00:00:00",
          "2017-05-01T00:00:00",
          "2017-06-01T00:00:00",
          "2017-07-01T00:00:00",
          "2017-08-01T00:00:00",
          "2017-09-01T00:00:00",
          "2017-10-01T00:00:00",
          "2017-11-01T00:00:00",
          "2017-12-01T00:00:00",
          "2018-01-01T00:00:00",
          "2018-02-01T00:00:00",
          "2018-03-01T00:00:00",
          "2018-04-01T00:00:00",
          "2018-05-01T00:00:00",
          "2018-06-01T00:00:00",
          "2018-07-01T00:00:00",
          "2018-08-01T00:00:00",
          "2018-09-01T00:00:00",
          "2018-10-01T00:00:00",
          "2018-11-01T00:00:00",
          "2018-12-01T00:00:00",
          "2019-01-01T00:00:00",
          "2019-02-01T00:00:00",
          "2019-03-01T00:00:00",
          "2019-04-01T00:00:00",
          "2019-05-01T00:00:00",
          "2019-06-01T00:00:00",
          "2019-07-01T00:00:00",
          "2019-08-01T00:00:00",
          "2019-09-01T00:00:00",
          "2019-10-01T00:00:00",
          "2019-11-01T00:00:00",
          "2019-12-01T00:00:00",
          "2020-01-01T00:00:00",
          "2020-02-01T00:00:00",
          "2020-03-01T00:00:00",
          "2020-04-01T00:00:00",
          "2020-05-01T00:00:00",
          "2020-06-01T00:00:00",
          "2020-07-01T00:00:00",
          "2020-08-01T00:00:00",
          "2020-09-01T00:00:00",
          "2020-10-01T00:00:00",
          "2020-11-01T00:00:00",
          "2020-12-01T00:00:00",
          "2021-01-01T00:00:00",
          "2021-02-01T00:00:00",
          "2021-03-01T00:00:00",
          "2021-04-01T00:00:00",
          "2021-05-01T00:00:00",
          "2021-06-01T00:00:00",
          "2021-07-01T00:00:00",
          "2021-08-01T00:00:00",
          "2021-09-01T00:00:00",
          "2021-10-01T00:00:00",
          "2021-11-01T00:00:00",
          "2021-12-01T00:00:00",
          "2022-01-01T00:00:00",
          "2022-02-01T00:00:00",
          "2022-03-01T00:00:00"
         ],
         "xaxis": "x",
         "y": [
          1,
          1,
          1,
          1,
          1,
          1,
          0.992647058823529,
          0.970588235294116,
          0.955882352941174,
          0.9436274509803936,
          0.9411764705882322,
          0.9411764705882322,
          0.9411764705882322,
          0.9411764705882322,
          0.9411764705882322,
          0.9411764705882322,
          0.9411764705882322,
          0.9338235294117608,
          0.9166666666666644,
          0.8897058823529491,
          0.8725490196078454,
          0.8627450980392197,
          0.8553921568627487,
          0.8529411764705941,
          0.8529411764705941,
          0.8529411764705941,
          0.8529411764705941,
          0.8529411764705941,
          0.8529411764705941,
          0.8431372549019613,
          0.8333333333333357,
          0.8210784313725554,
          0.8112745098039227,
          0.801470588235297,
          0.7941176470588259,
          0.7941176470588259,
          0.7941176470588259,
          0.7941176470588259,
          0.7941176470588259,
          0.7941176470588259,
          0.7941176470588259,
          0.7892156862745097,
          0.7769607843137294,
          0.7671568627451038,
          0.7598039215686327,
          0.7549019607843164,
          0.7475490196078454,
          0.7475490196078454,
          0.7475490196078454,
          0.7475490196078454,
          0.7475490196078454,
          0.7475490196078454,
          0.7475490196078454,
          0.7401960784313744,
          0.7303921568627487,
          0.720588235294116,
          0.7132352941176451,
          0.7107843137254903,
          0.7083333333333357,
          0.7083333333333357,
          0.7083333333333357,
          0.7083333333333357,
          0.7083333333333357,
          0.7083333333333357,
          0.7083333333333357,
          0.6985294117647101,
          0.6887254901960773,
          0.6862745098039227,
          0.6862745098039227,
          0.6862745098039227,
          0.6862745098039227,
          0.6862745098039227,
          0.6862745098039227,
          0.6862745098039227,
          0.6862745098039227,
          0.6862745098039227,
          0.6862745098039227,
          0.6862745098039227,
          0.6838235294117678,
          0.6740196078431353,
          0.654411764705884,
          0.6348039215686256,
          0.625,
          0.625,
          0.625,
          0.625,
          0.625,
          0.625,
          0.6225490196078454,
          0.6053921568627416,
          0.5833333333333357,
          0.5710784313725483,
          0.5588235294117679,
          0.5490196078431424,
          0.544117647058826,
          0.544117647058826,
          0.544117647058826,
          0.544117647058826,
          0.544117647058826,
          0.544117647058826,
          0.544117647058826,
          0.5367647058823549,
          0.5245098039215748,
          0.4975490196078454,
          0.4509803921568647,
          0.3946078431372584,
          0.360294117647058,
          0.35294117647058704,
          0.35294117647058704,
          0.35294117647058704,
          0.35294117647058704,
          0.35294117647058704,
          0.35049019607843235,
          0.30147058823529704,
          0.2401960784313744,
          0.16421568627451674,
          0.09068627450980672,
          0.02696078431372939,
          0.002450980392161739,
          0,
          0,
          0,
          0
         ],
         "yaxis": "y"
        }
       ],
       "layout": {
        "legend": {
         "title": {
          "text": "variable"
         },
         "tracegroupgap": 0
        },
        "margin": {
         "t": 60
        },
        "template": {
         "data": {
          "bar": [
           {
            "error_x": {
             "color": "#2a3f5f"
            },
            "error_y": {
             "color": "#2a3f5f"
            },
            "marker": {
             "line": {
              "color": "#E5ECF6",
              "width": 0.5
             },
             "pattern": {
              "fillmode": "overlay",
              "size": 10,
              "solidity": 0.2
             }
            },
            "type": "bar"
           }
          ],
          "barpolar": [
           {
            "marker": {
             "line": {
              "color": "#E5ECF6",
              "width": 0.5
             },
             "pattern": {
              "fillmode": "overlay",
              "size": 10,
              "solidity": 0.2
             }
            },
            "type": "barpolar"
           }
          ],
          "carpet": [
           {
            "aaxis": {
             "endlinecolor": "#2a3f5f",
             "gridcolor": "white",
             "linecolor": "white",
             "minorgridcolor": "white",
             "startlinecolor": "#2a3f5f"
            },
            "baxis": {
             "endlinecolor": "#2a3f5f",
             "gridcolor": "white",
             "linecolor": "white",
             "minorgridcolor": "white",
             "startlinecolor": "#2a3f5f"
            },
            "type": "carpet"
           }
          ],
          "choropleth": [
           {
            "colorbar": {
             "outlinewidth": 0,
             "ticks": ""
            },
            "type": "choropleth"
           }
          ],
          "contour": [
           {
            "colorbar": {
             "outlinewidth": 0,
             "ticks": ""
            },
            "colorscale": [
             [
              0,
              "#0d0887"
             ],
             [
              0.1111111111111111,
              "#46039f"
             ],
             [
              0.2222222222222222,
              "#7201a8"
             ],
             [
              0.3333333333333333,
              "#9c179e"
             ],
             [
              0.4444444444444444,
              "#bd3786"
             ],
             [
              0.5555555555555556,
              "#d8576b"
             ],
             [
              0.6666666666666666,
              "#ed7953"
             ],
             [
              0.7777777777777778,
              "#fb9f3a"
             ],
             [
              0.8888888888888888,
              "#fdca26"
             ],
             [
              1,
              "#f0f921"
             ]
            ],
            "type": "contour"
           }
          ],
          "contourcarpet": [
           {
            "colorbar": {
             "outlinewidth": 0,
             "ticks": ""
            },
            "type": "contourcarpet"
           }
          ],
          "heatmap": [
           {
            "colorbar": {
             "outlinewidth": 0,
             "ticks": ""
            },
            "colorscale": [
             [
              0,
              "#0d0887"
             ],
             [
              0.1111111111111111,
              "#46039f"
             ],
             [
              0.2222222222222222,
              "#7201a8"
             ],
             [
              0.3333333333333333,
              "#9c179e"
             ],
             [
              0.4444444444444444,
              "#bd3786"
             ],
             [
              0.5555555555555556,
              "#d8576b"
             ],
             [
              0.6666666666666666,
              "#ed7953"
             ],
             [
              0.7777777777777778,
              "#fb9f3a"
             ],
             [
              0.8888888888888888,
              "#fdca26"
             ],
             [
              1,
              "#f0f921"
             ]
            ],
            "type": "heatmap"
           }
          ],
          "heatmapgl": [
           {
            "colorbar": {
             "outlinewidth": 0,
             "ticks": ""
            },
            "colorscale": [
             [
              0,
              "#0d0887"
             ],
             [
              0.1111111111111111,
              "#46039f"
             ],
             [
              0.2222222222222222,
              "#7201a8"
             ],
             [
              0.3333333333333333,
              "#9c179e"
             ],
             [
              0.4444444444444444,
              "#bd3786"
             ],
             [
              0.5555555555555556,
              "#d8576b"
             ],
             [
              0.6666666666666666,
              "#ed7953"
             ],
             [
              0.7777777777777778,
              "#fb9f3a"
             ],
             [
              0.8888888888888888,
              "#fdca26"
             ],
             [
              1,
              "#f0f921"
             ]
            ],
            "type": "heatmapgl"
           }
          ],
          "histogram": [
           {
            "marker": {
             "pattern": {
              "fillmode": "overlay",
              "size": 10,
              "solidity": 0.2
             }
            },
            "type": "histogram"
           }
          ],
          "histogram2d": [
           {
            "colorbar": {
             "outlinewidth": 0,
             "ticks": ""
            },
            "colorscale": [
             [
              0,
              "#0d0887"
             ],
             [
              0.1111111111111111,
              "#46039f"
             ],
             [
              0.2222222222222222,
              "#7201a8"
             ],
             [
              0.3333333333333333,
              "#9c179e"
             ],
             [
              0.4444444444444444,
              "#bd3786"
             ],
             [
              0.5555555555555556,
              "#d8576b"
             ],
             [
              0.6666666666666666,
              "#ed7953"
             ],
             [
              0.7777777777777778,
              "#fb9f3a"
             ],
             [
              0.8888888888888888,
              "#fdca26"
             ],
             [
              1,
              "#f0f921"
             ]
            ],
            "type": "histogram2d"
           }
          ],
          "histogram2dcontour": [
           {
            "colorbar": {
             "outlinewidth": 0,
             "ticks": ""
            },
            "colorscale": [
             [
              0,
              "#0d0887"
             ],
             [
              0.1111111111111111,
              "#46039f"
             ],
             [
              0.2222222222222222,
              "#7201a8"
             ],
             [
              0.3333333333333333,
              "#9c179e"
             ],
             [
              0.4444444444444444,
              "#bd3786"
             ],
             [
              0.5555555555555556,
              "#d8576b"
             ],
             [
              0.6666666666666666,
              "#ed7953"
             ],
             [
              0.7777777777777778,
              "#fb9f3a"
             ],
             [
              0.8888888888888888,
              "#fdca26"
             ],
             [
              1,
              "#f0f921"
             ]
            ],
            "type": "histogram2dcontour"
           }
          ],
          "mesh3d": [
           {
            "colorbar": {
             "outlinewidth": 0,
             "ticks": ""
            },
            "type": "mesh3d"
           }
          ],
          "parcoords": [
           {
            "line": {
             "colorbar": {
              "outlinewidth": 0,
              "ticks": ""
             }
            },
            "type": "parcoords"
           }
          ],
          "pie": [
           {
            "automargin": true,
            "type": "pie"
           }
          ],
          "scatter": [
           {
            "fillpattern": {
             "fillmode": "overlay",
             "size": 10,
             "solidity": 0.2
            },
            "type": "scatter"
           }
          ],
          "scatter3d": [
           {
            "line": {
             "colorbar": {
              "outlinewidth": 0,
              "ticks": ""
             }
            },
            "marker": {
             "colorbar": {
              "outlinewidth": 0,
              "ticks": ""
             }
            },
            "type": "scatter3d"
           }
          ],
          "scattercarpet": [
           {
            "marker": {
             "colorbar": {
              "outlinewidth": 0,
              "ticks": ""
             }
            },
            "type": "scattercarpet"
           }
          ],
          "scattergeo": [
           {
            "marker": {
             "colorbar": {
              "outlinewidth": 0,
              "ticks": ""
             }
            },
            "type": "scattergeo"
           }
          ],
          "scattergl": [
           {
            "marker": {
             "colorbar": {
              "outlinewidth": 0,
              "ticks": ""
             }
            },
            "type": "scattergl"
           }
          ],
          "scattermapbox": [
           {
            "marker": {
             "colorbar": {
              "outlinewidth": 0,
              "ticks": ""
             }
            },
            "type": "scattermapbox"
           }
          ],
          "scatterpolar": [
           {
            "marker": {
             "colorbar": {
              "outlinewidth": 0,
              "ticks": ""
             }
            },
            "type": "scatterpolar"
           }
          ],
          "scatterpolargl": [
           {
            "marker": {
             "colorbar": {
              "outlinewidth": 0,
              "ticks": ""
             }
            },
            "type": "scatterpolargl"
           }
          ],
          "scatterternary": [
           {
            "marker": {
             "colorbar": {
              "outlinewidth": 0,
              "ticks": ""
             }
            },
            "type": "scatterternary"
           }
          ],
          "surface": [
           {
            "colorbar": {
             "outlinewidth": 0,
             "ticks": ""
            },
            "colorscale": [
             [
              0,
              "#0d0887"
             ],
             [
              0.1111111111111111,
              "#46039f"
             ],
             [
              0.2222222222222222,
              "#7201a8"
             ],
             [
              0.3333333333333333,
              "#9c179e"
             ],
             [
              0.4444444444444444,
              "#bd3786"
             ],
             [
              0.5555555555555556,
              "#d8576b"
             ],
             [
              0.6666666666666666,
              "#ed7953"
             ],
             [
              0.7777777777777778,
              "#fb9f3a"
             ],
             [
              0.8888888888888888,
              "#fdca26"
             ],
             [
              1,
              "#f0f921"
             ]
            ],
            "type": "surface"
           }
          ],
          "table": [
           {
            "cells": {
             "fill": {
              "color": "#EBF0F8"
             },
             "line": {
              "color": "white"
             }
            },
            "header": {
             "fill": {
              "color": "#C8D4E3"
             },
             "line": {
              "color": "white"
             }
            },
            "type": "table"
           }
          ]
         },
         "layout": {
          "annotationdefaults": {
           "arrowcolor": "#2a3f5f",
           "arrowhead": 0,
           "arrowwidth": 1
          },
          "autotypenumbers": "strict",
          "coloraxis": {
           "colorbar": {
            "outlinewidth": 0,
            "ticks": ""
           }
          },
          "colorscale": {
           "diverging": [
            [
             0,
             "#8e0152"
            ],
            [
             0.1,
             "#c51b7d"
            ],
            [
             0.2,
             "#de77ae"
            ],
            [
             0.3,
             "#f1b6da"
            ],
            [
             0.4,
             "#fde0ef"
            ],
            [
             0.5,
             "#f7f7f7"
            ],
            [
             0.6,
             "#e6f5d0"
            ],
            [
             0.7,
             "#b8e186"
            ],
            [
             0.8,
             "#7fbc41"
            ],
            [
             0.9,
             "#4d9221"
            ],
            [
             1,
             "#276419"
            ]
           ],
           "sequential": [
            [
             0,
             "#0d0887"
            ],
            [
             0.1111111111111111,
             "#46039f"
            ],
            [
             0.2222222222222222,
             "#7201a8"
            ],
            [
             0.3333333333333333,
             "#9c179e"
            ],
            [
             0.4444444444444444,
             "#bd3786"
            ],
            [
             0.5555555555555556,
             "#d8576b"
            ],
            [
             0.6666666666666666,
             "#ed7953"
            ],
            [
             0.7777777777777778,
             "#fb9f3a"
            ],
            [
             0.8888888888888888,
             "#fdca26"
            ],
            [
             1,
             "#f0f921"
            ]
           ],
           "sequentialminus": [
            [
             0,
             "#0d0887"
            ],
            [
             0.1111111111111111,
             "#46039f"
            ],
            [
             0.2222222222222222,
             "#7201a8"
            ],
            [
             0.3333333333333333,
             "#9c179e"
            ],
            [
             0.4444444444444444,
             "#bd3786"
            ],
            [
             0.5555555555555556,
             "#d8576b"
            ],
            [
             0.6666666666666666,
             "#ed7953"
            ],
            [
             0.7777777777777778,
             "#fb9f3a"
            ],
            [
             0.8888888888888888,
             "#fdca26"
            ],
            [
             1,
             "#f0f921"
            ]
           ]
          },
          "colorway": [
           "#636efa",
           "#EF553B",
           "#00cc96",
           "#ab63fa",
           "#FFA15A",
           "#19d3f3",
           "#FF6692",
           "#B6E880",
           "#FF97FF",
           "#FECB52"
          ],
          "font": {
           "color": "#2a3f5f"
          },
          "geo": {
           "bgcolor": "white",
           "lakecolor": "white",
           "landcolor": "#E5ECF6",
           "showlakes": true,
           "showland": true,
           "subunitcolor": "white"
          },
          "hoverlabel": {
           "align": "left"
          },
          "hovermode": "closest",
          "mapbox": {
           "style": "light"
          },
          "paper_bgcolor": "white",
          "plot_bgcolor": "#E5ECF6",
          "polar": {
           "angularaxis": {
            "gridcolor": "white",
            "linecolor": "white",
            "ticks": ""
           },
           "bgcolor": "#E5ECF6",
           "radialaxis": {
            "gridcolor": "white",
            "linecolor": "white",
            "ticks": ""
           }
          },
          "scene": {
           "xaxis": {
            "backgroundcolor": "#E5ECF6",
            "gridcolor": "white",
            "gridwidth": 2,
            "linecolor": "white",
            "showbackground": true,
            "ticks": "",
            "zerolinecolor": "white"
           },
           "yaxis": {
            "backgroundcolor": "#E5ECF6",
            "gridcolor": "white",
            "gridwidth": 2,
            "linecolor": "white",
            "showbackground": true,
            "ticks": "",
            "zerolinecolor": "white"
           },
           "zaxis": {
            "backgroundcolor": "#E5ECF6",
            "gridcolor": "white",
            "gridwidth": 2,
            "linecolor": "white",
            "showbackground": true,
            "ticks": "",
            "zerolinecolor": "white"
           }
          },
          "shapedefaults": {
           "line": {
            "color": "#2a3f5f"
           }
          },
          "ternary": {
           "aaxis": {
            "gridcolor": "white",
            "linecolor": "white",
            "ticks": ""
           },
           "baxis": {
            "gridcolor": "white",
            "linecolor": "white",
            "ticks": ""
           },
           "bgcolor": "#E5ECF6",
           "caxis": {
            "gridcolor": "white",
            "linecolor": "white",
            "ticks": ""
           }
          },
          "title": {
           "x": 0.05
          },
          "xaxis": {
           "automargin": true,
           "gridcolor": "white",
           "linecolor": "white",
           "ticks": "",
           "title": {
            "standoff": 15
           },
           "zerolinecolor": "white",
           "zerolinewidth": 2
          },
          "yaxis": {
           "automargin": true,
           "gridcolor": "white",
           "linecolor": "white",
           "ticks": "",
           "title": {
            "standoff": 15
           },
           "zerolinecolor": "white",
           "zerolinewidth": 2
          }
         }
        },
        "xaxis": {
         "anchor": "y",
         "domain": [
          0,
          1
         ],
         "title": {
          "text": "time"
         }
        },
        "yaxis": {
         "anchor": "x",
         "domain": [
          0,
          1
         ],
         "title": {
          "text": "value"
         }
        }
       }
      }
     },
     "metadata": {},
     "output_type": "display_data"
    }
   ],
   "source": [
    "px.line(df[YCOLS])"
   ]
  }
 ],
 "metadata": {
  "kernelspec": {
   "display_name": "Python 3.7.0 64-bit",
   "language": "python",
   "name": "python3"
  },
  "language_info": {
   "codemirror_mode": {
    "name": "ipython",
    "version": 3
   },
   "file_extension": ".py",
   "mimetype": "text/x-python",
   "name": "python",
   "nbconvert_exporter": "python",
   "pygments_lexer": "ipython3",
   "version": "3.7.0"
  },
  "vscode": {
   "interpreter": {
    "hash": "7333d47a3a2e5eb003ed4862432b269301e4f62a805920b00eb5758860da8060"
   }
  }
 },
 "nbformat": 4,
 "nbformat_minor": 5
}

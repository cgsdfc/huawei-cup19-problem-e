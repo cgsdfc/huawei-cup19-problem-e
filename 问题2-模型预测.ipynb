{
 "cells": [
  {
   "cell_type": "code",
   "execution_count": 214,
   "id": "74d806f4",
   "metadata": {},
   "outputs": [],
   "source": [
    "import pandas as pd\n",
    "import numpy as np\n",
    "import seaborn as sns\n",
    "from pathlib import Path as P\n",
    "import matplotlib.pyplot as plt\n",
    "plt.rcParams['font.sans-serif'] = ['KaiTi', 'SimHei', 'FangSong']  # 汉字字体,优先使用楷体，如果找不到楷体，则使用黑体\n",
    "plt.rcParams['font.size'] = 12  # 字体大小\n",
    "plt.rcParams['axes.unicode_minus'] = False  # 正常显示负号\n",
    "from collections import defaultdict\n",
    "import plotly.express as px\n",
    "import pickle\n",
    "from sklearn.preprocessing import StandardScaler, MinMaxScaler\n",
    "from sklearn.model_selection import train_test_split\n",
    "\n",
    "import tensorflow.keras as keras"
   ]
  },
  {
   "cell_type": "code",
   "execution_count": 215,
   "id": "6b02efd3",
   "metadata": {},
   "outputs": [],
   "source": [
    "seqlen=6"
   ]
  },
  {
   "cell_type": "code",
   "execution_count": 216,
   "id": "e2d95214",
   "metadata": {},
   "outputs": [],
   "source": [
    "scaler=pickle.load(P('问题2-MinMaxScaler-训练数据.csv').open('rb'))\n",
    "# df=pd.read_csv('问题2-训练数据-归一化.csv',index_col='time', parse_dates=True)\n",
    "df=pd.read_csv('问题2-训练数据-归一化.csv').drop(columns='time')\n",
    "model=keras.models.load_model('./problem2_checkpoint.h5')"
   ]
  },
  {
   "cell_type": "code",
   "execution_count": 217,
   "id": "8977988a",
   "metadata": {},
   "outputs": [
    {
     "data": {
      "text/plain": [
       "(array([0.08025682, 0.03125977, 0.0195733 , 0.24509804, 0.0256476 ,\n",
       "        0.00112134, 0.02069108]),\n",
       " array([-7.73675762e-01, -9.28727727e-01, -8.29125073e-01, -4.03137255e+01,\n",
       "        -6.92485253e-03,  0.00000000e+00,  4.82722946e-01]))"
      ]
     },
     "execution_count": 217,
     "metadata": {},
     "output_type": "execute_result"
    }
   ],
   "source": [
    "scaler.scale_, scaler.min_"
   ]
  },
  {
   "cell_type": "code",
   "execution_count": 218,
   "id": "159bf9d3",
   "metadata": {},
   "outputs": [
    {
     "data": {
      "text/plain": [
       "((6, 7), (1, 6, 7))"
      ]
     },
     "execution_count": 218,
     "metadata": {},
     "output_type": "execute_result"
    }
   ],
   "source": [
    "df_test = df.iloc[-seqlen:, :]\n",
    "test=df_test.values.reshape([1,seqlen,-1])\n",
    "df_test.shape, test.shape"
   ]
  },
  {
   "cell_type": "code",
   "execution_count": 240,
   "id": "51893bca",
   "metadata": {},
   "outputs": [],
   "source": [
    "pd.period_range?"
   ]
  },
  {
   "cell_type": "code",
   "execution_count": 243,
   "id": "546cc7ce",
   "metadata": {},
   "outputs": [
    {
     "data": {
      "text/plain": [
       "PeriodIndex(['2022-04', '2022-05', '2022-06', '2022-07', '2022-08', '2022-09',\n",
       "             '2022-10', '2022-11', '2022-12', '2023-01', '2023-02', '2023-03',\n",
       "             '2023-04', '2023-05', '2023-06', '2023-07', '2023-08', '2023-09',\n",
       "             '2023-10', '2023-11', '2023-12'],\n",
       "            dtype='period[M]')"
      ]
     },
     "execution_count": 243,
     "metadata": {},
     "output_type": "execute_result"
    }
   ],
   "source": [
    "INDEX=pd.period_range(pd.Period(year=2022,month=4,freq='1M'),pd.Period(year=2023,month=12,freq='1M'))\n",
    "INDEX"
   ]
  },
  {
   "cell_type": "code",
   "execution_count": 251,
   "id": "da2e5440",
   "metadata": {},
   "outputs": [],
   "source": [
    "def predict(model, df_test: pd.DataFrame, index, seqlen: int):\n",
    "    n=len(index)\n",
    "    for i in range(n):\n",
    "        test=df_test.iloc[-seqlen:, :].values.reshape([1,seqlen,-1])\n",
    "        pred=model.predict(test)\n",
    "        df_pred=pd.DataFrame(pred, columns=df.columns)\n",
    "        df_test = pd.concat([df_test, df_pred])\n",
    "        \n",
    "    df_test=df_test.iloc[seqlen:, :]\n",
    "    df_test.index=index\n",
    "    \n",
    "    return df_test"
   ]
  },
  {
   "cell_type": "code",
   "execution_count": 252,
   "id": "0bf5650b",
   "metadata": {
    "scrolled": true
   },
   "outputs": [
    {
     "data": {
      "text/html": [
       "<div>\n",
       "<style scoped>\n",
       "    .dataframe tbody tr th:only-of-type {\n",
       "        vertical-align: middle;\n",
       "    }\n",
       "\n",
       "    .dataframe tbody tr th {\n",
       "        vertical-align: top;\n",
       "    }\n",
       "\n",
       "    .dataframe thead th {\n",
       "        text-align: right;\n",
       "    }\n",
       "</style>\n",
       "<table border=\"1\" class=\"dataframe\">\n",
       "  <thead>\n",
       "    <tr style=\"text-align: right;\">\n",
       "      <th></th>\n",
       "      <th>10cm湿度(kg/m2)</th>\n",
       "      <th>40cm湿度(kg/m2)</th>\n",
       "      <th>100cm湿度(kg/m2)</th>\n",
       "      <th>200cm湿度(kg/m2)</th>\n",
       "    </tr>\n",
       "  </thead>\n",
       "  <tbody>\n",
       "    <tr>\n",
       "      <th>2022-04</th>\n",
       "      <td>13.65</td>\n",
       "      <td>36.84</td>\n",
       "      <td>36.74</td>\n",
       "      <td>165.86</td>\n",
       "    </tr>\n",
       "    <tr>\n",
       "      <th>2022-05</th>\n",
       "      <td>12.09</td>\n",
       "      <td>33.76</td>\n",
       "      <td>41.19</td>\n",
       "      <td>166.42</td>\n",
       "    </tr>\n",
       "    <tr>\n",
       "      <th>2022-06</th>\n",
       "      <td>12.02</td>\n",
       "      <td>34.24</td>\n",
       "      <td>43.53</td>\n",
       "      <td>166.73</td>\n",
       "    </tr>\n",
       "    <tr>\n",
       "      <th>2022-07</th>\n",
       "      <td>12.07</td>\n",
       "      <td>34.82</td>\n",
       "      <td>44.54</td>\n",
       "      <td>166.85</td>\n",
       "    </tr>\n",
       "    <tr>\n",
       "      <th>2022-08</th>\n",
       "      <td>12.52</td>\n",
       "      <td>36.33</td>\n",
       "      <td>45.29</td>\n",
       "      <td>166.96</td>\n",
       "    </tr>\n",
       "    <tr>\n",
       "      <th>2022-09</th>\n",
       "      <td>13.20</td>\n",
       "      <td>38.38</td>\n",
       "      <td>45.69</td>\n",
       "      <td>167.05</td>\n",
       "    </tr>\n",
       "    <tr>\n",
       "      <th>2022-10</th>\n",
       "      <td>13.39</td>\n",
       "      <td>39.09</td>\n",
       "      <td>46.16</td>\n",
       "      <td>167.12</td>\n",
       "    </tr>\n",
       "    <tr>\n",
       "      <th>2022-11</th>\n",
       "      <td>13.37</td>\n",
       "      <td>39.00</td>\n",
       "      <td>47.68</td>\n",
       "      <td>167.28</td>\n",
       "    </tr>\n",
       "    <tr>\n",
       "      <th>2022-12</th>\n",
       "      <td>13.60</td>\n",
       "      <td>39.44</td>\n",
       "      <td>48.32</td>\n",
       "      <td>167.37</td>\n",
       "    </tr>\n",
       "    <tr>\n",
       "      <th>2023-01</th>\n",
       "      <td>13.80</td>\n",
       "      <td>39.89</td>\n",
       "      <td>48.74</td>\n",
       "      <td>167.45</td>\n",
       "    </tr>\n",
       "    <tr>\n",
       "      <th>2023-02</th>\n",
       "      <td>13.99</td>\n",
       "      <td>40.32</td>\n",
       "      <td>48.97</td>\n",
       "      <td>167.50</td>\n",
       "    </tr>\n",
       "    <tr>\n",
       "      <th>2023-03</th>\n",
       "      <td>14.11</td>\n",
       "      <td>40.62</td>\n",
       "      <td>49.19</td>\n",
       "      <td>167.55</td>\n",
       "    </tr>\n",
       "    <tr>\n",
       "      <th>2023-04</th>\n",
       "      <td>14.15</td>\n",
       "      <td>40.70</td>\n",
       "      <td>49.55</td>\n",
       "      <td>167.61</td>\n",
       "    </tr>\n",
       "    <tr>\n",
       "      <th>2023-05</th>\n",
       "      <td>14.17</td>\n",
       "      <td>40.73</td>\n",
       "      <td>49.88</td>\n",
       "      <td>167.65</td>\n",
       "    </tr>\n",
       "    <tr>\n",
       "      <th>2023-06</th>\n",
       "      <td>14.23</td>\n",
       "      <td>40.87</td>\n",
       "      <td>49.95</td>\n",
       "      <td>167.67</td>\n",
       "    </tr>\n",
       "    <tr>\n",
       "      <th>2023-07</th>\n",
       "      <td>14.28</td>\n",
       "      <td>40.98</td>\n",
       "      <td>50.00</td>\n",
       "      <td>167.68</td>\n",
       "    </tr>\n",
       "    <tr>\n",
       "      <th>2023-08</th>\n",
       "      <td>14.31</td>\n",
       "      <td>41.07</td>\n",
       "      <td>50.03</td>\n",
       "      <td>167.69</td>\n",
       "    </tr>\n",
       "    <tr>\n",
       "      <th>2023-09</th>\n",
       "      <td>14.33</td>\n",
       "      <td>41.11</td>\n",
       "      <td>50.10</td>\n",
       "      <td>167.70</td>\n",
       "    </tr>\n",
       "    <tr>\n",
       "      <th>2023-10</th>\n",
       "      <td>14.33</td>\n",
       "      <td>41.12</td>\n",
       "      <td>50.19</td>\n",
       "      <td>167.71</td>\n",
       "    </tr>\n",
       "    <tr>\n",
       "      <th>2023-11</th>\n",
       "      <td>14.34</td>\n",
       "      <td>41.14</td>\n",
       "      <td>50.22</td>\n",
       "      <td>167.72</td>\n",
       "    </tr>\n",
       "    <tr>\n",
       "      <th>2023-12</th>\n",
       "      <td>14.35</td>\n",
       "      <td>41.17</td>\n",
       "      <td>50.22</td>\n",
       "      <td>167.72</td>\n",
       "    </tr>\n",
       "  </tbody>\n",
       "</table>\n",
       "</div>"
      ],
      "text/plain": [
       "         10cm湿度(kg/m2)  40cm湿度(kg/m2)  100cm湿度(kg/m2)  200cm湿度(kg/m2)\n",
       "2022-04          13.65          36.84           36.74          165.86\n",
       "2022-05          12.09          33.76           41.19          166.42\n",
       "2022-06          12.02          34.24           43.53          166.73\n",
       "2022-07          12.07          34.82           44.54          166.85\n",
       "2022-08          12.52          36.33           45.29          166.96\n",
       "2022-09          13.20          38.38           45.69          167.05\n",
       "2022-10          13.39          39.09           46.16          167.12\n",
       "2022-11          13.37          39.00           47.68          167.28\n",
       "2022-12          13.60          39.44           48.32          167.37\n",
       "2023-01          13.80          39.89           48.74          167.45\n",
       "2023-02          13.99          40.32           48.97          167.50\n",
       "2023-03          14.11          40.62           49.19          167.55\n",
       "2023-04          14.15          40.70           49.55          167.61\n",
       "2023-05          14.17          40.73           49.88          167.65\n",
       "2023-06          14.23          40.87           49.95          167.67\n",
       "2023-07          14.28          40.98           50.00          167.68\n",
       "2023-08          14.31          41.07           50.03          167.69\n",
       "2023-09          14.33          41.11           50.10          167.70\n",
       "2023-10          14.33          41.12           50.19          167.71\n",
       "2023-11          14.34          41.14           50.22          167.72\n",
       "2023-12          14.35          41.17           50.22          167.72"
      ]
     },
     "execution_count": 252,
     "metadata": {},
     "output_type": "execute_result"
    }
   ],
   "source": [
    "df_pred=predict(model, df_test, INDEX, seqlen=seqlen)\n",
    "data=scaler.inverse_transform(df_pred.values)\n",
    "df_pred=pd.DataFrame(data=data, columns=df_pred.columns, index=df_pred.index)\n",
    "df_pred=df_pred[['10cm湿度(kg/m2)', '40cm湿度(kg/m2)', '100cm湿度(kg/m2)', '200cm湿度(kg/m2)']]\n",
    "df_pred=df_pred.applymap(lambda x: round(x, 2))\n",
    "df_pred"
   ]
  },
  {
   "cell_type": "code",
   "execution_count": 253,
   "id": "0b08f107",
   "metadata": {},
   "outputs": [],
   "source": [
    "df_pred.to_excel('问题2-预测结果.xlsx')"
   ]
  }
 ],
 "metadata": {
  "kernelspec": {
   "display_name": "Python 3 (ipykernel)",
   "language": "python",
   "name": "python3"
  },
  "language_info": {
   "codemirror_mode": {
    "name": "ipython",
    "version": 3
   },
   "file_extension": ".py",
   "mimetype": "text/x-python",
   "name": "python",
   "nbconvert_exporter": "python",
   "pygments_lexer": "ipython3",
   "version": "3.9.7"
  }
 },
 "nbformat": 4,
 "nbformat_minor": 5
}

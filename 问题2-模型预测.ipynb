{
 "cells": [
  {
   "cell_type": "code",
   "execution_count": 2,
   "id": "74d806f4",
   "metadata": {},
   "outputs": [],
   "source": [
    "import pandas as pd\n",
    "import numpy as np\n",
    "import seaborn as sns\n",
    "from pathlib import Path as P\n",
    "import matplotlib.pyplot as plt\n",
    "plt.rcParams['font.sans-serif'] = ['KaiTi', 'SimHei', 'FangSong']  # 汉字字体,优先使用楷体，如果找不到楷体，则使用黑体\n",
    "plt.rcParams['font.size'] = 12  # 字体大小\n",
    "plt.rcParams['axes.unicode_minus'] = False  # 正常显示负号\n",
    "from collections import defaultdict\n",
    "import plotly.express as px\n",
    "import pickle\n",
    "from sklearn.preprocessing import StandardScaler, MinMaxScaler\n",
    "from sklearn.model_selection import train_test_split\n",
    "\n",
    "import tensorflow.keras as keras"
   ]
  },
  {
   "cell_type": "code",
   "execution_count": 69,
   "id": "e2d95214",
   "metadata": {},
   "outputs": [],
   "source": [
    "scaler=pickle.load(P('问题2-MinMaxScaler-训练数据.csv').open('rb'))\n",
    "# df=pd.read_csv('问题2-训练数据-归一化.csv',index_col='time', parse_dates=True)\n",
    "df=pd.read_csv('问题2-训练数据-归一化.csv').drop(columns='time')\n",
    "model=keras.models.load_model('./problem2_checkpoint.h5')"
   ]
  },
  {
   "cell_type": "code",
   "execution_count": 70,
   "id": "cf5991c1",
   "metadata": {
    "scrolled": false
   },
   "outputs": [
    {
     "data": {
      "text/plain": [
       "(     10cm湿度(kg/m2)  40cm湿度(kg/m2)  100cm湿度(kg/m2)  土壤蒸发量(mm)   降水量(mm)  \\\n",
       " 120       0.225522       0.701157        1.000000   0.004360  0.681001   \n",
       " 121       0.197432       0.701157        1.000000   0.000000  0.892632   \n",
       " 122       0.426966       0.700844        0.999804   0.146448  0.129593   \n",
       " \n",
       "       平均气温(℃)  \n",
       " 120  0.129112  \n",
       " 121  0.111732  \n",
       " 122  0.433892  ,\n",
       " array([[[0.22552167, 0.70115661, 1.        , 0.00436009, 0.68100113,\n",
       "          0.12911235],\n",
       "         [0.19743178, 0.70115661, 1.        , 0.        , 0.89263167,\n",
       "          0.11173184],\n",
       "         [0.42696629, 0.70084401, 0.99980427, 0.14644781, 0.12959329,\n",
       "          0.43389199]]]))"
      ]
     },
     "execution_count": 70,
     "metadata": {},
     "output_type": "execute_result"
    }
   ],
   "source": [
    "df_test = df.iloc[-3:, :]\n",
    "test=df_test.values.reshape([1,3,-1])\n",
    "df_test,test"
   ]
  },
  {
   "cell_type": "code",
   "execution_count": 71,
   "id": "44569095",
   "metadata": {},
   "outputs": [
    {
     "data": {
      "text/html": [
       "<div>\n",
       "<style scoped>\n",
       "    .dataframe tbody tr th:only-of-type {\n",
       "        vertical-align: middle;\n",
       "    }\n",
       "\n",
       "    .dataframe tbody tr th {\n",
       "        vertical-align: top;\n",
       "    }\n",
       "\n",
       "    .dataframe thead th {\n",
       "        text-align: right;\n",
       "    }\n",
       "</style>\n",
       "<table border=\"1\" class=\"dataframe\">\n",
       "  <thead>\n",
       "    <tr style=\"text-align: right;\">\n",
       "      <th></th>\n",
       "      <th>10cm湿度(kg/m2)</th>\n",
       "      <th>40cm湿度(kg/m2)</th>\n",
       "      <th>100cm湿度(kg/m2)</th>\n",
       "      <th>土壤蒸发量(mm)</th>\n",
       "      <th>降水量(mm)</th>\n",
       "      <th>平均气温(℃)</th>\n",
       "    </tr>\n",
       "  </thead>\n",
       "  <tbody>\n",
       "    <tr>\n",
       "      <th>0</th>\n",
       "      <td>0.235638</td>\n",
       "      <td>0.563554</td>\n",
       "      <td>0.822945</td>\n",
       "      <td>0.046143</td>\n",
       "      <td>0.514566</td>\n",
       "      <td>0.195223</td>\n",
       "    </tr>\n",
       "  </tbody>\n",
       "</table>\n",
       "</div>"
      ],
      "text/plain": [
       "   10cm湿度(kg/m2)  40cm湿度(kg/m2)  100cm湿度(kg/m2)  土壤蒸发量(mm)   降水量(mm)   平均气温(℃)\n",
       "0       0.235638       0.563554        0.822945   0.046143  0.514566  0.195223"
      ]
     },
     "execution_count": 71,
     "metadata": {},
     "output_type": "execute_result"
    }
   ],
   "source": [
    "pred=model.predict(test)\n",
    "df_pred=pd.DataFrame(pred, columns=df.columns)\n",
    "df_pred"
   ]
  },
  {
   "cell_type": "code",
   "execution_count": 75,
   "id": "e2bf2f29",
   "metadata": {},
   "outputs": [
    {
     "data": {
      "text/html": [
       "<div>\n",
       "<style scoped>\n",
       "    .dataframe tbody tr th:only-of-type {\n",
       "        vertical-align: middle;\n",
       "    }\n",
       "\n",
       "    .dataframe tbody tr th {\n",
       "        vertical-align: top;\n",
       "    }\n",
       "\n",
       "    .dataframe thead th {\n",
       "        text-align: right;\n",
       "    }\n",
       "</style>\n",
       "<table border=\"1\" class=\"dataframe\">\n",
       "  <thead>\n",
       "    <tr style=\"text-align: right;\">\n",
       "      <th></th>\n",
       "      <th>10cm湿度(kg/m2)</th>\n",
       "      <th>40cm湿度(kg/m2)</th>\n",
       "      <th>100cm湿度(kg/m2)</th>\n",
       "      <th>土壤蒸发量(mm)</th>\n",
       "      <th>降水量(mm)</th>\n",
       "      <th>平均气温(℃)</th>\n",
       "    </tr>\n",
       "  </thead>\n",
       "  <tbody>\n",
       "    <tr>\n",
       "      <th>121</th>\n",
       "      <td>0.225522</td>\n",
       "      <td>0.701157</td>\n",
       "      <td>1.000000</td>\n",
       "      <td>0.004360</td>\n",
       "      <td>0.681001</td>\n",
       "      <td>0.129112</td>\n",
       "    </tr>\n",
       "    <tr>\n",
       "      <th>122</th>\n",
       "      <td>0.197432</td>\n",
       "      <td>0.701157</td>\n",
       "      <td>1.000000</td>\n",
       "      <td>0.000000</td>\n",
       "      <td>0.892632</td>\n",
       "      <td>0.111732</td>\n",
       "    </tr>\n",
       "    <tr>\n",
       "      <th>0</th>\n",
       "      <td>0.426966</td>\n",
       "      <td>0.700844</td>\n",
       "      <td>0.999804</td>\n",
       "      <td>0.146448</td>\n",
       "      <td>0.129593</td>\n",
       "      <td>0.433892</td>\n",
       "    </tr>\n",
       "  </tbody>\n",
       "</table>\n",
       "</div>"
      ],
      "text/plain": [
       "     10cm湿度(kg/m2)  40cm湿度(kg/m2)  100cm湿度(kg/m2)  土壤蒸发量(mm)   降水量(mm)  \\\n",
       "121       0.225522       0.701157        1.000000   0.004360  0.681001   \n",
       "122       0.197432       0.701157        1.000000   0.000000  0.892632   \n",
       "0         0.426966       0.700844        0.999804   0.146448  0.129593   \n",
       "\n",
       "      平均气温(℃)  \n",
       "121  0.129112  \n",
       "122  0.111732  \n",
       "0    0.433892  "
      ]
     },
     "execution_count": 75,
     "metadata": {},
     "output_type": "execute_result"
    }
   ],
   "source": [
    "pd.concat([df_test, df_pred]).shift(1).dropna()"
   ]
  },
  {
   "cell_type": "code",
   "execution_count": null,
   "id": "a7fd6be7",
   "metadata": {},
   "outputs": [],
   "source": [
    "def predict(model, init_inputs):\n",
    "    "
   ]
  }
 ],
 "metadata": {
  "kernelspec": {
   "display_name": "Python 3 (ipykernel)",
   "language": "python",
   "name": "python3"
  },
  "language_info": {
   "codemirror_mode": {
    "name": "ipython",
    "version": 3
   },
   "file_extension": ".py",
   "mimetype": "text/x-python",
   "name": "python",
   "nbconvert_exporter": "python",
   "pygments_lexer": "ipython3",
   "version": "3.9.7"
  }
 },
 "nbformat": 4,
 "nbformat_minor": 5
}

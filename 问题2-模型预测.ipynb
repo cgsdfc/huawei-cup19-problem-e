{
 "cells": [
  {
   "cell_type": "code",
   "execution_count": 194,
   "id": "74d806f4",
   "metadata": {},
   "outputs": [],
   "source": [
    "import pandas as pd\n",
    "import numpy as np\n",
    "import seaborn as sns\n",
    "from pathlib import Path as P\n",
    "import matplotlib.pyplot as plt\n",
    "plt.rcParams['font.sans-serif'] = ['KaiTi', 'SimHei', 'FangSong']  # 汉字字体,优先使用楷体，如果找不到楷体，则使用黑体\n",
    "plt.rcParams['font.size'] = 12  # 字体大小\n",
    "plt.rcParams['axes.unicode_minus'] = False  # 正常显示负号\n",
    "from collections import defaultdict\n",
    "import plotly.express as px\n",
    "import pickle\n",
    "from sklearn.preprocessing import StandardScaler, MinMaxScaler\n",
    "from sklearn.model_selection import train_test_split\n",
    "\n",
    "import tensorflow.keras as keras"
   ]
  },
  {
   "cell_type": "code",
   "execution_count": 195,
   "id": "3d555015",
   "metadata": {},
   "outputs": [],
   "source": [
    "seqlen=3"
   ]
  },
  {
   "cell_type": "code",
   "execution_count": 196,
   "id": "e2d95214",
   "metadata": {},
   "outputs": [],
   "source": [
    "scaler=pickle.load(P('问题2-MinMaxScaler-训练数据.csv').open('rb'))\n",
    "# df=pd.read_csv('问题2-训练数据-归一化.csv',index_col='time', parse_dates=True)\n",
    "df=pd.read_csv('问题2-训练数据-归一化.csv').drop(columns='time')\n",
    "model=keras.models.load_model('./problem2_checkpoint.h5')"
   ]
  },
  {
   "cell_type": "code",
   "execution_count": 197,
   "id": "b2d5a889",
   "metadata": {},
   "outputs": [
    {
     "data": {
      "text/plain": [
       "(array([0.08025682, 0.03125977, 0.0195733 , 0.0256476 , 0.00112134,\n",
       "        0.02069108]),\n",
       " array([-0.77367576, -0.92872773, -0.82912507, -0.00692485,  0.        ,\n",
       "         0.48272295]))"
      ]
     },
     "execution_count": 197,
     "metadata": {},
     "output_type": "execute_result"
    }
   ],
   "source": [
    "scaler.scale_, scaler.min_"
   ]
  },
  {
   "cell_type": "code",
   "execution_count": 198,
   "id": "0e932213",
   "metadata": {},
   "outputs": [
    {
     "data": {
      "text/html": [
       "<div>\n",
       "<style scoped>\n",
       "    .dataframe tbody tr th:only-of-type {\n",
       "        vertical-align: middle;\n",
       "    }\n",
       "\n",
       "    .dataframe tbody tr th {\n",
       "        vertical-align: top;\n",
       "    }\n",
       "\n",
       "    .dataframe thead th {\n",
       "        text-align: right;\n",
       "    }\n",
       "</style>\n",
       "<table border=\"1\" class=\"dataframe\">\n",
       "  <thead>\n",
       "    <tr style=\"text-align: right;\">\n",
       "      <th></th>\n",
       "      <th>time</th>\n",
       "      <th>10cm湿度(kg/m2)</th>\n",
       "      <th>40cm湿度(kg/m2)</th>\n",
       "      <th>100cm湿度(kg/m2)</th>\n",
       "      <th>土壤蒸发量(mm)</th>\n",
       "      <th>降水量(mm)</th>\n",
       "      <th>平均气温(℃)</th>\n",
       "    </tr>\n",
       "  </thead>\n",
       "  <tbody>\n",
       "    <tr>\n",
       "      <th>0</th>\n",
       "      <td>2012-01-01</td>\n",
       "      <td>13.73</td>\n",
       "      <td>30.87</td>\n",
       "      <td>42.79</td>\n",
       "      <td>0.61</td>\n",
       "      <td>2.29</td>\n",
       "      <td>-22.94</td>\n",
       "    </tr>\n",
       "    <tr>\n",
       "      <th>1</th>\n",
       "      <td>2012-02-01</td>\n",
       "      <td>13.00</td>\n",
       "      <td>30.87</td>\n",
       "      <td>42.79</td>\n",
       "      <td>0.86</td>\n",
       "      <td>2.29</td>\n",
       "      <td>-17.86</td>\n",
       "    </tr>\n",
       "    <tr>\n",
       "      <th>2</th>\n",
       "      <td>2012-03-01</td>\n",
       "      <td>12.60</td>\n",
       "      <td>30.87</td>\n",
       "      <td>42.79</td>\n",
       "      <td>1.91</td>\n",
       "      <td>21.84</td>\n",
       "      <td>-7.11</td>\n",
       "    </tr>\n",
       "    <tr>\n",
       "      <th>3</th>\n",
       "      <td>2012-04-01</td>\n",
       "      <td>11.97</td>\n",
       "      <td>30.73</td>\n",
       "      <td>42.76</td>\n",
       "      <td>7.20</td>\n",
       "      <td>6.10</td>\n",
       "      <td>6.94</td>\n",
       "    </tr>\n",
       "    <tr>\n",
       "      <th>4</th>\n",
       "      <td>2012-05-01</td>\n",
       "      <td>14.18</td>\n",
       "      <td>29.99</td>\n",
       "      <td>42.58</td>\n",
       "      <td>18.10</td>\n",
       "      <td>50.80</td>\n",
       "      <td>14.61</td>\n",
       "    </tr>\n",
       "    <tr>\n",
       "      <th>...</th>\n",
       "      <td>...</td>\n",
       "      <td>...</td>\n",
       "      <td>...</td>\n",
       "      <td>...</td>\n",
       "      <td>...</td>\n",
       "      <td>...</td>\n",
       "      <td>...</td>\n",
       "    </tr>\n",
       "    <tr>\n",
       "      <th>118</th>\n",
       "      <td>2021-11-01</td>\n",
       "      <td>13.91</td>\n",
       "      <td>52.17</td>\n",
       "      <td>93.43</td>\n",
       "      <td>1.44</td>\n",
       "      <td>530.86</td>\n",
       "      <td>-5.89</td>\n",
       "    </tr>\n",
       "    <tr>\n",
       "      <th>119</th>\n",
       "      <td>2021-12-01</td>\n",
       "      <td>13.14</td>\n",
       "      <td>52.14</td>\n",
       "      <td>93.45</td>\n",
       "      <td>0.93</td>\n",
       "      <td>193.80</td>\n",
       "      <td>-12.41</td>\n",
       "    </tr>\n",
       "    <tr>\n",
       "      <th>120</th>\n",
       "      <td>2022-01-01</td>\n",
       "      <td>12.45</td>\n",
       "      <td>52.14</td>\n",
       "      <td>93.45</td>\n",
       "      <td>0.44</td>\n",
       "      <td>607.31</td>\n",
       "      <td>-17.09</td>\n",
       "    </tr>\n",
       "    <tr>\n",
       "      <th>121</th>\n",
       "      <td>2022-02-01</td>\n",
       "      <td>12.10</td>\n",
       "      <td>52.14</td>\n",
       "      <td>93.45</td>\n",
       "      <td>0.27</td>\n",
       "      <td>796.04</td>\n",
       "      <td>-17.93</td>\n",
       "    </tr>\n",
       "    <tr>\n",
       "      <th>122</th>\n",
       "      <td>2022-03-01</td>\n",
       "      <td>14.96</td>\n",
       "      <td>52.13</td>\n",
       "      <td>93.44</td>\n",
       "      <td>5.98</td>\n",
       "      <td>115.57</td>\n",
       "      <td>-2.36</td>\n",
       "    </tr>\n",
       "  </tbody>\n",
       "</table>\n",
       "<p>123 rows × 7 columns</p>\n",
       "</div>"
      ],
      "text/plain": [
       "           time  10cm湿度(kg/m2)  40cm湿度(kg/m2)  100cm湿度(kg/m2)  土壤蒸发量(mm)  \\\n",
       "0    2012-01-01          13.73          30.87           42.79       0.61   \n",
       "1    2012-02-01          13.00          30.87           42.79       0.86   \n",
       "2    2012-03-01          12.60          30.87           42.79       1.91   \n",
       "3    2012-04-01          11.97          30.73           42.76       7.20   \n",
       "4    2012-05-01          14.18          29.99           42.58      18.10   \n",
       "..          ...            ...            ...             ...        ...   \n",
       "118  2021-11-01          13.91          52.17           93.43       1.44   \n",
       "119  2021-12-01          13.14          52.14           93.45       0.93   \n",
       "120  2022-01-01          12.45          52.14           93.45       0.44   \n",
       "121  2022-02-01          12.10          52.14           93.45       0.27   \n",
       "122  2022-03-01          14.96          52.13           93.44       5.98   \n",
       "\n",
       "     降水量(mm)  平均气温(℃)  \n",
       "0       2.29   -22.94  \n",
       "1       2.29   -17.86  \n",
       "2      21.84    -7.11  \n",
       "3       6.10     6.94  \n",
       "4      50.80    14.61  \n",
       "..       ...      ...  \n",
       "118   530.86    -5.89  \n",
       "119   193.80   -12.41  \n",
       "120   607.31   -17.09  \n",
       "121   796.04   -17.93  \n",
       "122   115.57    -2.36  \n",
       "\n",
       "[123 rows x 7 columns]"
      ]
     },
     "execution_count": 198,
     "metadata": {},
     "output_type": "execute_result"
    }
   ],
   "source": [
    "df_raw=pd.read_csv('问题2-原始训练数据.csv')\n",
    "df_raw"
   ]
  },
  {
   "cell_type": "code",
   "execution_count": 199,
   "id": "11526986",
   "metadata": {},
   "outputs": [
    {
     "data": {
      "text/plain": [
       "((3, 6), (1, 3, 6))"
      ]
     },
     "execution_count": 199,
     "metadata": {},
     "output_type": "execute_result"
    }
   ],
   "source": [
    "df_test = df.iloc[-seqlen:, :]\n",
    "test=df_test.values.reshape([1,seqlen,-1])\n",
    "df_test.shape, test.shape"
   ]
  },
  {
   "cell_type": "code",
   "execution_count": 200,
   "id": "d318777f",
   "metadata": {},
   "outputs": [],
   "source": [
    "def predict(model, df_test: pd.DataFrame, n: int, seqlen: int):\n",
    "    for i in range(n):\n",
    "        test=df_test.iloc[-seqlen:, :].values.reshape([1,seqlen,-1])\n",
    "        pred=model.predict(test)\n",
    "        df_pred=pd.DataFrame(pred, columns=df.columns)\n",
    "        df_test = pd.concat([df_test, df_pred])\n",
    "        \n",
    "    df_test.index=pd.Index(range(len(df_test)))\n",
    "    \n",
    "    return df_test"
   ]
  },
  {
   "cell_type": "code",
   "execution_count": 201,
   "id": "b2a02627",
   "metadata": {},
   "outputs": [],
   "source": [
    "df_pred=predict(model, df_test, 21, seqlen=seqlen)"
   ]
  },
  {
   "cell_type": "code",
   "execution_count": 202,
   "id": "9b4f5696",
   "metadata": {},
   "outputs": [
    {
     "data": {
      "text/html": [
       "<div>\n",
       "<style scoped>\n",
       "    .dataframe tbody tr th:only-of-type {\n",
       "        vertical-align: middle;\n",
       "    }\n",
       "\n",
       "    .dataframe tbody tr th {\n",
       "        vertical-align: top;\n",
       "    }\n",
       "\n",
       "    .dataframe thead th {\n",
       "        text-align: right;\n",
       "    }\n",
       "</style>\n",
       "<table border=\"1\" class=\"dataframe\">\n",
       "  <thead>\n",
       "    <tr style=\"text-align: right;\">\n",
       "      <th></th>\n",
       "      <th>10cm湿度(kg/m2)</th>\n",
       "      <th>40cm湿度(kg/m2)</th>\n",
       "      <th>100cm湿度(kg/m2)</th>\n",
       "      <th>土壤蒸发量(mm)</th>\n",
       "      <th>降水量(mm)</th>\n",
       "      <th>平均气温(℃)</th>\n",
       "    </tr>\n",
       "  </thead>\n",
       "  <tbody>\n",
       "    <tr>\n",
       "      <th>0</th>\n",
       "      <td>12.450000</td>\n",
       "      <td>52.140000</td>\n",
       "      <td>93.450000</td>\n",
       "      <td>0.440000</td>\n",
       "      <td>607.310000</td>\n",
       "      <td>-17.090000</td>\n",
       "    </tr>\n",
       "    <tr>\n",
       "      <th>1</th>\n",
       "      <td>12.100000</td>\n",
       "      <td>52.140000</td>\n",
       "      <td>93.450000</td>\n",
       "      <td>0.270000</td>\n",
       "      <td>796.040000</td>\n",
       "      <td>-17.930000</td>\n",
       "    </tr>\n",
       "    <tr>\n",
       "      <th>2</th>\n",
       "      <td>14.960000</td>\n",
       "      <td>52.130000</td>\n",
       "      <td>93.440000</td>\n",
       "      <td>5.980000</td>\n",
       "      <td>115.570000</td>\n",
       "      <td>-2.360000</td>\n",
       "    </tr>\n",
       "    <tr>\n",
       "      <th>3</th>\n",
       "      <td>12.543921</td>\n",
       "      <td>59.673877</td>\n",
       "      <td>85.016336</td>\n",
       "      <td>-1.695563</td>\n",
       "      <td>289.498405</td>\n",
       "      <td>-18.113704</td>\n",
       "    </tr>\n",
       "    <tr>\n",
       "      <th>4</th>\n",
       "      <td>13.480292</td>\n",
       "      <td>59.595899</td>\n",
       "      <td>84.320882</td>\n",
       "      <td>-0.416096</td>\n",
       "      <td>243.911870</td>\n",
       "      <td>-15.596735</td>\n",
       "    </tr>\n",
       "    <tr>\n",
       "      <th>5</th>\n",
       "      <td>15.067871</td>\n",
       "      <td>60.343100</td>\n",
       "      <td>83.707746</td>\n",
       "      <td>2.871916</td>\n",
       "      <td>129.182480</td>\n",
       "      <td>-11.681959</td>\n",
       "    </tr>\n",
       "    <tr>\n",
       "      <th>6</th>\n",
       "      <td>14.197319</td>\n",
       "      <td>60.643808</td>\n",
       "      <td>81.190071</td>\n",
       "      <td>-1.107586</td>\n",
       "      <td>190.326436</td>\n",
       "      <td>-15.269624</td>\n",
       "    </tr>\n",
       "    <tr>\n",
       "      <th>7</th>\n",
       "      <td>15.236892</td>\n",
       "      <td>60.823220</td>\n",
       "      <td>80.206818</td>\n",
       "      <td>1.451323</td>\n",
       "      <td>162.600361</td>\n",
       "      <td>-12.228138</td>\n",
       "    </tr>\n",
       "    <tr>\n",
       "      <th>8</th>\n",
       "      <td>15.923503</td>\n",
       "      <td>60.954546</td>\n",
       "      <td>78.848908</td>\n",
       "      <td>3.368093</td>\n",
       "      <td>144.582336</td>\n",
       "      <td>-9.875608</td>\n",
       "    </tr>\n",
       "    <tr>\n",
       "      <th>9</th>\n",
       "      <td>15.680838</td>\n",
       "      <td>60.594173</td>\n",
       "      <td>77.367677</td>\n",
       "      <td>2.879606</td>\n",
       "      <td>158.291365</td>\n",
       "      <td>-9.573211</td>\n",
       "    </tr>\n",
       "    <tr>\n",
       "      <th>10</th>\n",
       "      <td>16.517052</td>\n",
       "      <td>60.657777</td>\n",
       "      <td>76.240386</td>\n",
       "      <td>5.678111</td>\n",
       "      <td>145.980056</td>\n",
       "      <td>-6.265279</td>\n",
       "    </tr>\n",
       "    <tr>\n",
       "      <th>11</th>\n",
       "      <td>16.852608</td>\n",
       "      <td>60.431422</td>\n",
       "      <td>74.997834</td>\n",
       "      <td>7.439933</td>\n",
       "      <td>141.799615</td>\n",
       "      <td>-3.881968</td>\n",
       "    </tr>\n",
       "    <tr>\n",
       "      <th>12</th>\n",
       "      <td>16.948612</td>\n",
       "      <td>60.043076</td>\n",
       "      <td>73.970264</td>\n",
       "      <td>8.673426</td>\n",
       "      <td>141.725809</td>\n",
       "      <td>-1.918480</td>\n",
       "    </tr>\n",
       "    <tr>\n",
       "      <th>13</th>\n",
       "      <td>17.561919</td>\n",
       "      <td>59.895692</td>\n",
       "      <td>72.960354</td>\n",
       "      <td>11.463918</td>\n",
       "      <td>133.929697</td>\n",
       "      <td>1.420668</td>\n",
       "    </tr>\n",
       "    <tr>\n",
       "      <th>14</th>\n",
       "      <td>17.780900</td>\n",
       "      <td>59.488911</td>\n",
       "      <td>72.014447</td>\n",
       "      <td>13.391789</td>\n",
       "      <td>129.505993</td>\n",
       "      <td>3.955064</td>\n",
       "    </tr>\n",
       "    <tr>\n",
       "      <th>15</th>\n",
       "      <td>18.008620</td>\n",
       "      <td>59.068882</td>\n",
       "      <td>71.223560</td>\n",
       "      <td>15.373440</td>\n",
       "      <td>124.363769</td>\n",
       "      <td>6.517376</td>\n",
       "    </tr>\n",
       "    <tr>\n",
       "      <th>16</th>\n",
       "      <td>18.433579</td>\n",
       "      <td>58.716630</td>\n",
       "      <td>70.364570</td>\n",
       "      <td>17.921599</td>\n",
       "      <td>117.202990</td>\n",
       "      <td>9.526974</td>\n",
       "    </tr>\n",
       "    <tr>\n",
       "      <th>17</th>\n",
       "      <td>18.603508</td>\n",
       "      <td>58.193709</td>\n",
       "      <td>69.585205</td>\n",
       "      <td>19.826562</td>\n",
       "      <td>111.206408</td>\n",
       "      <td>11.897614</td>\n",
       "    </tr>\n",
       "    <tr>\n",
       "      <th>18</th>\n",
       "      <td>18.835936</td>\n",
       "      <td>57.688437</td>\n",
       "      <td>68.829018</td>\n",
       "      <td>21.815736</td>\n",
       "      <td>104.563204</td>\n",
       "      <td>14.293454</td>\n",
       "    </tr>\n",
       "    <tr>\n",
       "      <th>19</th>\n",
       "      <td>19.104159</td>\n",
       "      <td>57.164408</td>\n",
       "      <td>67.973681</td>\n",
       "      <td>23.823949</td>\n",
       "      <td>97.953009</td>\n",
       "      <td>16.645419</td>\n",
       "    </tr>\n",
       "    <tr>\n",
       "      <th>20</th>\n",
       "      <td>19.223969</td>\n",
       "      <td>56.539675</td>\n",
       "      <td>67.143706</td>\n",
       "      <td>25.364856</td>\n",
       "      <td>91.860390</td>\n",
       "      <td>18.529149</td>\n",
       "    </tr>\n",
       "    <tr>\n",
       "      <th>21</th>\n",
       "      <td>19.386764</td>\n",
       "      <td>55.918312</td>\n",
       "      <td>66.247150</td>\n",
       "      <td>26.879613</td>\n",
       "      <td>85.898970</td>\n",
       "      <td>20.357303</td>\n",
       "    </tr>\n",
       "    <tr>\n",
       "      <th>22</th>\n",
       "      <td>19.517726</td>\n",
       "      <td>55.246865</td>\n",
       "      <td>65.256634</td>\n",
       "      <td>28.197791</td>\n",
       "      <td>80.523781</td>\n",
       "      <td>21.982489</td>\n",
       "    </tr>\n",
       "    <tr>\n",
       "      <th>23</th>\n",
       "      <td>19.565331</td>\n",
       "      <td>54.513873</td>\n",
       "      <td>64.248816</td>\n",
       "      <td>29.193310</td>\n",
       "      <td>75.521420</td>\n",
       "      <td>23.304871</td>\n",
       "    </tr>\n",
       "  </tbody>\n",
       "</table>\n",
       "</div>"
      ],
      "text/plain": [
       "    10cm湿度(kg/m2)  40cm湿度(kg/m2)  100cm湿度(kg/m2)  土壤蒸发量(mm)     降水量(mm)  \\\n",
       "0       12.450000      52.140000       93.450000   0.440000  607.310000   \n",
       "1       12.100000      52.140000       93.450000   0.270000  796.040000   \n",
       "2       14.960000      52.130000       93.440000   5.980000  115.570000   \n",
       "3       12.543921      59.673877       85.016336  -1.695563  289.498405   \n",
       "4       13.480292      59.595899       84.320882  -0.416096  243.911870   \n",
       "5       15.067871      60.343100       83.707746   2.871916  129.182480   \n",
       "6       14.197319      60.643808       81.190071  -1.107586  190.326436   \n",
       "7       15.236892      60.823220       80.206818   1.451323  162.600361   \n",
       "8       15.923503      60.954546       78.848908   3.368093  144.582336   \n",
       "9       15.680838      60.594173       77.367677   2.879606  158.291365   \n",
       "10      16.517052      60.657777       76.240386   5.678111  145.980056   \n",
       "11      16.852608      60.431422       74.997834   7.439933  141.799615   \n",
       "12      16.948612      60.043076       73.970264   8.673426  141.725809   \n",
       "13      17.561919      59.895692       72.960354  11.463918  133.929697   \n",
       "14      17.780900      59.488911       72.014447  13.391789  129.505993   \n",
       "15      18.008620      59.068882       71.223560  15.373440  124.363769   \n",
       "16      18.433579      58.716630       70.364570  17.921599  117.202990   \n",
       "17      18.603508      58.193709       69.585205  19.826562  111.206408   \n",
       "18      18.835936      57.688437       68.829018  21.815736  104.563204   \n",
       "19      19.104159      57.164408       67.973681  23.823949   97.953009   \n",
       "20      19.223969      56.539675       67.143706  25.364856   91.860390   \n",
       "21      19.386764      55.918312       66.247150  26.879613   85.898970   \n",
       "22      19.517726      55.246865       65.256634  28.197791   80.523781   \n",
       "23      19.565331      54.513873       64.248816  29.193310   75.521420   \n",
       "\n",
       "      平均气温(℃)  \n",
       "0  -17.090000  \n",
       "1  -17.930000  \n",
       "2   -2.360000  \n",
       "3  -18.113704  \n",
       "4  -15.596735  \n",
       "5  -11.681959  \n",
       "6  -15.269624  \n",
       "7  -12.228138  \n",
       "8   -9.875608  \n",
       "9   -9.573211  \n",
       "10  -6.265279  \n",
       "11  -3.881968  \n",
       "12  -1.918480  \n",
       "13   1.420668  \n",
       "14   3.955064  \n",
       "15   6.517376  \n",
       "16   9.526974  \n",
       "17  11.897614  \n",
       "18  14.293454  \n",
       "19  16.645419  \n",
       "20  18.529149  \n",
       "21  20.357303  \n",
       "22  21.982489  \n",
       "23  23.304871  "
      ]
     },
     "execution_count": 202,
     "metadata": {},
     "output_type": "execute_result"
    }
   ],
   "source": [
    "pred=scaler.inverse_transform(df_pred)\n",
    "df_pred=pd.DataFrame(data=pred, columns=df_pred.columns)\n",
    "df_pred"
   ]
  },
  {
   "cell_type": "code",
   "execution_count": 203,
   "id": "9eec8549",
   "metadata": {},
   "outputs": [
    {
     "data": {
      "application/vnd.plotly.v1+json": {
       "config": {
        "plotlyServerURL": "https://plot.ly"
       },
       "data": [
        {
         "hovertemplate": "variable=10cm湿度(kg/m2)<br>index=%{x}<br>value=%{y}<extra></extra>",
         "legendgroup": "10cm湿度(kg/m2)",
         "line": {
          "color": "#636efa",
          "dash": "solid"
         },
         "marker": {
          "symbol": "circle"
         },
         "mode": "lines",
         "name": "10cm湿度(kg/m2)",
         "orientation": "v",
         "showlegend": true,
         "type": "scatter",
         "x": [
          0,
          1,
          2,
          3,
          4,
          5,
          6,
          7,
          8,
          9,
          10,
          11,
          12,
          13,
          14,
          15,
          16,
          17,
          18,
          19,
          20,
          21,
          22,
          23
         ],
         "xaxis": "x",
         "y": [
          12.45,
          12.1,
          14.960000000000003,
          12.543920944929123,
          13.480291963219642,
          15.067870997786523,
          14.197319451570511,
          15.23689168870449,
          15.923502968549728,
          15.680838364958763,
          16.51705164194107,
          16.852608036994933,
          16.948612003326417,
          17.56191877245903,
          17.78089987754822,
          18.008620026111604,
          18.43357875943184,
          18.60350774049759,
          18.835935698747637,
          19.10415905237198,
          19.22396942973137,
          19.38676354289055,
          19.51772591114044,
          19.565330563783647
         ],
         "yaxis": "y"
        },
        {
         "hovertemplate": "variable=40cm湿度(kg/m2)<br>index=%{x}<br>value=%{y}<extra></extra>",
         "legendgroup": "40cm湿度(kg/m2)",
         "line": {
          "color": "#EF553B",
          "dash": "solid"
         },
         "marker": {
          "symbol": "circle"
         },
         "mode": "lines",
         "name": "40cm湿度(kg/m2)",
         "orientation": "v",
         "showlegend": true,
         "type": "scatter",
         "x": [
          0,
          1,
          2,
          3,
          4,
          5,
          6,
          7,
          8,
          9,
          10,
          11,
          12,
          13,
          14,
          15,
          16,
          17,
          18,
          19,
          20,
          21,
          22,
          23
         ],
         "xaxis": "x",
         "y": [
          52.14,
          52.14,
          52.13,
          59.673877074718476,
          59.595898520946506,
          60.34309956371784,
          60.64380779385567,
          60.823219864964486,
          60.95454554259778,
          60.59417311728001,
          60.65777666330338,
          60.43142225027085,
          60.043075857758524,
          59.89569150984288,
          59.48891063332558,
          59.068881639838224,
          58.71663007378579,
          58.193708897233016,
          57.68843662261963,
          57.16440762281418,
          56.53967539191246,
          55.91831239283085,
          55.2468647235632,
          54.513872801065446
         ],
         "yaxis": "y"
        },
        {
         "hovertemplate": "variable=100cm湿度(kg/m2)<br>index=%{x}<br>value=%{y}<extra></extra>",
         "legendgroup": "100cm湿度(kg/m2)",
         "line": {
          "color": "#00cc96",
          "dash": "solid"
         },
         "marker": {
          "symbol": "circle"
         },
         "mode": "lines",
         "name": "100cm湿度(kg/m2)",
         "orientation": "v",
         "showlegend": true,
         "type": "scatter",
         "x": [
          0,
          1,
          2,
          3,
          4,
          5,
          6,
          7,
          8,
          9,
          10,
          11,
          12,
          13,
          14,
          15,
          16,
          17,
          18,
          19,
          20,
          21,
          22,
          23
         ],
         "xaxis": "x",
         "y": [
          93.45,
          93.45,
          93.44000000000001,
          85.01633631169796,
          84.32088237404824,
          83.70774631798268,
          81.19007132828236,
          80.2068184608221,
          78.84890838682652,
          77.36767679572105,
          76.24038590669632,
          74.99783414840698,
          73.97026446640491,
          72.96035390675068,
          72.01444738805294,
          71.22355988681316,
          70.36456950366497,
          69.58520504415036,
          68.82901761174202,
          67.97368147015571,
          67.14370576500893,
          66.24714977860451,
          65.25663410604,
          64.24881559967994
         ],
         "yaxis": "y"
        },
        {
         "hovertemplate": "variable=土壤蒸发量(mm)<br>index=%{x}<br>value=%{y}<extra></extra>",
         "legendgroup": "土壤蒸发量(mm)",
         "line": {
          "color": "#ab63fa",
          "dash": "solid"
         },
         "marker": {
          "symbol": "circle"
         },
         "mode": "lines",
         "name": "土壤蒸发量(mm)",
         "orientation": "v",
         "showlegend": true,
         "type": "scatter",
         "x": [
          0,
          1,
          2,
          3,
          4,
          5,
          6,
          7,
          8,
          9,
          10,
          11,
          12,
          13,
          14,
          15,
          16,
          17,
          18,
          19,
          20,
          21,
          22,
          23
         ],
         "xaxis": "x",
         "y": [
          0.43999999999999934,
          0.27,
          5.979999999999998,
          -1.695562978312373,
          -0.41609574135392896,
          2.871915997341275,
          -1.1075864688679573,
          1.451323457956314,
          3.368093207105994,
          2.879606354534626,
          5.6781108659505835,
          7.439933266043663,
          8.673425541520118,
          11.46391811430454,
          13.39178924977779,
          15.37343972444534,
          17.921598750948903,
          19.8265623652935,
          21.81573557972908,
          23.823949204087256,
          25.36485590457916,
          26.8796131247282,
          28.197791417241092,
          29.1933099424839
         ],
         "yaxis": "y"
        },
        {
         "hovertemplate": "variable=降水量(mm)<br>index=%{x}<br>value=%{y}<extra></extra>",
         "legendgroup": "降水量(mm)",
         "line": {
          "color": "#FFA15A",
          "dash": "solid"
         },
         "marker": {
          "symbol": "circle"
         },
         "mode": "lines",
         "name": "降水量(mm)",
         "orientation": "v",
         "showlegend": true,
         "type": "scatter",
         "x": [
          0,
          1,
          2,
          3,
          4,
          5,
          6,
          7,
          8,
          9,
          10,
          11,
          12,
          13,
          14,
          15,
          16,
          17,
          18,
          19,
          20,
          21,
          22,
          23
         ],
         "xaxis": "x",
         "y": [
          607.31,
          796.04,
          115.57000000000001,
          289.4984054541588,
          243.9118697488308,
          129.18247966721654,
          190.32643633782865,
          162.60036075100302,
          144.58233643904327,
          158.29136476799846,
          145.98005588173868,
          141.79961484581233,
          141.72580936968328,
          133.92969732582569,
          129.50599322795867,
          124.36376876741647,
          117.20298978328705,
          111.20640780180693,
          104.56320400439203,
          97.95300935402513,
          91.86038989037276,
          85.89896982640028,
          80.52378105148674,
          75.5214202272892
         ],
         "yaxis": "y"
        },
        {
         "hovertemplate": "variable=平均气温(℃)<br>index=%{x}<br>value=%{y}<extra></extra>",
         "legendgroup": "平均气温(℃)",
         "line": {
          "color": "#19d3f3",
          "dash": "solid"
         },
         "marker": {
          "symbol": "circle"
         },
         "mode": "lines",
         "name": "平均气温(℃)",
         "orientation": "v",
         "showlegend": true,
         "type": "scatter",
         "x": [
          0,
          1,
          2,
          3,
          4,
          5,
          6,
          7,
          8,
          9,
          10,
          11,
          12,
          13,
          14,
          15,
          16,
          17,
          18,
          19,
          20,
          21,
          22,
          23
         ],
         "xaxis": "x",
         "y": [
          -17.09,
          -17.930000000000003,
          -2.3599999999999994,
          -18.11370398849249,
          -15.596734941005705,
          -11.681958838403224,
          -15.26962438777089,
          -12.228138132989406,
          -9.875607654452322,
          -9.57321128219366,
          -6.265278977155684,
          -3.8819682994484888,
          -1.9184796616435038,
          1.4206678271293653,
          3.955063623785974,
          6.517376211285592,
          9.526973920464517,
          11.897613872289659,
          14.29345412194729,
          16.645418544411662,
          18.52914944946766,
          20.35730315446854,
          21.98248902857304,
          23.304870912432673
         ],
         "yaxis": "y"
        }
       ],
       "layout": {
        "legend": {
         "title": {
          "text": "variable"
         },
         "tracegroupgap": 0
        },
        "margin": {
         "t": 60
        },
        "template": {
         "data": {
          "bar": [
           {
            "error_x": {
             "color": "#2a3f5f"
            },
            "error_y": {
             "color": "#2a3f5f"
            },
            "marker": {
             "line": {
              "color": "#E5ECF6",
              "width": 0.5
             },
             "pattern": {
              "fillmode": "overlay",
              "size": 10,
              "solidity": 0.2
             }
            },
            "type": "bar"
           }
          ],
          "barpolar": [
           {
            "marker": {
             "line": {
              "color": "#E5ECF6",
              "width": 0.5
             },
             "pattern": {
              "fillmode": "overlay",
              "size": 10,
              "solidity": 0.2
             }
            },
            "type": "barpolar"
           }
          ],
          "carpet": [
           {
            "aaxis": {
             "endlinecolor": "#2a3f5f",
             "gridcolor": "white",
             "linecolor": "white",
             "minorgridcolor": "white",
             "startlinecolor": "#2a3f5f"
            },
            "baxis": {
             "endlinecolor": "#2a3f5f",
             "gridcolor": "white",
             "linecolor": "white",
             "minorgridcolor": "white",
             "startlinecolor": "#2a3f5f"
            },
            "type": "carpet"
           }
          ],
          "choropleth": [
           {
            "colorbar": {
             "outlinewidth": 0,
             "ticks": ""
            },
            "type": "choropleth"
           }
          ],
          "contour": [
           {
            "colorbar": {
             "outlinewidth": 0,
             "ticks": ""
            },
            "colorscale": [
             [
              0,
              "#0d0887"
             ],
             [
              0.1111111111111111,
              "#46039f"
             ],
             [
              0.2222222222222222,
              "#7201a8"
             ],
             [
              0.3333333333333333,
              "#9c179e"
             ],
             [
              0.4444444444444444,
              "#bd3786"
             ],
             [
              0.5555555555555556,
              "#d8576b"
             ],
             [
              0.6666666666666666,
              "#ed7953"
             ],
             [
              0.7777777777777778,
              "#fb9f3a"
             ],
             [
              0.8888888888888888,
              "#fdca26"
             ],
             [
              1,
              "#f0f921"
             ]
            ],
            "type": "contour"
           }
          ],
          "contourcarpet": [
           {
            "colorbar": {
             "outlinewidth": 0,
             "ticks": ""
            },
            "type": "contourcarpet"
           }
          ],
          "heatmap": [
           {
            "colorbar": {
             "outlinewidth": 0,
             "ticks": ""
            },
            "colorscale": [
             [
              0,
              "#0d0887"
             ],
             [
              0.1111111111111111,
              "#46039f"
             ],
             [
              0.2222222222222222,
              "#7201a8"
             ],
             [
              0.3333333333333333,
              "#9c179e"
             ],
             [
              0.4444444444444444,
              "#bd3786"
             ],
             [
              0.5555555555555556,
              "#d8576b"
             ],
             [
              0.6666666666666666,
              "#ed7953"
             ],
             [
              0.7777777777777778,
              "#fb9f3a"
             ],
             [
              0.8888888888888888,
              "#fdca26"
             ],
             [
              1,
              "#f0f921"
             ]
            ],
            "type": "heatmap"
           }
          ],
          "heatmapgl": [
           {
            "colorbar": {
             "outlinewidth": 0,
             "ticks": ""
            },
            "colorscale": [
             [
              0,
              "#0d0887"
             ],
             [
              0.1111111111111111,
              "#46039f"
             ],
             [
              0.2222222222222222,
              "#7201a8"
             ],
             [
              0.3333333333333333,
              "#9c179e"
             ],
             [
              0.4444444444444444,
              "#bd3786"
             ],
             [
              0.5555555555555556,
              "#d8576b"
             ],
             [
              0.6666666666666666,
              "#ed7953"
             ],
             [
              0.7777777777777778,
              "#fb9f3a"
             ],
             [
              0.8888888888888888,
              "#fdca26"
             ],
             [
              1,
              "#f0f921"
             ]
            ],
            "type": "heatmapgl"
           }
          ],
          "histogram": [
           {
            "marker": {
             "pattern": {
              "fillmode": "overlay",
              "size": 10,
              "solidity": 0.2
             }
            },
            "type": "histogram"
           }
          ],
          "histogram2d": [
           {
            "colorbar": {
             "outlinewidth": 0,
             "ticks": ""
            },
            "colorscale": [
             [
              0,
              "#0d0887"
             ],
             [
              0.1111111111111111,
              "#46039f"
             ],
             [
              0.2222222222222222,
              "#7201a8"
             ],
             [
              0.3333333333333333,
              "#9c179e"
             ],
             [
              0.4444444444444444,
              "#bd3786"
             ],
             [
              0.5555555555555556,
              "#d8576b"
             ],
             [
              0.6666666666666666,
              "#ed7953"
             ],
             [
              0.7777777777777778,
              "#fb9f3a"
             ],
             [
              0.8888888888888888,
              "#fdca26"
             ],
             [
              1,
              "#f0f921"
             ]
            ],
            "type": "histogram2d"
           }
          ],
          "histogram2dcontour": [
           {
            "colorbar": {
             "outlinewidth": 0,
             "ticks": ""
            },
            "colorscale": [
             [
              0,
              "#0d0887"
             ],
             [
              0.1111111111111111,
              "#46039f"
             ],
             [
              0.2222222222222222,
              "#7201a8"
             ],
             [
              0.3333333333333333,
              "#9c179e"
             ],
             [
              0.4444444444444444,
              "#bd3786"
             ],
             [
              0.5555555555555556,
              "#d8576b"
             ],
             [
              0.6666666666666666,
              "#ed7953"
             ],
             [
              0.7777777777777778,
              "#fb9f3a"
             ],
             [
              0.8888888888888888,
              "#fdca26"
             ],
             [
              1,
              "#f0f921"
             ]
            ],
            "type": "histogram2dcontour"
           }
          ],
          "mesh3d": [
           {
            "colorbar": {
             "outlinewidth": 0,
             "ticks": ""
            },
            "type": "mesh3d"
           }
          ],
          "parcoords": [
           {
            "line": {
             "colorbar": {
              "outlinewidth": 0,
              "ticks": ""
             }
            },
            "type": "parcoords"
           }
          ],
          "pie": [
           {
            "automargin": true,
            "type": "pie"
           }
          ],
          "scatter": [
           {
            "fillpattern": {
             "fillmode": "overlay",
             "size": 10,
             "solidity": 0.2
            },
            "type": "scatter"
           }
          ],
          "scatter3d": [
           {
            "line": {
             "colorbar": {
              "outlinewidth": 0,
              "ticks": ""
             }
            },
            "marker": {
             "colorbar": {
              "outlinewidth": 0,
              "ticks": ""
             }
            },
            "type": "scatter3d"
           }
          ],
          "scattercarpet": [
           {
            "marker": {
             "colorbar": {
              "outlinewidth": 0,
              "ticks": ""
             }
            },
            "type": "scattercarpet"
           }
          ],
          "scattergeo": [
           {
            "marker": {
             "colorbar": {
              "outlinewidth": 0,
              "ticks": ""
             }
            },
            "type": "scattergeo"
           }
          ],
          "scattergl": [
           {
            "marker": {
             "colorbar": {
              "outlinewidth": 0,
              "ticks": ""
             }
            },
            "type": "scattergl"
           }
          ],
          "scattermapbox": [
           {
            "marker": {
             "colorbar": {
              "outlinewidth": 0,
              "ticks": ""
             }
            },
            "type": "scattermapbox"
           }
          ],
          "scatterpolar": [
           {
            "marker": {
             "colorbar": {
              "outlinewidth": 0,
              "ticks": ""
             }
            },
            "type": "scatterpolar"
           }
          ],
          "scatterpolargl": [
           {
            "marker": {
             "colorbar": {
              "outlinewidth": 0,
              "ticks": ""
             }
            },
            "type": "scatterpolargl"
           }
          ],
          "scatterternary": [
           {
            "marker": {
             "colorbar": {
              "outlinewidth": 0,
              "ticks": ""
             }
            },
            "type": "scatterternary"
           }
          ],
          "surface": [
           {
            "colorbar": {
             "outlinewidth": 0,
             "ticks": ""
            },
            "colorscale": [
             [
              0,
              "#0d0887"
             ],
             [
              0.1111111111111111,
              "#46039f"
             ],
             [
              0.2222222222222222,
              "#7201a8"
             ],
             [
              0.3333333333333333,
              "#9c179e"
             ],
             [
              0.4444444444444444,
              "#bd3786"
             ],
             [
              0.5555555555555556,
              "#d8576b"
             ],
             [
              0.6666666666666666,
              "#ed7953"
             ],
             [
              0.7777777777777778,
              "#fb9f3a"
             ],
             [
              0.8888888888888888,
              "#fdca26"
             ],
             [
              1,
              "#f0f921"
             ]
            ],
            "type": "surface"
           }
          ],
          "table": [
           {
            "cells": {
             "fill": {
              "color": "#EBF0F8"
             },
             "line": {
              "color": "white"
             }
            },
            "header": {
             "fill": {
              "color": "#C8D4E3"
             },
             "line": {
              "color": "white"
             }
            },
            "type": "table"
           }
          ]
         },
         "layout": {
          "annotationdefaults": {
           "arrowcolor": "#2a3f5f",
           "arrowhead": 0,
           "arrowwidth": 1
          },
          "autotypenumbers": "strict",
          "coloraxis": {
           "colorbar": {
            "outlinewidth": 0,
            "ticks": ""
           }
          },
          "colorscale": {
           "diverging": [
            [
             0,
             "#8e0152"
            ],
            [
             0.1,
             "#c51b7d"
            ],
            [
             0.2,
             "#de77ae"
            ],
            [
             0.3,
             "#f1b6da"
            ],
            [
             0.4,
             "#fde0ef"
            ],
            [
             0.5,
             "#f7f7f7"
            ],
            [
             0.6,
             "#e6f5d0"
            ],
            [
             0.7,
             "#b8e186"
            ],
            [
             0.8,
             "#7fbc41"
            ],
            [
             0.9,
             "#4d9221"
            ],
            [
             1,
             "#276419"
            ]
           ],
           "sequential": [
            [
             0,
             "#0d0887"
            ],
            [
             0.1111111111111111,
             "#46039f"
            ],
            [
             0.2222222222222222,
             "#7201a8"
            ],
            [
             0.3333333333333333,
             "#9c179e"
            ],
            [
             0.4444444444444444,
             "#bd3786"
            ],
            [
             0.5555555555555556,
             "#d8576b"
            ],
            [
             0.6666666666666666,
             "#ed7953"
            ],
            [
             0.7777777777777778,
             "#fb9f3a"
            ],
            [
             0.8888888888888888,
             "#fdca26"
            ],
            [
             1,
             "#f0f921"
            ]
           ],
           "sequentialminus": [
            [
             0,
             "#0d0887"
            ],
            [
             0.1111111111111111,
             "#46039f"
            ],
            [
             0.2222222222222222,
             "#7201a8"
            ],
            [
             0.3333333333333333,
             "#9c179e"
            ],
            [
             0.4444444444444444,
             "#bd3786"
            ],
            [
             0.5555555555555556,
             "#d8576b"
            ],
            [
             0.6666666666666666,
             "#ed7953"
            ],
            [
             0.7777777777777778,
             "#fb9f3a"
            ],
            [
             0.8888888888888888,
             "#fdca26"
            ],
            [
             1,
             "#f0f921"
            ]
           ]
          },
          "colorway": [
           "#636efa",
           "#EF553B",
           "#00cc96",
           "#ab63fa",
           "#FFA15A",
           "#19d3f3",
           "#FF6692",
           "#B6E880",
           "#FF97FF",
           "#FECB52"
          ],
          "font": {
           "color": "#2a3f5f"
          },
          "geo": {
           "bgcolor": "white",
           "lakecolor": "white",
           "landcolor": "#E5ECF6",
           "showlakes": true,
           "showland": true,
           "subunitcolor": "white"
          },
          "hoverlabel": {
           "align": "left"
          },
          "hovermode": "closest",
          "mapbox": {
           "style": "light"
          },
          "paper_bgcolor": "white",
          "plot_bgcolor": "#E5ECF6",
          "polar": {
           "angularaxis": {
            "gridcolor": "white",
            "linecolor": "white",
            "ticks": ""
           },
           "bgcolor": "#E5ECF6",
           "radialaxis": {
            "gridcolor": "white",
            "linecolor": "white",
            "ticks": ""
           }
          },
          "scene": {
           "xaxis": {
            "backgroundcolor": "#E5ECF6",
            "gridcolor": "white",
            "gridwidth": 2,
            "linecolor": "white",
            "showbackground": true,
            "ticks": "",
            "zerolinecolor": "white"
           },
           "yaxis": {
            "backgroundcolor": "#E5ECF6",
            "gridcolor": "white",
            "gridwidth": 2,
            "linecolor": "white",
            "showbackground": true,
            "ticks": "",
            "zerolinecolor": "white"
           },
           "zaxis": {
            "backgroundcolor": "#E5ECF6",
            "gridcolor": "white",
            "gridwidth": 2,
            "linecolor": "white",
            "showbackground": true,
            "ticks": "",
            "zerolinecolor": "white"
           }
          },
          "shapedefaults": {
           "line": {
            "color": "#2a3f5f"
           }
          },
          "ternary": {
           "aaxis": {
            "gridcolor": "white",
            "linecolor": "white",
            "ticks": ""
           },
           "baxis": {
            "gridcolor": "white",
            "linecolor": "white",
            "ticks": ""
           },
           "bgcolor": "#E5ECF6",
           "caxis": {
            "gridcolor": "white",
            "linecolor": "white",
            "ticks": ""
           }
          },
          "title": {
           "x": 0.05
          },
          "xaxis": {
           "automargin": true,
           "gridcolor": "white",
           "linecolor": "white",
           "ticks": "",
           "title": {
            "standoff": 15
           },
           "zerolinecolor": "white",
           "zerolinewidth": 2
          },
          "yaxis": {
           "automargin": true,
           "gridcolor": "white",
           "linecolor": "white",
           "ticks": "",
           "title": {
            "standoff": 15
           },
           "zerolinecolor": "white",
           "zerolinewidth": 2
          }
         }
        },
        "xaxis": {
         "anchor": "y",
         "domain": [
          0,
          1
         ],
         "title": {
          "text": "index"
         }
        },
        "yaxis": {
         "anchor": "x",
         "domain": [
          0,
          1
         ],
         "title": {
          "text": "value"
         }
        }
       }
      },
      "text/html": [
       "<div>                            <div id=\"34cb0815-ede2-4188-976c-0ed71e814c0f\" class=\"plotly-graph-div\" style=\"height:525px; width:100%;\"></div>            <script type=\"text/javascript\">                require([\"plotly\"], function(Plotly) {                    window.PLOTLYENV=window.PLOTLYENV || {};                                    if (document.getElementById(\"34cb0815-ede2-4188-976c-0ed71e814c0f\")) {                    Plotly.newPlot(                        \"34cb0815-ede2-4188-976c-0ed71e814c0f\",                        [{\"hovertemplate\":\"variable=10cm\\u6e7f\\u5ea6(kg/m2)<br>index=%{x}<br>value=%{y}<extra></extra>\",\"legendgroup\":\"10cm\\u6e7f\\u5ea6(kg/m2)\",\"line\":{\"color\":\"#636efa\",\"dash\":\"solid\"},\"marker\":{\"symbol\":\"circle\"},\"mode\":\"lines\",\"name\":\"10cm\\u6e7f\\u5ea6(kg/m2)\",\"orientation\":\"v\",\"showlegend\":true,\"x\":[0,1,2,3,4,5,6,7,8,9,10,11,12,13,14,15,16,17,18,19,20,21,22,23],\"xaxis\":\"x\",\"y\":[12.45,12.1,14.960000000000003,12.543920944929123,13.480291963219642,15.067870997786523,14.197319451570511,15.23689168870449,15.923502968549728,15.680838364958763,16.51705164194107,16.852608036994933,16.948612003326417,17.56191877245903,17.78089987754822,18.008620026111604,18.43357875943184,18.60350774049759,18.835935698747637,19.10415905237198,19.22396942973137,19.38676354289055,19.51772591114044,19.565330563783647],\"yaxis\":\"y\",\"type\":\"scatter\"},{\"hovertemplate\":\"variable=40cm\\u6e7f\\u5ea6(kg/m2)<br>index=%{x}<br>value=%{y}<extra></extra>\",\"legendgroup\":\"40cm\\u6e7f\\u5ea6(kg/m2)\",\"line\":{\"color\":\"#EF553B\",\"dash\":\"solid\"},\"marker\":{\"symbol\":\"circle\"},\"mode\":\"lines\",\"name\":\"40cm\\u6e7f\\u5ea6(kg/m2)\",\"orientation\":\"v\",\"showlegend\":true,\"x\":[0,1,2,3,4,5,6,7,8,9,10,11,12,13,14,15,16,17,18,19,20,21,22,23],\"xaxis\":\"x\",\"y\":[52.14,52.14,52.13,59.673877074718476,59.595898520946506,60.34309956371784,60.64380779385567,60.823219864964486,60.95454554259778,60.59417311728001,60.65777666330338,60.43142225027085,60.043075857758524,59.89569150984288,59.48891063332558,59.068881639838224,58.71663007378579,58.193708897233016,57.68843662261963,57.16440762281418,56.53967539191246,55.91831239283085,55.2468647235632,54.513872801065446],\"yaxis\":\"y\",\"type\":\"scatter\"},{\"hovertemplate\":\"variable=100cm\\u6e7f\\u5ea6(kg/m2)<br>index=%{x}<br>value=%{y}<extra></extra>\",\"legendgroup\":\"100cm\\u6e7f\\u5ea6(kg/m2)\",\"line\":{\"color\":\"#00cc96\",\"dash\":\"solid\"},\"marker\":{\"symbol\":\"circle\"},\"mode\":\"lines\",\"name\":\"100cm\\u6e7f\\u5ea6(kg/m2)\",\"orientation\":\"v\",\"showlegend\":true,\"x\":[0,1,2,3,4,5,6,7,8,9,10,11,12,13,14,15,16,17,18,19,20,21,22,23],\"xaxis\":\"x\",\"y\":[93.45,93.45,93.44000000000001,85.01633631169796,84.32088237404824,83.70774631798268,81.19007132828236,80.2068184608221,78.84890838682652,77.36767679572105,76.24038590669632,74.99783414840698,73.97026446640491,72.96035390675068,72.01444738805294,71.22355988681316,70.36456950366497,69.58520504415036,68.82901761174202,67.97368147015571,67.14370576500893,66.24714977860451,65.25663410604,64.24881559967994],\"yaxis\":\"y\",\"type\":\"scatter\"},{\"hovertemplate\":\"variable=\\u571f\\u58e4\\u84b8\\u53d1\\u91cf(mm)<br>index=%{x}<br>value=%{y}<extra></extra>\",\"legendgroup\":\"\\u571f\\u58e4\\u84b8\\u53d1\\u91cf(mm)\",\"line\":{\"color\":\"#ab63fa\",\"dash\":\"solid\"},\"marker\":{\"symbol\":\"circle\"},\"mode\":\"lines\",\"name\":\"\\u571f\\u58e4\\u84b8\\u53d1\\u91cf(mm)\",\"orientation\":\"v\",\"showlegend\":true,\"x\":[0,1,2,3,4,5,6,7,8,9,10,11,12,13,14,15,16,17,18,19,20,21,22,23],\"xaxis\":\"x\",\"y\":[0.43999999999999934,0.27,5.979999999999998,-1.695562978312373,-0.41609574135392896,2.871915997341275,-1.1075864688679573,1.451323457956314,3.368093207105994,2.879606354534626,5.6781108659505835,7.439933266043663,8.673425541520118,11.46391811430454,13.39178924977779,15.37343972444534,17.921598750948903,19.8265623652935,21.81573557972908,23.823949204087256,25.36485590457916,26.8796131247282,28.197791417241092,29.1933099424839],\"yaxis\":\"y\",\"type\":\"scatter\"},{\"hovertemplate\":\"variable=\\u964d\\u6c34\\u91cf(mm)<br>index=%{x}<br>value=%{y}<extra></extra>\",\"legendgroup\":\"\\u964d\\u6c34\\u91cf(mm)\",\"line\":{\"color\":\"#FFA15A\",\"dash\":\"solid\"},\"marker\":{\"symbol\":\"circle\"},\"mode\":\"lines\",\"name\":\"\\u964d\\u6c34\\u91cf(mm)\",\"orientation\":\"v\",\"showlegend\":true,\"x\":[0,1,2,3,4,5,6,7,8,9,10,11,12,13,14,15,16,17,18,19,20,21,22,23],\"xaxis\":\"x\",\"y\":[607.31,796.04,115.57000000000001,289.4984054541588,243.9118697488308,129.18247966721654,190.32643633782865,162.60036075100302,144.58233643904327,158.29136476799846,145.98005588173868,141.79961484581233,141.72580936968328,133.92969732582569,129.50599322795867,124.36376876741647,117.20298978328705,111.20640780180693,104.56320400439203,97.95300935402513,91.86038989037276,85.89896982640028,80.52378105148674,75.5214202272892],\"yaxis\":\"y\",\"type\":\"scatter\"},{\"hovertemplate\":\"variable=\\u5e73\\u5747\\u6c14\\u6e29(\\u2103)<br>index=%{x}<br>value=%{y}<extra></extra>\",\"legendgroup\":\"\\u5e73\\u5747\\u6c14\\u6e29(\\u2103)\",\"line\":{\"color\":\"#19d3f3\",\"dash\":\"solid\"},\"marker\":{\"symbol\":\"circle\"},\"mode\":\"lines\",\"name\":\"\\u5e73\\u5747\\u6c14\\u6e29(\\u2103)\",\"orientation\":\"v\",\"showlegend\":true,\"x\":[0,1,2,3,4,5,6,7,8,9,10,11,12,13,14,15,16,17,18,19,20,21,22,23],\"xaxis\":\"x\",\"y\":[-17.09,-17.930000000000003,-2.3599999999999994,-18.11370398849249,-15.596734941005705,-11.681958838403224,-15.26962438777089,-12.228138132989406,-9.875607654452322,-9.57321128219366,-6.265278977155684,-3.8819682994484888,-1.9184796616435038,1.4206678271293653,3.955063623785974,6.517376211285592,9.526973920464517,11.897613872289659,14.29345412194729,16.645418544411662,18.52914944946766,20.35730315446854,21.98248902857304,23.304870912432673],\"yaxis\":\"y\",\"type\":\"scatter\"}],                        {\"template\":{\"data\":{\"histogram2dcontour\":[{\"type\":\"histogram2dcontour\",\"colorbar\":{\"outlinewidth\":0,\"ticks\":\"\"},\"colorscale\":[[0.0,\"#0d0887\"],[0.1111111111111111,\"#46039f\"],[0.2222222222222222,\"#7201a8\"],[0.3333333333333333,\"#9c179e\"],[0.4444444444444444,\"#bd3786\"],[0.5555555555555556,\"#d8576b\"],[0.6666666666666666,\"#ed7953\"],[0.7777777777777778,\"#fb9f3a\"],[0.8888888888888888,\"#fdca26\"],[1.0,\"#f0f921\"]]}],\"choropleth\":[{\"type\":\"choropleth\",\"colorbar\":{\"outlinewidth\":0,\"ticks\":\"\"}}],\"histogram2d\":[{\"type\":\"histogram2d\",\"colorbar\":{\"outlinewidth\":0,\"ticks\":\"\"},\"colorscale\":[[0.0,\"#0d0887\"],[0.1111111111111111,\"#46039f\"],[0.2222222222222222,\"#7201a8\"],[0.3333333333333333,\"#9c179e\"],[0.4444444444444444,\"#bd3786\"],[0.5555555555555556,\"#d8576b\"],[0.6666666666666666,\"#ed7953\"],[0.7777777777777778,\"#fb9f3a\"],[0.8888888888888888,\"#fdca26\"],[1.0,\"#f0f921\"]]}],\"heatmap\":[{\"type\":\"heatmap\",\"colorbar\":{\"outlinewidth\":0,\"ticks\":\"\"},\"colorscale\":[[0.0,\"#0d0887\"],[0.1111111111111111,\"#46039f\"],[0.2222222222222222,\"#7201a8\"],[0.3333333333333333,\"#9c179e\"],[0.4444444444444444,\"#bd3786\"],[0.5555555555555556,\"#d8576b\"],[0.6666666666666666,\"#ed7953\"],[0.7777777777777778,\"#fb9f3a\"],[0.8888888888888888,\"#fdca26\"],[1.0,\"#f0f921\"]]}],\"heatmapgl\":[{\"type\":\"heatmapgl\",\"colorbar\":{\"outlinewidth\":0,\"ticks\":\"\"},\"colorscale\":[[0.0,\"#0d0887\"],[0.1111111111111111,\"#46039f\"],[0.2222222222222222,\"#7201a8\"],[0.3333333333333333,\"#9c179e\"],[0.4444444444444444,\"#bd3786\"],[0.5555555555555556,\"#d8576b\"],[0.6666666666666666,\"#ed7953\"],[0.7777777777777778,\"#fb9f3a\"],[0.8888888888888888,\"#fdca26\"],[1.0,\"#f0f921\"]]}],\"contourcarpet\":[{\"type\":\"contourcarpet\",\"colorbar\":{\"outlinewidth\":0,\"ticks\":\"\"}}],\"contour\":[{\"type\":\"contour\",\"colorbar\":{\"outlinewidth\":0,\"ticks\":\"\"},\"colorscale\":[[0.0,\"#0d0887\"],[0.1111111111111111,\"#46039f\"],[0.2222222222222222,\"#7201a8\"],[0.3333333333333333,\"#9c179e\"],[0.4444444444444444,\"#bd3786\"],[0.5555555555555556,\"#d8576b\"],[0.6666666666666666,\"#ed7953\"],[0.7777777777777778,\"#fb9f3a\"],[0.8888888888888888,\"#fdca26\"],[1.0,\"#f0f921\"]]}],\"surface\":[{\"type\":\"surface\",\"colorbar\":{\"outlinewidth\":0,\"ticks\":\"\"},\"colorscale\":[[0.0,\"#0d0887\"],[0.1111111111111111,\"#46039f\"],[0.2222222222222222,\"#7201a8\"],[0.3333333333333333,\"#9c179e\"],[0.4444444444444444,\"#bd3786\"],[0.5555555555555556,\"#d8576b\"],[0.6666666666666666,\"#ed7953\"],[0.7777777777777778,\"#fb9f3a\"],[0.8888888888888888,\"#fdca26\"],[1.0,\"#f0f921\"]]}],\"mesh3d\":[{\"type\":\"mesh3d\",\"colorbar\":{\"outlinewidth\":0,\"ticks\":\"\"}}],\"scatter\":[{\"fillpattern\":{\"fillmode\":\"overlay\",\"size\":10,\"solidity\":0.2},\"type\":\"scatter\"}],\"parcoords\":[{\"type\":\"parcoords\",\"line\":{\"colorbar\":{\"outlinewidth\":0,\"ticks\":\"\"}}}],\"scatterpolargl\":[{\"type\":\"scatterpolargl\",\"marker\":{\"colorbar\":{\"outlinewidth\":0,\"ticks\":\"\"}}}],\"bar\":[{\"error_x\":{\"color\":\"#2a3f5f\"},\"error_y\":{\"color\":\"#2a3f5f\"},\"marker\":{\"line\":{\"color\":\"#E5ECF6\",\"width\":0.5},\"pattern\":{\"fillmode\":\"overlay\",\"size\":10,\"solidity\":0.2}},\"type\":\"bar\"}],\"scattergeo\":[{\"type\":\"scattergeo\",\"marker\":{\"colorbar\":{\"outlinewidth\":0,\"ticks\":\"\"}}}],\"scatterpolar\":[{\"type\":\"scatterpolar\",\"marker\":{\"colorbar\":{\"outlinewidth\":0,\"ticks\":\"\"}}}],\"histogram\":[{\"marker\":{\"pattern\":{\"fillmode\":\"overlay\",\"size\":10,\"solidity\":0.2}},\"type\":\"histogram\"}],\"scattergl\":[{\"type\":\"scattergl\",\"marker\":{\"colorbar\":{\"outlinewidth\":0,\"ticks\":\"\"}}}],\"scatter3d\":[{\"type\":\"scatter3d\",\"line\":{\"colorbar\":{\"outlinewidth\":0,\"ticks\":\"\"}},\"marker\":{\"colorbar\":{\"outlinewidth\":0,\"ticks\":\"\"}}}],\"scattermapbox\":[{\"type\":\"scattermapbox\",\"marker\":{\"colorbar\":{\"outlinewidth\":0,\"ticks\":\"\"}}}],\"scatterternary\":[{\"type\":\"scatterternary\",\"marker\":{\"colorbar\":{\"outlinewidth\":0,\"ticks\":\"\"}}}],\"scattercarpet\":[{\"type\":\"scattercarpet\",\"marker\":{\"colorbar\":{\"outlinewidth\":0,\"ticks\":\"\"}}}],\"carpet\":[{\"aaxis\":{\"endlinecolor\":\"#2a3f5f\",\"gridcolor\":\"white\",\"linecolor\":\"white\",\"minorgridcolor\":\"white\",\"startlinecolor\":\"#2a3f5f\"},\"baxis\":{\"endlinecolor\":\"#2a3f5f\",\"gridcolor\":\"white\",\"linecolor\":\"white\",\"minorgridcolor\":\"white\",\"startlinecolor\":\"#2a3f5f\"},\"type\":\"carpet\"}],\"table\":[{\"cells\":{\"fill\":{\"color\":\"#EBF0F8\"},\"line\":{\"color\":\"white\"}},\"header\":{\"fill\":{\"color\":\"#C8D4E3\"},\"line\":{\"color\":\"white\"}},\"type\":\"table\"}],\"barpolar\":[{\"marker\":{\"line\":{\"color\":\"#E5ECF6\",\"width\":0.5},\"pattern\":{\"fillmode\":\"overlay\",\"size\":10,\"solidity\":0.2}},\"type\":\"barpolar\"}],\"pie\":[{\"automargin\":true,\"type\":\"pie\"}]},\"layout\":{\"autotypenumbers\":\"strict\",\"colorway\":[\"#636efa\",\"#EF553B\",\"#00cc96\",\"#ab63fa\",\"#FFA15A\",\"#19d3f3\",\"#FF6692\",\"#B6E880\",\"#FF97FF\",\"#FECB52\"],\"font\":{\"color\":\"#2a3f5f\"},\"hovermode\":\"closest\",\"hoverlabel\":{\"align\":\"left\"},\"paper_bgcolor\":\"white\",\"plot_bgcolor\":\"#E5ECF6\",\"polar\":{\"bgcolor\":\"#E5ECF6\",\"angularaxis\":{\"gridcolor\":\"white\",\"linecolor\":\"white\",\"ticks\":\"\"},\"radialaxis\":{\"gridcolor\":\"white\",\"linecolor\":\"white\",\"ticks\":\"\"}},\"ternary\":{\"bgcolor\":\"#E5ECF6\",\"aaxis\":{\"gridcolor\":\"white\",\"linecolor\":\"white\",\"ticks\":\"\"},\"baxis\":{\"gridcolor\":\"white\",\"linecolor\":\"white\",\"ticks\":\"\"},\"caxis\":{\"gridcolor\":\"white\",\"linecolor\":\"white\",\"ticks\":\"\"}},\"coloraxis\":{\"colorbar\":{\"outlinewidth\":0,\"ticks\":\"\"}},\"colorscale\":{\"sequential\":[[0.0,\"#0d0887\"],[0.1111111111111111,\"#46039f\"],[0.2222222222222222,\"#7201a8\"],[0.3333333333333333,\"#9c179e\"],[0.4444444444444444,\"#bd3786\"],[0.5555555555555556,\"#d8576b\"],[0.6666666666666666,\"#ed7953\"],[0.7777777777777778,\"#fb9f3a\"],[0.8888888888888888,\"#fdca26\"],[1.0,\"#f0f921\"]],\"sequentialminus\":[[0.0,\"#0d0887\"],[0.1111111111111111,\"#46039f\"],[0.2222222222222222,\"#7201a8\"],[0.3333333333333333,\"#9c179e\"],[0.4444444444444444,\"#bd3786\"],[0.5555555555555556,\"#d8576b\"],[0.6666666666666666,\"#ed7953\"],[0.7777777777777778,\"#fb9f3a\"],[0.8888888888888888,\"#fdca26\"],[1.0,\"#f0f921\"]],\"diverging\":[[0,\"#8e0152\"],[0.1,\"#c51b7d\"],[0.2,\"#de77ae\"],[0.3,\"#f1b6da\"],[0.4,\"#fde0ef\"],[0.5,\"#f7f7f7\"],[0.6,\"#e6f5d0\"],[0.7,\"#b8e186\"],[0.8,\"#7fbc41\"],[0.9,\"#4d9221\"],[1,\"#276419\"]]},\"xaxis\":{\"gridcolor\":\"white\",\"linecolor\":\"white\",\"ticks\":\"\",\"title\":{\"standoff\":15},\"zerolinecolor\":\"white\",\"automargin\":true,\"zerolinewidth\":2},\"yaxis\":{\"gridcolor\":\"white\",\"linecolor\":\"white\",\"ticks\":\"\",\"title\":{\"standoff\":15},\"zerolinecolor\":\"white\",\"automargin\":true,\"zerolinewidth\":2},\"scene\":{\"xaxis\":{\"backgroundcolor\":\"#E5ECF6\",\"gridcolor\":\"white\",\"linecolor\":\"white\",\"showbackground\":true,\"ticks\":\"\",\"zerolinecolor\":\"white\",\"gridwidth\":2},\"yaxis\":{\"backgroundcolor\":\"#E5ECF6\",\"gridcolor\":\"white\",\"linecolor\":\"white\",\"showbackground\":true,\"ticks\":\"\",\"zerolinecolor\":\"white\",\"gridwidth\":2},\"zaxis\":{\"backgroundcolor\":\"#E5ECF6\",\"gridcolor\":\"white\",\"linecolor\":\"white\",\"showbackground\":true,\"ticks\":\"\",\"zerolinecolor\":\"white\",\"gridwidth\":2}},\"shapedefaults\":{\"line\":{\"color\":\"#2a3f5f\"}},\"annotationdefaults\":{\"arrowcolor\":\"#2a3f5f\",\"arrowhead\":0,\"arrowwidth\":1},\"geo\":{\"bgcolor\":\"white\",\"landcolor\":\"#E5ECF6\",\"subunitcolor\":\"white\",\"showland\":true,\"showlakes\":true,\"lakecolor\":\"white\"},\"title\":{\"x\":0.05},\"mapbox\":{\"style\":\"light\"}}},\"xaxis\":{\"anchor\":\"y\",\"domain\":[0.0,1.0],\"title\":{\"text\":\"index\"}},\"yaxis\":{\"anchor\":\"x\",\"domain\":[0.0,1.0],\"title\":{\"text\":\"value\"}},\"legend\":{\"title\":{\"text\":\"variable\"},\"tracegroupgap\":0},\"margin\":{\"t\":60}},                        {\"responsive\": true}                    ).then(function(){\n",
       "                            \n",
       "var gd = document.getElementById('34cb0815-ede2-4188-976c-0ed71e814c0f');\n",
       "var x = new MutationObserver(function (mutations, observer) {{\n",
       "        var display = window.getComputedStyle(gd).display;\n",
       "        if (!display || display === 'none') {{\n",
       "            console.log([gd, 'removed!']);\n",
       "            Plotly.purge(gd);\n",
       "            observer.disconnect();\n",
       "        }}\n",
       "}});\n",
       "\n",
       "// Listen for the removal of the full notebook cells\n",
       "var notebookContainer = gd.closest('#notebook-container');\n",
       "if (notebookContainer) {{\n",
       "    x.observe(notebookContainer, {childList: true});\n",
       "}}\n",
       "\n",
       "// Listen for the clearing of the current output cell\n",
       "var outputEl = gd.closest('.output');\n",
       "if (outputEl) {{\n",
       "    x.observe(outputEl, {childList: true});\n",
       "}}\n",
       "\n",
       "                        })                };                });            </script>        </div>"
      ]
     },
     "metadata": {},
     "output_type": "display_data"
    }
   ],
   "source": [
    "px.line(df_pred)"
   ]
  }
 ],
 "metadata": {
  "kernelspec": {
   "display_name": "Python 3 (ipykernel)",
   "language": "python",
   "name": "python3"
  },
  "language_info": {
   "codemirror_mode": {
    "name": "ipython",
    "version": 3
   },
   "file_extension": ".py",
   "mimetype": "text/x-python",
   "name": "python",
   "nbconvert_exporter": "python",
   "pygments_lexer": "ipython3",
   "version": "3.9.7"
  }
 },
 "nbformat": 4,
 "nbformat_minor": 5
}

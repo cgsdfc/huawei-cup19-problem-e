{
 "cells": [
  {
   "cell_type": "code",
   "execution_count": 1,
   "id": "6d454eec",
   "metadata": {},
   "outputs": [],
   "source": [
    "import pandas as pd\n",
    "import numpy as np\n",
    "import seaborn as sns\n",
    "from pathlib import Path as P\n",
    "import matplotlib.pyplot as plt\n",
    "import plotly.express as px\n",
    "import pickle\n",
    "from sklearn.preprocessing import StandardScaler, MinMaxScaler"
   ]
  },
  {
   "cell_type": "markdown",
   "id": "62e7685c",
   "metadata": {},
   "source": [
    "建模的思路：\n",
    "1. 小区作为哑巴变量，和时间一起作为自变量；\n",
    "2. 化学性质是因变量；"
   ]
  },
  {
   "cell_type": "code",
   "execution_count": 17,
   "id": "d06826b2",
   "metadata": {},
   "outputs": [
    {
     "data": {
      "text/plain": [
       "Index(['year', '放牧强度（intensity）', '放牧小区（plot）', 'SOC土壤有机碳', 'SIC土壤无机碳',\n",
       "       'STC土壤全碳', '全氮N', '土壤C/N比'],\n",
       "      dtype='object')"
      ]
     },
     "execution_count": 17,
     "metadata": {},
     "output_type": "execute_result"
    }
   ],
   "source": [
    "df=pd.read_csv('./问题3-附件14.csv')\n",
    "df.columns"
   ]
  },
  {
   "cell_type": "code",
   "execution_count": 18,
   "id": "a62fa61f",
   "metadata": {},
   "outputs": [],
   "source": [
    "YEAR,INTENSITY,BLOCK,SOC,SIC,STC,ALLN,CN=['year', '放牧强度（intensity）', '放牧小区（plot）', 'SOC土壤有机碳', 'SIC土壤无机碳',\n",
    "       'STC土壤全碳', '全氮N', '土壤C/N比']"
   ]
  },
  {
   "cell_type": "code",
   "execution_count": 19,
   "id": "ec3d4bc0",
   "metadata": {},
   "outputs": [],
   "source": [
    "NUMERIC=[SOC,SIC,STC,ALLN,CN]\n",
    "scaler=StandardScaler()\n",
    "\n",
    "scaler.fit(df[NUMERIC])\n",
    "df[NUMERIC]=scaler.transform(df[NUMERIC])\n",
    "df_NUMERIC=df[NUMERIC]\n",
    "\n",
    "df_NUMERIC.to_csv('问题3-因变量.csv', index=False)\n",
    "pickle.dump(scaler, open('问题3-scaler.pkl', 'wb'))\n"
   ]
  },
  {
   "cell_type": "code",
   "execution_count": 21,
   "id": "0e9eaeaf",
   "metadata": {},
   "outputs": [],
   "source": [
    "df_Year = df[YEAR] - df[YEAR].min()\n",
    "df_Block=pd.get_dummies(df[BLOCK])\n",
    "\n",
    "df_INPUT=pd.concat([df_Year,df_Block],axis=1)\n",
    "df_INPUT.to_csv('问题3-自变量.csv',index=False)"
   ]
  },
  {
   "cell_type": "code",
   "execution_count": 22,
   "id": "57e7ea3a",
   "metadata": {},
   "outputs": [
    {
     "data": {
      "text/plain": [
       "(array([14.92006485,  7.51246398, 22.43252883,  1.82556675, 13.00669993]),\n",
       " array([1.7068166 , 2.79228173, 2.43835697, 0.21700343, 2.45867866]))"
      ]
     },
     "execution_count": 22,
     "metadata": {},
     "output_type": "execute_result"
    }
   ],
   "source": [
    "scaler.mean_, scaler.scale_"
   ]
  },
  {
   "cell_type": "code",
   "execution_count": 25,
   "id": "fcbdc5a0",
   "metadata": {},
   "outputs": [
    {
     "data": {
      "text/plain": [
       "((60, 13), (60, 5))"
      ]
     },
     "execution_count": 25,
     "metadata": {},
     "output_type": "execute_result"
    }
   ],
   "source": [
    "df_INPUT.shape, df_NUMERIC.shape"
   ]
  }
 ],
 "metadata": {
  "kernelspec": {
   "display_name": "Python 3 (ipykernel)",
   "language": "python",
   "name": "python3"
  },
  "language_info": {
   "codemirror_mode": {
    "name": "ipython",
    "version": 3
   },
   "file_extension": ".py",
   "mimetype": "text/x-python",
   "name": "python",
   "nbconvert_exporter": "python",
   "pygments_lexer": "ipython3",
   "version": "3.9.7"
  }
 },
 "nbformat": 4,
 "nbformat_minor": 5
}

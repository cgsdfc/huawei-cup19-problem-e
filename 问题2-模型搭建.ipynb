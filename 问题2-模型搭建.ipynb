{
 "cells": [
  {
   "cell_type": "code",
   "execution_count": 2,
   "id": "74d806f4",
   "metadata": {},
   "outputs": [],
   "source": [
    "import pandas as pd\n",
    "import numpy as np\n",
    "import seaborn as sns\n",
    "from pathlib import Path as P\n",
    "import matplotlib.pyplot as plt\n",
    "plt.rcParams['font.sans-serif'] = ['KaiTi', 'SimHei', 'FangSong']  # 汉字字体,优先使用楷体，如果找不到楷体，则使用黑体\n",
    "plt.rcParams['font.size'] = 12  # 字体大小\n",
    "plt.rcParams['axes.unicode_minus'] = False  # 正常显示负号\n",
    "from collections import defaultdict\n",
    "import plotly.express as px\n",
    "import pickle\n",
    "from sklearn.preprocessing import StandardScaler, MinMaxScaler\n",
    "from sklearn.model_selection import train_test_split\n",
    "\n",
    "import tensorflow.keras as K"
   ]
  },
  {
   "cell_type": "code",
   "execution_count": 3,
   "id": "e2d95214",
   "metadata": {},
   "outputs": [
    {
     "data": {
      "text/plain": [
       "(           time  10cm湿度(kg/m2)  40cm湿度(kg/m2)  100cm湿度(kg/m2)  土壤蒸发量(mm)   降水量(mm)   平均气温(℃)\n",
       " 0    2012-01-01       0.328250       0.036261        0.008417   0.008720  0.002568  0.008070\n",
       " 1    2012-02-01       0.269663       0.036261        0.008417   0.015132  0.002568  0.113180\n",
       " 2    2012-03-01       0.237560       0.036261        0.008417   0.042062  0.024490  0.335609\n",
       " 3    2012-04-01       0.186998       0.031885        0.007829   0.177738  0.006840  0.626319\n",
       " 4    2012-05-01       0.364366       0.008753        0.004306   0.457297  0.056964  0.785020\n",
       " ..          ...            ...            ...             ...        ...       ...       ...\n",
       " 118  2021-11-01       0.342697       0.702094        0.999609   0.030008  0.595275  0.360852\n",
       " 119  2021-12-01       0.280899       0.701157        1.000000   0.016927  0.217316  0.225947\n",
       " 120  2022-01-01       0.225522       0.701157        1.000000   0.004360  0.681001  0.129112\n",
       " 121  2022-02-01       0.197432       0.701157        1.000000   0.000000  0.892632  0.111732\n",
       " 122  2022-03-01       0.426966       0.700844        0.999804   0.146448  0.129593  0.433892\n",
       " \n",
       " [123 rows x 7 columns],\n",
       " MinMaxScaler())"
      ]
     },
     "execution_count": 3,
     "metadata": {},
     "output_type": "execute_result"
    }
   ],
   "source": [
    "df=pd.read_csv('问题2-训练数据-归一化.csv')\n",
    "scaler=pickle.load(P('问题2-MinMaxScaler-训练数据.csv').open('rb'))\n",
    "df, scaler"
   ]
  },
  {
   "cell_type": "code",
   "execution_count": null,
   "id": "3ad28e16",
   "metadata": {},
   "outputs": [],
   "source": []
  }
 ],
 "metadata": {
  "kernelspec": {
   "display_name": "Python 3 (ipykernel)",
   "language": "python",
   "name": "python3"
  },
  "language_info": {
   "codemirror_mode": {
    "name": "ipython",
    "version": 3
   },
   "file_extension": ".py",
   "mimetype": "text/x-python",
   "name": "python",
   "nbconvert_exporter": "python",
   "pygments_lexer": "ipython3",
   "version": "3.9.7"
  }
 },
 "nbformat": 4,
 "nbformat_minor": 5
}

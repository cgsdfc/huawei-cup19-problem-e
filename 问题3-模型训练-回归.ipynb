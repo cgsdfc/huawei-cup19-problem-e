{
 "cells": [
  {
   "cell_type": "code",
   "execution_count": 70,
   "id": "74d806f4",
   "metadata": {},
   "outputs": [],
   "source": [
    "import pandas as pd\n",
    "import numpy as np\n",
    "import seaborn as sns\n",
    "from pathlib import Path as P\n",
    "import matplotlib.pyplot as plt\n",
    "plt.rcParams['font.sans-serif'] = ['KaiTi', 'SimHei', 'FangSong']  # 汉字字体,优先使用楷体，如果找不到楷体，则使用黑体\n",
    "plt.rcParams['font.size'] = 12  # 字体大小\n",
    "plt.rcParams['axes.unicode_minus'] = False  # 正常显示负号\n",
    "from collections import defaultdict\n",
    "import plotly.express as px\n",
    "import pickle\n",
    "from sklearn.preprocessing import StandardScaler, MinMaxScaler\n",
    "from sklearn.model_selection import train_test_split\n",
    "\n",
    "import tensorflow.keras as keras"
   ]
  },
  {
   "cell_type": "code",
   "execution_count": 85,
   "id": "a4207b3a",
   "metadata": {},
   "outputs": [],
   "source": [
    "learning_rate=0.001\n",
    "train_size=0.8\n",
    "bs=4\n",
    "epochs=500\n",
    "feature_size=1\n",
    "\n",
    "YEAR,INTENSITY,BLOCK,SOC,SIC,STC,ALLN,CN=['year', '放牧强度（intensity）', '放牧小区（plot）', 'SOC土壤有机碳', 'SIC土壤无机碳',\n",
    "       'STC土壤全碳', '全氮N', '土壤C/N比']"
   ]
  },
  {
   "cell_type": "code",
   "execution_count": 72,
   "id": "e2d95214",
   "metadata": {},
   "outputs": [],
   "source": [
    "df_NUMERIC=pd.read_csv('./问题3-因变量.csv')\n",
    "scaler=pickle.load(open('./问题3-scaler.pkl','rb'))\n",
    "df_INPUT=pd.read_csv('./问题3-自变量.csv')\n"
   ]
  },
  {
   "cell_type": "code",
   "execution_count": 73,
   "id": "c6f5dc51",
   "metadata": {},
   "outputs": [
    {
     "data": {
      "text/plain": [
       "((60, 5),\n",
       " (60, 13),\n",
       " array([14.92006485,  7.51246398, 22.43252883,  1.82556675, 13.00669993]),\n",
       " array([1.7068166 , 2.79228173, 2.43835697, 0.21700343, 2.45867866]))"
      ]
     },
     "execution_count": 73,
     "metadata": {},
     "output_type": "execute_result"
    }
   ],
   "source": [
    "df_NUMERIC.shape, df_INPUT.shape, scaler.mean_, scaler.scale_"
   ]
  },
  {
   "cell_type": "code",
   "execution_count": 74,
   "id": "a680fc86",
   "metadata": {},
   "outputs": [],
   "source": [
    "X_train,X_val,Y_train,Y_val=train_test_split(df_INPUT.values, df_NUMERIC.values, train_size=train_size, shuffle=False)"
   ]
  },
  {
   "cell_type": "code",
   "execution_count": 75,
   "id": "e9b11d66",
   "metadata": {},
   "outputs": [
    {
     "data": {
      "text/plain": [
       "((48, 13), (12, 13), (48, 5), (12, 5))"
      ]
     },
     "execution_count": 75,
     "metadata": {},
     "output_type": "execute_result"
    }
   ],
   "source": [
    "X_train.shape,X_val.shape,Y_train.shape,Y_val.shape"
   ]
  },
  {
   "cell_type": "code",
   "execution_count": 76,
   "id": "a1bed2b3",
   "metadata": {},
   "outputs": [
    {
     "name": "stdout",
     "output_type": "stream",
     "text": [
      "Model: \"model_9\"\n",
      "_________________________________________________________________\n",
      " Layer (type)                Output Shape              Param #   \n",
      "=================================================================\n",
      " input_12 (InputLayer)       [(None, 13)]              0         \n",
      "                                                                 \n",
      " dense_25 (Dense)            (None, 128)               1792      \n",
      "                                                                 \n",
      " dense_26 (Dense)            (None, 128)               16512     \n",
      "                                                                 \n",
      " dense_27 (Dense)            (None, 5)                 645       \n",
      "                                                                 \n",
      "=================================================================\n",
      "Total params: 18,949\n",
      "Trainable params: 18,949\n",
      "Non-trainable params: 0\n",
      "_________________________________________________________________\n"
     ]
    }
   ],
   "source": [
    "inputs = keras.layers.Input(shape=(X_train.shape[1], ))\n",
    "x = keras.layers.Dense(128, activation='relu')(inputs)\n",
    "# x = keras.layers.Dropout(0.1)(x)\n",
    "x = keras.layers.Dense(128, activation='relu')(x)\n",
    "outputs = keras.layers.Dense(Y_train.shape[1])(x)\n",
    "\n",
    "model = keras.Model(inputs=inputs, outputs=outputs)\n",
    "model.compile(optimizer=keras.optimizers.Adam(learning_rate=learning_rate), loss=\"mse\")\n",
    "model.summary()"
   ]
  },
  {
   "cell_type": "code",
   "execution_count": 77,
   "id": "4d6def6b",
   "metadata": {
    "scrolled": true
   },
   "outputs": [
    {
     "name": "stdout",
     "output_type": "stream",
     "text": [
      "Epoch 1/500\n",
      " 1/12 [=>............................] - ETA: 2s - loss: 0.7806\n",
      "Epoch 1: val_loss improved from inf to 1.42908, saving model to problem3_checkpoint.h5\n",
      "12/12 [==============================] - 0s 16ms/step - loss: 0.8388 - val_loss: 1.4291\n",
      "Epoch 2/500\n",
      " 1/12 [=>............................] - ETA: 0s - loss: 0.5462\n",
      "Epoch 2: val_loss improved from 1.42908 to 1.38587, saving model to problem3_checkpoint.h5\n",
      "12/12 [==============================] - 0s 6ms/step - loss: 0.7263 - val_loss: 1.3859\n",
      "Epoch 3/500\n",
      " 1/12 [=>............................] - ETA: 0s - loss: 0.6082\n",
      "Epoch 3: val_loss improved from 1.38587 to 1.25731, saving model to problem3_checkpoint.h5\n",
      "12/12 [==============================] - 0s 6ms/step - loss: 0.6461 - val_loss: 1.2573\n",
      "Epoch 4/500\n",
      " 1/12 [=>............................] - ETA: 0s - loss: 0.8863\n",
      "Epoch 4: val_loss improved from 1.25731 to 1.21845, saving model to problem3_checkpoint.h5\n",
      "12/12 [==============================] - 0s 6ms/step - loss: 0.5734 - val_loss: 1.2184\n",
      "Epoch 5/500\n",
      " 1/12 [=>............................] - ETA: 0s - loss: 0.5080\n",
      "Epoch 5: val_loss improved from 1.21845 to 1.00726, saving model to problem3_checkpoint.h5\n",
      "12/12 [==============================] - 0s 6ms/step - loss: 0.4996 - val_loss: 1.0073\n",
      "Epoch 6/500\n",
      " 1/12 [=>............................] - ETA: 0s - loss: 0.6311\n",
      "Epoch 6: val_loss improved from 1.00726 to 0.85726, saving model to problem3_checkpoint.h5\n",
      "12/12 [==============================] - 0s 7ms/step - loss: 0.4432 - val_loss: 0.8573\n",
      "Epoch 7/500\n",
      " 1/12 [=>............................] - ETA: 0s - loss: 1.0764\n",
      "Epoch 7: val_loss did not improve from 0.85726\n",
      "12/12 [==============================] - 0s 4ms/step - loss: 0.3906 - val_loss: 0.9563\n",
      "Epoch 8/500\n",
      " 1/12 [=>............................] - ETA: 0s - loss: 0.3912\n",
      "Epoch 8: val_loss improved from 0.85726 to 0.68741, saving model to problem3_checkpoint.h5\n",
      "12/12 [==============================] - 0s 6ms/step - loss: 0.3356 - val_loss: 0.6874\n",
      "Epoch 9/500\n",
      " 1/12 [=>............................] - ETA: 0s - loss: 0.4243\n",
      "Epoch 9: val_loss improved from 0.68741 to 0.58597, saving model to problem3_checkpoint.h5\n",
      "12/12 [==============================] - 0s 7ms/step - loss: 0.3262 - val_loss: 0.5860\n",
      "Epoch 10/500\n",
      " 1/12 [=>............................] - ETA: 0s - loss: 0.4893\n",
      "Epoch 10: val_loss did not improve from 0.58597\n",
      "12/12 [==============================] - 0s 5ms/step - loss: 0.2763 - val_loss: 0.6160\n",
      "Epoch 11/500\n",
      " 1/12 [=>............................] - ETA: 0s - loss: 0.2681\n",
      "Epoch 11: val_loss improved from 0.58597 to 0.50984, saving model to problem3_checkpoint.h5\n",
      "12/12 [==============================] - 0s 6ms/step - loss: 0.2562 - val_loss: 0.5098\n",
      "Epoch 12/500\n",
      " 1/12 [=>............................] - ETA: 0s - loss: 0.3576\n",
      "Epoch 12: val_loss did not improve from 0.50984\n",
      "12/12 [==============================] - 0s 4ms/step - loss: 0.2462 - val_loss: 0.5806\n",
      "Epoch 13/500\n",
      " 1/12 [=>............................] - ETA: 0s - loss: 0.1233\n",
      "Epoch 13: val_loss improved from 0.50984 to 0.48745, saving model to problem3_checkpoint.h5\n",
      "12/12 [==============================] - 0s 7ms/step - loss: 0.2136 - val_loss: 0.4875\n",
      "Epoch 14/500\n",
      " 1/12 [=>............................] - ETA: 0s - loss: 0.3899\n",
      "Epoch 14: val_loss improved from 0.48745 to 0.43853, saving model to problem3_checkpoint.h5\n",
      "12/12 [==============================] - 0s 7ms/step - loss: 0.1871 - val_loss: 0.4385\n",
      "Epoch 15/500\n",
      " 1/12 [=>............................] - ETA: 0s - loss: 0.3403\n",
      "Epoch 15: val_loss improved from 0.43853 to 0.43453, saving model to problem3_checkpoint.h5\n",
      "12/12 [==============================] - 0s 6ms/step - loss: 0.1736 - val_loss: 0.4345\n",
      "Epoch 16/500\n",
      " 1/12 [=>............................] - ETA: 0s - loss: 0.1801\n",
      "Epoch 16: val_loss improved from 0.43453 to 0.40046, saving model to problem3_checkpoint.h5\n",
      "12/12 [==============================] - 0s 7ms/step - loss: 0.1641 - val_loss: 0.4005\n",
      "Epoch 17/500\n",
      " 1/12 [=>............................] - ETA: 0s - loss: 0.0788\n",
      "Epoch 17: val_loss did not improve from 0.40046\n",
      "12/12 [==============================] - 0s 4ms/step - loss: 0.1485 - val_loss: 0.4122\n",
      "Epoch 18/500\n",
      " 1/12 [=>............................] - ETA: 0s - loss: 0.0405\n",
      "Epoch 18: val_loss improved from 0.40046 to 0.37365, saving model to problem3_checkpoint.h5\n",
      "12/12 [==============================] - 0s 6ms/step - loss: 0.1400 - val_loss: 0.3736\n",
      "Epoch 19/500\n",
      " 1/12 [=>............................] - ETA: 0s - loss: 0.0954\n",
      "Epoch 19: val_loss did not improve from 0.37365\n",
      "12/12 [==============================] - 0s 4ms/step - loss: 0.1409 - val_loss: 0.3893\n",
      "Epoch 20/500\n",
      " 1/12 [=>............................] - ETA: 0s - loss: 0.0764\n",
      "Epoch 20: val_loss improved from 0.37365 to 0.34087, saving model to problem3_checkpoint.h5\n",
      "12/12 [==============================] - 0s 7ms/step - loss: 0.1181 - val_loss: 0.3409\n",
      "Epoch 21/500\n",
      " 1/12 [=>............................] - ETA: 0s - loss: 0.1226\n",
      "Epoch 21: val_loss improved from 0.34087 to 0.31282, saving model to problem3_checkpoint.h5\n",
      "12/12 [==============================] - 0s 7ms/step - loss: 0.1231 - val_loss: 0.3128\n",
      "Epoch 22/500\n",
      " 1/12 [=>............................] - ETA: 0s - loss: 0.1571\n",
      "Epoch 22: val_loss did not improve from 0.31282\n",
      "12/12 [==============================] - 0s 3ms/step - loss: 0.1163 - val_loss: 0.3246\n",
      "Epoch 23/500\n",
      " 1/12 [=>............................] - ETA: 0s - loss: 0.1745\n",
      "Epoch 23: val_loss improved from 0.31282 to 0.28323, saving model to problem3_checkpoint.h5\n",
      "12/12 [==============================] - 0s 5ms/step - loss: 0.1050 - val_loss: 0.2832\n",
      "Epoch 24/500\n",
      " 1/12 [=>............................] - ETA: 0s - loss: 0.0157\n",
      "Epoch 24: val_loss did not improve from 0.28323\n",
      "12/12 [==============================] - 0s 4ms/step - loss: 0.1094 - val_loss: 0.3028\n",
      "Epoch 25/500\n",
      " 1/12 [=>............................] - ETA: 0s - loss: 0.0700\n",
      "Epoch 25: val_loss did not improve from 0.28323\n",
      "12/12 [==============================] - 0s 4ms/step - loss: 0.1064 - val_loss: 0.2866\n",
      "Epoch 26/500\n",
      " 1/12 [=>............................] - ETA: 0s - loss: 0.0548\n",
      "Epoch 26: val_loss did not improve from 0.28323\n",
      "12/12 [==============================] - 0s 4ms/step - loss: 0.0956 - val_loss: 0.2981\n",
      "Epoch 27/500\n",
      " 1/12 [=>............................] - ETA: 0s - loss: 0.0855\n",
      "Epoch 27: val_loss improved from 0.28323 to 0.26596, saving model to problem3_checkpoint.h5\n",
      "12/12 [==============================] - 0s 6ms/step - loss: 0.0962 - val_loss: 0.2660\n",
      "Epoch 28/500\n",
      " 1/12 [=>............................] - ETA: 0s - loss: 0.1352\n",
      "Epoch 28: val_loss improved from 0.26596 to 0.25897, saving model to problem3_checkpoint.h5\n",
      "12/12 [==============================] - 0s 7ms/step - loss: 0.0870 - val_loss: 0.2590\n",
      "Epoch 29/500\n",
      " 1/12 [=>............................] - ETA: 0s - loss: 0.0458\n",
      "Epoch 29: val_loss did not improve from 0.25897\n",
      "12/12 [==============================] - 0s 4ms/step - loss: 0.0888 - val_loss: 0.2854\n",
      "Epoch 30/500\n",
      " 1/12 [=>............................] - ETA: 0s - loss: 0.1116\n",
      "Epoch 30: val_loss improved from 0.25897 to 0.23446, saving model to problem3_checkpoint.h5\n",
      "12/12 [==============================] - 0s 7ms/step - loss: 0.0924 - val_loss: 0.2345\n",
      "Epoch 31/500\n",
      " 1/12 [=>............................] - ETA: 0s - loss: 0.0918\n",
      "Epoch 31: val_loss did not improve from 0.23446\n",
      "12/12 [==============================] - 0s 4ms/step - loss: 0.0777 - val_loss: 0.2787\n",
      "Epoch 32/500\n",
      " 1/12 [=>............................] - ETA: 0s - loss: 0.0580\n",
      "Epoch 32: val_loss improved from 0.23446 to 0.22733, saving model to problem3_checkpoint.h5\n",
      "12/12 [==============================] - 0s 9ms/step - loss: 0.0845 - val_loss: 0.2273\n",
      "Epoch 33/500\n",
      " 1/12 [=>............................] - ETA: 0s - loss: 0.0238\n",
      "Epoch 33: val_loss did not improve from 0.22733\n",
      "12/12 [==============================] - 0s 5ms/step - loss: 0.0803 - val_loss: 0.2663\n",
      "Epoch 34/500\n",
      " 1/12 [=>............................] - ETA: 0s - loss: 0.0690\n",
      "Epoch 34: val_loss did not improve from 0.22733\n",
      "12/12 [==============================] - 0s 4ms/step - loss: 0.0834 - val_loss: 0.2542\n",
      "Epoch 35/500\n",
      " 1/12 [=>............................] - ETA: 0s - loss: 0.0415\n",
      "Epoch 35: val_loss did not improve from 0.22733\n"
     ]
    },
    {
     "name": "stdout",
     "output_type": "stream",
     "text": [
      "12/12 [==============================] - 0s 3ms/step - loss: 0.0945 - val_loss: 0.3153\n",
      "Epoch 36/500\n",
      " 1/12 [=>............................] - ETA: 0s - loss: 0.0557\n",
      "Epoch 36: val_loss did not improve from 0.22733\n",
      "12/12 [==============================] - 0s 4ms/step - loss: 0.0769 - val_loss: 0.2794\n",
      "Epoch 37/500\n",
      " 1/12 [=>............................] - ETA: 0s - loss: 0.1146\n",
      "Epoch 37: val_loss did not improve from 0.22733\n",
      "12/12 [==============================] - 0s 3ms/step - loss: 0.0770 - val_loss: 0.2611\n",
      "Epoch 38/500\n",
      " 1/12 [=>............................] - ETA: 0s - loss: 0.0149\n",
      "Epoch 38: val_loss improved from 0.22733 to 0.20105, saving model to problem3_checkpoint.h5\n",
      "12/12 [==============================] - 0s 6ms/step - loss: 0.0751 - val_loss: 0.2010\n",
      "Epoch 39/500\n",
      " 1/12 [=>............................] - ETA: 0s - loss: 0.0459\n",
      "Epoch 39: val_loss did not improve from 0.20105\n",
      "12/12 [==============================] - 0s 3ms/step - loss: 0.0721 - val_loss: 0.2509\n",
      "Epoch 40/500\n",
      " 1/12 [=>............................] - ETA: 0s - loss: 0.0624\n",
      "Epoch 40: val_loss improved from 0.20105 to 0.19530, saving model to problem3_checkpoint.h5\n",
      "12/12 [==============================] - 0s 7ms/step - loss: 0.0658 - val_loss: 0.1953\n",
      "Epoch 41/500\n",
      " 1/12 [=>............................] - ETA: 0s - loss: 0.0477\n",
      "Epoch 41: val_loss did not improve from 0.19530\n",
      "12/12 [==============================] - 0s 4ms/step - loss: 0.0695 - val_loss: 0.2391\n",
      "Epoch 42/500\n",
      " 1/12 [=>............................] - ETA: 0s - loss: 0.0224\n",
      "Epoch 42: val_loss did not improve from 0.19530\n",
      "12/12 [==============================] - 0s 5ms/step - loss: 0.0735 - val_loss: 0.2896\n",
      "Epoch 43/500\n",
      " 1/12 [=>............................] - ETA: 0s - loss: 0.0246\n",
      "Epoch 43: val_loss did not improve from 0.19530\n",
      "12/12 [==============================] - 0s 4ms/step - loss: 0.0688 - val_loss: 0.2535\n",
      "Epoch 44/500\n",
      " 1/12 [=>............................] - ETA: 0s - loss: 0.0478\n",
      "Epoch 44: val_loss did not improve from 0.19530\n",
      "12/12 [==============================] - 0s 5ms/step - loss: 0.0703 - val_loss: 0.2819\n",
      "Epoch 45/500\n",
      " 1/12 [=>............................] - ETA: 0s - loss: 0.0682\n",
      "Epoch 45: val_loss did not improve from 0.19530\n",
      "12/12 [==============================] - 0s 4ms/step - loss: 0.0669 - val_loss: 0.2137\n",
      "Epoch 46/500\n",
      " 1/12 [=>............................] - ETA: 0s - loss: 0.0688\n",
      "Epoch 46: val_loss did not improve from 0.19530\n",
      "12/12 [==============================] - 0s 4ms/step - loss: 0.0623 - val_loss: 0.2194\n",
      "Epoch 47/500\n",
      " 1/12 [=>............................] - ETA: 0s - loss: 0.0754\n",
      "Epoch 47: val_loss did not improve from 0.19530\n",
      "12/12 [==============================] - 0s 4ms/step - loss: 0.0631 - val_loss: 0.2605\n",
      "Epoch 48/500\n",
      " 1/12 [=>............................] - ETA: 0s - loss: 0.0713\n",
      "Epoch 48: val_loss improved from 0.19530 to 0.18898, saving model to problem3_checkpoint.h5\n",
      "12/12 [==============================] - 0s 5ms/step - loss: 0.0599 - val_loss: 0.1890\n",
      "Epoch 49/500\n",
      " 1/12 [=>............................] - ETA: 0s - loss: 0.0315\n",
      "Epoch 49: val_loss did not improve from 0.18898\n",
      "12/12 [==============================] - 0s 4ms/step - loss: 0.0596 - val_loss: 0.2337\n",
      "Epoch 50/500\n",
      " 1/12 [=>............................] - ETA: 0s - loss: 0.0901\n",
      "Epoch 50: val_loss improved from 0.18898 to 0.18175, saving model to problem3_checkpoint.h5\n",
      "12/12 [==============================] - 0s 6ms/step - loss: 0.0538 - val_loss: 0.1818\n",
      "Epoch 51/500\n",
      " 1/12 [=>............................] - ETA: 0s - loss: 0.0218\n",
      "Epoch 51: val_loss did not improve from 0.18175\n",
      "12/12 [==============================] - 0s 4ms/step - loss: 0.0563 - val_loss: 0.2351\n",
      "Epoch 52/500\n",
      " 1/12 [=>............................] - ETA: 0s - loss: 0.0368\n",
      "Epoch 52: val_loss improved from 0.18175 to 0.17384, saving model to problem3_checkpoint.h5\n",
      "12/12 [==============================] - 0s 6ms/step - loss: 0.0518 - val_loss: 0.1738\n",
      "Epoch 53/500\n",
      " 1/12 [=>............................] - ETA: 0s - loss: 0.0287\n",
      "Epoch 53: val_loss improved from 0.17384 to 0.17024, saving model to problem3_checkpoint.h5\n",
      "12/12 [==============================] - 0s 6ms/step - loss: 0.0542 - val_loss: 0.1702\n",
      "Epoch 54/500\n",
      " 1/12 [=>............................] - ETA: 0s - loss: 0.0227\n",
      "Epoch 54: val_loss did not improve from 0.17024\n",
      "12/12 [==============================] - 0s 3ms/step - loss: 0.0503 - val_loss: 0.2297\n",
      "Epoch 55/500\n",
      " 1/12 [=>............................] - ETA: 0s - loss: 0.0409\n",
      "Epoch 55: val_loss did not improve from 0.17024\n",
      "12/12 [==============================] - 0s 4ms/step - loss: 0.0523 - val_loss: 0.1835\n",
      "Epoch 56/500\n",
      " 1/12 [=>............................] - ETA: 0s - loss: 0.0362\n",
      "Epoch 56: val_loss did not improve from 0.17024\n",
      "12/12 [==============================] - 0s 3ms/step - loss: 0.0481 - val_loss: 0.2084\n",
      "Epoch 57/500\n",
      " 1/12 [=>............................] - ETA: 0s - loss: 0.0459\n",
      "Epoch 57: val_loss did not improve from 0.17024\n",
      "12/12 [==============================] - 0s 4ms/step - loss: 0.0497 - val_loss: 0.1737\n",
      "Epoch 58/500\n",
      " 1/12 [=>............................] - ETA: 0s - loss: 0.0652\n",
      "Epoch 58: val_loss did not improve from 0.17024\n",
      "12/12 [==============================] - 0s 4ms/step - loss: 0.0473 - val_loss: 0.2013\n",
      "Epoch 59/500\n",
      " 1/12 [=>............................] - ETA: 0s - loss: 0.0212\n",
      "Epoch 59: val_loss improved from 0.17024 to 0.16269, saving model to problem3_checkpoint.h5\n",
      "12/12 [==============================] - 0s 6ms/step - loss: 0.0461 - val_loss: 0.1627\n",
      "Epoch 60/500\n",
      " 1/12 [=>............................] - ETA: 0s - loss: 0.0950\n",
      "Epoch 60: val_loss did not improve from 0.16269\n",
      "12/12 [==============================] - 0s 4ms/step - loss: 0.0483 - val_loss: 0.2622\n",
      "Epoch 61/500\n",
      " 1/12 [=>............................] - ETA: 0s - loss: 0.0218\n",
      "Epoch 61: val_loss did not improve from 0.16269\n",
      "12/12 [==============================] - 0s 4ms/step - loss: 0.0439 - val_loss: 0.1755\n",
      "Epoch 62/500\n",
      " 1/12 [=>............................] - ETA: 0s - loss: 0.0776\n",
      "Epoch 62: val_loss did not improve from 0.16269\n",
      "12/12 [==============================] - 0s 4ms/step - loss: 0.0434 - val_loss: 0.1971\n",
      "Epoch 63/500\n",
      " 1/12 [=>............................] - ETA: 0s - loss: 0.0240\n",
      "Epoch 63: val_loss did not improve from 0.16269\n",
      "12/12 [==============================] - 0s 3ms/step - loss: 0.0424 - val_loss: 0.1842\n",
      "Epoch 64/500\n",
      " 1/12 [=>............................] - ETA: 0s - loss: 0.0731\n",
      "Epoch 64: val_loss did not improve from 0.16269\n",
      "12/12 [==============================] - 0s 3ms/step - loss: 0.0440 - val_loss: 0.2177\n",
      "Epoch 65/500\n",
      " 1/12 [=>............................] - ETA: 0s - loss: 0.0213\n",
      "Epoch 65: val_loss improved from 0.16269 to 0.15158, saving model to problem3_checkpoint.h5\n",
      "12/12 [==============================] - 0s 5ms/step - loss: 0.0428 - val_loss: 0.1516\n",
      "Epoch 66/500\n",
      " 1/12 [=>............................] - ETA: 0s - loss: 0.0336\n",
      "Epoch 66: val_loss did not improve from 0.15158\n",
      "12/12 [==============================] - 0s 4ms/step - loss: 0.0449 - val_loss: 0.2701\n",
      "Epoch 67/500\n",
      " 1/12 [=>............................] - ETA: 0s - loss: 0.0569\n",
      "Epoch 67: val_loss did not improve from 0.15158\n",
      "12/12 [==============================] - 0s 3ms/step - loss: 0.0470 - val_loss: 0.2195\n",
      "Epoch 68/500\n",
      " 1/12 [=>............................] - ETA: 0s - loss: 0.0256\n",
      "Epoch 68: val_loss did not improve from 0.15158\n",
      "12/12 [==============================] - 0s 4ms/step - loss: 0.0419 - val_loss: 0.1827\n",
      "Epoch 69/500\n",
      " 1/12 [=>............................] - ETA: 0s - loss: 0.0281\n",
      "Epoch 69: val_loss improved from 0.15158 to 0.14785, saving model to problem3_checkpoint.h5\n",
      "12/12 [==============================] - 0s 6ms/step - loss: 0.0433 - val_loss: 0.1478\n",
      "Epoch 70/500\n",
      " 1/12 [=>............................] - ETA: 0s - loss: 0.0289\n",
      "Epoch 70: val_loss did not improve from 0.14785\n",
      "12/12 [==============================] - 0s 5ms/step - loss: 0.0416 - val_loss: 0.2438\n",
      "Epoch 71/500\n",
      " 1/12 [=>............................] - ETA: 0s - loss: 0.0316\n",
      "Epoch 71: val_loss did not improve from 0.14785\n",
      "12/12 [==============================] - 0s 5ms/step - loss: 0.0393 - val_loss: 0.1658\n",
      "Epoch 72/500\n",
      " 1/12 [=>............................] - ETA: 0s - loss: 0.0253\n",
      "Epoch 72: val_loss did not improve from 0.14785\n"
     ]
    },
    {
     "name": "stdout",
     "output_type": "stream",
     "text": [
      "12/12 [==============================] - 0s 4ms/step - loss: 0.0420 - val_loss: 0.2330\n",
      "Epoch 73/500\n",
      " 1/12 [=>............................] - ETA: 0s - loss: 0.0288\n",
      "Epoch 73: val_loss did not improve from 0.14785\n",
      "12/12 [==============================] - 0s 6ms/step - loss: 0.0459 - val_loss: 0.1964\n",
      "Epoch 74/500\n",
      " 1/12 [=>............................] - ETA: 0s - loss: 0.0064\n",
      "Epoch 74: val_loss did not improve from 0.14785\n",
      "12/12 [==============================] - 0s 6ms/step - loss: 0.0396 - val_loss: 0.1940\n",
      "Epoch 75/500\n",
      " 1/12 [=>............................] - ETA: 0s - loss: 0.0237\n",
      "Epoch 75: val_loss did not improve from 0.14785\n",
      "12/12 [==============================] - 0s 6ms/step - loss: 0.0403 - val_loss: 0.1517\n",
      "Epoch 76/500\n",
      " 1/12 [=>............................] - ETA: 0s - loss: 0.0152\n",
      "Epoch 76: val_loss did not improve from 0.14785\n",
      "12/12 [==============================] - 0s 4ms/step - loss: 0.0377 - val_loss: 0.2074\n",
      "Epoch 77/500\n",
      " 1/12 [=>............................] - ETA: 0s - loss: 0.0166\n",
      "Epoch 77: val_loss did not improve from 0.14785\n",
      "12/12 [==============================] - 0s 4ms/step - loss: 0.0342 - val_loss: 0.1718\n",
      "Epoch 78/500\n",
      " 1/12 [=>............................] - ETA: 0s - loss: 0.0710\n",
      "Epoch 78: val_loss did not improve from 0.14785\n",
      "12/12 [==============================] - 0s 4ms/step - loss: 0.0359 - val_loss: 0.2066\n",
      "Epoch 79/500\n",
      " 1/12 [=>............................] - ETA: 0s - loss: 0.0433\n",
      "Epoch 79: val_loss did not improve from 0.14785\n",
      "12/12 [==============================] - 0s 7ms/step - loss: 0.0395 - val_loss: 0.2209\n"
     ]
    }
   ],
   "source": [
    "path_checkpoint = \"problem3_checkpoint.h5\"\n",
    "es_callback = keras.callbacks.EarlyStopping(monitor=\"val_loss\", min_delta=0, patience=10)\n",
    "\n",
    "modelckpt_callback = keras.callbacks.ModelCheckpoint(\n",
    "    monitor=\"val_loss\",\n",
    "    filepath=path_checkpoint,\n",
    "    verbose=1,\n",
    "    # 要同时保存网络结构。\n",
    "    save_weights_only=False,\n",
    "    save_best_only=True,\n",
    ")\n",
    "\n",
    "history = model.fit(\n",
    "    X_train, Y_train,\n",
    "    epochs=epochs,\n",
    "    validation_data=(X_val, Y_val),\n",
    "    callbacks=[es_callback, modelckpt_callback],\n",
    "    batch_size=bs\n",
    ")"
   ]
  },
  {
   "cell_type": "code",
   "execution_count": 79,
   "id": "e784dfa5",
   "metadata": {},
   "outputs": [
    {
     "data": {
      "image/png": "[encoded data removed]",
      "text/plain": [
       "<Figure size 720x360 with 1 Axes>"
      ]
     },
     "metadata": {
      "needs_background": "light"
     },
     "output_type": "display_data"
    }
   ],
   "source": [
    "def visualize_loss(history, title):\n",
    "    loss = history.history[\"loss\"]\n",
    "    val_loss = history.history[\"val_loss\"]\n",
    "    epochs = range(len(loss))\n",
    "    plt.figure(figsize=(10,5))\n",
    "    plt.plot(epochs, loss, \"b\", label=\"Training loss\")\n",
    "    plt.plot(epochs, val_loss, \"r\", label=\"Validation loss\")\n",
    "    plt.title(title)\n",
    "    plt.xlabel(\"Epochs\")\n",
    "    plt.ylabel(\"Loss\")\n",
    "    plt.legend()\n",
    "    plt.show()\n",
    "\n",
    "visualize_loss(history, \"Training and Validation Loss\")"
   ]
  },
  {
   "cell_type": "code",
   "execution_count": 82,
   "id": "2a50970d",
   "metadata": {
    "collapsed": true
   },
   "outputs": [
    {
     "data": {
      "text/html": [
       "<div>\n",
       "<style scoped>\n",
       "    .dataframe tbody tr th:only-of-type {\n",
       "        vertical-align: middle;\n",
       "    }\n",
       "\n",
       "    .dataframe tbody tr th {\n",
       "        vertical-align: top;\n",
       "    }\n",
       "\n",
       "    .dataframe thead th {\n",
       "        text-align: right;\n",
       "    }\n",
       "</style>\n",
       "<table border=\"1\" class=\"dataframe\">\n",
       "  <thead>\n",
       "    <tr style=\"text-align: right;\">\n",
       "      <th></th>\n",
       "      <th>SOC土壤有机碳</th>\n",
       "      <th>SIC土壤无机碳</th>\n",
       "      <th>STC土壤全碳</th>\n",
       "      <th>全氮N</th>\n",
       "      <th>土壤C/N比</th>\n",
       "    </tr>\n",
       "  </thead>\n",
       "  <tbody>\n",
       "    <tr>\n",
       "      <th>0</th>\n",
       "      <td>-1.586104</td>\n",
       "      <td>1.503157</td>\n",
       "      <td>0.617937</td>\n",
       "      <td>-2.033414</td>\n",
       "      <td>1.848135</td>\n",
       "    </tr>\n",
       "    <tr>\n",
       "      <th>1</th>\n",
       "      <td>-1.026430</td>\n",
       "      <td>1.250666</td>\n",
       "      <td>0.717898</td>\n",
       "      <td>-0.308787</td>\n",
       "      <td>0.550795</td>\n",
       "    </tr>\n",
       "    <tr>\n",
       "      <th>2</th>\n",
       "      <td>-0.873693</td>\n",
       "      <td>1.606131</td>\n",
       "      <td>1.237960</td>\n",
       "      <td>-0.848379</td>\n",
       "      <td>1.675315</td>\n",
       "    </tr>\n",
       "    <tr>\n",
       "      <th>3</th>\n",
       "      <td>-1.402764</td>\n",
       "      <td>1.137063</td>\n",
       "      <td>0.309955</td>\n",
       "      <td>-0.800886</td>\n",
       "      <td>0.649982</td>\n",
       "    </tr>\n",
       "    <tr>\n",
       "      <th>4</th>\n",
       "      <td>-1.648549</td>\n",
       "      <td>0.532690</td>\n",
       "      <td>-0.541873</td>\n",
       "      <td>-1.288477</td>\n",
       "      <td>0.426046</td>\n",
       "    </tr>\n",
       "    <tr>\n",
       "      <th>5</th>\n",
       "      <td>-0.291817</td>\n",
       "      <td>2.364235</td>\n",
       "      <td>2.492734</td>\n",
       "      <td>0.318770</td>\n",
       "      <td>0.962220</td>\n",
       "    </tr>\n",
       "    <tr>\n",
       "      <th>6</th>\n",
       "      <td>-0.356808</td>\n",
       "      <td>-0.241098</td>\n",
       "      <td>-0.526627</td>\n",
       "      <td>-0.330043</td>\n",
       "      <td>-0.179907</td>\n",
       "    </tr>\n",
       "    <tr>\n",
       "      <th>7</th>\n",
       "      <td>-1.900570</td>\n",
       "      <td>0.556026</td>\n",
       "      <td>-0.688603</td>\n",
       "      <td>-0.571557</td>\n",
       "      <td>-0.210089</td>\n",
       "    </tr>\n",
       "    <tr>\n",
       "      <th>8</th>\n",
       "      <td>-0.714801</td>\n",
       "      <td>0.762188</td>\n",
       "      <td>0.380546</td>\n",
       "      <td>-0.280723</td>\n",
       "      <td>0.189396</td>\n",
       "    </tr>\n",
       "    <tr>\n",
       "      <th>9</th>\n",
       "      <td>-0.584379</td>\n",
       "      <td>1.259045</td>\n",
       "      <td>1.033084</td>\n",
       "      <td>-0.792892</td>\n",
       "      <td>1.251057</td>\n",
       "    </tr>\n",
       "    <tr>\n",
       "      <th>10</th>\n",
       "      <td>0.102103</td>\n",
       "      <td>1.311808</td>\n",
       "      <td>1.587463</td>\n",
       "      <td>-1.784126</td>\n",
       "      <td>2.489421</td>\n",
       "    </tr>\n",
       "    <tr>\n",
       "      <th>11</th>\n",
       "      <td>-1.679271</td>\n",
       "      <td>0.920211</td>\n",
       "      <td>-0.129237</td>\n",
       "      <td>-1.508632</td>\n",
       "      <td>1.123863</td>\n",
       "    </tr>\n",
       "    <tr>\n",
       "      <th>12</th>\n",
       "      <td>-1.050407</td>\n",
       "      <td>0.188464</td>\n",
       "      <td>-0.510646</td>\n",
       "      <td>-0.783593</td>\n",
       "      <td>0.187598</td>\n",
       "    </tr>\n",
       "    <tr>\n",
       "      <th>13</th>\n",
       "      <td>0.579820</td>\n",
       "      <td>1.582749</td>\n",
       "      <td>2.148796</td>\n",
       "      <td>-0.370533</td>\n",
       "      <td>1.466066</td>\n",
       "    </tr>\n",
       "    <tr>\n",
       "      <th>14</th>\n",
       "      <td>-1.235320</td>\n",
       "      <td>0.938844</td>\n",
       "      <td>0.156039</td>\n",
       "      <td>-1.866243</td>\n",
       "      <td>1.468052</td>\n",
       "    </tr>\n",
       "    <tr>\n",
       "      <th>15</th>\n",
       "      <td>-0.156226</td>\n",
       "      <td>0.809233</td>\n",
       "      <td>0.801184</td>\n",
       "      <td>-0.661419</td>\n",
       "      <td>0.757918</td>\n",
       "    </tr>\n",
       "    <tr>\n",
       "      <th>16</th>\n",
       "      <td>-0.567017</td>\n",
       "      <td>1.533694</td>\n",
       "      <td>1.366133</td>\n",
       "      <td>-0.507161</td>\n",
       "      <td>0.967573</td>\n",
       "    </tr>\n",
       "    <tr>\n",
       "      <th>17</th>\n",
       "      <td>-0.176771</td>\n",
       "      <td>0.715152</td>\n",
       "      <td>0.690763</td>\n",
       "      <td>-0.766201</td>\n",
       "      <td>0.947865</td>\n",
       "    </tr>\n",
       "    <tr>\n",
       "      <th>18</th>\n",
       "      <td>0.043587</td>\n",
       "      <td>0.152739</td>\n",
       "      <td>0.223885</td>\n",
       "      <td>-0.389228</td>\n",
       "      <td>0.312281</td>\n",
       "    </tr>\n",
       "    <tr>\n",
       "      <th>19</th>\n",
       "      <td>-1.325745</td>\n",
       "      <td>1.415971</td>\n",
       "      <td>0.650228</td>\n",
       "      <td>-1.941181</td>\n",
       "      <td>1.957613</td>\n",
       "    </tr>\n",
       "    <tr>\n",
       "      <th>20</th>\n",
       "      <td>-0.051609</td>\n",
       "      <td>0.017137</td>\n",
       "      <td>0.007338</td>\n",
       "      <td>-0.525779</td>\n",
       "      <td>0.257881</td>\n",
       "    </tr>\n",
       "    <tr>\n",
       "      <th>21</th>\n",
       "      <td>-0.640825</td>\n",
       "      <td>1.279666</td>\n",
       "      <td>1.021201</td>\n",
       "      <td>-0.891769</td>\n",
       "      <td>1.184384</td>\n",
       "    </tr>\n",
       "    <tr>\n",
       "      <th>22</th>\n",
       "      <td>0.334535</td>\n",
       "      <td>-0.003847</td>\n",
       "      <td>0.233052</td>\n",
       "      <td>-0.667295</td>\n",
       "      <td>0.528534</td>\n",
       "    </tr>\n",
       "    <tr>\n",
       "      <th>23</th>\n",
       "      <td>-0.564956</td>\n",
       "      <td>0.458792</td>\n",
       "      <td>0.168813</td>\n",
       "      <td>-0.819233</td>\n",
       "      <td>0.619764</td>\n",
       "    </tr>\n",
       "    <tr>\n",
       "      <th>24</th>\n",
       "      <td>0.173775</td>\n",
       "      <td>-0.541743</td>\n",
       "      <td>-0.481045</td>\n",
       "      <td>0.159667</td>\n",
       "      <td>-0.435693</td>\n",
       "    </tr>\n",
       "    <tr>\n",
       "      <th>25</th>\n",
       "      <td>0.280522</td>\n",
       "      <td>0.054852</td>\n",
       "      <td>0.306600</td>\n",
       "      <td>0.325025</td>\n",
       "      <td>-0.007020</td>\n",
       "    </tr>\n",
       "    <tr>\n",
       "      <th>26</th>\n",
       "      <td>-0.150134</td>\n",
       "      <td>-0.077403</td>\n",
       "      <td>-0.154108</td>\n",
       "      <td>-0.197679</td>\n",
       "      <td>0.051176</td>\n",
       "    </tr>\n",
       "    <tr>\n",
       "      <th>27</th>\n",
       "      <td>0.010257</td>\n",
       "      <td>-0.401426</td>\n",
       "      <td>-0.422967</td>\n",
       "      <td>-0.016263</td>\n",
       "      <td>-0.299590</td>\n",
       "    </tr>\n",
       "    <tr>\n",
       "      <th>28</th>\n",
       "      <td>0.867013</td>\n",
       "      <td>0.494125</td>\n",
       "      <td>1.168737</td>\n",
       "      <td>0.515327</td>\n",
       "      <td>0.386315</td>\n",
       "    </tr>\n",
       "    <tr>\n",
       "      <th>29</th>\n",
       "      <td>-0.322256</td>\n",
       "      <td>-0.389644</td>\n",
       "      <td>-0.679894</td>\n",
       "      <td>-0.047952</td>\n",
       "      <td>-0.319209</td>\n",
       "    </tr>\n",
       "    <tr>\n",
       "      <th>30</th>\n",
       "      <td>-0.512817</td>\n",
       "      <td>-0.694525</td>\n",
       "      <td>-1.153369</td>\n",
       "      <td>-0.124099</td>\n",
       "      <td>-0.658845</td>\n",
       "    </tr>\n",
       "    <tr>\n",
       "      <th>31</th>\n",
       "      <td>-0.288941</td>\n",
       "      <td>0.890915</td>\n",
       "      <td>0.858380</td>\n",
       "      <td>-1.160537</td>\n",
       "      <td>1.550469</td>\n",
       "    </tr>\n",
       "    <tr>\n",
       "      <th>32</th>\n",
       "      <td>-0.309765</td>\n",
       "      <td>-0.620354</td>\n",
       "      <td>-1.007693</td>\n",
       "      <td>-0.147640</td>\n",
       "      <td>-0.517046</td>\n",
       "    </tr>\n",
       "    <tr>\n",
       "      <th>33</th>\n",
       "      <td>0.309592</td>\n",
       "      <td>0.351258</td>\n",
       "      <td>0.606260</td>\n",
       "      <td>0.050101</td>\n",
       "      <td>0.399979</td>\n",
       "    </tr>\n",
       "    <tr>\n",
       "      <th>34</th>\n",
       "      <td>0.438934</td>\n",
       "      <td>-0.352820</td>\n",
       "      <td>-0.106316</td>\n",
       "      <td>0.107881</td>\n",
       "      <td>-0.118990</td>\n",
       "    </tr>\n",
       "    <tr>\n",
       "      <th>35</th>\n",
       "      <td>0.733932</td>\n",
       "      <td>-0.251168</td>\n",
       "      <td>0.173072</td>\n",
       "      <td>0.405124</td>\n",
       "      <td>-0.072201</td>\n",
       "    </tr>\n",
       "    <tr>\n",
       "      <th>36</th>\n",
       "      <td>0.379527</td>\n",
       "      <td>-0.754603</td>\n",
       "      <td>-0.613443</td>\n",
       "      <td>0.475903</td>\n",
       "      <td>-0.658983</td>\n",
       "    </tr>\n",
       "    <tr>\n",
       "      <th>37</th>\n",
       "      <td>0.514102</td>\n",
       "      <td>-0.249947</td>\n",
       "      <td>0.088383</td>\n",
       "      <td>0.665277</td>\n",
       "      <td>-0.327112</td>\n",
       "    </tr>\n",
       "    <tr>\n",
       "      <th>38</th>\n",
       "      <td>0.492716</td>\n",
       "      <td>-0.849571</td>\n",
       "      <td>-0.618876</td>\n",
       "      <td>0.767916</td>\n",
       "      <td>-0.781486</td>\n",
       "    </tr>\n",
       "    <tr>\n",
       "      <th>39</th>\n",
       "      <td>0.220944</td>\n",
       "      <td>-0.629289</td>\n",
       "      <td>-0.560132</td>\n",
       "      <td>0.320495</td>\n",
       "      <td>-0.546277</td>\n",
       "    </tr>\n",
       "    <tr>\n",
       "      <th>40</th>\n",
       "      <td>1.327883</td>\n",
       "      <td>0.303272</td>\n",
       "      <td>1.226520</td>\n",
       "      <td>1.039904</td>\n",
       "      <td>0.134117</td>\n",
       "    </tr>\n",
       "    <tr>\n",
       "      <th>41</th>\n",
       "      <td>-0.070678</td>\n",
       "      <td>-0.711320</td>\n",
       "      <td>-0.857997</td>\n",
       "      <td>0.356652</td>\n",
       "      <td>-0.670534</td>\n",
       "    </tr>\n",
       "    <tr>\n",
       "      <th>42</th>\n",
       "      <td>-0.225206</td>\n",
       "      <td>-1.026001</td>\n",
       "      <td>-1.334282</td>\n",
       "      <td>0.256894</td>\n",
       "      <td>-0.963825</td>\n",
       "    </tr>\n",
       "    <tr>\n",
       "      <th>43</th>\n",
       "      <td>-0.128033</td>\n",
       "      <td>0.695698</td>\n",
       "      <td>0.712722</td>\n",
       "      <td>-0.660348</td>\n",
       "      <td>1.172226</td>\n",
       "    </tr>\n",
       "    <tr>\n",
       "      <th>44</th>\n",
       "      <td>-0.335562</td>\n",
       "      <td>-1.388379</td>\n",
       "      <td>-1.824194</td>\n",
       "      <td>0.207792</td>\n",
       "      <td>-1.235066</td>\n",
       "    </tr>\n",
       "    <tr>\n",
       "      <th>45</th>\n",
       "      <td>0.652938</td>\n",
       "      <td>0.018796</td>\n",
       "      <td>0.496968</td>\n",
       "      <td>0.615404</td>\n",
       "      <td>0.086007</td>\n",
       "    </tr>\n",
       "    <tr>\n",
       "      <th>46</th>\n",
       "      <td>0.904912</td>\n",
       "      <td>-0.520318</td>\n",
       "      <td>-0.026169</td>\n",
       "      <td>0.705338</td>\n",
       "      <td>-0.426280</td>\n",
       "    </tr>\n",
       "    <tr>\n",
       "      <th>47</th>\n",
       "      <td>1.675096</td>\n",
       "      <td>-0.622706</td>\n",
       "      <td>0.448510</td>\n",
       "      <td>1.437120</td>\n",
       "      <td>-0.515915</td>\n",
       "    </tr>\n",
       "    <tr>\n",
       "      <th>48</th>\n",
       "      <td>0.619942</td>\n",
       "      <td>-0.975838</td>\n",
       "      <td>-0.750115</td>\n",
       "      <td>0.812512</td>\n",
       "      <td>-0.912931</td>\n",
       "    </tr>\n",
       "    <tr>\n",
       "      <th>49</th>\n",
       "      <td>0.753122</td>\n",
       "      <td>-0.491734</td>\n",
       "      <td>-0.059076</td>\n",
       "      <td>0.985706</td>\n",
       "      <td>-0.587089</td>\n",
       "    </tr>\n",
       "    <tr>\n",
       "      <th>50</th>\n",
       "      <td>0.759482</td>\n",
       "      <td>-1.085532</td>\n",
       "      <td>-0.760630</td>\n",
       "      <td>1.115206</td>\n",
       "      <td>-1.047258</td>\n",
       "    </tr>\n",
       "    <tr>\n",
       "      <th>51</th>\n",
       "      <td>0.449969</td>\n",
       "      <td>-0.841427</td>\n",
       "      <td>-0.684384</td>\n",
       "      <td>0.661462</td>\n",
       "      <td>-0.797397</td>\n",
       "    </tr>\n",
       "    <tr>\n",
       "      <th>52</th>\n",
       "      <td>1.598255</td>\n",
       "      <td>0.066674</td>\n",
       "      <td>1.125905</td>\n",
       "      <td>1.417564</td>\n",
       "      <td>-0.118937</td>\n",
       "    </tr>\n",
       "    <tr>\n",
       "      <th>53</th>\n",
       "      <td>0.195285</td>\n",
       "      <td>-0.982634</td>\n",
       "      <td>-1.013143</td>\n",
       "      <td>0.693221</td>\n",
       "      <td>-0.958165</td>\n",
       "    </tr>\n",
       "    <tr>\n",
       "      <th>54</th>\n",
       "      <td>0.013973</td>\n",
       "      <td>-1.282606</td>\n",
       "      <td>-1.484113</td>\n",
       "      <td>0.580221</td>\n",
       "      <td>-1.228894</td>\n",
       "    </tr>\n",
       "    <tr>\n",
       "      <th>55</th>\n",
       "      <td>0.115422</td>\n",
       "      <td>0.419472</td>\n",
       "      <td>0.520048</td>\n",
       "      <td>-0.254680</td>\n",
       "      <td>0.860920</td>\n",
       "    </tr>\n",
       "    <tr>\n",
       "      <th>56</th>\n",
       "      <td>-0.088328</td>\n",
       "      <td>-1.642463</td>\n",
       "      <td>-2.008905</td>\n",
       "      <td>0.529266</td>\n",
       "      <td>-1.522323</td>\n",
       "    </tr>\n",
       "    <tr>\n",
       "      <th>57</th>\n",
       "      <td>0.865608</td>\n",
       "      <td>-0.259863</td>\n",
       "      <td>0.312267</td>\n",
       "      <td>0.978231</td>\n",
       "      <td>-0.202930</td>\n",
       "    </tr>\n",
       "    <tr>\n",
       "      <th>58</th>\n",
       "      <td>1.194628</td>\n",
       "      <td>-0.748897</td>\n",
       "      <td>-0.126947</td>\n",
       "      <td>1.086417</td>\n",
       "      <td>-0.666488</td>\n",
       "    </tr>\n",
       "    <tr>\n",
       "      <th>59</th>\n",
       "      <td>1.969424</td>\n",
       "      <td>-0.849646</td>\n",
       "      <td>0.365500</td>\n",
       "      <td>1.823336</td>\n",
       "      <td>-0.783264</td>\n",
       "    </tr>\n",
       "  </tbody>\n",
       "</table>\n",
       "</div>"
      ],
      "text/plain": [
       "    SOC土壤有机碳  SIC土壤无机碳   STC土壤全碳       全氮N    土壤C/N比\n",
       "0  -1.586104  1.503157  0.617937 -2.033414  1.848135\n",
       "1  -1.026430  1.250666  0.717898 -0.308787  0.550795\n",
       "2  -0.873693  1.606131  1.237960 -0.848379  1.675315\n",
       "3  -1.402764  1.137063  0.309955 -0.800886  0.649982\n",
       "4  -1.648549  0.532690 -0.541873 -1.288477  0.426046\n",
       "5  -0.291817  2.364235  2.492734  0.318770  0.962220\n",
       "6  -0.356808 -0.241098 -0.526627 -0.330043 -0.179907\n",
       "7  -1.900570  0.556026 -0.688603 -0.571557 -0.210089\n",
       "8  -0.714801  0.762188  0.380546 -0.280723  0.189396\n",
       "9  -0.584379  1.259045  1.033084 -0.792892  1.251057\n",
       "10  0.102103  1.311808  1.587463 -1.784126  2.489421\n",
       "11 -1.679271  0.920211 -0.129237 -1.508632  1.123863\n",
       "12 -1.050407  0.188464 -0.510646 -0.783593  0.187598\n",
       "13  0.579820  1.582749  2.148796 -0.370533  1.466066\n",
       "14 -1.235320  0.938844  0.156039 -1.866243  1.468052\n",
       "15 -0.156226  0.809233  0.801184 -0.661419  0.757918\n",
       "16 -0.567017  1.533694  1.366133 -0.507161  0.967573\n",
       "17 -0.176771  0.715152  0.690763 -0.766201  0.947865\n",
       "18  0.043587  0.152739  0.223885 -0.389228  0.312281\n",
       "19 -1.325745  1.415971  0.650228 -1.941181  1.957613\n",
       "20 -0.051609  0.017137  0.007338 -0.525779  0.257881\n",
       "21 -0.640825  1.279666  1.021201 -0.891769  1.184384\n",
       "22  0.334535 -0.003847  0.233052 -0.667295  0.528534\n",
       "23 -0.564956  0.458792  0.168813 -0.819233  0.619764\n",
       "24  0.173775 -0.541743 -0.481045  0.159667 -0.435693\n",
       "25  0.280522  0.054852  0.306600  0.325025 -0.007020\n",
       "26 -0.150134 -0.077403 -0.154108 -0.197679  0.051176\n",
       "27  0.010257 -0.401426 -0.422967 -0.016263 -0.299590\n",
       "28  0.867013  0.494125  1.168737  0.515327  0.386315\n",
       "29 -0.322256 -0.389644 -0.679894 -0.047952 -0.319209\n",
       "30 -0.512817 -0.694525 -1.153369 -0.124099 -0.658845\n",
       "31 -0.288941  0.890915  0.858380 -1.160537  1.550469\n",
       "32 -0.309765 -0.620354 -1.007693 -0.147640 -0.517046\n",
       "33  0.309592  0.351258  0.606260  0.050101  0.399979\n",
       "34  0.438934 -0.352820 -0.106316  0.107881 -0.118990\n",
       "35  0.733932 -0.251168  0.173072  0.405124 -0.072201\n",
       "36  0.379527 -0.754603 -0.613443  0.475903 -0.658983\n",
       "37  0.514102 -0.249947  0.088383  0.665277 -0.327112\n",
       "38  0.492716 -0.849571 -0.618876  0.767916 -0.781486\n",
       "39  0.220944 -0.629289 -0.560132  0.320495 -0.546277\n",
       "40  1.327883  0.303272  1.226520  1.039904  0.134117\n",
       "41 -0.070678 -0.711320 -0.857997  0.356652 -0.670534\n",
       "42 -0.225206 -1.026001 -1.334282  0.256894 -0.963825\n",
       "43 -0.128033  0.695698  0.712722 -0.660348  1.172226\n",
       "44 -0.335562 -1.388379 -1.824194  0.207792 -1.235066\n",
       "45  0.652938  0.018796  0.496968  0.615404  0.086007\n",
       "46  0.904912 -0.520318 -0.026169  0.705338 -0.426280\n",
       "47  1.675096 -0.622706  0.448510  1.437120 -0.515915\n",
       "48  0.619942 -0.975838 -0.750115  0.812512 -0.912931\n",
       "49  0.753122 -0.491734 -0.059076  0.985706 -0.587089\n",
       "50  0.759482 -1.085532 -0.760630  1.115206 -1.047258\n",
       "51  0.449969 -0.841427 -0.684384  0.661462 -0.797397\n",
       "52  1.598255  0.066674  1.125905  1.417564 -0.118937\n",
       "53  0.195285 -0.982634 -1.013143  0.693221 -0.958165\n",
       "54  0.013973 -1.282606 -1.484113  0.580221 -1.228894\n",
       "55  0.115422  0.419472  0.520048 -0.254680  0.860920\n",
       "56 -0.088328 -1.642463 -2.008905  0.529266 -1.522323\n",
       "57  0.865608 -0.259863  0.312267  0.978231 -0.202930\n",
       "58  1.194628 -0.748897 -0.126947  1.086417 -0.666488\n",
       "59  1.969424 -0.849646  0.365500  1.823336 -0.783264"
      ]
     },
     "execution_count": 82,
     "metadata": {},
     "output_type": "execute_result"
    }
   ],
   "source": [
    "pred=model.predict(df_INPUT.values)\n",
    "df_pred=pd.DataFrame(data=pred, columns=df_NUMERIC.columns)\n",
    "df_pred"
   ]
  },
  {
   "cell_type": "code",
   "execution_count": 93,
   "id": "22d12d0f",
   "metadata": {},
   "outputs": [],
   "source": [
    "def plotPredGnd(name):\n",
    "    return px.line(y=[df_pred[SOC], df_NUMERIC[SOC]]).update_layout(title=f'{name}预测值和真实值',legend_title='预测值/真实值')\n",
    "    "
   ]
  },
  {
   "cell_type": "code",
   "execution_count": 94,
   "id": "7cd1e673",
   "metadata": {},
   "outputs": [
    {
     "data": {
      "application/vnd.plotly.v1+json": {
       "config": {
        "plotlyServerURL": "https://plot.ly"
       },
       "data": [
        {
         "hovertemplate": "variable=wide_variable_0<br>index=%{x}<br>value=%{y}<extra></extra>",
         "legendgroup": "wide_variable_0",
         "line": {
          "color": "#636efa",
          "dash": "solid"
         },
         "marker": {
          "symbol": "circle"
         },
         "mode": "lines",
         "name": "wide_variable_0",
         "orientation": "v",
         "showlegend": true,
         "type": "scatter",
         "x": [
          0,
          1,
          2,
          3,
          4,
          5,
          6,
          7,
          8,
          9,
          10,
          11,
          12,
          13,
          14,
          15,
          16,
          17,
          18,
          19,
          20,
          21,
          22,
          23,
          24,
          25,
          26,
          27,
          28,
          29,
          30,
          31,
          32,
          33,
          34,
          35,
          36,
          37,
          38,
          39,
          40,
          41,
          42,
          43,
          44,
          45,
          46,
          47,
          48,
          49,
          50,
          51,
          52,
          53,
          54,
          55,
          56,
          57,
          58,
          59
         ],
         "xaxis": "x",
         "y": [
          -1.5861035585403442,
          -1.0264297723770142,
          -0.8736928105354309,
          -1.4027637243270874,
          -1.6485494375228882,
          -0.29181715846061707,
          -0.35680821537971497,
          -1.9005697965621948,
          -0.7148011326789856,
          -0.5843793153762817,
          0.10210280865430832,
          -1.679270625114441,
          -1.0504070520401,
          0.5798195004463196,
          -1.2353196144104004,
          -0.15622586011886597,
          -0.5670167803764343,
          -0.17677122354507446,
          0.04358748346567154,
          -1.3257452249526978,
          -0.05160887539386749,
          -0.6408252716064453,
          0.3345353603363037,
          -0.5649564862251282,
          0.17377451062202454,
          0.28052178025245667,
          -0.15013375878334045,
          0.010257028043270111,
          0.8670125603675842,
          -0.3222559988498688,
          -0.5128172636032104,
          -0.28894123435020447,
          -0.3097652494907379,
          0.30959245562553406,
          0.43893447518348694,
          0.733932375907898,
          0.37952733039855957,
          0.5141019225120544,
          0.4927157461643219,
          0.22094383835792542,
          1.3278834819793701,
          -0.07067758589982986,
          -0.225206196308136,
          -0.12803342938423157,
          -0.335562139749527,
          0.6529375910758972,
          0.9049115777015686,
          1.6750961542129517,
          0.6199416518211365,
          0.7531219124794006,
          0.7594823837280273,
          0.4499690532684326,
          1.598254680633545,
          0.195284903049469,
          0.013972900807857513,
          0.1154223307967186,
          -0.0883275642991066,
          0.8656080961227417,
          1.194628119468689,
          1.9694243669509888
         ],
         "yaxis": "y"
        },
        {
         "hovertemplate": "variable=wide_variable_1<br>index=%{x}<br>value=%{y}<extra></extra>",
         "legendgroup": "wide_variable_1",
         "line": {
          "color": "#EF553B",
          "dash": "solid"
         },
         "marker": {
          "symbol": "circle"
         },
         "mode": "lines",
         "name": "wide_variable_1",
         "orientation": "v",
         "showlegend": true,
         "type": "scatter",
         "x": [
          0,
          1,
          2,
          3,
          4,
          5,
          6,
          7,
          8,
          9,
          10,
          11,
          12,
          13,
          14,
          15,
          16,
          17,
          18,
          19,
          20,
          21,
          22,
          23,
          24,
          25,
          26,
          27,
          28,
          29,
          30,
          31,
          32,
          33,
          34,
          35,
          36,
          37,
          38,
          39,
          40,
          41,
          42,
          43,
          44,
          45,
          46,
          47,
          48,
          49,
          50,
          51,
          52,
          53,
          54,
          55,
          56,
          57,
          58,
          59
         ],
         "xaxis": "x",
         "y": [
          -1.614686115673975,
          -1.0860669388132915,
          -0.8469165891860347,
          -1.435876996317326,
          -1.6979709230889393,
          -0.347215075889132,
          -0.4065448461774251,
          -1.9224877299704155,
          -0.7280124139895714,
          -0.5545535568349956,
          0.0002646212666002,
          -1.7151034133542986,
          -1.1678328624675274,
          0.8455738585251777,
          -1.2797510743457354,
          -0.2570336367540376,
          -0.7535049063321203,
          -0.1821093039278564,
          0.0379854688558503,
          -1.449363206397534,
          0.0283435300590328,
          -0.6872262896542466,
          0.4775620044255073,
          -0.4725610275682503,
          0.6140594804093985,
          -0.3725269044198535,
          -0.2445938293238803,
          0.2919211822483357,
          0.9987214754295232,
          -0.3530544955820558,
          -0.9665972894245324,
          0.5421083456640156,
          -0.5226372702688623,
          0.44466297715589,
          -0.1764068538577309,
          0.5359861966197718,
          0.0664010351521345,
          0.659019383930995,
          0.5483303004368902,
          -0.0004361956088377,
          1.2722807841317978,
          -0.0706664617011996,
          0.1430983129366674,
          -0.9385821257694656,
          -0.1984226981937276,
          0.4940068315911555,
          1.2843081310601618,
          1.823742984715062,
          1.038093456942467,
          0.6149079792743127,
          1.3357821475186653,
          0.7415765384212808,
          2.569658121447964,
          -0.0764082388823226,
          -0.1029488759283797,
          -0.0838196971302839,
          -0.2800329277423071,
          1.135584891919596,
          1.393491921228085,
          3.054478809209832
         ],
         "yaxis": "y"
        }
       ],
       "layout": {
        "legend": {
         "title": {
          "text": "预测值/真实值"
         },
         "tracegroupgap": 0
        },
        "margin": {
         "t": 60
        },
        "template": {
         "data": {
          "bar": [
           {
            "error_x": {
             "color": "#2a3f5f"
            },
            "error_y": {
             "color": "#2a3f5f"
            },
            "marker": {
             "line": {
              "color": "#E5ECF6",
              "width": 0.5
             },
             "pattern": {
              "fillmode": "overlay",
              "size": 10,
              "solidity": 0.2
             }
            },
            "type": "bar"
           }
          ],
          "barpolar": [
           {
            "marker": {
             "line": {
              "color": "#E5ECF6",
              "width": 0.5
             },
             "pattern": {
              "fillmode": "overlay",
              "size": 10,
              "solidity": 0.2
             }
            },
            "type": "barpolar"
           }
          ],
          "carpet": [
           {
            "aaxis": {
             "endlinecolor": "#2a3f5f",
             "gridcolor": "white",
             "linecolor": "white",
             "minorgridcolor": "white",
             "startlinecolor": "#2a3f5f"
            },
            "baxis": {
             "endlinecolor": "#2a3f5f",
             "gridcolor": "white",
             "linecolor": "white",
             "minorgridcolor": "white",
             "startlinecolor": "#2a3f5f"
            },
            "type": "carpet"
           }
          ],
          "choropleth": [
           {
            "colorbar": {
             "outlinewidth": 0,
             "ticks": ""
            },
            "type": "choropleth"
           }
          ],
          "contour": [
           {
            "colorbar": {
             "outlinewidth": 0,
             "ticks": ""
            },
            "colorscale": [
             [
              0,
              "#0d0887"
             ],
             [
              0.1111111111111111,
              "#46039f"
             ],
             [
              0.2222222222222222,
              "#7201a8"
             ],
             [
              0.3333333333333333,
              "#9c179e"
             ],
             [
              0.4444444444444444,
              "#bd3786"
             ],
             [
              0.5555555555555556,
              "#d8576b"
             ],
             [
              0.6666666666666666,
              "#ed7953"
             ],
             [
              0.7777777777777778,
              "#fb9f3a"
             ],
             [
              0.8888888888888888,
              "#fdca26"
             ],
             [
              1,
              "#f0f921"
             ]
            ],
            "type": "contour"
           }
          ],
          "contourcarpet": [
           {
            "colorbar": {
             "outlinewidth": 0,
             "ticks": ""
            },
            "type": "contourcarpet"
           }
          ],
          "heatmap": [
           {
            "colorbar": {
             "outlinewidth": 0,
             "ticks": ""
            },
            "colorscale": [
             [
              0,
              "#0d0887"
             ],
             [
              0.1111111111111111,
              "#46039f"
             ],
             [
              0.2222222222222222,
              "#7201a8"
             ],
             [
              0.3333333333333333,
              "#9c179e"
             ],
             [
              0.4444444444444444,
              "#bd3786"
             ],
             [
              0.5555555555555556,
              "#d8576b"
             ],
             [
              0.6666666666666666,
              "#ed7953"
             ],
             [
              0.7777777777777778,
              "#fb9f3a"
             ],
             [
              0.8888888888888888,
              "#fdca26"
             ],
             [
              1,
              "#f0f921"
             ]
            ],
            "type": "heatmap"
           }
          ],
          "heatmapgl": [
           {
            "colorbar": {
             "outlinewidth": 0,
             "ticks": ""
            },
            "colorscale": [
             [
              0,
              "#0d0887"
             ],
             [
              0.1111111111111111,
              "#46039f"
             ],
             [
              0.2222222222222222,
              "#7201a8"
             ],
             [
              0.3333333333333333,
              "#9c179e"
             ],
             [
              0.4444444444444444,
              "#bd3786"
             ],
             [
              0.5555555555555556,
              "#d8576b"
             ],
             [
              0.6666666666666666,
              "#ed7953"
             ],
             [
              0.7777777777777778,
              "#fb9f3a"
             ],
             [
              0.8888888888888888,
              "#fdca26"
             ],
             [
              1,
              "#f0f921"
             ]
            ],
            "type": "heatmapgl"
           }
          ],
          "histogram": [
           {
            "marker": {
             "pattern": {
              "fillmode": "overlay",
              "size": 10,
              "solidity": 0.2
             }
            },
            "type": "histogram"
           }
          ],
          "histogram2d": [
           {
            "colorbar": {
             "outlinewidth": 0,
             "ticks": ""
            },
            "colorscale": [
             [
              0,
              "#0d0887"
             ],
             [
              0.1111111111111111,
              "#46039f"
             ],
             [
              0.2222222222222222,
              "#7201a8"
             ],
             [
              0.3333333333333333,
              "#9c179e"
             ],
             [
              0.4444444444444444,
              "#bd3786"
             ],
             [
              0.5555555555555556,
              "#d8576b"
             ],
             [
              0.6666666666666666,
              "#ed7953"
             ],
             [
              0.7777777777777778,
              "#fb9f3a"
             ],
             [
              0.8888888888888888,
              "#fdca26"
             ],
             [
              1,
              "#f0f921"
             ]
            ],
            "type": "histogram2d"
           }
          ],
          "histogram2dcontour": [
           {
            "colorbar": {
             "outlinewidth": 0,
             "ticks": ""
            },
            "colorscale": [
             [
              0,
              "#0d0887"
             ],
             [
              0.1111111111111111,
              "#46039f"
             ],
             [
              0.2222222222222222,
              "#7201a8"
             ],
             [
              0.3333333333333333,
              "#9c179e"
             ],
             [
              0.4444444444444444,
              "#bd3786"
             ],
             [
              0.5555555555555556,
              "#d8576b"
             ],
             [
              0.6666666666666666,
              "#ed7953"
             ],
             [
              0.7777777777777778,
              "#fb9f3a"
             ],
             [
              0.8888888888888888,
              "#fdca26"
             ],
             [
              1,
              "#f0f921"
             ]
            ],
            "type": "histogram2dcontour"
           }
          ],
          "mesh3d": [
           {
            "colorbar": {
             "outlinewidth": 0,
             "ticks": ""
            },
            "type": "mesh3d"
           }
          ],
          "parcoords": [
           {
            "line": {
             "colorbar": {
              "outlinewidth": 0,
              "ticks": ""
             }
            },
            "type": "parcoords"
           }
          ],
          "pie": [
           {
            "automargin": true,
            "type": "pie"
           }
          ],
          "scatter": [
           {
            "fillpattern": {
             "fillmode": "overlay",
             "size": 10,
             "solidity": 0.2
            },
            "type": "scatter"
           }
          ],
          "scatter3d": [
           {
            "line": {
             "colorbar": {
              "outlinewidth": 0,
              "ticks": ""
             }
            },
            "marker": {
             "colorbar": {
              "outlinewidth": 0,
              "ticks": ""
             }
            },
            "type": "scatter3d"
           }
          ],
          "scattercarpet": [
           {
            "marker": {
             "colorbar": {
              "outlinewidth": 0,
              "ticks": ""
             }
            },
            "type": "scattercarpet"
           }
          ],
          "scattergeo": [
           {
            "marker": {
             "colorbar": {
              "outlinewidth": 0,
              "ticks": ""
             }
            },
            "type": "scattergeo"
           }
          ],
          "scattergl": [
           {
            "marker": {
             "colorbar": {
              "outlinewidth": 0,
              "ticks": ""
             }
            },
            "type": "scattergl"
           }
          ],
          "scattermapbox": [
           {
            "marker": {
             "colorbar": {
              "outlinewidth": 0,
              "ticks": ""
             }
            },
            "type": "scattermapbox"
           }
          ],
          "scatterpolar": [
           {
            "marker": {
             "colorbar": {
              "outlinewidth": 0,
              "ticks": ""
             }
            },
            "type": "scatterpolar"
           }
          ],
          "scatterpolargl": [
           {
            "marker": {
             "colorbar": {
              "outlinewidth": 0,
              "ticks": ""
             }
            },
            "type": "scatterpolargl"
           }
          ],
          "scatterternary": [
           {
            "marker": {
             "colorbar": {
              "outlinewidth": 0,
              "ticks": ""
             }
            },
            "type": "scatterternary"
           }
          ],
          "surface": [
           {
            "colorbar": {
             "outlinewidth": 0,
             "ticks": ""
            },
            "colorscale": [
             [
              0,
              "#0d0887"
             ],
             [
              0.1111111111111111,
              "#46039f"
             ],
             [
              0.2222222222222222,
              "#7201a8"
             ],
             [
              0.3333333333333333,
              "#9c179e"
             ],
             [
              0.4444444444444444,
              "#bd3786"
             ],
             [
              0.5555555555555556,
              "#d8576b"
             ],
             [
              0.6666666666666666,
              "#ed7953"
             ],
             [
              0.7777777777777778,
              "#fb9f3a"
             ],
             [
              0.8888888888888888,
              "#fdca26"
             ],
             [
              1,
              "#f0f921"
             ]
            ],
            "type": "surface"
           }
          ],
          "table": [
           {
            "cells": {
             "fill": {
              "color": "#EBF0F8"
             },
             "line": {
              "color": "white"
             }
            },
            "header": {
             "fill": {
              "color": "#C8D4E3"
             },
             "line": {
              "color": "white"
             }
            },
            "type": "table"
           }
          ]
         },
         "layout": {
          "annotationdefaults": {
           "arrowcolor": "#2a3f5f",
           "arrowhead": 0,
           "arrowwidth": 1
          },
          "autotypenumbers": "strict",
          "coloraxis": {
           "colorbar": {
            "outlinewidth": 0,
            "ticks": ""
           }
          },
          "colorscale": {
           "diverging": [
            [
             0,
             "#8e0152"
            ],
            [
             0.1,
             "#c51b7d"
            ],
            [
             0.2,
             "#de77ae"
            ],
            [
             0.3,
             "#f1b6da"
            ],
            [
             0.4,
             "#fde0ef"
            ],
            [
             0.5,
             "#f7f7f7"
            ],
            [
             0.6,
             "#e6f5d0"
            ],
            [
             0.7,
             "#b8e186"
            ],
            [
             0.8,
             "#7fbc41"
            ],
            [
             0.9,
             "#4d9221"
            ],
            [
             1,
             "#276419"
            ]
           ],
           "sequential": [
            [
             0,
             "#0d0887"
            ],
            [
             0.1111111111111111,
             "#46039f"
            ],
            [
             0.2222222222222222,
             "#7201a8"
            ],
            [
             0.3333333333333333,
             "#9c179e"
            ],
            [
             0.4444444444444444,
             "#bd3786"
            ],
            [
             0.5555555555555556,
             "#d8576b"
            ],
            [
             0.6666666666666666,
             "#ed7953"
            ],
            [
             0.7777777777777778,
             "#fb9f3a"
            ],
            [
             0.8888888888888888,
             "#fdca26"
            ],
            [
             1,
             "#f0f921"
            ]
           ],
           "sequentialminus": [
            [
             0,
             "#0d0887"
            ],
            [
             0.1111111111111111,
             "#46039f"
            ],
            [
             0.2222222222222222,
             "#7201a8"
            ],
            [
             0.3333333333333333,
             "#9c179e"
            ],
            [
             0.4444444444444444,
             "#bd3786"
            ],
            [
             0.5555555555555556,
             "#d8576b"
            ],
            [
             0.6666666666666666,
             "#ed7953"
            ],
            [
             0.7777777777777778,
             "#fb9f3a"
            ],
            [
             0.8888888888888888,
             "#fdca26"
            ],
            [
             1,
             "#f0f921"
            ]
           ]
          },
          "colorway": [
           "#636efa",
           "#EF553B",
           "#00cc96",
           "#ab63fa",
           "#FFA15A",
           "#19d3f3",
           "#FF6692",
           "#B6E880",
           "#FF97FF",
           "#FECB52"
          ],
          "font": {
           "color": "#2a3f5f"
          },
          "geo": {
           "bgcolor": "white",
           "lakecolor": "white",
           "landcolor": "#E5ECF6",
           "showlakes": true,
           "showland": true,
           "subunitcolor": "white"
          },
          "hoverlabel": {
           "align": "left"
          },
          "hovermode": "closest",
          "mapbox": {
           "style": "light"
          },
          "paper_bgcolor": "white",
          "plot_bgcolor": "#E5ECF6",
          "polar": {
           "angularaxis": {
            "gridcolor": "white",
            "linecolor": "white",
            "ticks": ""
           },
           "bgcolor": "#E5ECF6",
           "radialaxis": {
            "gridcolor": "white",
            "linecolor": "white",
            "ticks": ""
           }
          },
          "scene": {
           "xaxis": {
            "backgroundcolor": "#E5ECF6",
            "gridcolor": "white",
            "gridwidth": 2,
            "linecolor": "white",
            "showbackground": true,
            "ticks": "",
            "zerolinecolor": "white"
           },
           "yaxis": {
            "backgroundcolor": "#E5ECF6",
            "gridcolor": "white",
            "gridwidth": 2,
            "linecolor": "white",
            "showbackground": true,
            "ticks": "",
            "zerolinecolor": "white"
           },
           "zaxis": {
            "backgroundcolor": "#E5ECF6",
            "gridcolor": "white",
            "gridwidth": 2,
            "linecolor": "white",
            "showbackground": true,
            "ticks": "",
            "zerolinecolor": "white"
           }
          },
          "shapedefaults": {
           "line": {
            "color": "#2a3f5f"
           }
          },
          "ternary": {
           "aaxis": {
            "gridcolor": "white",
            "linecolor": "white",
            "ticks": ""
           },
           "baxis": {
            "gridcolor": "white",
            "linecolor": "white",
            "ticks": ""
           },
           "bgcolor": "#E5ECF6",
           "caxis": {
            "gridcolor": "white",
            "linecolor": "white",
            "ticks": ""
           }
          },
          "title": {
           "x": 0.05
          },
          "xaxis": {
           "automargin": true,
           "gridcolor": "white",
           "linecolor": "white",
           "ticks": "",
           "title": {
            "standoff": 15
           },
           "zerolinecolor": "white",
           "zerolinewidth": 2
          },
          "yaxis": {
           "automargin": true,
           "gridcolor": "white",
           "linecolor": "white",
           "ticks": "",
           "title": {
            "standoff": 15
           },
           "zerolinecolor": "white",
           "zerolinewidth": 2
          }
         }
        },
        "title": {
         "text": "SOC土壤有机碳预测值和真实值"
        },
        "xaxis": {
         "anchor": "y",
         "domain": [
          0,
          1
         ],
         "title": {
          "text": "index"
         }
        },
        "yaxis": {
         "anchor": "x",
         "domain": [
          0,
          1
         ],
         "title": {
          "text": "value"
         }
        }
       }
      },
      "text/html": [
       "<div>                            <div id=\"a3a1fecc-87a1-4f7b-92ae-d22310174221\" class=\"plotly-graph-div\" style=\"height:525px; width:100%;\"></div>            <script type=\"text/javascript\">                require([\"plotly\"], function(Plotly) {                    window.PLOTLYENV=window.PLOTLYENV || {};                                    if (document.getElementById(\"a3a1fecc-87a1-4f7b-92ae-d22310174221\")) {                    Plotly.newPlot(                        \"a3a1fecc-87a1-4f7b-92ae-d22310174221\",                        [{\"hovertemplate\":\"variable=wide_variable_0<br>index=%{x}<br>value=%{y}<extra></extra>\",\"legendgroup\":\"wide_variable_0\",\"line\":{\"color\":\"#636efa\",\"dash\":\"solid\"},\"marker\":{\"symbol\":\"circle\"},\"mode\":\"lines\",\"name\":\"wide_variable_0\",\"orientation\":\"v\",\"showlegend\":true,\"x\":[0,1,2,3,4,5,6,7,8,9,10,11,12,13,14,15,16,17,18,19,20,21,22,23,24,25,26,27,28,29,30,31,32,33,34,35,36,37,38,39,40,41,42,43,44,45,46,47,48,49,50,51,52,53,54,55,56,57,58,59],\"xaxis\":\"x\",\"y\":[-1.5861035585403442,-1.0264297723770142,-0.8736928105354309,-1.4027637243270874,-1.6485494375228882,-0.29181715846061707,-0.35680821537971497,-1.9005697965621948,-0.7148011326789856,-0.5843793153762817,0.10210280865430832,-1.679270625114441,-1.0504070520401,0.5798195004463196,-1.2353196144104004,-0.15622586011886597,-0.5670167803764343,-0.17677122354507446,0.04358748346567154,-1.3257452249526978,-0.05160887539386749,-0.6408252716064453,0.3345353603363037,-0.5649564862251282,0.17377451062202454,0.28052178025245667,-0.15013375878334045,0.010257028043270111,0.8670125603675842,-0.3222559988498688,-0.5128172636032104,-0.28894123435020447,-0.3097652494907379,0.30959245562553406,0.43893447518348694,0.733932375907898,0.37952733039855957,0.5141019225120544,0.4927157461643219,0.22094383835792542,1.3278834819793701,-0.07067758589982986,-0.225206196308136,-0.12803342938423157,-0.335562139749527,0.6529375910758972,0.9049115777015686,1.6750961542129517,0.6199416518211365,0.7531219124794006,0.7594823837280273,0.4499690532684326,1.598254680633545,0.195284903049469,0.013972900807857513,0.1154223307967186,-0.0883275642991066,0.8656080961227417,1.194628119468689,1.9694243669509888],\"yaxis\":\"y\",\"type\":\"scatter\"},{\"hovertemplate\":\"variable=wide_variable_1<br>index=%{x}<br>value=%{y}<extra></extra>\",\"legendgroup\":\"wide_variable_1\",\"line\":{\"color\":\"#EF553B\",\"dash\":\"solid\"},\"marker\":{\"symbol\":\"circle\"},\"mode\":\"lines\",\"name\":\"wide_variable_1\",\"orientation\":\"v\",\"showlegend\":true,\"x\":[0,1,2,3,4,5,6,7,8,9,10,11,12,13,14,15,16,17,18,19,20,21,22,23,24,25,26,27,28,29,30,31,32,33,34,35,36,37,38,39,40,41,42,43,44,45,46,47,48,49,50,51,52,53,54,55,56,57,58,59],\"xaxis\":\"x\",\"y\":[-1.614686115673975,-1.0860669388132915,-0.8469165891860347,-1.435876996317326,-1.6979709230889393,-0.347215075889132,-0.4065448461774251,-1.9224877299704155,-0.7280124139895714,-0.5545535568349956,0.0002646212666002,-1.7151034133542986,-1.1678328624675274,0.8455738585251777,-1.2797510743457354,-0.2570336367540376,-0.7535049063321203,-0.1821093039278564,0.0379854688558503,-1.449363206397534,0.0283435300590328,-0.6872262896542466,0.4775620044255073,-0.4725610275682503,0.6140594804093985,-0.3725269044198535,-0.2445938293238803,0.2919211822483357,0.9987214754295232,-0.3530544955820558,-0.9665972894245324,0.5421083456640156,-0.5226372702688623,0.44466297715589,-0.1764068538577309,0.5359861966197718,0.0664010351521345,0.659019383930995,0.5483303004368902,-0.0004361956088377,1.2722807841317978,-0.0706664617011996,0.1430983129366674,-0.9385821257694656,-0.1984226981937276,0.4940068315911555,1.2843081310601618,1.823742984715062,1.038093456942467,0.6149079792743127,1.3357821475186653,0.7415765384212808,2.569658121447964,-0.0764082388823226,-0.1029488759283797,-0.0838196971302839,-0.2800329277423071,1.135584891919596,1.393491921228085,3.054478809209832],\"yaxis\":\"y\",\"type\":\"scatter\"}],                        {\"template\":{\"data\":{\"histogram2dcontour\":[{\"type\":\"histogram2dcontour\",\"colorbar\":{\"outlinewidth\":0,\"ticks\":\"\"},\"colorscale\":[[0.0,\"#0d0887\"],[0.1111111111111111,\"#46039f\"],[0.2222222222222222,\"#7201a8\"],[0.3333333333333333,\"#9c179e\"],[0.4444444444444444,\"#bd3786\"],[0.5555555555555556,\"#d8576b\"],[0.6666666666666666,\"#ed7953\"],[0.7777777777777778,\"#fb9f3a\"],[0.8888888888888888,\"#fdca26\"],[1.0,\"#f0f921\"]]}],\"choropleth\":[{\"type\":\"choropleth\",\"colorbar\":{\"outlinewidth\":0,\"ticks\":\"\"}}],\"histogram2d\":[{\"type\":\"histogram2d\",\"colorbar\":{\"outlinewidth\":0,\"ticks\":\"\"},\"colorscale\":[[0.0,\"#0d0887\"],[0.1111111111111111,\"#46039f\"],[0.2222222222222222,\"#7201a8\"],[0.3333333333333333,\"#9c179e\"],[0.4444444444444444,\"#bd3786\"],[0.5555555555555556,\"#d8576b\"],[0.6666666666666666,\"#ed7953\"],[0.7777777777777778,\"#fb9f3a\"],[0.8888888888888888,\"#fdca26\"],[1.0,\"#f0f921\"]]}],\"heatmap\":[{\"type\":\"heatmap\",\"colorbar\":{\"outlinewidth\":0,\"ticks\":\"\"},\"colorscale\":[[0.0,\"#0d0887\"],[0.1111111111111111,\"#46039f\"],[0.2222222222222222,\"#7201a8\"],[0.3333333333333333,\"#9c179e\"],[0.4444444444444444,\"#bd3786\"],[0.5555555555555556,\"#d8576b\"],[0.6666666666666666,\"#ed7953\"],[0.7777777777777778,\"#fb9f3a\"],[0.8888888888888888,\"#fdca26\"],[1.0,\"#f0f921\"]]}],\"heatmapgl\":[{\"type\":\"heatmapgl\",\"colorbar\":{\"outlinewidth\":0,\"ticks\":\"\"},\"colorscale\":[[0.0,\"#0d0887\"],[0.1111111111111111,\"#46039f\"],[0.2222222222222222,\"#7201a8\"],[0.3333333333333333,\"#9c179e\"],[0.4444444444444444,\"#bd3786\"],[0.5555555555555556,\"#d8576b\"],[0.6666666666666666,\"#ed7953\"],[0.7777777777777778,\"#fb9f3a\"],[0.8888888888888888,\"#fdca26\"],[1.0,\"#f0f921\"]]}],\"contourcarpet\":[{\"type\":\"contourcarpet\",\"colorbar\":{\"outlinewidth\":0,\"ticks\":\"\"}}],\"contour\":[{\"type\":\"contour\",\"colorbar\":{\"outlinewidth\":0,\"ticks\":\"\"},\"colorscale\":[[0.0,\"#0d0887\"],[0.1111111111111111,\"#46039f\"],[0.2222222222222222,\"#7201a8\"],[0.3333333333333333,\"#9c179e\"],[0.4444444444444444,\"#bd3786\"],[0.5555555555555556,\"#d8576b\"],[0.6666666666666666,\"#ed7953\"],[0.7777777777777778,\"#fb9f3a\"],[0.8888888888888888,\"#fdca26\"],[1.0,\"#f0f921\"]]}],\"surface\":[{\"type\":\"surface\",\"colorbar\":{\"outlinewidth\":0,\"ticks\":\"\"},\"colorscale\":[[0.0,\"#0d0887\"],[0.1111111111111111,\"#46039f\"],[0.2222222222222222,\"#7201a8\"],[0.3333333333333333,\"#9c179e\"],[0.4444444444444444,\"#bd3786\"],[0.5555555555555556,\"#d8576b\"],[0.6666666666666666,\"#ed7953\"],[0.7777777777777778,\"#fb9f3a\"],[0.8888888888888888,\"#fdca26\"],[1.0,\"#f0f921\"]]}],\"mesh3d\":[{\"type\":\"mesh3d\",\"colorbar\":{\"outlinewidth\":0,\"ticks\":\"\"}}],\"scatter\":[{\"fillpattern\":{\"fillmode\":\"overlay\",\"size\":10,\"solidity\":0.2},\"type\":\"scatter\"}],\"parcoords\":[{\"type\":\"parcoords\",\"line\":{\"colorbar\":{\"outlinewidth\":0,\"ticks\":\"\"}}}],\"scatterpolargl\":[{\"type\":\"scatterpolargl\",\"marker\":{\"colorbar\":{\"outlinewidth\":0,\"ticks\":\"\"}}}],\"bar\":[{\"error_x\":{\"color\":\"#2a3f5f\"},\"error_y\":{\"color\":\"#2a3f5f\"},\"marker\":{\"line\":{\"color\":\"#E5ECF6\",\"width\":0.5},\"pattern\":{\"fillmode\":\"overlay\",\"size\":10,\"solidity\":0.2}},\"type\":\"bar\"}],\"scattergeo\":[{\"type\":\"scattergeo\",\"marker\":{\"colorbar\":{\"outlinewidth\":0,\"ticks\":\"\"}}}],\"scatterpolar\":[{\"type\":\"scatterpolar\",\"marker\":{\"colorbar\":{\"outlinewidth\":0,\"ticks\":\"\"}}}],\"histogram\":[{\"marker\":{\"pattern\":{\"fillmode\":\"overlay\",\"size\":10,\"solidity\":0.2}},\"type\":\"histogram\"}],\"scattergl\":[{\"type\":\"scattergl\",\"marker\":{\"colorbar\":{\"outlinewidth\":0,\"ticks\":\"\"}}}],\"scatter3d\":[{\"type\":\"scatter3d\",\"line\":{\"colorbar\":{\"outlinewidth\":0,\"ticks\":\"\"}},\"marker\":{\"colorbar\":{\"outlinewidth\":0,\"ticks\":\"\"}}}],\"scattermapbox\":[{\"type\":\"scattermapbox\",\"marker\":{\"colorbar\":{\"outlinewidth\":0,\"ticks\":\"\"}}}],\"scatterternary\":[{\"type\":\"scatterternary\",\"marker\":{\"colorbar\":{\"outlinewidth\":0,\"ticks\":\"\"}}}],\"scattercarpet\":[{\"type\":\"scattercarpet\",\"marker\":{\"colorbar\":{\"outlinewidth\":0,\"ticks\":\"\"}}}],\"carpet\":[{\"aaxis\":{\"endlinecolor\":\"#2a3f5f\",\"gridcolor\":\"white\",\"linecolor\":\"white\",\"minorgridcolor\":\"white\",\"startlinecolor\":\"#2a3f5f\"},\"baxis\":{\"endlinecolor\":\"#2a3f5f\",\"gridcolor\":\"white\",\"linecolor\":\"white\",\"minorgridcolor\":\"white\",\"startlinecolor\":\"#2a3f5f\"},\"type\":\"carpet\"}],\"table\":[{\"cells\":{\"fill\":{\"color\":\"#EBF0F8\"},\"line\":{\"color\":\"white\"}},\"header\":{\"fill\":{\"color\":\"#C8D4E3\"},\"line\":{\"color\":\"white\"}},\"type\":\"table\"}],\"barpolar\":[{\"marker\":{\"line\":{\"color\":\"#E5ECF6\",\"width\":0.5},\"pattern\":{\"fillmode\":\"overlay\",\"size\":10,\"solidity\":0.2}},\"type\":\"barpolar\"}],\"pie\":[{\"automargin\":true,\"type\":\"pie\"}]},\"layout\":{\"autotypenumbers\":\"strict\",\"colorway\":[\"#636efa\",\"#EF553B\",\"#00cc96\",\"#ab63fa\",\"#FFA15A\",\"#19d3f3\",\"#FF6692\",\"#B6E880\",\"#FF97FF\",\"#FECB52\"],\"font\":{\"color\":\"#2a3f5f\"},\"hovermode\":\"closest\",\"hoverlabel\":{\"align\":\"left\"},\"paper_bgcolor\":\"white\",\"plot_bgcolor\":\"#E5ECF6\",\"polar\":{\"bgcolor\":\"#E5ECF6\",\"angularaxis\":{\"gridcolor\":\"white\",\"linecolor\":\"white\",\"ticks\":\"\"},\"radialaxis\":{\"gridcolor\":\"white\",\"linecolor\":\"white\",\"ticks\":\"\"}},\"ternary\":{\"bgcolor\":\"#E5ECF6\",\"aaxis\":{\"gridcolor\":\"white\",\"linecolor\":\"white\",\"ticks\":\"\"},\"baxis\":{\"gridcolor\":\"white\",\"linecolor\":\"white\",\"ticks\":\"\"},\"caxis\":{\"gridcolor\":\"white\",\"linecolor\":\"white\",\"ticks\":\"\"}},\"coloraxis\":{\"colorbar\":{\"outlinewidth\":0,\"ticks\":\"\"}},\"colorscale\":{\"sequential\":[[0.0,\"#0d0887\"],[0.1111111111111111,\"#46039f\"],[0.2222222222222222,\"#7201a8\"],[0.3333333333333333,\"#9c179e\"],[0.4444444444444444,\"#bd3786\"],[0.5555555555555556,\"#d8576b\"],[0.6666666666666666,\"#ed7953\"],[0.7777777777777778,\"#fb9f3a\"],[0.8888888888888888,\"#fdca26\"],[1.0,\"#f0f921\"]],\"sequentialminus\":[[0.0,\"#0d0887\"],[0.1111111111111111,\"#46039f\"],[0.2222222222222222,\"#7201a8\"],[0.3333333333333333,\"#9c179e\"],[0.4444444444444444,\"#bd3786\"],[0.5555555555555556,\"#d8576b\"],[0.6666666666666666,\"#ed7953\"],[0.7777777777777778,\"#fb9f3a\"],[0.8888888888888888,\"#fdca26\"],[1.0,\"#f0f921\"]],\"diverging\":[[0,\"#8e0152\"],[0.1,\"#c51b7d\"],[0.2,\"#de77ae\"],[0.3,\"#f1b6da\"],[0.4,\"#fde0ef\"],[0.5,\"#f7f7f7\"],[0.6,\"#e6f5d0\"],[0.7,\"#b8e186\"],[0.8,\"#7fbc41\"],[0.9,\"#4d9221\"],[1,\"#276419\"]]},\"xaxis\":{\"gridcolor\":\"white\",\"linecolor\":\"white\",\"ticks\":\"\",\"title\":{\"standoff\":15},\"zerolinecolor\":\"white\",\"automargin\":true,\"zerolinewidth\":2},\"yaxis\":{\"gridcolor\":\"white\",\"linecolor\":\"white\",\"ticks\":\"\",\"title\":{\"standoff\":15},\"zerolinecolor\":\"white\",\"automargin\":true,\"zerolinewidth\":2},\"scene\":{\"xaxis\":{\"backgroundcolor\":\"#E5ECF6\",\"gridcolor\":\"white\",\"linecolor\":\"white\",\"showbackground\":true,\"ticks\":\"\",\"zerolinecolor\":\"white\",\"gridwidth\":2},\"yaxis\":{\"backgroundcolor\":\"#E5ECF6\",\"gridcolor\":\"white\",\"linecolor\":\"white\",\"showbackground\":true,\"ticks\":\"\",\"zerolinecolor\":\"white\",\"gridwidth\":2},\"zaxis\":{\"backgroundcolor\":\"#E5ECF6\",\"gridcolor\":\"white\",\"linecolor\":\"white\",\"showbackground\":true,\"ticks\":\"\",\"zerolinecolor\":\"white\",\"gridwidth\":2}},\"shapedefaults\":{\"line\":{\"color\":\"#2a3f5f\"}},\"annotationdefaults\":{\"arrowcolor\":\"#2a3f5f\",\"arrowhead\":0,\"arrowwidth\":1},\"geo\":{\"bgcolor\":\"white\",\"landcolor\":\"#E5ECF6\",\"subunitcolor\":\"white\",\"showland\":true,\"showlakes\":true,\"lakecolor\":\"white\"},\"title\":{\"x\":0.05},\"mapbox\":{\"style\":\"light\"}}},\"xaxis\":{\"anchor\":\"y\",\"domain\":[0.0,1.0],\"title\":{\"text\":\"index\"}},\"yaxis\":{\"anchor\":\"x\",\"domain\":[0.0,1.0],\"title\":{\"text\":\"value\"}},\"legend\":{\"title\":{\"text\":\"\\u9884\\u6d4b\\u503c/\\u771f\\u5b9e\\u503c\"},\"tracegroupgap\":0},\"margin\":{\"t\":60},\"title\":{\"text\":\"SOC\\u571f\\u58e4\\u6709\\u673a\\u78b3\\u9884\\u6d4b\\u503c\\u548c\\u771f\\u5b9e\\u503c\"}},                        {\"responsive\": true}                    ).then(function(){\n",
       "                            \n",
       "var gd = document.getElementById('a3a1fecc-87a1-4f7b-92ae-d22310174221');\n",
       "var x = new MutationObserver(function (mutations, observer) {{\n",
       "        var display = window.getComputedStyle(gd).display;\n",
       "        if (!display || display === 'none') {{\n",
       "            console.log([gd, 'removed!']);\n",
       "            Plotly.purge(gd);\n",
       "            observer.disconnect();\n",
       "        }}\n",
       "}});\n",
       "\n",
       "// Listen for the removal of the full notebook cells\n",
       "var notebookContainer = gd.closest('#notebook-container');\n",
       "if (notebookContainer) {{\n",
       "    x.observe(notebookContainer, {childList: true});\n",
       "}}\n",
       "\n",
       "// Listen for the clearing of the current output cell\n",
       "var outputEl = gd.closest('.output');\n",
       "if (outputEl) {{\n",
       "    x.observe(outputEl, {childList: true});\n",
       "}}\n",
       "\n",
       "                        })                };                });            </script>        </div>"
      ]
     },
     "metadata": {},
     "output_type": "display_data"
    }
   ],
   "source": [
    "plotPredGnd(SOC)"
   ]
  },
  {
   "cell_type": "code",
   "execution_count": 95,
   "id": "04ae497b",
   "metadata": {},
   "outputs": [
    {
     "data": {
      "application/vnd.plotly.v1+json": {
       "config": {
        "plotlyServerURL": "https://plot.ly"
       },
       "data": [
        {
         "hovertemplate": "variable=wide_variable_0<br>index=%{x}<br>value=%{y}<extra></extra>",
         "legendgroup": "wide_variable_0",
         "line": {
          "color": "#636efa",
          "dash": "solid"
         },
         "marker": {
          "symbol": "circle"
         },
         "mode": "lines",
         "name": "wide_variable_0",
         "orientation": "v",
         "showlegend": true,
         "type": "scatter",
         "x": [
          0,
          1,
          2,
          3,
          4,
          5,
          6,
          7,
          8,
          9,
          10,
          11,
          12,
          13,
          14,
          15,
          16,
          17,
          18,
          19,
          20,
          21,
          22,
          23,
          24,
          25,
          26,
          27,
          28,
          29,
          30,
          31,
          32,
          33,
          34,
          35,
          36,
          37,
          38,
          39,
          40,
          41,
          42,
          43,
          44,
          45,
          46,
          47,
          48,
          49,
          50,
          51,
          52,
          53,
          54,
          55,
          56,
          57,
          58,
          59
         ],
         "xaxis": "x",
         "y": [
          -1.5861035585403442,
          -1.0264297723770142,
          -0.8736928105354309,
          -1.4027637243270874,
          -1.6485494375228882,
          -0.29181715846061707,
          -0.35680821537971497,
          -1.9005697965621948,
          -0.7148011326789856,
          -0.5843793153762817,
          0.10210280865430832,
          -1.679270625114441,
          -1.0504070520401,
          0.5798195004463196,
          -1.2353196144104004,
          -0.15622586011886597,
          -0.5670167803764343,
          -0.17677122354507446,
          0.04358748346567154,
          -1.3257452249526978,
          -0.05160887539386749,
          -0.6408252716064453,
          0.3345353603363037,
          -0.5649564862251282,
          0.17377451062202454,
          0.28052178025245667,
          -0.15013375878334045,
          0.010257028043270111,
          0.8670125603675842,
          -0.3222559988498688,
          -0.5128172636032104,
          -0.28894123435020447,
          -0.3097652494907379,
          0.30959245562553406,
          0.43893447518348694,
          0.733932375907898,
          0.37952733039855957,
          0.5141019225120544,
          0.4927157461643219,
          0.22094383835792542,
          1.3278834819793701,
          -0.07067758589982986,
          -0.225206196308136,
          -0.12803342938423157,
          -0.335562139749527,
          0.6529375910758972,
          0.9049115777015686,
          1.6750961542129517,
          0.6199416518211365,
          0.7531219124794006,
          0.7594823837280273,
          0.4499690532684326,
          1.598254680633545,
          0.195284903049469,
          0.013972900807857513,
          0.1154223307967186,
          -0.0883275642991066,
          0.8656080961227417,
          1.194628119468689,
          1.9694243669509888
         ],
         "yaxis": "y"
        },
        {
         "hovertemplate": "variable=wide_variable_1<br>index=%{x}<br>value=%{y}<extra></extra>",
         "legendgroup": "wide_variable_1",
         "line": {
          "color": "#EF553B",
          "dash": "solid"
         },
         "marker": {
          "symbol": "circle"
         },
         "mode": "lines",
         "name": "wide_variable_1",
         "orientation": "v",
         "showlegend": true,
         "type": "scatter",
         "x": [
          0,
          1,
          2,
          3,
          4,
          5,
          6,
          7,
          8,
          9,
          10,
          11,
          12,
          13,
          14,
          15,
          16,
          17,
          18,
          19,
          20,
          21,
          22,
          23,
          24,
          25,
          26,
          27,
          28,
          29,
          30,
          31,
          32,
          33,
          34,
          35,
          36,
          37,
          38,
          39,
          40,
          41,
          42,
          43,
          44,
          45,
          46,
          47,
          48,
          49,
          50,
          51,
          52,
          53,
          54,
          55,
          56,
          57,
          58,
          59
         ],
         "xaxis": "x",
         "y": [
          -1.614686115673975,
          -1.0860669388132915,
          -0.8469165891860347,
          -1.435876996317326,
          -1.6979709230889393,
          -0.347215075889132,
          -0.4065448461774251,
          -1.9224877299704155,
          -0.7280124139895714,
          -0.5545535568349956,
          0.0002646212666002,
          -1.7151034133542986,
          -1.1678328624675274,
          0.8455738585251777,
          -1.2797510743457354,
          -0.2570336367540376,
          -0.7535049063321203,
          -0.1821093039278564,
          0.0379854688558503,
          -1.449363206397534,
          0.0283435300590328,
          -0.6872262896542466,
          0.4775620044255073,
          -0.4725610275682503,
          0.6140594804093985,
          -0.3725269044198535,
          -0.2445938293238803,
          0.2919211822483357,
          0.9987214754295232,
          -0.3530544955820558,
          -0.9665972894245324,
          0.5421083456640156,
          -0.5226372702688623,
          0.44466297715589,
          -0.1764068538577309,
          0.5359861966197718,
          0.0664010351521345,
          0.659019383930995,
          0.5483303004368902,
          -0.0004361956088377,
          1.2722807841317978,
          -0.0706664617011996,
          0.1430983129366674,
          -0.9385821257694656,
          -0.1984226981937276,
          0.4940068315911555,
          1.2843081310601618,
          1.823742984715062,
          1.038093456942467,
          0.6149079792743127,
          1.3357821475186653,
          0.7415765384212808,
          2.569658121447964,
          -0.0764082388823226,
          -0.1029488759283797,
          -0.0838196971302839,
          -0.2800329277423071,
          1.135584891919596,
          1.393491921228085,
          3.054478809209832
         ],
         "yaxis": "y"
        }
       ],
       "layout": {
        "legend": {
         "title": {
          "text": "预测值/真实值"
         },
         "tracegroupgap": 0
        },
        "margin": {
         "t": 60
        },
        "template": {
         "data": {
          "bar": [
           {
            "error_x": {
             "color": "#2a3f5f"
            },
            "error_y": {
             "color": "#2a3f5f"
            },
            "marker": {
             "line": {
              "color": "#E5ECF6",
              "width": 0.5
             },
             "pattern": {
              "fillmode": "overlay",
              "size": 10,
              "solidity": 0.2
             }
            },
            "type": "bar"
           }
          ],
          "barpolar": [
           {
            "marker": {
             "line": {
              "color": "#E5ECF6",
              "width": 0.5
             },
             "pattern": {
              "fillmode": "overlay",
              "size": 10,
              "solidity": 0.2
             }
            },
            "type": "barpolar"
           }
          ],
          "carpet": [
           {
            "aaxis": {
             "endlinecolor": "#2a3f5f",
             "gridcolor": "white",
             "linecolor": "white",
             "minorgridcolor": "white",
             "startlinecolor": "#2a3f5f"
            },
            "baxis": {
             "endlinecolor": "#2a3f5f",
             "gridcolor": "white",
             "linecolor": "white",
             "minorgridcolor": "white",
             "startlinecolor": "#2a3f5f"
            },
            "type": "carpet"
           }
          ],
          "choropleth": [
           {
            "colorbar": {
             "outlinewidth": 0,
             "ticks": ""
            },
            "type": "choropleth"
           }
          ],
          "contour": [
           {
            "colorbar": {
             "outlinewidth": 0,
             "ticks": ""
            },
            "colorscale": [
             [
              0,
              "#0d0887"
             ],
             [
              0.1111111111111111,
              "#46039f"
             ],
             [
              0.2222222222222222,
              "#7201a8"
             ],
             [
              0.3333333333333333,
              "#9c179e"
             ],
             [
              0.4444444444444444,
              "#bd3786"
             ],
             [
              0.5555555555555556,
              "#d8576b"
             ],
             [
              0.6666666666666666,
              "#ed7953"
             ],
             [
              0.7777777777777778,
              "#fb9f3a"
             ],
             [
              0.8888888888888888,
              "#fdca26"
             ],
             [
              1,
              "#f0f921"
             ]
            ],
            "type": "contour"
           }
          ],
          "contourcarpet": [
           {
            "colorbar": {
             "outlinewidth": 0,
             "ticks": ""
            },
            "type": "contourcarpet"
           }
          ],
          "heatmap": [
           {
            "colorbar": {
             "outlinewidth": 0,
             "ticks": ""
            },
            "colorscale": [
             [
              0,
              "#0d0887"
             ],
             [
              0.1111111111111111,
              "#46039f"
             ],
             [
              0.2222222222222222,
              "#7201a8"
             ],
             [
              0.3333333333333333,
              "#9c179e"
             ],
             [
              0.4444444444444444,
              "#bd3786"
             ],
             [
              0.5555555555555556,
              "#d8576b"
             ],
             [
              0.6666666666666666,
              "#ed7953"
             ],
             [
              0.7777777777777778,
              "#fb9f3a"
             ],
             [
              0.8888888888888888,
              "#fdca26"
             ],
             [
              1,
              "#f0f921"
             ]
            ],
            "type": "heatmap"
           }
          ],
          "heatmapgl": [
           {
            "colorbar": {
             "outlinewidth": 0,
             "ticks": ""
            },
            "colorscale": [
             [
              0,
              "#0d0887"
             ],
             [
              0.1111111111111111,
              "#46039f"
             ],
             [
              0.2222222222222222,
              "#7201a8"
             ],
             [
              0.3333333333333333,
              "#9c179e"
             ],
             [
              0.4444444444444444,
              "#bd3786"
             ],
             [
              0.5555555555555556,
              "#d8576b"
             ],
             [
              0.6666666666666666,
              "#ed7953"
             ],
             [
              0.7777777777777778,
              "#fb9f3a"
             ],
             [
              0.8888888888888888,
              "#fdca26"
             ],
             [
              1,
              "#f0f921"
             ]
            ],
            "type": "heatmapgl"
           }
          ],
          "histogram": [
           {
            "marker": {
             "pattern": {
              "fillmode": "overlay",
              "size": 10,
              "solidity": 0.2
             }
            },
            "type": "histogram"
           }
          ],
          "histogram2d": [
           {
            "colorbar": {
             "outlinewidth": 0,
             "ticks": ""
            },
            "colorscale": [
             [
              0,
              "#0d0887"
             ],
             [
              0.1111111111111111,
              "#46039f"
             ],
             [
              0.2222222222222222,
              "#7201a8"
             ],
             [
              0.3333333333333333,
              "#9c179e"
             ],
             [
              0.4444444444444444,
              "#bd3786"
             ],
             [
              0.5555555555555556,
              "#d8576b"
             ],
             [
              0.6666666666666666,
              "#ed7953"
             ],
             [
              0.7777777777777778,
              "#fb9f3a"
             ],
             [
              0.8888888888888888,
              "#fdca26"
             ],
             [
              1,
              "#f0f921"
             ]
            ],
            "type": "histogram2d"
           }
          ],
          "histogram2dcontour": [
           {
            "colorbar": {
             "outlinewidth": 0,
             "ticks": ""
            },
            "colorscale": [
             [
              0,
              "#0d0887"
             ],
             [
              0.1111111111111111,
              "#46039f"
             ],
             [
              0.2222222222222222,
              "#7201a8"
             ],
             [
              0.3333333333333333,
              "#9c179e"
             ],
             [
              0.4444444444444444,
              "#bd3786"
             ],
             [
              0.5555555555555556,
              "#d8576b"
             ],
             [
              0.6666666666666666,
              "#ed7953"
             ],
             [
              0.7777777777777778,
              "#fb9f3a"
             ],
             [
              0.8888888888888888,
              "#fdca26"
             ],
             [
              1,
              "#f0f921"
             ]
            ],
            "type": "histogram2dcontour"
           }
          ],
          "mesh3d": [
           {
            "colorbar": {
             "outlinewidth": 0,
             "ticks": ""
            },
            "type": "mesh3d"
           }
          ],
          "parcoords": [
           {
            "line": {
             "colorbar": {
              "outlinewidth": 0,
              "ticks": ""
             }
            },
            "type": "parcoords"
           }
          ],
          "pie": [
           {
            "automargin": true,
            "type": "pie"
           }
          ],
          "scatter": [
           {
            "fillpattern": {
             "fillmode": "overlay",
             "size": 10,
             "solidity": 0.2
            },
            "type": "scatter"
           }
          ],
          "scatter3d": [
           {
            "line": {
             "colorbar": {
              "outlinewidth": 0,
              "ticks": ""
             }
            },
            "marker": {
             "colorbar": {
              "outlinewidth": 0,
              "ticks": ""
             }
            },
            "type": "scatter3d"
           }
          ],
          "scattercarpet": [
           {
            "marker": {
             "colorbar": {
              "outlinewidth": 0,
              "ticks": ""
             }
            },
            "type": "scattercarpet"
           }
          ],
          "scattergeo": [
           {
            "marker": {
             "colorbar": {
              "outlinewidth": 0,
              "ticks": ""
             }
            },
            "type": "scattergeo"
           }
          ],
          "scattergl": [
           {
            "marker": {
             "colorbar": {
              "outlinewidth": 0,
              "ticks": ""
             }
            },
            "type": "scattergl"
           }
          ],
          "scattermapbox": [
           {
            "marker": {
             "colorbar": {
              "outlinewidth": 0,
              "ticks": ""
             }
            },
            "type": "scattermapbox"
           }
          ],
          "scatterpolar": [
           {
            "marker": {
             "colorbar": {
              "outlinewidth": 0,
              "ticks": ""
             }
            },
            "type": "scatterpolar"
           }
          ],
          "scatterpolargl": [
           {
            "marker": {
             "colorbar": {
              "outlinewidth": 0,
              "ticks": ""
             }
            },
            "type": "scatterpolargl"
           }
          ],
          "scatterternary": [
           {
            "marker": {
             "colorbar": {
              "outlinewidth": 0,
              "ticks": ""
             }
            },
            "type": "scatterternary"
           }
          ],
          "surface": [
           {
            "colorbar": {
             "outlinewidth": 0,
             "ticks": ""
            },
            "colorscale": [
             [
              0,
              "#0d0887"
             ],
             [
              0.1111111111111111,
              "#46039f"
             ],
             [
              0.2222222222222222,
              "#7201a8"
             ],
             [
              0.3333333333333333,
              "#9c179e"
             ],
             [
              0.4444444444444444,
              "#bd3786"
             ],
             [
              0.5555555555555556,
              "#d8576b"
             ],
             [
              0.6666666666666666,
              "#ed7953"
             ],
             [
              0.7777777777777778,
              "#fb9f3a"
             ],
             [
              0.8888888888888888,
              "#fdca26"
             ],
             [
              1,
              "#f0f921"
             ]
            ],
            "type": "surface"
           }
          ],
          "table": [
           {
            "cells": {
             "fill": {
              "color": "#EBF0F8"
             },
             "line": {
              "color": "white"
             }
            },
            "header": {
             "fill": {
              "color": "#C8D4E3"
             },
             "line": {
              "color": "white"
             }
            },
            "type": "table"
           }
          ]
         },
         "layout": {
          "annotationdefaults": {
           "arrowcolor": "#2a3f5f",
           "arrowhead": 0,
           "arrowwidth": 1
          },
          "autotypenumbers": "strict",
          "coloraxis": {
           "colorbar": {
            "outlinewidth": 0,
            "ticks": ""
           }
          },
          "colorscale": {
           "diverging": [
            [
             0,
             "#8e0152"
            ],
            [
             0.1,
             "#c51b7d"
            ],
            [
             0.2,
             "#de77ae"
            ],
            [
             0.3,
             "#f1b6da"
            ],
            [
             0.4,
             "#fde0ef"
            ],
            [
             0.5,
             "#f7f7f7"
            ],
            [
             0.6,
             "#e6f5d0"
            ],
            [
             0.7,
             "#b8e186"
            ],
            [
             0.8,
             "#7fbc41"
            ],
            [
             0.9,
             "#4d9221"
            ],
            [
             1,
             "#276419"
            ]
           ],
           "sequential": [
            [
             0,
             "#0d0887"
            ],
            [
             0.1111111111111111,
             "#46039f"
            ],
            [
             0.2222222222222222,
             "#7201a8"
            ],
            [
             0.3333333333333333,
             "#9c179e"
            ],
            [
             0.4444444444444444,
             "#bd3786"
            ],
            [
             0.5555555555555556,
             "#d8576b"
            ],
            [
             0.6666666666666666,
             "#ed7953"
            ],
            [
             0.7777777777777778,
             "#fb9f3a"
            ],
            [
             0.8888888888888888,
             "#fdca26"
            ],
            [
             1,
             "#f0f921"
            ]
           ],
           "sequentialminus": [
            [
             0,
             "#0d0887"
            ],
            [
             0.1111111111111111,
             "#46039f"
            ],
            [
             0.2222222222222222,
             "#7201a8"
            ],
            [
             0.3333333333333333,
             "#9c179e"
            ],
            [
             0.4444444444444444,
             "#bd3786"
            ],
            [
             0.5555555555555556,
             "#d8576b"
            ],
            [
             0.6666666666666666,
             "#ed7953"
            ],
            [
             0.7777777777777778,
             "#fb9f3a"
            ],
            [
             0.8888888888888888,
             "#fdca26"
            ],
            [
             1,
             "#f0f921"
            ]
           ]
          },
          "colorway": [
           "#636efa",
           "#EF553B",
           "#00cc96",
           "#ab63fa",
           "#FFA15A",
           "#19d3f3",
           "#FF6692",
           "#B6E880",
           "#FF97FF",
           "#FECB52"
          ],
          "font": {
           "color": "#2a3f5f"
          },
          "geo": {
           "bgcolor": "white",
           "lakecolor": "white",
           "landcolor": "#E5ECF6",
           "showlakes": true,
           "showland": true,
           "subunitcolor": "white"
          },
          "hoverlabel": {
           "align": "left"
          },
          "hovermode": "closest",
          "mapbox": {
           "style": "light"
          },
          "paper_bgcolor": "white",
          "plot_bgcolor": "#E5ECF6",
          "polar": {
           "angularaxis": {
            "gridcolor": "white",
            "linecolor": "white",
            "ticks": ""
           },
           "bgcolor": "#E5ECF6",
           "radialaxis": {
            "gridcolor": "white",
            "linecolor": "white",
            "ticks": ""
           }
          },
          "scene": {
           "xaxis": {
            "backgroundcolor": "#E5ECF6",
            "gridcolor": "white",
            "gridwidth": 2,
            "linecolor": "white",
            "showbackground": true,
            "ticks": "",
            "zerolinecolor": "white"
           },
           "yaxis": {
            "backgroundcolor": "#E5ECF6",
            "gridcolor": "white",
            "gridwidth": 2,
            "linecolor": "white",
            "showbackground": true,
            "ticks": "",
            "zerolinecolor": "white"
           },
           "zaxis": {
            "backgroundcolor": "#E5ECF6",
            "gridcolor": "white",
            "gridwidth": 2,
            "linecolor": "white",
            "showbackground": true,
            "ticks": "",
            "zerolinecolor": "white"
           }
          },
          "shapedefaults": {
           "line": {
            "color": "#2a3f5f"
           }
          },
          "ternary": {
           "aaxis": {
            "gridcolor": "white",
            "linecolor": "white",
            "ticks": ""
           },
           "baxis": {
            "gridcolor": "white",
            "linecolor": "white",
            "ticks": ""
           },
           "bgcolor": "#E5ECF6",
           "caxis": {
            "gridcolor": "white",
            "linecolor": "white",
            "ticks": ""
           }
          },
          "title": {
           "x": 0.05
          },
          "xaxis": {
           "automargin": true,
           "gridcolor": "white",
           "linecolor": "white",
           "ticks": "",
           "title": {
            "standoff": 15
           },
           "zerolinecolor": "white",
           "zerolinewidth": 2
          },
          "yaxis": {
           "automargin": true,
           "gridcolor": "white",
           "linecolor": "white",
           "ticks": "",
           "title": {
            "standoff": 15
           },
           "zerolinecolor": "white",
           "zerolinewidth": 2
          }
         }
        },
        "title": {
         "text": "全氮N预测值和真实值"
        },
        "xaxis": {
         "anchor": "y",
         "domain": [
          0,
          1
         ],
         "title": {
          "text": "index"
         }
        },
        "yaxis": {
         "anchor": "x",
         "domain": [
          0,
          1
         ],
         "title": {
          "text": "value"
         }
        }
       }
      },
      "text/html": [
       "<div>                            <div id=\"5ce805bd-42af-49f0-9109-e254d672d7a4\" class=\"plotly-graph-div\" style=\"height:525px; width:100%;\"></div>            <script type=\"text/javascript\">                require([\"plotly\"], function(Plotly) {                    window.PLOTLYENV=window.PLOTLYENV || {};                                    if (document.getElementById(\"5ce805bd-42af-49f0-9109-e254d672d7a4\")) {                    Plotly.newPlot(                        \"5ce805bd-42af-49f0-9109-e254d672d7a4\",                        [{\"hovertemplate\":\"variable=wide_variable_0<br>index=%{x}<br>value=%{y}<extra></extra>\",\"legendgroup\":\"wide_variable_0\",\"line\":{\"color\":\"#636efa\",\"dash\":\"solid\"},\"marker\":{\"symbol\":\"circle\"},\"mode\":\"lines\",\"name\":\"wide_variable_0\",\"orientation\":\"v\",\"showlegend\":true,\"x\":[0,1,2,3,4,5,6,7,8,9,10,11,12,13,14,15,16,17,18,19,20,21,22,23,24,25,26,27,28,29,30,31,32,33,34,35,36,37,38,39,40,41,42,43,44,45,46,47,48,49,50,51,52,53,54,55,56,57,58,59],\"xaxis\":\"x\",\"y\":[-1.5861035585403442,-1.0264297723770142,-0.8736928105354309,-1.4027637243270874,-1.6485494375228882,-0.29181715846061707,-0.35680821537971497,-1.9005697965621948,-0.7148011326789856,-0.5843793153762817,0.10210280865430832,-1.679270625114441,-1.0504070520401,0.5798195004463196,-1.2353196144104004,-0.15622586011886597,-0.5670167803764343,-0.17677122354507446,0.04358748346567154,-1.3257452249526978,-0.05160887539386749,-0.6408252716064453,0.3345353603363037,-0.5649564862251282,0.17377451062202454,0.28052178025245667,-0.15013375878334045,0.010257028043270111,0.8670125603675842,-0.3222559988498688,-0.5128172636032104,-0.28894123435020447,-0.3097652494907379,0.30959245562553406,0.43893447518348694,0.733932375907898,0.37952733039855957,0.5141019225120544,0.4927157461643219,0.22094383835792542,1.3278834819793701,-0.07067758589982986,-0.225206196308136,-0.12803342938423157,-0.335562139749527,0.6529375910758972,0.9049115777015686,1.6750961542129517,0.6199416518211365,0.7531219124794006,0.7594823837280273,0.4499690532684326,1.598254680633545,0.195284903049469,0.013972900807857513,0.1154223307967186,-0.0883275642991066,0.8656080961227417,1.194628119468689,1.9694243669509888],\"yaxis\":\"y\",\"type\":\"scatter\"},{\"hovertemplate\":\"variable=wide_variable_1<br>index=%{x}<br>value=%{y}<extra></extra>\",\"legendgroup\":\"wide_variable_1\",\"line\":{\"color\":\"#EF553B\",\"dash\":\"solid\"},\"marker\":{\"symbol\":\"circle\"},\"mode\":\"lines\",\"name\":\"wide_variable_1\",\"orientation\":\"v\",\"showlegend\":true,\"x\":[0,1,2,3,4,5,6,7,8,9,10,11,12,13,14,15,16,17,18,19,20,21,22,23,24,25,26,27,28,29,30,31,32,33,34,35,36,37,38,39,40,41,42,43,44,45,46,47,48,49,50,51,52,53,54,55,56,57,58,59],\"xaxis\":\"x\",\"y\":[-1.614686115673975,-1.0860669388132915,-0.8469165891860347,-1.435876996317326,-1.6979709230889393,-0.347215075889132,-0.4065448461774251,-1.9224877299704155,-0.7280124139895714,-0.5545535568349956,0.0002646212666002,-1.7151034133542986,-1.1678328624675274,0.8455738585251777,-1.2797510743457354,-0.2570336367540376,-0.7535049063321203,-0.1821093039278564,0.0379854688558503,-1.449363206397534,0.0283435300590328,-0.6872262896542466,0.4775620044255073,-0.4725610275682503,0.6140594804093985,-0.3725269044198535,-0.2445938293238803,0.2919211822483357,0.9987214754295232,-0.3530544955820558,-0.9665972894245324,0.5421083456640156,-0.5226372702688623,0.44466297715589,-0.1764068538577309,0.5359861966197718,0.0664010351521345,0.659019383930995,0.5483303004368902,-0.0004361956088377,1.2722807841317978,-0.0706664617011996,0.1430983129366674,-0.9385821257694656,-0.1984226981937276,0.4940068315911555,1.2843081310601618,1.823742984715062,1.038093456942467,0.6149079792743127,1.3357821475186653,0.7415765384212808,2.569658121447964,-0.0764082388823226,-0.1029488759283797,-0.0838196971302839,-0.2800329277423071,1.135584891919596,1.393491921228085,3.054478809209832],\"yaxis\":\"y\",\"type\":\"scatter\"}],                        {\"template\":{\"data\":{\"histogram2dcontour\":[{\"type\":\"histogram2dcontour\",\"colorbar\":{\"outlinewidth\":0,\"ticks\":\"\"},\"colorscale\":[[0.0,\"#0d0887\"],[0.1111111111111111,\"#46039f\"],[0.2222222222222222,\"#7201a8\"],[0.3333333333333333,\"#9c179e\"],[0.4444444444444444,\"#bd3786\"],[0.5555555555555556,\"#d8576b\"],[0.6666666666666666,\"#ed7953\"],[0.7777777777777778,\"#fb9f3a\"],[0.8888888888888888,\"#fdca26\"],[1.0,\"#f0f921\"]]}],\"choropleth\":[{\"type\":\"choropleth\",\"colorbar\":{\"outlinewidth\":0,\"ticks\":\"\"}}],\"histogram2d\":[{\"type\":\"histogram2d\",\"colorbar\":{\"outlinewidth\":0,\"ticks\":\"\"},\"colorscale\":[[0.0,\"#0d0887\"],[0.1111111111111111,\"#46039f\"],[0.2222222222222222,\"#7201a8\"],[0.3333333333333333,\"#9c179e\"],[0.4444444444444444,\"#bd3786\"],[0.5555555555555556,\"#d8576b\"],[0.6666666666666666,\"#ed7953\"],[0.7777777777777778,\"#fb9f3a\"],[0.8888888888888888,\"#fdca26\"],[1.0,\"#f0f921\"]]}],\"heatmap\":[{\"type\":\"heatmap\",\"colorbar\":{\"outlinewidth\":0,\"ticks\":\"\"},\"colorscale\":[[0.0,\"#0d0887\"],[0.1111111111111111,\"#46039f\"],[0.2222222222222222,\"#7201a8\"],[0.3333333333333333,\"#9c179e\"],[0.4444444444444444,\"#bd3786\"],[0.5555555555555556,\"#d8576b\"],[0.6666666666666666,\"#ed7953\"],[0.7777777777777778,\"#fb9f3a\"],[0.8888888888888888,\"#fdca26\"],[1.0,\"#f0f921\"]]}],\"heatmapgl\":[{\"type\":\"heatmapgl\",\"colorbar\":{\"outlinewidth\":0,\"ticks\":\"\"},\"colorscale\":[[0.0,\"#0d0887\"],[0.1111111111111111,\"#46039f\"],[0.2222222222222222,\"#7201a8\"],[0.3333333333333333,\"#9c179e\"],[0.4444444444444444,\"#bd3786\"],[0.5555555555555556,\"#d8576b\"],[0.6666666666666666,\"#ed7953\"],[0.7777777777777778,\"#fb9f3a\"],[0.8888888888888888,\"#fdca26\"],[1.0,\"#f0f921\"]]}],\"contourcarpet\":[{\"type\":\"contourcarpet\",\"colorbar\":{\"outlinewidth\":0,\"ticks\":\"\"}}],\"contour\":[{\"type\":\"contour\",\"colorbar\":{\"outlinewidth\":0,\"ticks\":\"\"},\"colorscale\":[[0.0,\"#0d0887\"],[0.1111111111111111,\"#46039f\"],[0.2222222222222222,\"#7201a8\"],[0.3333333333333333,\"#9c179e\"],[0.4444444444444444,\"#bd3786\"],[0.5555555555555556,\"#d8576b\"],[0.6666666666666666,\"#ed7953\"],[0.7777777777777778,\"#fb9f3a\"],[0.8888888888888888,\"#fdca26\"],[1.0,\"#f0f921\"]]}],\"surface\":[{\"type\":\"surface\",\"colorbar\":{\"outlinewidth\":0,\"ticks\":\"\"},\"colorscale\":[[0.0,\"#0d0887\"],[0.1111111111111111,\"#46039f\"],[0.2222222222222222,\"#7201a8\"],[0.3333333333333333,\"#9c179e\"],[0.4444444444444444,\"#bd3786\"],[0.5555555555555556,\"#d8576b\"],[0.6666666666666666,\"#ed7953\"],[0.7777777777777778,\"#fb9f3a\"],[0.8888888888888888,\"#fdca26\"],[1.0,\"#f0f921\"]]}],\"mesh3d\":[{\"type\":\"mesh3d\",\"colorbar\":{\"outlinewidth\":0,\"ticks\":\"\"}}],\"scatter\":[{\"fillpattern\":{\"fillmode\":\"overlay\",\"size\":10,\"solidity\":0.2},\"type\":\"scatter\"}],\"parcoords\":[{\"type\":\"parcoords\",\"line\":{\"colorbar\":{\"outlinewidth\":0,\"ticks\":\"\"}}}],\"scatterpolargl\":[{\"type\":\"scatterpolargl\",\"marker\":{\"colorbar\":{\"outlinewidth\":0,\"ticks\":\"\"}}}],\"bar\":[{\"error_x\":{\"color\":\"#2a3f5f\"},\"error_y\":{\"color\":\"#2a3f5f\"},\"marker\":{\"line\":{\"color\":\"#E5ECF6\",\"width\":0.5},\"pattern\":{\"fillmode\":\"overlay\",\"size\":10,\"solidity\":0.2}},\"type\":\"bar\"}],\"scattergeo\":[{\"type\":\"scattergeo\",\"marker\":{\"colorbar\":{\"outlinewidth\":0,\"ticks\":\"\"}}}],\"scatterpolar\":[{\"type\":\"scatterpolar\",\"marker\":{\"colorbar\":{\"outlinewidth\":0,\"ticks\":\"\"}}}],\"histogram\":[{\"marker\":{\"pattern\":{\"fillmode\":\"overlay\",\"size\":10,\"solidity\":0.2}},\"type\":\"histogram\"}],\"scattergl\":[{\"type\":\"scattergl\",\"marker\":{\"colorbar\":{\"outlinewidth\":0,\"ticks\":\"\"}}}],\"scatter3d\":[{\"type\":\"scatter3d\",\"line\":{\"colorbar\":{\"outlinewidth\":0,\"ticks\":\"\"}},\"marker\":{\"colorbar\":{\"outlinewidth\":0,\"ticks\":\"\"}}}],\"scattermapbox\":[{\"type\":\"scattermapbox\",\"marker\":{\"colorbar\":{\"outlinewidth\":0,\"ticks\":\"\"}}}],\"scatterternary\":[{\"type\":\"scatterternary\",\"marker\":{\"colorbar\":{\"outlinewidth\":0,\"ticks\":\"\"}}}],\"scattercarpet\":[{\"type\":\"scattercarpet\",\"marker\":{\"colorbar\":{\"outlinewidth\":0,\"ticks\":\"\"}}}],\"carpet\":[{\"aaxis\":{\"endlinecolor\":\"#2a3f5f\",\"gridcolor\":\"white\",\"linecolor\":\"white\",\"minorgridcolor\":\"white\",\"startlinecolor\":\"#2a3f5f\"},\"baxis\":{\"endlinecolor\":\"#2a3f5f\",\"gridcolor\":\"white\",\"linecolor\":\"white\",\"minorgridcolor\":\"white\",\"startlinecolor\":\"#2a3f5f\"},\"type\":\"carpet\"}],\"table\":[{\"cells\":{\"fill\":{\"color\":\"#EBF0F8\"},\"line\":{\"color\":\"white\"}},\"header\":{\"fill\":{\"color\":\"#C8D4E3\"},\"line\":{\"color\":\"white\"}},\"type\":\"table\"}],\"barpolar\":[{\"marker\":{\"line\":{\"color\":\"#E5ECF6\",\"width\":0.5},\"pattern\":{\"fillmode\":\"overlay\",\"size\":10,\"solidity\":0.2}},\"type\":\"barpolar\"}],\"pie\":[{\"automargin\":true,\"type\":\"pie\"}]},\"layout\":{\"autotypenumbers\":\"strict\",\"colorway\":[\"#636efa\",\"#EF553B\",\"#00cc96\",\"#ab63fa\",\"#FFA15A\",\"#19d3f3\",\"#FF6692\",\"#B6E880\",\"#FF97FF\",\"#FECB52\"],\"font\":{\"color\":\"#2a3f5f\"},\"hovermode\":\"closest\",\"hoverlabel\":{\"align\":\"left\"},\"paper_bgcolor\":\"white\",\"plot_bgcolor\":\"#E5ECF6\",\"polar\":{\"bgcolor\":\"#E5ECF6\",\"angularaxis\":{\"gridcolor\":\"white\",\"linecolor\":\"white\",\"ticks\":\"\"},\"radialaxis\":{\"gridcolor\":\"white\",\"linecolor\":\"white\",\"ticks\":\"\"}},\"ternary\":{\"bgcolor\":\"#E5ECF6\",\"aaxis\":{\"gridcolor\":\"white\",\"linecolor\":\"white\",\"ticks\":\"\"},\"baxis\":{\"gridcolor\":\"white\",\"linecolor\":\"white\",\"ticks\":\"\"},\"caxis\":{\"gridcolor\":\"white\",\"linecolor\":\"white\",\"ticks\":\"\"}},\"coloraxis\":{\"colorbar\":{\"outlinewidth\":0,\"ticks\":\"\"}},\"colorscale\":{\"sequential\":[[0.0,\"#0d0887\"],[0.1111111111111111,\"#46039f\"],[0.2222222222222222,\"#7201a8\"],[0.3333333333333333,\"#9c179e\"],[0.4444444444444444,\"#bd3786\"],[0.5555555555555556,\"#d8576b\"],[0.6666666666666666,\"#ed7953\"],[0.7777777777777778,\"#fb9f3a\"],[0.8888888888888888,\"#fdca26\"],[1.0,\"#f0f921\"]],\"sequentialminus\":[[0.0,\"#0d0887\"],[0.1111111111111111,\"#46039f\"],[0.2222222222222222,\"#7201a8\"],[0.3333333333333333,\"#9c179e\"],[0.4444444444444444,\"#bd3786\"],[0.5555555555555556,\"#d8576b\"],[0.6666666666666666,\"#ed7953\"],[0.7777777777777778,\"#fb9f3a\"],[0.8888888888888888,\"#fdca26\"],[1.0,\"#f0f921\"]],\"diverging\":[[0,\"#8e0152\"],[0.1,\"#c51b7d\"],[0.2,\"#de77ae\"],[0.3,\"#f1b6da\"],[0.4,\"#fde0ef\"],[0.5,\"#f7f7f7\"],[0.6,\"#e6f5d0\"],[0.7,\"#b8e186\"],[0.8,\"#7fbc41\"],[0.9,\"#4d9221\"],[1,\"#276419\"]]},\"xaxis\":{\"gridcolor\":\"white\",\"linecolor\":\"white\",\"ticks\":\"\",\"title\":{\"standoff\":15},\"zerolinecolor\":\"white\",\"automargin\":true,\"zerolinewidth\":2},\"yaxis\":{\"gridcolor\":\"white\",\"linecolor\":\"white\",\"ticks\":\"\",\"title\":{\"standoff\":15},\"zerolinecolor\":\"white\",\"automargin\":true,\"zerolinewidth\":2},\"scene\":{\"xaxis\":{\"backgroundcolor\":\"#E5ECF6\",\"gridcolor\":\"white\",\"linecolor\":\"white\",\"showbackground\":true,\"ticks\":\"\",\"zerolinecolor\":\"white\",\"gridwidth\":2},\"yaxis\":{\"backgroundcolor\":\"#E5ECF6\",\"gridcolor\":\"white\",\"linecolor\":\"white\",\"showbackground\":true,\"ticks\":\"\",\"zerolinecolor\":\"white\",\"gridwidth\":2},\"zaxis\":{\"backgroundcolor\":\"#E5ECF6\",\"gridcolor\":\"white\",\"linecolor\":\"white\",\"showbackground\":true,\"ticks\":\"\",\"zerolinecolor\":\"white\",\"gridwidth\":2}},\"shapedefaults\":{\"line\":{\"color\":\"#2a3f5f\"}},\"annotationdefaults\":{\"arrowcolor\":\"#2a3f5f\",\"arrowhead\":0,\"arrowwidth\":1},\"geo\":{\"bgcolor\":\"white\",\"landcolor\":\"#E5ECF6\",\"subunitcolor\":\"white\",\"showland\":true,\"showlakes\":true,\"lakecolor\":\"white\"},\"title\":{\"x\":0.05},\"mapbox\":{\"style\":\"light\"}}},\"xaxis\":{\"anchor\":\"y\",\"domain\":[0.0,1.0],\"title\":{\"text\":\"index\"}},\"yaxis\":{\"anchor\":\"x\",\"domain\":[0.0,1.0],\"title\":{\"text\":\"value\"}},\"legend\":{\"title\":{\"text\":\"\\u9884\\u6d4b\\u503c/\\u771f\\u5b9e\\u503c\"},\"tracegroupgap\":0},\"margin\":{\"t\":60},\"title\":{\"text\":\"\\u5168\\u6c2eN\\u9884\\u6d4b\\u503c\\u548c\\u771f\\u5b9e\\u503c\"}},                        {\"responsive\": true}                    ).then(function(){\n",
       "                            \n",
       "var gd = document.getElementById('5ce805bd-42af-49f0-9109-e254d672d7a4');\n",
       "var x = new MutationObserver(function (mutations, observer) {{\n",
       "        var display = window.getComputedStyle(gd).display;\n",
       "        if (!display || display === 'none') {{\n",
       "            console.log([gd, 'removed!']);\n",
       "            Plotly.purge(gd);\n",
       "            observer.disconnect();\n",
       "        }}\n",
       "}});\n",
       "\n",
       "// Listen for the removal of the full notebook cells\n",
       "var notebookContainer = gd.closest('#notebook-container');\n",
       "if (notebookContainer) {{\n",
       "    x.observe(notebookContainer, {childList: true});\n",
       "}}\n",
       "\n",
       "// Listen for the clearing of the current output cell\n",
       "var outputEl = gd.closest('.output');\n",
       "if (outputEl) {{\n",
       "    x.observe(outputEl, {childList: true});\n",
       "}}\n",
       "\n",
       "                        })                };                });            </script>        </div>"
      ]
     },
     "metadata": {},
     "output_type": "display_data"
    }
   ],
   "source": [
    "plotPredGnd(ALLN)"
   ]
  }
 ],
 "metadata": {
  "kernelspec": {
   "display_name": "Python 3 (ipykernel)",
   "language": "python",
   "name": "python3"
  },
  "language_info": {
   "codemirror_mode": {
    "name": "ipython",
    "version": 3
   },
   "file_extension": ".py",
   "mimetype": "text/x-python",
   "name": "python",
   "nbconvert_exporter": "python",
   "pygments_lexer": "ipython3",
   "version": "3.9.7"
  }
 },
 "nbformat": 4,
 "nbformat_minor": 5
}

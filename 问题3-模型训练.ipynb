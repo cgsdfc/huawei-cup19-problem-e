{
 "cells": [
  {
   "cell_type": "code",
   "execution_count": 25,
   "id": "74d806f4",
   "metadata": {},
   "outputs": [],
   "source": [
    "import pandas as pd\n",
    "import numpy as np\n",
    "import seaborn as sns\n",
    "from pathlib import Path as P\n",
    "import matplotlib.pyplot as plt\n",
    "plt.rcParams['font.sans-serif'] = ['KaiTi', 'SimHei', 'FangSong']  # 汉字字体,优先使用楷体，如果找不到楷体，则使用黑体\n",
    "plt.rcParams['font.size'] = 12  # 字体大小\n",
    "plt.rcParams['axes.unicode_minus'] = False  # 正常显示负号\n",
    "from collections import defaultdict\n",
    "import plotly.express as px\n",
    "import pickle\n",
    "from sklearn.preprocessing import StandardScaler, MinMaxScaler\n",
    "from sklearn.model_selection import train_test_split\n",
    "\n",
    "import tensorflow.keras as keras"
   ]
  },
  {
   "cell_type": "code",
   "execution_count": 26,
   "id": "a4207b3a",
   "metadata": {},
   "outputs": [],
   "source": [
    "learning_rate=0.0001\n",
    "train_size=0.9\n",
    "bs=1\n",
    "epochs=500\n",
    "\n",
    "YEAR,INTENSITY,BLOCK,SOC,SIC,STC,ALLN,CN=['year', '放牧强度（intensity）', '放牧小区（plot）', 'SOC土壤有机碳', 'SIC土壤无机碳',\n",
    "       'STC土壤全碳', '全氮N', '土壤C/N比']"
   ]
  },
  {
   "cell_type": "code",
   "execution_count": 27,
   "id": "e2d95214",
   "metadata": {},
   "outputs": [],
   "source": [
    "df_NUMERIC=pd.read_csv('./问题3-因变量.csv')\n",
    "scaler=pickle.load(open('./问题3-scaler.pkl','rb'))\n",
    "df_INPUT=pd.read_csv('./问题3-自变量.csv')\n",
    "df_INDEX=pd.read_csv('./问题3-索引.csv')"
   ]
  },
  {
   "cell_type": "code",
   "execution_count": 28,
   "id": "c6f5dc51",
   "metadata": {},
   "outputs": [
    {
     "data": {
      "text/plain": [
       "((60, 5),\n",
       " (60, 13),\n",
       " array([14.92006485,  7.51246398, 22.43252883,  1.82556675, 13.00669993]),\n",
       " array([1.7068166 , 2.79228173, 2.43835697, 0.21700343, 2.45867866]))"
      ]
     },
     "execution_count": 28,
     "metadata": {},
     "output_type": "execute_result"
    }
   ],
   "source": [
    "df_NUMERIC.shape, df_INPUT.shape, scaler.mean_, scaler.scale_"
   ]
  },
  {
   "cell_type": "code",
   "execution_count": 29,
   "id": "a680fc86",
   "metadata": {},
   "outputs": [],
   "source": [
    "X_train,X_val,Y_train,Y_val=train_test_split(df_INPUT.values, df_NUMERIC.values, train_size=train_size, shuffle=False)\n",
    "# 开了shuffled后，性能会变差，不要开。"
   ]
  },
  {
   "cell_type": "code",
   "execution_count": 30,
   "id": "ccde16bc",
   "metadata": {},
   "outputs": [
    {
     "data": {
      "text/plain": [
       "((54, 13), (6, 13), (54, 5), (6, 5))"
      ]
     },
     "execution_count": 30,
     "metadata": {},
     "output_type": "execute_result"
    }
   ],
   "source": [
    "X_train.shape,X_val.shape,Y_train.shape,Y_val.shape"
   ]
  },
  {
   "cell_type": "code",
   "execution_count": 31,
   "id": "a1bed2b3",
   "metadata": {},
   "outputs": [
    {
     "name": "stdout",
     "output_type": "stream",
     "text": [
      "Model: \"model_1\"\n",
      "_________________________________________________________________\n",
      " Layer (type)                Output Shape              Param #   \n",
      "=================================================================\n",
      " input_2 (InputLayer)        [(None, 13)]              0         \n",
      "                                                                 \n",
      " dense_3 (Dense)             (None, 128)               1792      \n",
      "                                                                 \n",
      " dense_4 (Dense)             (None, 128)               16512     \n",
      "                                                                 \n",
      " dense_5 (Dense)             (None, 5)                 645       \n",
      "                                                                 \n",
      "=================================================================\n",
      "Total params: 18,949\n",
      "Trainable params: 18,949\n",
      "Non-trainable params: 0\n",
      "_________________________________________________________________\n"
     ]
    }
   ],
   "source": [
    "inputs = keras.layers.Input(shape=(X_train.shape[1], ))\n",
    "x = keras.layers.Dense(128, activation='relu')(inputs)\n",
    "x = keras.layers.Dense(128, activation='relu')(x)\n",
    "outputs = keras.layers.Dense(Y_train.shape[1])(x)\n",
    "\n",
    "model = keras.Model(inputs=inputs, outputs=outputs)\n",
    "model.compile(optimizer=keras.optimizers.Adam(learning_rate=learning_rate), loss=\"mse\")\n",
    "model.summary()"
   ]
  },
  {
   "cell_type": "code",
   "execution_count": 32,
   "id": "4d6def6b",
   "metadata": {
    "scrolled": true
   },
   "outputs": [
    {
     "name": "stdout",
     "output_type": "stream",
     "text": [
      "Epoch 1/500\n",
      "46/54 [========================>.....] - ETA: 0s - loss: 0.9320 \n",
      "Epoch 1: val_loss improved from inf to 1.56779, saving model to problem3_checkpoint.h5\n",
      "54/54 [==============================] - 0s 4ms/step - loss: 0.8849 - val_loss: 1.5678\n",
      "Epoch 2/500\n",
      "39/54 [====================>.........] - ETA: 0s - loss: 0.8358\n",
      "Epoch 2: val_loss improved from 1.56779 to 1.40016, saving model to problem3_checkpoint.h5\n",
      "54/54 [==============================] - 0s 2ms/step - loss: 0.8261 - val_loss: 1.4002\n",
      "Epoch 3/500\n",
      "36/54 [===================>..........] - ETA: 0s - loss: 0.5933\n",
      "Epoch 3: val_loss improved from 1.40016 to 1.30965, saving model to problem3_checkpoint.h5\n",
      "54/54 [==============================] - 0s 2ms/step - loss: 0.7864 - val_loss: 1.3097\n",
      "Epoch 4/500\n",
      "44/54 [=======================>......] - ETA: 0s - loss: 0.8220\n",
      "Epoch 4: val_loss improved from 1.30965 to 1.27046, saving model to problem3_checkpoint.h5\n",
      "54/54 [==============================] - 0s 2ms/step - loss: 0.7640 - val_loss: 1.2705\n",
      "Epoch 5/500\n",
      "34/54 [=================>............] - ETA: 0s - loss: 0.8092\n",
      "Epoch 5: val_loss improved from 1.27046 to 1.22353, saving model to problem3_checkpoint.h5\n",
      "54/54 [==============================] - 0s 2ms/step - loss: 0.7413 - val_loss: 1.2235\n",
      "Epoch 6/500\n",
      "47/54 [=========================>....] - ETA: 0s - loss: 0.7001\n",
      "Epoch 6: val_loss improved from 1.22353 to 1.20687, saving model to problem3_checkpoint.h5\n",
      "54/54 [==============================] - 0s 2ms/step - loss: 0.7220 - val_loss: 1.2069\n",
      "Epoch 7/500\n",
      "50/54 [==========================>...] - ETA: 0s - loss: 0.6359\n",
      "Epoch 7: val_loss improved from 1.20687 to 1.16619, saving model to problem3_checkpoint.h5\n",
      "54/54 [==============================] - 0s 2ms/step - loss: 0.6980 - val_loss: 1.1662\n",
      "Epoch 8/500\n",
      "51/54 [===========================>..] - ETA: 0s - loss: 0.6969\n",
      "Epoch 8: val_loss improved from 1.16619 to 1.16449, saving model to problem3_checkpoint.h5\n",
      "54/54 [==============================] - 0s 2ms/step - loss: 0.6780 - val_loss: 1.1645\n",
      "Epoch 9/500\n",
      "54/54 [==============================] - ETA: 0s - loss: 0.6579\n",
      "Epoch 9: val_loss improved from 1.16449 to 1.15586, saving model to problem3_checkpoint.h5\n",
      "54/54 [==============================] - 0s 2ms/step - loss: 0.6579 - val_loss: 1.1559\n",
      "Epoch 10/500\n",
      "50/54 [==========================>...] - ETA: 0s - loss: 0.6248\n",
      "Epoch 10: val_loss improved from 1.15586 to 1.12096, saving model to problem3_checkpoint.h5\n",
      "54/54 [==============================] - 0s 2ms/step - loss: 0.6371 - val_loss: 1.1210\n",
      "Epoch 11/500\n",
      "52/54 [===========================>..] - ETA: 0s - loss: 0.6270\n",
      "Epoch 11: val_loss did not improve from 1.12096\n",
      "54/54 [==============================] - 0s 1ms/step - loss: 0.6186 - val_loss: 1.1293\n",
      "Epoch 12/500\n",
      "54/54 [==============================] - ETA: 0s - loss: 0.5961\n",
      "Epoch 12: val_loss improved from 1.12096 to 1.11838, saving model to problem3_checkpoint.h5\n",
      "54/54 [==============================] - 0s 2ms/step - loss: 0.5961 - val_loss: 1.1184\n",
      "Epoch 13/500\n",
      "49/54 [==========================>...] - ETA: 0s - loss: 0.5949\n",
      "Epoch 13: val_loss improved from 1.11838 to 1.09135, saving model to problem3_checkpoint.h5\n",
      "54/54 [==============================] - 0s 2ms/step - loss: 0.5773 - val_loss: 1.0914\n",
      "Epoch 14/500\n",
      "52/54 [===========================>..] - ETA: 0s - loss: 0.5709\n",
      "Epoch 14: val_loss improved from 1.09135 to 1.07575, saving model to problem3_checkpoint.h5\n",
      "54/54 [==============================] - 0s 2ms/step - loss: 0.5586 - val_loss: 1.0758\n",
      "Epoch 15/500\n",
      "50/54 [==========================>...] - ETA: 0s - loss: 0.5559\n",
      "Epoch 15: val_loss improved from 1.07575 to 1.05821, saving model to problem3_checkpoint.h5\n",
      "54/54 [==============================] - 0s 2ms/step - loss: 0.5387 - val_loss: 1.0582\n",
      "Epoch 16/500\n",
      "50/54 [==========================>...] - ETA: 0s - loss: 0.5225\n",
      "Epoch 16: val_loss improved from 1.05821 to 1.03808, saving model to problem3_checkpoint.h5\n",
      "54/54 [==============================] - 0s 2ms/step - loss: 0.5230 - val_loss: 1.0381\n",
      "Epoch 17/500\n",
      " 1/54 [..............................] - ETA: 0s - loss: 0.8172\n",
      "Epoch 17: val_loss improved from 1.03808 to 1.02978, saving model to problem3_checkpoint.h5\n",
      "54/54 [==============================] - 0s 2ms/step - loss: 0.5035 - val_loss: 1.0298\n",
      "Epoch 18/500\n",
      "49/54 [==========================>...] - ETA: 0s - loss: 0.5171\n",
      "Epoch 18: val_loss improved from 1.02978 to 1.00679, saving model to problem3_checkpoint.h5\n",
      "54/54 [==============================] - 0s 2ms/step - loss: 0.4903 - val_loss: 1.0068\n",
      "Epoch 19/500\n",
      "52/54 [===========================>..] - ETA: 0s - loss: 0.4896\n",
      "Epoch 19: val_loss did not improve from 1.00679\n",
      "54/54 [==============================] - 0s 1ms/step - loss: 0.4773 - val_loss: 1.0084\n",
      "Epoch 20/500\n",
      "50/54 [==========================>...] - ETA: 0s - loss: 0.4599\n",
      "Epoch 20: val_loss improved from 1.00679 to 0.97626, saving model to problem3_checkpoint.h5\n",
      "54/54 [==============================] - 0s 2ms/step - loss: 0.4598 - val_loss: 0.9763\n",
      "Epoch 21/500\n",
      "49/54 [==========================>...] - ETA: 0s - loss: 0.4124\n",
      "Epoch 21: val_loss improved from 0.97626 to 0.95268, saving model to problem3_checkpoint.h5\n",
      "54/54 [==============================] - 0s 2ms/step - loss: 0.4452 - val_loss: 0.9527\n",
      "Epoch 22/500\n",
      "51/54 [===========================>..] - ETA: 0s - loss: 0.4432\n",
      "Epoch 22: val_loss improved from 0.95268 to 0.93788, saving model to problem3_checkpoint.h5\n",
      "54/54 [==============================] - 0s 2ms/step - loss: 0.4322 - val_loss: 0.9379\n",
      "Epoch 23/500\n",
      "47/54 [=========================>....] - ETA: 0s - loss: 0.4330\n",
      "Epoch 23: val_loss improved from 0.93788 to 0.93474, saving model to problem3_checkpoint.h5\n",
      "54/54 [==============================] - 0s 2ms/step - loss: 0.4237 - val_loss: 0.9347\n",
      "Epoch 24/500\n",
      "49/54 [==========================>...] - ETA: 0s - loss: 0.4272\n",
      "Epoch 24: val_loss improved from 0.93474 to 0.91131, saving model to problem3_checkpoint.h5\n",
      "54/54 [==============================] - 0s 2ms/step - loss: 0.4167 - val_loss: 0.9113\n",
      "Epoch 25/500\n",
      "51/54 [===========================>..] - ETA: 0s - loss: 0.3927\n",
      "Epoch 25: val_loss improved from 0.91131 to 0.89213, saving model to problem3_checkpoint.h5\n",
      "54/54 [==============================] - 0s 2ms/step - loss: 0.4053 - val_loss: 0.8921\n",
      "Epoch 26/500\n",
      "47/54 [=========================>....] - ETA: 0s - loss: 0.3879\n",
      "Epoch 26: val_loss improved from 0.89213 to 0.88062, saving model to problem3_checkpoint.h5\n",
      "54/54 [==============================] - 0s 2ms/step - loss: 0.3892 - val_loss: 0.8806\n",
      "Epoch 27/500\n",
      "51/54 [===========================>..] - ETA: 0s - loss: 0.3828\n",
      "Epoch 27: val_loss improved from 0.88062 to 0.86103, saving model to problem3_checkpoint.h5\n",
      "54/54 [==============================] - 0s 2ms/step - loss: 0.3787 - val_loss: 0.8610\n",
      "Epoch 28/500\n",
      "24/54 [============>.................] - ETA: 0s - loss: 0.4135\n",
      "Epoch 28: val_loss improved from 0.86103 to 0.84696, saving model to problem3_checkpoint.h5\n",
      "54/54 [==============================] - 0s 2ms/step - loss: 0.3694 - val_loss: 0.8470\n",
      "Epoch 29/500\n",
      "54/54 [==============================] - ETA: 0s - loss: 0.3596\n",
      "Epoch 29: val_loss improved from 0.84696 to 0.82693, saving model to problem3_checkpoint.h5\n",
      "54/54 [==============================] - 0s 2ms/step - loss: 0.3596 - val_loss: 0.8269\n",
      "Epoch 30/500\n",
      "54/54 [==============================] - ETA: 0s - loss: 0.3495\n",
      "Epoch 30: val_loss improved from 0.82693 to 0.81927, saving model to problem3_checkpoint.h5\n",
      "54/54 [==============================] - 0s 2ms/step - loss: 0.3495 - val_loss: 0.8193\n",
      "Epoch 31/500\n",
      "48/54 [=========================>....] - ETA: 0s - loss: 0.3472\n",
      "Epoch 31: val_loss improved from 0.81927 to 0.80429, saving model to problem3_checkpoint.h5\n",
      "54/54 [==============================] - 0s 2ms/step - loss: 0.3427 - val_loss: 0.8043\n",
      "Epoch 32/500\n",
      "52/54 [===========================>..] - ETA: 0s - loss: 0.3247\n",
      "Epoch 32: val_loss improved from 0.80429 to 0.78812, saving model to problem3_checkpoint.h5\n",
      "54/54 [==============================] - 0s 2ms/step - loss: 0.3321 - val_loss: 0.7881\n",
      "Epoch 33/500\n",
      "46/54 [========================>.....] - ETA: 0s - loss: 0.3451\n",
      "Epoch 33: val_loss improved from 0.78812 to 0.77910, saving model to problem3_checkpoint.h5\n"
     ]
    },
    {
     "name": "stdout",
     "output_type": "stream",
     "text": [
      "54/54 [==============================] - 0s 2ms/step - loss: 0.3275 - val_loss: 0.7791\n",
      "Epoch 34/500\n",
      "52/54 [===========================>..] - ETA: 0s - loss: 0.3218\n",
      "Epoch 34: val_loss improved from 0.77910 to 0.75799, saving model to problem3_checkpoint.h5\n",
      "54/54 [==============================] - 0s 2ms/step - loss: 0.3199 - val_loss: 0.7580\n",
      "Epoch 35/500\n",
      "51/54 [===========================>..] - ETA: 0s - loss: 0.3225\n",
      "Epoch 35: val_loss improved from 0.75799 to 0.74852, saving model to problem3_checkpoint.h5\n",
      "54/54 [==============================] - 0s 2ms/step - loss: 0.3122 - val_loss: 0.7485\n",
      "Epoch 36/500\n",
      "51/54 [===========================>..] - ETA: 0s - loss: 0.2872\n",
      "Epoch 36: val_loss improved from 0.74852 to 0.72775, saving model to problem3_checkpoint.h5\n",
      "54/54 [==============================] - 0s 2ms/step - loss: 0.3002 - val_loss: 0.7277\n",
      "Epoch 37/500\n",
      "52/54 [===========================>..] - ETA: 0s - loss: 0.2918\n",
      "Epoch 37: val_loss improved from 0.72775 to 0.71506, saving model to problem3_checkpoint.h5\n",
      "54/54 [==============================] - 0s 2ms/step - loss: 0.2930 - val_loss: 0.7151\n",
      "Epoch 38/500\n",
      "47/54 [=========================>....] - ETA: 0s - loss: 0.3082\n",
      "Epoch 38: val_loss improved from 0.71506 to 0.70243, saving model to problem3_checkpoint.h5\n",
      "54/54 [==============================] - 0s 2ms/step - loss: 0.2880 - val_loss: 0.7024\n",
      "Epoch 39/500\n",
      "52/54 [===========================>..] - ETA: 0s - loss: 0.2879\n",
      "Epoch 39: val_loss improved from 0.70243 to 0.69517, saving model to problem3_checkpoint.h5\n",
      "54/54 [==============================] - 0s 2ms/step - loss: 0.2795 - val_loss: 0.6952\n",
      "Epoch 40/500\n",
      "47/54 [=========================>....] - ETA: 0s - loss: 0.2715\n",
      "Epoch 40: val_loss improved from 0.69517 to 0.69165, saving model to problem3_checkpoint.h5\n",
      "54/54 [==============================] - 0s 2ms/step - loss: 0.2774 - val_loss: 0.6917\n",
      "Epoch 41/500\n",
      "51/54 [===========================>..] - ETA: 0s - loss: 0.2722\n",
      "Epoch 41: val_loss improved from 0.69165 to 0.67252, saving model to problem3_checkpoint.h5\n",
      "54/54 [==============================] - 0s 2ms/step - loss: 0.2694 - val_loss: 0.6725\n",
      "Epoch 42/500\n",
      " 1/54 [..............................] - ETA: 0s - loss: 0.0921\n",
      "Epoch 42: val_loss improved from 0.67252 to 0.66171, saving model to problem3_checkpoint.h5\n",
      "54/54 [==============================] - 0s 2ms/step - loss: 0.2629 - val_loss: 0.6617\n",
      "Epoch 43/500\n",
      "52/54 [===========================>..] - ETA: 0s - loss: 0.2518\n",
      "Epoch 43: val_loss improved from 0.66171 to 0.65072, saving model to problem3_checkpoint.h5\n",
      "54/54 [==============================] - 0s 2ms/step - loss: 0.2559 - val_loss: 0.6507\n",
      "Epoch 44/500\n",
      "50/54 [==========================>...] - ETA: 0s - loss: 0.2356\n",
      "Epoch 44: val_loss improved from 0.65072 to 0.63906, saving model to problem3_checkpoint.h5\n",
      "54/54 [==============================] - 0s 2ms/step - loss: 0.2497 - val_loss: 0.6391\n",
      "Epoch 45/500\n",
      "51/54 [===========================>..] - ETA: 0s - loss: 0.2574\n",
      "Epoch 45: val_loss improved from 0.63906 to 0.62099, saving model to problem3_checkpoint.h5\n",
      "54/54 [==============================] - 0s 2ms/step - loss: 0.2460 - val_loss: 0.6210\n",
      "Epoch 46/500\n",
      "53/54 [============================>.] - ETA: 0s - loss: 0.2400\n",
      "Epoch 46: val_loss improved from 0.62099 to 0.61350, saving model to problem3_checkpoint.h5\n",
      "54/54 [==============================] - 0s 2ms/step - loss: 0.2373 - val_loss: 0.6135\n",
      "Epoch 47/500\n",
      "53/54 [============================>.] - ETA: 0s - loss: 0.2253\n",
      "Epoch 47: val_loss improved from 0.61350 to 0.60529, saving model to problem3_checkpoint.h5\n",
      "54/54 [==============================] - 0s 2ms/step - loss: 0.2339 - val_loss: 0.6053\n",
      "Epoch 48/500\n",
      "48/54 [=========================>....] - ETA: 0s - loss: 0.2351\n",
      "Epoch 48: val_loss improved from 0.60529 to 0.58761, saving model to problem3_checkpoint.h5\n",
      "54/54 [==============================] - 0s 2ms/step - loss: 0.2277 - val_loss: 0.5876\n",
      "Epoch 49/500\n",
      "50/54 [==========================>...] - ETA: 0s - loss: 0.2072\n",
      "Epoch 49: val_loss improved from 0.58761 to 0.57340, saving model to problem3_checkpoint.h5\n",
      "54/54 [==============================] - 0s 2ms/step - loss: 0.2213 - val_loss: 0.5734\n",
      "Epoch 50/500\n",
      " 1/54 [..............................] - ETA: 0s - loss: 0.1179\n",
      "Epoch 50: val_loss improved from 0.57340 to 0.56766, saving model to problem3_checkpoint.h5\n",
      "54/54 [==============================] - 0s 2ms/step - loss: 0.2171 - val_loss: 0.5677\n",
      "Epoch 51/500\n",
      "53/54 [============================>.] - ETA: 0s - loss: 0.1968\n",
      "Epoch 51: val_loss improved from 0.56766 to 0.56023, saving model to problem3_checkpoint.h5\n",
      "54/54 [==============================] - 0s 2ms/step - loss: 0.2115 - val_loss: 0.5602\n",
      "Epoch 52/500\n",
      "50/54 [==========================>...] - ETA: 0s - loss: 0.1962\n",
      "Epoch 52: val_loss improved from 0.56023 to 0.55719, saving model to problem3_checkpoint.h5\n",
      "54/54 [==============================] - 0s 2ms/step - loss: 0.2053 - val_loss: 0.5572\n",
      "Epoch 53/500\n",
      "51/54 [===========================>..] - ETA: 0s - loss: 0.2059\n",
      "Epoch 53: val_loss improved from 0.55719 to 0.54005, saving model to problem3_checkpoint.h5\n",
      "54/54 [==============================] - 0s 2ms/step - loss: 0.2050 - val_loss: 0.5400\n",
      "Epoch 54/500\n",
      "48/54 [=========================>....] - ETA: 0s - loss: 0.1656\n",
      "Epoch 54: val_loss did not improve from 0.54005\n",
      "54/54 [==============================] - 0s 1ms/step - loss: 0.2000 - val_loss: 0.5531\n",
      "Epoch 55/500\n",
      "51/54 [===========================>..] - ETA: 0s - loss: 0.1846\n",
      "Epoch 55: val_loss improved from 0.54005 to 0.52460, saving model to problem3_checkpoint.h5\n",
      "54/54 [==============================] - 0s 2ms/step - loss: 0.1942 - val_loss: 0.5246\n",
      "Epoch 56/500\n",
      "50/54 [==========================>...] - ETA: 0s - loss: 0.1822\n",
      "Epoch 56: val_loss improved from 0.52460 to 0.51334, saving model to problem3_checkpoint.h5\n",
      "54/54 [==============================] - 0s 2ms/step - loss: 0.1897 - val_loss: 0.5133\n",
      "Epoch 57/500\n",
      "50/54 [==========================>...] - ETA: 0s - loss: 0.1886\n",
      "Epoch 57: val_loss improved from 0.51334 to 0.50704, saving model to problem3_checkpoint.h5\n",
      "54/54 [==============================] - 0s 2ms/step - loss: 0.1855 - val_loss: 0.5070\n",
      "Epoch 58/500\n",
      "48/54 [=========================>....] - ETA: 0s - loss: 0.1672\n",
      "Epoch 58: val_loss improved from 0.50704 to 0.50482, saving model to problem3_checkpoint.h5\n",
      "54/54 [==============================] - 0s 2ms/step - loss: 0.1818 - val_loss: 0.5048\n",
      "Epoch 59/500\n",
      "54/54 [==============================] - ETA: 0s - loss: 0.1791\n",
      "Epoch 59: val_loss improved from 0.50482 to 0.49148, saving model to problem3_checkpoint.h5\n",
      "54/54 [==============================] - 0s 2ms/step - loss: 0.1791 - val_loss: 0.4915\n",
      "Epoch 60/500\n",
      "48/54 [=========================>....] - ETA: 0s - loss: 0.1708\n",
      "Epoch 60: val_loss improved from 0.49148 to 0.49124, saving model to problem3_checkpoint.h5\n",
      "54/54 [==============================] - 0s 2ms/step - loss: 0.1727 - val_loss: 0.4912\n",
      "Epoch 61/500\n",
      "52/54 [===========================>..] - ETA: 0s - loss: 0.1727\n",
      "Epoch 61: val_loss improved from 0.49124 to 0.46722, saving model to problem3_checkpoint.h5\n",
      "54/54 [==============================] - 0s 2ms/step - loss: 0.1685 - val_loss: 0.4672\n",
      "Epoch 62/500\n",
      "47/54 [=========================>....] - ETA: 0s - loss: 0.1720\n",
      "Epoch 62: val_loss did not improve from 0.46722\n",
      "54/54 [==============================] - 0s 2ms/step - loss: 0.1662 - val_loss: 0.4699\n",
      "Epoch 63/500\n",
      "53/54 [============================>.] - ETA: 0s - loss: 0.1639\n",
      "Epoch 63: val_loss improved from 0.46722 to 0.45376, saving model to problem3_checkpoint.h5\n",
      "54/54 [==============================] - 0s 2ms/step - loss: 0.1630 - val_loss: 0.4538\n",
      "Epoch 64/500\n",
      "50/54 [==========================>...] - ETA: 0s - loss: 0.1635\n",
      "Epoch 64: val_loss did not improve from 0.45376\n",
      "54/54 [==============================] - 0s 2ms/step - loss: 0.1592 - val_loss: 0.4539\n",
      "Epoch 65/500\n",
      "53/54 [============================>.] - ETA: 0s - loss: 0.1581\n",
      "Epoch 65: val_loss improved from 0.45376 to 0.44756, saving model to problem3_checkpoint.h5\n",
      "54/54 [==============================] - 0s 2ms/step - loss: 0.1558 - val_loss: 0.4476\n",
      "Epoch 66/500\n"
     ]
    },
    {
     "name": "stdout",
     "output_type": "stream",
     "text": [
      "47/54 [=========================>....] - ETA: 0s - loss: 0.1508\n",
      "Epoch 66: val_loss improved from 0.44756 to 0.44156, saving model to problem3_checkpoint.h5\n",
      "54/54 [==============================] - 0s 2ms/step - loss: 0.1509 - val_loss: 0.4416\n",
      "Epoch 67/500\n",
      " 1/54 [..............................] - ETA: 0s - loss: 0.1483\n",
      "Epoch 67: val_loss improved from 0.44156 to 0.42069, saving model to problem3_checkpoint.h5\n",
      "54/54 [==============================] - 0s 2ms/step - loss: 0.1489 - val_loss: 0.4207\n",
      "Epoch 68/500\n",
      "47/54 [=========================>....] - ETA: 0s - loss: 0.1298\n",
      "Epoch 68: val_loss did not improve from 0.42069\n",
      "54/54 [==============================] - 0s 2ms/step - loss: 0.1460 - val_loss: 0.4361\n",
      "Epoch 69/500\n",
      " 1/54 [..............................] - ETA: 0s - loss: 0.2376\n",
      "Epoch 69: val_loss did not improve from 0.42069\n",
      "54/54 [==============================] - 0s 1ms/step - loss: 0.1446 - val_loss: 0.4220\n",
      "Epoch 70/500\n",
      "53/54 [============================>.] - ETA: 0s - loss: 0.1415\n",
      "Epoch 70: val_loss did not improve from 0.42069\n",
      "54/54 [==============================] - 0s 2ms/step - loss: 0.1398 - val_loss: 0.4279\n",
      "Epoch 71/500\n",
      "41/54 [=====================>........] - ETA: 0s - loss: 0.1334\n",
      "Epoch 71: val_loss improved from 0.42069 to 0.41402, saving model to problem3_checkpoint.h5\n",
      "54/54 [==============================] - 0s 2ms/step - loss: 0.1381 - val_loss: 0.4140\n",
      "Epoch 72/500\n",
      " 1/54 [..............................] - ETA: 0s - loss: 0.0379\n",
      "Epoch 72: val_loss improved from 0.41402 to 0.41082, saving model to problem3_checkpoint.h5\n",
      "54/54 [==============================] - 0s 2ms/step - loss: 0.1362 - val_loss: 0.4108\n",
      "Epoch 73/500\n",
      "50/54 [==========================>...] - ETA: 0s - loss: 0.1262\n",
      "Epoch 73: val_loss improved from 0.41082 to 0.39033, saving model to problem3_checkpoint.h5\n",
      "54/54 [==============================] - 0s 2ms/step - loss: 0.1331 - val_loss: 0.3903\n",
      "Epoch 74/500\n",
      "46/54 [========================>.....] - ETA: 0s - loss: 0.1369\n",
      "Epoch 74: val_loss improved from 0.39033 to 0.38161, saving model to problem3_checkpoint.h5\n",
      "54/54 [==============================] - 0s 2ms/step - loss: 0.1304 - val_loss: 0.3816\n",
      "Epoch 75/500\n",
      "49/54 [==========================>...] - ETA: 0s - loss: 0.1323\n",
      "Epoch 75: val_loss did not improve from 0.38161\n",
      "54/54 [==============================] - 0s 1ms/step - loss: 0.1275 - val_loss: 0.3856\n",
      "Epoch 76/500\n",
      "51/54 [===========================>..] - ETA: 0s - loss: 0.1223\n",
      "Epoch 76: val_loss improved from 0.38161 to 0.36180, saving model to problem3_checkpoint.h5\n",
      "54/54 [==============================] - 0s 2ms/step - loss: 0.1244 - val_loss: 0.3618\n",
      "Epoch 77/500\n",
      "53/54 [============================>.] - ETA: 0s - loss: 0.1240\n",
      "Epoch 77: val_loss did not improve from 0.36180\n",
      "54/54 [==============================] - 0s 1ms/step - loss: 0.1240 - val_loss: 0.3666\n",
      "Epoch 78/500\n",
      "52/54 [===========================>..] - ETA: 0s - loss: 0.1253\n",
      "Epoch 78: val_loss did not improve from 0.36180\n",
      "54/54 [==============================] - 0s 2ms/step - loss: 0.1214 - val_loss: 0.3771\n",
      "Epoch 79/500\n",
      "53/54 [============================>.] - ETA: 0s - loss: 0.1207\n",
      "Epoch 79: val_loss did not improve from 0.36180\n",
      "54/54 [==============================] - 0s 2ms/step - loss: 0.1187 - val_loss: 0.3674\n",
      "Epoch 80/500\n",
      "51/54 [===========================>..] - ETA: 0s - loss: 0.1133\n",
      "Epoch 80: val_loss improved from 0.36180 to 0.35580, saving model to problem3_checkpoint.h5\n",
      "54/54 [==============================] - 0s 2ms/step - loss: 0.1180 - val_loss: 0.3558\n",
      "Epoch 81/500\n",
      " 1/54 [..............................] - ETA: 0s - loss: 0.1447\n",
      "Epoch 81: val_loss improved from 0.35580 to 0.34534, saving model to problem3_checkpoint.h5\n",
      "54/54 [==============================] - 0s 2ms/step - loss: 0.1133 - val_loss: 0.3453\n",
      "Epoch 82/500\n",
      "51/54 [===========================>..] - ETA: 0s - loss: 0.1145\n",
      "Epoch 82: val_loss did not improve from 0.34534\n",
      "54/54 [==============================] - 0s 2ms/step - loss: 0.1120 - val_loss: 0.3567\n",
      "Epoch 83/500\n",
      "53/54 [============================>.] - ETA: 0s - loss: 0.1097\n",
      "Epoch 83: val_loss improved from 0.34534 to 0.33737, saving model to problem3_checkpoint.h5\n",
      "54/54 [==============================] - 0s 2ms/step - loss: 0.1103 - val_loss: 0.3374\n",
      "Epoch 84/500\n",
      "51/54 [===========================>..] - ETA: 0s - loss: 0.1029\n",
      "Epoch 84: val_loss improved from 0.33737 to 0.32822, saving model to problem3_checkpoint.h5\n",
      "54/54 [==============================] - 0s 2ms/step - loss: 0.1089 - val_loss: 0.3282\n",
      "Epoch 85/500\n",
      "50/54 [==========================>...] - ETA: 0s - loss: 0.1116\n",
      "Epoch 85: val_loss did not improve from 0.32822\n",
      "54/54 [==============================] - 0s 2ms/step - loss: 0.1087 - val_loss: 0.3431\n",
      "Epoch 86/500\n",
      "52/54 [===========================>..] - ETA: 0s - loss: 0.1086\n",
      "Epoch 86: val_loss improved from 0.32822 to 0.32097, saving model to problem3_checkpoint.h5\n",
      "54/54 [==============================] - 0s 2ms/step - loss: 0.1061 - val_loss: 0.3210\n",
      "Epoch 87/500\n",
      "44/54 [=======================>......] - ETA: 0s - loss: 0.0943\n",
      "Epoch 87: val_loss did not improve from 0.32097\n",
      "54/54 [==============================] - 0s 2ms/step - loss: 0.1046 - val_loss: 0.3355\n",
      "Epoch 88/500\n",
      "51/54 [===========================>..] - ETA: 0s - loss: 0.1092\n",
      "Epoch 88: val_loss did not improve from 0.32097\n",
      "54/54 [==============================] - 0s 1ms/step - loss: 0.1046 - val_loss: 0.3255\n",
      "Epoch 89/500\n",
      "54/54 [==============================] - ETA: 0s - loss: 0.1005\n",
      "Epoch 89: val_loss improved from 0.32097 to 0.31242, saving model to problem3_checkpoint.h5\n",
      "54/54 [==============================] - 0s 2ms/step - loss: 0.1005 - val_loss: 0.3124\n",
      "Epoch 90/500\n",
      "48/54 [=========================>....] - ETA: 0s - loss: 0.1074\n",
      "Epoch 90: val_loss did not improve from 0.31242\n",
      "54/54 [==============================] - 0s 2ms/step - loss: 0.1019 - val_loss: 0.3248\n",
      "Epoch 91/500\n",
      "54/54 [==============================] - ETA: 0s - loss: 0.0980\n",
      "Epoch 91: val_loss improved from 0.31242 to 0.31063, saving model to problem3_checkpoint.h5\n",
      "54/54 [==============================] - 0s 2ms/step - loss: 0.0980 - val_loss: 0.3106\n",
      "Epoch 92/500\n",
      "50/54 [==========================>...] - ETA: 0s - loss: 0.1031\n",
      "Epoch 92: val_loss did not improve from 0.31063\n",
      "54/54 [==============================] - 0s 2ms/step - loss: 0.0988 - val_loss: 0.3209\n",
      "Epoch 93/500\n",
      "47/54 [=========================>....] - ETA: 0s - loss: 0.1033\n",
      "Epoch 93: val_loss did not improve from 0.31063\n",
      "54/54 [==============================] - 0s 2ms/step - loss: 0.0987 - val_loss: 0.3121\n",
      "Epoch 94/500\n",
      "48/54 [=========================>....] - ETA: 0s - loss: 0.0908\n",
      "Epoch 94: val_loss improved from 0.31063 to 0.29953, saving model to problem3_checkpoint.h5\n",
      "54/54 [==============================] - 0s 2ms/step - loss: 0.0956 - val_loss: 0.2995\n",
      "Epoch 95/500\n",
      "50/54 [==========================>...] - ETA: 0s - loss: 0.0973\n",
      "Epoch 95: val_loss improved from 0.29953 to 0.29279, saving model to problem3_checkpoint.h5\n",
      "54/54 [==============================] - 0s 2ms/step - loss: 0.0955 - val_loss: 0.2928\n",
      "Epoch 96/500\n",
      "43/54 [======================>.......] - ETA: 0s - loss: 0.0844\n",
      "Epoch 96: val_loss improved from 0.29279 to 0.28620, saving model to problem3_checkpoint.h5\n",
      "54/54 [==============================] - 0s 2ms/step - loss: 0.0925 - val_loss: 0.2862\n",
      "Epoch 97/500\n",
      "51/54 [===========================>..] - ETA: 0s - loss: 0.0962\n",
      "Epoch 97: val_loss did not improve from 0.28620\n",
      "54/54 [==============================] - 0s 1ms/step - loss: 0.0923 - val_loss: 0.2862\n",
      "Epoch 98/500\n",
      "38/54 [====================>.........] - ETA: 0s - loss: 0.0966\n",
      "Epoch 98: val_loss did not improve from 0.28620\n",
      "54/54 [==============================] - 0s 2ms/step - loss: 0.0916 - val_loss: 0.3023\n",
      "Epoch 99/500\n",
      "45/54 [========================>.....] - ETA: 0s - loss: 0.0922\n",
      "Epoch 99: val_loss improved from 0.28620 to 0.28135, saving model to problem3_checkpoint.h5\n",
      "54/54 [==============================] - 0s 2ms/step - loss: 0.0903 - val_loss: 0.2813\n",
      "Epoch 100/500\n",
      "51/54 [===========================>..] - ETA: 0s - loss: 0.0844\n",
      "Epoch 100: val_loss improved from 0.28135 to 0.27570, saving model to problem3_checkpoint.h5\n",
      "54/54 [==============================] - 0s 2ms/step - loss: 0.0894 - val_loss: 0.2757\n"
     ]
    },
    {
     "name": "stdout",
     "output_type": "stream",
     "text": [
      "Epoch 101/500\n",
      "47/54 [=========================>....] - ETA: 0s - loss: 0.0952\n",
      "Epoch 101: val_loss did not improve from 0.27570\n",
      "54/54 [==============================] - 0s 2ms/step - loss: 0.0894 - val_loss: 0.2789\n",
      "Epoch 102/500\n",
      "50/54 [==========================>...] - ETA: 0s - loss: 0.0876\n",
      "Epoch 102: val_loss did not improve from 0.27570\n",
      "54/54 [==============================] - 0s 2ms/step - loss: 0.0894 - val_loss: 0.2786\n",
      "Epoch 103/500\n",
      "48/54 [=========================>....] - ETA: 0s - loss: 0.0932\n",
      "Epoch 103: val_loss improved from 0.27570 to 0.27068, saving model to problem3_checkpoint.h5\n",
      "54/54 [==============================] - 0s 2ms/step - loss: 0.0854 - val_loss: 0.2707\n",
      "Epoch 104/500\n",
      "52/54 [===========================>..] - ETA: 0s - loss: 0.0844\n",
      "Epoch 104: val_loss did not improve from 0.27068\n",
      "54/54 [==============================] - 0s 1ms/step - loss: 0.0855 - val_loss: 0.2754\n",
      "Epoch 105/500\n",
      "30/54 [===============>..............] - ETA: 0s - loss: 0.0744\n",
      "Epoch 105: val_loss improved from 0.27068 to 0.25565, saving model to problem3_checkpoint.h5\n",
      "54/54 [==============================] - 0s 3ms/step - loss: 0.0855 - val_loss: 0.2557\n",
      "Epoch 106/500\n",
      "48/54 [=========================>....] - ETA: 0s - loss: 0.0832\n",
      "Epoch 106: val_loss did not improve from 0.25565\n",
      "54/54 [==============================] - 0s 3ms/step - loss: 0.0834 - val_loss: 0.2589\n",
      "Epoch 107/500\n",
      "52/54 [===========================>..] - ETA: 0s - loss: 0.0813\n",
      "Epoch 107: val_loss did not improve from 0.25565\n",
      "54/54 [==============================] - 0s 1ms/step - loss: 0.0840 - val_loss: 0.2632\n",
      "Epoch 108/500\n",
      "31/54 [================>.............] - ETA: 0s - loss: 0.1003    \n",
      "Epoch 108: val_loss did not improve from 0.25565\n",
      "54/54 [==============================] - 0s 2ms/step - loss: 0.0855 - val_loss: 0.2756\n",
      "Epoch 109/500\n",
      "33/54 [=================>............] - ETA: 0s - loss: 0.0808\n",
      "Epoch 109: val_loss did not improve from 0.25565\n",
      "54/54 [==============================] - 0s 2ms/step - loss: 0.0831 - val_loss: 0.2593\n",
      "Epoch 110/500\n",
      "42/54 [======================>.......] - ETA: 0s - loss: 0.0542\n",
      "Epoch 110: val_loss improved from 0.25565 to 0.25296, saving model to problem3_checkpoint.h5\n",
      "54/54 [==============================] - 0s 2ms/step - loss: 0.0807 - val_loss: 0.2530\n",
      "Epoch 111/500\n",
      "53/54 [============================>.] - ETA: 0s - loss: 0.0828\n",
      "Epoch 111: val_loss did not improve from 0.25296\n",
      "54/54 [==============================] - 0s 1ms/step - loss: 0.0841 - val_loss: 0.2554\n",
      "Epoch 112/500\n",
      " 1/54 [..............................] - ETA: 0s - loss: 0.2654\n",
      "Epoch 112: val_loss did not improve from 0.25296\n",
      "54/54 [==============================] - 0s 1ms/step - loss: 0.0787 - val_loss: 0.2680\n",
      "Epoch 113/500\n",
      "47/54 [=========================>....] - ETA: 0s - loss: 0.0798\n",
      "Epoch 113: val_loss did not improve from 0.25296\n",
      "54/54 [==============================] - 0s 2ms/step - loss: 0.0820 - val_loss: 0.2542\n",
      "Epoch 114/500\n",
      "48/54 [=========================>....] - ETA: 0s - loss: 0.0800    \n",
      "Epoch 114: val_loss did not improve from 0.25296\n",
      "54/54 [==============================] - 0s 2ms/step - loss: 0.0789 - val_loss: 0.2568\n",
      "Epoch 115/500\n",
      "31/54 [================>.............] - ETA: 0s - loss: 0.0649\n",
      "Epoch 115: val_loss improved from 0.25296 to 0.25014, saving model to problem3_checkpoint.h5\n",
      "54/54 [==============================] - 0s 3ms/step - loss: 0.0779 - val_loss: 0.2501\n",
      "Epoch 116/500\n",
      "32/54 [================>.............] - ETA: 0s - loss: 0.0746\n",
      "Epoch 116: val_loss did not improve from 0.25014\n",
      "54/54 [==============================] - 0s 2ms/step - loss: 0.0782 - val_loss: 0.2502\n",
      "Epoch 117/500\n",
      "51/54 [===========================>..] - ETA: 0s - loss: 0.0697\n",
      "Epoch 117: val_loss improved from 0.25014 to 0.24002, saving model to problem3_checkpoint.h5\n",
      "54/54 [==============================] - 0s 2ms/step - loss: 0.0761 - val_loss: 0.2400\n",
      "Epoch 118/500\n",
      "46/54 [========================>.....] - ETA: 0s - loss: 0.0717\n",
      "Epoch 118: val_loss improved from 0.24002 to 0.23943, saving model to problem3_checkpoint.h5\n",
      "54/54 [==============================] - 0s 2ms/step - loss: 0.0757 - val_loss: 0.2394\n",
      "Epoch 119/500\n",
      "49/54 [==========================>...] - ETA: 0s - loss: 0.0777\n",
      "Epoch 119: val_loss did not improve from 0.23943\n",
      "54/54 [==============================] - 0s 2ms/step - loss: 0.0781 - val_loss: 0.2530\n",
      "Epoch 120/500\n",
      "45/54 [========================>.....] - ETA: 0s - loss: 0.0606    \n",
      "Epoch 120: val_loss did not improve from 0.23943\n",
      "54/54 [==============================] - 0s 2ms/step - loss: 0.0752 - val_loss: 0.2470\n",
      "Epoch 121/500\n",
      "50/54 [==========================>...] - ETA: 0s - loss: 0.0790\n",
      "Epoch 121: val_loss improved from 0.23943 to 0.23513, saving model to problem3_checkpoint.h5\n",
      "54/54 [==============================] - 0s 2ms/step - loss: 0.0753 - val_loss: 0.2351\n",
      "Epoch 122/500\n",
      "45/54 [========================>.....] - ETA: 0s - loss: 0.0815\n",
      "Epoch 122: val_loss improved from 0.23513 to 0.23212, saving model to problem3_checkpoint.h5\n",
      "54/54 [==============================] - 0s 2ms/step - loss: 0.0755 - val_loss: 0.2321\n",
      "Epoch 123/500\n",
      "39/54 [====================>.........] - ETA: 0s - loss: 0.0771\n",
      "Epoch 123: val_loss improved from 0.23212 to 0.22726, saving model to problem3_checkpoint.h5\n",
      "54/54 [==============================] - 0s 2ms/step - loss: 0.0741 - val_loss: 0.2273\n",
      "Epoch 124/500\n",
      "47/54 [=========================>....] - ETA: 0s - loss: 0.0718\n",
      "Epoch 124: val_loss did not improve from 0.22726\n",
      "54/54 [==============================] - 0s 2ms/step - loss: 0.0714 - val_loss: 0.2305\n",
      "Epoch 125/500\n",
      "53/54 [============================>.] - ETA: 0s - loss: 0.0729\n",
      "Epoch 125: val_loss did not improve from 0.22726\n",
      "54/54 [==============================] - 0s 2ms/step - loss: 0.0716 - val_loss: 0.2340\n",
      "Epoch 126/500\n",
      "53/54 [============================>.] - ETA: 0s - loss: 0.0740   \n",
      "Epoch 126: val_loss did not improve from 0.22726\n",
      "54/54 [==============================] - 0s 3ms/step - loss: 0.0727 - val_loss: 0.2407\n",
      "Epoch 127/500\n",
      "49/54 [==========================>...] - ETA: 0s - loss: 0.0674   \n",
      "Epoch 127: val_loss improved from 0.22726 to 0.22653, saving model to problem3_checkpoint.h5\n",
      "54/54 [==============================] - 0s 3ms/step - loss: 0.0703 - val_loss: 0.2265\n",
      "Epoch 128/500\n",
      "21/54 [==========>...................] - ETA: 0s - loss: 0.0725\n",
      "Epoch 128: val_loss did not improve from 0.22653\n",
      "54/54 [==============================] - 0s 2ms/step - loss: 0.0700 - val_loss: 0.2277\n",
      "Epoch 129/500\n",
      "49/54 [==========================>...] - ETA: 0s - loss: 0.0753\n",
      "Epoch 129: val_loss improved from 0.22653 to 0.22069, saving model to problem3_checkpoint.h5\n",
      "54/54 [==============================] - 0s 2ms/step - loss: 0.0703 - val_loss: 0.2207\n",
      "Epoch 130/500\n",
      "54/54 [==============================] - ETA: 0s - loss: 0.0715\n",
      "Epoch 130: val_loss did not improve from 0.22069\n",
      "54/54 [==============================] - 0s 2ms/step - loss: 0.0715 - val_loss: 0.2234\n",
      "Epoch 131/500\n",
      "50/54 [==========================>...] - ETA: 0s - loss: 0.0720    \n",
      "Epoch 131: val_loss improved from 0.22069 to 0.21976, saving model to problem3_checkpoint.h5\n",
      "54/54 [==============================] - 0s 2ms/step - loss: 0.0710 - val_loss: 0.2198\n",
      "Epoch 132/500\n",
      "53/54 [============================>.] - ETA: 0s - loss: 0.0698    \n",
      "Epoch 132: val_loss improved from 0.21976 to 0.21106, saving model to problem3_checkpoint.h5\n",
      "54/54 [==============================] - 0s 2ms/step - loss: 0.0690 - val_loss: 0.2111\n",
      "Epoch 133/500\n",
      "46/54 [========================>.....] - ETA: 0s - loss: 0.0648    \n",
      "Epoch 133: val_loss did not improve from 0.21106\n",
      "54/54 [==============================] - 0s 2ms/step - loss: 0.0683 - val_loss: 0.2233\n",
      "Epoch 134/500\n",
      "51/54 [===========================>..] - ETA: 0s - loss: 0.0654\n",
      "Epoch 134: val_loss improved from 0.21106 to 0.20868, saving model to problem3_checkpoint.h5\n",
      "54/54 [==============================] - 0s 2ms/step - loss: 0.0673 - val_loss: 0.2087\n",
      "Epoch 135/500\n",
      "49/54 [==========================>...] - ETA: 0s - loss: 0.0676\n",
      "Epoch 135: val_loss did not improve from 0.20868\n",
      "54/54 [==============================] - 0s 2ms/step - loss: 0.0662 - val_loss: 0.2089\n",
      "Epoch 136/500\n"
     ]
    },
    {
     "name": "stdout",
     "output_type": "stream",
     "text": [
      "47/54 [=========================>....] - ETA: 0s - loss: 0.0698\n",
      "Epoch 136: val_loss did not improve from 0.20868\n",
      "54/54 [==============================] - 0s 2ms/step - loss: 0.0672 - val_loss: 0.2258\n",
      "Epoch 137/500\n",
      "46/54 [========================>.....] - ETA: 0s - loss: 0.0682\n",
      "Epoch 137: val_loss did not improve from 0.20868\n",
      "54/54 [==============================] - 0s 2ms/step - loss: 0.0647 - val_loss: 0.2286\n",
      "Epoch 138/500\n",
      "43/54 [======================>.......] - ETA: 0s - loss: 0.0548\n",
      "Epoch 138: val_loss improved from 0.20868 to 0.20851, saving model to problem3_checkpoint.h5\n",
      "54/54 [==============================] - 0s 2ms/step - loss: 0.0680 - val_loss: 0.2085\n",
      "Epoch 139/500\n",
      "32/54 [================>.............] - ETA: 0s - loss: 0.0700\n",
      "Epoch 139: val_loss did not improve from 0.20851\n",
      "54/54 [==============================] - 0s 2ms/step - loss: 0.0636 - val_loss: 0.2091\n",
      "Epoch 140/500\n",
      "45/54 [========================>.....] - ETA: 0s - loss: 0.0594    \n",
      "Epoch 140: val_loss did not improve from 0.20851\n",
      "54/54 [==============================] - 0s 2ms/step - loss: 0.0630 - val_loss: 0.2129\n",
      "Epoch 141/500\n",
      "24/54 [============>.................] - ETA: 0s - loss: 0.0540    \n",
      "Epoch 141: val_loss did not improve from 0.20851\n",
      "54/54 [==============================] - 0s 2ms/step - loss: 0.0644 - val_loss: 0.2128\n",
      "Epoch 142/500\n",
      "50/54 [==========================>...] - ETA: 0s - loss: 0.0657\n",
      "Epoch 142: val_loss did not improve from 0.20851\n",
      "54/54 [==============================] - 0s 2ms/step - loss: 0.0636 - val_loss: 0.2169\n",
      "Epoch 143/500\n",
      "53/54 [============================>.] - ETA: 0s - loss: 0.0612    \n",
      "Epoch 143: val_loss improved from 0.20851 to 0.20062, saving model to problem3_checkpoint.h5\n",
      "54/54 [==============================] - 0s 2ms/step - loss: 0.0638 - val_loss: 0.2006\n",
      "Epoch 144/500\n",
      "35/54 [==================>...........] - ETA: 0s - loss: 0.0645\n",
      "Epoch 144: val_loss improved from 0.20062 to 0.19591, saving model to problem3_checkpoint.h5\n",
      "54/54 [==============================] - 0s 2ms/step - loss: 0.0630 - val_loss: 0.1959\n",
      "Epoch 145/500\n",
      "49/54 [==========================>...] - ETA: 0s - loss: 0.0604\n",
      "Epoch 145: val_loss did not improve from 0.19591\n",
      "54/54 [==============================] - 0s 2ms/step - loss: 0.0640 - val_loss: 0.1993\n",
      "Epoch 146/500\n",
      "48/54 [=========================>....] - ETA: 0s - loss: 0.0649\n",
      "Epoch 146: val_loss did not improve from 0.19591\n",
      "54/54 [==============================] - 0s 2ms/step - loss: 0.0616 - val_loss: 0.2141\n",
      "Epoch 147/500\n",
      "42/54 [======================>.......] - ETA: 0s - loss: 0.0609\n",
      "Epoch 147: val_loss improved from 0.19591 to 0.19545, saving model to problem3_checkpoint.h5\n",
      "54/54 [==============================] - 0s 2ms/step - loss: 0.0626 - val_loss: 0.1955\n",
      "Epoch 148/500\n",
      "40/54 [=====================>........] - ETA: 0s - loss: 0.0700\n",
      "Epoch 148: val_loss did not improve from 0.19545\n",
      "54/54 [==============================] - 0s 2ms/step - loss: 0.0622 - val_loss: 0.1956\n",
      "Epoch 149/500\n",
      "50/54 [==========================>...] - ETA: 0s - loss: 0.0595\n",
      "Epoch 149: val_loss did not improve from 0.19545\n",
      "54/54 [==============================] - 0s 2ms/step - loss: 0.0618 - val_loss: 0.2049\n",
      "Epoch 150/500\n",
      "51/54 [===========================>..] - ETA: 0s - loss: 0.0549\n",
      "Epoch 150: val_loss improved from 0.19545 to 0.19529, saving model to problem3_checkpoint.h5\n",
      "54/54 [==============================] - 0s 2ms/step - loss: 0.0619 - val_loss: 0.1953\n",
      "Epoch 151/500\n",
      "35/54 [==================>...........] - ETA: 0s - loss: 0.0462\n",
      "Epoch 151: val_loss improved from 0.19529 to 0.19349, saving model to problem3_checkpoint.h5\n",
      "54/54 [==============================] - 0s 3ms/step - loss: 0.0618 - val_loss: 0.1935\n",
      "Epoch 152/500\n",
      "36/54 [===================>..........] - ETA: 0s - loss: 0.0665\n",
      "Epoch 152: val_loss did not improve from 0.19349\n",
      "54/54 [==============================] - 0s 2ms/step - loss: 0.0599 - val_loss: 0.1991\n",
      "Epoch 153/500\n",
      "32/54 [================>.............] - ETA: 0s - loss: 0.0415\n",
      "Epoch 153: val_loss did not improve from 0.19349\n",
      "54/54 [==============================] - 0s 2ms/step - loss: 0.0584 - val_loss: 0.1950\n",
      "Epoch 154/500\n",
      "53/54 [============================>.] - ETA: 0s - loss: 0.0555    \n",
      "Epoch 154: val_loss did not improve from 0.19349\n",
      "54/54 [==============================] - 0s 1ms/step - loss: 0.0598 - val_loss: 0.2006\n",
      "Epoch 155/500\n",
      "44/54 [=======================>......] - ETA: 0s - loss: 0.0611\n",
      "Epoch 155: val_loss improved from 0.19349 to 0.19321, saving model to problem3_checkpoint.h5\n",
      "54/54 [==============================] - 0s 2ms/step - loss: 0.0586 - val_loss: 0.1932\n",
      "Epoch 156/500\n",
      "48/54 [=========================>....] - ETA: 0s - loss: 0.0581\n",
      "Epoch 156: val_loss improved from 0.19321 to 0.18614, saving model to problem3_checkpoint.h5\n",
      "54/54 [==============================] - 0s 2ms/step - loss: 0.0597 - val_loss: 0.1861\n",
      "Epoch 157/500\n",
      "41/54 [=====================>........] - ETA: 0s - loss: 0.0604\n",
      "Epoch 157: val_loss did not improve from 0.18614\n",
      "54/54 [==============================] - 0s 2ms/step - loss: 0.0574 - val_loss: 0.1912\n",
      "Epoch 158/500\n",
      "36/54 [===================>..........] - ETA: 0s - loss: 0.0433    \n",
      "Epoch 158: val_loss did not improve from 0.18614\n",
      "54/54 [==============================] - 0s 2ms/step - loss: 0.0585 - val_loss: 0.1863\n",
      "Epoch 159/500\n",
      "44/54 [=======================>......] - ETA: 0s - loss: 0.0529\n",
      "Epoch 159: val_loss improved from 0.18614 to 0.18075, saving model to problem3_checkpoint.h5\n",
      "54/54 [==============================] - 0s 2ms/step - loss: 0.0576 - val_loss: 0.1807\n",
      "Epoch 160/500\n",
      "42/54 [======================>.......] - ETA: 0s - loss: 0.0558\n",
      "Epoch 160: val_loss did not improve from 0.18075\n",
      "54/54 [==============================] - 0s 2ms/step - loss: 0.0569 - val_loss: 0.1822\n",
      "Epoch 161/500\n",
      "46/54 [========================>.....] - ETA: 0s - loss: 0.0518\n",
      "Epoch 161: val_loss did not improve from 0.18075\n",
      "54/54 [==============================] - 0s 2ms/step - loss: 0.0574 - val_loss: 0.1843\n",
      "Epoch 162/500\n",
      "48/54 [=========================>....] - ETA: 0s - loss: 0.0554\n",
      "Epoch 162: val_loss did not improve from 0.18075\n",
      "54/54 [==============================] - 0s 2ms/step - loss: 0.0556 - val_loss: 0.1819\n",
      "Epoch 163/500\n",
      "47/54 [=========================>....] - ETA: 0s - loss: 0.0617    \n",
      "Epoch 163: val_loss did not improve from 0.18075\n",
      "54/54 [==============================] - 0s 2ms/step - loss: 0.0577 - val_loss: 0.1909\n",
      "Epoch 164/500\n",
      "38/54 [====================>.........] - ETA: 0s - loss: 0.0459\n",
      "Epoch 164: val_loss did not improve from 0.18075\n",
      "54/54 [==============================] - 0s 2ms/step - loss: 0.0559 - val_loss: 0.1896\n",
      "Epoch 165/500\n",
      "28/54 [==============>...............] - ETA: 0s - loss: 0.0553\n",
      "Epoch 165: val_loss improved from 0.18075 to 0.17599, saving model to problem3_checkpoint.h5\n",
      "54/54 [==============================] - 0s 3ms/step - loss: 0.0557 - val_loss: 0.1760\n",
      "Epoch 166/500\n",
      "39/54 [====================>.........] - ETA: 0s - loss: 0.0523\n",
      "Epoch 166: val_loss did not improve from 0.17599\n",
      "54/54 [==============================] - 0s 2ms/step - loss: 0.0532 - val_loss: 0.1843\n",
      "Epoch 167/500\n",
      "35/54 [==================>...........] - ETA: 0s - loss: 0.0586\n",
      "Epoch 167: val_loss did not improve from 0.17599\n",
      "54/54 [==============================] - 0s 2ms/step - loss: 0.0552 - val_loss: 0.1878\n",
      "Epoch 168/500\n",
      "29/54 [===============>..............] - ETA: 0s - loss: 0.0589\n",
      "Epoch 168: val_loss did not improve from 0.17599\n",
      "54/54 [==============================] - 0s 2ms/step - loss: 0.0568 - val_loss: 0.1834\n",
      "Epoch 169/500\n",
      " 1/54 [..............................] - ETA: 0s - loss: 0.2108\n",
      "Epoch 169: val_loss did not improve from 0.17599\n",
      "54/54 [==============================] - 0s 1ms/step - loss: 0.0539 - val_loss: 0.1932\n",
      "Epoch 170/500\n",
      "48/54 [=========================>....] - ETA: 0s - loss: 0.0562\n",
      "Epoch 170: val_loss did not improve from 0.17599\n",
      "54/54 [==============================] - 0s 2ms/step - loss: 0.0528 - val_loss: 0.1780\n",
      "Epoch 171/500\n",
      "44/54 [=======================>......] - ETA: 0s - loss: 0.0538\n",
      "Epoch 171: val_loss did not improve from 0.17599\n",
      "54/54 [==============================] - 0s 2ms/step - loss: 0.0522 - val_loss: 0.1796\n",
      "Epoch 172/500\n"
     ]
    },
    {
     "name": "stdout",
     "output_type": "stream",
     "text": [
      "44/54 [=======================>......] - ETA: 0s - loss: 0.0548\n",
      "Epoch 172: val_loss improved from 0.17599 to 0.17503, saving model to problem3_checkpoint.h5\n",
      "54/54 [==============================] - 0s 2ms/step - loss: 0.0533 - val_loss: 0.1750\n",
      "Epoch 173/500\n",
      "43/54 [======================>.......] - ETA: 0s - loss: 0.0535\n",
      "Epoch 173: val_loss did not improve from 0.17503\n",
      "54/54 [==============================] - 0s 2ms/step - loss: 0.0530 - val_loss: 0.1810\n",
      "Epoch 174/500\n",
      "50/54 [==========================>...] - ETA: 0s - loss: 0.0489\n",
      "Epoch 174: val_loss improved from 0.17503 to 0.16930, saving model to problem3_checkpoint.h5\n",
      "54/54 [==============================] - 0s 2ms/step - loss: 0.0521 - val_loss: 0.1693\n",
      "Epoch 175/500\n",
      "37/54 [===================>..........] - ETA: 0s - loss: 0.0656\n",
      "Epoch 175: val_loss did not improve from 0.16930\n",
      "54/54 [==============================] - 0s 2ms/step - loss: 0.0519 - val_loss: 0.1693\n",
      "Epoch 176/500\n",
      "37/54 [===================>..........] - ETA: 0s - loss: 0.0458\n",
      "Epoch 176: val_loss did not improve from 0.16930\n",
      "54/54 [==============================] - 0s 3ms/step - loss: 0.0507 - val_loss: 0.1737\n",
      "Epoch 177/500\n",
      "32/54 [================>.............] - ETA: 0s - loss: 0.0497\n",
      "Epoch 177: val_loss did not improve from 0.16930\n",
      "54/54 [==============================] - 0s 2ms/step - loss: 0.0509 - val_loss: 0.1729\n",
      "Epoch 178/500\n",
      "45/54 [========================>.....] - ETA: 0s - loss: 0.0461    \n",
      "Epoch 178: val_loss improved from 0.16930 to 0.16680, saving model to problem3_checkpoint.h5\n",
      "54/54 [==============================] - 0s 2ms/step - loss: 0.0510 - val_loss: 0.1668\n",
      "Epoch 179/500\n",
      "50/54 [==========================>...] - ETA: 0s - loss: 0.0526    \n",
      "Epoch 179: val_loss did not improve from 0.16680\n",
      "54/54 [==============================] - 0s 2ms/step - loss: 0.0505 - val_loss: 0.1745\n",
      "Epoch 180/500\n",
      "27/54 [==============>...............] - ETA: 0s - loss: 0.0460\n",
      "Epoch 180: val_loss did not improve from 0.16680\n",
      "54/54 [==============================] - 0s 2ms/step - loss: 0.0502 - val_loss: 0.1736\n",
      "Epoch 181/500\n",
      "50/54 [==========================>...] - ETA: 0s - loss: 0.0470\n",
      "Epoch 181: val_loss did not improve from 0.16680\n",
      "54/54 [==============================] - 0s 1ms/step - loss: 0.0503 - val_loss: 0.1745\n",
      "Epoch 182/500\n",
      "48/54 [=========================>....] - ETA: 0s - loss: 0.0539\n",
      "Epoch 182: val_loss did not improve from 0.16680\n",
      "54/54 [==============================] - 0s 2ms/step - loss: 0.0512 - val_loss: 0.1707\n",
      "Epoch 183/500\n",
      "47/54 [=========================>....] - ETA: 0s - loss: 0.0426\n",
      "Epoch 183: val_loss did not improve from 0.16680\n",
      "54/54 [==============================] - 0s 2ms/step - loss: 0.0484 - val_loss: 0.1671\n",
      "Epoch 184/500\n",
      " 1/54 [..............................] - ETA: 0s - loss: 0.0846\n",
      "Epoch 184: val_loss improved from 0.16680 to 0.16665, saving model to problem3_checkpoint.h5\n",
      "54/54 [==============================] - 0s 2ms/step - loss: 0.0488 - val_loss: 0.1666\n",
      "Epoch 185/500\n",
      "52/54 [===========================>..] - ETA: 0s - loss: 0.0473\n",
      "Epoch 185: val_loss did not improve from 0.16665\n",
      "54/54 [==============================] - 0s 1ms/step - loss: 0.0486 - val_loss: 0.1787\n",
      "Epoch 186/500\n",
      "44/54 [=======================>......] - ETA: 0s - loss: 0.0503\n",
      "Epoch 186: val_loss did not improve from 0.16665\n",
      "54/54 [==============================] - 0s 2ms/step - loss: 0.0490 - val_loss: 0.1676\n",
      "Epoch 187/500\n",
      "41/54 [=====================>........] - ETA: 0s - loss: 0.0372\n",
      "Epoch 187: val_loss improved from 0.16665 to 0.16119, saving model to problem3_checkpoint.h5\n",
      "54/54 [==============================] - 0s 3ms/step - loss: 0.0483 - val_loss: 0.1612\n",
      "Epoch 188/500\n",
      "29/54 [===============>..............] - ETA: 0s - loss: 0.0402\n",
      "Epoch 188: val_loss did not improve from 0.16119\n",
      "54/54 [==============================] - 0s 2ms/step - loss: 0.0474 - val_loss: 0.1708\n",
      "Epoch 189/500\n",
      "24/54 [============>.................] - ETA: 0s - loss: 0.0528\n",
      "Epoch 189: val_loss did not improve from 0.16119\n",
      "54/54 [==============================] - 0s 2ms/step - loss: 0.0483 - val_loss: 0.1615\n",
      "Epoch 190/500\n",
      "53/54 [============================>.] - ETA: 0s - loss: 0.0489\n",
      "Epoch 190: val_loss did not improve from 0.16119\n",
      "54/54 [==============================] - 0s 1ms/step - loss: 0.0480 - val_loss: 0.1650\n",
      "Epoch 191/500\n",
      "50/54 [==========================>...] - ETA: 0s - loss: 0.0498\n",
      "Epoch 191: val_loss did not improve from 0.16119\n",
      "54/54 [==============================] - 0s 1ms/step - loss: 0.0474 - val_loss: 0.1664\n",
      "Epoch 192/500\n",
      "36/54 [===================>..........] - ETA: 0s - loss: 0.0495    \n",
      "Epoch 192: val_loss did not improve from 0.16119\n",
      "54/54 [==============================] - 0s 2ms/step - loss: 0.0474 - val_loss: 0.1660\n",
      "Epoch 193/500\n",
      "35/54 [==================>...........] - ETA: 0s - loss: 0.0514\n",
      "Epoch 193: val_loss did not improve from 0.16119\n",
      "54/54 [==============================] - 0s 2ms/step - loss: 0.0472 - val_loss: 0.1720\n",
      "Epoch 194/500\n",
      "29/54 [===============>..............] - ETA: 0s - loss: 0.0474\n",
      "Epoch 194: val_loss did not improve from 0.16119\n",
      "54/54 [==============================] - 0s 2ms/step - loss: 0.0476 - val_loss: 0.1728\n",
      "Epoch 195/500\n",
      " 1/54 [..............................] - ETA: 0s - loss: 0.0415\n",
      "Epoch 195: val_loss did not improve from 0.16119\n",
      "54/54 [==============================] - 0s 1ms/step - loss: 0.0441 - val_loss: 0.1680\n",
      "Epoch 196/500\n",
      "49/54 [==========================>...] - ETA: 0s - loss: 0.0493\n",
      "Epoch 196: val_loss improved from 0.16119 to 0.15726, saving model to problem3_checkpoint.h5\n",
      "54/54 [==============================] - 0s 2ms/step - loss: 0.0458 - val_loss: 0.1573\n",
      "Epoch 197/500\n",
      "51/54 [===========================>..] - ETA: 0s - loss: 0.0414\n",
      "Epoch 197: val_loss did not improve from 0.15726\n",
      "54/54 [==============================] - 0s 2ms/step - loss: 0.0441 - val_loss: 0.1631\n",
      "Epoch 198/500\n",
      "44/54 [=======================>......] - ETA: 0s - loss: 0.0370\n",
      "Epoch 198: val_loss did not improve from 0.15726\n",
      "54/54 [==============================] - 0s 2ms/step - loss: 0.0438 - val_loss: 0.1588\n",
      "Epoch 199/500\n",
      "53/54 [============================>.] - ETA: 0s - loss: 0.0443\n",
      "Epoch 199: val_loss did not improve from 0.15726\n",
      "54/54 [==============================] - 0s 1ms/step - loss: 0.0436 - val_loss: 0.1612\n",
      "Epoch 200/500\n",
      "52/54 [===========================>..] - ETA: 0s - loss: 0.0476\n",
      "Epoch 200: val_loss did not improve from 0.15726\n",
      "54/54 [==============================] - 0s 1ms/step - loss: 0.0463 - val_loss: 0.1665\n",
      "Epoch 201/500\n",
      "53/54 [============================>.] - ETA: 0s - loss: 0.0457    \n",
      "Epoch 201: val_loss did not improve from 0.15726\n",
      "54/54 [==============================] - 0s 1ms/step - loss: 0.0448 - val_loss: 0.1573\n",
      "Epoch 202/500\n",
      "48/54 [=========================>....] - ETA: 0s - loss: 0.0464\n",
      "Epoch 202: val_loss improved from 0.15726 to 0.15673, saving model to problem3_checkpoint.h5\n",
      "54/54 [==============================] - 0s 2ms/step - loss: 0.0445 - val_loss: 0.1567\n",
      "Epoch 203/500\n",
      "49/54 [==========================>...] - ETA: 0s - loss: 0.0371    \n",
      "Epoch 203: val_loss improved from 0.15673 to 0.15343, saving model to problem3_checkpoint.h5\n",
      "54/54 [==============================] - 0s 2ms/step - loss: 0.0428 - val_loss: 0.1534\n",
      "Epoch 204/500\n",
      "49/54 [==========================>...] - ETA: 0s - loss: 0.0465\n",
      "Epoch 204: val_loss did not improve from 0.15343\n",
      "54/54 [==============================] - 0s 2ms/step - loss: 0.0432 - val_loss: 0.1580\n",
      "Epoch 205/500\n",
      " 1/54 [..............................] - ETA: 0s - loss: 7.3074e-05\n",
      "Epoch 205: val_loss improved from 0.15343 to 0.15312, saving model to problem3_checkpoint.h5\n",
      "54/54 [==============================] - 0s 2ms/step - loss: 0.0439 - val_loss: 0.1531\n",
      "Epoch 206/500\n",
      "49/54 [==========================>...] - ETA: 0s - loss: 0.0447\n",
      "Epoch 206: val_loss did not improve from 0.15312\n",
      "54/54 [==============================] - 0s 2ms/step - loss: 0.0419 - val_loss: 0.1533\n",
      "Epoch 207/500\n",
      "50/54 [==========================>...] - ETA: 0s - loss: 0.0379\n",
      "Epoch 207: val_loss did not improve from 0.15312\n",
      "54/54 [==============================] - 0s 2ms/step - loss: 0.0426 - val_loss: 0.1584\n",
      "Epoch 208/500\n",
      "44/54 [=======================>......] - ETA: 0s - loss: 0.0477\n",
      "Epoch 208: val_loss improved from 0.15312 to 0.15264, saving model to problem3_checkpoint.h5\n"
     ]
    },
    {
     "name": "stdout",
     "output_type": "stream",
     "text": [
      "54/54 [==============================] - 0s 2ms/step - loss: 0.0423 - val_loss: 0.1526\n",
      "Epoch 209/500\n",
      "44/54 [=======================>......] - ETA: 0s - loss: 0.0386\n",
      "Epoch 209: val_loss did not improve from 0.15264\n",
      "54/54 [==============================] - 0s 2ms/step - loss: 0.0427 - val_loss: 0.1616\n",
      "Epoch 210/500\n",
      "42/54 [======================>.......] - ETA: 0s - loss: 0.0505\n",
      "Epoch 210: val_loss did not improve from 0.15264\n",
      "54/54 [==============================] - 0s 2ms/step - loss: 0.0430 - val_loss: 0.1683\n",
      "Epoch 211/500\n",
      "39/54 [====================>.........] - ETA: 0s - loss: 0.0378\n",
      "Epoch 211: val_loss did not improve from 0.15264\n",
      "54/54 [==============================] - 0s 2ms/step - loss: 0.0424 - val_loss: 0.1557\n",
      "Epoch 212/500\n",
      "53/54 [============================>.] - ETA: 0s - loss: 0.0428\n",
      "Epoch 212: val_loss improved from 0.15264 to 0.14881, saving model to problem3_checkpoint.h5\n",
      "54/54 [==============================] - 0s 2ms/step - loss: 0.0420 - val_loss: 0.1488\n",
      "Epoch 213/500\n",
      "50/54 [==========================>...] - ETA: 0s - loss: 0.0407\n",
      "Epoch 213: val_loss did not improve from 0.14881\n",
      "54/54 [==============================] - 0s 2ms/step - loss: 0.0413 - val_loss: 0.1571\n",
      "Epoch 214/500\n",
      "51/54 [===========================>..] - ETA: 0s - loss: 0.0397    \n",
      "Epoch 214: val_loss did not improve from 0.14881\n",
      "54/54 [==============================] - 0s 2ms/step - loss: 0.0422 - val_loss: 0.1525\n",
      "Epoch 215/500\n",
      "54/54 [==============================] - ETA: 0s - loss: 0.0409\n",
      "Epoch 215: val_loss did not improve from 0.14881\n",
      "54/54 [==============================] - 0s 3ms/step - loss: 0.0409 - val_loss: 0.1505\n",
      "Epoch 216/500\n",
      "28/54 [==============>...............] - ETA: 0s - loss: 0.0457\n",
      "Epoch 216: val_loss did not improve from 0.14881\n",
      "54/54 [==============================] - 0s 2ms/step - loss: 0.0416 - val_loss: 0.1495\n",
      "Epoch 217/500\n",
      "42/54 [======================>.......] - ETA: 0s - loss: 0.0463\n",
      "Epoch 217: val_loss did not improve from 0.14881\n",
      "54/54 [==============================] - 0s 2ms/step - loss: 0.0409 - val_loss: 0.1510\n",
      "Epoch 218/500\n",
      "53/54 [============================>.] - ETA: 0s - loss: 0.0416\n",
      "Epoch 218: val_loss improved from 0.14881 to 0.14749, saving model to problem3_checkpoint.h5\n",
      "54/54 [==============================] - 0s 2ms/step - loss: 0.0414 - val_loss: 0.1475\n",
      "Epoch 219/500\n",
      "52/54 [===========================>..] - ETA: 0s - loss: 0.0396    \n",
      "Epoch 219: val_loss did not improve from 0.14749\n",
      "54/54 [==============================] - 0s 1ms/step - loss: 0.0402 - val_loss: 0.1590\n",
      "Epoch 220/500\n",
      "50/54 [==========================>...] - ETA: 0s - loss: 0.0431\n",
      "Epoch 220: val_loss did not improve from 0.14749\n",
      "54/54 [==============================] - 0s 2ms/step - loss: 0.0411 - val_loss: 0.1532\n",
      "Epoch 221/500\n",
      "44/54 [=======================>......] - ETA: 0s - loss: 0.0407\n",
      "Epoch 221: val_loss improved from 0.14749 to 0.14640, saving model to problem3_checkpoint.h5\n",
      "54/54 [==============================] - 0s 2ms/step - loss: 0.0387 - val_loss: 0.1464\n",
      "Epoch 222/500\n",
      "53/54 [============================>.] - ETA: 0s - loss: 0.0351\n",
      "Epoch 222: val_loss improved from 0.14640 to 0.14511, saving model to problem3_checkpoint.h5\n",
      "54/54 [==============================] - 0s 2ms/step - loss: 0.0392 - val_loss: 0.1451\n",
      "Epoch 223/500\n",
      "47/54 [=========================>....] - ETA: 0s - loss: 0.0396\n",
      "Epoch 223: val_loss improved from 0.14511 to 0.14511, saving model to problem3_checkpoint.h5\n",
      "54/54 [==============================] - 0s 3ms/step - loss: 0.0406 - val_loss: 0.1451\n",
      "Epoch 224/500\n",
      "51/54 [===========================>..] - ETA: 0s - loss: 0.0356   \n",
      "Epoch 224: val_loss did not improve from 0.14511\n",
      "54/54 [==============================] - 0s 3ms/step - loss: 0.0382 - val_loss: 0.1514\n",
      "Epoch 225/500\n",
      "28/54 [==============>...............] - ETA: 0s - loss: 0.0392\n",
      "Epoch 225: val_loss did not improve from 0.14511\n",
      "54/54 [==============================] - 0s 2ms/step - loss: 0.0416 - val_loss: 0.1499\n",
      "Epoch 226/500\n",
      "52/54 [===========================>..] - ETA: 0s - loss: 0.0386   \n",
      "Epoch 226: val_loss improved from 0.14511 to 0.14508, saving model to problem3_checkpoint.h5\n",
      "54/54 [==============================] - 0s 3ms/step - loss: 0.0379 - val_loss: 0.1451\n",
      "Epoch 227/500\n",
      "45/54 [========================>.....] - ETA: 0s - loss: 0.0364    \n",
      "Epoch 227: val_loss did not improve from 0.14508\n",
      "54/54 [==============================] - 0s 2ms/step - loss: 0.0390 - val_loss: 0.1466\n",
      "Epoch 228/500\n",
      "45/54 [========================>.....] - ETA: 0s - loss: 0.0378    \n",
      "Epoch 228: val_loss did not improve from 0.14508\n",
      "54/54 [==============================] - 0s 2ms/step - loss: 0.0373 - val_loss: 0.1512\n",
      "Epoch 229/500\n",
      "52/54 [===========================>..] - ETA: 0s - loss: 0.0339\n",
      "Epoch 229: val_loss did not improve from 0.14508\n",
      "54/54 [==============================] - 0s 1ms/step - loss: 0.0374 - val_loss: 0.1520\n",
      "Epoch 230/500\n",
      "46/54 [========================>.....] - ETA: 0s - loss: 0.0338\n",
      "Epoch 230: val_loss did not improve from 0.14508\n",
      "54/54 [==============================] - 0s 2ms/step - loss: 0.0374 - val_loss: 0.1466\n",
      "Epoch 231/500\n",
      "44/54 [=======================>......] - ETA: 0s - loss: 0.0351    \n",
      "Epoch 231: val_loss did not improve from 0.14508\n",
      "54/54 [==============================] - 0s 2ms/step - loss: 0.0384 - val_loss: 0.1461\n",
      "Epoch 232/500\n",
      "40/54 [=====================>........] - ETA: 0s - loss: 0.0341\n",
      "Epoch 232: val_loss did not improve from 0.14508\n",
      "54/54 [==============================] - 0s 2ms/step - loss: 0.0372 - val_loss: 0.1452\n",
      "Epoch 233/500\n",
      "38/54 [====================>.........] - ETA: 0s - loss: 0.0314\n",
      "Epoch 233: val_loss did not improve from 0.14508\n",
      "54/54 [==============================] - 0s 2ms/step - loss: 0.0361 - val_loss: 0.1497\n",
      "Epoch 234/500\n",
      "46/54 [========================>.....] - ETA: 0s - loss: 0.0398\n",
      "Epoch 234: val_loss improved from 0.14508 to 0.14289, saving model to problem3_checkpoint.h5\n",
      "54/54 [==============================] - 0s 2ms/step - loss: 0.0368 - val_loss: 0.1429\n",
      "Epoch 235/500\n",
      "42/54 [======================>.......] - ETA: 0s - loss: 0.0361\n",
      "Epoch 235: val_loss did not improve from 0.14289\n",
      "54/54 [==============================] - 0s 2ms/step - loss: 0.0387 - val_loss: 0.1436\n",
      "Epoch 236/500\n",
      "45/54 [========================>.....] - ETA: 0s - loss: 0.0392\n",
      "Epoch 236: val_loss improved from 0.14289 to 0.14026, saving model to problem3_checkpoint.h5\n",
      "54/54 [==============================] - 0s 2ms/step - loss: 0.0371 - val_loss: 0.1403\n",
      "Epoch 237/500\n",
      "44/54 [=======================>......] - ETA: 0s - loss: 0.0363\n",
      "Epoch 237: val_loss did not improve from 0.14026\n",
      "54/54 [==============================] - 0s 2ms/step - loss: 0.0362 - val_loss: 0.1492\n",
      "Epoch 238/500\n",
      "40/54 [=====================>........] - ETA: 0s - loss: 0.0447    \n",
      "Epoch 238: val_loss did not improve from 0.14026\n",
      "54/54 [==============================] - 0s 2ms/step - loss: 0.0393 - val_loss: 0.1434\n",
      "Epoch 239/500\n",
      "36/54 [===================>..........] - ETA: 0s - loss: 0.0382    \n",
      "Epoch 239: val_loss did not improve from 0.14026\n",
      "54/54 [==============================] - 0s 2ms/step - loss: 0.0358 - val_loss: 0.1416\n",
      "Epoch 240/500\n",
      "52/54 [===========================>..] - ETA: 0s - loss: 0.0370\n",
      "Epoch 240: val_loss did not improve from 0.14026\n",
      "54/54 [==============================] - 0s 1ms/step - loss: 0.0364 - val_loss: 0.1527\n",
      "Epoch 241/500\n",
      "42/54 [======================>.......] - ETA: 0s - loss: 0.0383\n",
      "Epoch 241: val_loss did not improve from 0.14026\n",
      "54/54 [==============================] - 0s 2ms/step - loss: 0.0362 - val_loss: 0.1556\n",
      "Epoch 242/500\n",
      "52/54 [===========================>..] - ETA: 0s - loss: 0.0300\n",
      "Epoch 242: val_loss did not improve from 0.14026\n",
      "54/54 [==============================] - 0s 1ms/step - loss: 0.0343 - val_loss: 0.1506\n",
      "Epoch 243/500\n",
      "50/54 [==========================>...] - ETA: 0s - loss: 0.0398\n",
      "Epoch 243: val_loss did not improve from 0.14026\n",
      "54/54 [==============================] - 0s 2ms/step - loss: 0.0386 - val_loss: 0.1436\n",
      "Epoch 244/500\n",
      "53/54 [============================>.] - ETA: 0s - loss: 0.0357\n",
      "Epoch 244: val_loss improved from 0.14026 to 0.13898, saving model to problem3_checkpoint.h5\n",
      "54/54 [==============================] - 0s 2ms/step - loss: 0.0359 - val_loss: 0.1390\n"
     ]
    },
    {
     "name": "stdout",
     "output_type": "stream",
     "text": [
      "Epoch 245/500\n",
      "51/54 [===========================>..] - ETA: 0s - loss: 0.0346\n",
      "Epoch 245: val_loss did not improve from 0.13898\n",
      "54/54 [==============================] - 0s 2ms/step - loss: 0.0337 - val_loss: 0.1398\n",
      "Epoch 246/500\n",
      "46/54 [========================>.....] - ETA: 0s - loss: 0.0326\n",
      "Epoch 246: val_loss did not improve from 0.13898\n",
      "54/54 [==============================] - 0s 2ms/step - loss: 0.0351 - val_loss: 0.1429\n",
      "Epoch 247/500\n",
      "51/54 [===========================>..] - ETA: 0s - loss: 0.0344\n",
      "Epoch 247: val_loss improved from 0.13898 to 0.13566, saving model to problem3_checkpoint.h5\n",
      "54/54 [==============================] - 0s 2ms/step - loss: 0.0349 - val_loss: 0.1357\n",
      "Epoch 248/500\n",
      "47/54 [=========================>....] - ETA: 0s - loss: 0.0351\n",
      "Epoch 248: val_loss did not improve from 0.13566\n",
      "54/54 [==============================] - 0s 2ms/step - loss: 0.0348 - val_loss: 0.1360\n",
      "Epoch 249/500\n",
      "48/54 [=========================>....] - ETA: 0s - loss: 0.0344    \n",
      "Epoch 249: val_loss did not improve from 0.13566\n",
      "54/54 [==============================] - 0s 2ms/step - loss: 0.0335 - val_loss: 0.1399\n",
      "Epoch 250/500\n",
      "44/54 [=======================>......] - ETA: 0s - loss: 0.0402\n",
      "Epoch 250: val_loss did not improve from 0.13566\n",
      "54/54 [==============================] - 0s 2ms/step - loss: 0.0344 - val_loss: 0.1404\n",
      "Epoch 251/500\n",
      "48/54 [=========================>....] - ETA: 0s - loss: 0.0277\n",
      "Epoch 251: val_loss did not improve from 0.13566\n",
      "54/54 [==============================] - 0s 2ms/step - loss: 0.0335 - val_loss: 0.1386\n",
      "Epoch 252/500\n",
      "52/54 [===========================>..] - ETA: 0s - loss: 0.0338\n",
      "Epoch 252: val_loss improved from 0.13566 to 0.13553, saving model to problem3_checkpoint.h5\n",
      "54/54 [==============================] - 0s 2ms/step - loss: 0.0336 - val_loss: 0.1355\n",
      "Epoch 253/500\n",
      "46/54 [========================>.....] - ETA: 0s - loss: 0.0363\n",
      "Epoch 253: val_loss did not improve from 0.13553\n",
      "54/54 [==============================] - 0s 2ms/step - loss: 0.0355 - val_loss: 0.1372\n",
      "Epoch 254/500\n",
      "38/54 [====================>.........] - ETA: 0s - loss: 0.0323\n",
      "Epoch 254: val_loss did not improve from 0.13553\n",
      "54/54 [==============================] - 0s 2ms/step - loss: 0.0359 - val_loss: 0.1357\n",
      "Epoch 255/500\n",
      "48/54 [=========================>....] - ETA: 0s - loss: 0.0305    \n",
      "Epoch 255: val_loss improved from 0.13553 to 0.13281, saving model to problem3_checkpoint.h5\n",
      "54/54 [==============================] - 0s 2ms/step - loss: 0.0345 - val_loss: 0.1328\n",
      "Epoch 256/500\n",
      "38/54 [====================>.........] - ETA: 0s - loss: 0.0340\n",
      "Epoch 256: val_loss did not improve from 0.13281\n",
      "54/54 [==============================] - 0s 2ms/step - loss: 0.0332 - val_loss: 0.1424\n",
      "Epoch 257/500\n",
      "45/54 [========================>.....] - ETA: 0s - loss: 0.0291\n",
      "Epoch 257: val_loss did not improve from 0.13281\n",
      "54/54 [==============================] - 0s 2ms/step - loss: 0.0352 - val_loss: 0.1537\n",
      "Epoch 258/500\n",
      "51/54 [===========================>..] - ETA: 0s - loss: 0.0322    \n",
      "Epoch 258: val_loss improved from 0.13281 to 0.13113, saving model to problem3_checkpoint.h5\n",
      "54/54 [==============================] - 0s 2ms/step - loss: 0.0338 - val_loss: 0.1311\n",
      "Epoch 259/500\n",
      "44/54 [=======================>......] - ETA: 0s - loss: 0.0327\n",
      "Epoch 259: val_loss did not improve from 0.13113\n",
      "54/54 [==============================] - 0s 2ms/step - loss: 0.0337 - val_loss: 0.1394\n",
      "Epoch 260/500\n",
      "43/54 [======================>.......] - ETA: 0s - loss: 0.0315\n",
      "Epoch 260: val_loss did not improve from 0.13113\n",
      "54/54 [==============================] - 0s 2ms/step - loss: 0.0320 - val_loss: 0.1351\n",
      "Epoch 261/500\n",
      "44/54 [=======================>......] - ETA: 0s - loss: 0.0331\n",
      "Epoch 261: val_loss improved from 0.13113 to 0.13093, saving model to problem3_checkpoint.h5\n",
      "54/54 [==============================] - 0s 2ms/step - loss: 0.0337 - val_loss: 0.1309\n",
      "Epoch 262/500\n",
      "50/54 [==========================>...] - ETA: 0s - loss: 0.0340\n",
      "Epoch 262: val_loss did not improve from 0.13093\n",
      "54/54 [==============================] - 0s 2ms/step - loss: 0.0334 - val_loss: 0.1523\n",
      "Epoch 263/500\n",
      "42/54 [======================>.......] - ETA: 0s - loss: 0.0354    \n",
      "Epoch 263: val_loss did not improve from 0.13093\n",
      "54/54 [==============================] - 0s 2ms/step - loss: 0.0341 - val_loss: 0.1424\n",
      "Epoch 264/500\n",
      "41/54 [=====================>........] - ETA: 0s - loss: 0.0323\n",
      "Epoch 264: val_loss did not improve from 0.13093\n",
      "54/54 [==============================] - 0s 2ms/step - loss: 0.0334 - val_loss: 0.1373\n",
      "Epoch 265/500\n",
      "39/54 [====================>.........] - ETA: 0s - loss: 0.0319\n",
      "Epoch 265: val_loss did not improve from 0.13093\n",
      "54/54 [==============================] - 0s 2ms/step - loss: 0.0323 - val_loss: 0.1313\n",
      "Epoch 266/500\n",
      "43/54 [======================>.......] - ETA: 0s - loss: 0.0352\n",
      "Epoch 266: val_loss did not improve from 0.13093\n",
      "54/54 [==============================] - 0s 2ms/step - loss: 0.0320 - val_loss: 0.1341\n",
      "Epoch 267/500\n",
      "45/54 [========================>.....] - ETA: 0s - loss: 0.0330\n",
      "Epoch 267: val_loss improved from 0.13093 to 0.12857, saving model to problem3_checkpoint.h5\n",
      "54/54 [==============================] - 0s 2ms/step - loss: 0.0325 - val_loss: 0.1286\n",
      "Epoch 268/500\n",
      "37/54 [===================>..........] - ETA: 0s - loss: 0.0336\n",
      "Epoch 268: val_loss did not improve from 0.12857\n",
      "54/54 [==============================] - 0s 2ms/step - loss: 0.0335 - val_loss: 0.1318\n",
      "Epoch 269/500\n",
      "38/54 [====================>.........] - ETA: 0s - loss: 0.0208    \n",
      "Epoch 269: val_loss did not improve from 0.12857\n",
      "54/54 [==============================] - 0s 2ms/step - loss: 0.0319 - val_loss: 0.1296\n",
      "Epoch 270/500\n",
      "43/54 [======================>.......] - ETA: 0s - loss: 0.0361\n",
      "Epoch 270: val_loss did not improve from 0.12857\n",
      "54/54 [==============================] - 0s 2ms/step - loss: 0.0325 - val_loss: 0.1358\n",
      "Epoch 271/500\n",
      "40/54 [=====================>........] - ETA: 0s - loss: 0.0332\n",
      "Epoch 271: val_loss did not improve from 0.12857\n",
      "54/54 [==============================] - 0s 2ms/step - loss: 0.0320 - val_loss: 0.1393\n",
      "Epoch 272/500\n",
      "44/54 [=======================>......] - ETA: 0s - loss: 0.0366\n",
      "Epoch 272: val_loss improved from 0.12857 to 0.12628, saving model to problem3_checkpoint.h5\n",
      "54/54 [==============================] - 0s 2ms/step - loss: 0.0345 - val_loss: 0.1263\n",
      "Epoch 273/500\n",
      "42/54 [======================>.......] - ETA: 0s - loss: 0.0356\n",
      "Epoch 273: val_loss did not improve from 0.12628\n",
      "54/54 [==============================] - 0s 2ms/step - loss: 0.0321 - val_loss: 0.1301\n",
      "Epoch 274/500\n",
      "39/54 [====================>.........] - ETA: 0s - loss: 0.0234\n",
      "Epoch 274: val_loss did not improve from 0.12628\n",
      "54/54 [==============================] - 0s 2ms/step - loss: 0.0313 - val_loss: 0.1342\n",
      "Epoch 275/500\n",
      "39/54 [====================>.........] - ETA: 0s - loss: 0.0300\n",
      "Epoch 275: val_loss did not improve from 0.12628\n",
      "54/54 [==============================] - 0s 2ms/step - loss: 0.0317 - val_loss: 0.1323\n",
      "Epoch 276/500\n",
      "40/54 [=====================>........] - ETA: 0s - loss: 0.0279    \n",
      "Epoch 276: val_loss did not improve from 0.12628\n",
      "54/54 [==============================] - 0s 2ms/step - loss: 0.0315 - val_loss: 0.1264\n",
      "Epoch 277/500\n",
      " 1/54 [..............................] - ETA: 0s - loss: 7.4642e-04\n",
      "Epoch 277: val_loss did not improve from 0.12628\n",
      "54/54 [==============================] - 0s 1ms/step - loss: 0.0308 - val_loss: 0.1306\n",
      "Epoch 278/500\n",
      "47/54 [=========================>....] - ETA: 0s - loss: 0.0275\n",
      "Epoch 278: val_loss did not improve from 0.12628\n",
      "54/54 [==============================] - 0s 2ms/step - loss: 0.0314 - val_loss: 0.1332\n",
      "Epoch 279/500\n",
      "48/54 [=========================>....] - ETA: 0s - loss: 0.0317\n",
      "Epoch 279: val_loss did not improve from 0.12628\n",
      "54/54 [==============================] - 0s 2ms/step - loss: 0.0305 - val_loss: 0.1361\n",
      "Epoch 280/500\n",
      "39/54 [====================>.........] - ETA: 0s - loss: 0.0322\n",
      "Epoch 280: val_loss did not improve from 0.12628\n",
      "54/54 [==============================] - 0s 2ms/step - loss: 0.0298 - val_loss: 0.1313\n",
      "Epoch 281/500\n",
      "45/54 [========================>.....] - ETA: 0s - loss: 0.0269\n",
      "Epoch 281: val_loss improved from 0.12628 to 0.12490, saving model to problem3_checkpoint.h5\n"
     ]
    },
    {
     "name": "stdout",
     "output_type": "stream",
     "text": [
      "54/54 [==============================] - 0s 2ms/step - loss: 0.0296 - val_loss: 0.1249\n",
      "Epoch 282/500\n",
      "40/54 [=====================>........] - ETA: 0s - loss: 0.0275    \n",
      "Epoch 282: val_loss did not improve from 0.12490\n",
      "54/54 [==============================] - 0s 2ms/step - loss: 0.0304 - val_loss: 0.1346\n",
      "Epoch 283/500\n",
      "46/54 [========================>.....] - ETA: 0s - loss: 0.0330\n",
      "Epoch 283: val_loss did not improve from 0.12490\n",
      "54/54 [==============================] - 0s 2ms/step - loss: 0.0302 - val_loss: 0.1402\n",
      "Epoch 284/500\n",
      "51/54 [===========================>..] - ETA: 0s - loss: 0.0305    \n",
      "Epoch 284: val_loss did not improve from 0.12490\n",
      "54/54 [==============================] - 0s 2ms/step - loss: 0.0292 - val_loss: 0.1281\n",
      "Epoch 285/500\n",
      "38/54 [====================>.........] - ETA: 0s - loss: 0.0338\n",
      "Epoch 285: val_loss did not improve from 0.12490\n",
      "54/54 [==============================] - 0s 2ms/step - loss: 0.0312 - val_loss: 0.1287\n",
      "Epoch 286/500\n",
      "43/54 [======================>.......] - ETA: 0s - loss: 0.0278\n",
      "Epoch 286: val_loss did not improve from 0.12490\n",
      "54/54 [==============================] - 0s 2ms/step - loss: 0.0290 - val_loss: 0.1276\n",
      "Epoch 287/500\n",
      "47/54 [=========================>....] - ETA: 0s - loss: 0.0307    \n",
      "Epoch 287: val_loss did not improve from 0.12490\n",
      "54/54 [==============================] - 0s 2ms/step - loss: 0.0295 - val_loss: 0.1250\n",
      "Epoch 288/500\n",
      "54/54 [==============================] - ETA: 0s - loss: 0.0308    \n",
      "Epoch 288: val_loss did not improve from 0.12490\n",
      "54/54 [==============================] - 0s 2ms/step - loss: 0.0308 - val_loss: 0.1309\n",
      "Epoch 289/500\n",
      "42/54 [======================>.......] - ETA: 0s - loss: 0.0272\n",
      "Epoch 289: val_loss did not improve from 0.12490\n",
      "54/54 [==============================] - 0s 2ms/step - loss: 0.0302 - val_loss: 0.1393\n",
      "Epoch 290/500\n",
      "44/54 [=======================>......] - ETA: 0s - loss: 0.0317    \n",
      "Epoch 290: val_loss improved from 0.12490 to 0.12459, saving model to problem3_checkpoint.h5\n",
      "54/54 [==============================] - 0s 2ms/step - loss: 0.0301 - val_loss: 0.1246\n",
      "Epoch 291/500\n",
      "46/54 [========================>.....] - ETA: 0s - loss: 0.0320\n",
      "Epoch 291: val_loss did not improve from 0.12459\n",
      "54/54 [==============================] - 0s 2ms/step - loss: 0.0305 - val_loss: 0.1282\n",
      "Epoch 292/500\n",
      "35/54 [==================>...........] - ETA: 0s - loss: 0.0267\n",
      "Epoch 292: val_loss did not improve from 0.12459\n",
      "54/54 [==============================] - 0s 2ms/step - loss: 0.0290 - val_loss: 0.1285\n",
      "Epoch 293/500\n",
      "42/54 [======================>.......] - ETA: 0s - loss: 0.0299\n",
      "Epoch 293: val_loss improved from 0.12459 to 0.12373, saving model to problem3_checkpoint.h5\n",
      "54/54 [==============================] - 0s 2ms/step - loss: 0.0302 - val_loss: 0.1237\n",
      "Epoch 294/500\n",
      "38/54 [====================>.........] - ETA: 0s - loss: 0.0296    \n",
      "Epoch 294: val_loss did not improve from 0.12373\n",
      "54/54 [==============================] - 0s 2ms/step - loss: 0.0300 - val_loss: 0.1459\n",
      "Epoch 295/500\n",
      "41/54 [=====================>........] - ETA: 0s - loss: 0.0326\n",
      "Epoch 295: val_loss improved from 0.12373 to 0.12290, saving model to problem3_checkpoint.h5\n",
      "54/54 [==============================] - 0s 2ms/step - loss: 0.0300 - val_loss: 0.1229\n",
      "Epoch 296/500\n",
      "38/54 [====================>.........] - ETA: 0s - loss: 0.0269\n",
      "Epoch 296: val_loss did not improve from 0.12290\n",
      "54/54 [==============================] - 0s 2ms/step - loss: 0.0287 - val_loss: 0.1240\n",
      "Epoch 297/500\n",
      "46/54 [========================>.....] - ETA: 0s - loss: 0.0257\n",
      "Epoch 297: val_loss did not improve from 0.12290\n",
      "54/54 [==============================] - 0s 2ms/step - loss: 0.0295 - val_loss: 0.1244\n",
      "Epoch 298/500\n",
      " 1/54 [..............................] - ETA: 0s - loss: 0.0529\n",
      "Epoch 298: val_loss did not improve from 0.12290\n",
      "54/54 [==============================] - 0s 1ms/step - loss: 0.0294 - val_loss: 0.1262\n",
      "Epoch 299/500\n",
      "43/54 [======================>.......] - ETA: 0s - loss: 0.0327\n",
      "Epoch 299: val_loss did not improve from 0.12290\n",
      "54/54 [==============================] - 0s 2ms/step - loss: 0.0312 - val_loss: 0.1261\n",
      "Epoch 300/500\n",
      "50/54 [==========================>...] - ETA: 0s - loss: 0.0282\n",
      "Epoch 300: val_loss did not improve from 0.12290\n",
      "54/54 [==============================] - 0s 2ms/step - loss: 0.0292 - val_loss: 0.1320\n",
      "Epoch 301/500\n",
      "53/54 [============================>.] - ETA: 0s - loss: 0.0302\n",
      "Epoch 301: val_loss did not improve from 0.12290\n",
      "54/54 [==============================] - 0s 2ms/step - loss: 0.0297 - val_loss: 0.1406\n",
      "Epoch 302/500\n",
      "47/54 [=========================>....] - ETA: 0s - loss: 0.0263\n",
      "Epoch 302: val_loss did not improve from 0.12290\n",
      "54/54 [==============================] - 0s 2ms/step - loss: 0.0277 - val_loss: 0.1235\n",
      "Epoch 303/500\n",
      "30/54 [===============>..............] - ETA: 0s - loss: 0.0289\n",
      "Epoch 303: val_loss did not improve from 0.12290\n",
      "54/54 [==============================] - 0s 2ms/step - loss: 0.0280 - val_loss: 0.1290\n",
      "Epoch 304/500\n",
      "44/54 [=======================>......] - ETA: 0s - loss: 0.0320    \n",
      "Epoch 304: val_loss did not improve from 0.12290\n",
      "54/54 [==============================] - 0s 2ms/step - loss: 0.0279 - val_loss: 0.1408\n",
      "Epoch 305/500\n",
      "49/54 [==========================>...] - ETA: 0s - loss: 0.0276\n",
      "Epoch 305: val_loss did not improve from 0.12290\n",
      "54/54 [==============================] - 0s 2ms/step - loss: 0.0291 - val_loss: 0.1301\n"
     ]
    }
   ],
   "source": [
    "path_checkpoint = \"problem3_checkpoint.h5\"\n",
    "es_callback = keras.callbacks.EarlyStopping(monitor=\"val_loss\", min_delta=0, patience=10)\n",
    "\n",
    "modelckpt_callback = keras.callbacks.ModelCheckpoint(\n",
    "    monitor=\"val_loss\",\n",
    "    filepath=path_checkpoint,\n",
    "    verbose=1,\n",
    "    # 要同时保存网络结构。\n",
    "    save_weights_only=False,\n",
    "    save_best_only=True,\n",
    ")\n",
    "\n",
    "history = model.fit(\n",
    "    X_train, Y_train,\n",
    "    epochs=epochs,\n",
    "    validation_data=(X_val, Y_val),\n",
    "    callbacks=[es_callback, modelckpt_callback],\n",
    "    batch_size=bs\n",
    ")"
   ]
  },
  {
   "cell_type": "code",
   "execution_count": 33,
   "id": "e784dfa5",
   "metadata": {},
   "outputs": [
    {
     "data": {
      "image/png": "[encoded data removed]",
      "text/plain": [
       "<Figure size 720x360 with 1 Axes>"
      ]
     },
     "metadata": {
      "needs_background": "light"
     },
     "output_type": "display_data"
    }
   ],
   "source": [
    "def visualize_loss(history, title):\n",
    "    loss = history.history[\"loss\"]\n",
    "    val_loss = history.history[\"val_loss\"]\n",
    "    epochs = range(len(loss))\n",
    "    plt.figure(figsize=(10,5))\n",
    "    plt.plot(epochs, loss, \"b\", label=\"Training loss\")\n",
    "    plt.plot(epochs, val_loss, \"r\", label=\"Validation loss\")\n",
    "    plt.title(title)\n",
    "    plt.xlabel(\"Epochs\")\n",
    "    plt.ylabel(\"Loss\")\n",
    "    plt.legend()\n",
    "    plt.show()\n",
    "\n",
    "visualize_loss(history, \"Training and Validation Loss\")"
   ]
  },
  {
   "cell_type": "code",
   "execution_count": 34,
   "id": "a53c4ab3",
   "metadata": {
    "scrolled": true
   },
   "outputs": [
    {
     "data": {
      "text/html": [
       "<div>\n",
       "<style scoped>\n",
       "    .dataframe tbody tr th:only-of-type {\n",
       "        vertical-align: middle;\n",
       "    }\n",
       "\n",
       "    .dataframe tbody tr th {\n",
       "        vertical-align: top;\n",
       "    }\n",
       "\n",
       "    .dataframe thead th {\n",
       "        text-align: right;\n",
       "    }\n",
       "</style>\n",
       "<table border=\"1\" class=\"dataframe\">\n",
       "  <thead>\n",
       "    <tr style=\"text-align: right;\">\n",
       "      <th></th>\n",
       "      <th>SOC土壤有机碳预测值</th>\n",
       "      <th>SIC土壤无机碳预测值</th>\n",
       "      <th>STC土壤全碳预测值</th>\n",
       "      <th>全氮N预测值</th>\n",
       "      <th>土壤C/N比预测值</th>\n",
       "      <th>SOC土壤有机碳真实值</th>\n",
       "      <th>SIC土壤无机碳真实值</th>\n",
       "      <th>STC土壤全碳真实值</th>\n",
       "      <th>全氮N真实值</th>\n",
       "      <th>土壤C/N比真实值</th>\n",
       "      <th>year</th>\n",
       "      <th>放牧强度（intensity）</th>\n",
       "      <th>放牧小区（plot）</th>\n",
       "    </tr>\n",
       "  </thead>\n",
       "  <tbody>\n",
       "    <tr>\n",
       "      <th>0</th>\n",
       "      <td>12.122268</td>\n",
       "      <td>11.575859</td>\n",
       "      <td>23.692497</td>\n",
       "      <td>1.379817</td>\n",
       "      <td>17.385387</td>\n",
       "      <td>12.164092</td>\n",
       "      <td>11.550000</td>\n",
       "      <td>23.714092</td>\n",
       "      <td>1.378942</td>\n",
       "      <td>17.394695</td>\n",
       "      <td>2012</td>\n",
       "      <td>HGI</td>\n",
       "      <td>G13</td>\n",
       "    </tr>\n",
       "    <tr>\n",
       "      <th>1</th>\n",
       "      <td>13.064907</td>\n",
       "      <td>10.846013</td>\n",
       "      <td>23.913933</td>\n",
       "      <td>1.752497</td>\n",
       "      <td>14.240614</td>\n",
       "      <td>13.066348</td>\n",
       "      <td>10.849667</td>\n",
       "      <td>23.916014</td>\n",
       "      <td>1.752764</td>\n",
       "      <td>14.245073</td>\n",
       "      <td>2012</td>\n",
       "      <td>HGI</td>\n",
       "      <td>G20</td>\n",
       "    </tr>\n",
       "    <tr>\n",
       "      <th>2</th>\n",
       "      <td>13.439795</td>\n",
       "      <td>11.956115</td>\n",
       "      <td>25.381880</td>\n",
       "      <td>1.645841</td>\n",
       "      <td>17.062847</td>\n",
       "      <td>13.474534</td>\n",
       "      <td>11.875000</td>\n",
       "      <td>25.349534</td>\n",
       "      <td>1.648023</td>\n",
       "      <td>17.020659</td>\n",
       "      <td>2012</td>\n",
       "      <td>HGI</td>\n",
       "      <td>G9</td>\n",
       "    </tr>\n",
       "    <tr>\n",
       "      <th>3</th>\n",
       "      <td>12.447754</td>\n",
       "      <td>10.512358</td>\n",
       "      <td>22.960102</td>\n",
       "      <td>1.649705</td>\n",
       "      <td>14.455209</td>\n",
       "      <td>12.469286</td>\n",
       "      <td>10.491667</td>\n",
       "      <td>22.960953</td>\n",
       "      <td>1.648516</td>\n",
       "      <td>14.458516</td>\n",
       "      <td>2012</td>\n",
       "      <td>LGI</td>\n",
       "      <td>G12</td>\n",
       "    </tr>\n",
       "    <tr>\n",
       "      <th>4</th>\n",
       "      <td>11.982439</td>\n",
       "      <td>8.995665</td>\n",
       "      <td>20.960686</td>\n",
       "      <td>1.534310</td>\n",
       "      <td>14.018139</td>\n",
       "      <td>12.021940</td>\n",
       "      <td>8.925000</td>\n",
       "      <td>20.946940</td>\n",
       "      <td>1.537228</td>\n",
       "      <td>13.980016</td>\n",
       "      <td>2012</td>\n",
       "      <td>LGI</td>\n",
       "      <td>G18</td>\n",
       "    </tr>\n",
       "    <tr>\n",
       "      <th>5</th>\n",
       "      <td>14.293139</td>\n",
       "      <td>13.964771</td>\n",
       "      <td>28.263794</td>\n",
       "      <td>1.896250</td>\n",
       "      <td>15.186458</td>\n",
       "      <td>14.327432</td>\n",
       "      <td>13.958333</td>\n",
       "      <td>28.285766</td>\n",
       "      <td>1.895496</td>\n",
       "      <td>15.199783</td>\n",
       "      <td>2012</td>\n",
       "      <td>LGI</td>\n",
       "      <td>G6</td>\n",
       "    </tr>\n",
       "    <tr>\n",
       "      <th>6</th>\n",
       "      <td>14.203217</td>\n",
       "      <td>6.735074</td>\n",
       "      <td>20.937208</td>\n",
       "      <td>1.749234</td>\n",
       "      <td>12.499669</td>\n",
       "      <td>14.226167</td>\n",
       "      <td>6.712500</td>\n",
       "      <td>20.938667</td>\n",
       "      <td>1.749771</td>\n",
       "      <td>12.481757</td>\n",
       "      <td>2012</td>\n",
       "      <td>MGI</td>\n",
       "      <td>G11</td>\n",
       "    </tr>\n",
       "    <tr>\n",
       "      <th>7</th>\n",
       "      <td>11.603613</td>\n",
       "      <td>8.975295</td>\n",
       "      <td>20.569450</td>\n",
       "      <td>1.695117</td>\n",
       "      <td>12.410774</td>\n",
       "      <td>11.638731</td>\n",
       "      <td>8.950000</td>\n",
       "      <td>20.588731</td>\n",
       "      <td>1.698386</td>\n",
       "      <td>12.383591</td>\n",
       "      <td>2012</td>\n",
       "      <td>MGI</td>\n",
       "      <td>G16</td>\n",
       "    </tr>\n",
       "    <tr>\n",
       "      <th>8</th>\n",
       "      <td>13.630177</td>\n",
       "      <td>9.585060</td>\n",
       "      <td>23.223536</td>\n",
       "      <td>1.762683</td>\n",
       "      <td>13.436836</td>\n",
       "      <td>13.677481</td>\n",
       "      <td>9.541667</td>\n",
       "      <td>23.219148</td>\n",
       "      <td>1.763731</td>\n",
       "      <td>13.412295</td>\n",
       "      <td>2012</td>\n",
       "      <td>MGI</td>\n",
       "      <td>G8</td>\n",
       "    </tr>\n",
       "    <tr>\n",
       "      <th>9</th>\n",
       "      <td>13.944776</td>\n",
       "      <td>10.976393</td>\n",
       "      <td>24.914967</td>\n",
       "      <td>1.658313</td>\n",
       "      <td>16.019949</td>\n",
       "      <td>13.973544</td>\n",
       "      <td>10.950000</td>\n",
       "      <td>24.923544</td>\n",
       "      <td>1.659076</td>\n",
       "      <td>16.012928</td>\n",
       "      <td>2012</td>\n",
       "      <td>NG</td>\n",
       "      <td>G17</td>\n",
       "    </tr>\n",
       "    <tr>\n",
       "      <th>10</th>\n",
       "      <td>14.901679</td>\n",
       "      <td>11.047945</td>\n",
       "      <td>25.943069</td>\n",
       "      <td>1.428714</td>\n",
       "      <td>18.992363</td>\n",
       "      <td>14.920517</td>\n",
       "      <td>11.041667</td>\n",
       "      <td>25.962183</td>\n",
       "      <td>1.429206</td>\n",
       "      <td>18.991705</td>\n",
       "      <td>2012</td>\n",
       "      <td>NG</td>\n",
       "      <td>G19</td>\n",
       "    </tr>\n",
       "    <tr>\n",
       "      <th>11</th>\n",
       "      <td>11.945843</td>\n",
       "      <td>10.010395</td>\n",
       "      <td>21.953228</td>\n",
       "      <td>1.495229</td>\n",
       "      <td>15.703820</td>\n",
       "      <td>11.992698</td>\n",
       "      <td>9.925000</td>\n",
       "      <td>21.917698</td>\n",
       "      <td>1.498846</td>\n",
       "      <td>15.644976</td>\n",
       "      <td>2012</td>\n",
       "      <td>NG</td>\n",
       "      <td>G21</td>\n",
       "    </tr>\n",
       "    <tr>\n",
       "      <th>12</th>\n",
       "      <td>12.863771</td>\n",
       "      <td>8.156568</td>\n",
       "      <td>21.041849</td>\n",
       "      <td>1.661469</td>\n",
       "      <td>13.318093</td>\n",
       "      <td>12.926788</td>\n",
       "      <td>8.125000</td>\n",
       "      <td>21.051788</td>\n",
       "      <td>1.657668</td>\n",
       "      <td>13.352374</td>\n",
       "      <td>2014</td>\n",
       "      <td>HGI</td>\n",
       "      <td>G13</td>\n",
       "    </tr>\n",
       "    <tr>\n",
       "      <th>13</th>\n",
       "      <td>16.107401</td>\n",
       "      <td>11.856057</td>\n",
       "      <td>27.939167</td>\n",
       "      <td>1.767546</td>\n",
       "      <td>16.624872</td>\n",
       "      <td>16.363304</td>\n",
       "      <td>11.775000</td>\n",
       "      <td>28.138304</td>\n",
       "      <td>1.750125</td>\n",
       "      <td>16.656109</td>\n",
       "      <td>2014</td>\n",
       "      <td>HGI</td>\n",
       "      <td>G20</td>\n",
       "    </tr>\n",
       "    <tr>\n",
       "      <th>14</th>\n",
       "      <td>12.682543</td>\n",
       "      <td>9.809163</td>\n",
       "      <td>22.472845</td>\n",
       "      <td>1.405890</td>\n",
       "      <td>16.453739</td>\n",
       "      <td>12.735764</td>\n",
       "      <td>9.600000</td>\n",
       "      <td>22.335764</td>\n",
       "      <td>1.374505</td>\n",
       "      <td>16.695900</td>\n",
       "      <td>2014</td>\n",
       "      <td>HGI</td>\n",
       "      <td>G9</td>\n",
       "    </tr>\n",
       "    <tr>\n",
       "      <th>15</th>\n",
       "      <td>14.473921</td>\n",
       "      <td>10.015599</td>\n",
       "      <td>24.427145</td>\n",
       "      <td>1.715827</td>\n",
       "      <td>14.554517</td>\n",
       "      <td>14.481356</td>\n",
       "      <td>9.975000</td>\n",
       "      <td>24.456356</td>\n",
       "      <td>1.719360</td>\n",
       "      <td>14.564788</td>\n",
       "      <td>2014</td>\n",
       "      <td>LGI</td>\n",
       "      <td>G12</td>\n",
       "    </tr>\n",
       "    <tr>\n",
       "      <th>16</th>\n",
       "      <td>13.560246</td>\n",
       "      <td>12.221011</td>\n",
       "      <td>25.745537</td>\n",
       "      <td>1.715626</td>\n",
       "      <td>15.383009</td>\n",
       "      <td>13.633970</td>\n",
       "      <td>12.350000</td>\n",
       "      <td>25.983970</td>\n",
       "      <td>1.725681</td>\n",
       "      <td>15.418518</td>\n",
       "      <td>2014</td>\n",
       "      <td>LGI</td>\n",
       "      <td>G18</td>\n",
       "    </tr>\n",
       "    <tr>\n",
       "      <th>17</th>\n",
       "      <td>14.505890</td>\n",
       "      <td>9.468392</td>\n",
       "      <td>23.979347</td>\n",
       "      <td>1.653686</td>\n",
       "      <td>15.323114</td>\n",
       "      <td>14.609238</td>\n",
       "      <td>9.391500</td>\n",
       "      <td>24.000738</td>\n",
       "      <td>1.650619</td>\n",
       "      <td>15.370425</td>\n",
       "      <td>2014</td>\n",
       "      <td>LGI</td>\n",
       "      <td>G6</td>\n",
       "    </tr>\n",
       "    <tr>\n",
       "      <th>18</th>\n",
       "      <td>14.689633</td>\n",
       "      <td>7.987407</td>\n",
       "      <td>22.565264</td>\n",
       "      <td>1.747604</td>\n",
       "      <td>13.456949</td>\n",
       "      <td>14.984899</td>\n",
       "      <td>7.900000</td>\n",
       "      <td>22.884899</td>\n",
       "      <td>1.753217</td>\n",
       "      <td>13.573176</td>\n",
       "      <td>2014</td>\n",
       "      <td>MGI</td>\n",
       "      <td>G11</td>\n",
       "    </tr>\n",
       "    <tr>\n",
       "      <th>19</th>\n",
       "      <td>12.421684</td>\n",
       "      <td>11.442656</td>\n",
       "      <td>23.855354</td>\n",
       "      <td>1.402717</td>\n",
       "      <td>17.693487</td>\n",
       "      <td>12.446268</td>\n",
       "      <td>11.500000</td>\n",
       "      <td>23.946268</td>\n",
       "      <td>1.400305</td>\n",
       "      <td>17.794122</td>\n",
       "      <td>2014</td>\n",
       "      <td>MGI</td>\n",
       "      <td>G16</td>\n",
       "    </tr>\n",
       "    <tr>\n",
       "      <th>20</th>\n",
       "      <td>14.852275</td>\n",
       "      <td>7.322114</td>\n",
       "      <td>22.197886</td>\n",
       "      <td>1.703065</td>\n",
       "      <td>13.563931</td>\n",
       "      <td>14.968442</td>\n",
       "      <td>7.150000</td>\n",
       "      <td>22.118442</td>\n",
       "      <td>1.694780</td>\n",
       "      <td>13.509831</td>\n",
       "      <td>2014</td>\n",
       "      <td>MGI</td>\n",
       "      <td>G8</td>\n",
       "    </tr>\n",
       "    <tr>\n",
       "      <th>21</th>\n",
       "      <td>13.745381</td>\n",
       "      <td>10.974467</td>\n",
       "      <td>24.779509</td>\n",
       "      <td>1.634332</td>\n",
       "      <td>15.886498</td>\n",
       "      <td>13.747096</td>\n",
       "      <td>11.100000</td>\n",
       "      <td>24.847096</td>\n",
       "      <td>1.641051</td>\n",
       "      <td>15.823591</td>\n",
       "      <td>2014</td>\n",
       "      <td>NG</td>\n",
       "      <td>G17</td>\n",
       "    </tr>\n",
       "    <tr>\n",
       "      <th>22</th>\n",
       "      <td>15.580167</td>\n",
       "      <td>7.488419</td>\n",
       "      <td>23.177561</td>\n",
       "      <td>1.689802</td>\n",
       "      <td>14.168619</td>\n",
       "      <td>15.735176</td>\n",
       "      <td>7.500000</td>\n",
       "      <td>23.235176</td>\n",
       "      <td>1.700185</td>\n",
       "      <td>14.103612</td>\n",
       "      <td>2014</td>\n",
       "      <td>NG</td>\n",
       "      <td>G19</td>\n",
       "    </tr>\n",
       "    <tr>\n",
       "      <th>23</th>\n",
       "      <td>14.035495</td>\n",
       "      <td>8.927324</td>\n",
       "      <td>22.878513</td>\n",
       "      <td>1.671932</td>\n",
       "      <td>14.210487</td>\n",
       "      <td>14.113490</td>\n",
       "      <td>8.900000</td>\n",
       "      <td>23.013490</td>\n",
       "      <td>1.682001</td>\n",
       "      <td>14.194633</td>\n",
       "      <td>2014</td>\n",
       "      <td>NG</td>\n",
       "      <td>G21</td>\n",
       "    </tr>\n",
       "    <tr>\n",
       "      <th>24</th>\n",
       "      <td>15.191704</td>\n",
       "      <td>5.747557</td>\n",
       "      <td>20.950865</td>\n",
       "      <td>1.858307</td>\n",
       "      <td>11.879012</td>\n",
       "      <td>15.968152</td>\n",
       "      <td>5.333333</td>\n",
       "      <td>21.301485</td>\n",
       "      <td>1.882645</td>\n",
       "      <td>11.844474</td>\n",
       "      <td>2016</td>\n",
       "      <td>HGI</td>\n",
       "      <td>G13</td>\n",
       "    </tr>\n",
       "    <tr>\n",
       "      <th>25</th>\n",
       "      <td>15.047415</td>\n",
       "      <td>7.790807</td>\n",
       "      <td>22.754955</td>\n",
       "      <td>1.878998</td>\n",
       "      <td>12.793108</td>\n",
       "      <td>14.284230</td>\n",
       "      <td>7.727778</td>\n",
       "      <td>22.012008</td>\n",
       "      <td>1.918901</td>\n",
       "      <td>12.394791</td>\n",
       "      <td>2016</td>\n",
       "      <td>HGI</td>\n",
       "      <td>G20</td>\n",
       "    </tr>\n",
       "    <tr>\n",
       "      <th>26</th>\n",
       "      <td>14.304828</td>\n",
       "      <td>7.354918</td>\n",
       "      <td>21.667498</td>\n",
       "      <td>1.766415</td>\n",
       "      <td>13.023094</td>\n",
       "      <td>14.502588</td>\n",
       "      <td>7.783333</td>\n",
       "      <td>22.285921</td>\n",
       "      <td>1.836641</td>\n",
       "      <td>12.799613</td>\n",
       "      <td>2016</td>\n",
       "      <td>HGI</td>\n",
       "      <td>G9</td>\n",
       "    </tr>\n",
       "    <tr>\n",
       "      <th>27</th>\n",
       "      <td>14.932337</td>\n",
       "      <td>6.103156</td>\n",
       "      <td>21.145367</td>\n",
       "      <td>1.811694</td>\n",
       "      <td>12.114189</td>\n",
       "      <td>15.418321</td>\n",
       "      <td>5.295000</td>\n",
       "      <td>20.713321</td>\n",
       "      <td>1.840574</td>\n",
       "      <td>11.820231</td>\n",
       "      <td>2016</td>\n",
       "      <td>LGI</td>\n",
       "      <td>G12</td>\n",
       "    </tr>\n",
       "    <tr>\n",
       "      <th>28</th>\n",
       "      <td>16.340717</td>\n",
       "      <td>8.610598</td>\n",
       "      <td>25.060873</td>\n",
       "      <td>1.932340</td>\n",
       "      <td>13.726465</td>\n",
       "      <td>16.624699</td>\n",
       "      <td>7.694444</td>\n",
       "      <td>24.319144</td>\n",
       "      <td>1.899060</td>\n",
       "      <td>13.570944</td>\n",
       "      <td>2016</td>\n",
       "      <td>LGI</td>\n",
       "      <td>G18</td>\n",
       "    </tr>\n",
       "    <tr>\n",
       "      <th>29</th>\n",
       "      <td>14.237224</td>\n",
       "      <td>6.519501</td>\n",
       "      <td>20.784899</td>\n",
       "      <td>1.809017</td>\n",
       "      <td>12.196472</td>\n",
       "      <td>14.317466</td>\n",
       "      <td>6.300000</td>\n",
       "      <td>20.617466</td>\n",
       "      <td>1.812071</td>\n",
       "      <td>12.143385</td>\n",
       "      <td>2016</td>\n",
       "      <td>LGI</td>\n",
       "      <td>G6</td>\n",
       "    </tr>\n",
       "    <tr>\n",
       "      <th>30</th>\n",
       "      <td>13.772732</td>\n",
       "      <td>5.427501</td>\n",
       "      <td>19.316521</td>\n",
       "      <td>1.763841</td>\n",
       "      <td>11.386473</td>\n",
       "      <td>13.270261</td>\n",
       "      <td>5.484444</td>\n",
       "      <td>18.754705</td>\n",
       "      <td>1.739910</td>\n",
       "      <td>11.223092</td>\n",
       "      <td>2016</td>\n",
       "      <td>MGI</td>\n",
       "      <td>G11</td>\n",
       "    </tr>\n",
       "    <tr>\n",
       "      <th>31</th>\n",
       "      <td>14.209268</td>\n",
       "      <td>9.658367</td>\n",
       "      <td>23.989210</td>\n",
       "      <td>1.570275</td>\n",
       "      <td>16.577723</td>\n",
       "      <td>15.845344</td>\n",
       "      <td>8.216667</td>\n",
       "      <td>24.062011</td>\n",
       "      <td>1.609849</td>\n",
       "      <td>16.500021</td>\n",
       "      <td>2016</td>\n",
       "      <td>MGI</td>\n",
       "      <td>G16</td>\n",
       "    </tr>\n",
       "    <tr>\n",
       "      <th>32</th>\n",
       "      <td>14.214107</td>\n",
       "      <td>5.796339</td>\n",
       "      <td>20.028061</td>\n",
       "      <td>1.795103</td>\n",
       "      <td>11.572125</td>\n",
       "      <td>14.028019</td>\n",
       "      <td>6.700000</td>\n",
       "      <td>20.728019</td>\n",
       "      <td>1.833418</td>\n",
       "      <td>11.945595</td>\n",
       "      <td>2016</td>\n",
       "      <td>MGI</td>\n",
       "      <td>G8</td>\n",
       "    </tr>\n",
       "    <tr>\n",
       "      <th>33</th>\n",
       "      <td>15.347246</td>\n",
       "      <td>8.443896</td>\n",
       "      <td>23.908474</td>\n",
       "      <td>1.832225</td>\n",
       "      <td>14.041014</td>\n",
       "      <td>15.679023</td>\n",
       "      <td>7.983333</td>\n",
       "      <td>23.662356</td>\n",
       "      <td>1.813318</td>\n",
       "      <td>14.102624</td>\n",
       "      <td>2016</td>\n",
       "      <td>NG</td>\n",
       "      <td>G17</td>\n",
       "    </tr>\n",
       "    <tr>\n",
       "      <th>34</th>\n",
       "      <td>15.341636</td>\n",
       "      <td>6.674002</td>\n",
       "      <td>21.974499</td>\n",
       "      <td>1.837425</td>\n",
       "      <td>12.600430</td>\n",
       "      <td>14.618971</td>\n",
       "      <td>6.675556</td>\n",
       "      <td>21.294526</td>\n",
       "      <td>1.803798</td>\n",
       "      <td>12.600770</td>\n",
       "      <td>2016</td>\n",
       "      <td>NG</td>\n",
       "      <td>G19</td>\n",
       "    </tr>\n",
       "    <tr>\n",
       "      <th>35</th>\n",
       "      <td>15.802818</td>\n",
       "      <td>6.391303</td>\n",
       "      <td>22.376450</td>\n",
       "      <td>1.891271</td>\n",
       "      <td>12.703305</td>\n",
       "      <td>15.834895</td>\n",
       "      <td>6.233333</td>\n",
       "      <td>22.068228</td>\n",
       "      <td>1.855074</td>\n",
       "      <td>12.888815</td>\n",
       "      <td>2016</td>\n",
       "      <td>NG</td>\n",
       "      <td>G21</td>\n",
       "    </tr>\n",
       "    <tr>\n",
       "      <th>36</th>\n",
       "      <td>15.651854</td>\n",
       "      <td>4.960747</td>\n",
       "      <td>20.590626</td>\n",
       "      <td>1.957616</td>\n",
       "      <td>10.872556</td>\n",
       "      <td>15.033399</td>\n",
       "      <td>5.650000</td>\n",
       "      <td>20.683399</td>\n",
       "      <td>1.906732</td>\n",
       "      <td>11.251682</td>\n",
       "      <td>2018</td>\n",
       "      <td>HGI</td>\n",
       "      <td>G13</td>\n",
       "    </tr>\n",
       "    <tr>\n",
       "      <th>37</th>\n",
       "      <td>15.360139</td>\n",
       "      <td>6.296343</td>\n",
       "      <td>21.726978</td>\n",
       "      <td>1.969459</td>\n",
       "      <td>11.449873</td>\n",
       "      <td>16.044890</td>\n",
       "      <td>6.466667</td>\n",
       "      <td>22.511557</td>\n",
       "      <td>1.953936</td>\n",
       "      <td>12.078220</td>\n",
       "      <td>2018</td>\n",
       "      <td>HGI</td>\n",
       "      <td>G20</td>\n",
       "    </tr>\n",
       "    <tr>\n",
       "      <th>38</th>\n",
       "      <td>15.826181</td>\n",
       "      <td>4.823346</td>\n",
       "      <td>20.662609</td>\n",
       "      <td>2.029222</td>\n",
       "      <td>10.542479</td>\n",
       "      <td>15.855964</td>\n",
       "      <td>4.700000</td>\n",
       "      <td>20.555964</td>\n",
       "      <td>1.977365</td>\n",
       "      <td>10.667016</td>\n",
       "      <td>2018</td>\n",
       "      <td>HGI</td>\n",
       "      <td>G9</td>\n",
       "    </tr>\n",
       "    <tr>\n",
       "      <th>39</th>\n",
       "      <td>15.261518</td>\n",
       "      <td>5.213741</td>\n",
       "      <td>20.494707</td>\n",
       "      <td>1.869426</td>\n",
       "      <td>11.375092</td>\n",
       "      <td>14.919320</td>\n",
       "      <td>6.250000</td>\n",
       "      <td>21.169320</td>\n",
       "      <td>1.855670</td>\n",
       "      <td>11.910043</td>\n",
       "      <td>2018</td>\n",
       "      <td>LGI</td>\n",
       "      <td>G12</td>\n",
       "    </tr>\n",
       "    <tr>\n",
       "      <th>40</th>\n",
       "      <td>17.560568</td>\n",
       "      <td>8.009800</td>\n",
       "      <td>25.627939</td>\n",
       "      <td>2.082177</td>\n",
       "      <td>12.816585</td>\n",
       "      <td>17.091615</td>\n",
       "      <td>8.733333</td>\n",
       "      <td>25.824948</td>\n",
       "      <td>2.069111</td>\n",
       "      <td>13.305531</td>\n",
       "      <td>2018</td>\n",
       "      <td>LGI</td>\n",
       "      <td>G18</td>\n",
       "    </tr>\n",
       "    <tr>\n",
       "      <th>41</th>\n",
       "      <td>14.499103</td>\n",
       "      <td>4.946773</td>\n",
       "      <td>19.492575</td>\n",
       "      <td>1.923760</td>\n",
       "      <td>10.560895</td>\n",
       "      <td>14.799450</td>\n",
       "      <td>5.500000</td>\n",
       "      <td>20.299450</td>\n",
       "      <td>1.930055</td>\n",
       "      <td>10.994639</td>\n",
       "      <td>2018</td>\n",
       "      <td>LGI</td>\n",
       "      <td>G6</td>\n",
       "    </tr>\n",
       "    <tr>\n",
       "      <th>42</th>\n",
       "      <td>14.629663</td>\n",
       "      <td>4.340859</td>\n",
       "      <td>19.051825</td>\n",
       "      <td>1.906096</td>\n",
       "      <td>10.227970</td>\n",
       "      <td>15.164307</td>\n",
       "      <td>4.300000</td>\n",
       "      <td>19.464307</td>\n",
       "      <td>1.923908</td>\n",
       "      <td>10.399164</td>\n",
       "      <td>2018</td>\n",
       "      <td>MGI</td>\n",
       "      <td>G11</td>\n",
       "    </tr>\n",
       "    <tr>\n",
       "      <th>43</th>\n",
       "      <td>14.605325</td>\n",
       "      <td>9.605961</td>\n",
       "      <td>24.095448</td>\n",
       "      <td>1.685227</td>\n",
       "      <td>15.665780</td>\n",
       "      <td>13.318077</td>\n",
       "      <td>10.866667</td>\n",
       "      <td>24.184744</td>\n",
       "      <td>1.650528</td>\n",
       "      <td>15.753515</td>\n",
       "      <td>2018</td>\n",
       "      <td>MGI</td>\n",
       "      <td>G16</td>\n",
       "    </tr>\n",
       "    <tr>\n",
       "      <th>44</th>\n",
       "      <td>14.218815</td>\n",
       "      <td>3.534913</td>\n",
       "      <td>17.740553</td>\n",
       "      <td>1.897846</td>\n",
       "      <td>9.682011</td>\n",
       "      <td>14.581394</td>\n",
       "      <td>2.816667</td>\n",
       "      <td>17.398060</td>\n",
       "      <td>1.865450</td>\n",
       "      <td>9.564032</td>\n",
       "      <td>2018</td>\n",
       "      <td>MGI</td>\n",
       "      <td>G8</td>\n",
       "    </tr>\n",
       "    <tr>\n",
       "      <th>45</th>\n",
       "      <td>15.781483</td>\n",
       "      <td>7.640224</td>\n",
       "      <td>23.246796</td>\n",
       "      <td>1.957609</td>\n",
       "      <td>12.760609</td>\n",
       "      <td>15.763244</td>\n",
       "      <td>7.833333</td>\n",
       "      <td>23.596577</td>\n",
       "      <td>1.971321</td>\n",
       "      <td>12.858514</td>\n",
       "      <td>2018</td>\n",
       "      <td>NG</td>\n",
       "      <td>G17</td>\n",
       "    </tr>\n",
       "    <tr>\n",
       "      <th>46</th>\n",
       "      <td>16.148066</td>\n",
       "      <td>5.782255</td>\n",
       "      <td>21.947588</td>\n",
       "      <td>1.991812</td>\n",
       "      <td>11.542139</td>\n",
       "      <td>17.112143</td>\n",
       "      <td>5.566667</td>\n",
       "      <td>22.678810</td>\n",
       "      <td>2.017754</td>\n",
       "      <td>11.782797</td>\n",
       "      <td>2018</td>\n",
       "      <td>NG</td>\n",
       "      <td>G19</td>\n",
       "    </tr>\n",
       "    <tr>\n",
       "      <th>47</th>\n",
       "      <td>17.796316</td>\n",
       "      <td>5.633692</td>\n",
       "      <td>23.400948</td>\n",
       "      <td>2.150865</td>\n",
       "      <td>11.523883</td>\n",
       "      <td>18.032860</td>\n",
       "      <td>5.733333</td>\n",
       "      <td>23.766193</td>\n",
       "      <td>2.185436</td>\n",
       "      <td>11.483865</td>\n",
       "      <td>2018</td>\n",
       "      <td>NG</td>\n",
       "      <td>G21</td>\n",
       "    </tr>\n",
       "    <tr>\n",
       "      <th>48</th>\n",
       "      <td>16.270672</td>\n",
       "      <td>4.152931</td>\n",
       "      <td>20.366777</td>\n",
       "      <td>2.071357</td>\n",
       "      <td>9.814958</td>\n",
       "      <td>16.691900</td>\n",
       "      <td>3.564700</td>\n",
       "      <td>20.256600</td>\n",
       "      <td>2.102850</td>\n",
       "      <td>9.632927</td>\n",
       "      <td>2020</td>\n",
       "      <td>HGI</td>\n",
       "      <td>G13</td>\n",
       "    </tr>\n",
       "    <tr>\n",
       "      <th>49</th>\n",
       "      <td>15.710482</td>\n",
       "      <td>4.964836</td>\n",
       "      <td>20.782984</td>\n",
       "      <td>2.061341</td>\n",
       "      <td>10.173648</td>\n",
       "      <td>15.969600</td>\n",
       "      <td>4.657050</td>\n",
       "      <td>20.626650</td>\n",
       "      <td>2.054600</td>\n",
       "      <td>10.039253</td>\n",
       "      <td>2020</td>\n",
       "      <td>HGI</td>\n",
       "      <td>G20</td>\n",
       "    </tr>\n",
       "    <tr>\n",
       "      <th>50</th>\n",
       "      <td>16.954660</td>\n",
       "      <td>3.325565</td>\n",
       "      <td>20.302307</td>\n",
       "      <td>2.233013</td>\n",
       "      <td>8.897947</td>\n",
       "      <td>17.200000</td>\n",
       "      <td>3.122150</td>\n",
       "      <td>20.322150</td>\n",
       "      <td>2.236950</td>\n",
       "      <td>9.084758</td>\n",
       "      <td>2020</td>\n",
       "      <td>HGI</td>\n",
       "      <td>G9</td>\n",
       "    </tr>\n",
       "    <tr>\n",
       "      <th>51</th>\n",
       "      <td>15.769967</td>\n",
       "      <td>4.261866</td>\n",
       "      <td>19.992495</td>\n",
       "      <td>1.968438</td>\n",
       "      <td>10.349296</td>\n",
       "      <td>16.185800</td>\n",
       "      <td>3.802900</td>\n",
       "      <td>19.988700</td>\n",
       "      <td>1.944800</td>\n",
       "      <td>10.278023</td>\n",
       "      <td>2020</td>\n",
       "      <td>LGI</td>\n",
       "      <td>G12</td>\n",
       "    </tr>\n",
       "    <tr>\n",
       "      <th>52</th>\n",
       "      <td>18.748243</td>\n",
       "      <td>7.424076</td>\n",
       "      <td>26.169689</td>\n",
       "      <td>2.231877</td>\n",
       "      <td>11.893584</td>\n",
       "      <td>19.306000</td>\n",
       "      <td>7.207300</td>\n",
       "      <td>26.513300</td>\n",
       "      <td>2.257150</td>\n",
       "      <td>11.746362</td>\n",
       "      <td>2020</td>\n",
       "      <td>LGI</td>\n",
       "      <td>G18</td>\n",
       "    </tr>\n",
       "    <tr>\n",
       "      <th>53</th>\n",
       "      <td>14.593416</td>\n",
       "      <td>3.611246</td>\n",
       "      <td>18.206852</td>\n",
       "      <td>2.018136</td>\n",
       "      <td>9.046101</td>\n",
       "      <td>14.789650</td>\n",
       "      <td>3.001200</td>\n",
       "      <td>17.790850</td>\n",
       "      <td>2.016500</td>\n",
       "      <td>8.822638</td>\n",
       "      <td>2020</td>\n",
       "      <td>LGI</td>\n",
       "      <td>G6</td>\n",
       "    </tr>\n",
       "    <tr>\n",
       "      <th>54</th>\n",
       "      <td>15.243569</td>\n",
       "      <td>3.526744</td>\n",
       "      <td>18.793062</td>\n",
       "      <td>2.019583</td>\n",
       "      <td>9.230879</td>\n",
       "      <td>14.744350</td>\n",
       "      <td>3.353600</td>\n",
       "      <td>18.097950</td>\n",
       "      <td>1.961450</td>\n",
       "      <td>9.226822</td>\n",
       "      <td>2020</td>\n",
       "      <td>MGI</td>\n",
       "      <td>G11</td>\n",
       "    </tr>\n",
       "    <tr>\n",
       "      <th>55</th>\n",
       "      <td>15.213900</td>\n",
       "      <td>8.836151</td>\n",
       "      <td>23.782000</td>\n",
       "      <td>1.798210</td>\n",
       "      <td>14.637416</td>\n",
       "      <td>14.777000</td>\n",
       "      <td>9.819450</td>\n",
       "      <td>24.596450</td>\n",
       "      <td>1.712250</td>\n",
       "      <td>14.364988</td>\n",
       "      <td>2020</td>\n",
       "      <td>MGI</td>\n",
       "      <td>G16</td>\n",
       "    </tr>\n",
       "    <tr>\n",
       "      <th>56</th>\n",
       "      <td>14.763563</td>\n",
       "      <td>2.542044</td>\n",
       "      <td>17.146406</td>\n",
       "      <td>2.017961</td>\n",
       "      <td>8.559019</td>\n",
       "      <td>14.442100</td>\n",
       "      <td>1.885500</td>\n",
       "      <td>16.327600</td>\n",
       "      <td>1.941050</td>\n",
       "      <td>8.411736</td>\n",
       "      <td>2020</td>\n",
       "      <td>MGI</td>\n",
       "      <td>G8</td>\n",
       "    </tr>\n",
       "    <tr>\n",
       "      <th>57</th>\n",
       "      <td>16.330399</td>\n",
       "      <td>6.553988</td>\n",
       "      <td>22.644939</td>\n",
       "      <td>2.067219</td>\n",
       "      <td>11.595842</td>\n",
       "      <td>16.858300</td>\n",
       "      <td>6.086750</td>\n",
       "      <td>22.945050</td>\n",
       "      <td>2.115200</td>\n",
       "      <td>10.847698</td>\n",
       "      <td>2020</td>\n",
       "      <td>NG</td>\n",
       "      <td>G17</td>\n",
       "    </tr>\n",
       "    <tr>\n",
       "      <th>58</th>\n",
       "      <td>16.780357</td>\n",
       "      <td>4.801277</td>\n",
       "      <td>21.590738</td>\n",
       "      <td>2.110750</td>\n",
       "      <td>10.411075</td>\n",
       "      <td>17.298500</td>\n",
       "      <td>4.301450</td>\n",
       "      <td>21.599950</td>\n",
       "      <td>2.198050</td>\n",
       "      <td>9.826869</td>\n",
       "      <td>2020</td>\n",
       "      <td>NG</td>\n",
       "      <td>G19</td>\n",
       "    </tr>\n",
       "    <tr>\n",
       "      <th>59</th>\n",
       "      <td>18.261538</td>\n",
       "      <td>4.865082</td>\n",
       "      <td>23.031303</td>\n",
       "      <td>2.254426</td>\n",
       "      <td>10.549723</td>\n",
       "      <td>20.133500</td>\n",
       "      <td>4.064900</td>\n",
       "      <td>24.198400</td>\n",
       "      <td>2.431150</td>\n",
       "      <td>9.953479</td>\n",
       "      <td>2020</td>\n",
       "      <td>NG</td>\n",
       "      <td>G21</td>\n",
       "    </tr>\n",
       "  </tbody>\n",
       "</table>\n",
       "</div>"
      ],
      "text/plain": [
       "    SOC土壤有机碳预测值  SIC土壤无机碳预测值  STC土壤全碳预测值    全氮N预测值  土壤C/N比预测值  SOC土壤有机碳真实值  \\\n",
       "0     12.122268    11.575859   23.692497  1.379817  17.385387    12.164092   \n",
       "1     13.064907    10.846013   23.913933  1.752497  14.240614    13.066348   \n",
       "2     13.439795    11.956115   25.381880  1.645841  17.062847    13.474534   \n",
       "3     12.447754    10.512358   22.960102  1.649705  14.455209    12.469286   \n",
       "4     11.982439     8.995665   20.960686  1.534310  14.018139    12.021940   \n",
       "5     14.293139    13.964771   28.263794  1.896250  15.186458    14.327432   \n",
       "6     14.203217     6.735074   20.937208  1.749234  12.499669    14.226167   \n",
       "7     11.603613     8.975295   20.569450  1.695117  12.410774    11.638731   \n",
       "8     13.630177     9.585060   23.223536  1.762683  13.436836    13.677481   \n",
       "9     13.944776    10.976393   24.914967  1.658313  16.019949    13.973544   \n",
       "10    14.901679    11.047945   25.943069  1.428714  18.992363    14.920517   \n",
       "11    11.945843    10.010395   21.953228  1.495229  15.703820    11.992698   \n",
       "12    12.863771     8.156568   21.041849  1.661469  13.318093    12.926788   \n",
       "13    16.107401    11.856057   27.939167  1.767546  16.624872    16.363304   \n",
       "14    12.682543     9.809163   22.472845  1.405890  16.453739    12.735764   \n",
       "15    14.473921    10.015599   24.427145  1.715827  14.554517    14.481356   \n",
       "16    13.560246    12.221011   25.745537  1.715626  15.383009    13.633970   \n",
       "17    14.505890     9.468392   23.979347  1.653686  15.323114    14.609238   \n",
       "18    14.689633     7.987407   22.565264  1.747604  13.456949    14.984899   \n",
       "19    12.421684    11.442656   23.855354  1.402717  17.693487    12.446268   \n",
       "20    14.852275     7.322114   22.197886  1.703065  13.563931    14.968442   \n",
       "21    13.745381    10.974467   24.779509  1.634332  15.886498    13.747096   \n",
       "22    15.580167     7.488419   23.177561  1.689802  14.168619    15.735176   \n",
       "23    14.035495     8.927324   22.878513  1.671932  14.210487    14.113490   \n",
       "24    15.191704     5.747557   20.950865  1.858307  11.879012    15.968152   \n",
       "25    15.047415     7.790807   22.754955  1.878998  12.793108    14.284230   \n",
       "26    14.304828     7.354918   21.667498  1.766415  13.023094    14.502588   \n",
       "27    14.932337     6.103156   21.145367  1.811694  12.114189    15.418321   \n",
       "28    16.340717     8.610598   25.060873  1.932340  13.726465    16.624699   \n",
       "29    14.237224     6.519501   20.784899  1.809017  12.196472    14.317466   \n",
       "30    13.772732     5.427501   19.316521  1.763841  11.386473    13.270261   \n",
       "31    14.209268     9.658367   23.989210  1.570275  16.577723    15.845344   \n",
       "32    14.214107     5.796339   20.028061  1.795103  11.572125    14.028019   \n",
       "33    15.347246     8.443896   23.908474  1.832225  14.041014    15.679023   \n",
       "34    15.341636     6.674002   21.974499  1.837425  12.600430    14.618971   \n",
       "35    15.802818     6.391303   22.376450  1.891271  12.703305    15.834895   \n",
       "36    15.651854     4.960747   20.590626  1.957616  10.872556    15.033399   \n",
       "37    15.360139     6.296343   21.726978  1.969459  11.449873    16.044890   \n",
       "38    15.826181     4.823346   20.662609  2.029222  10.542479    15.855964   \n",
       "39    15.261518     5.213741   20.494707  1.869426  11.375092    14.919320   \n",
       "40    17.560568     8.009800   25.627939  2.082177  12.816585    17.091615   \n",
       "41    14.499103     4.946773   19.492575  1.923760  10.560895    14.799450   \n",
       "42    14.629663     4.340859   19.051825  1.906096  10.227970    15.164307   \n",
       "43    14.605325     9.605961   24.095448  1.685227  15.665780    13.318077   \n",
       "44    14.218815     3.534913   17.740553  1.897846   9.682011    14.581394   \n",
       "45    15.781483     7.640224   23.246796  1.957609  12.760609    15.763244   \n",
       "46    16.148066     5.782255   21.947588  1.991812  11.542139    17.112143   \n",
       "47    17.796316     5.633692   23.400948  2.150865  11.523883    18.032860   \n",
       "48    16.270672     4.152931   20.366777  2.071357   9.814958    16.691900   \n",
       "49    15.710482     4.964836   20.782984  2.061341  10.173648    15.969600   \n",
       "50    16.954660     3.325565   20.302307  2.233013   8.897947    17.200000   \n",
       "51    15.769967     4.261866   19.992495  1.968438  10.349296    16.185800   \n",
       "52    18.748243     7.424076   26.169689  2.231877  11.893584    19.306000   \n",
       "53    14.593416     3.611246   18.206852  2.018136   9.046101    14.789650   \n",
       "54    15.243569     3.526744   18.793062  2.019583   9.230879    14.744350   \n",
       "55    15.213900     8.836151   23.782000  1.798210  14.637416    14.777000   \n",
       "56    14.763563     2.542044   17.146406  2.017961   8.559019    14.442100   \n",
       "57    16.330399     6.553988   22.644939  2.067219  11.595842    16.858300   \n",
       "58    16.780357     4.801277   21.590738  2.110750  10.411075    17.298500   \n",
       "59    18.261538     4.865082   23.031303  2.254426  10.549723    20.133500   \n",
       "\n",
       "    SIC土壤无机碳真实值  STC土壤全碳真实值    全氮N真实值  土壤C/N比真实值  year 放牧强度（intensity）  \\\n",
       "0     11.550000   23.714092  1.378942  17.394695  2012             HGI   \n",
       "1     10.849667   23.916014  1.752764  14.245073  2012             HGI   \n",
       "2     11.875000   25.349534  1.648023  17.020659  2012             HGI   \n",
       "3     10.491667   22.960953  1.648516  14.458516  2012             LGI   \n",
       "4      8.925000   20.946940  1.537228  13.980016  2012             LGI   \n",
       "5     13.958333   28.285766  1.895496  15.199783  2012             LGI   \n",
       "6      6.712500   20.938667  1.749771  12.481757  2012             MGI   \n",
       "7      8.950000   20.588731  1.698386  12.383591  2012             MGI   \n",
       "8      9.541667   23.219148  1.763731  13.412295  2012             MGI   \n",
       "9     10.950000   24.923544  1.659076  16.012928  2012              NG   \n",
       "10    11.041667   25.962183  1.429206  18.991705  2012              NG   \n",
       "11     9.925000   21.917698  1.498846  15.644976  2012              NG   \n",
       "12     8.125000   21.051788  1.657668  13.352374  2014             HGI   \n",
       "13    11.775000   28.138304  1.750125  16.656109  2014             HGI   \n",
       "14     9.600000   22.335764  1.374505  16.695900  2014             HGI   \n",
       "15     9.975000   24.456356  1.719360  14.564788  2014             LGI   \n",
       "16    12.350000   25.983970  1.725681  15.418518  2014             LGI   \n",
       "17     9.391500   24.000738  1.650619  15.370425  2014             LGI   \n",
       "18     7.900000   22.884899  1.753217  13.573176  2014             MGI   \n",
       "19    11.500000   23.946268  1.400305  17.794122  2014             MGI   \n",
       "20     7.150000   22.118442  1.694780  13.509831  2014             MGI   \n",
       "21    11.100000   24.847096  1.641051  15.823591  2014              NG   \n",
       "22     7.500000   23.235176  1.700185  14.103612  2014              NG   \n",
       "23     8.900000   23.013490  1.682001  14.194633  2014              NG   \n",
       "24     5.333333   21.301485  1.882645  11.844474  2016             HGI   \n",
       "25     7.727778   22.012008  1.918901  12.394791  2016             HGI   \n",
       "26     7.783333   22.285921  1.836641  12.799613  2016             HGI   \n",
       "27     5.295000   20.713321  1.840574  11.820231  2016             LGI   \n",
       "28     7.694444   24.319144  1.899060  13.570944  2016             LGI   \n",
       "29     6.300000   20.617466  1.812071  12.143385  2016             LGI   \n",
       "30     5.484444   18.754705  1.739910  11.223092  2016             MGI   \n",
       "31     8.216667   24.062011  1.609849  16.500021  2016             MGI   \n",
       "32     6.700000   20.728019  1.833418  11.945595  2016             MGI   \n",
       "33     7.983333   23.662356  1.813318  14.102624  2016              NG   \n",
       "34     6.675556   21.294526  1.803798  12.600770  2016              NG   \n",
       "35     6.233333   22.068228  1.855074  12.888815  2016              NG   \n",
       "36     5.650000   20.683399  1.906732  11.251682  2018             HGI   \n",
       "37     6.466667   22.511557  1.953936  12.078220  2018             HGI   \n",
       "38     4.700000   20.555964  1.977365  10.667016  2018             HGI   \n",
       "39     6.250000   21.169320  1.855670  11.910043  2018             LGI   \n",
       "40     8.733333   25.824948  2.069111  13.305531  2018             LGI   \n",
       "41     5.500000   20.299450  1.930055  10.994639  2018             LGI   \n",
       "42     4.300000   19.464307  1.923908  10.399164  2018             MGI   \n",
       "43    10.866667   24.184744  1.650528  15.753515  2018             MGI   \n",
       "44     2.816667   17.398060  1.865450   9.564032  2018             MGI   \n",
       "45     7.833333   23.596577  1.971321  12.858514  2018              NG   \n",
       "46     5.566667   22.678810  2.017754  11.782797  2018              NG   \n",
       "47     5.733333   23.766193  2.185436  11.483865  2018              NG   \n",
       "48     3.564700   20.256600  2.102850   9.632927  2020             HGI   \n",
       "49     4.657050   20.626650  2.054600  10.039253  2020             HGI   \n",
       "50     3.122150   20.322150  2.236950   9.084758  2020             HGI   \n",
       "51     3.802900   19.988700  1.944800  10.278023  2020             LGI   \n",
       "52     7.207300   26.513300  2.257150  11.746362  2020             LGI   \n",
       "53     3.001200   17.790850  2.016500   8.822638  2020             LGI   \n",
       "54     3.353600   18.097950  1.961450   9.226822  2020             MGI   \n",
       "55     9.819450   24.596450  1.712250  14.364988  2020             MGI   \n",
       "56     1.885500   16.327600  1.941050   8.411736  2020             MGI   \n",
       "57     6.086750   22.945050  2.115200  10.847698  2020              NG   \n",
       "58     4.301450   21.599950  2.198050   9.826869  2020              NG   \n",
       "59     4.064900   24.198400  2.431150   9.953479  2020              NG   \n",
       "\n",
       "   放牧小区（plot）  \n",
       "0         G13  \n",
       "1         G20  \n",
       "2          G9  \n",
       "3         G12  \n",
       "4         G18  \n",
       "5          G6  \n",
       "6         G11  \n",
       "7         G16  \n",
       "8          G8  \n",
       "9         G17  \n",
       "10        G19  \n",
       "11        G21  \n",
       "12        G13  \n",
       "13        G20  \n",
       "14         G9  \n",
       "15        G12  \n",
       "16        G18  \n",
       "17         G6  \n",
       "18        G11  \n",
       "19        G16  \n",
       "20         G8  \n",
       "21        G17  \n",
       "22        G19  \n",
       "23        G21  \n",
       "24        G13  \n",
       "25        G20  \n",
       "26         G9  \n",
       "27        G12  \n",
       "28        G18  \n",
       "29         G6  \n",
       "30        G11  \n",
       "31        G16  \n",
       "32         G8  \n",
       "33        G17  \n",
       "34        G19  \n",
       "35        G21  \n",
       "36        G13  \n",
       "37        G20  \n",
       "38         G9  \n",
       "39        G12  \n",
       "40        G18  \n",
       "41         G6  \n",
       "42        G11  \n",
       "43        G16  \n",
       "44         G8  \n",
       "45        G17  \n",
       "46        G19  \n",
       "47        G21  \n",
       "48        G13  \n",
       "49        G20  \n",
       "50         G9  \n",
       "51        G12  \n",
       "52        G18  \n",
       "53         G6  \n",
       "54        G11  \n",
       "55        G16  \n",
       "56         G8  \n",
       "57        G17  \n",
       "58        G19  \n",
       "59        G21  "
      ]
     },
     "execution_count": 34,
     "metadata": {},
     "output_type": "execute_result"
    }
   ],
   "source": [
    "pred=model.predict(df_INPUT.values)\n",
    "df_pred=pd.DataFrame(data=pred, columns=df_NUMERIC.columns)\n",
    "df_pred[:]=scaler.inverse_transform(df_pred.values)\n",
    "df_gnd=pd.DataFrame(data=scaler.inverse_transform(df_NUMERIC),columns=df_NUMERIC.columns)\n",
    "PRED,GND='预测值','真实值'\n",
    "df=df_pred.join(df_gnd, rsuffix=GND, lsuffix=PRED).join(df_INDEX)\n",
    "df.to_csv('问题3-预测结果-训练集.csv', index=False)\n",
    "df"
   ]
  },
  {
   "cell_type": "markdown",
   "id": "2915c8b6",
   "metadata": {},
   "source": [
    "## 全体训练样本上的拟合效果"
   ]
  },
  {
   "cell_type": "code",
   "execution_count": 35,
   "id": "01361338",
   "metadata": {},
   "outputs": [],
   "source": [
    "def plotPredGndSample(name, df):\n",
    "    return px.line(df, y=[name+GND, name+PRED]\n",
    "                  ).update_layout(title=f'{name}拟合效果',\n",
    "                                  legend_title='预测值/真实值',yaxis_title='取值',xaxis_title='样本')\n",
    "    "
   ]
  },
  {
   "cell_type": "code",
   "execution_count": 36,
   "id": "22563d09",
   "metadata": {},
   "outputs": [
    {
     "data": {
      "application/vnd.plotly.v1+json": {
       "config": {
        "plotlyServerURL": "https://plot.ly"
       },
       "data": [
        {
         "hovertemplate": "variable=SOC土壤有机碳真实值<br>index=%{x}<br>value=%{y}<extra></extra>",
         "legendgroup": "SOC土壤有机碳真实值",
         "line": {
          "color": "#636efa",
          "dash": "solid"
         },
         "marker": {
          "symbol": "circle"
         },
         "mode": "lines",
         "name": "SOC土壤有机碳真实值",
         "orientation": "v",
         "showlegend": true,
         "type": "scatter",
         "x": [
          0,
          1,
          2,
          3,
          4,
          5,
          6,
          7,
          8,
          9,
          10,
          11,
          12,
          13,
          14,
          15,
          16,
          17,
          18,
          19,
          20,
          21,
          22,
          23,
          24,
          25,
          26,
          27,
          28,
          29,
          30,
          31,
          32,
          33,
          34,
          35,
          36,
          37,
          38,
          39,
          40,
          41,
          42,
          43,
          44,
          45,
          46,
          47,
          48,
          49,
          50,
          51,
          52,
          53,
          54,
          55,
          56,
          57,
          58,
          59
         ],
         "xaxis": "x",
         "y": [
          12.164091777801524,
          13.066347766240431,
          13.4745335539182,
          12.46928615172705,
          12.021939885616316,
          14.3274323940277,
          14.2261673569679,
          11.638730871677382,
          13.677481174469,
          13.97354363203045,
          14.9205165108045,
          11.99269786675769,
          12.9267883300781,
          16.363304352760302,
          12.735764467716216,
          14.48135557174685,
          13.6339701652527,
          14.60923766708375,
          14.98489907979965,
          12.44626766443252,
          14.968442058563202,
          13.74709560871125,
          15.735175609588651,
          14.11348984241485,
          15.9681517680486,
          14.28422974480523,
          14.502588041623447,
          15.418320771853132,
          16.6246992482079,
          14.3174655755361,
          13.270260547531969,
          15.845344376564,
          14.028018879890434,
          15.6790230035782,
          14.618970703548866,
          15.834894990921034,
          15.033399240175902,
          16.044890077908832,
          15.855964112281802,
          14.9193203449249,
          17.091614818573,
          14.799450160631167,
          15.1643074274063,
          13.318077294031768,
          14.5813936948776,
          15.763243913650498,
          17.1121432940165,
          18.032859659194965,
          16.6919,
          15.9696,
          17.2,
          16.1858,
          19.306,
          14.78965,
          14.74435,
          14.777,
          14.4421,
          16.8583,
          17.2985,
          20.1335
         ],
         "yaxis": "y"
        },
        {
         "hovertemplate": "variable=SOC土壤有机碳预测值<br>index=%{x}<br>value=%{y}<extra></extra>",
         "legendgroup": "SOC土壤有机碳预测值",
         "line": {
          "color": "#EF553B",
          "dash": "solid"
         },
         "marker": {
          "symbol": "circle"
         },
         "mode": "lines",
         "name": "SOC土壤有机碳预测值",
         "orientation": "v",
         "showlegend": true,
         "type": "scatter",
         "x": [
          0,
          1,
          2,
          3,
          4,
          5,
          6,
          7,
          8,
          9,
          10,
          11,
          12,
          13,
          14,
          15,
          16,
          17,
          18,
          19,
          20,
          21,
          22,
          23,
          24,
          25,
          26,
          27,
          28,
          29,
          30,
          31,
          32,
          33,
          34,
          35,
          36,
          37,
          38,
          39,
          40,
          41,
          42,
          43,
          44,
          45,
          46,
          47,
          48,
          49,
          50,
          51,
          52,
          53,
          54,
          55,
          56,
          57,
          58,
          59
         ],
         "xaxis": "x",
         "y": [
          12.122267723083496,
          13.06490707397461,
          13.439794540405273,
          12.44775390625,
          11.982439041137695,
          14.293139457702637,
          14.203216552734375,
          11.603612899780273,
          13.630176544189453,
          13.944775581359863,
          14.901679039001465,
          11.945842742919922,
          12.863771438598633,
          16.10740089416504,
          12.68254280090332,
          14.473920822143555,
          13.560245513916016,
          14.505889892578125,
          14.6896333694458,
          12.421684265136719,
          14.852274894714355,
          13.745381355285645,
          15.580166816711426,
          14.035494804382324,
          15.191703796386719,
          15.047414779663086,
          14.304827690124512,
          14.932336807250977,
          16.340717315673828,
          14.237223625183105,
          13.77273178100586,
          14.209267616271973,
          14.214106559753418,
          15.347246170043945,
          15.341635704040527,
          15.802818298339844,
          15.651853561401367,
          15.360138893127441,
          15.826181411743164,
          15.261517524719238,
          17.56056785583496,
          14.499102592468262,
          14.629663467407227,
          14.605324745178223,
          14.218814849853516,
          15.781482696533203,
          16.1480655670166,
          17.796316146850586,
          16.270671844482422,
          15.710481643676758,
          16.954660415649414,
          15.769967079162598,
          18.74824333190918,
          14.593416213989258,
          15.243569374084473,
          15.213899612426758,
          14.76356315612793,
          16.330398559570312,
          16.780357360839844,
          18.261537551879883
         ],
         "yaxis": "y"
        }
       ],
       "layout": {
        "legend": {
         "title": {
          "text": "预测值/真实值"
         },
         "tracegroupgap": 0
        },
        "margin": {
         "t": 60
        },
        "template": {
         "data": {
          "bar": [
           {
            "error_x": {
             "color": "#2a3f5f"
            },
            "error_y": {
             "color": "#2a3f5f"
            },
            "marker": {
             "line": {
              "color": "#E5ECF6",
              "width": 0.5
             },
             "pattern": {
              "fillmode": "overlay",
              "size": 10,
              "solidity": 0.2
             }
            },
            "type": "bar"
           }
          ],
          "barpolar": [
           {
            "marker": {
             "line": {
              "color": "#E5ECF6",
              "width": 0.5
             },
             "pattern": {
              "fillmode": "overlay",
              "size": 10,
              "solidity": 0.2
             }
            },
            "type": "barpolar"
           }
          ],
          "carpet": [
           {
            "aaxis": {
             "endlinecolor": "#2a3f5f",
             "gridcolor": "white",
             "linecolor": "white",
             "minorgridcolor": "white",
             "startlinecolor": "#2a3f5f"
            },
            "baxis": {
             "endlinecolor": "#2a3f5f",
             "gridcolor": "white",
             "linecolor": "white",
             "minorgridcolor": "white",
             "startlinecolor": "#2a3f5f"
            },
            "type": "carpet"
           }
          ],
          "choropleth": [
           {
            "colorbar": {
             "outlinewidth": 0,
             "ticks": ""
            },
            "type": "choropleth"
           }
          ],
          "contour": [
           {
            "colorbar": {
             "outlinewidth": 0,
             "ticks": ""
            },
            "colorscale": [
             [
              0,
              "#0d0887"
             ],
             [
              0.1111111111111111,
              "#46039f"
             ],
             [
              0.2222222222222222,
              "#7201a8"
             ],
             [
              0.3333333333333333,
              "#9c179e"
             ],
             [
              0.4444444444444444,
              "#bd3786"
             ],
             [
              0.5555555555555556,
              "#d8576b"
             ],
             [
              0.6666666666666666,
              "#ed7953"
             ],
             [
              0.7777777777777778,
              "#fb9f3a"
             ],
             [
              0.8888888888888888,
              "#fdca26"
             ],
             [
              1,
              "#f0f921"
             ]
            ],
            "type": "contour"
           }
          ],
          "contourcarpet": [
           {
            "colorbar": {
             "outlinewidth": 0,
             "ticks": ""
            },
            "type": "contourcarpet"
           }
          ],
          "heatmap": [
           {
            "colorbar": {
             "outlinewidth": 0,
             "ticks": ""
            },
            "colorscale": [
             [
              0,
              "#0d0887"
             ],
             [
              0.1111111111111111,
              "#46039f"
             ],
             [
              0.2222222222222222,
              "#7201a8"
             ],
             [
              0.3333333333333333,
              "#9c179e"
             ],
             [
              0.4444444444444444,
              "#bd3786"
             ],
             [
              0.5555555555555556,
              "#d8576b"
             ],
             [
              0.6666666666666666,
              "#ed7953"
             ],
             [
              0.7777777777777778,
              "#fb9f3a"
             ],
             [
              0.8888888888888888,
              "#fdca26"
             ],
             [
              1,
              "#f0f921"
             ]
            ],
            "type": "heatmap"
           }
          ],
          "heatmapgl": [
           {
            "colorbar": {
             "outlinewidth": 0,
             "ticks": ""
            },
            "colorscale": [
             [
              0,
              "#0d0887"
             ],
             [
              0.1111111111111111,
              "#46039f"
             ],
             [
              0.2222222222222222,
              "#7201a8"
             ],
             [
              0.3333333333333333,
              "#9c179e"
             ],
             [
              0.4444444444444444,
              "#bd3786"
             ],
             [
              0.5555555555555556,
              "#d8576b"
             ],
             [
              0.6666666666666666,
              "#ed7953"
             ],
             [
              0.7777777777777778,
              "#fb9f3a"
             ],
             [
              0.8888888888888888,
              "#fdca26"
             ],
             [
              1,
              "#f0f921"
             ]
            ],
            "type": "heatmapgl"
           }
          ],
          "histogram": [
           {
            "marker": {
             "pattern": {
              "fillmode": "overlay",
              "size": 10,
              "solidity": 0.2
             }
            },
            "type": "histogram"
           }
          ],
          "histogram2d": [
           {
            "colorbar": {
             "outlinewidth": 0,
             "ticks": ""
            },
            "colorscale": [
             [
              0,
              "#0d0887"
             ],
             [
              0.1111111111111111,
              "#46039f"
             ],
             [
              0.2222222222222222,
              "#7201a8"
             ],
             [
              0.3333333333333333,
              "#9c179e"
             ],
             [
              0.4444444444444444,
              "#bd3786"
             ],
             [
              0.5555555555555556,
              "#d8576b"
             ],
             [
              0.6666666666666666,
              "#ed7953"
             ],
             [
              0.7777777777777778,
              "#fb9f3a"
             ],
             [
              0.8888888888888888,
              "#fdca26"
             ],
             [
              1,
              "#f0f921"
             ]
            ],
            "type": "histogram2d"
           }
          ],
          "histogram2dcontour": [
           {
            "colorbar": {
             "outlinewidth": 0,
             "ticks": ""
            },
            "colorscale": [
             [
              0,
              "#0d0887"
             ],
             [
              0.1111111111111111,
              "#46039f"
             ],
             [
              0.2222222222222222,
              "#7201a8"
             ],
             [
              0.3333333333333333,
              "#9c179e"
             ],
             [
              0.4444444444444444,
              "#bd3786"
             ],
             [
              0.5555555555555556,
              "#d8576b"
             ],
             [
              0.6666666666666666,
              "#ed7953"
             ],
             [
              0.7777777777777778,
              "#fb9f3a"
             ],
             [
              0.8888888888888888,
              "#fdca26"
             ],
             [
              1,
              "#f0f921"
             ]
            ],
            "type": "histogram2dcontour"
           }
          ],
          "mesh3d": [
           {
            "colorbar": {
             "outlinewidth": 0,
             "ticks": ""
            },
            "type": "mesh3d"
           }
          ],
          "parcoords": [
           {
            "line": {
             "colorbar": {
              "outlinewidth": 0,
              "ticks": ""
             }
            },
            "type": "parcoords"
           }
          ],
          "pie": [
           {
            "automargin": true,
            "type": "pie"
           }
          ],
          "scatter": [
           {
            "fillpattern": {
             "fillmode": "overlay",
             "size": 10,
             "solidity": 0.2
            },
            "type": "scatter"
           }
          ],
          "scatter3d": [
           {
            "line": {
             "colorbar": {
              "outlinewidth": 0,
              "ticks": ""
             }
            },
            "marker": {
             "colorbar": {
              "outlinewidth": 0,
              "ticks": ""
             }
            },
            "type": "scatter3d"
           }
          ],
          "scattercarpet": [
           {
            "marker": {
             "colorbar": {
              "outlinewidth": 0,
              "ticks": ""
             }
            },
            "type": "scattercarpet"
           }
          ],
          "scattergeo": [
           {
            "marker": {
             "colorbar": {
              "outlinewidth": 0,
              "ticks": ""
             }
            },
            "type": "scattergeo"
           }
          ],
          "scattergl": [
           {
            "marker": {
             "colorbar": {
              "outlinewidth": 0,
              "ticks": ""
             }
            },
            "type": "scattergl"
           }
          ],
          "scattermapbox": [
           {
            "marker": {
             "colorbar": {
              "outlinewidth": 0,
              "ticks": ""
             }
            },
            "type": "scattermapbox"
           }
          ],
          "scatterpolar": [
           {
            "marker": {
             "colorbar": {
              "outlinewidth": 0,
              "ticks": ""
             }
            },
            "type": "scatterpolar"
           }
          ],
          "scatterpolargl": [
           {
            "marker": {
             "colorbar": {
              "outlinewidth": 0,
              "ticks": ""
             }
            },
            "type": "scatterpolargl"
           }
          ],
          "scatterternary": [
           {
            "marker": {
             "colorbar": {
              "outlinewidth": 0,
              "ticks": ""
             }
            },
            "type": "scatterternary"
           }
          ],
          "surface": [
           {
            "colorbar": {
             "outlinewidth": 0,
             "ticks": ""
            },
            "colorscale": [
             [
              0,
              "#0d0887"
             ],
             [
              0.1111111111111111,
              "#46039f"
             ],
             [
              0.2222222222222222,
              "#7201a8"
             ],
             [
              0.3333333333333333,
              "#9c179e"
             ],
             [
              0.4444444444444444,
              "#bd3786"
             ],
             [
              0.5555555555555556,
              "#d8576b"
             ],
             [
              0.6666666666666666,
              "#ed7953"
             ],
             [
              0.7777777777777778,
              "#fb9f3a"
             ],
             [
              0.8888888888888888,
              "#fdca26"
             ],
             [
              1,
              "#f0f921"
             ]
            ],
            "type": "surface"
           }
          ],
          "table": [
           {
            "cells": {
             "fill": {
              "color": "#EBF0F8"
             },
             "line": {
              "color": "white"
             }
            },
            "header": {
             "fill": {
              "color": "#C8D4E3"
             },
             "line": {
              "color": "white"
             }
            },
            "type": "table"
           }
          ]
         },
         "layout": {
          "annotationdefaults": {
           "arrowcolor": "#2a3f5f",
           "arrowhead": 0,
           "arrowwidth": 1
          },
          "autotypenumbers": "strict",
          "coloraxis": {
           "colorbar": {
            "outlinewidth": 0,
            "ticks": ""
           }
          },
          "colorscale": {
           "diverging": [
            [
             0,
             "#8e0152"
            ],
            [
             0.1,
             "#c51b7d"
            ],
            [
             0.2,
             "#de77ae"
            ],
            [
             0.3,
             "#f1b6da"
            ],
            [
             0.4,
             "#fde0ef"
            ],
            [
             0.5,
             "#f7f7f7"
            ],
            [
             0.6,
             "#e6f5d0"
            ],
            [
             0.7,
             "#b8e186"
            ],
            [
             0.8,
             "#7fbc41"
            ],
            [
             0.9,
             "#4d9221"
            ],
            [
             1,
             "#276419"
            ]
           ],
           "sequential": [
            [
             0,
             "#0d0887"
            ],
            [
             0.1111111111111111,
             "#46039f"
            ],
            [
             0.2222222222222222,
             "#7201a8"
            ],
            [
             0.3333333333333333,
             "#9c179e"
            ],
            [
             0.4444444444444444,
             "#bd3786"
            ],
            [
             0.5555555555555556,
             "#d8576b"
            ],
            [
             0.6666666666666666,
             "#ed7953"
            ],
            [
             0.7777777777777778,
             "#fb9f3a"
            ],
            [
             0.8888888888888888,
             "#fdca26"
            ],
            [
             1,
             "#f0f921"
            ]
           ],
           "sequentialminus": [
            [
             0,
             "#0d0887"
            ],
            [
             0.1111111111111111,
             "#46039f"
            ],
            [
             0.2222222222222222,
             "#7201a8"
            ],
            [
             0.3333333333333333,
             "#9c179e"
            ],
            [
             0.4444444444444444,
             "#bd3786"
            ],
            [
             0.5555555555555556,
             "#d8576b"
            ],
            [
             0.6666666666666666,
             "#ed7953"
            ],
            [
             0.7777777777777778,
             "#fb9f3a"
            ],
            [
             0.8888888888888888,
             "#fdca26"
            ],
            [
             1,
             "#f0f921"
            ]
           ]
          },
          "colorway": [
           "#636efa",
           "#EF553B",
           "#00cc96",
           "#ab63fa",
           "#FFA15A",
           "#19d3f3",
           "#FF6692",
           "#B6E880",
           "#FF97FF",
           "#FECB52"
          ],
          "font": {
           "color": "#2a3f5f"
          },
          "geo": {
           "bgcolor": "white",
           "lakecolor": "white",
           "landcolor": "#E5ECF6",
           "showlakes": true,
           "showland": true,
           "subunitcolor": "white"
          },
          "hoverlabel": {
           "align": "left"
          },
          "hovermode": "closest",
          "mapbox": {
           "style": "light"
          },
          "paper_bgcolor": "white",
          "plot_bgcolor": "#E5ECF6",
          "polar": {
           "angularaxis": {
            "gridcolor": "white",
            "linecolor": "white",
            "ticks": ""
           },
           "bgcolor": "#E5ECF6",
           "radialaxis": {
            "gridcolor": "white",
            "linecolor": "white",
            "ticks": ""
           }
          },
          "scene": {
           "xaxis": {
            "backgroundcolor": "#E5ECF6",
            "gridcolor": "white",
            "gridwidth": 2,
            "linecolor": "white",
            "showbackground": true,
            "ticks": "",
            "zerolinecolor": "white"
           },
           "yaxis": {
            "backgroundcolor": "#E5ECF6",
            "gridcolor": "white",
            "gridwidth": 2,
            "linecolor": "white",
            "showbackground": true,
            "ticks": "",
            "zerolinecolor": "white"
           },
           "zaxis": {
            "backgroundcolor": "#E5ECF6",
            "gridcolor": "white",
            "gridwidth": 2,
            "linecolor": "white",
            "showbackground": true,
            "ticks": "",
            "zerolinecolor": "white"
           }
          },
          "shapedefaults": {
           "line": {
            "color": "#2a3f5f"
           }
          },
          "ternary": {
           "aaxis": {
            "gridcolor": "white",
            "linecolor": "white",
            "ticks": ""
           },
           "baxis": {
            "gridcolor": "white",
            "linecolor": "white",
            "ticks": ""
           },
           "bgcolor": "#E5ECF6",
           "caxis": {
            "gridcolor": "white",
            "linecolor": "white",
            "ticks": ""
           }
          },
          "title": {
           "x": 0.05
          },
          "xaxis": {
           "automargin": true,
           "gridcolor": "white",
           "linecolor": "white",
           "ticks": "",
           "title": {
            "standoff": 15
           },
           "zerolinecolor": "white",
           "zerolinewidth": 2
          },
          "yaxis": {
           "automargin": true,
           "gridcolor": "white",
           "linecolor": "white",
           "ticks": "",
           "title": {
            "standoff": 15
           },
           "zerolinecolor": "white",
           "zerolinewidth": 2
          }
         }
        },
        "title": {
         "text": "SOC土壤有机碳拟合效果"
        },
        "xaxis": {
         "anchor": "y",
         "domain": [
          0,
          1
         ],
         "title": {
          "text": "样本"
         }
        },
        "yaxis": {
         "anchor": "x",
         "domain": [
          0,
          1
         ],
         "title": {
          "text": "取值"
         }
        }
       }
      },
      "text/html": [
       "<div>                            <div id=\"bbdcb277-4b56-49c1-a3ac-361389f3270b\" class=\"plotly-graph-div\" style=\"height:525px; width:100%;\"></div>            <script type=\"text/javascript\">                require([\"plotly\"], function(Plotly) {                    window.PLOTLYENV=window.PLOTLYENV || {};                                    if (document.getElementById(\"bbdcb277-4b56-49c1-a3ac-361389f3270b\")) {                    Plotly.newPlot(                        \"bbdcb277-4b56-49c1-a3ac-361389f3270b\",                        [{\"hovertemplate\":\"variable=SOC\\u571f\\u58e4\\u6709\\u673a\\u78b3\\u771f\\u5b9e\\u503c<br>index=%{x}<br>value=%{y}<extra></extra>\",\"legendgroup\":\"SOC\\u571f\\u58e4\\u6709\\u673a\\u78b3\\u771f\\u5b9e\\u503c\",\"line\":{\"color\":\"#636efa\",\"dash\":\"solid\"},\"marker\":{\"symbol\":\"circle\"},\"mode\":\"lines\",\"name\":\"SOC\\u571f\\u58e4\\u6709\\u673a\\u78b3\\u771f\\u5b9e\\u503c\",\"orientation\":\"v\",\"showlegend\":true,\"x\":[0,1,2,3,4,5,6,7,8,9,10,11,12,13,14,15,16,17,18,19,20,21,22,23,24,25,26,27,28,29,30,31,32,33,34,35,36,37,38,39,40,41,42,43,44,45,46,47,48,49,50,51,52,53,54,55,56,57,58,59],\"xaxis\":\"x\",\"y\":[12.164091777801524,13.066347766240431,13.4745335539182,12.46928615172705,12.021939885616316,14.3274323940277,14.2261673569679,11.638730871677382,13.677481174469,13.97354363203045,14.9205165108045,11.99269786675769,12.9267883300781,16.363304352760302,12.735764467716216,14.48135557174685,13.6339701652527,14.60923766708375,14.98489907979965,12.44626766443252,14.968442058563202,13.74709560871125,15.735175609588651,14.11348984241485,15.9681517680486,14.28422974480523,14.502588041623447,15.418320771853132,16.6246992482079,14.3174655755361,13.270260547531969,15.845344376564,14.028018879890434,15.6790230035782,14.618970703548866,15.834894990921034,15.033399240175902,16.044890077908832,15.855964112281802,14.9193203449249,17.091614818573,14.799450160631167,15.1643074274063,13.318077294031768,14.5813936948776,15.763243913650498,17.1121432940165,18.032859659194965,16.6919,15.9696,17.2,16.1858,19.306,14.78965,14.74435,14.777,14.4421,16.8583,17.2985,20.1335],\"yaxis\":\"y\",\"type\":\"scatter\"},{\"hovertemplate\":\"variable=SOC\\u571f\\u58e4\\u6709\\u673a\\u78b3\\u9884\\u6d4b\\u503c<br>index=%{x}<br>value=%{y}<extra></extra>\",\"legendgroup\":\"SOC\\u571f\\u58e4\\u6709\\u673a\\u78b3\\u9884\\u6d4b\\u503c\",\"line\":{\"color\":\"#EF553B\",\"dash\":\"solid\"},\"marker\":{\"symbol\":\"circle\"},\"mode\":\"lines\",\"name\":\"SOC\\u571f\\u58e4\\u6709\\u673a\\u78b3\\u9884\\u6d4b\\u503c\",\"orientation\":\"v\",\"showlegend\":true,\"x\":[0,1,2,3,4,5,6,7,8,9,10,11,12,13,14,15,16,17,18,19,20,21,22,23,24,25,26,27,28,29,30,31,32,33,34,35,36,37,38,39,40,41,42,43,44,45,46,47,48,49,50,51,52,53,54,55,56,57,58,59],\"xaxis\":\"x\",\"y\":[12.122267723083496,13.06490707397461,13.439794540405273,12.44775390625,11.982439041137695,14.293139457702637,14.203216552734375,11.603612899780273,13.630176544189453,13.944775581359863,14.901679039001465,11.945842742919922,12.863771438598633,16.10740089416504,12.68254280090332,14.473920822143555,13.560245513916016,14.505889892578125,14.6896333694458,12.421684265136719,14.852274894714355,13.745381355285645,15.580166816711426,14.035494804382324,15.191703796386719,15.047414779663086,14.304827690124512,14.932336807250977,16.340717315673828,14.237223625183105,13.77273178100586,14.209267616271973,14.214106559753418,15.347246170043945,15.341635704040527,15.802818298339844,15.651853561401367,15.360138893127441,15.826181411743164,15.261517524719238,17.56056785583496,14.499102592468262,14.629663467407227,14.605324745178223,14.218814849853516,15.781482696533203,16.1480655670166,17.796316146850586,16.270671844482422,15.710481643676758,16.954660415649414,15.769967079162598,18.74824333190918,14.593416213989258,15.243569374084473,15.213899612426758,14.76356315612793,16.330398559570312,16.780357360839844,18.261537551879883],\"yaxis\":\"y\",\"type\":\"scatter\"}],                        {\"template\":{\"data\":{\"histogram2dcontour\":[{\"type\":\"histogram2dcontour\",\"colorbar\":{\"outlinewidth\":0,\"ticks\":\"\"},\"colorscale\":[[0.0,\"#0d0887\"],[0.1111111111111111,\"#46039f\"],[0.2222222222222222,\"#7201a8\"],[0.3333333333333333,\"#9c179e\"],[0.4444444444444444,\"#bd3786\"],[0.5555555555555556,\"#d8576b\"],[0.6666666666666666,\"#ed7953\"],[0.7777777777777778,\"#fb9f3a\"],[0.8888888888888888,\"#fdca26\"],[1.0,\"#f0f921\"]]}],\"choropleth\":[{\"type\":\"choropleth\",\"colorbar\":{\"outlinewidth\":0,\"ticks\":\"\"}}],\"histogram2d\":[{\"type\":\"histogram2d\",\"colorbar\":{\"outlinewidth\":0,\"ticks\":\"\"},\"colorscale\":[[0.0,\"#0d0887\"],[0.1111111111111111,\"#46039f\"],[0.2222222222222222,\"#7201a8\"],[0.3333333333333333,\"#9c179e\"],[0.4444444444444444,\"#bd3786\"],[0.5555555555555556,\"#d8576b\"],[0.6666666666666666,\"#ed7953\"],[0.7777777777777778,\"#fb9f3a\"],[0.8888888888888888,\"#fdca26\"],[1.0,\"#f0f921\"]]}],\"heatmap\":[{\"type\":\"heatmap\",\"colorbar\":{\"outlinewidth\":0,\"ticks\":\"\"},\"colorscale\":[[0.0,\"#0d0887\"],[0.1111111111111111,\"#46039f\"],[0.2222222222222222,\"#7201a8\"],[0.3333333333333333,\"#9c179e\"],[0.4444444444444444,\"#bd3786\"],[0.5555555555555556,\"#d8576b\"],[0.6666666666666666,\"#ed7953\"],[0.7777777777777778,\"#fb9f3a\"],[0.8888888888888888,\"#fdca26\"],[1.0,\"#f0f921\"]]}],\"heatmapgl\":[{\"type\":\"heatmapgl\",\"colorbar\":{\"outlinewidth\":0,\"ticks\":\"\"},\"colorscale\":[[0.0,\"#0d0887\"],[0.1111111111111111,\"#46039f\"],[0.2222222222222222,\"#7201a8\"],[0.3333333333333333,\"#9c179e\"],[0.4444444444444444,\"#bd3786\"],[0.5555555555555556,\"#d8576b\"],[0.6666666666666666,\"#ed7953\"],[0.7777777777777778,\"#fb9f3a\"],[0.8888888888888888,\"#fdca26\"],[1.0,\"#f0f921\"]]}],\"contourcarpet\":[{\"type\":\"contourcarpet\",\"colorbar\":{\"outlinewidth\":0,\"ticks\":\"\"}}],\"contour\":[{\"type\":\"contour\",\"colorbar\":{\"outlinewidth\":0,\"ticks\":\"\"},\"colorscale\":[[0.0,\"#0d0887\"],[0.1111111111111111,\"#46039f\"],[0.2222222222222222,\"#7201a8\"],[0.3333333333333333,\"#9c179e\"],[0.4444444444444444,\"#bd3786\"],[0.5555555555555556,\"#d8576b\"],[0.6666666666666666,\"#ed7953\"],[0.7777777777777778,\"#fb9f3a\"],[0.8888888888888888,\"#fdca26\"],[1.0,\"#f0f921\"]]}],\"surface\":[{\"type\":\"surface\",\"colorbar\":{\"outlinewidth\":0,\"ticks\":\"\"},\"colorscale\":[[0.0,\"#0d0887\"],[0.1111111111111111,\"#46039f\"],[0.2222222222222222,\"#7201a8\"],[0.3333333333333333,\"#9c179e\"],[0.4444444444444444,\"#bd3786\"],[0.5555555555555556,\"#d8576b\"],[0.6666666666666666,\"#ed7953\"],[0.7777777777777778,\"#fb9f3a\"],[0.8888888888888888,\"#fdca26\"],[1.0,\"#f0f921\"]]}],\"mesh3d\":[{\"type\":\"mesh3d\",\"colorbar\":{\"outlinewidth\":0,\"ticks\":\"\"}}],\"scatter\":[{\"fillpattern\":{\"fillmode\":\"overlay\",\"size\":10,\"solidity\":0.2},\"type\":\"scatter\"}],\"parcoords\":[{\"type\":\"parcoords\",\"line\":{\"colorbar\":{\"outlinewidth\":0,\"ticks\":\"\"}}}],\"scatterpolargl\":[{\"type\":\"scatterpolargl\",\"marker\":{\"colorbar\":{\"outlinewidth\":0,\"ticks\":\"\"}}}],\"bar\":[{\"error_x\":{\"color\":\"#2a3f5f\"},\"error_y\":{\"color\":\"#2a3f5f\"},\"marker\":{\"line\":{\"color\":\"#E5ECF6\",\"width\":0.5},\"pattern\":{\"fillmode\":\"overlay\",\"size\":10,\"solidity\":0.2}},\"type\":\"bar\"}],\"scattergeo\":[{\"type\":\"scattergeo\",\"marker\":{\"colorbar\":{\"outlinewidth\":0,\"ticks\":\"\"}}}],\"scatterpolar\":[{\"type\":\"scatterpolar\",\"marker\":{\"colorbar\":{\"outlinewidth\":0,\"ticks\":\"\"}}}],\"histogram\":[{\"marker\":{\"pattern\":{\"fillmode\":\"overlay\",\"size\":10,\"solidity\":0.2}},\"type\":\"histogram\"}],\"scattergl\":[{\"type\":\"scattergl\",\"marker\":{\"colorbar\":{\"outlinewidth\":0,\"ticks\":\"\"}}}],\"scatter3d\":[{\"type\":\"scatter3d\",\"line\":{\"colorbar\":{\"outlinewidth\":0,\"ticks\":\"\"}},\"marker\":{\"colorbar\":{\"outlinewidth\":0,\"ticks\":\"\"}}}],\"scattermapbox\":[{\"type\":\"scattermapbox\",\"marker\":{\"colorbar\":{\"outlinewidth\":0,\"ticks\":\"\"}}}],\"scatterternary\":[{\"type\":\"scatterternary\",\"marker\":{\"colorbar\":{\"outlinewidth\":0,\"ticks\":\"\"}}}],\"scattercarpet\":[{\"type\":\"scattercarpet\",\"marker\":{\"colorbar\":{\"outlinewidth\":0,\"ticks\":\"\"}}}],\"carpet\":[{\"aaxis\":{\"endlinecolor\":\"#2a3f5f\",\"gridcolor\":\"white\",\"linecolor\":\"white\",\"minorgridcolor\":\"white\",\"startlinecolor\":\"#2a3f5f\"},\"baxis\":{\"endlinecolor\":\"#2a3f5f\",\"gridcolor\":\"white\",\"linecolor\":\"white\",\"minorgridcolor\":\"white\",\"startlinecolor\":\"#2a3f5f\"},\"type\":\"carpet\"}],\"table\":[{\"cells\":{\"fill\":{\"color\":\"#EBF0F8\"},\"line\":{\"color\":\"white\"}},\"header\":{\"fill\":{\"color\":\"#C8D4E3\"},\"line\":{\"color\":\"white\"}},\"type\":\"table\"}],\"barpolar\":[{\"marker\":{\"line\":{\"color\":\"#E5ECF6\",\"width\":0.5},\"pattern\":{\"fillmode\":\"overlay\",\"size\":10,\"solidity\":0.2}},\"type\":\"barpolar\"}],\"pie\":[{\"automargin\":true,\"type\":\"pie\"}]},\"layout\":{\"autotypenumbers\":\"strict\",\"colorway\":[\"#636efa\",\"#EF553B\",\"#00cc96\",\"#ab63fa\",\"#FFA15A\",\"#19d3f3\",\"#FF6692\",\"#B6E880\",\"#FF97FF\",\"#FECB52\"],\"font\":{\"color\":\"#2a3f5f\"},\"hovermode\":\"closest\",\"hoverlabel\":{\"align\":\"left\"},\"paper_bgcolor\":\"white\",\"plot_bgcolor\":\"#E5ECF6\",\"polar\":{\"bgcolor\":\"#E5ECF6\",\"angularaxis\":{\"gridcolor\":\"white\",\"linecolor\":\"white\",\"ticks\":\"\"},\"radialaxis\":{\"gridcolor\":\"white\",\"linecolor\":\"white\",\"ticks\":\"\"}},\"ternary\":{\"bgcolor\":\"#E5ECF6\",\"aaxis\":{\"gridcolor\":\"white\",\"linecolor\":\"white\",\"ticks\":\"\"},\"baxis\":{\"gridcolor\":\"white\",\"linecolor\":\"white\",\"ticks\":\"\"},\"caxis\":{\"gridcolor\":\"white\",\"linecolor\":\"white\",\"ticks\":\"\"}},\"coloraxis\":{\"colorbar\":{\"outlinewidth\":0,\"ticks\":\"\"}},\"colorscale\":{\"sequential\":[[0.0,\"#0d0887\"],[0.1111111111111111,\"#46039f\"],[0.2222222222222222,\"#7201a8\"],[0.3333333333333333,\"#9c179e\"],[0.4444444444444444,\"#bd3786\"],[0.5555555555555556,\"#d8576b\"],[0.6666666666666666,\"#ed7953\"],[0.7777777777777778,\"#fb9f3a\"],[0.8888888888888888,\"#fdca26\"],[1.0,\"#f0f921\"]],\"sequentialminus\":[[0.0,\"#0d0887\"],[0.1111111111111111,\"#46039f\"],[0.2222222222222222,\"#7201a8\"],[0.3333333333333333,\"#9c179e\"],[0.4444444444444444,\"#bd3786\"],[0.5555555555555556,\"#d8576b\"],[0.6666666666666666,\"#ed7953\"],[0.7777777777777778,\"#fb9f3a\"],[0.8888888888888888,\"#fdca26\"],[1.0,\"#f0f921\"]],\"diverging\":[[0,\"#8e0152\"],[0.1,\"#c51b7d\"],[0.2,\"#de77ae\"],[0.3,\"#f1b6da\"],[0.4,\"#fde0ef\"],[0.5,\"#f7f7f7\"],[0.6,\"#e6f5d0\"],[0.7,\"#b8e186\"],[0.8,\"#7fbc41\"],[0.9,\"#4d9221\"],[1,\"#276419\"]]},\"xaxis\":{\"gridcolor\":\"white\",\"linecolor\":\"white\",\"ticks\":\"\",\"title\":{\"standoff\":15},\"zerolinecolor\":\"white\",\"automargin\":true,\"zerolinewidth\":2},\"yaxis\":{\"gridcolor\":\"white\",\"linecolor\":\"white\",\"ticks\":\"\",\"title\":{\"standoff\":15},\"zerolinecolor\":\"white\",\"automargin\":true,\"zerolinewidth\":2},\"scene\":{\"xaxis\":{\"backgroundcolor\":\"#E5ECF6\",\"gridcolor\":\"white\",\"linecolor\":\"white\",\"showbackground\":true,\"ticks\":\"\",\"zerolinecolor\":\"white\",\"gridwidth\":2},\"yaxis\":{\"backgroundcolor\":\"#E5ECF6\",\"gridcolor\":\"white\",\"linecolor\":\"white\",\"showbackground\":true,\"ticks\":\"\",\"zerolinecolor\":\"white\",\"gridwidth\":2},\"zaxis\":{\"backgroundcolor\":\"#E5ECF6\",\"gridcolor\":\"white\",\"linecolor\":\"white\",\"showbackground\":true,\"ticks\":\"\",\"zerolinecolor\":\"white\",\"gridwidth\":2}},\"shapedefaults\":{\"line\":{\"color\":\"#2a3f5f\"}},\"annotationdefaults\":{\"arrowcolor\":\"#2a3f5f\",\"arrowhead\":0,\"arrowwidth\":1},\"geo\":{\"bgcolor\":\"white\",\"landcolor\":\"#E5ECF6\",\"subunitcolor\":\"white\",\"showland\":true,\"showlakes\":true,\"lakecolor\":\"white\"},\"title\":{\"x\":0.05},\"mapbox\":{\"style\":\"light\"}}},\"xaxis\":{\"anchor\":\"y\",\"domain\":[0.0,1.0],\"title\":{\"text\":\"\\u6837\\u672c\"}},\"yaxis\":{\"anchor\":\"x\",\"domain\":[0.0,1.0],\"title\":{\"text\":\"\\u53d6\\u503c\"}},\"legend\":{\"title\":{\"text\":\"\\u9884\\u6d4b\\u503c/\\u771f\\u5b9e\\u503c\"},\"tracegroupgap\":0},\"margin\":{\"t\":60},\"title\":{\"text\":\"SOC\\u571f\\u58e4\\u6709\\u673a\\u78b3\\u62df\\u5408\\u6548\\u679c\"}},                        {\"responsive\": true}                    ).then(function(){\n",
       "                            \n",
       "var gd = document.getElementById('bbdcb277-4b56-49c1-a3ac-361389f3270b');\n",
       "var x = new MutationObserver(function (mutations, observer) {{\n",
       "        var display = window.getComputedStyle(gd).display;\n",
       "        if (!display || display === 'none') {{\n",
       "            console.log([gd, 'removed!']);\n",
       "            Plotly.purge(gd);\n",
       "            observer.disconnect();\n",
       "        }}\n",
       "}});\n",
       "\n",
       "// Listen for the removal of the full notebook cells\n",
       "var notebookContainer = gd.closest('#notebook-container');\n",
       "if (notebookContainer) {{\n",
       "    x.observe(notebookContainer, {childList: true});\n",
       "}}\n",
       "\n",
       "// Listen for the clearing of the current output cell\n",
       "var outputEl = gd.closest('.output');\n",
       "if (outputEl) {{\n",
       "    x.observe(outputEl, {childList: true});\n",
       "}}\n",
       "\n",
       "                        })                };                });            </script>        </div>"
      ]
     },
     "metadata": {},
     "output_type": "display_data"
    }
   ],
   "source": [
    "plotPredGndSample(SOC, df)"
   ]
  },
  {
   "cell_type": "code",
   "execution_count": 37,
   "id": "7a49c371",
   "metadata": {},
   "outputs": [
    {
     "data": {
      "application/vnd.plotly.v1+json": {
       "config": {
        "plotlyServerURL": "https://plot.ly"
       },
       "data": [
        {
         "hovertemplate": "variable=SIC土壤无机碳真实值<br>index=%{x}<br>value=%{y}<extra></extra>",
         "legendgroup": "SIC土壤无机碳真实值",
         "line": {
          "color": "#636efa",
          "dash": "solid"
         },
         "marker": {
          "symbol": "circle"
         },
         "mode": "lines",
         "name": "SIC土壤无机碳真实值",
         "orientation": "v",
         "showlegend": true,
         "type": "scatter",
         "x": [
          0,
          1,
          2,
          3,
          4,
          5,
          6,
          7,
          8,
          9,
          10,
          11,
          12,
          13,
          14,
          15,
          16,
          17,
          18,
          19,
          20,
          21,
          22,
          23,
          24,
          25,
          26,
          27,
          28,
          29,
          30,
          31,
          32,
          33,
          34,
          35,
          36,
          37,
          38,
          39,
          40,
          41,
          42,
          43,
          44,
          45,
          46,
          47,
          48,
          49,
          50,
          51,
          52,
          53,
          54,
          55,
          56,
          57,
          58,
          59
         ],
         "xaxis": "x",
         "y": [
          11.55,
          10.84966666666665,
          11.875,
          10.491666666666664,
          8.925,
          13.95833333333335,
          6.7125,
          8.95,
          9.541666666666664,
          10.95,
          11.04166666666665,
          9.925,
          8.125,
          11.775,
          9.6,
          9.975,
          12.350000000000001,
          9.3915,
          7.9,
          11.5,
          7.15,
          11.1,
          7.5,
          8.899999999999999,
          5.333333333333333,
          7.727777777777777,
          7.783333333333334,
          5.295000000000001,
          7.694444444444433,
          6.3,
          5.484444444444443,
          8.216666666666667,
          6.7,
          7.983333333333333,
          6.675555555555557,
          6.233333333333333,
          5.65,
          6.466666666666666,
          4.7,
          6.25,
          8.733333333333333,
          5.5,
          4.3,
          10.866666666666667,
          2.8166666666666664,
          7.833333333333333,
          5.566666666666666,
          5.733333333333333,
          3.5647,
          4.65705,
          3.1221499999999995,
          3.8029,
          7.2073,
          3.0012,
          3.3536,
          9.81945,
          1.8854999999999995,
          6.08675,
          4.301450000000001,
          4.0649
         ],
         "yaxis": "y"
        },
        {
         "hovertemplate": "variable=SIC土壤无机碳预测值<br>index=%{x}<br>value=%{y}<extra></extra>",
         "legendgroup": "SIC土壤无机碳预测值",
         "line": {
          "color": "#EF553B",
          "dash": "solid"
         },
         "marker": {
          "symbol": "circle"
         },
         "mode": "lines",
         "name": "SIC土壤无机碳预测值",
         "orientation": "v",
         "showlegend": true,
         "type": "scatter",
         "x": [
          0,
          1,
          2,
          3,
          4,
          5,
          6,
          7,
          8,
          9,
          10,
          11,
          12,
          13,
          14,
          15,
          16,
          17,
          18,
          19,
          20,
          21,
          22,
          23,
          24,
          25,
          26,
          27,
          28,
          29,
          30,
          31,
          32,
          33,
          34,
          35,
          36,
          37,
          38,
          39,
          40,
          41,
          42,
          43,
          44,
          45,
          46,
          47,
          48,
          49,
          50,
          51,
          52,
          53,
          54,
          55,
          56,
          57,
          58,
          59
         ],
         "xaxis": "x",
         "y": [
          11.575859069824219,
          10.846013069152832,
          11.956114768981934,
          10.512357711791992,
          8.995664596557617,
          13.964771270751953,
          6.735074043273926,
          8.975295066833496,
          9.585060119628906,
          10.97639274597168,
          11.047945022583008,
          10.010395050048828,
          8.156567573547363,
          11.856057167053223,
          9.809163093566895,
          10.015599250793457,
          12.2210111618042,
          9.468392372131348,
          7.9874067306518555,
          11.442655563354492,
          7.32211446762085,
          10.974467277526855,
          7.488419055938721,
          8.927324295043945,
          5.747556686401367,
          7.790806770324707,
          7.354918003082275,
          6.103155612945557,
          8.610597610473633,
          6.519501209259033,
          5.427501201629639,
          9.658367156982422,
          5.7963385581970215,
          8.443896293640137,
          6.674002170562744,
          6.391303062438965,
          4.960747241973877,
          6.296342849731445,
          4.82334566116333,
          5.213740825653076,
          8.00979995727539,
          4.946773052215576,
          4.340859413146973,
          9.605960845947266,
          3.5349133014678955,
          7.640224456787109,
          5.782255172729492,
          5.633692264556885,
          4.152931213378906,
          4.9648356437683105,
          3.3255653381347656,
          4.261865615844727,
          7.424075603485107,
          3.61124587059021,
          3.5267441272735596,
          8.836151123046875,
          2.542043685913086,
          6.553987979888916,
          4.801276683807373,
          4.865081787109375
         ],
         "yaxis": "y"
        }
       ],
       "layout": {
        "legend": {
         "title": {
          "text": "预测值/真实值"
         },
         "tracegroupgap": 0
        },
        "margin": {
         "t": 60
        },
        "template": {
         "data": {
          "bar": [
           {
            "error_x": {
             "color": "#2a3f5f"
            },
            "error_y": {
             "color": "#2a3f5f"
            },
            "marker": {
             "line": {
              "color": "#E5ECF6",
              "width": 0.5
             },
             "pattern": {
              "fillmode": "overlay",
              "size": 10,
              "solidity": 0.2
             }
            },
            "type": "bar"
           }
          ],
          "barpolar": [
           {
            "marker": {
             "line": {
              "color": "#E5ECF6",
              "width": 0.5
             },
             "pattern": {
              "fillmode": "overlay",
              "size": 10,
              "solidity": 0.2
             }
            },
            "type": "barpolar"
           }
          ],
          "carpet": [
           {
            "aaxis": {
             "endlinecolor": "#2a3f5f",
             "gridcolor": "white",
             "linecolor": "white",
             "minorgridcolor": "white",
             "startlinecolor": "#2a3f5f"
            },
            "baxis": {
             "endlinecolor": "#2a3f5f",
             "gridcolor": "white",
             "linecolor": "white",
             "minorgridcolor": "white",
             "startlinecolor": "#2a3f5f"
            },
            "type": "carpet"
           }
          ],
          "choropleth": [
           {
            "colorbar": {
             "outlinewidth": 0,
             "ticks": ""
            },
            "type": "choropleth"
           }
          ],
          "contour": [
           {
            "colorbar": {
             "outlinewidth": 0,
             "ticks": ""
            },
            "colorscale": [
             [
              0,
              "#0d0887"
             ],
             [
              0.1111111111111111,
              "#46039f"
             ],
             [
              0.2222222222222222,
              "#7201a8"
             ],
             [
              0.3333333333333333,
              "#9c179e"
             ],
             [
              0.4444444444444444,
              "#bd3786"
             ],
             [
              0.5555555555555556,
              "#d8576b"
             ],
             [
              0.6666666666666666,
              "#ed7953"
             ],
             [
              0.7777777777777778,
              "#fb9f3a"
             ],
             [
              0.8888888888888888,
              "#fdca26"
             ],
             [
              1,
              "#f0f921"
             ]
            ],
            "type": "contour"
           }
          ],
          "contourcarpet": [
           {
            "colorbar": {
             "outlinewidth": 0,
             "ticks": ""
            },
            "type": "contourcarpet"
           }
          ],
          "heatmap": [
           {
            "colorbar": {
             "outlinewidth": 0,
             "ticks": ""
            },
            "colorscale": [
             [
              0,
              "#0d0887"
             ],
             [
              0.1111111111111111,
              "#46039f"
             ],
             [
              0.2222222222222222,
              "#7201a8"
             ],
             [
              0.3333333333333333,
              "#9c179e"
             ],
             [
              0.4444444444444444,
              "#bd3786"
             ],
             [
              0.5555555555555556,
              "#d8576b"
             ],
             [
              0.6666666666666666,
              "#ed7953"
             ],
             [
              0.7777777777777778,
              "#fb9f3a"
             ],
             [
              0.8888888888888888,
              "#fdca26"
             ],
             [
              1,
              "#f0f921"
             ]
            ],
            "type": "heatmap"
           }
          ],
          "heatmapgl": [
           {
            "colorbar": {
             "outlinewidth": 0,
             "ticks": ""
            },
            "colorscale": [
             [
              0,
              "#0d0887"
             ],
             [
              0.1111111111111111,
              "#46039f"
             ],
             [
              0.2222222222222222,
              "#7201a8"
             ],
             [
              0.3333333333333333,
              "#9c179e"
             ],
             [
              0.4444444444444444,
              "#bd3786"
             ],
             [
              0.5555555555555556,
              "#d8576b"
             ],
             [
              0.6666666666666666,
              "#ed7953"
             ],
             [
              0.7777777777777778,
              "#fb9f3a"
             ],
             [
              0.8888888888888888,
              "#fdca26"
             ],
             [
              1,
              "#f0f921"
             ]
            ],
            "type": "heatmapgl"
           }
          ],
          "histogram": [
           {
            "marker": {
             "pattern": {
              "fillmode": "overlay",
              "size": 10,
              "solidity": 0.2
             }
            },
            "type": "histogram"
           }
          ],
          "histogram2d": [
           {
            "colorbar": {
             "outlinewidth": 0,
             "ticks": ""
            },
            "colorscale": [
             [
              0,
              "#0d0887"
             ],
             [
              0.1111111111111111,
              "#46039f"
             ],
             [
              0.2222222222222222,
              "#7201a8"
             ],
             [
              0.3333333333333333,
              "#9c179e"
             ],
             [
              0.4444444444444444,
              "#bd3786"
             ],
             [
              0.5555555555555556,
              "#d8576b"
             ],
             [
              0.6666666666666666,
              "#ed7953"
             ],
             [
              0.7777777777777778,
              "#fb9f3a"
             ],
             [
              0.8888888888888888,
              "#fdca26"
             ],
             [
              1,
              "#f0f921"
             ]
            ],
            "type": "histogram2d"
           }
          ],
          "histogram2dcontour": [
           {
            "colorbar": {
             "outlinewidth": 0,
             "ticks": ""
            },
            "colorscale": [
             [
              0,
              "#0d0887"
             ],
             [
              0.1111111111111111,
              "#46039f"
             ],
             [
              0.2222222222222222,
              "#7201a8"
             ],
             [
              0.3333333333333333,
              "#9c179e"
             ],
             [
              0.4444444444444444,
              "#bd3786"
             ],
             [
              0.5555555555555556,
              "#d8576b"
             ],
             [
              0.6666666666666666,
              "#ed7953"
             ],
             [
              0.7777777777777778,
              "#fb9f3a"
             ],
             [
              0.8888888888888888,
              "#fdca26"
             ],
             [
              1,
              "#f0f921"
             ]
            ],
            "type": "histogram2dcontour"
           }
          ],
          "mesh3d": [
           {
            "colorbar": {
             "outlinewidth": 0,
             "ticks": ""
            },
            "type": "mesh3d"
           }
          ],
          "parcoords": [
           {
            "line": {
             "colorbar": {
              "outlinewidth": 0,
              "ticks": ""
             }
            },
            "type": "parcoords"
           }
          ],
          "pie": [
           {
            "automargin": true,
            "type": "pie"
           }
          ],
          "scatter": [
           {
            "fillpattern": {
             "fillmode": "overlay",
             "size": 10,
             "solidity": 0.2
            },
            "type": "scatter"
           }
          ],
          "scatter3d": [
           {
            "line": {
             "colorbar": {
              "outlinewidth": 0,
              "ticks": ""
             }
            },
            "marker": {
             "colorbar": {
              "outlinewidth": 0,
              "ticks": ""
             }
            },
            "type": "scatter3d"
           }
          ],
          "scattercarpet": [
           {
            "marker": {
             "colorbar": {
              "outlinewidth": 0,
              "ticks": ""
             }
            },
            "type": "scattercarpet"
           }
          ],
          "scattergeo": [
           {
            "marker": {
             "colorbar": {
              "outlinewidth": 0,
              "ticks": ""
             }
            },
            "type": "scattergeo"
           }
          ],
          "scattergl": [
           {
            "marker": {
             "colorbar": {
              "outlinewidth": 0,
              "ticks": ""
             }
            },
            "type": "scattergl"
           }
          ],
          "scattermapbox": [
           {
            "marker": {
             "colorbar": {
              "outlinewidth": 0,
              "ticks": ""
             }
            },
            "type": "scattermapbox"
           }
          ],
          "scatterpolar": [
           {
            "marker": {
             "colorbar": {
              "outlinewidth": 0,
              "ticks": ""
             }
            },
            "type": "scatterpolar"
           }
          ],
          "scatterpolargl": [
           {
            "marker": {
             "colorbar": {
              "outlinewidth": 0,
              "ticks": ""
             }
            },
            "type": "scatterpolargl"
           }
          ],
          "scatterternary": [
           {
            "marker": {
             "colorbar": {
              "outlinewidth": 0,
              "ticks": ""
             }
            },
            "type": "scatterternary"
           }
          ],
          "surface": [
           {
            "colorbar": {
             "outlinewidth": 0,
             "ticks": ""
            },
            "colorscale": [
             [
              0,
              "#0d0887"
             ],
             [
              0.1111111111111111,
              "#46039f"
             ],
             [
              0.2222222222222222,
              "#7201a8"
             ],
             [
              0.3333333333333333,
              "#9c179e"
             ],
             [
              0.4444444444444444,
              "#bd3786"
             ],
             [
              0.5555555555555556,
              "#d8576b"
             ],
             [
              0.6666666666666666,
              "#ed7953"
             ],
             [
              0.7777777777777778,
              "#fb9f3a"
             ],
             [
              0.8888888888888888,
              "#fdca26"
             ],
             [
              1,
              "#f0f921"
             ]
            ],
            "type": "surface"
           }
          ],
          "table": [
           {
            "cells": {
             "fill": {
              "color": "#EBF0F8"
             },
             "line": {
              "color": "white"
             }
            },
            "header": {
             "fill": {
              "color": "#C8D4E3"
             },
             "line": {
              "color": "white"
             }
            },
            "type": "table"
           }
          ]
         },
         "layout": {
          "annotationdefaults": {
           "arrowcolor": "#2a3f5f",
           "arrowhead": 0,
           "arrowwidth": 1
          },
          "autotypenumbers": "strict",
          "coloraxis": {
           "colorbar": {
            "outlinewidth": 0,
            "ticks": ""
           }
          },
          "colorscale": {
           "diverging": [
            [
             0,
             "#8e0152"
            ],
            [
             0.1,
             "#c51b7d"
            ],
            [
             0.2,
             "#de77ae"
            ],
            [
             0.3,
             "#f1b6da"
            ],
            [
             0.4,
             "#fde0ef"
            ],
            [
             0.5,
             "#f7f7f7"
            ],
            [
             0.6,
             "#e6f5d0"
            ],
            [
             0.7,
             "#b8e186"
            ],
            [
             0.8,
             "#7fbc41"
            ],
            [
             0.9,
             "#4d9221"
            ],
            [
             1,
             "#276419"
            ]
           ],
           "sequential": [
            [
             0,
             "#0d0887"
            ],
            [
             0.1111111111111111,
             "#46039f"
            ],
            [
             0.2222222222222222,
             "#7201a8"
            ],
            [
             0.3333333333333333,
             "#9c179e"
            ],
            [
             0.4444444444444444,
             "#bd3786"
            ],
            [
             0.5555555555555556,
             "#d8576b"
            ],
            [
             0.6666666666666666,
             "#ed7953"
            ],
            [
             0.7777777777777778,
             "#fb9f3a"
            ],
            [
             0.8888888888888888,
             "#fdca26"
            ],
            [
             1,
             "#f0f921"
            ]
           ],
           "sequentialminus": [
            [
             0,
             "#0d0887"
            ],
            [
             0.1111111111111111,
             "#46039f"
            ],
            [
             0.2222222222222222,
             "#7201a8"
            ],
            [
             0.3333333333333333,
             "#9c179e"
            ],
            [
             0.4444444444444444,
             "#bd3786"
            ],
            [
             0.5555555555555556,
             "#d8576b"
            ],
            [
             0.6666666666666666,
             "#ed7953"
            ],
            [
             0.7777777777777778,
             "#fb9f3a"
            ],
            [
             0.8888888888888888,
             "#fdca26"
            ],
            [
             1,
             "#f0f921"
            ]
           ]
          },
          "colorway": [
           "#636efa",
           "#EF553B",
           "#00cc96",
           "#ab63fa",
           "#FFA15A",
           "#19d3f3",
           "#FF6692",
           "#B6E880",
           "#FF97FF",
           "#FECB52"
          ],
          "font": {
           "color": "#2a3f5f"
          },
          "geo": {
           "bgcolor": "white",
           "lakecolor": "white",
           "landcolor": "#E5ECF6",
           "showlakes": true,
           "showland": true,
           "subunitcolor": "white"
          },
          "hoverlabel": {
           "align": "left"
          },
          "hovermode": "closest",
          "mapbox": {
           "style": "light"
          },
          "paper_bgcolor": "white",
          "plot_bgcolor": "#E5ECF6",
          "polar": {
           "angularaxis": {
            "gridcolor": "white",
            "linecolor": "white",
            "ticks": ""
           },
           "bgcolor": "#E5ECF6",
           "radialaxis": {
            "gridcolor": "white",
            "linecolor": "white",
            "ticks": ""
           }
          },
          "scene": {
           "xaxis": {
            "backgroundcolor": "#E5ECF6",
            "gridcolor": "white",
            "gridwidth": 2,
            "linecolor": "white",
            "showbackground": true,
            "ticks": "",
            "zerolinecolor": "white"
           },
           "yaxis": {
            "backgroundcolor": "#E5ECF6",
            "gridcolor": "white",
            "gridwidth": 2,
            "linecolor": "white",
            "showbackground": true,
            "ticks": "",
            "zerolinecolor": "white"
           },
           "zaxis": {
            "backgroundcolor": "#E5ECF6",
            "gridcolor": "white",
            "gridwidth": 2,
            "linecolor": "white",
            "showbackground": true,
            "ticks": "",
            "zerolinecolor": "white"
           }
          },
          "shapedefaults": {
           "line": {
            "color": "#2a3f5f"
           }
          },
          "ternary": {
           "aaxis": {
            "gridcolor": "white",
            "linecolor": "white",
            "ticks": ""
           },
           "baxis": {
            "gridcolor": "white",
            "linecolor": "white",
            "ticks": ""
           },
           "bgcolor": "#E5ECF6",
           "caxis": {
            "gridcolor": "white",
            "linecolor": "white",
            "ticks": ""
           }
          },
          "title": {
           "x": 0.05
          },
          "xaxis": {
           "automargin": true,
           "gridcolor": "white",
           "linecolor": "white",
           "ticks": "",
           "title": {
            "standoff": 15
           },
           "zerolinecolor": "white",
           "zerolinewidth": 2
          },
          "yaxis": {
           "automargin": true,
           "gridcolor": "white",
           "linecolor": "white",
           "ticks": "",
           "title": {
            "standoff": 15
           },
           "zerolinecolor": "white",
           "zerolinewidth": 2
          }
         }
        },
        "title": {
         "text": "SIC土壤无机碳拟合效果"
        },
        "xaxis": {
         "anchor": "y",
         "domain": [
          0,
          1
         ],
         "title": {
          "text": "样本"
         }
        },
        "yaxis": {
         "anchor": "x",
         "domain": [
          0,
          1
         ],
         "title": {
          "text": "取值"
         }
        }
       }
      },
      "text/html": [
       "<div>                            <div id=\"be10c79a-99b0-41ea-ab5e-2c83eda68092\" class=\"plotly-graph-div\" style=\"height:525px; width:100%;\"></div>            <script type=\"text/javascript\">                require([\"plotly\"], function(Plotly) {                    window.PLOTLYENV=window.PLOTLYENV || {};                                    if (document.getElementById(\"be10c79a-99b0-41ea-ab5e-2c83eda68092\")) {                    Plotly.newPlot(                        \"be10c79a-99b0-41ea-ab5e-2c83eda68092\",                        [{\"hovertemplate\":\"variable=SIC\\u571f\\u58e4\\u65e0\\u673a\\u78b3\\u771f\\u5b9e\\u503c<br>index=%{x}<br>value=%{y}<extra></extra>\",\"legendgroup\":\"SIC\\u571f\\u58e4\\u65e0\\u673a\\u78b3\\u771f\\u5b9e\\u503c\",\"line\":{\"color\":\"#636efa\",\"dash\":\"solid\"},\"marker\":{\"symbol\":\"circle\"},\"mode\":\"lines\",\"name\":\"SIC\\u571f\\u58e4\\u65e0\\u673a\\u78b3\\u771f\\u5b9e\\u503c\",\"orientation\":\"v\",\"showlegend\":true,\"x\":[0,1,2,3,4,5,6,7,8,9,10,11,12,13,14,15,16,17,18,19,20,21,22,23,24,25,26,27,28,29,30,31,32,33,34,35,36,37,38,39,40,41,42,43,44,45,46,47,48,49,50,51,52,53,54,55,56,57,58,59],\"xaxis\":\"x\",\"y\":[11.55,10.84966666666665,11.875,10.491666666666664,8.925,13.95833333333335,6.7125,8.95,9.541666666666664,10.95,11.04166666666665,9.925,8.125,11.775,9.6,9.975,12.350000000000001,9.3915,7.9,11.5,7.15,11.1,7.5,8.899999999999999,5.333333333333333,7.727777777777777,7.783333333333334,5.295000000000001,7.694444444444433,6.3,5.484444444444443,8.216666666666667,6.7,7.983333333333333,6.675555555555557,6.233333333333333,5.65,6.466666666666666,4.7,6.25,8.733333333333333,5.5,4.3,10.866666666666667,2.8166666666666664,7.833333333333333,5.566666666666666,5.733333333333333,3.5647,4.65705,3.1221499999999995,3.8029,7.2073,3.0012,3.3536,9.81945,1.8854999999999995,6.08675,4.301450000000001,4.0649],\"yaxis\":\"y\",\"type\":\"scatter\"},{\"hovertemplate\":\"variable=SIC\\u571f\\u58e4\\u65e0\\u673a\\u78b3\\u9884\\u6d4b\\u503c<br>index=%{x}<br>value=%{y}<extra></extra>\",\"legendgroup\":\"SIC\\u571f\\u58e4\\u65e0\\u673a\\u78b3\\u9884\\u6d4b\\u503c\",\"line\":{\"color\":\"#EF553B\",\"dash\":\"solid\"},\"marker\":{\"symbol\":\"circle\"},\"mode\":\"lines\",\"name\":\"SIC\\u571f\\u58e4\\u65e0\\u673a\\u78b3\\u9884\\u6d4b\\u503c\",\"orientation\":\"v\",\"showlegend\":true,\"x\":[0,1,2,3,4,5,6,7,8,9,10,11,12,13,14,15,16,17,18,19,20,21,22,23,24,25,26,27,28,29,30,31,32,33,34,35,36,37,38,39,40,41,42,43,44,45,46,47,48,49,50,51,52,53,54,55,56,57,58,59],\"xaxis\":\"x\",\"y\":[11.575859069824219,10.846013069152832,11.956114768981934,10.512357711791992,8.995664596557617,13.964771270751953,6.735074043273926,8.975295066833496,9.585060119628906,10.97639274597168,11.047945022583008,10.010395050048828,8.156567573547363,11.856057167053223,9.809163093566895,10.015599250793457,12.2210111618042,9.468392372131348,7.9874067306518555,11.442655563354492,7.32211446762085,10.974467277526855,7.488419055938721,8.927324295043945,5.747556686401367,7.790806770324707,7.354918003082275,6.103155612945557,8.610597610473633,6.519501209259033,5.427501201629639,9.658367156982422,5.7963385581970215,8.443896293640137,6.674002170562744,6.391303062438965,4.960747241973877,6.296342849731445,4.82334566116333,5.213740825653076,8.00979995727539,4.946773052215576,4.340859413146973,9.605960845947266,3.5349133014678955,7.640224456787109,5.782255172729492,5.633692264556885,4.152931213378906,4.9648356437683105,3.3255653381347656,4.261865615844727,7.424075603485107,3.61124587059021,3.5267441272735596,8.836151123046875,2.542043685913086,6.553987979888916,4.801276683807373,4.865081787109375],\"yaxis\":\"y\",\"type\":\"scatter\"}],                        {\"template\":{\"data\":{\"histogram2dcontour\":[{\"type\":\"histogram2dcontour\",\"colorbar\":{\"outlinewidth\":0,\"ticks\":\"\"},\"colorscale\":[[0.0,\"#0d0887\"],[0.1111111111111111,\"#46039f\"],[0.2222222222222222,\"#7201a8\"],[0.3333333333333333,\"#9c179e\"],[0.4444444444444444,\"#bd3786\"],[0.5555555555555556,\"#d8576b\"],[0.6666666666666666,\"#ed7953\"],[0.7777777777777778,\"#fb9f3a\"],[0.8888888888888888,\"#fdca26\"],[1.0,\"#f0f921\"]]}],\"choropleth\":[{\"type\":\"choropleth\",\"colorbar\":{\"outlinewidth\":0,\"ticks\":\"\"}}],\"histogram2d\":[{\"type\":\"histogram2d\",\"colorbar\":{\"outlinewidth\":0,\"ticks\":\"\"},\"colorscale\":[[0.0,\"#0d0887\"],[0.1111111111111111,\"#46039f\"],[0.2222222222222222,\"#7201a8\"],[0.3333333333333333,\"#9c179e\"],[0.4444444444444444,\"#bd3786\"],[0.5555555555555556,\"#d8576b\"],[0.6666666666666666,\"#ed7953\"],[0.7777777777777778,\"#fb9f3a\"],[0.8888888888888888,\"#fdca26\"],[1.0,\"#f0f921\"]]}],\"heatmap\":[{\"type\":\"heatmap\",\"colorbar\":{\"outlinewidth\":0,\"ticks\":\"\"},\"colorscale\":[[0.0,\"#0d0887\"],[0.1111111111111111,\"#46039f\"],[0.2222222222222222,\"#7201a8\"],[0.3333333333333333,\"#9c179e\"],[0.4444444444444444,\"#bd3786\"],[0.5555555555555556,\"#d8576b\"],[0.6666666666666666,\"#ed7953\"],[0.7777777777777778,\"#fb9f3a\"],[0.8888888888888888,\"#fdca26\"],[1.0,\"#f0f921\"]]}],\"heatmapgl\":[{\"type\":\"heatmapgl\",\"colorbar\":{\"outlinewidth\":0,\"ticks\":\"\"},\"colorscale\":[[0.0,\"#0d0887\"],[0.1111111111111111,\"#46039f\"],[0.2222222222222222,\"#7201a8\"],[0.3333333333333333,\"#9c179e\"],[0.4444444444444444,\"#bd3786\"],[0.5555555555555556,\"#d8576b\"],[0.6666666666666666,\"#ed7953\"],[0.7777777777777778,\"#fb9f3a\"],[0.8888888888888888,\"#fdca26\"],[1.0,\"#f0f921\"]]}],\"contourcarpet\":[{\"type\":\"contourcarpet\",\"colorbar\":{\"outlinewidth\":0,\"ticks\":\"\"}}],\"contour\":[{\"type\":\"contour\",\"colorbar\":{\"outlinewidth\":0,\"ticks\":\"\"},\"colorscale\":[[0.0,\"#0d0887\"],[0.1111111111111111,\"#46039f\"],[0.2222222222222222,\"#7201a8\"],[0.3333333333333333,\"#9c179e\"],[0.4444444444444444,\"#bd3786\"],[0.5555555555555556,\"#d8576b\"],[0.6666666666666666,\"#ed7953\"],[0.7777777777777778,\"#fb9f3a\"],[0.8888888888888888,\"#fdca26\"],[1.0,\"#f0f921\"]]}],\"surface\":[{\"type\":\"surface\",\"colorbar\":{\"outlinewidth\":0,\"ticks\":\"\"},\"colorscale\":[[0.0,\"#0d0887\"],[0.1111111111111111,\"#46039f\"],[0.2222222222222222,\"#7201a8\"],[0.3333333333333333,\"#9c179e\"],[0.4444444444444444,\"#bd3786\"],[0.5555555555555556,\"#d8576b\"],[0.6666666666666666,\"#ed7953\"],[0.7777777777777778,\"#fb9f3a\"],[0.8888888888888888,\"#fdca26\"],[1.0,\"#f0f921\"]]}],\"mesh3d\":[{\"type\":\"mesh3d\",\"colorbar\":{\"outlinewidth\":0,\"ticks\":\"\"}}],\"scatter\":[{\"fillpattern\":{\"fillmode\":\"overlay\",\"size\":10,\"solidity\":0.2},\"type\":\"scatter\"}],\"parcoords\":[{\"type\":\"parcoords\",\"line\":{\"colorbar\":{\"outlinewidth\":0,\"ticks\":\"\"}}}],\"scatterpolargl\":[{\"type\":\"scatterpolargl\",\"marker\":{\"colorbar\":{\"outlinewidth\":0,\"ticks\":\"\"}}}],\"bar\":[{\"error_x\":{\"color\":\"#2a3f5f\"},\"error_y\":{\"color\":\"#2a3f5f\"},\"marker\":{\"line\":{\"color\":\"#E5ECF6\",\"width\":0.5},\"pattern\":{\"fillmode\":\"overlay\",\"size\":10,\"solidity\":0.2}},\"type\":\"bar\"}],\"scattergeo\":[{\"type\":\"scattergeo\",\"marker\":{\"colorbar\":{\"outlinewidth\":0,\"ticks\":\"\"}}}],\"scatterpolar\":[{\"type\":\"scatterpolar\",\"marker\":{\"colorbar\":{\"outlinewidth\":0,\"ticks\":\"\"}}}],\"histogram\":[{\"marker\":{\"pattern\":{\"fillmode\":\"overlay\",\"size\":10,\"solidity\":0.2}},\"type\":\"histogram\"}],\"scattergl\":[{\"type\":\"scattergl\",\"marker\":{\"colorbar\":{\"outlinewidth\":0,\"ticks\":\"\"}}}],\"scatter3d\":[{\"type\":\"scatter3d\",\"line\":{\"colorbar\":{\"outlinewidth\":0,\"ticks\":\"\"}},\"marker\":{\"colorbar\":{\"outlinewidth\":0,\"ticks\":\"\"}}}],\"scattermapbox\":[{\"type\":\"scattermapbox\",\"marker\":{\"colorbar\":{\"outlinewidth\":0,\"ticks\":\"\"}}}],\"scatterternary\":[{\"type\":\"scatterternary\",\"marker\":{\"colorbar\":{\"outlinewidth\":0,\"ticks\":\"\"}}}],\"scattercarpet\":[{\"type\":\"scattercarpet\",\"marker\":{\"colorbar\":{\"outlinewidth\":0,\"ticks\":\"\"}}}],\"carpet\":[{\"aaxis\":{\"endlinecolor\":\"#2a3f5f\",\"gridcolor\":\"white\",\"linecolor\":\"white\",\"minorgridcolor\":\"white\",\"startlinecolor\":\"#2a3f5f\"},\"baxis\":{\"endlinecolor\":\"#2a3f5f\",\"gridcolor\":\"white\",\"linecolor\":\"white\",\"minorgridcolor\":\"white\",\"startlinecolor\":\"#2a3f5f\"},\"type\":\"carpet\"}],\"table\":[{\"cells\":{\"fill\":{\"color\":\"#EBF0F8\"},\"line\":{\"color\":\"white\"}},\"header\":{\"fill\":{\"color\":\"#C8D4E3\"},\"line\":{\"color\":\"white\"}},\"type\":\"table\"}],\"barpolar\":[{\"marker\":{\"line\":{\"color\":\"#E5ECF6\",\"width\":0.5},\"pattern\":{\"fillmode\":\"overlay\",\"size\":10,\"solidity\":0.2}},\"type\":\"barpolar\"}],\"pie\":[{\"automargin\":true,\"type\":\"pie\"}]},\"layout\":{\"autotypenumbers\":\"strict\",\"colorway\":[\"#636efa\",\"#EF553B\",\"#00cc96\",\"#ab63fa\",\"#FFA15A\",\"#19d3f3\",\"#FF6692\",\"#B6E880\",\"#FF97FF\",\"#FECB52\"],\"font\":{\"color\":\"#2a3f5f\"},\"hovermode\":\"closest\",\"hoverlabel\":{\"align\":\"left\"},\"paper_bgcolor\":\"white\",\"plot_bgcolor\":\"#E5ECF6\",\"polar\":{\"bgcolor\":\"#E5ECF6\",\"angularaxis\":{\"gridcolor\":\"white\",\"linecolor\":\"white\",\"ticks\":\"\"},\"radialaxis\":{\"gridcolor\":\"white\",\"linecolor\":\"white\",\"ticks\":\"\"}},\"ternary\":{\"bgcolor\":\"#E5ECF6\",\"aaxis\":{\"gridcolor\":\"white\",\"linecolor\":\"white\",\"ticks\":\"\"},\"baxis\":{\"gridcolor\":\"white\",\"linecolor\":\"white\",\"ticks\":\"\"},\"caxis\":{\"gridcolor\":\"white\",\"linecolor\":\"white\",\"ticks\":\"\"}},\"coloraxis\":{\"colorbar\":{\"outlinewidth\":0,\"ticks\":\"\"}},\"colorscale\":{\"sequential\":[[0.0,\"#0d0887\"],[0.1111111111111111,\"#46039f\"],[0.2222222222222222,\"#7201a8\"],[0.3333333333333333,\"#9c179e\"],[0.4444444444444444,\"#bd3786\"],[0.5555555555555556,\"#d8576b\"],[0.6666666666666666,\"#ed7953\"],[0.7777777777777778,\"#fb9f3a\"],[0.8888888888888888,\"#fdca26\"],[1.0,\"#f0f921\"]],\"sequentialminus\":[[0.0,\"#0d0887\"],[0.1111111111111111,\"#46039f\"],[0.2222222222222222,\"#7201a8\"],[0.3333333333333333,\"#9c179e\"],[0.4444444444444444,\"#bd3786\"],[0.5555555555555556,\"#d8576b\"],[0.6666666666666666,\"#ed7953\"],[0.7777777777777778,\"#fb9f3a\"],[0.8888888888888888,\"#fdca26\"],[1.0,\"#f0f921\"]],\"diverging\":[[0,\"#8e0152\"],[0.1,\"#c51b7d\"],[0.2,\"#de77ae\"],[0.3,\"#f1b6da\"],[0.4,\"#fde0ef\"],[0.5,\"#f7f7f7\"],[0.6,\"#e6f5d0\"],[0.7,\"#b8e186\"],[0.8,\"#7fbc41\"],[0.9,\"#4d9221\"],[1,\"#276419\"]]},\"xaxis\":{\"gridcolor\":\"white\",\"linecolor\":\"white\",\"ticks\":\"\",\"title\":{\"standoff\":15},\"zerolinecolor\":\"white\",\"automargin\":true,\"zerolinewidth\":2},\"yaxis\":{\"gridcolor\":\"white\",\"linecolor\":\"white\",\"ticks\":\"\",\"title\":{\"standoff\":15},\"zerolinecolor\":\"white\",\"automargin\":true,\"zerolinewidth\":2},\"scene\":{\"xaxis\":{\"backgroundcolor\":\"#E5ECF6\",\"gridcolor\":\"white\",\"linecolor\":\"white\",\"showbackground\":true,\"ticks\":\"\",\"zerolinecolor\":\"white\",\"gridwidth\":2},\"yaxis\":{\"backgroundcolor\":\"#E5ECF6\",\"gridcolor\":\"white\",\"linecolor\":\"white\",\"showbackground\":true,\"ticks\":\"\",\"zerolinecolor\":\"white\",\"gridwidth\":2},\"zaxis\":{\"backgroundcolor\":\"#E5ECF6\",\"gridcolor\":\"white\",\"linecolor\":\"white\",\"showbackground\":true,\"ticks\":\"\",\"zerolinecolor\":\"white\",\"gridwidth\":2}},\"shapedefaults\":{\"line\":{\"color\":\"#2a3f5f\"}},\"annotationdefaults\":{\"arrowcolor\":\"#2a3f5f\",\"arrowhead\":0,\"arrowwidth\":1},\"geo\":{\"bgcolor\":\"white\",\"landcolor\":\"#E5ECF6\",\"subunitcolor\":\"white\",\"showland\":true,\"showlakes\":true,\"lakecolor\":\"white\"},\"title\":{\"x\":0.05},\"mapbox\":{\"style\":\"light\"}}},\"xaxis\":{\"anchor\":\"y\",\"domain\":[0.0,1.0],\"title\":{\"text\":\"\\u6837\\u672c\"}},\"yaxis\":{\"anchor\":\"x\",\"domain\":[0.0,1.0],\"title\":{\"text\":\"\\u53d6\\u503c\"}},\"legend\":{\"title\":{\"text\":\"\\u9884\\u6d4b\\u503c/\\u771f\\u5b9e\\u503c\"},\"tracegroupgap\":0},\"margin\":{\"t\":60},\"title\":{\"text\":\"SIC\\u571f\\u58e4\\u65e0\\u673a\\u78b3\\u62df\\u5408\\u6548\\u679c\"}},                        {\"responsive\": true}                    ).then(function(){\n",
       "                            \n",
       "var gd = document.getElementById('be10c79a-99b0-41ea-ab5e-2c83eda68092');\n",
       "var x = new MutationObserver(function (mutations, observer) {{\n",
       "        var display = window.getComputedStyle(gd).display;\n",
       "        if (!display || display === 'none') {{\n",
       "            console.log([gd, 'removed!']);\n",
       "            Plotly.purge(gd);\n",
       "            observer.disconnect();\n",
       "        }}\n",
       "}});\n",
       "\n",
       "// Listen for the removal of the full notebook cells\n",
       "var notebookContainer = gd.closest('#notebook-container');\n",
       "if (notebookContainer) {{\n",
       "    x.observe(notebookContainer, {childList: true});\n",
       "}}\n",
       "\n",
       "// Listen for the clearing of the current output cell\n",
       "var outputEl = gd.closest('.output');\n",
       "if (outputEl) {{\n",
       "    x.observe(outputEl, {childList: true});\n",
       "}}\n",
       "\n",
       "                        })                };                });            </script>        </div>"
      ]
     },
     "metadata": {},
     "output_type": "display_data"
    }
   ],
   "source": [
    "plotPredGndSample(SIC, df)"
   ]
  },
  {
   "cell_type": "code",
   "execution_count": 38,
   "id": "788e5534",
   "metadata": {},
   "outputs": [
    {
     "data": {
      "application/vnd.plotly.v1+json": {
       "config": {
        "plotlyServerURL": "https://plot.ly"
       },
       "data": [
        {
         "hovertemplate": "variable=STC土壤全碳真实值<br>index=%{x}<br>value=%{y}<extra></extra>",
         "legendgroup": "STC土壤全碳真实值",
         "line": {
          "color": "#636efa",
          "dash": "solid"
         },
         "marker": {
          "symbol": "circle"
         },
         "mode": "lines",
         "name": "STC土壤全碳真实值",
         "orientation": "v",
         "showlegend": true,
         "type": "scatter",
         "x": [
          0,
          1,
          2,
          3,
          4,
          5,
          6,
          7,
          8,
          9,
          10,
          11,
          12,
          13,
          14,
          15,
          16,
          17,
          18,
          19,
          20,
          21,
          22,
          23,
          24,
          25,
          26,
          27,
          28,
          29,
          30,
          31,
          32,
          33,
          34,
          35,
          36,
          37,
          38,
          39,
          40,
          41,
          42,
          43,
          44,
          45,
          46,
          47,
          48,
          49,
          50,
          51,
          52,
          53,
          54,
          55,
          56,
          57,
          58,
          59
         ],
         "xaxis": "x",
         "y": [
          23.71409177780155,
          23.916014432907097,
          25.3495335539182,
          22.9609528183937,
          20.946939885616302,
          28.285765727361,
          20.938667356967898,
          20.5887308716774,
          23.21914784113565,
          24.92354363203045,
          25.96218317747115,
          21.9176978667577,
          21.0517883300781,
          28.1383043527603,
          22.3357644677162,
          24.456355571746847,
          25.9839701652527,
          24.000737667083747,
          22.88489907979965,
          23.946267664432497,
          22.1184420585632,
          24.8470956087113,
          23.2351756095886,
          23.01348984241485,
          21.30148510138193,
          22.012007522583037,
          22.285921374956768,
          20.71332077185313,
          24.319143692652364,
          20.6174655755361,
          18.7547049919764,
          24.0620110432307,
          20.728018879890435,
          23.66235633691153,
          21.2945262591044,
          22.068228324254367,
          20.683399240175905,
          22.5115567445755,
          20.5559641122818,
          21.1693203449249,
          25.82494815190633,
          20.299450160631167,
          19.4643074274063,
          24.18474396069843,
          17.398060361544267,
          23.59657724698383,
          22.678809960683168,
          23.7661929925283,
          20.2566,
          20.62665,
          20.32215,
          19.9887,
          26.5133,
          17.79085,
          18.09795,
          24.59645,
          16.3276,
          22.94505,
          21.59995,
          24.1984
         ],
         "yaxis": "y"
        },
        {
         "hovertemplate": "variable=STC土壤全碳预测值<br>index=%{x}<br>value=%{y}<extra></extra>",
         "legendgroup": "STC土壤全碳预测值",
         "line": {
          "color": "#EF553B",
          "dash": "solid"
         },
         "marker": {
          "symbol": "circle"
         },
         "mode": "lines",
         "name": "STC土壤全碳预测值",
         "orientation": "v",
         "showlegend": true,
         "type": "scatter",
         "x": [
          0,
          1,
          2,
          3,
          4,
          5,
          6,
          7,
          8,
          9,
          10,
          11,
          12,
          13,
          14,
          15,
          16,
          17,
          18,
          19,
          20,
          21,
          22,
          23,
          24,
          25,
          26,
          27,
          28,
          29,
          30,
          31,
          32,
          33,
          34,
          35,
          36,
          37,
          38,
          39,
          40,
          41,
          42,
          43,
          44,
          45,
          46,
          47,
          48,
          49,
          50,
          51,
          52,
          53,
          54,
          55,
          56,
          57,
          58,
          59
         ],
         "xaxis": "x",
         "y": [
          23.69249725341797,
          23.91393280029297,
          25.381879806518555,
          22.960102081298828,
          20.96068572998047,
          28.2637939453125,
          20.93720817565918,
          20.56945037841797,
          23.223535537719727,
          24.914966583251953,
          25.943069458007812,
          21.953227996826172,
          21.04184913635254,
          27.939167022705078,
          22.47284507751465,
          24.42714500427246,
          25.74553680419922,
          23.979347229003906,
          22.565263748168945,
          23.85535430908203,
          22.197885513305664,
          24.779508590698242,
          23.177560806274414,
          22.87851333618164,
          20.950864791870117,
          22.754955291748047,
          21.667497634887695,
          21.145366668701172,
          25.06087303161621,
          20.78489875793457,
          19.31652069091797,
          23.98921012878418,
          20.028060913085938,
          23.90847396850586,
          21.974498748779297,
          22.376449584960938,
          20.590625762939453,
          21.726978302001953,
          20.662609100341797,
          20.494707107543945,
          25.627939224243164,
          19.49257469177246,
          19.05182456970215,
          24.095447540283203,
          17.74055290222168,
          23.246795654296875,
          21.947587966918945,
          23.40094757080078,
          20.366777420043945,
          20.782983779907227,
          20.30230712890625,
          19.992494583129883,
          26.169689178466797,
          18.206851959228516,
          18.793062210083008,
          23.781999588012695,
          17.146406173706055,
          22.644939422607422,
          21.59073829650879,
          23.03130340576172
         ],
         "yaxis": "y"
        }
       ],
       "layout": {
        "legend": {
         "title": {
          "text": "预测值/真实值"
         },
         "tracegroupgap": 0
        },
        "margin": {
         "t": 60
        },
        "template": {
         "data": {
          "bar": [
           {
            "error_x": {
             "color": "#2a3f5f"
            },
            "error_y": {
             "color": "#2a3f5f"
            },
            "marker": {
             "line": {
              "color": "#E5ECF6",
              "width": 0.5
             },
             "pattern": {
              "fillmode": "overlay",
              "size": 10,
              "solidity": 0.2
             }
            },
            "type": "bar"
           }
          ],
          "barpolar": [
           {
            "marker": {
             "line": {
              "color": "#E5ECF6",
              "width": 0.5
             },
             "pattern": {
              "fillmode": "overlay",
              "size": 10,
              "solidity": 0.2
             }
            },
            "type": "barpolar"
           }
          ],
          "carpet": [
           {
            "aaxis": {
             "endlinecolor": "#2a3f5f",
             "gridcolor": "white",
             "linecolor": "white",
             "minorgridcolor": "white",
             "startlinecolor": "#2a3f5f"
            },
            "baxis": {
             "endlinecolor": "#2a3f5f",
             "gridcolor": "white",
             "linecolor": "white",
             "minorgridcolor": "white",
             "startlinecolor": "#2a3f5f"
            },
            "type": "carpet"
           }
          ],
          "choropleth": [
           {
            "colorbar": {
             "outlinewidth": 0,
             "ticks": ""
            },
            "type": "choropleth"
           }
          ],
          "contour": [
           {
            "colorbar": {
             "outlinewidth": 0,
             "ticks": ""
            },
            "colorscale": [
             [
              0,
              "#0d0887"
             ],
             [
              0.1111111111111111,
              "#46039f"
             ],
             [
              0.2222222222222222,
              "#7201a8"
             ],
             [
              0.3333333333333333,
              "#9c179e"
             ],
             [
              0.4444444444444444,
              "#bd3786"
             ],
             [
              0.5555555555555556,
              "#d8576b"
             ],
             [
              0.6666666666666666,
              "#ed7953"
             ],
             [
              0.7777777777777778,
              "#fb9f3a"
             ],
             [
              0.8888888888888888,
              "#fdca26"
             ],
             [
              1,
              "#f0f921"
             ]
            ],
            "type": "contour"
           }
          ],
          "contourcarpet": [
           {
            "colorbar": {
             "outlinewidth": 0,
             "ticks": ""
            },
            "type": "contourcarpet"
           }
          ],
          "heatmap": [
           {
            "colorbar": {
             "outlinewidth": 0,
             "ticks": ""
            },
            "colorscale": [
             [
              0,
              "#0d0887"
             ],
             [
              0.1111111111111111,
              "#46039f"
             ],
             [
              0.2222222222222222,
              "#7201a8"
             ],
             [
              0.3333333333333333,
              "#9c179e"
             ],
             [
              0.4444444444444444,
              "#bd3786"
             ],
             [
              0.5555555555555556,
              "#d8576b"
             ],
             [
              0.6666666666666666,
              "#ed7953"
             ],
             [
              0.7777777777777778,
              "#fb9f3a"
             ],
             [
              0.8888888888888888,
              "#fdca26"
             ],
             [
              1,
              "#f0f921"
             ]
            ],
            "type": "heatmap"
           }
          ],
          "heatmapgl": [
           {
            "colorbar": {
             "outlinewidth": 0,
             "ticks": ""
            },
            "colorscale": [
             [
              0,
              "#0d0887"
             ],
             [
              0.1111111111111111,
              "#46039f"
             ],
             [
              0.2222222222222222,
              "#7201a8"
             ],
             [
              0.3333333333333333,
              "#9c179e"
             ],
             [
              0.4444444444444444,
              "#bd3786"
             ],
             [
              0.5555555555555556,
              "#d8576b"
             ],
             [
              0.6666666666666666,
              "#ed7953"
             ],
             [
              0.7777777777777778,
              "#fb9f3a"
             ],
             [
              0.8888888888888888,
              "#fdca26"
             ],
             [
              1,
              "#f0f921"
             ]
            ],
            "type": "heatmapgl"
           }
          ],
          "histogram": [
           {
            "marker": {
             "pattern": {
              "fillmode": "overlay",
              "size": 10,
              "solidity": 0.2
             }
            },
            "type": "histogram"
           }
          ],
          "histogram2d": [
           {
            "colorbar": {
             "outlinewidth": 0,
             "ticks": ""
            },
            "colorscale": [
             [
              0,
              "#0d0887"
             ],
             [
              0.1111111111111111,
              "#46039f"
             ],
             [
              0.2222222222222222,
              "#7201a8"
             ],
             [
              0.3333333333333333,
              "#9c179e"
             ],
             [
              0.4444444444444444,
              "#bd3786"
             ],
             [
              0.5555555555555556,
              "#d8576b"
             ],
             [
              0.6666666666666666,
              "#ed7953"
             ],
             [
              0.7777777777777778,
              "#fb9f3a"
             ],
             [
              0.8888888888888888,
              "#fdca26"
             ],
             [
              1,
              "#f0f921"
             ]
            ],
            "type": "histogram2d"
           }
          ],
          "histogram2dcontour": [
           {
            "colorbar": {
             "outlinewidth": 0,
             "ticks": ""
            },
            "colorscale": [
             [
              0,
              "#0d0887"
             ],
             [
              0.1111111111111111,
              "#46039f"
             ],
             [
              0.2222222222222222,
              "#7201a8"
             ],
             [
              0.3333333333333333,
              "#9c179e"
             ],
             [
              0.4444444444444444,
              "#bd3786"
             ],
             [
              0.5555555555555556,
              "#d8576b"
             ],
             [
              0.6666666666666666,
              "#ed7953"
             ],
             [
              0.7777777777777778,
              "#fb9f3a"
             ],
             [
              0.8888888888888888,
              "#fdca26"
             ],
             [
              1,
              "#f0f921"
             ]
            ],
            "type": "histogram2dcontour"
           }
          ],
          "mesh3d": [
           {
            "colorbar": {
             "outlinewidth": 0,
             "ticks": ""
            },
            "type": "mesh3d"
           }
          ],
          "parcoords": [
           {
            "line": {
             "colorbar": {
              "outlinewidth": 0,
              "ticks": ""
             }
            },
            "type": "parcoords"
           }
          ],
          "pie": [
           {
            "automargin": true,
            "type": "pie"
           }
          ],
          "scatter": [
           {
            "fillpattern": {
             "fillmode": "overlay",
             "size": 10,
             "solidity": 0.2
            },
            "type": "scatter"
           }
          ],
          "scatter3d": [
           {
            "line": {
             "colorbar": {
              "outlinewidth": 0,
              "ticks": ""
             }
            },
            "marker": {
             "colorbar": {
              "outlinewidth": 0,
              "ticks": ""
             }
            },
            "type": "scatter3d"
           }
          ],
          "scattercarpet": [
           {
            "marker": {
             "colorbar": {
              "outlinewidth": 0,
              "ticks": ""
             }
            },
            "type": "scattercarpet"
           }
          ],
          "scattergeo": [
           {
            "marker": {
             "colorbar": {
              "outlinewidth": 0,
              "ticks": ""
             }
            },
            "type": "scattergeo"
           }
          ],
          "scattergl": [
           {
            "marker": {
             "colorbar": {
              "outlinewidth": 0,
              "ticks": ""
             }
            },
            "type": "scattergl"
           }
          ],
          "scattermapbox": [
           {
            "marker": {
             "colorbar": {
              "outlinewidth": 0,
              "ticks": ""
             }
            },
            "type": "scattermapbox"
           }
          ],
          "scatterpolar": [
           {
            "marker": {
             "colorbar": {
              "outlinewidth": 0,
              "ticks": ""
             }
            },
            "type": "scatterpolar"
           }
          ],
          "scatterpolargl": [
           {
            "marker": {
             "colorbar": {
              "outlinewidth": 0,
              "ticks": ""
             }
            },
            "type": "scatterpolargl"
           }
          ],
          "scatterternary": [
           {
            "marker": {
             "colorbar": {
              "outlinewidth": 0,
              "ticks": ""
             }
            },
            "type": "scatterternary"
           }
          ],
          "surface": [
           {
            "colorbar": {
             "outlinewidth": 0,
             "ticks": ""
            },
            "colorscale": [
             [
              0,
              "#0d0887"
             ],
             [
              0.1111111111111111,
              "#46039f"
             ],
             [
              0.2222222222222222,
              "#7201a8"
             ],
             [
              0.3333333333333333,
              "#9c179e"
             ],
             [
              0.4444444444444444,
              "#bd3786"
             ],
             [
              0.5555555555555556,
              "#d8576b"
             ],
             [
              0.6666666666666666,
              "#ed7953"
             ],
             [
              0.7777777777777778,
              "#fb9f3a"
             ],
             [
              0.8888888888888888,
              "#fdca26"
             ],
             [
              1,
              "#f0f921"
             ]
            ],
            "type": "surface"
           }
          ],
          "table": [
           {
            "cells": {
             "fill": {
              "color": "#EBF0F8"
             },
             "line": {
              "color": "white"
             }
            },
            "header": {
             "fill": {
              "color": "#C8D4E3"
             },
             "line": {
              "color": "white"
             }
            },
            "type": "table"
           }
          ]
         },
         "layout": {
          "annotationdefaults": {
           "arrowcolor": "#2a3f5f",
           "arrowhead": 0,
           "arrowwidth": 1
          },
          "autotypenumbers": "strict",
          "coloraxis": {
           "colorbar": {
            "outlinewidth": 0,
            "ticks": ""
           }
          },
          "colorscale": {
           "diverging": [
            [
             0,
             "#8e0152"
            ],
            [
             0.1,
             "#c51b7d"
            ],
            [
             0.2,
             "#de77ae"
            ],
            [
             0.3,
             "#f1b6da"
            ],
            [
             0.4,
             "#fde0ef"
            ],
            [
             0.5,
             "#f7f7f7"
            ],
            [
             0.6,
             "#e6f5d0"
            ],
            [
             0.7,
             "#b8e186"
            ],
            [
             0.8,
             "#7fbc41"
            ],
            [
             0.9,
             "#4d9221"
            ],
            [
             1,
             "#276419"
            ]
           ],
           "sequential": [
            [
             0,
             "#0d0887"
            ],
            [
             0.1111111111111111,
             "#46039f"
            ],
            [
             0.2222222222222222,
             "#7201a8"
            ],
            [
             0.3333333333333333,
             "#9c179e"
            ],
            [
             0.4444444444444444,
             "#bd3786"
            ],
            [
             0.5555555555555556,
             "#d8576b"
            ],
            [
             0.6666666666666666,
             "#ed7953"
            ],
            [
             0.7777777777777778,
             "#fb9f3a"
            ],
            [
             0.8888888888888888,
             "#fdca26"
            ],
            [
             1,
             "#f0f921"
            ]
           ],
           "sequentialminus": [
            [
             0,
             "#0d0887"
            ],
            [
             0.1111111111111111,
             "#46039f"
            ],
            [
             0.2222222222222222,
             "#7201a8"
            ],
            [
             0.3333333333333333,
             "#9c179e"
            ],
            [
             0.4444444444444444,
             "#bd3786"
            ],
            [
             0.5555555555555556,
             "#d8576b"
            ],
            [
             0.6666666666666666,
             "#ed7953"
            ],
            [
             0.7777777777777778,
             "#fb9f3a"
            ],
            [
             0.8888888888888888,
             "#fdca26"
            ],
            [
             1,
             "#f0f921"
            ]
           ]
          },
          "colorway": [
           "#636efa",
           "#EF553B",
           "#00cc96",
           "#ab63fa",
           "#FFA15A",
           "#19d3f3",
           "#FF6692",
           "#B6E880",
           "#FF97FF",
           "#FECB52"
          ],
          "font": {
           "color": "#2a3f5f"
          },
          "geo": {
           "bgcolor": "white",
           "lakecolor": "white",
           "landcolor": "#E5ECF6",
           "showlakes": true,
           "showland": true,
           "subunitcolor": "white"
          },
          "hoverlabel": {
           "align": "left"
          },
          "hovermode": "closest",
          "mapbox": {
           "style": "light"
          },
          "paper_bgcolor": "white",
          "plot_bgcolor": "#E5ECF6",
          "polar": {
           "angularaxis": {
            "gridcolor": "white",
            "linecolor": "white",
            "ticks": ""
           },
           "bgcolor": "#E5ECF6",
           "radialaxis": {
            "gridcolor": "white",
            "linecolor": "white",
            "ticks": ""
           }
          },
          "scene": {
           "xaxis": {
            "backgroundcolor": "#E5ECF6",
            "gridcolor": "white",
            "gridwidth": 2,
            "linecolor": "white",
            "showbackground": true,
            "ticks": "",
            "zerolinecolor": "white"
           },
           "yaxis": {
            "backgroundcolor": "#E5ECF6",
            "gridcolor": "white",
            "gridwidth": 2,
            "linecolor": "white",
            "showbackground": true,
            "ticks": "",
            "zerolinecolor": "white"
           },
           "zaxis": {
            "backgroundcolor": "#E5ECF6",
            "gridcolor": "white",
            "gridwidth": 2,
            "linecolor": "white",
            "showbackground": true,
            "ticks": "",
            "zerolinecolor": "white"
           }
          },
          "shapedefaults": {
           "line": {
            "color": "#2a3f5f"
           }
          },
          "ternary": {
           "aaxis": {
            "gridcolor": "white",
            "linecolor": "white",
            "ticks": ""
           },
           "baxis": {
            "gridcolor": "white",
            "linecolor": "white",
            "ticks": ""
           },
           "bgcolor": "#E5ECF6",
           "caxis": {
            "gridcolor": "white",
            "linecolor": "white",
            "ticks": ""
           }
          },
          "title": {
           "x": 0.05
          },
          "xaxis": {
           "automargin": true,
           "gridcolor": "white",
           "linecolor": "white",
           "ticks": "",
           "title": {
            "standoff": 15
           },
           "zerolinecolor": "white",
           "zerolinewidth": 2
          },
          "yaxis": {
           "automargin": true,
           "gridcolor": "white",
           "linecolor": "white",
           "ticks": "",
           "title": {
            "standoff": 15
           },
           "zerolinecolor": "white",
           "zerolinewidth": 2
          }
         }
        },
        "title": {
         "text": "STC土壤全碳拟合效果"
        },
        "xaxis": {
         "anchor": "y",
         "domain": [
          0,
          1
         ],
         "title": {
          "text": "样本"
         }
        },
        "yaxis": {
         "anchor": "x",
         "domain": [
          0,
          1
         ],
         "title": {
          "text": "取值"
         }
        }
       }
      },
      "text/html": [
       "<div>                            <div id=\"4c73470a-17ca-4b61-addc-1d1e3878c536\" class=\"plotly-graph-div\" style=\"height:525px; width:100%;\"></div>            <script type=\"text/javascript\">                require([\"plotly\"], function(Plotly) {                    window.PLOTLYENV=window.PLOTLYENV || {};                                    if (document.getElementById(\"4c73470a-17ca-4b61-addc-1d1e3878c536\")) {                    Plotly.newPlot(                        \"4c73470a-17ca-4b61-addc-1d1e3878c536\",                        [{\"hovertemplate\":\"variable=STC\\u571f\\u58e4\\u5168\\u78b3\\u771f\\u5b9e\\u503c<br>index=%{x}<br>value=%{y}<extra></extra>\",\"legendgroup\":\"STC\\u571f\\u58e4\\u5168\\u78b3\\u771f\\u5b9e\\u503c\",\"line\":{\"color\":\"#636efa\",\"dash\":\"solid\"},\"marker\":{\"symbol\":\"circle\"},\"mode\":\"lines\",\"name\":\"STC\\u571f\\u58e4\\u5168\\u78b3\\u771f\\u5b9e\\u503c\",\"orientation\":\"v\",\"showlegend\":true,\"x\":[0,1,2,3,4,5,6,7,8,9,10,11,12,13,14,15,16,17,18,19,20,21,22,23,24,25,26,27,28,29,30,31,32,33,34,35,36,37,38,39,40,41,42,43,44,45,46,47,48,49,50,51,52,53,54,55,56,57,58,59],\"xaxis\":\"x\",\"y\":[23.71409177780155,23.916014432907097,25.3495335539182,22.9609528183937,20.946939885616302,28.285765727361,20.938667356967898,20.5887308716774,23.21914784113565,24.92354363203045,25.96218317747115,21.9176978667577,21.0517883300781,28.1383043527603,22.3357644677162,24.456355571746847,25.9839701652527,24.000737667083747,22.88489907979965,23.946267664432497,22.1184420585632,24.8470956087113,23.2351756095886,23.01348984241485,21.30148510138193,22.012007522583037,22.285921374956768,20.71332077185313,24.319143692652364,20.6174655755361,18.7547049919764,24.0620110432307,20.728018879890435,23.66235633691153,21.2945262591044,22.068228324254367,20.683399240175905,22.5115567445755,20.5559641122818,21.1693203449249,25.82494815190633,20.299450160631167,19.4643074274063,24.18474396069843,17.398060361544267,23.59657724698383,22.678809960683168,23.7661929925283,20.2566,20.62665,20.32215,19.9887,26.5133,17.79085,18.09795,24.59645,16.3276,22.94505,21.59995,24.1984],\"yaxis\":\"y\",\"type\":\"scatter\"},{\"hovertemplate\":\"variable=STC\\u571f\\u58e4\\u5168\\u78b3\\u9884\\u6d4b\\u503c<br>index=%{x}<br>value=%{y}<extra></extra>\",\"legendgroup\":\"STC\\u571f\\u58e4\\u5168\\u78b3\\u9884\\u6d4b\\u503c\",\"line\":{\"color\":\"#EF553B\",\"dash\":\"solid\"},\"marker\":{\"symbol\":\"circle\"},\"mode\":\"lines\",\"name\":\"STC\\u571f\\u58e4\\u5168\\u78b3\\u9884\\u6d4b\\u503c\",\"orientation\":\"v\",\"showlegend\":true,\"x\":[0,1,2,3,4,5,6,7,8,9,10,11,12,13,14,15,16,17,18,19,20,21,22,23,24,25,26,27,28,29,30,31,32,33,34,35,36,37,38,39,40,41,42,43,44,45,46,47,48,49,50,51,52,53,54,55,56,57,58,59],\"xaxis\":\"x\",\"y\":[23.69249725341797,23.91393280029297,25.381879806518555,22.960102081298828,20.96068572998047,28.2637939453125,20.93720817565918,20.56945037841797,23.223535537719727,24.914966583251953,25.943069458007812,21.953227996826172,21.04184913635254,27.939167022705078,22.47284507751465,24.42714500427246,25.74553680419922,23.979347229003906,22.565263748168945,23.85535430908203,22.197885513305664,24.779508590698242,23.177560806274414,22.87851333618164,20.950864791870117,22.754955291748047,21.667497634887695,21.145366668701172,25.06087303161621,20.78489875793457,19.31652069091797,23.98921012878418,20.028060913085938,23.90847396850586,21.974498748779297,22.376449584960938,20.590625762939453,21.726978302001953,20.662609100341797,20.494707107543945,25.627939224243164,19.49257469177246,19.05182456970215,24.095447540283203,17.74055290222168,23.246795654296875,21.947587966918945,23.40094757080078,20.366777420043945,20.782983779907227,20.30230712890625,19.992494583129883,26.169689178466797,18.206851959228516,18.793062210083008,23.781999588012695,17.146406173706055,22.644939422607422,21.59073829650879,23.03130340576172],\"yaxis\":\"y\",\"type\":\"scatter\"}],                        {\"template\":{\"data\":{\"histogram2dcontour\":[{\"type\":\"histogram2dcontour\",\"colorbar\":{\"outlinewidth\":0,\"ticks\":\"\"},\"colorscale\":[[0.0,\"#0d0887\"],[0.1111111111111111,\"#46039f\"],[0.2222222222222222,\"#7201a8\"],[0.3333333333333333,\"#9c179e\"],[0.4444444444444444,\"#bd3786\"],[0.5555555555555556,\"#d8576b\"],[0.6666666666666666,\"#ed7953\"],[0.7777777777777778,\"#fb9f3a\"],[0.8888888888888888,\"#fdca26\"],[1.0,\"#f0f921\"]]}],\"choropleth\":[{\"type\":\"choropleth\",\"colorbar\":{\"outlinewidth\":0,\"ticks\":\"\"}}],\"histogram2d\":[{\"type\":\"histogram2d\",\"colorbar\":{\"outlinewidth\":0,\"ticks\":\"\"},\"colorscale\":[[0.0,\"#0d0887\"],[0.1111111111111111,\"#46039f\"],[0.2222222222222222,\"#7201a8\"],[0.3333333333333333,\"#9c179e\"],[0.4444444444444444,\"#bd3786\"],[0.5555555555555556,\"#d8576b\"],[0.6666666666666666,\"#ed7953\"],[0.7777777777777778,\"#fb9f3a\"],[0.8888888888888888,\"#fdca26\"],[1.0,\"#f0f921\"]]}],\"heatmap\":[{\"type\":\"heatmap\",\"colorbar\":{\"outlinewidth\":0,\"ticks\":\"\"},\"colorscale\":[[0.0,\"#0d0887\"],[0.1111111111111111,\"#46039f\"],[0.2222222222222222,\"#7201a8\"],[0.3333333333333333,\"#9c179e\"],[0.4444444444444444,\"#bd3786\"],[0.5555555555555556,\"#d8576b\"],[0.6666666666666666,\"#ed7953\"],[0.7777777777777778,\"#fb9f3a\"],[0.8888888888888888,\"#fdca26\"],[1.0,\"#f0f921\"]]}],\"heatmapgl\":[{\"type\":\"heatmapgl\",\"colorbar\":{\"outlinewidth\":0,\"ticks\":\"\"},\"colorscale\":[[0.0,\"#0d0887\"],[0.1111111111111111,\"#46039f\"],[0.2222222222222222,\"#7201a8\"],[0.3333333333333333,\"#9c179e\"],[0.4444444444444444,\"#bd3786\"],[0.5555555555555556,\"#d8576b\"],[0.6666666666666666,\"#ed7953\"],[0.7777777777777778,\"#fb9f3a\"],[0.8888888888888888,\"#fdca26\"],[1.0,\"#f0f921\"]]}],\"contourcarpet\":[{\"type\":\"contourcarpet\",\"colorbar\":{\"outlinewidth\":0,\"ticks\":\"\"}}],\"contour\":[{\"type\":\"contour\",\"colorbar\":{\"outlinewidth\":0,\"ticks\":\"\"},\"colorscale\":[[0.0,\"#0d0887\"],[0.1111111111111111,\"#46039f\"],[0.2222222222222222,\"#7201a8\"],[0.3333333333333333,\"#9c179e\"],[0.4444444444444444,\"#bd3786\"],[0.5555555555555556,\"#d8576b\"],[0.6666666666666666,\"#ed7953\"],[0.7777777777777778,\"#fb9f3a\"],[0.8888888888888888,\"#fdca26\"],[1.0,\"#f0f921\"]]}],\"surface\":[{\"type\":\"surface\",\"colorbar\":{\"outlinewidth\":0,\"ticks\":\"\"},\"colorscale\":[[0.0,\"#0d0887\"],[0.1111111111111111,\"#46039f\"],[0.2222222222222222,\"#7201a8\"],[0.3333333333333333,\"#9c179e\"],[0.4444444444444444,\"#bd3786\"],[0.5555555555555556,\"#d8576b\"],[0.6666666666666666,\"#ed7953\"],[0.7777777777777778,\"#fb9f3a\"],[0.8888888888888888,\"#fdca26\"],[1.0,\"#f0f921\"]]}],\"mesh3d\":[{\"type\":\"mesh3d\",\"colorbar\":{\"outlinewidth\":0,\"ticks\":\"\"}}],\"scatter\":[{\"fillpattern\":{\"fillmode\":\"overlay\",\"size\":10,\"solidity\":0.2},\"type\":\"scatter\"}],\"parcoords\":[{\"type\":\"parcoords\",\"line\":{\"colorbar\":{\"outlinewidth\":0,\"ticks\":\"\"}}}],\"scatterpolargl\":[{\"type\":\"scatterpolargl\",\"marker\":{\"colorbar\":{\"outlinewidth\":0,\"ticks\":\"\"}}}],\"bar\":[{\"error_x\":{\"color\":\"#2a3f5f\"},\"error_y\":{\"color\":\"#2a3f5f\"},\"marker\":{\"line\":{\"color\":\"#E5ECF6\",\"width\":0.5},\"pattern\":{\"fillmode\":\"overlay\",\"size\":10,\"solidity\":0.2}},\"type\":\"bar\"}],\"scattergeo\":[{\"type\":\"scattergeo\",\"marker\":{\"colorbar\":{\"outlinewidth\":0,\"ticks\":\"\"}}}],\"scatterpolar\":[{\"type\":\"scatterpolar\",\"marker\":{\"colorbar\":{\"outlinewidth\":0,\"ticks\":\"\"}}}],\"histogram\":[{\"marker\":{\"pattern\":{\"fillmode\":\"overlay\",\"size\":10,\"solidity\":0.2}},\"type\":\"histogram\"}],\"scattergl\":[{\"type\":\"scattergl\",\"marker\":{\"colorbar\":{\"outlinewidth\":0,\"ticks\":\"\"}}}],\"scatter3d\":[{\"type\":\"scatter3d\",\"line\":{\"colorbar\":{\"outlinewidth\":0,\"ticks\":\"\"}},\"marker\":{\"colorbar\":{\"outlinewidth\":0,\"ticks\":\"\"}}}],\"scattermapbox\":[{\"type\":\"scattermapbox\",\"marker\":{\"colorbar\":{\"outlinewidth\":0,\"ticks\":\"\"}}}],\"scatterternary\":[{\"type\":\"scatterternary\",\"marker\":{\"colorbar\":{\"outlinewidth\":0,\"ticks\":\"\"}}}],\"scattercarpet\":[{\"type\":\"scattercarpet\",\"marker\":{\"colorbar\":{\"outlinewidth\":0,\"ticks\":\"\"}}}],\"carpet\":[{\"aaxis\":{\"endlinecolor\":\"#2a3f5f\",\"gridcolor\":\"white\",\"linecolor\":\"white\",\"minorgridcolor\":\"white\",\"startlinecolor\":\"#2a3f5f\"},\"baxis\":{\"endlinecolor\":\"#2a3f5f\",\"gridcolor\":\"white\",\"linecolor\":\"white\",\"minorgridcolor\":\"white\",\"startlinecolor\":\"#2a3f5f\"},\"type\":\"carpet\"}],\"table\":[{\"cells\":{\"fill\":{\"color\":\"#EBF0F8\"},\"line\":{\"color\":\"white\"}},\"header\":{\"fill\":{\"color\":\"#C8D4E3\"},\"line\":{\"color\":\"white\"}},\"type\":\"table\"}],\"barpolar\":[{\"marker\":{\"line\":{\"color\":\"#E5ECF6\",\"width\":0.5},\"pattern\":{\"fillmode\":\"overlay\",\"size\":10,\"solidity\":0.2}},\"type\":\"barpolar\"}],\"pie\":[{\"automargin\":true,\"type\":\"pie\"}]},\"layout\":{\"autotypenumbers\":\"strict\",\"colorway\":[\"#636efa\",\"#EF553B\",\"#00cc96\",\"#ab63fa\",\"#FFA15A\",\"#19d3f3\",\"#FF6692\",\"#B6E880\",\"#FF97FF\",\"#FECB52\"],\"font\":{\"color\":\"#2a3f5f\"},\"hovermode\":\"closest\",\"hoverlabel\":{\"align\":\"left\"},\"paper_bgcolor\":\"white\",\"plot_bgcolor\":\"#E5ECF6\",\"polar\":{\"bgcolor\":\"#E5ECF6\",\"angularaxis\":{\"gridcolor\":\"white\",\"linecolor\":\"white\",\"ticks\":\"\"},\"radialaxis\":{\"gridcolor\":\"white\",\"linecolor\":\"white\",\"ticks\":\"\"}},\"ternary\":{\"bgcolor\":\"#E5ECF6\",\"aaxis\":{\"gridcolor\":\"white\",\"linecolor\":\"white\",\"ticks\":\"\"},\"baxis\":{\"gridcolor\":\"white\",\"linecolor\":\"white\",\"ticks\":\"\"},\"caxis\":{\"gridcolor\":\"white\",\"linecolor\":\"white\",\"ticks\":\"\"}},\"coloraxis\":{\"colorbar\":{\"outlinewidth\":0,\"ticks\":\"\"}},\"colorscale\":{\"sequential\":[[0.0,\"#0d0887\"],[0.1111111111111111,\"#46039f\"],[0.2222222222222222,\"#7201a8\"],[0.3333333333333333,\"#9c179e\"],[0.4444444444444444,\"#bd3786\"],[0.5555555555555556,\"#d8576b\"],[0.6666666666666666,\"#ed7953\"],[0.7777777777777778,\"#fb9f3a\"],[0.8888888888888888,\"#fdca26\"],[1.0,\"#f0f921\"]],\"sequentialminus\":[[0.0,\"#0d0887\"],[0.1111111111111111,\"#46039f\"],[0.2222222222222222,\"#7201a8\"],[0.3333333333333333,\"#9c179e\"],[0.4444444444444444,\"#bd3786\"],[0.5555555555555556,\"#d8576b\"],[0.6666666666666666,\"#ed7953\"],[0.7777777777777778,\"#fb9f3a\"],[0.8888888888888888,\"#fdca26\"],[1.0,\"#f0f921\"]],\"diverging\":[[0,\"#8e0152\"],[0.1,\"#c51b7d\"],[0.2,\"#de77ae\"],[0.3,\"#f1b6da\"],[0.4,\"#fde0ef\"],[0.5,\"#f7f7f7\"],[0.6,\"#e6f5d0\"],[0.7,\"#b8e186\"],[0.8,\"#7fbc41\"],[0.9,\"#4d9221\"],[1,\"#276419\"]]},\"xaxis\":{\"gridcolor\":\"white\",\"linecolor\":\"white\",\"ticks\":\"\",\"title\":{\"standoff\":15},\"zerolinecolor\":\"white\",\"automargin\":true,\"zerolinewidth\":2},\"yaxis\":{\"gridcolor\":\"white\",\"linecolor\":\"white\",\"ticks\":\"\",\"title\":{\"standoff\":15},\"zerolinecolor\":\"white\",\"automargin\":true,\"zerolinewidth\":2},\"scene\":{\"xaxis\":{\"backgroundcolor\":\"#E5ECF6\",\"gridcolor\":\"white\",\"linecolor\":\"white\",\"showbackground\":true,\"ticks\":\"\",\"zerolinecolor\":\"white\",\"gridwidth\":2},\"yaxis\":{\"backgroundcolor\":\"#E5ECF6\",\"gridcolor\":\"white\",\"linecolor\":\"white\",\"showbackground\":true,\"ticks\":\"\",\"zerolinecolor\":\"white\",\"gridwidth\":2},\"zaxis\":{\"backgroundcolor\":\"#E5ECF6\",\"gridcolor\":\"white\",\"linecolor\":\"white\",\"showbackground\":true,\"ticks\":\"\",\"zerolinecolor\":\"white\",\"gridwidth\":2}},\"shapedefaults\":{\"line\":{\"color\":\"#2a3f5f\"}},\"annotationdefaults\":{\"arrowcolor\":\"#2a3f5f\",\"arrowhead\":0,\"arrowwidth\":1},\"geo\":{\"bgcolor\":\"white\",\"landcolor\":\"#E5ECF6\",\"subunitcolor\":\"white\",\"showland\":true,\"showlakes\":true,\"lakecolor\":\"white\"},\"title\":{\"x\":0.05},\"mapbox\":{\"style\":\"light\"}}},\"xaxis\":{\"anchor\":\"y\",\"domain\":[0.0,1.0],\"title\":{\"text\":\"\\u6837\\u672c\"}},\"yaxis\":{\"anchor\":\"x\",\"domain\":[0.0,1.0],\"title\":{\"text\":\"\\u53d6\\u503c\"}},\"legend\":{\"title\":{\"text\":\"\\u9884\\u6d4b\\u503c/\\u771f\\u5b9e\\u503c\"},\"tracegroupgap\":0},\"margin\":{\"t\":60},\"title\":{\"text\":\"STC\\u571f\\u58e4\\u5168\\u78b3\\u62df\\u5408\\u6548\\u679c\"}},                        {\"responsive\": true}                    ).then(function(){\n",
       "                            \n",
       "var gd = document.getElementById('4c73470a-17ca-4b61-addc-1d1e3878c536');\n",
       "var x = new MutationObserver(function (mutations, observer) {{\n",
       "        var display = window.getComputedStyle(gd).display;\n",
       "        if (!display || display === 'none') {{\n",
       "            console.log([gd, 'removed!']);\n",
       "            Plotly.purge(gd);\n",
       "            observer.disconnect();\n",
       "        }}\n",
       "}});\n",
       "\n",
       "// Listen for the removal of the full notebook cells\n",
       "var notebookContainer = gd.closest('#notebook-container');\n",
       "if (notebookContainer) {{\n",
       "    x.observe(notebookContainer, {childList: true});\n",
       "}}\n",
       "\n",
       "// Listen for the clearing of the current output cell\n",
       "var outputEl = gd.closest('.output');\n",
       "if (outputEl) {{\n",
       "    x.observe(outputEl, {childList: true});\n",
       "}}\n",
       "\n",
       "                        })                };                });            </script>        </div>"
      ]
     },
     "metadata": {},
     "output_type": "display_data"
    }
   ],
   "source": [
    "plotPredGndSample(STC, df)"
   ]
  },
  {
   "cell_type": "code",
   "execution_count": 39,
   "id": "88971c22",
   "metadata": {},
   "outputs": [
    {
     "data": {
      "application/vnd.plotly.v1+json": {
       "config": {
        "plotlyServerURL": "https://plot.ly"
       },
       "data": [
        {
         "hovertemplate": "variable=全氮N真实值<br>index=%{x}<br>value=%{y}<extra></extra>",
         "legendgroup": "全氮N真实值",
         "line": {
          "color": "#636efa",
          "dash": "solid"
         },
         "marker": {
          "symbol": "circle"
         },
         "mode": "lines",
         "name": "全氮N真实值",
         "orientation": "v",
         "showlegend": true,
         "type": "scatter",
         "x": [
          0,
          1,
          2,
          3,
          4,
          5,
          6,
          7,
          8,
          9,
          10,
          11,
          12,
          13,
          14,
          15,
          16,
          17,
          18,
          19,
          20,
          21,
          22,
          23,
          24,
          25,
          26,
          27,
          28,
          29,
          30,
          31,
          32,
          33,
          34,
          35,
          36,
          37,
          38,
          39,
          40,
          41,
          42,
          43,
          44,
          45,
          46,
          47,
          48,
          49,
          50,
          51,
          52,
          53,
          54,
          55,
          56,
          57,
          58,
          59
         ],
         "xaxis": "x",
         "y": [
          1.378941610455515,
          1.75276393070817,
          1.648023203015325,
          1.648516040295365,
          1.53722837567329,
          1.895495802164075,
          1.74977067857981,
          1.698385514318945,
          1.763730868697165,
          1.6590759716928,
          1.429206058382989,
          1.49884643033147,
          1.657668463885785,
          1.750125102698805,
          1.374505069106815,
          1.719360128045085,
          1.72568140551448,
          1.65061941370368,
          1.7532166093587902,
          1.4003046602010725,
          1.6947802901268,
          1.6410508565604651,
          1.70018456876278,
          1.6820009797811548,
          1.8826451897621133,
          1.9189006835222235,
          1.83664129426082,
          1.8405735741058968,
          1.89906028409799,
          1.8120707819859163,
          1.7399099717537567,
          1.6098488122224792,
          1.8334182600180269,
          1.8133175745606436,
          1.8037977317969,
          1.8550742790102968,
          1.9067321469386436,
          1.9539361571272231,
          1.9773648679256437,
          1.8556695307294533,
          2.069110721349713,
          1.9300545255343096,
          1.9239078710476567,
          1.6505278274416897,
          1.8654495974381768,
          1.97132075826327,
          2.017753894130387,
          2.185436363021533,
          2.10285,
          2.0546,
          2.23695,
          1.9448,
          2.25715,
          2.0165,
          1.96145,
          1.71225,
          1.94105,
          2.1152,
          2.1980500000000003,
          2.43115
         ],
         "yaxis": "y"
        },
        {
         "hovertemplate": "variable=全氮N预测值<br>index=%{x}<br>value=%{y}<extra></extra>",
         "legendgroup": "全氮N预测值",
         "line": {
          "color": "#EF553B",
          "dash": "solid"
         },
         "marker": {
          "symbol": "circle"
         },
         "mode": "lines",
         "name": "全氮N预测值",
         "orientation": "v",
         "showlegend": true,
         "type": "scatter",
         "x": [
          0,
          1,
          2,
          3,
          4,
          5,
          6,
          7,
          8,
          9,
          10,
          11,
          12,
          13,
          14,
          15,
          16,
          17,
          18,
          19,
          20,
          21,
          22,
          23,
          24,
          25,
          26,
          27,
          28,
          29,
          30,
          31,
          32,
          33,
          34,
          35,
          36,
          37,
          38,
          39,
          40,
          41,
          42,
          43,
          44,
          45,
          46,
          47,
          48,
          49,
          50,
          51,
          52,
          53,
          54,
          55,
          56,
          57,
          58,
          59
         ],
         "xaxis": "x",
         "y": [
          1.3798171281814575,
          1.7524971961975098,
          1.6458410024642944,
          1.649704933166504,
          1.5343104600906372,
          1.8962500095367432,
          1.749233603477478,
          1.6951172351837158,
          1.7626832723617554,
          1.6583126783370972,
          1.4287141561508179,
          1.4952293634414673,
          1.6614692211151123,
          1.7675459384918213,
          1.4058904647827148,
          1.7158271074295044,
          1.7156263589859009,
          1.6536861658096313,
          1.7476036548614502,
          1.4027165174484253,
          1.7030646800994873,
          1.6343315839767456,
          1.6898020505905151,
          1.6719324588775635,
          1.858306884765625,
          1.8789979219436646,
          1.766414999961853,
          1.8116943836212158,
          1.9323397874832153,
          1.8090171813964844,
          1.763840913772583,
          1.5702754259109497,
          1.7951030731201172,
          1.8322254419326782,
          1.8374251127243042,
          1.8912709951400757,
          1.9576164484024048,
          1.9694591760635376,
          2.029221773147583,
          1.8694264888763428,
          2.0821774005889893,
          1.9237602949142456,
          1.9060964584350586,
          1.685226559638977,
          1.897845983505249,
          1.957608699798584,
          1.991811752319336,
          2.150864601135254,
          2.071357488632202,
          2.061340570449829,
          2.2330126762390137,
          1.9684380292892456,
          2.2318766117095947,
          2.0181360244750977,
          2.019582748413086,
          1.7982096672058105,
          2.017960786819458,
          2.0672194957733154,
          2.110750198364258,
          2.254425525665283
         ],
         "yaxis": "y"
        }
       ],
       "layout": {
        "legend": {
         "title": {
          "text": "预测值/真实值"
         },
         "tracegroupgap": 0
        },
        "margin": {
         "t": 60
        },
        "template": {
         "data": {
          "bar": [
           {
            "error_x": {
             "color": "#2a3f5f"
            },
            "error_y": {
             "color": "#2a3f5f"
            },
            "marker": {
             "line": {
              "color": "#E5ECF6",
              "width": 0.5
             },
             "pattern": {
              "fillmode": "overlay",
              "size": 10,
              "solidity": 0.2
             }
            },
            "type": "bar"
           }
          ],
          "barpolar": [
           {
            "marker": {
             "line": {
              "color": "#E5ECF6",
              "width": 0.5
             },
             "pattern": {
              "fillmode": "overlay",
              "size": 10,
              "solidity": 0.2
             }
            },
            "type": "barpolar"
           }
          ],
          "carpet": [
           {
            "aaxis": {
             "endlinecolor": "#2a3f5f",
             "gridcolor": "white",
             "linecolor": "white",
             "minorgridcolor": "white",
             "startlinecolor": "#2a3f5f"
            },
            "baxis": {
             "endlinecolor": "#2a3f5f",
             "gridcolor": "white",
             "linecolor": "white",
             "minorgridcolor": "white",
             "startlinecolor": "#2a3f5f"
            },
            "type": "carpet"
           }
          ],
          "choropleth": [
           {
            "colorbar": {
             "outlinewidth": 0,
             "ticks": ""
            },
            "type": "choropleth"
           }
          ],
          "contour": [
           {
            "colorbar": {
             "outlinewidth": 0,
             "ticks": ""
            },
            "colorscale": [
             [
              0,
              "#0d0887"
             ],
             [
              0.1111111111111111,
              "#46039f"
             ],
             [
              0.2222222222222222,
              "#7201a8"
             ],
             [
              0.3333333333333333,
              "#9c179e"
             ],
             [
              0.4444444444444444,
              "#bd3786"
             ],
             [
              0.5555555555555556,
              "#d8576b"
             ],
             [
              0.6666666666666666,
              "#ed7953"
             ],
             [
              0.7777777777777778,
              "#fb9f3a"
             ],
             [
              0.8888888888888888,
              "#fdca26"
             ],
             [
              1,
              "#f0f921"
             ]
            ],
            "type": "contour"
           }
          ],
          "contourcarpet": [
           {
            "colorbar": {
             "outlinewidth": 0,
             "ticks": ""
            },
            "type": "contourcarpet"
           }
          ],
          "heatmap": [
           {
            "colorbar": {
             "outlinewidth": 0,
             "ticks": ""
            },
            "colorscale": [
             [
              0,
              "#0d0887"
             ],
             [
              0.1111111111111111,
              "#46039f"
             ],
             [
              0.2222222222222222,
              "#7201a8"
             ],
             [
              0.3333333333333333,
              "#9c179e"
             ],
             [
              0.4444444444444444,
              "#bd3786"
             ],
             [
              0.5555555555555556,
              "#d8576b"
             ],
             [
              0.6666666666666666,
              "#ed7953"
             ],
             [
              0.7777777777777778,
              "#fb9f3a"
             ],
             [
              0.8888888888888888,
              "#fdca26"
             ],
             [
              1,
              "#f0f921"
             ]
            ],
            "type": "heatmap"
           }
          ],
          "heatmapgl": [
           {
            "colorbar": {
             "outlinewidth": 0,
             "ticks": ""
            },
            "colorscale": [
             [
              0,
              "#0d0887"
             ],
             [
              0.1111111111111111,
              "#46039f"
             ],
             [
              0.2222222222222222,
              "#7201a8"
             ],
             [
              0.3333333333333333,
              "#9c179e"
             ],
             [
              0.4444444444444444,
              "#bd3786"
             ],
             [
              0.5555555555555556,
              "#d8576b"
             ],
             [
              0.6666666666666666,
              "#ed7953"
             ],
             [
              0.7777777777777778,
              "#fb9f3a"
             ],
             [
              0.8888888888888888,
              "#fdca26"
             ],
             [
              1,
              "#f0f921"
             ]
            ],
            "type": "heatmapgl"
           }
          ],
          "histogram": [
           {
            "marker": {
             "pattern": {
              "fillmode": "overlay",
              "size": 10,
              "solidity": 0.2
             }
            },
            "type": "histogram"
           }
          ],
          "histogram2d": [
           {
            "colorbar": {
             "outlinewidth": 0,
             "ticks": ""
            },
            "colorscale": [
             [
              0,
              "#0d0887"
             ],
             [
              0.1111111111111111,
              "#46039f"
             ],
             [
              0.2222222222222222,
              "#7201a8"
             ],
             [
              0.3333333333333333,
              "#9c179e"
             ],
             [
              0.4444444444444444,
              "#bd3786"
             ],
             [
              0.5555555555555556,
              "#d8576b"
             ],
             [
              0.6666666666666666,
              "#ed7953"
             ],
             [
              0.7777777777777778,
              "#fb9f3a"
             ],
             [
              0.8888888888888888,
              "#fdca26"
             ],
             [
              1,
              "#f0f921"
             ]
            ],
            "type": "histogram2d"
           }
          ],
          "histogram2dcontour": [
           {
            "colorbar": {
             "outlinewidth": 0,
             "ticks": ""
            },
            "colorscale": [
             [
              0,
              "#0d0887"
             ],
             [
              0.1111111111111111,
              "#46039f"
             ],
             [
              0.2222222222222222,
              "#7201a8"
             ],
             [
              0.3333333333333333,
              "#9c179e"
             ],
             [
              0.4444444444444444,
              "#bd3786"
             ],
             [
              0.5555555555555556,
              "#d8576b"
             ],
             [
              0.6666666666666666,
              "#ed7953"
             ],
             [
              0.7777777777777778,
              "#fb9f3a"
             ],
             [
              0.8888888888888888,
              "#fdca26"
             ],
             [
              1,
              "#f0f921"
             ]
            ],
            "type": "histogram2dcontour"
           }
          ],
          "mesh3d": [
           {
            "colorbar": {
             "outlinewidth": 0,
             "ticks": ""
            },
            "type": "mesh3d"
           }
          ],
          "parcoords": [
           {
            "line": {
             "colorbar": {
              "outlinewidth": 0,
              "ticks": ""
             }
            },
            "type": "parcoords"
           }
          ],
          "pie": [
           {
            "automargin": true,
            "type": "pie"
           }
          ],
          "scatter": [
           {
            "fillpattern": {
             "fillmode": "overlay",
             "size": 10,
             "solidity": 0.2
            },
            "type": "scatter"
           }
          ],
          "scatter3d": [
           {
            "line": {
             "colorbar": {
              "outlinewidth": 0,
              "ticks": ""
             }
            },
            "marker": {
             "colorbar": {
              "outlinewidth": 0,
              "ticks": ""
             }
            },
            "type": "scatter3d"
           }
          ],
          "scattercarpet": [
           {
            "marker": {
             "colorbar": {
              "outlinewidth": 0,
              "ticks": ""
             }
            },
            "type": "scattercarpet"
           }
          ],
          "scattergeo": [
           {
            "marker": {
             "colorbar": {
              "outlinewidth": 0,
              "ticks": ""
             }
            },
            "type": "scattergeo"
           }
          ],
          "scattergl": [
           {
            "marker": {
             "colorbar": {
              "outlinewidth": 0,
              "ticks": ""
             }
            },
            "type": "scattergl"
           }
          ],
          "scattermapbox": [
           {
            "marker": {
             "colorbar": {
              "outlinewidth": 0,
              "ticks": ""
             }
            },
            "type": "scattermapbox"
           }
          ],
          "scatterpolar": [
           {
            "marker": {
             "colorbar": {
              "outlinewidth": 0,
              "ticks": ""
             }
            },
            "type": "scatterpolar"
           }
          ],
          "scatterpolargl": [
           {
            "marker": {
             "colorbar": {
              "outlinewidth": 0,
              "ticks": ""
             }
            },
            "type": "scatterpolargl"
           }
          ],
          "scatterternary": [
           {
            "marker": {
             "colorbar": {
              "outlinewidth": 0,
              "ticks": ""
             }
            },
            "type": "scatterternary"
           }
          ],
          "surface": [
           {
            "colorbar": {
             "outlinewidth": 0,
             "ticks": ""
            },
            "colorscale": [
             [
              0,
              "#0d0887"
             ],
             [
              0.1111111111111111,
              "#46039f"
             ],
             [
              0.2222222222222222,
              "#7201a8"
             ],
             [
              0.3333333333333333,
              "#9c179e"
             ],
             [
              0.4444444444444444,
              "#bd3786"
             ],
             [
              0.5555555555555556,
              "#d8576b"
             ],
             [
              0.6666666666666666,
              "#ed7953"
             ],
             [
              0.7777777777777778,
              "#fb9f3a"
             ],
             [
              0.8888888888888888,
              "#fdca26"
             ],
             [
              1,
              "#f0f921"
             ]
            ],
            "type": "surface"
           }
          ],
          "table": [
           {
            "cells": {
             "fill": {
              "color": "#EBF0F8"
             },
             "line": {
              "color": "white"
             }
            },
            "header": {
             "fill": {
              "color": "#C8D4E3"
             },
             "line": {
              "color": "white"
             }
            },
            "type": "table"
           }
          ]
         },
         "layout": {
          "annotationdefaults": {
           "arrowcolor": "#2a3f5f",
           "arrowhead": 0,
           "arrowwidth": 1
          },
          "autotypenumbers": "strict",
          "coloraxis": {
           "colorbar": {
            "outlinewidth": 0,
            "ticks": ""
           }
          },
          "colorscale": {
           "diverging": [
            [
             0,
             "#8e0152"
            ],
            [
             0.1,
             "#c51b7d"
            ],
            [
             0.2,
             "#de77ae"
            ],
            [
             0.3,
             "#f1b6da"
            ],
            [
             0.4,
             "#fde0ef"
            ],
            [
             0.5,
             "#f7f7f7"
            ],
            [
             0.6,
             "#e6f5d0"
            ],
            [
             0.7,
             "#b8e186"
            ],
            [
             0.8,
             "#7fbc41"
            ],
            [
             0.9,
             "#4d9221"
            ],
            [
             1,
             "#276419"
            ]
           ],
           "sequential": [
            [
             0,
             "#0d0887"
            ],
            [
             0.1111111111111111,
             "#46039f"
            ],
            [
             0.2222222222222222,
             "#7201a8"
            ],
            [
             0.3333333333333333,
             "#9c179e"
            ],
            [
             0.4444444444444444,
             "#bd3786"
            ],
            [
             0.5555555555555556,
             "#d8576b"
            ],
            [
             0.6666666666666666,
             "#ed7953"
            ],
            [
             0.7777777777777778,
             "#fb9f3a"
            ],
            [
             0.8888888888888888,
             "#fdca26"
            ],
            [
             1,
             "#f0f921"
            ]
           ],
           "sequentialminus": [
            [
             0,
             "#0d0887"
            ],
            [
             0.1111111111111111,
             "#46039f"
            ],
            [
             0.2222222222222222,
             "#7201a8"
            ],
            [
             0.3333333333333333,
             "#9c179e"
            ],
            [
             0.4444444444444444,
             "#bd3786"
            ],
            [
             0.5555555555555556,
             "#d8576b"
            ],
            [
             0.6666666666666666,
             "#ed7953"
            ],
            [
             0.7777777777777778,
             "#fb9f3a"
            ],
            [
             0.8888888888888888,
             "#fdca26"
            ],
            [
             1,
             "#f0f921"
            ]
           ]
          },
          "colorway": [
           "#636efa",
           "#EF553B",
           "#00cc96",
           "#ab63fa",
           "#FFA15A",
           "#19d3f3",
           "#FF6692",
           "#B6E880",
           "#FF97FF",
           "#FECB52"
          ],
          "font": {
           "color": "#2a3f5f"
          },
          "geo": {
           "bgcolor": "white",
           "lakecolor": "white",
           "landcolor": "#E5ECF6",
           "showlakes": true,
           "showland": true,
           "subunitcolor": "white"
          },
          "hoverlabel": {
           "align": "left"
          },
          "hovermode": "closest",
          "mapbox": {
           "style": "light"
          },
          "paper_bgcolor": "white",
          "plot_bgcolor": "#E5ECF6",
          "polar": {
           "angularaxis": {
            "gridcolor": "white",
            "linecolor": "white",
            "ticks": ""
           },
           "bgcolor": "#E5ECF6",
           "radialaxis": {
            "gridcolor": "white",
            "linecolor": "white",
            "ticks": ""
           }
          },
          "scene": {
           "xaxis": {
            "backgroundcolor": "#E5ECF6",
            "gridcolor": "white",
            "gridwidth": 2,
            "linecolor": "white",
            "showbackground": true,
            "ticks": "",
            "zerolinecolor": "white"
           },
           "yaxis": {
            "backgroundcolor": "#E5ECF6",
            "gridcolor": "white",
            "gridwidth": 2,
            "linecolor": "white",
            "showbackground": true,
            "ticks": "",
            "zerolinecolor": "white"
           },
           "zaxis": {
            "backgroundcolor": "#E5ECF6",
            "gridcolor": "white",
            "gridwidth": 2,
            "linecolor": "white",
            "showbackground": true,
            "ticks": "",
            "zerolinecolor": "white"
           }
          },
          "shapedefaults": {
           "line": {
            "color": "#2a3f5f"
           }
          },
          "ternary": {
           "aaxis": {
            "gridcolor": "white",
            "linecolor": "white",
            "ticks": ""
           },
           "baxis": {
            "gridcolor": "white",
            "linecolor": "white",
            "ticks": ""
           },
           "bgcolor": "#E5ECF6",
           "caxis": {
            "gridcolor": "white",
            "linecolor": "white",
            "ticks": ""
           }
          },
          "title": {
           "x": 0.05
          },
          "xaxis": {
           "automargin": true,
           "gridcolor": "white",
           "linecolor": "white",
           "ticks": "",
           "title": {
            "standoff": 15
           },
           "zerolinecolor": "white",
           "zerolinewidth": 2
          },
          "yaxis": {
           "automargin": true,
           "gridcolor": "white",
           "linecolor": "white",
           "ticks": "",
           "title": {
            "standoff": 15
           },
           "zerolinecolor": "white",
           "zerolinewidth": 2
          }
         }
        },
        "title": {
         "text": "全氮N拟合效果"
        },
        "xaxis": {
         "anchor": "y",
         "domain": [
          0,
          1
         ],
         "title": {
          "text": "样本"
         }
        },
        "yaxis": {
         "anchor": "x",
         "domain": [
          0,
          1
         ],
         "title": {
          "text": "取值"
         }
        }
       }
      },
      "text/html": [
       "<div>                            <div id=\"2209d5ea-ee70-465e-8c8b-ec2db2b038d3\" class=\"plotly-graph-div\" style=\"height:525px; width:100%;\"></div>            <script type=\"text/javascript\">                require([\"plotly\"], function(Plotly) {                    window.PLOTLYENV=window.PLOTLYENV || {};                                    if (document.getElementById(\"2209d5ea-ee70-465e-8c8b-ec2db2b038d3\")) {                    Plotly.newPlot(                        \"2209d5ea-ee70-465e-8c8b-ec2db2b038d3\",                        [{\"hovertemplate\":\"variable=\\u5168\\u6c2eN\\u771f\\u5b9e\\u503c<br>index=%{x}<br>value=%{y}<extra></extra>\",\"legendgroup\":\"\\u5168\\u6c2eN\\u771f\\u5b9e\\u503c\",\"line\":{\"color\":\"#636efa\",\"dash\":\"solid\"},\"marker\":{\"symbol\":\"circle\"},\"mode\":\"lines\",\"name\":\"\\u5168\\u6c2eN\\u771f\\u5b9e\\u503c\",\"orientation\":\"v\",\"showlegend\":true,\"x\":[0,1,2,3,4,5,6,7,8,9,10,11,12,13,14,15,16,17,18,19,20,21,22,23,24,25,26,27,28,29,30,31,32,33,34,35,36,37,38,39,40,41,42,43,44,45,46,47,48,49,50,51,52,53,54,55,56,57,58,59],\"xaxis\":\"x\",\"y\":[1.378941610455515,1.75276393070817,1.648023203015325,1.648516040295365,1.53722837567329,1.895495802164075,1.74977067857981,1.698385514318945,1.763730868697165,1.6590759716928,1.429206058382989,1.49884643033147,1.657668463885785,1.750125102698805,1.374505069106815,1.719360128045085,1.72568140551448,1.65061941370368,1.7532166093587902,1.4003046602010725,1.6947802901268,1.6410508565604651,1.70018456876278,1.6820009797811548,1.8826451897621133,1.9189006835222235,1.83664129426082,1.8405735741058968,1.89906028409799,1.8120707819859163,1.7399099717537567,1.6098488122224792,1.8334182600180269,1.8133175745606436,1.8037977317969,1.8550742790102968,1.9067321469386436,1.9539361571272231,1.9773648679256437,1.8556695307294533,2.069110721349713,1.9300545255343096,1.9239078710476567,1.6505278274416897,1.8654495974381768,1.97132075826327,2.017753894130387,2.185436363021533,2.10285,2.0546,2.23695,1.9448,2.25715,2.0165,1.96145,1.71225,1.94105,2.1152,2.1980500000000003,2.43115],\"yaxis\":\"y\",\"type\":\"scatter\"},{\"hovertemplate\":\"variable=\\u5168\\u6c2eN\\u9884\\u6d4b\\u503c<br>index=%{x}<br>value=%{y}<extra></extra>\",\"legendgroup\":\"\\u5168\\u6c2eN\\u9884\\u6d4b\\u503c\",\"line\":{\"color\":\"#EF553B\",\"dash\":\"solid\"},\"marker\":{\"symbol\":\"circle\"},\"mode\":\"lines\",\"name\":\"\\u5168\\u6c2eN\\u9884\\u6d4b\\u503c\",\"orientation\":\"v\",\"showlegend\":true,\"x\":[0,1,2,3,4,5,6,7,8,9,10,11,12,13,14,15,16,17,18,19,20,21,22,23,24,25,26,27,28,29,30,31,32,33,34,35,36,37,38,39,40,41,42,43,44,45,46,47,48,49,50,51,52,53,54,55,56,57,58,59],\"xaxis\":\"x\",\"y\":[1.3798171281814575,1.7524971961975098,1.6458410024642944,1.649704933166504,1.5343104600906372,1.8962500095367432,1.749233603477478,1.6951172351837158,1.7626832723617554,1.6583126783370972,1.4287141561508179,1.4952293634414673,1.6614692211151123,1.7675459384918213,1.4058904647827148,1.7158271074295044,1.7156263589859009,1.6536861658096313,1.7476036548614502,1.4027165174484253,1.7030646800994873,1.6343315839767456,1.6898020505905151,1.6719324588775635,1.858306884765625,1.8789979219436646,1.766414999961853,1.8116943836212158,1.9323397874832153,1.8090171813964844,1.763840913772583,1.5702754259109497,1.7951030731201172,1.8322254419326782,1.8374251127243042,1.8912709951400757,1.9576164484024048,1.9694591760635376,2.029221773147583,1.8694264888763428,2.0821774005889893,1.9237602949142456,1.9060964584350586,1.685226559638977,1.897845983505249,1.957608699798584,1.991811752319336,2.150864601135254,2.071357488632202,2.061340570449829,2.2330126762390137,1.9684380292892456,2.2318766117095947,2.0181360244750977,2.019582748413086,1.7982096672058105,2.017960786819458,2.0672194957733154,2.110750198364258,2.254425525665283],\"yaxis\":\"y\",\"type\":\"scatter\"}],                        {\"template\":{\"data\":{\"histogram2dcontour\":[{\"type\":\"histogram2dcontour\",\"colorbar\":{\"outlinewidth\":0,\"ticks\":\"\"},\"colorscale\":[[0.0,\"#0d0887\"],[0.1111111111111111,\"#46039f\"],[0.2222222222222222,\"#7201a8\"],[0.3333333333333333,\"#9c179e\"],[0.4444444444444444,\"#bd3786\"],[0.5555555555555556,\"#d8576b\"],[0.6666666666666666,\"#ed7953\"],[0.7777777777777778,\"#fb9f3a\"],[0.8888888888888888,\"#fdca26\"],[1.0,\"#f0f921\"]]}],\"choropleth\":[{\"type\":\"choropleth\",\"colorbar\":{\"outlinewidth\":0,\"ticks\":\"\"}}],\"histogram2d\":[{\"type\":\"histogram2d\",\"colorbar\":{\"outlinewidth\":0,\"ticks\":\"\"},\"colorscale\":[[0.0,\"#0d0887\"],[0.1111111111111111,\"#46039f\"],[0.2222222222222222,\"#7201a8\"],[0.3333333333333333,\"#9c179e\"],[0.4444444444444444,\"#bd3786\"],[0.5555555555555556,\"#d8576b\"],[0.6666666666666666,\"#ed7953\"],[0.7777777777777778,\"#fb9f3a\"],[0.8888888888888888,\"#fdca26\"],[1.0,\"#f0f921\"]]}],\"heatmap\":[{\"type\":\"heatmap\",\"colorbar\":{\"outlinewidth\":0,\"ticks\":\"\"},\"colorscale\":[[0.0,\"#0d0887\"],[0.1111111111111111,\"#46039f\"],[0.2222222222222222,\"#7201a8\"],[0.3333333333333333,\"#9c179e\"],[0.4444444444444444,\"#bd3786\"],[0.5555555555555556,\"#d8576b\"],[0.6666666666666666,\"#ed7953\"],[0.7777777777777778,\"#fb9f3a\"],[0.8888888888888888,\"#fdca26\"],[1.0,\"#f0f921\"]]}],\"heatmapgl\":[{\"type\":\"heatmapgl\",\"colorbar\":{\"outlinewidth\":0,\"ticks\":\"\"},\"colorscale\":[[0.0,\"#0d0887\"],[0.1111111111111111,\"#46039f\"],[0.2222222222222222,\"#7201a8\"],[0.3333333333333333,\"#9c179e\"],[0.4444444444444444,\"#bd3786\"],[0.5555555555555556,\"#d8576b\"],[0.6666666666666666,\"#ed7953\"],[0.7777777777777778,\"#fb9f3a\"],[0.8888888888888888,\"#fdca26\"],[1.0,\"#f0f921\"]]}],\"contourcarpet\":[{\"type\":\"contourcarpet\",\"colorbar\":{\"outlinewidth\":0,\"ticks\":\"\"}}],\"contour\":[{\"type\":\"contour\",\"colorbar\":{\"outlinewidth\":0,\"ticks\":\"\"},\"colorscale\":[[0.0,\"#0d0887\"],[0.1111111111111111,\"#46039f\"],[0.2222222222222222,\"#7201a8\"],[0.3333333333333333,\"#9c179e\"],[0.4444444444444444,\"#bd3786\"],[0.5555555555555556,\"#d8576b\"],[0.6666666666666666,\"#ed7953\"],[0.7777777777777778,\"#fb9f3a\"],[0.8888888888888888,\"#fdca26\"],[1.0,\"#f0f921\"]]}],\"surface\":[{\"type\":\"surface\",\"colorbar\":{\"outlinewidth\":0,\"ticks\":\"\"},\"colorscale\":[[0.0,\"#0d0887\"],[0.1111111111111111,\"#46039f\"],[0.2222222222222222,\"#7201a8\"],[0.3333333333333333,\"#9c179e\"],[0.4444444444444444,\"#bd3786\"],[0.5555555555555556,\"#d8576b\"],[0.6666666666666666,\"#ed7953\"],[0.7777777777777778,\"#fb9f3a\"],[0.8888888888888888,\"#fdca26\"],[1.0,\"#f0f921\"]]}],\"mesh3d\":[{\"type\":\"mesh3d\",\"colorbar\":{\"outlinewidth\":0,\"ticks\":\"\"}}],\"scatter\":[{\"fillpattern\":{\"fillmode\":\"overlay\",\"size\":10,\"solidity\":0.2},\"type\":\"scatter\"}],\"parcoords\":[{\"type\":\"parcoords\",\"line\":{\"colorbar\":{\"outlinewidth\":0,\"ticks\":\"\"}}}],\"scatterpolargl\":[{\"type\":\"scatterpolargl\",\"marker\":{\"colorbar\":{\"outlinewidth\":0,\"ticks\":\"\"}}}],\"bar\":[{\"error_x\":{\"color\":\"#2a3f5f\"},\"error_y\":{\"color\":\"#2a3f5f\"},\"marker\":{\"line\":{\"color\":\"#E5ECF6\",\"width\":0.5},\"pattern\":{\"fillmode\":\"overlay\",\"size\":10,\"solidity\":0.2}},\"type\":\"bar\"}],\"scattergeo\":[{\"type\":\"scattergeo\",\"marker\":{\"colorbar\":{\"outlinewidth\":0,\"ticks\":\"\"}}}],\"scatterpolar\":[{\"type\":\"scatterpolar\",\"marker\":{\"colorbar\":{\"outlinewidth\":0,\"ticks\":\"\"}}}],\"histogram\":[{\"marker\":{\"pattern\":{\"fillmode\":\"overlay\",\"size\":10,\"solidity\":0.2}},\"type\":\"histogram\"}],\"scattergl\":[{\"type\":\"scattergl\",\"marker\":{\"colorbar\":{\"outlinewidth\":0,\"ticks\":\"\"}}}],\"scatter3d\":[{\"type\":\"scatter3d\",\"line\":{\"colorbar\":{\"outlinewidth\":0,\"ticks\":\"\"}},\"marker\":{\"colorbar\":{\"outlinewidth\":0,\"ticks\":\"\"}}}],\"scattermapbox\":[{\"type\":\"scattermapbox\",\"marker\":{\"colorbar\":{\"outlinewidth\":0,\"ticks\":\"\"}}}],\"scatterternary\":[{\"type\":\"scatterternary\",\"marker\":{\"colorbar\":{\"outlinewidth\":0,\"ticks\":\"\"}}}],\"scattercarpet\":[{\"type\":\"scattercarpet\",\"marker\":{\"colorbar\":{\"outlinewidth\":0,\"ticks\":\"\"}}}],\"carpet\":[{\"aaxis\":{\"endlinecolor\":\"#2a3f5f\",\"gridcolor\":\"white\",\"linecolor\":\"white\",\"minorgridcolor\":\"white\",\"startlinecolor\":\"#2a3f5f\"},\"baxis\":{\"endlinecolor\":\"#2a3f5f\",\"gridcolor\":\"white\",\"linecolor\":\"white\",\"minorgridcolor\":\"white\",\"startlinecolor\":\"#2a3f5f\"},\"type\":\"carpet\"}],\"table\":[{\"cells\":{\"fill\":{\"color\":\"#EBF0F8\"},\"line\":{\"color\":\"white\"}},\"header\":{\"fill\":{\"color\":\"#C8D4E3\"},\"line\":{\"color\":\"white\"}},\"type\":\"table\"}],\"barpolar\":[{\"marker\":{\"line\":{\"color\":\"#E5ECF6\",\"width\":0.5},\"pattern\":{\"fillmode\":\"overlay\",\"size\":10,\"solidity\":0.2}},\"type\":\"barpolar\"}],\"pie\":[{\"automargin\":true,\"type\":\"pie\"}]},\"layout\":{\"autotypenumbers\":\"strict\",\"colorway\":[\"#636efa\",\"#EF553B\",\"#00cc96\",\"#ab63fa\",\"#FFA15A\",\"#19d3f3\",\"#FF6692\",\"#B6E880\",\"#FF97FF\",\"#FECB52\"],\"font\":{\"color\":\"#2a3f5f\"},\"hovermode\":\"closest\",\"hoverlabel\":{\"align\":\"left\"},\"paper_bgcolor\":\"white\",\"plot_bgcolor\":\"#E5ECF6\",\"polar\":{\"bgcolor\":\"#E5ECF6\",\"angularaxis\":{\"gridcolor\":\"white\",\"linecolor\":\"white\",\"ticks\":\"\"},\"radialaxis\":{\"gridcolor\":\"white\",\"linecolor\":\"white\",\"ticks\":\"\"}},\"ternary\":{\"bgcolor\":\"#E5ECF6\",\"aaxis\":{\"gridcolor\":\"white\",\"linecolor\":\"white\",\"ticks\":\"\"},\"baxis\":{\"gridcolor\":\"white\",\"linecolor\":\"white\",\"ticks\":\"\"},\"caxis\":{\"gridcolor\":\"white\",\"linecolor\":\"white\",\"ticks\":\"\"}},\"coloraxis\":{\"colorbar\":{\"outlinewidth\":0,\"ticks\":\"\"}},\"colorscale\":{\"sequential\":[[0.0,\"#0d0887\"],[0.1111111111111111,\"#46039f\"],[0.2222222222222222,\"#7201a8\"],[0.3333333333333333,\"#9c179e\"],[0.4444444444444444,\"#bd3786\"],[0.5555555555555556,\"#d8576b\"],[0.6666666666666666,\"#ed7953\"],[0.7777777777777778,\"#fb9f3a\"],[0.8888888888888888,\"#fdca26\"],[1.0,\"#f0f921\"]],\"sequentialminus\":[[0.0,\"#0d0887\"],[0.1111111111111111,\"#46039f\"],[0.2222222222222222,\"#7201a8\"],[0.3333333333333333,\"#9c179e\"],[0.4444444444444444,\"#bd3786\"],[0.5555555555555556,\"#d8576b\"],[0.6666666666666666,\"#ed7953\"],[0.7777777777777778,\"#fb9f3a\"],[0.8888888888888888,\"#fdca26\"],[1.0,\"#f0f921\"]],\"diverging\":[[0,\"#8e0152\"],[0.1,\"#c51b7d\"],[0.2,\"#de77ae\"],[0.3,\"#f1b6da\"],[0.4,\"#fde0ef\"],[0.5,\"#f7f7f7\"],[0.6,\"#e6f5d0\"],[0.7,\"#b8e186\"],[0.8,\"#7fbc41\"],[0.9,\"#4d9221\"],[1,\"#276419\"]]},\"xaxis\":{\"gridcolor\":\"white\",\"linecolor\":\"white\",\"ticks\":\"\",\"title\":{\"standoff\":15},\"zerolinecolor\":\"white\",\"automargin\":true,\"zerolinewidth\":2},\"yaxis\":{\"gridcolor\":\"white\",\"linecolor\":\"white\",\"ticks\":\"\",\"title\":{\"standoff\":15},\"zerolinecolor\":\"white\",\"automargin\":true,\"zerolinewidth\":2},\"scene\":{\"xaxis\":{\"backgroundcolor\":\"#E5ECF6\",\"gridcolor\":\"white\",\"linecolor\":\"white\",\"showbackground\":true,\"ticks\":\"\",\"zerolinecolor\":\"white\",\"gridwidth\":2},\"yaxis\":{\"backgroundcolor\":\"#E5ECF6\",\"gridcolor\":\"white\",\"linecolor\":\"white\",\"showbackground\":true,\"ticks\":\"\",\"zerolinecolor\":\"white\",\"gridwidth\":2},\"zaxis\":{\"backgroundcolor\":\"#E5ECF6\",\"gridcolor\":\"white\",\"linecolor\":\"white\",\"showbackground\":true,\"ticks\":\"\",\"zerolinecolor\":\"white\",\"gridwidth\":2}},\"shapedefaults\":{\"line\":{\"color\":\"#2a3f5f\"}},\"annotationdefaults\":{\"arrowcolor\":\"#2a3f5f\",\"arrowhead\":0,\"arrowwidth\":1},\"geo\":{\"bgcolor\":\"white\",\"landcolor\":\"#E5ECF6\",\"subunitcolor\":\"white\",\"showland\":true,\"showlakes\":true,\"lakecolor\":\"white\"},\"title\":{\"x\":0.05},\"mapbox\":{\"style\":\"light\"}}},\"xaxis\":{\"anchor\":\"y\",\"domain\":[0.0,1.0],\"title\":{\"text\":\"\\u6837\\u672c\"}},\"yaxis\":{\"anchor\":\"x\",\"domain\":[0.0,1.0],\"title\":{\"text\":\"\\u53d6\\u503c\"}},\"legend\":{\"title\":{\"text\":\"\\u9884\\u6d4b\\u503c/\\u771f\\u5b9e\\u503c\"},\"tracegroupgap\":0},\"margin\":{\"t\":60},\"title\":{\"text\":\"\\u5168\\u6c2eN\\u62df\\u5408\\u6548\\u679c\"}},                        {\"responsive\": true}                    ).then(function(){\n",
       "                            \n",
       "var gd = document.getElementById('2209d5ea-ee70-465e-8c8b-ec2db2b038d3');\n",
       "var x = new MutationObserver(function (mutations, observer) {{\n",
       "        var display = window.getComputedStyle(gd).display;\n",
       "        if (!display || display === 'none') {{\n",
       "            console.log([gd, 'removed!']);\n",
       "            Plotly.purge(gd);\n",
       "            observer.disconnect();\n",
       "        }}\n",
       "}});\n",
       "\n",
       "// Listen for the removal of the full notebook cells\n",
       "var notebookContainer = gd.closest('#notebook-container');\n",
       "if (notebookContainer) {{\n",
       "    x.observe(notebookContainer, {childList: true});\n",
       "}}\n",
       "\n",
       "// Listen for the clearing of the current output cell\n",
       "var outputEl = gd.closest('.output');\n",
       "if (outputEl) {{\n",
       "    x.observe(outputEl, {childList: true});\n",
       "}}\n",
       "\n",
       "                        })                };                });            </script>        </div>"
      ]
     },
     "metadata": {},
     "output_type": "display_data"
    }
   ],
   "source": [
    "plotPredGndSample(ALLN, df)"
   ]
  },
  {
   "cell_type": "code",
   "execution_count": 40,
   "id": "fdb18e0e",
   "metadata": {},
   "outputs": [
    {
     "data": {
      "application/vnd.plotly.v1+json": {
       "config": {
        "plotlyServerURL": "https://plot.ly"
       },
       "data": [
        {
         "hovertemplate": "variable=土壤C/N比真实值<br>index=%{x}<br>value=%{y}<extra></extra>",
         "legendgroup": "土壤C/N比真实值",
         "line": {
          "color": "#636efa",
          "dash": "solid"
         },
         "marker": {
          "symbol": "circle"
         },
         "mode": "lines",
         "name": "土壤C/N比真实值",
         "orientation": "v",
         "showlegend": true,
         "type": "scatter",
         "x": [
          0,
          1,
          2,
          3,
          4,
          5,
          6,
          7,
          8,
          9,
          10,
          11,
          12,
          13,
          14,
          15,
          16,
          17,
          18,
          19,
          20,
          21,
          22,
          23,
          24,
          25,
          26,
          27,
          28,
          29,
          30,
          31,
          32,
          33,
          34,
          35,
          36,
          37,
          38,
          39,
          40,
          41,
          42,
          43,
          44,
          45,
          46,
          47,
          48,
          49,
          50,
          51,
          52,
          53,
          54,
          55,
          56,
          57,
          58,
          59
         ],
         "xaxis": "x",
         "y": [
          17.394694613097947,
          14.2450730068686,
          17.020658860617303,
          14.458515647588602,
          13.98001576650915,
          15.1997829025259,
          12.481756683321487,
          12.38359118349098,
          13.41229513946,
          16.0129283545676,
          18.991705064656053,
          15.64497553187385,
          13.352373972316016,
          16.6561094551089,
          16.69590039210555,
          14.564787681556153,
          15.418518234555648,
          15.370424689521249,
          13.57317607115435,
          17.7941215171551,
          13.509831338850953,
          15.823591185162702,
          14.10361217007835,
          14.19463296494865,
          11.844474236871896,
          12.394790883918256,
          12.799613004302683,
          11.820230564972784,
          13.570944000764204,
          12.143385053896589,
          11.22309163228626,
          16.5000214233006,
          11.945594638077312,
          14.102623598435844,
          12.600770237803848,
          12.888814736974716,
          11.251682153841491,
          12.07821959149417,
          10.667015678995872,
          11.9100425796488,
          13.30553118211072,
          10.994638526277557,
          10.399164411673809,
          15.7535147298555,
          9.564031678359456,
          12.85851378641596,
          11.782797336522044,
          11.483865143001282,
          9.632926742278336,
          10.039253382653555,
          9.084758264601351,
          10.278023447141097,
          11.746361562146957,
          8.82263823456484,
          9.22682199393306,
          14.364987589429116,
          8.411735916127869,
          10.8476976172466,
          9.826869270489752,
          9.953478806326226
         ],
         "yaxis": "y"
        },
        {
         "hovertemplate": "variable=土壤C/N比预测值<br>index=%{x}<br>value=%{y}<extra></extra>",
         "legendgroup": "土壤C/N比预测值",
         "line": {
          "color": "#EF553B",
          "dash": "solid"
         },
         "marker": {
          "symbol": "circle"
         },
         "mode": "lines",
         "name": "土壤C/N比预测值",
         "orientation": "v",
         "showlegend": true,
         "type": "scatter",
         "x": [
          0,
          1,
          2,
          3,
          4,
          5,
          6,
          7,
          8,
          9,
          10,
          11,
          12,
          13,
          14,
          15,
          16,
          17,
          18,
          19,
          20,
          21,
          22,
          23,
          24,
          25,
          26,
          27,
          28,
          29,
          30,
          31,
          32,
          33,
          34,
          35,
          36,
          37,
          38,
          39,
          40,
          41,
          42,
          43,
          44,
          45,
          46,
          47,
          48,
          49,
          50,
          51,
          52,
          53,
          54,
          55,
          56,
          57,
          58,
          59
         ],
         "xaxis": "x",
         "y": [
          17.385387420654297,
          14.24061393737793,
          17.062847137451172,
          14.455208778381348,
          14.018138885498047,
          15.186457633972168,
          12.499669075012207,
          12.410774230957031,
          13.436836242675781,
          16.019948959350586,
          18.99236297607422,
          15.70382022857666,
          13.318093299865723,
          16.6248722076416,
          16.453739166259766,
          14.554516792297363,
          15.38300895690918,
          15.323114395141602,
          13.456949234008789,
          17.6934871673584,
          13.563931465148926,
          15.88649845123291,
          14.168619155883789,
          14.210487365722656,
          11.879012107849121,
          12.793107986450195,
          13.023094177246094,
          12.114189147949219,
          13.726465225219727,
          12.19647216796875,
          11.386472702026367,
          16.577722549438477,
          11.572125434875488,
          14.041013717651367,
          12.600430488586426,
          12.7033052444458,
          10.87255573272705,
          11.449872970581055,
          10.542478561401367,
          11.375091552734375,
          12.816584587097168,
          10.560894966125488,
          10.227970123291016,
          15.665780067443848,
          9.682010650634766,
          12.760608673095703,
          11.542139053344727,
          11.523882865905762,
          9.814957618713379,
          10.1736478805542,
          8.897947311401367,
          10.349295616149902,
          11.893584251403809,
          9.046100616455078,
          9.230878829956055,
          14.637415885925293,
          8.559019088745117,
          11.595842361450195,
          10.4110746383667,
          10.549722671508789
         ],
         "yaxis": "y"
        }
       ],
       "layout": {
        "legend": {
         "title": {
          "text": "预测值/真实值"
         },
         "tracegroupgap": 0
        },
        "margin": {
         "t": 60
        },
        "template": {
         "data": {
          "bar": [
           {
            "error_x": {
             "color": "#2a3f5f"
            },
            "error_y": {
             "color": "#2a3f5f"
            },
            "marker": {
             "line": {
              "color": "#E5ECF6",
              "width": 0.5
             },
             "pattern": {
              "fillmode": "overlay",
              "size": 10,
              "solidity": 0.2
             }
            },
            "type": "bar"
           }
          ],
          "barpolar": [
           {
            "marker": {
             "line": {
              "color": "#E5ECF6",
              "width": 0.5
             },
             "pattern": {
              "fillmode": "overlay",
              "size": 10,
              "solidity": 0.2
             }
            },
            "type": "barpolar"
           }
          ],
          "carpet": [
           {
            "aaxis": {
             "endlinecolor": "#2a3f5f",
             "gridcolor": "white",
             "linecolor": "white",
             "minorgridcolor": "white",
             "startlinecolor": "#2a3f5f"
            },
            "baxis": {
             "endlinecolor": "#2a3f5f",
             "gridcolor": "white",
             "linecolor": "white",
             "minorgridcolor": "white",
             "startlinecolor": "#2a3f5f"
            },
            "type": "carpet"
           }
          ],
          "choropleth": [
           {
            "colorbar": {
             "outlinewidth": 0,
             "ticks": ""
            },
            "type": "choropleth"
           }
          ],
          "contour": [
           {
            "colorbar": {
             "outlinewidth": 0,
             "ticks": ""
            },
            "colorscale": [
             [
              0,
              "#0d0887"
             ],
             [
              0.1111111111111111,
              "#46039f"
             ],
             [
              0.2222222222222222,
              "#7201a8"
             ],
             [
              0.3333333333333333,
              "#9c179e"
             ],
             [
              0.4444444444444444,
              "#bd3786"
             ],
             [
              0.5555555555555556,
              "#d8576b"
             ],
             [
              0.6666666666666666,
              "#ed7953"
             ],
             [
              0.7777777777777778,
              "#fb9f3a"
             ],
             [
              0.8888888888888888,
              "#fdca26"
             ],
             [
              1,
              "#f0f921"
             ]
            ],
            "type": "contour"
           }
          ],
          "contourcarpet": [
           {
            "colorbar": {
             "outlinewidth": 0,
             "ticks": ""
            },
            "type": "contourcarpet"
           }
          ],
          "heatmap": [
           {
            "colorbar": {
             "outlinewidth": 0,
             "ticks": ""
            },
            "colorscale": [
             [
              0,
              "#0d0887"
             ],
             [
              0.1111111111111111,
              "#46039f"
             ],
             [
              0.2222222222222222,
              "#7201a8"
             ],
             [
              0.3333333333333333,
              "#9c179e"
             ],
             [
              0.4444444444444444,
              "#bd3786"
             ],
             [
              0.5555555555555556,
              "#d8576b"
             ],
             [
              0.6666666666666666,
              "#ed7953"
             ],
             [
              0.7777777777777778,
              "#fb9f3a"
             ],
             [
              0.8888888888888888,
              "#fdca26"
             ],
             [
              1,
              "#f0f921"
             ]
            ],
            "type": "heatmap"
           }
          ],
          "heatmapgl": [
           {
            "colorbar": {
             "outlinewidth": 0,
             "ticks": ""
            },
            "colorscale": [
             [
              0,
              "#0d0887"
             ],
             [
              0.1111111111111111,
              "#46039f"
             ],
             [
              0.2222222222222222,
              "#7201a8"
             ],
             [
              0.3333333333333333,
              "#9c179e"
             ],
             [
              0.4444444444444444,
              "#bd3786"
             ],
             [
              0.5555555555555556,
              "#d8576b"
             ],
             [
              0.6666666666666666,
              "#ed7953"
             ],
             [
              0.7777777777777778,
              "#fb9f3a"
             ],
             [
              0.8888888888888888,
              "#fdca26"
             ],
             [
              1,
              "#f0f921"
             ]
            ],
            "type": "heatmapgl"
           }
          ],
          "histogram": [
           {
            "marker": {
             "pattern": {
              "fillmode": "overlay",
              "size": 10,
              "solidity": 0.2
             }
            },
            "type": "histogram"
           }
          ],
          "histogram2d": [
           {
            "colorbar": {
             "outlinewidth": 0,
             "ticks": ""
            },
            "colorscale": [
             [
              0,
              "#0d0887"
             ],
             [
              0.1111111111111111,
              "#46039f"
             ],
             [
              0.2222222222222222,
              "#7201a8"
             ],
             [
              0.3333333333333333,
              "#9c179e"
             ],
             [
              0.4444444444444444,
              "#bd3786"
             ],
             [
              0.5555555555555556,
              "#d8576b"
             ],
             [
              0.6666666666666666,
              "#ed7953"
             ],
             [
              0.7777777777777778,
              "#fb9f3a"
             ],
             [
              0.8888888888888888,
              "#fdca26"
             ],
             [
              1,
              "#f0f921"
             ]
            ],
            "type": "histogram2d"
           }
          ],
          "histogram2dcontour": [
           {
            "colorbar": {
             "outlinewidth": 0,
             "ticks": ""
            },
            "colorscale": [
             [
              0,
              "#0d0887"
             ],
             [
              0.1111111111111111,
              "#46039f"
             ],
             [
              0.2222222222222222,
              "#7201a8"
             ],
             [
              0.3333333333333333,
              "#9c179e"
             ],
             [
              0.4444444444444444,
              "#bd3786"
             ],
             [
              0.5555555555555556,
              "#d8576b"
             ],
             [
              0.6666666666666666,
              "#ed7953"
             ],
             [
              0.7777777777777778,
              "#fb9f3a"
             ],
             [
              0.8888888888888888,
              "#fdca26"
             ],
             [
              1,
              "#f0f921"
             ]
            ],
            "type": "histogram2dcontour"
           }
          ],
          "mesh3d": [
           {
            "colorbar": {
             "outlinewidth": 0,
             "ticks": ""
            },
            "type": "mesh3d"
           }
          ],
          "parcoords": [
           {
            "line": {
             "colorbar": {
              "outlinewidth": 0,
              "ticks": ""
             }
            },
            "type": "parcoords"
           }
          ],
          "pie": [
           {
            "automargin": true,
            "type": "pie"
           }
          ],
          "scatter": [
           {
            "fillpattern": {
             "fillmode": "overlay",
             "size": 10,
             "solidity": 0.2
            },
            "type": "scatter"
           }
          ],
          "scatter3d": [
           {
            "line": {
             "colorbar": {
              "outlinewidth": 0,
              "ticks": ""
             }
            },
            "marker": {
             "colorbar": {
              "outlinewidth": 0,
              "ticks": ""
             }
            },
            "type": "scatter3d"
           }
          ],
          "scattercarpet": [
           {
            "marker": {
             "colorbar": {
              "outlinewidth": 0,
              "ticks": ""
             }
            },
            "type": "scattercarpet"
           }
          ],
          "scattergeo": [
           {
            "marker": {
             "colorbar": {
              "outlinewidth": 0,
              "ticks": ""
             }
            },
            "type": "scattergeo"
           }
          ],
          "scattergl": [
           {
            "marker": {
             "colorbar": {
              "outlinewidth": 0,
              "ticks": ""
             }
            },
            "type": "scattergl"
           }
          ],
          "scattermapbox": [
           {
            "marker": {
             "colorbar": {
              "outlinewidth": 0,
              "ticks": ""
             }
            },
            "type": "scattermapbox"
           }
          ],
          "scatterpolar": [
           {
            "marker": {
             "colorbar": {
              "outlinewidth": 0,
              "ticks": ""
             }
            },
            "type": "scatterpolar"
           }
          ],
          "scatterpolargl": [
           {
            "marker": {
             "colorbar": {
              "outlinewidth": 0,
              "ticks": ""
             }
            },
            "type": "scatterpolargl"
           }
          ],
          "scatterternary": [
           {
            "marker": {
             "colorbar": {
              "outlinewidth": 0,
              "ticks": ""
             }
            },
            "type": "scatterternary"
           }
          ],
          "surface": [
           {
            "colorbar": {
             "outlinewidth": 0,
             "ticks": ""
            },
            "colorscale": [
             [
              0,
              "#0d0887"
             ],
             [
              0.1111111111111111,
              "#46039f"
             ],
             [
              0.2222222222222222,
              "#7201a8"
             ],
             [
              0.3333333333333333,
              "#9c179e"
             ],
             [
              0.4444444444444444,
              "#bd3786"
             ],
             [
              0.5555555555555556,
              "#d8576b"
             ],
             [
              0.6666666666666666,
              "#ed7953"
             ],
             [
              0.7777777777777778,
              "#fb9f3a"
             ],
             [
              0.8888888888888888,
              "#fdca26"
             ],
             [
              1,
              "#f0f921"
             ]
            ],
            "type": "surface"
           }
          ],
          "table": [
           {
            "cells": {
             "fill": {
              "color": "#EBF0F8"
             },
             "line": {
              "color": "white"
             }
            },
            "header": {
             "fill": {
              "color": "#C8D4E3"
             },
             "line": {
              "color": "white"
             }
            },
            "type": "table"
           }
          ]
         },
         "layout": {
          "annotationdefaults": {
           "arrowcolor": "#2a3f5f",
           "arrowhead": 0,
           "arrowwidth": 1
          },
          "autotypenumbers": "strict",
          "coloraxis": {
           "colorbar": {
            "outlinewidth": 0,
            "ticks": ""
           }
          },
          "colorscale": {
           "diverging": [
            [
             0,
             "#8e0152"
            ],
            [
             0.1,
             "#c51b7d"
            ],
            [
             0.2,
             "#de77ae"
            ],
            [
             0.3,
             "#f1b6da"
            ],
            [
             0.4,
             "#fde0ef"
            ],
            [
             0.5,
             "#f7f7f7"
            ],
            [
             0.6,
             "#e6f5d0"
            ],
            [
             0.7,
             "#b8e186"
            ],
            [
             0.8,
             "#7fbc41"
            ],
            [
             0.9,
             "#4d9221"
            ],
            [
             1,
             "#276419"
            ]
           ],
           "sequential": [
            [
             0,
             "#0d0887"
            ],
            [
             0.1111111111111111,
             "#46039f"
            ],
            [
             0.2222222222222222,
             "#7201a8"
            ],
            [
             0.3333333333333333,
             "#9c179e"
            ],
            [
             0.4444444444444444,
             "#bd3786"
            ],
            [
             0.5555555555555556,
             "#d8576b"
            ],
            [
             0.6666666666666666,
             "#ed7953"
            ],
            [
             0.7777777777777778,
             "#fb9f3a"
            ],
            [
             0.8888888888888888,
             "#fdca26"
            ],
            [
             1,
             "#f0f921"
            ]
           ],
           "sequentialminus": [
            [
             0,
             "#0d0887"
            ],
            [
             0.1111111111111111,
             "#46039f"
            ],
            [
             0.2222222222222222,
             "#7201a8"
            ],
            [
             0.3333333333333333,
             "#9c179e"
            ],
            [
             0.4444444444444444,
             "#bd3786"
            ],
            [
             0.5555555555555556,
             "#d8576b"
            ],
            [
             0.6666666666666666,
             "#ed7953"
            ],
            [
             0.7777777777777778,
             "#fb9f3a"
            ],
            [
             0.8888888888888888,
             "#fdca26"
            ],
            [
             1,
             "#f0f921"
            ]
           ]
          },
          "colorway": [
           "#636efa",
           "#EF553B",
           "#00cc96",
           "#ab63fa",
           "#FFA15A",
           "#19d3f3",
           "#FF6692",
           "#B6E880",
           "#FF97FF",
           "#FECB52"
          ],
          "font": {
           "color": "#2a3f5f"
          },
          "geo": {
           "bgcolor": "white",
           "lakecolor": "white",
           "landcolor": "#E5ECF6",
           "showlakes": true,
           "showland": true,
           "subunitcolor": "white"
          },
          "hoverlabel": {
           "align": "left"
          },
          "hovermode": "closest",
          "mapbox": {
           "style": "light"
          },
          "paper_bgcolor": "white",
          "plot_bgcolor": "#E5ECF6",
          "polar": {
           "angularaxis": {
            "gridcolor": "white",
            "linecolor": "white",
            "ticks": ""
           },
           "bgcolor": "#E5ECF6",
           "radialaxis": {
            "gridcolor": "white",
            "linecolor": "white",
            "ticks": ""
           }
          },
          "scene": {
           "xaxis": {
            "backgroundcolor": "#E5ECF6",
            "gridcolor": "white",
            "gridwidth": 2,
            "linecolor": "white",
            "showbackground": true,
            "ticks": "",
            "zerolinecolor": "white"
           },
           "yaxis": {
            "backgroundcolor": "#E5ECF6",
            "gridcolor": "white",
            "gridwidth": 2,
            "linecolor": "white",
            "showbackground": true,
            "ticks": "",
            "zerolinecolor": "white"
           },
           "zaxis": {
            "backgroundcolor": "#E5ECF6",
            "gridcolor": "white",
            "gridwidth": 2,
            "linecolor": "white",
            "showbackground": true,
            "ticks": "",
            "zerolinecolor": "white"
           }
          },
          "shapedefaults": {
           "line": {
            "color": "#2a3f5f"
           }
          },
          "ternary": {
           "aaxis": {
            "gridcolor": "white",
            "linecolor": "white",
            "ticks": ""
           },
           "baxis": {
            "gridcolor": "white",
            "linecolor": "white",
            "ticks": ""
           },
           "bgcolor": "#E5ECF6",
           "caxis": {
            "gridcolor": "white",
            "linecolor": "white",
            "ticks": ""
           }
          },
          "title": {
           "x": 0.05
          },
          "xaxis": {
           "automargin": true,
           "gridcolor": "white",
           "linecolor": "white",
           "ticks": "",
           "title": {
            "standoff": 15
           },
           "zerolinecolor": "white",
           "zerolinewidth": 2
          },
          "yaxis": {
           "automargin": true,
           "gridcolor": "white",
           "linecolor": "white",
           "ticks": "",
           "title": {
            "standoff": 15
           },
           "zerolinecolor": "white",
           "zerolinewidth": 2
          }
         }
        },
        "title": {
         "text": "土壤C/N比拟合效果"
        },
        "xaxis": {
         "anchor": "y",
         "domain": [
          0,
          1
         ],
         "title": {
          "text": "样本"
         }
        },
        "yaxis": {
         "anchor": "x",
         "domain": [
          0,
          1
         ],
         "title": {
          "text": "取值"
         }
        }
       }
      },
      "text/html": [
       "<div>                            <div id=\"87a7d167-02d7-4670-800b-05546a9b30df\" class=\"plotly-graph-div\" style=\"height:525px; width:100%;\"></div>            <script type=\"text/javascript\">                require([\"plotly\"], function(Plotly) {                    window.PLOTLYENV=window.PLOTLYENV || {};                                    if (document.getElementById(\"87a7d167-02d7-4670-800b-05546a9b30df\")) {                    Plotly.newPlot(                        \"87a7d167-02d7-4670-800b-05546a9b30df\",                        [{\"hovertemplate\":\"variable=\\u571f\\u58e4C/N\\u6bd4\\u771f\\u5b9e\\u503c<br>index=%{x}<br>value=%{y}<extra></extra>\",\"legendgroup\":\"\\u571f\\u58e4C/N\\u6bd4\\u771f\\u5b9e\\u503c\",\"line\":{\"color\":\"#636efa\",\"dash\":\"solid\"},\"marker\":{\"symbol\":\"circle\"},\"mode\":\"lines\",\"name\":\"\\u571f\\u58e4C/N\\u6bd4\\u771f\\u5b9e\\u503c\",\"orientation\":\"v\",\"showlegend\":true,\"x\":[0,1,2,3,4,5,6,7,8,9,10,11,12,13,14,15,16,17,18,19,20,21,22,23,24,25,26,27,28,29,30,31,32,33,34,35,36,37,38,39,40,41,42,43,44,45,46,47,48,49,50,51,52,53,54,55,56,57,58,59],\"xaxis\":\"x\",\"y\":[17.394694613097947,14.2450730068686,17.020658860617303,14.458515647588602,13.98001576650915,15.1997829025259,12.481756683321487,12.38359118349098,13.41229513946,16.0129283545676,18.991705064656053,15.64497553187385,13.352373972316016,16.6561094551089,16.69590039210555,14.564787681556153,15.418518234555648,15.370424689521249,13.57317607115435,17.7941215171551,13.509831338850953,15.823591185162702,14.10361217007835,14.19463296494865,11.844474236871896,12.394790883918256,12.799613004302683,11.820230564972784,13.570944000764204,12.143385053896589,11.22309163228626,16.5000214233006,11.945594638077312,14.102623598435844,12.600770237803848,12.888814736974716,11.251682153841491,12.07821959149417,10.667015678995872,11.9100425796488,13.30553118211072,10.994638526277557,10.399164411673809,15.7535147298555,9.564031678359456,12.85851378641596,11.782797336522044,11.483865143001282,9.632926742278336,10.039253382653555,9.084758264601351,10.278023447141097,11.746361562146957,8.82263823456484,9.22682199393306,14.364987589429116,8.411735916127869,10.8476976172466,9.826869270489752,9.953478806326226],\"yaxis\":\"y\",\"type\":\"scatter\"},{\"hovertemplate\":\"variable=\\u571f\\u58e4C/N\\u6bd4\\u9884\\u6d4b\\u503c<br>index=%{x}<br>value=%{y}<extra></extra>\",\"legendgroup\":\"\\u571f\\u58e4C/N\\u6bd4\\u9884\\u6d4b\\u503c\",\"line\":{\"color\":\"#EF553B\",\"dash\":\"solid\"},\"marker\":{\"symbol\":\"circle\"},\"mode\":\"lines\",\"name\":\"\\u571f\\u58e4C/N\\u6bd4\\u9884\\u6d4b\\u503c\",\"orientation\":\"v\",\"showlegend\":true,\"x\":[0,1,2,3,4,5,6,7,8,9,10,11,12,13,14,15,16,17,18,19,20,21,22,23,24,25,26,27,28,29,30,31,32,33,34,35,36,37,38,39,40,41,42,43,44,45,46,47,48,49,50,51,52,53,54,55,56,57,58,59],\"xaxis\":\"x\",\"y\":[17.385387420654297,14.24061393737793,17.062847137451172,14.455208778381348,14.018138885498047,15.186457633972168,12.499669075012207,12.410774230957031,13.436836242675781,16.019948959350586,18.99236297607422,15.70382022857666,13.318093299865723,16.6248722076416,16.453739166259766,14.554516792297363,15.38300895690918,15.323114395141602,13.456949234008789,17.6934871673584,13.563931465148926,15.88649845123291,14.168619155883789,14.210487365722656,11.879012107849121,12.793107986450195,13.023094177246094,12.114189147949219,13.726465225219727,12.19647216796875,11.386472702026367,16.577722549438477,11.572125434875488,14.041013717651367,12.600430488586426,12.7033052444458,10.87255573272705,11.449872970581055,10.542478561401367,11.375091552734375,12.816584587097168,10.560894966125488,10.227970123291016,15.665780067443848,9.682010650634766,12.760608673095703,11.542139053344727,11.523882865905762,9.814957618713379,10.1736478805542,8.897947311401367,10.349295616149902,11.893584251403809,9.046100616455078,9.230878829956055,14.637415885925293,8.559019088745117,11.595842361450195,10.4110746383667,10.549722671508789],\"yaxis\":\"y\",\"type\":\"scatter\"}],                        {\"template\":{\"data\":{\"histogram2dcontour\":[{\"type\":\"histogram2dcontour\",\"colorbar\":{\"outlinewidth\":0,\"ticks\":\"\"},\"colorscale\":[[0.0,\"#0d0887\"],[0.1111111111111111,\"#46039f\"],[0.2222222222222222,\"#7201a8\"],[0.3333333333333333,\"#9c179e\"],[0.4444444444444444,\"#bd3786\"],[0.5555555555555556,\"#d8576b\"],[0.6666666666666666,\"#ed7953\"],[0.7777777777777778,\"#fb9f3a\"],[0.8888888888888888,\"#fdca26\"],[1.0,\"#f0f921\"]]}],\"choropleth\":[{\"type\":\"choropleth\",\"colorbar\":{\"outlinewidth\":0,\"ticks\":\"\"}}],\"histogram2d\":[{\"type\":\"histogram2d\",\"colorbar\":{\"outlinewidth\":0,\"ticks\":\"\"},\"colorscale\":[[0.0,\"#0d0887\"],[0.1111111111111111,\"#46039f\"],[0.2222222222222222,\"#7201a8\"],[0.3333333333333333,\"#9c179e\"],[0.4444444444444444,\"#bd3786\"],[0.5555555555555556,\"#d8576b\"],[0.6666666666666666,\"#ed7953\"],[0.7777777777777778,\"#fb9f3a\"],[0.8888888888888888,\"#fdca26\"],[1.0,\"#f0f921\"]]}],\"heatmap\":[{\"type\":\"heatmap\",\"colorbar\":{\"outlinewidth\":0,\"ticks\":\"\"},\"colorscale\":[[0.0,\"#0d0887\"],[0.1111111111111111,\"#46039f\"],[0.2222222222222222,\"#7201a8\"],[0.3333333333333333,\"#9c179e\"],[0.4444444444444444,\"#bd3786\"],[0.5555555555555556,\"#d8576b\"],[0.6666666666666666,\"#ed7953\"],[0.7777777777777778,\"#fb9f3a\"],[0.8888888888888888,\"#fdca26\"],[1.0,\"#f0f921\"]]}],\"heatmapgl\":[{\"type\":\"heatmapgl\",\"colorbar\":{\"outlinewidth\":0,\"ticks\":\"\"},\"colorscale\":[[0.0,\"#0d0887\"],[0.1111111111111111,\"#46039f\"],[0.2222222222222222,\"#7201a8\"],[0.3333333333333333,\"#9c179e\"],[0.4444444444444444,\"#bd3786\"],[0.5555555555555556,\"#d8576b\"],[0.6666666666666666,\"#ed7953\"],[0.7777777777777778,\"#fb9f3a\"],[0.8888888888888888,\"#fdca26\"],[1.0,\"#f0f921\"]]}],\"contourcarpet\":[{\"type\":\"contourcarpet\",\"colorbar\":{\"outlinewidth\":0,\"ticks\":\"\"}}],\"contour\":[{\"type\":\"contour\",\"colorbar\":{\"outlinewidth\":0,\"ticks\":\"\"},\"colorscale\":[[0.0,\"#0d0887\"],[0.1111111111111111,\"#46039f\"],[0.2222222222222222,\"#7201a8\"],[0.3333333333333333,\"#9c179e\"],[0.4444444444444444,\"#bd3786\"],[0.5555555555555556,\"#d8576b\"],[0.6666666666666666,\"#ed7953\"],[0.7777777777777778,\"#fb9f3a\"],[0.8888888888888888,\"#fdca26\"],[1.0,\"#f0f921\"]]}],\"surface\":[{\"type\":\"surface\",\"colorbar\":{\"outlinewidth\":0,\"ticks\":\"\"},\"colorscale\":[[0.0,\"#0d0887\"],[0.1111111111111111,\"#46039f\"],[0.2222222222222222,\"#7201a8\"],[0.3333333333333333,\"#9c179e\"],[0.4444444444444444,\"#bd3786\"],[0.5555555555555556,\"#d8576b\"],[0.6666666666666666,\"#ed7953\"],[0.7777777777777778,\"#fb9f3a\"],[0.8888888888888888,\"#fdca26\"],[1.0,\"#f0f921\"]]}],\"mesh3d\":[{\"type\":\"mesh3d\",\"colorbar\":{\"outlinewidth\":0,\"ticks\":\"\"}}],\"scatter\":[{\"fillpattern\":{\"fillmode\":\"overlay\",\"size\":10,\"solidity\":0.2},\"type\":\"scatter\"}],\"parcoords\":[{\"type\":\"parcoords\",\"line\":{\"colorbar\":{\"outlinewidth\":0,\"ticks\":\"\"}}}],\"scatterpolargl\":[{\"type\":\"scatterpolargl\",\"marker\":{\"colorbar\":{\"outlinewidth\":0,\"ticks\":\"\"}}}],\"bar\":[{\"error_x\":{\"color\":\"#2a3f5f\"},\"error_y\":{\"color\":\"#2a3f5f\"},\"marker\":{\"line\":{\"color\":\"#E5ECF6\",\"width\":0.5},\"pattern\":{\"fillmode\":\"overlay\",\"size\":10,\"solidity\":0.2}},\"type\":\"bar\"}],\"scattergeo\":[{\"type\":\"scattergeo\",\"marker\":{\"colorbar\":{\"outlinewidth\":0,\"ticks\":\"\"}}}],\"scatterpolar\":[{\"type\":\"scatterpolar\",\"marker\":{\"colorbar\":{\"outlinewidth\":0,\"ticks\":\"\"}}}],\"histogram\":[{\"marker\":{\"pattern\":{\"fillmode\":\"overlay\",\"size\":10,\"solidity\":0.2}},\"type\":\"histogram\"}],\"scattergl\":[{\"type\":\"scattergl\",\"marker\":{\"colorbar\":{\"outlinewidth\":0,\"ticks\":\"\"}}}],\"scatter3d\":[{\"type\":\"scatter3d\",\"line\":{\"colorbar\":{\"outlinewidth\":0,\"ticks\":\"\"}},\"marker\":{\"colorbar\":{\"outlinewidth\":0,\"ticks\":\"\"}}}],\"scattermapbox\":[{\"type\":\"scattermapbox\",\"marker\":{\"colorbar\":{\"outlinewidth\":0,\"ticks\":\"\"}}}],\"scatterternary\":[{\"type\":\"scatterternary\",\"marker\":{\"colorbar\":{\"outlinewidth\":0,\"ticks\":\"\"}}}],\"scattercarpet\":[{\"type\":\"scattercarpet\",\"marker\":{\"colorbar\":{\"outlinewidth\":0,\"ticks\":\"\"}}}],\"carpet\":[{\"aaxis\":{\"endlinecolor\":\"#2a3f5f\",\"gridcolor\":\"white\",\"linecolor\":\"white\",\"minorgridcolor\":\"white\",\"startlinecolor\":\"#2a3f5f\"},\"baxis\":{\"endlinecolor\":\"#2a3f5f\",\"gridcolor\":\"white\",\"linecolor\":\"white\",\"minorgridcolor\":\"white\",\"startlinecolor\":\"#2a3f5f\"},\"type\":\"carpet\"}],\"table\":[{\"cells\":{\"fill\":{\"color\":\"#EBF0F8\"},\"line\":{\"color\":\"white\"}},\"header\":{\"fill\":{\"color\":\"#C8D4E3\"},\"line\":{\"color\":\"white\"}},\"type\":\"table\"}],\"barpolar\":[{\"marker\":{\"line\":{\"color\":\"#E5ECF6\",\"width\":0.5},\"pattern\":{\"fillmode\":\"overlay\",\"size\":10,\"solidity\":0.2}},\"type\":\"barpolar\"}],\"pie\":[{\"automargin\":true,\"type\":\"pie\"}]},\"layout\":{\"autotypenumbers\":\"strict\",\"colorway\":[\"#636efa\",\"#EF553B\",\"#00cc96\",\"#ab63fa\",\"#FFA15A\",\"#19d3f3\",\"#FF6692\",\"#B6E880\",\"#FF97FF\",\"#FECB52\"],\"font\":{\"color\":\"#2a3f5f\"},\"hovermode\":\"closest\",\"hoverlabel\":{\"align\":\"left\"},\"paper_bgcolor\":\"white\",\"plot_bgcolor\":\"#E5ECF6\",\"polar\":{\"bgcolor\":\"#E5ECF6\",\"angularaxis\":{\"gridcolor\":\"white\",\"linecolor\":\"white\",\"ticks\":\"\"},\"radialaxis\":{\"gridcolor\":\"white\",\"linecolor\":\"white\",\"ticks\":\"\"}},\"ternary\":{\"bgcolor\":\"#E5ECF6\",\"aaxis\":{\"gridcolor\":\"white\",\"linecolor\":\"white\",\"ticks\":\"\"},\"baxis\":{\"gridcolor\":\"white\",\"linecolor\":\"white\",\"ticks\":\"\"},\"caxis\":{\"gridcolor\":\"white\",\"linecolor\":\"white\",\"ticks\":\"\"}},\"coloraxis\":{\"colorbar\":{\"outlinewidth\":0,\"ticks\":\"\"}},\"colorscale\":{\"sequential\":[[0.0,\"#0d0887\"],[0.1111111111111111,\"#46039f\"],[0.2222222222222222,\"#7201a8\"],[0.3333333333333333,\"#9c179e\"],[0.4444444444444444,\"#bd3786\"],[0.5555555555555556,\"#d8576b\"],[0.6666666666666666,\"#ed7953\"],[0.7777777777777778,\"#fb9f3a\"],[0.8888888888888888,\"#fdca26\"],[1.0,\"#f0f921\"]],\"sequentialminus\":[[0.0,\"#0d0887\"],[0.1111111111111111,\"#46039f\"],[0.2222222222222222,\"#7201a8\"],[0.3333333333333333,\"#9c179e\"],[0.4444444444444444,\"#bd3786\"],[0.5555555555555556,\"#d8576b\"],[0.6666666666666666,\"#ed7953\"],[0.7777777777777778,\"#fb9f3a\"],[0.8888888888888888,\"#fdca26\"],[1.0,\"#f0f921\"]],\"diverging\":[[0,\"#8e0152\"],[0.1,\"#c51b7d\"],[0.2,\"#de77ae\"],[0.3,\"#f1b6da\"],[0.4,\"#fde0ef\"],[0.5,\"#f7f7f7\"],[0.6,\"#e6f5d0\"],[0.7,\"#b8e186\"],[0.8,\"#7fbc41\"],[0.9,\"#4d9221\"],[1,\"#276419\"]]},\"xaxis\":{\"gridcolor\":\"white\",\"linecolor\":\"white\",\"ticks\":\"\",\"title\":{\"standoff\":15},\"zerolinecolor\":\"white\",\"automargin\":true,\"zerolinewidth\":2},\"yaxis\":{\"gridcolor\":\"white\",\"linecolor\":\"white\",\"ticks\":\"\",\"title\":{\"standoff\":15},\"zerolinecolor\":\"white\",\"automargin\":true,\"zerolinewidth\":2},\"scene\":{\"xaxis\":{\"backgroundcolor\":\"#E5ECF6\",\"gridcolor\":\"white\",\"linecolor\":\"white\",\"showbackground\":true,\"ticks\":\"\",\"zerolinecolor\":\"white\",\"gridwidth\":2},\"yaxis\":{\"backgroundcolor\":\"#E5ECF6\",\"gridcolor\":\"white\",\"linecolor\":\"white\",\"showbackground\":true,\"ticks\":\"\",\"zerolinecolor\":\"white\",\"gridwidth\":2},\"zaxis\":{\"backgroundcolor\":\"#E5ECF6\",\"gridcolor\":\"white\",\"linecolor\":\"white\",\"showbackground\":true,\"ticks\":\"\",\"zerolinecolor\":\"white\",\"gridwidth\":2}},\"shapedefaults\":{\"line\":{\"color\":\"#2a3f5f\"}},\"annotationdefaults\":{\"arrowcolor\":\"#2a3f5f\",\"arrowhead\":0,\"arrowwidth\":1},\"geo\":{\"bgcolor\":\"white\",\"landcolor\":\"#E5ECF6\",\"subunitcolor\":\"white\",\"showland\":true,\"showlakes\":true,\"lakecolor\":\"white\"},\"title\":{\"x\":0.05},\"mapbox\":{\"style\":\"light\"}}},\"xaxis\":{\"anchor\":\"y\",\"domain\":[0.0,1.0],\"title\":{\"text\":\"\\u6837\\u672c\"}},\"yaxis\":{\"anchor\":\"x\",\"domain\":[0.0,1.0],\"title\":{\"text\":\"\\u53d6\\u503c\"}},\"legend\":{\"title\":{\"text\":\"\\u9884\\u6d4b\\u503c/\\u771f\\u5b9e\\u503c\"},\"tracegroupgap\":0},\"margin\":{\"t\":60},\"title\":{\"text\":\"\\u571f\\u58e4C/N\\u6bd4\\u62df\\u5408\\u6548\\u679c\"}},                        {\"responsive\": true}                    ).then(function(){\n",
       "                            \n",
       "var gd = document.getElementById('87a7d167-02d7-4670-800b-05546a9b30df');\n",
       "var x = new MutationObserver(function (mutations, observer) {{\n",
       "        var display = window.getComputedStyle(gd).display;\n",
       "        if (!display || display === 'none') {{\n",
       "            console.log([gd, 'removed!']);\n",
       "            Plotly.purge(gd);\n",
       "            observer.disconnect();\n",
       "        }}\n",
       "}});\n",
       "\n",
       "// Listen for the removal of the full notebook cells\n",
       "var notebookContainer = gd.closest('#notebook-container');\n",
       "if (notebookContainer) {{\n",
       "    x.observe(notebookContainer, {childList: true});\n",
       "}}\n",
       "\n",
       "// Listen for the clearing of the current output cell\n",
       "var outputEl = gd.closest('.output');\n",
       "if (outputEl) {{\n",
       "    x.observe(outputEl, {childList: true});\n",
       "}}\n",
       "\n",
       "                        })                };                });            </script>        </div>"
      ]
     },
     "metadata": {},
     "output_type": "display_data"
    }
   ],
   "source": [
    "plotPredGndSample(CN, df)"
   ]
  },
  {
   "cell_type": "markdown",
   "id": "6ad57636",
   "metadata": {},
   "source": [
    "## 不同放牧强度和小区的样本上的拟合效果"
   ]
  },
  {
   "cell_type": "code",
   "execution_count": 41,
   "id": "865073e4",
   "metadata": {},
   "outputs": [],
   "source": [
    "df_list=list(df.groupby([INTENSITY,BLOCK]))"
   ]
  },
  {
   "cell_type": "code",
   "execution_count": 42,
   "id": "f8eca32f",
   "metadata": {},
   "outputs": [],
   "source": [
    "def plotPredGnd(i, y):\n",
    "    info, df = df_list[i]\n",
    "    return px.line(df, x=YEAR, \n",
    "                   y=[y+GND,y+PRED]).update_layout(title=f'放牧强度{info[0]}下小区{info[1]}的{y}拟合效果',\n",
    "                                                  yaxis_title='取值', xaxis_title='年份', legend_title='预测值/真实值')"
   ]
  },
  {
   "cell_type": "code",
   "execution_count": 43,
   "id": "4c72f45c",
   "metadata": {},
   "outputs": [
    {
     "data": {
      "application/vnd.plotly.v1+json": {
       "config": {
        "plotlyServerURL": "https://plot.ly"
       },
       "data": [
        {
         "hovertemplate": "variable=SOC土壤有机碳真实值<br>year=%{x}<br>value=%{y}<extra></extra>",
         "legendgroup": "SOC土壤有机碳真实值",
         "line": {
          "color": "#636efa",
          "dash": "solid"
         },
         "marker": {
          "symbol": "circle"
         },
         "mode": "lines",
         "name": "SOC土壤有机碳真实值",
         "orientation": "v",
         "showlegend": true,
         "type": "scatter",
         "x": [
          2012,
          2014,
          2016,
          2018,
          2020
         ],
         "xaxis": "x",
         "y": [
          13.4745335539182,
          12.735764467716216,
          14.502588041623447,
          15.855964112281802,
          17.2
         ],
         "yaxis": "y"
        },
        {
         "hovertemplate": "variable=SOC土壤有机碳预测值<br>year=%{x}<br>value=%{y}<extra></extra>",
         "legendgroup": "SOC土壤有机碳预测值",
         "line": {
          "color": "#EF553B",
          "dash": "solid"
         },
         "marker": {
          "symbol": "circle"
         },
         "mode": "lines",
         "name": "SOC土壤有机碳预测值",
         "orientation": "v",
         "showlegend": true,
         "type": "scatter",
         "x": [
          2012,
          2014,
          2016,
          2018,
          2020
         ],
         "xaxis": "x",
         "y": [
          13.439794540405273,
          12.68254280090332,
          14.304827690124512,
          15.826181411743164,
          16.954660415649414
         ],
         "yaxis": "y"
        }
       ],
       "layout": {
        "legend": {
         "title": {
          "text": "预测值/真实值"
         },
         "tracegroupgap": 0
        },
        "margin": {
         "t": 60
        },
        "template": {
         "data": {
          "bar": [
           {
            "error_x": {
             "color": "#2a3f5f"
            },
            "error_y": {
             "color": "#2a3f5f"
            },
            "marker": {
             "line": {
              "color": "#E5ECF6",
              "width": 0.5
             },
             "pattern": {
              "fillmode": "overlay",
              "size": 10,
              "solidity": 0.2
             }
            },
            "type": "bar"
           }
          ],
          "barpolar": [
           {
            "marker": {
             "line": {
              "color": "#E5ECF6",
              "width": 0.5
             },
             "pattern": {
              "fillmode": "overlay",
              "size": 10,
              "solidity": 0.2
             }
            },
            "type": "barpolar"
           }
          ],
          "carpet": [
           {
            "aaxis": {
             "endlinecolor": "#2a3f5f",
             "gridcolor": "white",
             "linecolor": "white",
             "minorgridcolor": "white",
             "startlinecolor": "#2a3f5f"
            },
            "baxis": {
             "endlinecolor": "#2a3f5f",
             "gridcolor": "white",
             "linecolor": "white",
             "minorgridcolor": "white",
             "startlinecolor": "#2a3f5f"
            },
            "type": "carpet"
           }
          ],
          "choropleth": [
           {
            "colorbar": {
             "outlinewidth": 0,
             "ticks": ""
            },
            "type": "choropleth"
           }
          ],
          "contour": [
           {
            "colorbar": {
             "outlinewidth": 0,
             "ticks": ""
            },
            "colorscale": [
             [
              0,
              "#0d0887"
             ],
             [
              0.1111111111111111,
              "#46039f"
             ],
             [
              0.2222222222222222,
              "#7201a8"
             ],
             [
              0.3333333333333333,
              "#9c179e"
             ],
             [
              0.4444444444444444,
              "#bd3786"
             ],
             [
              0.5555555555555556,
              "#d8576b"
             ],
             [
              0.6666666666666666,
              "#ed7953"
             ],
             [
              0.7777777777777778,
              "#fb9f3a"
             ],
             [
              0.8888888888888888,
              "#fdca26"
             ],
             [
              1,
              "#f0f921"
             ]
            ],
            "type": "contour"
           }
          ],
          "contourcarpet": [
           {
            "colorbar": {
             "outlinewidth": 0,
             "ticks": ""
            },
            "type": "contourcarpet"
           }
          ],
          "heatmap": [
           {
            "colorbar": {
             "outlinewidth": 0,
             "ticks": ""
            },
            "colorscale": [
             [
              0,
              "#0d0887"
             ],
             [
              0.1111111111111111,
              "#46039f"
             ],
             [
              0.2222222222222222,
              "#7201a8"
             ],
             [
              0.3333333333333333,
              "#9c179e"
             ],
             [
              0.4444444444444444,
              "#bd3786"
             ],
             [
              0.5555555555555556,
              "#d8576b"
             ],
             [
              0.6666666666666666,
              "#ed7953"
             ],
             [
              0.7777777777777778,
              "#fb9f3a"
             ],
             [
              0.8888888888888888,
              "#fdca26"
             ],
             [
              1,
              "#f0f921"
             ]
            ],
            "type": "heatmap"
           }
          ],
          "heatmapgl": [
           {
            "colorbar": {
             "outlinewidth": 0,
             "ticks": ""
            },
            "colorscale": [
             [
              0,
              "#0d0887"
             ],
             [
              0.1111111111111111,
              "#46039f"
             ],
             [
              0.2222222222222222,
              "#7201a8"
             ],
             [
              0.3333333333333333,
              "#9c179e"
             ],
             [
              0.4444444444444444,
              "#bd3786"
             ],
             [
              0.5555555555555556,
              "#d8576b"
             ],
             [
              0.6666666666666666,
              "#ed7953"
             ],
             [
              0.7777777777777778,
              "#fb9f3a"
             ],
             [
              0.8888888888888888,
              "#fdca26"
             ],
             [
              1,
              "#f0f921"
             ]
            ],
            "type": "heatmapgl"
           }
          ],
          "histogram": [
           {
            "marker": {
             "pattern": {
              "fillmode": "overlay",
              "size": 10,
              "solidity": 0.2
             }
            },
            "type": "histogram"
           }
          ],
          "histogram2d": [
           {
            "colorbar": {
             "outlinewidth": 0,
             "ticks": ""
            },
            "colorscale": [
             [
              0,
              "#0d0887"
             ],
             [
              0.1111111111111111,
              "#46039f"
             ],
             [
              0.2222222222222222,
              "#7201a8"
             ],
             [
              0.3333333333333333,
              "#9c179e"
             ],
             [
              0.4444444444444444,
              "#bd3786"
             ],
             [
              0.5555555555555556,
              "#d8576b"
             ],
             [
              0.6666666666666666,
              "#ed7953"
             ],
             [
              0.7777777777777778,
              "#fb9f3a"
             ],
             [
              0.8888888888888888,
              "#fdca26"
             ],
             [
              1,
              "#f0f921"
             ]
            ],
            "type": "histogram2d"
           }
          ],
          "histogram2dcontour": [
           {
            "colorbar": {
             "outlinewidth": 0,
             "ticks": ""
            },
            "colorscale": [
             [
              0,
              "#0d0887"
             ],
             [
              0.1111111111111111,
              "#46039f"
             ],
             [
              0.2222222222222222,
              "#7201a8"
             ],
             [
              0.3333333333333333,
              "#9c179e"
             ],
             [
              0.4444444444444444,
              "#bd3786"
             ],
             [
              0.5555555555555556,
              "#d8576b"
             ],
             [
              0.6666666666666666,
              "#ed7953"
             ],
             [
              0.7777777777777778,
              "#fb9f3a"
             ],
             [
              0.8888888888888888,
              "#fdca26"
             ],
             [
              1,
              "#f0f921"
             ]
            ],
            "type": "histogram2dcontour"
           }
          ],
          "mesh3d": [
           {
            "colorbar": {
             "outlinewidth": 0,
             "ticks": ""
            },
            "type": "mesh3d"
           }
          ],
          "parcoords": [
           {
            "line": {
             "colorbar": {
              "outlinewidth": 0,
              "ticks": ""
             }
            },
            "type": "parcoords"
           }
          ],
          "pie": [
           {
            "automargin": true,
            "type": "pie"
           }
          ],
          "scatter": [
           {
            "fillpattern": {
             "fillmode": "overlay",
             "size": 10,
             "solidity": 0.2
            },
            "type": "scatter"
           }
          ],
          "scatter3d": [
           {
            "line": {
             "colorbar": {
              "outlinewidth": 0,
              "ticks": ""
             }
            },
            "marker": {
             "colorbar": {
              "outlinewidth": 0,
              "ticks": ""
             }
            },
            "type": "scatter3d"
           }
          ],
          "scattercarpet": [
           {
            "marker": {
             "colorbar": {
              "outlinewidth": 0,
              "ticks": ""
             }
            },
            "type": "scattercarpet"
           }
          ],
          "scattergeo": [
           {
            "marker": {
             "colorbar": {
              "outlinewidth": 0,
              "ticks": ""
             }
            },
            "type": "scattergeo"
           }
          ],
          "scattergl": [
           {
            "marker": {
             "colorbar": {
              "outlinewidth": 0,
              "ticks": ""
             }
            },
            "type": "scattergl"
           }
          ],
          "scattermapbox": [
           {
            "marker": {
             "colorbar": {
              "outlinewidth": 0,
              "ticks": ""
             }
            },
            "type": "scattermapbox"
           }
          ],
          "scatterpolar": [
           {
            "marker": {
             "colorbar": {
              "outlinewidth": 0,
              "ticks": ""
             }
            },
            "type": "scatterpolar"
           }
          ],
          "scatterpolargl": [
           {
            "marker": {
             "colorbar": {
              "outlinewidth": 0,
              "ticks": ""
             }
            },
            "type": "scatterpolargl"
           }
          ],
          "scatterternary": [
           {
            "marker": {
             "colorbar": {
              "outlinewidth": 0,
              "ticks": ""
             }
            },
            "type": "scatterternary"
           }
          ],
          "surface": [
           {
            "colorbar": {
             "outlinewidth": 0,
             "ticks": ""
            },
            "colorscale": [
             [
              0,
              "#0d0887"
             ],
             [
              0.1111111111111111,
              "#46039f"
             ],
             [
              0.2222222222222222,
              "#7201a8"
             ],
             [
              0.3333333333333333,
              "#9c179e"
             ],
             [
              0.4444444444444444,
              "#bd3786"
             ],
             [
              0.5555555555555556,
              "#d8576b"
             ],
             [
              0.6666666666666666,
              "#ed7953"
             ],
             [
              0.7777777777777778,
              "#fb9f3a"
             ],
             [
              0.8888888888888888,
              "#fdca26"
             ],
             [
              1,
              "#f0f921"
             ]
            ],
            "type": "surface"
           }
          ],
          "table": [
           {
            "cells": {
             "fill": {
              "color": "#EBF0F8"
             },
             "line": {
              "color": "white"
             }
            },
            "header": {
             "fill": {
              "color": "#C8D4E3"
             },
             "line": {
              "color": "white"
             }
            },
            "type": "table"
           }
          ]
         },
         "layout": {
          "annotationdefaults": {
           "arrowcolor": "#2a3f5f",
           "arrowhead": 0,
           "arrowwidth": 1
          },
          "autotypenumbers": "strict",
          "coloraxis": {
           "colorbar": {
            "outlinewidth": 0,
            "ticks": ""
           }
          },
          "colorscale": {
           "diverging": [
            [
             0,
             "#8e0152"
            ],
            [
             0.1,
             "#c51b7d"
            ],
            [
             0.2,
             "#de77ae"
            ],
            [
             0.3,
             "#f1b6da"
            ],
            [
             0.4,
             "#fde0ef"
            ],
            [
             0.5,
             "#f7f7f7"
            ],
            [
             0.6,
             "#e6f5d0"
            ],
            [
             0.7,
             "#b8e186"
            ],
            [
             0.8,
             "#7fbc41"
            ],
            [
             0.9,
             "#4d9221"
            ],
            [
             1,
             "#276419"
            ]
           ],
           "sequential": [
            [
             0,
             "#0d0887"
            ],
            [
             0.1111111111111111,
             "#46039f"
            ],
            [
             0.2222222222222222,
             "#7201a8"
            ],
            [
             0.3333333333333333,
             "#9c179e"
            ],
            [
             0.4444444444444444,
             "#bd3786"
            ],
            [
             0.5555555555555556,
             "#d8576b"
            ],
            [
             0.6666666666666666,
             "#ed7953"
            ],
            [
             0.7777777777777778,
             "#fb9f3a"
            ],
            [
             0.8888888888888888,
             "#fdca26"
            ],
            [
             1,
             "#f0f921"
            ]
           ],
           "sequentialminus": [
            [
             0,
             "#0d0887"
            ],
            [
             0.1111111111111111,
             "#46039f"
            ],
            [
             0.2222222222222222,
             "#7201a8"
            ],
            [
             0.3333333333333333,
             "#9c179e"
            ],
            [
             0.4444444444444444,
             "#bd3786"
            ],
            [
             0.5555555555555556,
             "#d8576b"
            ],
            [
             0.6666666666666666,
             "#ed7953"
            ],
            [
             0.7777777777777778,
             "#fb9f3a"
            ],
            [
             0.8888888888888888,
             "#fdca26"
            ],
            [
             1,
             "#f0f921"
            ]
           ]
          },
          "colorway": [
           "#636efa",
           "#EF553B",
           "#00cc96",
           "#ab63fa",
           "#FFA15A",
           "#19d3f3",
           "#FF6692",
           "#B6E880",
           "#FF97FF",
           "#FECB52"
          ],
          "font": {
           "color": "#2a3f5f"
          },
          "geo": {
           "bgcolor": "white",
           "lakecolor": "white",
           "landcolor": "#E5ECF6",
           "showlakes": true,
           "showland": true,
           "subunitcolor": "white"
          },
          "hoverlabel": {
           "align": "left"
          },
          "hovermode": "closest",
          "mapbox": {
           "style": "light"
          },
          "paper_bgcolor": "white",
          "plot_bgcolor": "#E5ECF6",
          "polar": {
           "angularaxis": {
            "gridcolor": "white",
            "linecolor": "white",
            "ticks": ""
           },
           "bgcolor": "#E5ECF6",
           "radialaxis": {
            "gridcolor": "white",
            "linecolor": "white",
            "ticks": ""
           }
          },
          "scene": {
           "xaxis": {
            "backgroundcolor": "#E5ECF6",
            "gridcolor": "white",
            "gridwidth": 2,
            "linecolor": "white",
            "showbackground": true,
            "ticks": "",
            "zerolinecolor": "white"
           },
           "yaxis": {
            "backgroundcolor": "#E5ECF6",
            "gridcolor": "white",
            "gridwidth": 2,
            "linecolor": "white",
            "showbackground": true,
            "ticks": "",
            "zerolinecolor": "white"
           },
           "zaxis": {
            "backgroundcolor": "#E5ECF6",
            "gridcolor": "white",
            "gridwidth": 2,
            "linecolor": "white",
            "showbackground": true,
            "ticks": "",
            "zerolinecolor": "white"
           }
          },
          "shapedefaults": {
           "line": {
            "color": "#2a3f5f"
           }
          },
          "ternary": {
           "aaxis": {
            "gridcolor": "white",
            "linecolor": "white",
            "ticks": ""
           },
           "baxis": {
            "gridcolor": "white",
            "linecolor": "white",
            "ticks": ""
           },
           "bgcolor": "#E5ECF6",
           "caxis": {
            "gridcolor": "white",
            "linecolor": "white",
            "ticks": ""
           }
          },
          "title": {
           "x": 0.05
          },
          "xaxis": {
           "automargin": true,
           "gridcolor": "white",
           "linecolor": "white",
           "ticks": "",
           "title": {
            "standoff": 15
           },
           "zerolinecolor": "white",
           "zerolinewidth": 2
          },
          "yaxis": {
           "automargin": true,
           "gridcolor": "white",
           "linecolor": "white",
           "ticks": "",
           "title": {
            "standoff": 15
           },
           "zerolinecolor": "white",
           "zerolinewidth": 2
          }
         }
        },
        "title": {
         "text": "放牧强度HGI下小区G9的SOC土壤有机碳拟合效果"
        },
        "xaxis": {
         "anchor": "y",
         "domain": [
          0,
          1
         ],
         "title": {
          "text": "年份"
         }
        },
        "yaxis": {
         "anchor": "x",
         "domain": [
          0,
          1
         ],
         "title": {
          "text": "取值"
         }
        }
       }
      },
      "text/html": [
       "<div>                            <div id=\"c9e3d857-44e1-4a34-bbaa-35509a70b705\" class=\"plotly-graph-div\" style=\"height:525px; width:100%;\"></div>            <script type=\"text/javascript\">                require([\"plotly\"], function(Plotly) {                    window.PLOTLYENV=window.PLOTLYENV || {};                                    if (document.getElementById(\"c9e3d857-44e1-4a34-bbaa-35509a70b705\")) {                    Plotly.newPlot(                        \"c9e3d857-44e1-4a34-bbaa-35509a70b705\",                        [{\"hovertemplate\":\"variable=SOC\\u571f\\u58e4\\u6709\\u673a\\u78b3\\u771f\\u5b9e\\u503c<br>year=%{x}<br>value=%{y}<extra></extra>\",\"legendgroup\":\"SOC\\u571f\\u58e4\\u6709\\u673a\\u78b3\\u771f\\u5b9e\\u503c\",\"line\":{\"color\":\"#636efa\",\"dash\":\"solid\"},\"marker\":{\"symbol\":\"circle\"},\"mode\":\"lines\",\"name\":\"SOC\\u571f\\u58e4\\u6709\\u673a\\u78b3\\u771f\\u5b9e\\u503c\",\"orientation\":\"v\",\"showlegend\":true,\"x\":[2012,2014,2016,2018,2020],\"xaxis\":\"x\",\"y\":[13.4745335539182,12.735764467716216,14.502588041623447,15.855964112281802,17.2],\"yaxis\":\"y\",\"type\":\"scatter\"},{\"hovertemplate\":\"variable=SOC\\u571f\\u58e4\\u6709\\u673a\\u78b3\\u9884\\u6d4b\\u503c<br>year=%{x}<br>value=%{y}<extra></extra>\",\"legendgroup\":\"SOC\\u571f\\u58e4\\u6709\\u673a\\u78b3\\u9884\\u6d4b\\u503c\",\"line\":{\"color\":\"#EF553B\",\"dash\":\"solid\"},\"marker\":{\"symbol\":\"circle\"},\"mode\":\"lines\",\"name\":\"SOC\\u571f\\u58e4\\u6709\\u673a\\u78b3\\u9884\\u6d4b\\u503c\",\"orientation\":\"v\",\"showlegend\":true,\"x\":[2012,2014,2016,2018,2020],\"xaxis\":\"x\",\"y\":[13.439794540405273,12.68254280090332,14.304827690124512,15.826181411743164,16.954660415649414],\"yaxis\":\"y\",\"type\":\"scatter\"}],                        {\"template\":{\"data\":{\"histogram2dcontour\":[{\"type\":\"histogram2dcontour\",\"colorbar\":{\"outlinewidth\":0,\"ticks\":\"\"},\"colorscale\":[[0.0,\"#0d0887\"],[0.1111111111111111,\"#46039f\"],[0.2222222222222222,\"#7201a8\"],[0.3333333333333333,\"#9c179e\"],[0.4444444444444444,\"#bd3786\"],[0.5555555555555556,\"#d8576b\"],[0.6666666666666666,\"#ed7953\"],[0.7777777777777778,\"#fb9f3a\"],[0.8888888888888888,\"#fdca26\"],[1.0,\"#f0f921\"]]}],\"choropleth\":[{\"type\":\"choropleth\",\"colorbar\":{\"outlinewidth\":0,\"ticks\":\"\"}}],\"histogram2d\":[{\"type\":\"histogram2d\",\"colorbar\":{\"outlinewidth\":0,\"ticks\":\"\"},\"colorscale\":[[0.0,\"#0d0887\"],[0.1111111111111111,\"#46039f\"],[0.2222222222222222,\"#7201a8\"],[0.3333333333333333,\"#9c179e\"],[0.4444444444444444,\"#bd3786\"],[0.5555555555555556,\"#d8576b\"],[0.6666666666666666,\"#ed7953\"],[0.7777777777777778,\"#fb9f3a\"],[0.8888888888888888,\"#fdca26\"],[1.0,\"#f0f921\"]]}],\"heatmap\":[{\"type\":\"heatmap\",\"colorbar\":{\"outlinewidth\":0,\"ticks\":\"\"},\"colorscale\":[[0.0,\"#0d0887\"],[0.1111111111111111,\"#46039f\"],[0.2222222222222222,\"#7201a8\"],[0.3333333333333333,\"#9c179e\"],[0.4444444444444444,\"#bd3786\"],[0.5555555555555556,\"#d8576b\"],[0.6666666666666666,\"#ed7953\"],[0.7777777777777778,\"#fb9f3a\"],[0.8888888888888888,\"#fdca26\"],[1.0,\"#f0f921\"]]}],\"heatmapgl\":[{\"type\":\"heatmapgl\",\"colorbar\":{\"outlinewidth\":0,\"ticks\":\"\"},\"colorscale\":[[0.0,\"#0d0887\"],[0.1111111111111111,\"#46039f\"],[0.2222222222222222,\"#7201a8\"],[0.3333333333333333,\"#9c179e\"],[0.4444444444444444,\"#bd3786\"],[0.5555555555555556,\"#d8576b\"],[0.6666666666666666,\"#ed7953\"],[0.7777777777777778,\"#fb9f3a\"],[0.8888888888888888,\"#fdca26\"],[1.0,\"#f0f921\"]]}],\"contourcarpet\":[{\"type\":\"contourcarpet\",\"colorbar\":{\"outlinewidth\":0,\"ticks\":\"\"}}],\"contour\":[{\"type\":\"contour\",\"colorbar\":{\"outlinewidth\":0,\"ticks\":\"\"},\"colorscale\":[[0.0,\"#0d0887\"],[0.1111111111111111,\"#46039f\"],[0.2222222222222222,\"#7201a8\"],[0.3333333333333333,\"#9c179e\"],[0.4444444444444444,\"#bd3786\"],[0.5555555555555556,\"#d8576b\"],[0.6666666666666666,\"#ed7953\"],[0.7777777777777778,\"#fb9f3a\"],[0.8888888888888888,\"#fdca26\"],[1.0,\"#f0f921\"]]}],\"surface\":[{\"type\":\"surface\",\"colorbar\":{\"outlinewidth\":0,\"ticks\":\"\"},\"colorscale\":[[0.0,\"#0d0887\"],[0.1111111111111111,\"#46039f\"],[0.2222222222222222,\"#7201a8\"],[0.3333333333333333,\"#9c179e\"],[0.4444444444444444,\"#bd3786\"],[0.5555555555555556,\"#d8576b\"],[0.6666666666666666,\"#ed7953\"],[0.7777777777777778,\"#fb9f3a\"],[0.8888888888888888,\"#fdca26\"],[1.0,\"#f0f921\"]]}],\"mesh3d\":[{\"type\":\"mesh3d\",\"colorbar\":{\"outlinewidth\":0,\"ticks\":\"\"}}],\"scatter\":[{\"fillpattern\":{\"fillmode\":\"overlay\",\"size\":10,\"solidity\":0.2},\"type\":\"scatter\"}],\"parcoords\":[{\"type\":\"parcoords\",\"line\":{\"colorbar\":{\"outlinewidth\":0,\"ticks\":\"\"}}}],\"scatterpolargl\":[{\"type\":\"scatterpolargl\",\"marker\":{\"colorbar\":{\"outlinewidth\":0,\"ticks\":\"\"}}}],\"bar\":[{\"error_x\":{\"color\":\"#2a3f5f\"},\"error_y\":{\"color\":\"#2a3f5f\"},\"marker\":{\"line\":{\"color\":\"#E5ECF6\",\"width\":0.5},\"pattern\":{\"fillmode\":\"overlay\",\"size\":10,\"solidity\":0.2}},\"type\":\"bar\"}],\"scattergeo\":[{\"type\":\"scattergeo\",\"marker\":{\"colorbar\":{\"outlinewidth\":0,\"ticks\":\"\"}}}],\"scatterpolar\":[{\"type\":\"scatterpolar\",\"marker\":{\"colorbar\":{\"outlinewidth\":0,\"ticks\":\"\"}}}],\"histogram\":[{\"marker\":{\"pattern\":{\"fillmode\":\"overlay\",\"size\":10,\"solidity\":0.2}},\"type\":\"histogram\"}],\"scattergl\":[{\"type\":\"scattergl\",\"marker\":{\"colorbar\":{\"outlinewidth\":0,\"ticks\":\"\"}}}],\"scatter3d\":[{\"type\":\"scatter3d\",\"line\":{\"colorbar\":{\"outlinewidth\":0,\"ticks\":\"\"}},\"marker\":{\"colorbar\":{\"outlinewidth\":0,\"ticks\":\"\"}}}],\"scattermapbox\":[{\"type\":\"scattermapbox\",\"marker\":{\"colorbar\":{\"outlinewidth\":0,\"ticks\":\"\"}}}],\"scatterternary\":[{\"type\":\"scatterternary\",\"marker\":{\"colorbar\":{\"outlinewidth\":0,\"ticks\":\"\"}}}],\"scattercarpet\":[{\"type\":\"scattercarpet\",\"marker\":{\"colorbar\":{\"outlinewidth\":0,\"ticks\":\"\"}}}],\"carpet\":[{\"aaxis\":{\"endlinecolor\":\"#2a3f5f\",\"gridcolor\":\"white\",\"linecolor\":\"white\",\"minorgridcolor\":\"white\",\"startlinecolor\":\"#2a3f5f\"},\"baxis\":{\"endlinecolor\":\"#2a3f5f\",\"gridcolor\":\"white\",\"linecolor\":\"white\",\"minorgridcolor\":\"white\",\"startlinecolor\":\"#2a3f5f\"},\"type\":\"carpet\"}],\"table\":[{\"cells\":{\"fill\":{\"color\":\"#EBF0F8\"},\"line\":{\"color\":\"white\"}},\"header\":{\"fill\":{\"color\":\"#C8D4E3\"},\"line\":{\"color\":\"white\"}},\"type\":\"table\"}],\"barpolar\":[{\"marker\":{\"line\":{\"color\":\"#E5ECF6\",\"width\":0.5},\"pattern\":{\"fillmode\":\"overlay\",\"size\":10,\"solidity\":0.2}},\"type\":\"barpolar\"}],\"pie\":[{\"automargin\":true,\"type\":\"pie\"}]},\"layout\":{\"autotypenumbers\":\"strict\",\"colorway\":[\"#636efa\",\"#EF553B\",\"#00cc96\",\"#ab63fa\",\"#FFA15A\",\"#19d3f3\",\"#FF6692\",\"#B6E880\",\"#FF97FF\",\"#FECB52\"],\"font\":{\"color\":\"#2a3f5f\"},\"hovermode\":\"closest\",\"hoverlabel\":{\"align\":\"left\"},\"paper_bgcolor\":\"white\",\"plot_bgcolor\":\"#E5ECF6\",\"polar\":{\"bgcolor\":\"#E5ECF6\",\"angularaxis\":{\"gridcolor\":\"white\",\"linecolor\":\"white\",\"ticks\":\"\"},\"radialaxis\":{\"gridcolor\":\"white\",\"linecolor\":\"white\",\"ticks\":\"\"}},\"ternary\":{\"bgcolor\":\"#E5ECF6\",\"aaxis\":{\"gridcolor\":\"white\",\"linecolor\":\"white\",\"ticks\":\"\"},\"baxis\":{\"gridcolor\":\"white\",\"linecolor\":\"white\",\"ticks\":\"\"},\"caxis\":{\"gridcolor\":\"white\",\"linecolor\":\"white\",\"ticks\":\"\"}},\"coloraxis\":{\"colorbar\":{\"outlinewidth\":0,\"ticks\":\"\"}},\"colorscale\":{\"sequential\":[[0.0,\"#0d0887\"],[0.1111111111111111,\"#46039f\"],[0.2222222222222222,\"#7201a8\"],[0.3333333333333333,\"#9c179e\"],[0.4444444444444444,\"#bd3786\"],[0.5555555555555556,\"#d8576b\"],[0.6666666666666666,\"#ed7953\"],[0.7777777777777778,\"#fb9f3a\"],[0.8888888888888888,\"#fdca26\"],[1.0,\"#f0f921\"]],\"sequentialminus\":[[0.0,\"#0d0887\"],[0.1111111111111111,\"#46039f\"],[0.2222222222222222,\"#7201a8\"],[0.3333333333333333,\"#9c179e\"],[0.4444444444444444,\"#bd3786\"],[0.5555555555555556,\"#d8576b\"],[0.6666666666666666,\"#ed7953\"],[0.7777777777777778,\"#fb9f3a\"],[0.8888888888888888,\"#fdca26\"],[1.0,\"#f0f921\"]],\"diverging\":[[0,\"#8e0152\"],[0.1,\"#c51b7d\"],[0.2,\"#de77ae\"],[0.3,\"#f1b6da\"],[0.4,\"#fde0ef\"],[0.5,\"#f7f7f7\"],[0.6,\"#e6f5d0\"],[0.7,\"#b8e186\"],[0.8,\"#7fbc41\"],[0.9,\"#4d9221\"],[1,\"#276419\"]]},\"xaxis\":{\"gridcolor\":\"white\",\"linecolor\":\"white\",\"ticks\":\"\",\"title\":{\"standoff\":15},\"zerolinecolor\":\"white\",\"automargin\":true,\"zerolinewidth\":2},\"yaxis\":{\"gridcolor\":\"white\",\"linecolor\":\"white\",\"ticks\":\"\",\"title\":{\"standoff\":15},\"zerolinecolor\":\"white\",\"automargin\":true,\"zerolinewidth\":2},\"scene\":{\"xaxis\":{\"backgroundcolor\":\"#E5ECF6\",\"gridcolor\":\"white\",\"linecolor\":\"white\",\"showbackground\":true,\"ticks\":\"\",\"zerolinecolor\":\"white\",\"gridwidth\":2},\"yaxis\":{\"backgroundcolor\":\"#E5ECF6\",\"gridcolor\":\"white\",\"linecolor\":\"white\",\"showbackground\":true,\"ticks\":\"\",\"zerolinecolor\":\"white\",\"gridwidth\":2},\"zaxis\":{\"backgroundcolor\":\"#E5ECF6\",\"gridcolor\":\"white\",\"linecolor\":\"white\",\"showbackground\":true,\"ticks\":\"\",\"zerolinecolor\":\"white\",\"gridwidth\":2}},\"shapedefaults\":{\"line\":{\"color\":\"#2a3f5f\"}},\"annotationdefaults\":{\"arrowcolor\":\"#2a3f5f\",\"arrowhead\":0,\"arrowwidth\":1},\"geo\":{\"bgcolor\":\"white\",\"landcolor\":\"#E5ECF6\",\"subunitcolor\":\"white\",\"showland\":true,\"showlakes\":true,\"lakecolor\":\"white\"},\"title\":{\"x\":0.05},\"mapbox\":{\"style\":\"light\"}}},\"xaxis\":{\"anchor\":\"y\",\"domain\":[0.0,1.0],\"title\":{\"text\":\"\\u5e74\\u4efd\"}},\"yaxis\":{\"anchor\":\"x\",\"domain\":[0.0,1.0],\"title\":{\"text\":\"\\u53d6\\u503c\"}},\"legend\":{\"title\":{\"text\":\"\\u9884\\u6d4b\\u503c/\\u771f\\u5b9e\\u503c\"},\"tracegroupgap\":0},\"margin\":{\"t\":60},\"title\":{\"text\":\"\\u653e\\u7267\\u5f3a\\u5ea6HGI\\u4e0b\\u5c0f\\u533aG9\\u7684SOC\\u571f\\u58e4\\u6709\\u673a\\u78b3\\u62df\\u5408\\u6548\\u679c\"}},                        {\"responsive\": true}                    ).then(function(){\n",
       "                            \n",
       "var gd = document.getElementById('c9e3d857-44e1-4a34-bbaa-35509a70b705');\n",
       "var x = new MutationObserver(function (mutations, observer) {{\n",
       "        var display = window.getComputedStyle(gd).display;\n",
       "        if (!display || display === 'none') {{\n",
       "            console.log([gd, 'removed!']);\n",
       "            Plotly.purge(gd);\n",
       "            observer.disconnect();\n",
       "        }}\n",
       "}});\n",
       "\n",
       "// Listen for the removal of the full notebook cells\n",
       "var notebookContainer = gd.closest('#notebook-container');\n",
       "if (notebookContainer) {{\n",
       "    x.observe(notebookContainer, {childList: true});\n",
       "}}\n",
       "\n",
       "// Listen for the clearing of the current output cell\n",
       "var outputEl = gd.closest('.output');\n",
       "if (outputEl) {{\n",
       "    x.observe(outputEl, {childList: true});\n",
       "}}\n",
       "\n",
       "                        })                };                });            </script>        </div>"
      ]
     },
     "metadata": {},
     "output_type": "display_data"
    }
   ],
   "source": [
    "plotPredGnd(2, SOC)"
   ]
  },
  {
   "cell_type": "code",
   "execution_count": 44,
   "id": "fb8a2c20",
   "metadata": {},
   "outputs": [
    {
     "data": {
      "application/vnd.plotly.v1+json": {
       "config": {
        "plotlyServerURL": "https://plot.ly"
       },
       "data": [
        {
         "hovertemplate": "variable=SIC土壤无机碳真实值<br>year=%{x}<br>value=%{y}<extra></extra>",
         "legendgroup": "SIC土壤无机碳真实值",
         "line": {
          "color": "#636efa",
          "dash": "solid"
         },
         "marker": {
          "symbol": "circle"
         },
         "mode": "lines",
         "name": "SIC土壤无机碳真实值",
         "orientation": "v",
         "showlegend": true,
         "type": "scatter",
         "x": [
          2012,
          2014,
          2016,
          2018,
          2020
         ],
         "xaxis": "x",
         "y": [
          11.875,
          9.6,
          7.783333333333334,
          4.7,
          3.1221499999999995
         ],
         "yaxis": "y"
        },
        {
         "hovertemplate": "variable=SIC土壤无机碳预测值<br>year=%{x}<br>value=%{y}<extra></extra>",
         "legendgroup": "SIC土壤无机碳预测值",
         "line": {
          "color": "#EF553B",
          "dash": "solid"
         },
         "marker": {
          "symbol": "circle"
         },
         "mode": "lines",
         "name": "SIC土壤无机碳预测值",
         "orientation": "v",
         "showlegend": true,
         "type": "scatter",
         "x": [
          2012,
          2014,
          2016,
          2018,
          2020
         ],
         "xaxis": "x",
         "y": [
          11.956114768981934,
          9.809163093566895,
          7.354918003082275,
          4.82334566116333,
          3.3255653381347656
         ],
         "yaxis": "y"
        }
       ],
       "layout": {
        "legend": {
         "title": {
          "text": "预测值/真实值"
         },
         "tracegroupgap": 0
        },
        "margin": {
         "t": 60
        },
        "template": {
         "data": {
          "bar": [
           {
            "error_x": {
             "color": "#2a3f5f"
            },
            "error_y": {
             "color": "#2a3f5f"
            },
            "marker": {
             "line": {
              "color": "#E5ECF6",
              "width": 0.5
             },
             "pattern": {
              "fillmode": "overlay",
              "size": 10,
              "solidity": 0.2
             }
            },
            "type": "bar"
           }
          ],
          "barpolar": [
           {
            "marker": {
             "line": {
              "color": "#E5ECF6",
              "width": 0.5
             },
             "pattern": {
              "fillmode": "overlay",
              "size": 10,
              "solidity": 0.2
             }
            },
            "type": "barpolar"
           }
          ],
          "carpet": [
           {
            "aaxis": {
             "endlinecolor": "#2a3f5f",
             "gridcolor": "white",
             "linecolor": "white",
             "minorgridcolor": "white",
             "startlinecolor": "#2a3f5f"
            },
            "baxis": {
             "endlinecolor": "#2a3f5f",
             "gridcolor": "white",
             "linecolor": "white",
             "minorgridcolor": "white",
             "startlinecolor": "#2a3f5f"
            },
            "type": "carpet"
           }
          ],
          "choropleth": [
           {
            "colorbar": {
             "outlinewidth": 0,
             "ticks": ""
            },
            "type": "choropleth"
           }
          ],
          "contour": [
           {
            "colorbar": {
             "outlinewidth": 0,
             "ticks": ""
            },
            "colorscale": [
             [
              0,
              "#0d0887"
             ],
             [
              0.1111111111111111,
              "#46039f"
             ],
             [
              0.2222222222222222,
              "#7201a8"
             ],
             [
              0.3333333333333333,
              "#9c179e"
             ],
             [
              0.4444444444444444,
              "#bd3786"
             ],
             [
              0.5555555555555556,
              "#d8576b"
             ],
             [
              0.6666666666666666,
              "#ed7953"
             ],
             [
              0.7777777777777778,
              "#fb9f3a"
             ],
             [
              0.8888888888888888,
              "#fdca26"
             ],
             [
              1,
              "#f0f921"
             ]
            ],
            "type": "contour"
           }
          ],
          "contourcarpet": [
           {
            "colorbar": {
             "outlinewidth": 0,
             "ticks": ""
            },
            "type": "contourcarpet"
           }
          ],
          "heatmap": [
           {
            "colorbar": {
             "outlinewidth": 0,
             "ticks": ""
            },
            "colorscale": [
             [
              0,
              "#0d0887"
             ],
             [
              0.1111111111111111,
              "#46039f"
             ],
             [
              0.2222222222222222,
              "#7201a8"
             ],
             [
              0.3333333333333333,
              "#9c179e"
             ],
             [
              0.4444444444444444,
              "#bd3786"
             ],
             [
              0.5555555555555556,
              "#d8576b"
             ],
             [
              0.6666666666666666,
              "#ed7953"
             ],
             [
              0.7777777777777778,
              "#fb9f3a"
             ],
             [
              0.8888888888888888,
              "#fdca26"
             ],
             [
              1,
              "#f0f921"
             ]
            ],
            "type": "heatmap"
           }
          ],
          "heatmapgl": [
           {
            "colorbar": {
             "outlinewidth": 0,
             "ticks": ""
            },
            "colorscale": [
             [
              0,
              "#0d0887"
             ],
             [
              0.1111111111111111,
              "#46039f"
             ],
             [
              0.2222222222222222,
              "#7201a8"
             ],
             [
              0.3333333333333333,
              "#9c179e"
             ],
             [
              0.4444444444444444,
              "#bd3786"
             ],
             [
              0.5555555555555556,
              "#d8576b"
             ],
             [
              0.6666666666666666,
              "#ed7953"
             ],
             [
              0.7777777777777778,
              "#fb9f3a"
             ],
             [
              0.8888888888888888,
              "#fdca26"
             ],
             [
              1,
              "#f0f921"
             ]
            ],
            "type": "heatmapgl"
           }
          ],
          "histogram": [
           {
            "marker": {
             "pattern": {
              "fillmode": "overlay",
              "size": 10,
              "solidity": 0.2
             }
            },
            "type": "histogram"
           }
          ],
          "histogram2d": [
           {
            "colorbar": {
             "outlinewidth": 0,
             "ticks": ""
            },
            "colorscale": [
             [
              0,
              "#0d0887"
             ],
             [
              0.1111111111111111,
              "#46039f"
             ],
             [
              0.2222222222222222,
              "#7201a8"
             ],
             [
              0.3333333333333333,
              "#9c179e"
             ],
             [
              0.4444444444444444,
              "#bd3786"
             ],
             [
              0.5555555555555556,
              "#d8576b"
             ],
             [
              0.6666666666666666,
              "#ed7953"
             ],
             [
              0.7777777777777778,
              "#fb9f3a"
             ],
             [
              0.8888888888888888,
              "#fdca26"
             ],
             [
              1,
              "#f0f921"
             ]
            ],
            "type": "histogram2d"
           }
          ],
          "histogram2dcontour": [
           {
            "colorbar": {
             "outlinewidth": 0,
             "ticks": ""
            },
            "colorscale": [
             [
              0,
              "#0d0887"
             ],
             [
              0.1111111111111111,
              "#46039f"
             ],
             [
              0.2222222222222222,
              "#7201a8"
             ],
             [
              0.3333333333333333,
              "#9c179e"
             ],
             [
              0.4444444444444444,
              "#bd3786"
             ],
             [
              0.5555555555555556,
              "#d8576b"
             ],
             [
              0.6666666666666666,
              "#ed7953"
             ],
             [
              0.7777777777777778,
              "#fb9f3a"
             ],
             [
              0.8888888888888888,
              "#fdca26"
             ],
             [
              1,
              "#f0f921"
             ]
            ],
            "type": "histogram2dcontour"
           }
          ],
          "mesh3d": [
           {
            "colorbar": {
             "outlinewidth": 0,
             "ticks": ""
            },
            "type": "mesh3d"
           }
          ],
          "parcoords": [
           {
            "line": {
             "colorbar": {
              "outlinewidth": 0,
              "ticks": ""
             }
            },
            "type": "parcoords"
           }
          ],
          "pie": [
           {
            "automargin": true,
            "type": "pie"
           }
          ],
          "scatter": [
           {
            "fillpattern": {
             "fillmode": "overlay",
             "size": 10,
             "solidity": 0.2
            },
            "type": "scatter"
           }
          ],
          "scatter3d": [
           {
            "line": {
             "colorbar": {
              "outlinewidth": 0,
              "ticks": ""
             }
            },
            "marker": {
             "colorbar": {
              "outlinewidth": 0,
              "ticks": ""
             }
            },
            "type": "scatter3d"
           }
          ],
          "scattercarpet": [
           {
            "marker": {
             "colorbar": {
              "outlinewidth": 0,
              "ticks": ""
             }
            },
            "type": "scattercarpet"
           }
          ],
          "scattergeo": [
           {
            "marker": {
             "colorbar": {
              "outlinewidth": 0,
              "ticks": ""
             }
            },
            "type": "scattergeo"
           }
          ],
          "scattergl": [
           {
            "marker": {
             "colorbar": {
              "outlinewidth": 0,
              "ticks": ""
             }
            },
            "type": "scattergl"
           }
          ],
          "scattermapbox": [
           {
            "marker": {
             "colorbar": {
              "outlinewidth": 0,
              "ticks": ""
             }
            },
            "type": "scattermapbox"
           }
          ],
          "scatterpolar": [
           {
            "marker": {
             "colorbar": {
              "outlinewidth": 0,
              "ticks": ""
             }
            },
            "type": "scatterpolar"
           }
          ],
          "scatterpolargl": [
           {
            "marker": {
             "colorbar": {
              "outlinewidth": 0,
              "ticks": ""
             }
            },
            "type": "scatterpolargl"
           }
          ],
          "scatterternary": [
           {
            "marker": {
             "colorbar": {
              "outlinewidth": 0,
              "ticks": ""
             }
            },
            "type": "scatterternary"
           }
          ],
          "surface": [
           {
            "colorbar": {
             "outlinewidth": 0,
             "ticks": ""
            },
            "colorscale": [
             [
              0,
              "#0d0887"
             ],
             [
              0.1111111111111111,
              "#46039f"
             ],
             [
              0.2222222222222222,
              "#7201a8"
             ],
             [
              0.3333333333333333,
              "#9c179e"
             ],
             [
              0.4444444444444444,
              "#bd3786"
             ],
             [
              0.5555555555555556,
              "#d8576b"
             ],
             [
              0.6666666666666666,
              "#ed7953"
             ],
             [
              0.7777777777777778,
              "#fb9f3a"
             ],
             [
              0.8888888888888888,
              "#fdca26"
             ],
             [
              1,
              "#f0f921"
             ]
            ],
            "type": "surface"
           }
          ],
          "table": [
           {
            "cells": {
             "fill": {
              "color": "#EBF0F8"
             },
             "line": {
              "color": "white"
             }
            },
            "header": {
             "fill": {
              "color": "#C8D4E3"
             },
             "line": {
              "color": "white"
             }
            },
            "type": "table"
           }
          ]
         },
         "layout": {
          "annotationdefaults": {
           "arrowcolor": "#2a3f5f",
           "arrowhead": 0,
           "arrowwidth": 1
          },
          "autotypenumbers": "strict",
          "coloraxis": {
           "colorbar": {
            "outlinewidth": 0,
            "ticks": ""
           }
          },
          "colorscale": {
           "diverging": [
            [
             0,
             "#8e0152"
            ],
            [
             0.1,
             "#c51b7d"
            ],
            [
             0.2,
             "#de77ae"
            ],
            [
             0.3,
             "#f1b6da"
            ],
            [
             0.4,
             "#fde0ef"
            ],
            [
             0.5,
             "#f7f7f7"
            ],
            [
             0.6,
             "#e6f5d0"
            ],
            [
             0.7,
             "#b8e186"
            ],
            [
             0.8,
             "#7fbc41"
            ],
            [
             0.9,
             "#4d9221"
            ],
            [
             1,
             "#276419"
            ]
           ],
           "sequential": [
            [
             0,
             "#0d0887"
            ],
            [
             0.1111111111111111,
             "#46039f"
            ],
            [
             0.2222222222222222,
             "#7201a8"
            ],
            [
             0.3333333333333333,
             "#9c179e"
            ],
            [
             0.4444444444444444,
             "#bd3786"
            ],
            [
             0.5555555555555556,
             "#d8576b"
            ],
            [
             0.6666666666666666,
             "#ed7953"
            ],
            [
             0.7777777777777778,
             "#fb9f3a"
            ],
            [
             0.8888888888888888,
             "#fdca26"
            ],
            [
             1,
             "#f0f921"
            ]
           ],
           "sequentialminus": [
            [
             0,
             "#0d0887"
            ],
            [
             0.1111111111111111,
             "#46039f"
            ],
            [
             0.2222222222222222,
             "#7201a8"
            ],
            [
             0.3333333333333333,
             "#9c179e"
            ],
            [
             0.4444444444444444,
             "#bd3786"
            ],
            [
             0.5555555555555556,
             "#d8576b"
            ],
            [
             0.6666666666666666,
             "#ed7953"
            ],
            [
             0.7777777777777778,
             "#fb9f3a"
            ],
            [
             0.8888888888888888,
             "#fdca26"
            ],
            [
             1,
             "#f0f921"
            ]
           ]
          },
          "colorway": [
           "#636efa",
           "#EF553B",
           "#00cc96",
           "#ab63fa",
           "#FFA15A",
           "#19d3f3",
           "#FF6692",
           "#B6E880",
           "#FF97FF",
           "#FECB52"
          ],
          "font": {
           "color": "#2a3f5f"
          },
          "geo": {
           "bgcolor": "white",
           "lakecolor": "white",
           "landcolor": "#E5ECF6",
           "showlakes": true,
           "showland": true,
           "subunitcolor": "white"
          },
          "hoverlabel": {
           "align": "left"
          },
          "hovermode": "closest",
          "mapbox": {
           "style": "light"
          },
          "paper_bgcolor": "white",
          "plot_bgcolor": "#E5ECF6",
          "polar": {
           "angularaxis": {
            "gridcolor": "white",
            "linecolor": "white",
            "ticks": ""
           },
           "bgcolor": "#E5ECF6",
           "radialaxis": {
            "gridcolor": "white",
            "linecolor": "white",
            "ticks": ""
           }
          },
          "scene": {
           "xaxis": {
            "backgroundcolor": "#E5ECF6",
            "gridcolor": "white",
            "gridwidth": 2,
            "linecolor": "white",
            "showbackground": true,
            "ticks": "",
            "zerolinecolor": "white"
           },
           "yaxis": {
            "backgroundcolor": "#E5ECF6",
            "gridcolor": "white",
            "gridwidth": 2,
            "linecolor": "white",
            "showbackground": true,
            "ticks": "",
            "zerolinecolor": "white"
           },
           "zaxis": {
            "backgroundcolor": "#E5ECF6",
            "gridcolor": "white",
            "gridwidth": 2,
            "linecolor": "white",
            "showbackground": true,
            "ticks": "",
            "zerolinecolor": "white"
           }
          },
          "shapedefaults": {
           "line": {
            "color": "#2a3f5f"
           }
          },
          "ternary": {
           "aaxis": {
            "gridcolor": "white",
            "linecolor": "white",
            "ticks": ""
           },
           "baxis": {
            "gridcolor": "white",
            "linecolor": "white",
            "ticks": ""
           },
           "bgcolor": "#E5ECF6",
           "caxis": {
            "gridcolor": "white",
            "linecolor": "white",
            "ticks": ""
           }
          },
          "title": {
           "x": 0.05
          },
          "xaxis": {
           "automargin": true,
           "gridcolor": "white",
           "linecolor": "white",
           "ticks": "",
           "title": {
            "standoff": 15
           },
           "zerolinecolor": "white",
           "zerolinewidth": 2
          },
          "yaxis": {
           "automargin": true,
           "gridcolor": "white",
           "linecolor": "white",
           "ticks": "",
           "title": {
            "standoff": 15
           },
           "zerolinecolor": "white",
           "zerolinewidth": 2
          }
         }
        },
        "title": {
         "text": "放牧强度HGI下小区G9的SIC土壤无机碳拟合效果"
        },
        "xaxis": {
         "anchor": "y",
         "domain": [
          0,
          1
         ],
         "title": {
          "text": "年份"
         }
        },
        "yaxis": {
         "anchor": "x",
         "domain": [
          0,
          1
         ],
         "title": {
          "text": "取值"
         }
        }
       }
      },
      "text/html": [
       "<div>                            <div id=\"12fa0aed-bc6c-4561-a872-803eba5d1824\" class=\"plotly-graph-div\" style=\"height:525px; width:100%;\"></div>            <script type=\"text/javascript\">                require([\"plotly\"], function(Plotly) {                    window.PLOTLYENV=window.PLOTLYENV || {};                                    if (document.getElementById(\"12fa0aed-bc6c-4561-a872-803eba5d1824\")) {                    Plotly.newPlot(                        \"12fa0aed-bc6c-4561-a872-803eba5d1824\",                        [{\"hovertemplate\":\"variable=SIC\\u571f\\u58e4\\u65e0\\u673a\\u78b3\\u771f\\u5b9e\\u503c<br>year=%{x}<br>value=%{y}<extra></extra>\",\"legendgroup\":\"SIC\\u571f\\u58e4\\u65e0\\u673a\\u78b3\\u771f\\u5b9e\\u503c\",\"line\":{\"color\":\"#636efa\",\"dash\":\"solid\"},\"marker\":{\"symbol\":\"circle\"},\"mode\":\"lines\",\"name\":\"SIC\\u571f\\u58e4\\u65e0\\u673a\\u78b3\\u771f\\u5b9e\\u503c\",\"orientation\":\"v\",\"showlegend\":true,\"x\":[2012,2014,2016,2018,2020],\"xaxis\":\"x\",\"y\":[11.875,9.6,7.783333333333334,4.7,3.1221499999999995],\"yaxis\":\"y\",\"type\":\"scatter\"},{\"hovertemplate\":\"variable=SIC\\u571f\\u58e4\\u65e0\\u673a\\u78b3\\u9884\\u6d4b\\u503c<br>year=%{x}<br>value=%{y}<extra></extra>\",\"legendgroup\":\"SIC\\u571f\\u58e4\\u65e0\\u673a\\u78b3\\u9884\\u6d4b\\u503c\",\"line\":{\"color\":\"#EF553B\",\"dash\":\"solid\"},\"marker\":{\"symbol\":\"circle\"},\"mode\":\"lines\",\"name\":\"SIC\\u571f\\u58e4\\u65e0\\u673a\\u78b3\\u9884\\u6d4b\\u503c\",\"orientation\":\"v\",\"showlegend\":true,\"x\":[2012,2014,2016,2018,2020],\"xaxis\":\"x\",\"y\":[11.956114768981934,9.809163093566895,7.354918003082275,4.82334566116333,3.3255653381347656],\"yaxis\":\"y\",\"type\":\"scatter\"}],                        {\"template\":{\"data\":{\"histogram2dcontour\":[{\"type\":\"histogram2dcontour\",\"colorbar\":{\"outlinewidth\":0,\"ticks\":\"\"},\"colorscale\":[[0.0,\"#0d0887\"],[0.1111111111111111,\"#46039f\"],[0.2222222222222222,\"#7201a8\"],[0.3333333333333333,\"#9c179e\"],[0.4444444444444444,\"#bd3786\"],[0.5555555555555556,\"#d8576b\"],[0.6666666666666666,\"#ed7953\"],[0.7777777777777778,\"#fb9f3a\"],[0.8888888888888888,\"#fdca26\"],[1.0,\"#f0f921\"]]}],\"choropleth\":[{\"type\":\"choropleth\",\"colorbar\":{\"outlinewidth\":0,\"ticks\":\"\"}}],\"histogram2d\":[{\"type\":\"histogram2d\",\"colorbar\":{\"outlinewidth\":0,\"ticks\":\"\"},\"colorscale\":[[0.0,\"#0d0887\"],[0.1111111111111111,\"#46039f\"],[0.2222222222222222,\"#7201a8\"],[0.3333333333333333,\"#9c179e\"],[0.4444444444444444,\"#bd3786\"],[0.5555555555555556,\"#d8576b\"],[0.6666666666666666,\"#ed7953\"],[0.7777777777777778,\"#fb9f3a\"],[0.8888888888888888,\"#fdca26\"],[1.0,\"#f0f921\"]]}],\"heatmap\":[{\"type\":\"heatmap\",\"colorbar\":{\"outlinewidth\":0,\"ticks\":\"\"},\"colorscale\":[[0.0,\"#0d0887\"],[0.1111111111111111,\"#46039f\"],[0.2222222222222222,\"#7201a8\"],[0.3333333333333333,\"#9c179e\"],[0.4444444444444444,\"#bd3786\"],[0.5555555555555556,\"#d8576b\"],[0.6666666666666666,\"#ed7953\"],[0.7777777777777778,\"#fb9f3a\"],[0.8888888888888888,\"#fdca26\"],[1.0,\"#f0f921\"]]}],\"heatmapgl\":[{\"type\":\"heatmapgl\",\"colorbar\":{\"outlinewidth\":0,\"ticks\":\"\"},\"colorscale\":[[0.0,\"#0d0887\"],[0.1111111111111111,\"#46039f\"],[0.2222222222222222,\"#7201a8\"],[0.3333333333333333,\"#9c179e\"],[0.4444444444444444,\"#bd3786\"],[0.5555555555555556,\"#d8576b\"],[0.6666666666666666,\"#ed7953\"],[0.7777777777777778,\"#fb9f3a\"],[0.8888888888888888,\"#fdca26\"],[1.0,\"#f0f921\"]]}],\"contourcarpet\":[{\"type\":\"contourcarpet\",\"colorbar\":{\"outlinewidth\":0,\"ticks\":\"\"}}],\"contour\":[{\"type\":\"contour\",\"colorbar\":{\"outlinewidth\":0,\"ticks\":\"\"},\"colorscale\":[[0.0,\"#0d0887\"],[0.1111111111111111,\"#46039f\"],[0.2222222222222222,\"#7201a8\"],[0.3333333333333333,\"#9c179e\"],[0.4444444444444444,\"#bd3786\"],[0.5555555555555556,\"#d8576b\"],[0.6666666666666666,\"#ed7953\"],[0.7777777777777778,\"#fb9f3a\"],[0.8888888888888888,\"#fdca26\"],[1.0,\"#f0f921\"]]}],\"surface\":[{\"type\":\"surface\",\"colorbar\":{\"outlinewidth\":0,\"ticks\":\"\"},\"colorscale\":[[0.0,\"#0d0887\"],[0.1111111111111111,\"#46039f\"],[0.2222222222222222,\"#7201a8\"],[0.3333333333333333,\"#9c179e\"],[0.4444444444444444,\"#bd3786\"],[0.5555555555555556,\"#d8576b\"],[0.6666666666666666,\"#ed7953\"],[0.7777777777777778,\"#fb9f3a\"],[0.8888888888888888,\"#fdca26\"],[1.0,\"#f0f921\"]]}],\"mesh3d\":[{\"type\":\"mesh3d\",\"colorbar\":{\"outlinewidth\":0,\"ticks\":\"\"}}],\"scatter\":[{\"fillpattern\":{\"fillmode\":\"overlay\",\"size\":10,\"solidity\":0.2},\"type\":\"scatter\"}],\"parcoords\":[{\"type\":\"parcoords\",\"line\":{\"colorbar\":{\"outlinewidth\":0,\"ticks\":\"\"}}}],\"scatterpolargl\":[{\"type\":\"scatterpolargl\",\"marker\":{\"colorbar\":{\"outlinewidth\":0,\"ticks\":\"\"}}}],\"bar\":[{\"error_x\":{\"color\":\"#2a3f5f\"},\"error_y\":{\"color\":\"#2a3f5f\"},\"marker\":{\"line\":{\"color\":\"#E5ECF6\",\"width\":0.5},\"pattern\":{\"fillmode\":\"overlay\",\"size\":10,\"solidity\":0.2}},\"type\":\"bar\"}],\"scattergeo\":[{\"type\":\"scattergeo\",\"marker\":{\"colorbar\":{\"outlinewidth\":0,\"ticks\":\"\"}}}],\"scatterpolar\":[{\"type\":\"scatterpolar\",\"marker\":{\"colorbar\":{\"outlinewidth\":0,\"ticks\":\"\"}}}],\"histogram\":[{\"marker\":{\"pattern\":{\"fillmode\":\"overlay\",\"size\":10,\"solidity\":0.2}},\"type\":\"histogram\"}],\"scattergl\":[{\"type\":\"scattergl\",\"marker\":{\"colorbar\":{\"outlinewidth\":0,\"ticks\":\"\"}}}],\"scatter3d\":[{\"type\":\"scatter3d\",\"line\":{\"colorbar\":{\"outlinewidth\":0,\"ticks\":\"\"}},\"marker\":{\"colorbar\":{\"outlinewidth\":0,\"ticks\":\"\"}}}],\"scattermapbox\":[{\"type\":\"scattermapbox\",\"marker\":{\"colorbar\":{\"outlinewidth\":0,\"ticks\":\"\"}}}],\"scatterternary\":[{\"type\":\"scatterternary\",\"marker\":{\"colorbar\":{\"outlinewidth\":0,\"ticks\":\"\"}}}],\"scattercarpet\":[{\"type\":\"scattercarpet\",\"marker\":{\"colorbar\":{\"outlinewidth\":0,\"ticks\":\"\"}}}],\"carpet\":[{\"aaxis\":{\"endlinecolor\":\"#2a3f5f\",\"gridcolor\":\"white\",\"linecolor\":\"white\",\"minorgridcolor\":\"white\",\"startlinecolor\":\"#2a3f5f\"},\"baxis\":{\"endlinecolor\":\"#2a3f5f\",\"gridcolor\":\"white\",\"linecolor\":\"white\",\"minorgridcolor\":\"white\",\"startlinecolor\":\"#2a3f5f\"},\"type\":\"carpet\"}],\"table\":[{\"cells\":{\"fill\":{\"color\":\"#EBF0F8\"},\"line\":{\"color\":\"white\"}},\"header\":{\"fill\":{\"color\":\"#C8D4E3\"},\"line\":{\"color\":\"white\"}},\"type\":\"table\"}],\"barpolar\":[{\"marker\":{\"line\":{\"color\":\"#E5ECF6\",\"width\":0.5},\"pattern\":{\"fillmode\":\"overlay\",\"size\":10,\"solidity\":0.2}},\"type\":\"barpolar\"}],\"pie\":[{\"automargin\":true,\"type\":\"pie\"}]},\"layout\":{\"autotypenumbers\":\"strict\",\"colorway\":[\"#636efa\",\"#EF553B\",\"#00cc96\",\"#ab63fa\",\"#FFA15A\",\"#19d3f3\",\"#FF6692\",\"#B6E880\",\"#FF97FF\",\"#FECB52\"],\"font\":{\"color\":\"#2a3f5f\"},\"hovermode\":\"closest\",\"hoverlabel\":{\"align\":\"left\"},\"paper_bgcolor\":\"white\",\"plot_bgcolor\":\"#E5ECF6\",\"polar\":{\"bgcolor\":\"#E5ECF6\",\"angularaxis\":{\"gridcolor\":\"white\",\"linecolor\":\"white\",\"ticks\":\"\"},\"radialaxis\":{\"gridcolor\":\"white\",\"linecolor\":\"white\",\"ticks\":\"\"}},\"ternary\":{\"bgcolor\":\"#E5ECF6\",\"aaxis\":{\"gridcolor\":\"white\",\"linecolor\":\"white\",\"ticks\":\"\"},\"baxis\":{\"gridcolor\":\"white\",\"linecolor\":\"white\",\"ticks\":\"\"},\"caxis\":{\"gridcolor\":\"white\",\"linecolor\":\"white\",\"ticks\":\"\"}},\"coloraxis\":{\"colorbar\":{\"outlinewidth\":0,\"ticks\":\"\"}},\"colorscale\":{\"sequential\":[[0.0,\"#0d0887\"],[0.1111111111111111,\"#46039f\"],[0.2222222222222222,\"#7201a8\"],[0.3333333333333333,\"#9c179e\"],[0.4444444444444444,\"#bd3786\"],[0.5555555555555556,\"#d8576b\"],[0.6666666666666666,\"#ed7953\"],[0.7777777777777778,\"#fb9f3a\"],[0.8888888888888888,\"#fdca26\"],[1.0,\"#f0f921\"]],\"sequentialminus\":[[0.0,\"#0d0887\"],[0.1111111111111111,\"#46039f\"],[0.2222222222222222,\"#7201a8\"],[0.3333333333333333,\"#9c179e\"],[0.4444444444444444,\"#bd3786\"],[0.5555555555555556,\"#d8576b\"],[0.6666666666666666,\"#ed7953\"],[0.7777777777777778,\"#fb9f3a\"],[0.8888888888888888,\"#fdca26\"],[1.0,\"#f0f921\"]],\"diverging\":[[0,\"#8e0152\"],[0.1,\"#c51b7d\"],[0.2,\"#de77ae\"],[0.3,\"#f1b6da\"],[0.4,\"#fde0ef\"],[0.5,\"#f7f7f7\"],[0.6,\"#e6f5d0\"],[0.7,\"#b8e186\"],[0.8,\"#7fbc41\"],[0.9,\"#4d9221\"],[1,\"#276419\"]]},\"xaxis\":{\"gridcolor\":\"white\",\"linecolor\":\"white\",\"ticks\":\"\",\"title\":{\"standoff\":15},\"zerolinecolor\":\"white\",\"automargin\":true,\"zerolinewidth\":2},\"yaxis\":{\"gridcolor\":\"white\",\"linecolor\":\"white\",\"ticks\":\"\",\"title\":{\"standoff\":15},\"zerolinecolor\":\"white\",\"automargin\":true,\"zerolinewidth\":2},\"scene\":{\"xaxis\":{\"backgroundcolor\":\"#E5ECF6\",\"gridcolor\":\"white\",\"linecolor\":\"white\",\"showbackground\":true,\"ticks\":\"\",\"zerolinecolor\":\"white\",\"gridwidth\":2},\"yaxis\":{\"backgroundcolor\":\"#E5ECF6\",\"gridcolor\":\"white\",\"linecolor\":\"white\",\"showbackground\":true,\"ticks\":\"\",\"zerolinecolor\":\"white\",\"gridwidth\":2},\"zaxis\":{\"backgroundcolor\":\"#E5ECF6\",\"gridcolor\":\"white\",\"linecolor\":\"white\",\"showbackground\":true,\"ticks\":\"\",\"zerolinecolor\":\"white\",\"gridwidth\":2}},\"shapedefaults\":{\"line\":{\"color\":\"#2a3f5f\"}},\"annotationdefaults\":{\"arrowcolor\":\"#2a3f5f\",\"arrowhead\":0,\"arrowwidth\":1},\"geo\":{\"bgcolor\":\"white\",\"landcolor\":\"#E5ECF6\",\"subunitcolor\":\"white\",\"showland\":true,\"showlakes\":true,\"lakecolor\":\"white\"},\"title\":{\"x\":0.05},\"mapbox\":{\"style\":\"light\"}}},\"xaxis\":{\"anchor\":\"y\",\"domain\":[0.0,1.0],\"title\":{\"text\":\"\\u5e74\\u4efd\"}},\"yaxis\":{\"anchor\":\"x\",\"domain\":[0.0,1.0],\"title\":{\"text\":\"\\u53d6\\u503c\"}},\"legend\":{\"title\":{\"text\":\"\\u9884\\u6d4b\\u503c/\\u771f\\u5b9e\\u503c\"},\"tracegroupgap\":0},\"margin\":{\"t\":60},\"title\":{\"text\":\"\\u653e\\u7267\\u5f3a\\u5ea6HGI\\u4e0b\\u5c0f\\u533aG9\\u7684SIC\\u571f\\u58e4\\u65e0\\u673a\\u78b3\\u62df\\u5408\\u6548\\u679c\"}},                        {\"responsive\": true}                    ).then(function(){\n",
       "                            \n",
       "var gd = document.getElementById('12fa0aed-bc6c-4561-a872-803eba5d1824');\n",
       "var x = new MutationObserver(function (mutations, observer) {{\n",
       "        var display = window.getComputedStyle(gd).display;\n",
       "        if (!display || display === 'none') {{\n",
       "            console.log([gd, 'removed!']);\n",
       "            Plotly.purge(gd);\n",
       "            observer.disconnect();\n",
       "        }}\n",
       "}});\n",
       "\n",
       "// Listen for the removal of the full notebook cells\n",
       "var notebookContainer = gd.closest('#notebook-container');\n",
       "if (notebookContainer) {{\n",
       "    x.observe(notebookContainer, {childList: true});\n",
       "}}\n",
       "\n",
       "// Listen for the clearing of the current output cell\n",
       "var outputEl = gd.closest('.output');\n",
       "if (outputEl) {{\n",
       "    x.observe(outputEl, {childList: true});\n",
       "}}\n",
       "\n",
       "                        })                };                });            </script>        </div>"
      ]
     },
     "metadata": {},
     "output_type": "display_data"
    }
   ],
   "source": [
    "plotPredGnd(2, SIC)"
   ]
  },
  {
   "cell_type": "code",
   "execution_count": 45,
   "id": "872dd086",
   "metadata": {},
   "outputs": [
    {
     "data": {
      "application/vnd.plotly.v1+json": {
       "config": {
        "plotlyServerURL": "https://plot.ly"
       },
       "data": [
        {
         "hovertemplate": "variable=STC土壤全碳真实值<br>year=%{x}<br>value=%{y}<extra></extra>",
         "legendgroup": "STC土壤全碳真实值",
         "line": {
          "color": "#636efa",
          "dash": "solid"
         },
         "marker": {
          "symbol": "circle"
         },
         "mode": "lines",
         "name": "STC土壤全碳真实值",
         "orientation": "v",
         "showlegend": true,
         "type": "scatter",
         "x": [
          2012,
          2014,
          2016,
          2018,
          2020
         ],
         "xaxis": "x",
         "y": [
          25.3495335539182,
          22.3357644677162,
          22.285921374956768,
          20.5559641122818,
          20.32215
         ],
         "yaxis": "y"
        },
        {
         "hovertemplate": "variable=STC土壤全碳预测值<br>year=%{x}<br>value=%{y}<extra></extra>",
         "legendgroup": "STC土壤全碳预测值",
         "line": {
          "color": "#EF553B",
          "dash": "solid"
         },
         "marker": {
          "symbol": "circle"
         },
         "mode": "lines",
         "name": "STC土壤全碳预测值",
         "orientation": "v",
         "showlegend": true,
         "type": "scatter",
         "x": [
          2012,
          2014,
          2016,
          2018,
          2020
         ],
         "xaxis": "x",
         "y": [
          25.381879806518555,
          22.47284507751465,
          21.667497634887695,
          20.662609100341797,
          20.30230712890625
         ],
         "yaxis": "y"
        }
       ],
       "layout": {
        "legend": {
         "title": {
          "text": "预测值/真实值"
         },
         "tracegroupgap": 0
        },
        "margin": {
         "t": 60
        },
        "template": {
         "data": {
          "bar": [
           {
            "error_x": {
             "color": "#2a3f5f"
            },
            "error_y": {
             "color": "#2a3f5f"
            },
            "marker": {
             "line": {
              "color": "#E5ECF6",
              "width": 0.5
             },
             "pattern": {
              "fillmode": "overlay",
              "size": 10,
              "solidity": 0.2
             }
            },
            "type": "bar"
           }
          ],
          "barpolar": [
           {
            "marker": {
             "line": {
              "color": "#E5ECF6",
              "width": 0.5
             },
             "pattern": {
              "fillmode": "overlay",
              "size": 10,
              "solidity": 0.2
             }
            },
            "type": "barpolar"
           }
          ],
          "carpet": [
           {
            "aaxis": {
             "endlinecolor": "#2a3f5f",
             "gridcolor": "white",
             "linecolor": "white",
             "minorgridcolor": "white",
             "startlinecolor": "#2a3f5f"
            },
            "baxis": {
             "endlinecolor": "#2a3f5f",
             "gridcolor": "white",
             "linecolor": "white",
             "minorgridcolor": "white",
             "startlinecolor": "#2a3f5f"
            },
            "type": "carpet"
           }
          ],
          "choropleth": [
           {
            "colorbar": {
             "outlinewidth": 0,
             "ticks": ""
            },
            "type": "choropleth"
           }
          ],
          "contour": [
           {
            "colorbar": {
             "outlinewidth": 0,
             "ticks": ""
            },
            "colorscale": [
             [
              0,
              "#0d0887"
             ],
             [
              0.1111111111111111,
              "#46039f"
             ],
             [
              0.2222222222222222,
              "#7201a8"
             ],
             [
              0.3333333333333333,
              "#9c179e"
             ],
             [
              0.4444444444444444,
              "#bd3786"
             ],
             [
              0.5555555555555556,
              "#d8576b"
             ],
             [
              0.6666666666666666,
              "#ed7953"
             ],
             [
              0.7777777777777778,
              "#fb9f3a"
             ],
             [
              0.8888888888888888,
              "#fdca26"
             ],
             [
              1,
              "#f0f921"
             ]
            ],
            "type": "contour"
           }
          ],
          "contourcarpet": [
           {
            "colorbar": {
             "outlinewidth": 0,
             "ticks": ""
            },
            "type": "contourcarpet"
           }
          ],
          "heatmap": [
           {
            "colorbar": {
             "outlinewidth": 0,
             "ticks": ""
            },
            "colorscale": [
             [
              0,
              "#0d0887"
             ],
             [
              0.1111111111111111,
              "#46039f"
             ],
             [
              0.2222222222222222,
              "#7201a8"
             ],
             [
              0.3333333333333333,
              "#9c179e"
             ],
             [
              0.4444444444444444,
              "#bd3786"
             ],
             [
              0.5555555555555556,
              "#d8576b"
             ],
             [
              0.6666666666666666,
              "#ed7953"
             ],
             [
              0.7777777777777778,
              "#fb9f3a"
             ],
             [
              0.8888888888888888,
              "#fdca26"
             ],
             [
              1,
              "#f0f921"
             ]
            ],
            "type": "heatmap"
           }
          ],
          "heatmapgl": [
           {
            "colorbar": {
             "outlinewidth": 0,
             "ticks": ""
            },
            "colorscale": [
             [
              0,
              "#0d0887"
             ],
             [
              0.1111111111111111,
              "#46039f"
             ],
             [
              0.2222222222222222,
              "#7201a8"
             ],
             [
              0.3333333333333333,
              "#9c179e"
             ],
             [
              0.4444444444444444,
              "#bd3786"
             ],
             [
              0.5555555555555556,
              "#d8576b"
             ],
             [
              0.6666666666666666,
              "#ed7953"
             ],
             [
              0.7777777777777778,
              "#fb9f3a"
             ],
             [
              0.8888888888888888,
              "#fdca26"
             ],
             [
              1,
              "#f0f921"
             ]
            ],
            "type": "heatmapgl"
           }
          ],
          "histogram": [
           {
            "marker": {
             "pattern": {
              "fillmode": "overlay",
              "size": 10,
              "solidity": 0.2
             }
            },
            "type": "histogram"
           }
          ],
          "histogram2d": [
           {
            "colorbar": {
             "outlinewidth": 0,
             "ticks": ""
            },
            "colorscale": [
             [
              0,
              "#0d0887"
             ],
             [
              0.1111111111111111,
              "#46039f"
             ],
             [
              0.2222222222222222,
              "#7201a8"
             ],
             [
              0.3333333333333333,
              "#9c179e"
             ],
             [
              0.4444444444444444,
              "#bd3786"
             ],
             [
              0.5555555555555556,
              "#d8576b"
             ],
             [
              0.6666666666666666,
              "#ed7953"
             ],
             [
              0.7777777777777778,
              "#fb9f3a"
             ],
             [
              0.8888888888888888,
              "#fdca26"
             ],
             [
              1,
              "#f0f921"
             ]
            ],
            "type": "histogram2d"
           }
          ],
          "histogram2dcontour": [
           {
            "colorbar": {
             "outlinewidth": 0,
             "ticks": ""
            },
            "colorscale": [
             [
              0,
              "#0d0887"
             ],
             [
              0.1111111111111111,
              "#46039f"
             ],
             [
              0.2222222222222222,
              "#7201a8"
             ],
             [
              0.3333333333333333,
              "#9c179e"
             ],
             [
              0.4444444444444444,
              "#bd3786"
             ],
             [
              0.5555555555555556,
              "#d8576b"
             ],
             [
              0.6666666666666666,
              "#ed7953"
             ],
             [
              0.7777777777777778,
              "#fb9f3a"
             ],
             [
              0.8888888888888888,
              "#fdca26"
             ],
             [
              1,
              "#f0f921"
             ]
            ],
            "type": "histogram2dcontour"
           }
          ],
          "mesh3d": [
           {
            "colorbar": {
             "outlinewidth": 0,
             "ticks": ""
            },
            "type": "mesh3d"
           }
          ],
          "parcoords": [
           {
            "line": {
             "colorbar": {
              "outlinewidth": 0,
              "ticks": ""
             }
            },
            "type": "parcoords"
           }
          ],
          "pie": [
           {
            "automargin": true,
            "type": "pie"
           }
          ],
          "scatter": [
           {
            "fillpattern": {
             "fillmode": "overlay",
             "size": 10,
             "solidity": 0.2
            },
            "type": "scatter"
           }
          ],
          "scatter3d": [
           {
            "line": {
             "colorbar": {
              "outlinewidth": 0,
              "ticks": ""
             }
            },
            "marker": {
             "colorbar": {
              "outlinewidth": 0,
              "ticks": ""
             }
            },
            "type": "scatter3d"
           }
          ],
          "scattercarpet": [
           {
            "marker": {
             "colorbar": {
              "outlinewidth": 0,
              "ticks": ""
             }
            },
            "type": "scattercarpet"
           }
          ],
          "scattergeo": [
           {
            "marker": {
             "colorbar": {
              "outlinewidth": 0,
              "ticks": ""
             }
            },
            "type": "scattergeo"
           }
          ],
          "scattergl": [
           {
            "marker": {
             "colorbar": {
              "outlinewidth": 0,
              "ticks": ""
             }
            },
            "type": "scattergl"
           }
          ],
          "scattermapbox": [
           {
            "marker": {
             "colorbar": {
              "outlinewidth": 0,
              "ticks": ""
             }
            },
            "type": "scattermapbox"
           }
          ],
          "scatterpolar": [
           {
            "marker": {
             "colorbar": {
              "outlinewidth": 0,
              "ticks": ""
             }
            },
            "type": "scatterpolar"
           }
          ],
          "scatterpolargl": [
           {
            "marker": {
             "colorbar": {
              "outlinewidth": 0,
              "ticks": ""
             }
            },
            "type": "scatterpolargl"
           }
          ],
          "scatterternary": [
           {
            "marker": {
             "colorbar": {
              "outlinewidth": 0,
              "ticks": ""
             }
            },
            "type": "scatterternary"
           }
          ],
          "surface": [
           {
            "colorbar": {
             "outlinewidth": 0,
             "ticks": ""
            },
            "colorscale": [
             [
              0,
              "#0d0887"
             ],
             [
              0.1111111111111111,
              "#46039f"
             ],
             [
              0.2222222222222222,
              "#7201a8"
             ],
             [
              0.3333333333333333,
              "#9c179e"
             ],
             [
              0.4444444444444444,
              "#bd3786"
             ],
             [
              0.5555555555555556,
              "#d8576b"
             ],
             [
              0.6666666666666666,
              "#ed7953"
             ],
             [
              0.7777777777777778,
              "#fb9f3a"
             ],
             [
              0.8888888888888888,
              "#fdca26"
             ],
             [
              1,
              "#f0f921"
             ]
            ],
            "type": "surface"
           }
          ],
          "table": [
           {
            "cells": {
             "fill": {
              "color": "#EBF0F8"
             },
             "line": {
              "color": "white"
             }
            },
            "header": {
             "fill": {
              "color": "#C8D4E3"
             },
             "line": {
              "color": "white"
             }
            },
            "type": "table"
           }
          ]
         },
         "layout": {
          "annotationdefaults": {
           "arrowcolor": "#2a3f5f",
           "arrowhead": 0,
           "arrowwidth": 1
          },
          "autotypenumbers": "strict",
          "coloraxis": {
           "colorbar": {
            "outlinewidth": 0,
            "ticks": ""
           }
          },
          "colorscale": {
           "diverging": [
            [
             0,
             "#8e0152"
            ],
            [
             0.1,
             "#c51b7d"
            ],
            [
             0.2,
             "#de77ae"
            ],
            [
             0.3,
             "#f1b6da"
            ],
            [
             0.4,
             "#fde0ef"
            ],
            [
             0.5,
             "#f7f7f7"
            ],
            [
             0.6,
             "#e6f5d0"
            ],
            [
             0.7,
             "#b8e186"
            ],
            [
             0.8,
             "#7fbc41"
            ],
            [
             0.9,
             "#4d9221"
            ],
            [
             1,
             "#276419"
            ]
           ],
           "sequential": [
            [
             0,
             "#0d0887"
            ],
            [
             0.1111111111111111,
             "#46039f"
            ],
            [
             0.2222222222222222,
             "#7201a8"
            ],
            [
             0.3333333333333333,
             "#9c179e"
            ],
            [
             0.4444444444444444,
             "#bd3786"
            ],
            [
             0.5555555555555556,
             "#d8576b"
            ],
            [
             0.6666666666666666,
             "#ed7953"
            ],
            [
             0.7777777777777778,
             "#fb9f3a"
            ],
            [
             0.8888888888888888,
             "#fdca26"
            ],
            [
             1,
             "#f0f921"
            ]
           ],
           "sequentialminus": [
            [
             0,
             "#0d0887"
            ],
            [
             0.1111111111111111,
             "#46039f"
            ],
            [
             0.2222222222222222,
             "#7201a8"
            ],
            [
             0.3333333333333333,
             "#9c179e"
            ],
            [
             0.4444444444444444,
             "#bd3786"
            ],
            [
             0.5555555555555556,
             "#d8576b"
            ],
            [
             0.6666666666666666,
             "#ed7953"
            ],
            [
             0.7777777777777778,
             "#fb9f3a"
            ],
            [
             0.8888888888888888,
             "#fdca26"
            ],
            [
             1,
             "#f0f921"
            ]
           ]
          },
          "colorway": [
           "#636efa",
           "#EF553B",
           "#00cc96",
           "#ab63fa",
           "#FFA15A",
           "#19d3f3",
           "#FF6692",
           "#B6E880",
           "#FF97FF",
           "#FECB52"
          ],
          "font": {
           "color": "#2a3f5f"
          },
          "geo": {
           "bgcolor": "white",
           "lakecolor": "white",
           "landcolor": "#E5ECF6",
           "showlakes": true,
           "showland": true,
           "subunitcolor": "white"
          },
          "hoverlabel": {
           "align": "left"
          },
          "hovermode": "closest",
          "mapbox": {
           "style": "light"
          },
          "paper_bgcolor": "white",
          "plot_bgcolor": "#E5ECF6",
          "polar": {
           "angularaxis": {
            "gridcolor": "white",
            "linecolor": "white",
            "ticks": ""
           },
           "bgcolor": "#E5ECF6",
           "radialaxis": {
            "gridcolor": "white",
            "linecolor": "white",
            "ticks": ""
           }
          },
          "scene": {
           "xaxis": {
            "backgroundcolor": "#E5ECF6",
            "gridcolor": "white",
            "gridwidth": 2,
            "linecolor": "white",
            "showbackground": true,
            "ticks": "",
            "zerolinecolor": "white"
           },
           "yaxis": {
            "backgroundcolor": "#E5ECF6",
            "gridcolor": "white",
            "gridwidth": 2,
            "linecolor": "white",
            "showbackground": true,
            "ticks": "",
            "zerolinecolor": "white"
           },
           "zaxis": {
            "backgroundcolor": "#E5ECF6",
            "gridcolor": "white",
            "gridwidth": 2,
            "linecolor": "white",
            "showbackground": true,
            "ticks": "",
            "zerolinecolor": "white"
           }
          },
          "shapedefaults": {
           "line": {
            "color": "#2a3f5f"
           }
          },
          "ternary": {
           "aaxis": {
            "gridcolor": "white",
            "linecolor": "white",
            "ticks": ""
           },
           "baxis": {
            "gridcolor": "white",
            "linecolor": "white",
            "ticks": ""
           },
           "bgcolor": "#E5ECF6",
           "caxis": {
            "gridcolor": "white",
            "linecolor": "white",
            "ticks": ""
           }
          },
          "title": {
           "x": 0.05
          },
          "xaxis": {
           "automargin": true,
           "gridcolor": "white",
           "linecolor": "white",
           "ticks": "",
           "title": {
            "standoff": 15
           },
           "zerolinecolor": "white",
           "zerolinewidth": 2
          },
          "yaxis": {
           "automargin": true,
           "gridcolor": "white",
           "linecolor": "white",
           "ticks": "",
           "title": {
            "standoff": 15
           },
           "zerolinecolor": "white",
           "zerolinewidth": 2
          }
         }
        },
        "title": {
         "text": "放牧强度HGI下小区G9的STC土壤全碳拟合效果"
        },
        "xaxis": {
         "anchor": "y",
         "domain": [
          0,
          1
         ],
         "title": {
          "text": "年份"
         }
        },
        "yaxis": {
         "anchor": "x",
         "domain": [
          0,
          1
         ],
         "title": {
          "text": "取值"
         }
        }
       }
      },
      "text/html": [
       "<div>                            <div id=\"974905f0-8f13-4bae-8516-2cc63880ee17\" class=\"plotly-graph-div\" style=\"height:525px; width:100%;\"></div>            <script type=\"text/javascript\">                require([\"plotly\"], function(Plotly) {                    window.PLOTLYENV=window.PLOTLYENV || {};                                    if (document.getElementById(\"974905f0-8f13-4bae-8516-2cc63880ee17\")) {                    Plotly.newPlot(                        \"974905f0-8f13-4bae-8516-2cc63880ee17\",                        [{\"hovertemplate\":\"variable=STC\\u571f\\u58e4\\u5168\\u78b3\\u771f\\u5b9e\\u503c<br>year=%{x}<br>value=%{y}<extra></extra>\",\"legendgroup\":\"STC\\u571f\\u58e4\\u5168\\u78b3\\u771f\\u5b9e\\u503c\",\"line\":{\"color\":\"#636efa\",\"dash\":\"solid\"},\"marker\":{\"symbol\":\"circle\"},\"mode\":\"lines\",\"name\":\"STC\\u571f\\u58e4\\u5168\\u78b3\\u771f\\u5b9e\\u503c\",\"orientation\":\"v\",\"showlegend\":true,\"x\":[2012,2014,2016,2018,2020],\"xaxis\":\"x\",\"y\":[25.3495335539182,22.3357644677162,22.285921374956768,20.5559641122818,20.32215],\"yaxis\":\"y\",\"type\":\"scatter\"},{\"hovertemplate\":\"variable=STC\\u571f\\u58e4\\u5168\\u78b3\\u9884\\u6d4b\\u503c<br>year=%{x}<br>value=%{y}<extra></extra>\",\"legendgroup\":\"STC\\u571f\\u58e4\\u5168\\u78b3\\u9884\\u6d4b\\u503c\",\"line\":{\"color\":\"#EF553B\",\"dash\":\"solid\"},\"marker\":{\"symbol\":\"circle\"},\"mode\":\"lines\",\"name\":\"STC\\u571f\\u58e4\\u5168\\u78b3\\u9884\\u6d4b\\u503c\",\"orientation\":\"v\",\"showlegend\":true,\"x\":[2012,2014,2016,2018,2020],\"xaxis\":\"x\",\"y\":[25.381879806518555,22.47284507751465,21.667497634887695,20.662609100341797,20.30230712890625],\"yaxis\":\"y\",\"type\":\"scatter\"}],                        {\"template\":{\"data\":{\"histogram2dcontour\":[{\"type\":\"histogram2dcontour\",\"colorbar\":{\"outlinewidth\":0,\"ticks\":\"\"},\"colorscale\":[[0.0,\"#0d0887\"],[0.1111111111111111,\"#46039f\"],[0.2222222222222222,\"#7201a8\"],[0.3333333333333333,\"#9c179e\"],[0.4444444444444444,\"#bd3786\"],[0.5555555555555556,\"#d8576b\"],[0.6666666666666666,\"#ed7953\"],[0.7777777777777778,\"#fb9f3a\"],[0.8888888888888888,\"#fdca26\"],[1.0,\"#f0f921\"]]}],\"choropleth\":[{\"type\":\"choropleth\",\"colorbar\":{\"outlinewidth\":0,\"ticks\":\"\"}}],\"histogram2d\":[{\"type\":\"histogram2d\",\"colorbar\":{\"outlinewidth\":0,\"ticks\":\"\"},\"colorscale\":[[0.0,\"#0d0887\"],[0.1111111111111111,\"#46039f\"],[0.2222222222222222,\"#7201a8\"],[0.3333333333333333,\"#9c179e\"],[0.4444444444444444,\"#bd3786\"],[0.5555555555555556,\"#d8576b\"],[0.6666666666666666,\"#ed7953\"],[0.7777777777777778,\"#fb9f3a\"],[0.8888888888888888,\"#fdca26\"],[1.0,\"#f0f921\"]]}],\"heatmap\":[{\"type\":\"heatmap\",\"colorbar\":{\"outlinewidth\":0,\"ticks\":\"\"},\"colorscale\":[[0.0,\"#0d0887\"],[0.1111111111111111,\"#46039f\"],[0.2222222222222222,\"#7201a8\"],[0.3333333333333333,\"#9c179e\"],[0.4444444444444444,\"#bd3786\"],[0.5555555555555556,\"#d8576b\"],[0.6666666666666666,\"#ed7953\"],[0.7777777777777778,\"#fb9f3a\"],[0.8888888888888888,\"#fdca26\"],[1.0,\"#f0f921\"]]}],\"heatmapgl\":[{\"type\":\"heatmapgl\",\"colorbar\":{\"outlinewidth\":0,\"ticks\":\"\"},\"colorscale\":[[0.0,\"#0d0887\"],[0.1111111111111111,\"#46039f\"],[0.2222222222222222,\"#7201a8\"],[0.3333333333333333,\"#9c179e\"],[0.4444444444444444,\"#bd3786\"],[0.5555555555555556,\"#d8576b\"],[0.6666666666666666,\"#ed7953\"],[0.7777777777777778,\"#fb9f3a\"],[0.8888888888888888,\"#fdca26\"],[1.0,\"#f0f921\"]]}],\"contourcarpet\":[{\"type\":\"contourcarpet\",\"colorbar\":{\"outlinewidth\":0,\"ticks\":\"\"}}],\"contour\":[{\"type\":\"contour\",\"colorbar\":{\"outlinewidth\":0,\"ticks\":\"\"},\"colorscale\":[[0.0,\"#0d0887\"],[0.1111111111111111,\"#46039f\"],[0.2222222222222222,\"#7201a8\"],[0.3333333333333333,\"#9c179e\"],[0.4444444444444444,\"#bd3786\"],[0.5555555555555556,\"#d8576b\"],[0.6666666666666666,\"#ed7953\"],[0.7777777777777778,\"#fb9f3a\"],[0.8888888888888888,\"#fdca26\"],[1.0,\"#f0f921\"]]}],\"surface\":[{\"type\":\"surface\",\"colorbar\":{\"outlinewidth\":0,\"ticks\":\"\"},\"colorscale\":[[0.0,\"#0d0887\"],[0.1111111111111111,\"#46039f\"],[0.2222222222222222,\"#7201a8\"],[0.3333333333333333,\"#9c179e\"],[0.4444444444444444,\"#bd3786\"],[0.5555555555555556,\"#d8576b\"],[0.6666666666666666,\"#ed7953\"],[0.7777777777777778,\"#fb9f3a\"],[0.8888888888888888,\"#fdca26\"],[1.0,\"#f0f921\"]]}],\"mesh3d\":[{\"type\":\"mesh3d\",\"colorbar\":{\"outlinewidth\":0,\"ticks\":\"\"}}],\"scatter\":[{\"fillpattern\":{\"fillmode\":\"overlay\",\"size\":10,\"solidity\":0.2},\"type\":\"scatter\"}],\"parcoords\":[{\"type\":\"parcoords\",\"line\":{\"colorbar\":{\"outlinewidth\":0,\"ticks\":\"\"}}}],\"scatterpolargl\":[{\"type\":\"scatterpolargl\",\"marker\":{\"colorbar\":{\"outlinewidth\":0,\"ticks\":\"\"}}}],\"bar\":[{\"error_x\":{\"color\":\"#2a3f5f\"},\"error_y\":{\"color\":\"#2a3f5f\"},\"marker\":{\"line\":{\"color\":\"#E5ECF6\",\"width\":0.5},\"pattern\":{\"fillmode\":\"overlay\",\"size\":10,\"solidity\":0.2}},\"type\":\"bar\"}],\"scattergeo\":[{\"type\":\"scattergeo\",\"marker\":{\"colorbar\":{\"outlinewidth\":0,\"ticks\":\"\"}}}],\"scatterpolar\":[{\"type\":\"scatterpolar\",\"marker\":{\"colorbar\":{\"outlinewidth\":0,\"ticks\":\"\"}}}],\"histogram\":[{\"marker\":{\"pattern\":{\"fillmode\":\"overlay\",\"size\":10,\"solidity\":0.2}},\"type\":\"histogram\"}],\"scattergl\":[{\"type\":\"scattergl\",\"marker\":{\"colorbar\":{\"outlinewidth\":0,\"ticks\":\"\"}}}],\"scatter3d\":[{\"type\":\"scatter3d\",\"line\":{\"colorbar\":{\"outlinewidth\":0,\"ticks\":\"\"}},\"marker\":{\"colorbar\":{\"outlinewidth\":0,\"ticks\":\"\"}}}],\"scattermapbox\":[{\"type\":\"scattermapbox\",\"marker\":{\"colorbar\":{\"outlinewidth\":0,\"ticks\":\"\"}}}],\"scatterternary\":[{\"type\":\"scatterternary\",\"marker\":{\"colorbar\":{\"outlinewidth\":0,\"ticks\":\"\"}}}],\"scattercarpet\":[{\"type\":\"scattercarpet\",\"marker\":{\"colorbar\":{\"outlinewidth\":0,\"ticks\":\"\"}}}],\"carpet\":[{\"aaxis\":{\"endlinecolor\":\"#2a3f5f\",\"gridcolor\":\"white\",\"linecolor\":\"white\",\"minorgridcolor\":\"white\",\"startlinecolor\":\"#2a3f5f\"},\"baxis\":{\"endlinecolor\":\"#2a3f5f\",\"gridcolor\":\"white\",\"linecolor\":\"white\",\"minorgridcolor\":\"white\",\"startlinecolor\":\"#2a3f5f\"},\"type\":\"carpet\"}],\"table\":[{\"cells\":{\"fill\":{\"color\":\"#EBF0F8\"},\"line\":{\"color\":\"white\"}},\"header\":{\"fill\":{\"color\":\"#C8D4E3\"},\"line\":{\"color\":\"white\"}},\"type\":\"table\"}],\"barpolar\":[{\"marker\":{\"line\":{\"color\":\"#E5ECF6\",\"width\":0.5},\"pattern\":{\"fillmode\":\"overlay\",\"size\":10,\"solidity\":0.2}},\"type\":\"barpolar\"}],\"pie\":[{\"automargin\":true,\"type\":\"pie\"}]},\"layout\":{\"autotypenumbers\":\"strict\",\"colorway\":[\"#636efa\",\"#EF553B\",\"#00cc96\",\"#ab63fa\",\"#FFA15A\",\"#19d3f3\",\"#FF6692\",\"#B6E880\",\"#FF97FF\",\"#FECB52\"],\"font\":{\"color\":\"#2a3f5f\"},\"hovermode\":\"closest\",\"hoverlabel\":{\"align\":\"left\"},\"paper_bgcolor\":\"white\",\"plot_bgcolor\":\"#E5ECF6\",\"polar\":{\"bgcolor\":\"#E5ECF6\",\"angularaxis\":{\"gridcolor\":\"white\",\"linecolor\":\"white\",\"ticks\":\"\"},\"radialaxis\":{\"gridcolor\":\"white\",\"linecolor\":\"white\",\"ticks\":\"\"}},\"ternary\":{\"bgcolor\":\"#E5ECF6\",\"aaxis\":{\"gridcolor\":\"white\",\"linecolor\":\"white\",\"ticks\":\"\"},\"baxis\":{\"gridcolor\":\"white\",\"linecolor\":\"white\",\"ticks\":\"\"},\"caxis\":{\"gridcolor\":\"white\",\"linecolor\":\"white\",\"ticks\":\"\"}},\"coloraxis\":{\"colorbar\":{\"outlinewidth\":0,\"ticks\":\"\"}},\"colorscale\":{\"sequential\":[[0.0,\"#0d0887\"],[0.1111111111111111,\"#46039f\"],[0.2222222222222222,\"#7201a8\"],[0.3333333333333333,\"#9c179e\"],[0.4444444444444444,\"#bd3786\"],[0.5555555555555556,\"#d8576b\"],[0.6666666666666666,\"#ed7953\"],[0.7777777777777778,\"#fb9f3a\"],[0.8888888888888888,\"#fdca26\"],[1.0,\"#f0f921\"]],\"sequentialminus\":[[0.0,\"#0d0887\"],[0.1111111111111111,\"#46039f\"],[0.2222222222222222,\"#7201a8\"],[0.3333333333333333,\"#9c179e\"],[0.4444444444444444,\"#bd3786\"],[0.5555555555555556,\"#d8576b\"],[0.6666666666666666,\"#ed7953\"],[0.7777777777777778,\"#fb9f3a\"],[0.8888888888888888,\"#fdca26\"],[1.0,\"#f0f921\"]],\"diverging\":[[0,\"#8e0152\"],[0.1,\"#c51b7d\"],[0.2,\"#de77ae\"],[0.3,\"#f1b6da\"],[0.4,\"#fde0ef\"],[0.5,\"#f7f7f7\"],[0.6,\"#e6f5d0\"],[0.7,\"#b8e186\"],[0.8,\"#7fbc41\"],[0.9,\"#4d9221\"],[1,\"#276419\"]]},\"xaxis\":{\"gridcolor\":\"white\",\"linecolor\":\"white\",\"ticks\":\"\",\"title\":{\"standoff\":15},\"zerolinecolor\":\"white\",\"automargin\":true,\"zerolinewidth\":2},\"yaxis\":{\"gridcolor\":\"white\",\"linecolor\":\"white\",\"ticks\":\"\",\"title\":{\"standoff\":15},\"zerolinecolor\":\"white\",\"automargin\":true,\"zerolinewidth\":2},\"scene\":{\"xaxis\":{\"backgroundcolor\":\"#E5ECF6\",\"gridcolor\":\"white\",\"linecolor\":\"white\",\"showbackground\":true,\"ticks\":\"\",\"zerolinecolor\":\"white\",\"gridwidth\":2},\"yaxis\":{\"backgroundcolor\":\"#E5ECF6\",\"gridcolor\":\"white\",\"linecolor\":\"white\",\"showbackground\":true,\"ticks\":\"\",\"zerolinecolor\":\"white\",\"gridwidth\":2},\"zaxis\":{\"backgroundcolor\":\"#E5ECF6\",\"gridcolor\":\"white\",\"linecolor\":\"white\",\"showbackground\":true,\"ticks\":\"\",\"zerolinecolor\":\"white\",\"gridwidth\":2}},\"shapedefaults\":{\"line\":{\"color\":\"#2a3f5f\"}},\"annotationdefaults\":{\"arrowcolor\":\"#2a3f5f\",\"arrowhead\":0,\"arrowwidth\":1},\"geo\":{\"bgcolor\":\"white\",\"landcolor\":\"#E5ECF6\",\"subunitcolor\":\"white\",\"showland\":true,\"showlakes\":true,\"lakecolor\":\"white\"},\"title\":{\"x\":0.05},\"mapbox\":{\"style\":\"light\"}}},\"xaxis\":{\"anchor\":\"y\",\"domain\":[0.0,1.0],\"title\":{\"text\":\"\\u5e74\\u4efd\"}},\"yaxis\":{\"anchor\":\"x\",\"domain\":[0.0,1.0],\"title\":{\"text\":\"\\u53d6\\u503c\"}},\"legend\":{\"title\":{\"text\":\"\\u9884\\u6d4b\\u503c/\\u771f\\u5b9e\\u503c\"},\"tracegroupgap\":0},\"margin\":{\"t\":60},\"title\":{\"text\":\"\\u653e\\u7267\\u5f3a\\u5ea6HGI\\u4e0b\\u5c0f\\u533aG9\\u7684STC\\u571f\\u58e4\\u5168\\u78b3\\u62df\\u5408\\u6548\\u679c\"}},                        {\"responsive\": true}                    ).then(function(){\n",
       "                            \n",
       "var gd = document.getElementById('974905f0-8f13-4bae-8516-2cc63880ee17');\n",
       "var x = new MutationObserver(function (mutations, observer) {{\n",
       "        var display = window.getComputedStyle(gd).display;\n",
       "        if (!display || display === 'none') {{\n",
       "            console.log([gd, 'removed!']);\n",
       "            Plotly.purge(gd);\n",
       "            observer.disconnect();\n",
       "        }}\n",
       "}});\n",
       "\n",
       "// Listen for the removal of the full notebook cells\n",
       "var notebookContainer = gd.closest('#notebook-container');\n",
       "if (notebookContainer) {{\n",
       "    x.observe(notebookContainer, {childList: true});\n",
       "}}\n",
       "\n",
       "// Listen for the clearing of the current output cell\n",
       "var outputEl = gd.closest('.output');\n",
       "if (outputEl) {{\n",
       "    x.observe(outputEl, {childList: true});\n",
       "}}\n",
       "\n",
       "                        })                };                });            </script>        </div>"
      ]
     },
     "metadata": {},
     "output_type": "display_data"
    }
   ],
   "source": [
    "plotPredGnd(2, STC)"
   ]
  },
  {
   "cell_type": "code",
   "execution_count": 46,
   "id": "f716a5e8",
   "metadata": {},
   "outputs": [
    {
     "data": {
      "application/vnd.plotly.v1+json": {
       "config": {
        "plotlyServerURL": "https://plot.ly"
       },
       "data": [
        {
         "hovertemplate": "variable=全氮N真实值<br>year=%{x}<br>value=%{y}<extra></extra>",
         "legendgroup": "全氮N真实值",
         "line": {
          "color": "#636efa",
          "dash": "solid"
         },
         "marker": {
          "symbol": "circle"
         },
         "mode": "lines",
         "name": "全氮N真实值",
         "orientation": "v",
         "showlegend": true,
         "type": "scatter",
         "x": [
          2012,
          2014,
          2016,
          2018,
          2020
         ],
         "xaxis": "x",
         "y": [
          1.648023203015325,
          1.374505069106815,
          1.83664129426082,
          1.9773648679256437,
          2.23695
         ],
         "yaxis": "y"
        },
        {
         "hovertemplate": "variable=全氮N预测值<br>year=%{x}<br>value=%{y}<extra></extra>",
         "legendgroup": "全氮N预测值",
         "line": {
          "color": "#EF553B",
          "dash": "solid"
         },
         "marker": {
          "symbol": "circle"
         },
         "mode": "lines",
         "name": "全氮N预测值",
         "orientation": "v",
         "showlegend": true,
         "type": "scatter",
         "x": [
          2012,
          2014,
          2016,
          2018,
          2020
         ],
         "xaxis": "x",
         "y": [
          1.6458410024642944,
          1.4058904647827148,
          1.766414999961853,
          2.029221773147583,
          2.2330126762390137
         ],
         "yaxis": "y"
        }
       ],
       "layout": {
        "legend": {
         "title": {
          "text": "预测值/真实值"
         },
         "tracegroupgap": 0
        },
        "margin": {
         "t": 60
        },
        "template": {
         "data": {
          "bar": [
           {
            "error_x": {
             "color": "#2a3f5f"
            },
            "error_y": {
             "color": "#2a3f5f"
            },
            "marker": {
             "line": {
              "color": "#E5ECF6",
              "width": 0.5
             },
             "pattern": {
              "fillmode": "overlay",
              "size": 10,
              "solidity": 0.2
             }
            },
            "type": "bar"
           }
          ],
          "barpolar": [
           {
            "marker": {
             "line": {
              "color": "#E5ECF6",
              "width": 0.5
             },
             "pattern": {
              "fillmode": "overlay",
              "size": 10,
              "solidity": 0.2
             }
            },
            "type": "barpolar"
           }
          ],
          "carpet": [
           {
            "aaxis": {
             "endlinecolor": "#2a3f5f",
             "gridcolor": "white",
             "linecolor": "white",
             "minorgridcolor": "white",
             "startlinecolor": "#2a3f5f"
            },
            "baxis": {
             "endlinecolor": "#2a3f5f",
             "gridcolor": "white",
             "linecolor": "white",
             "minorgridcolor": "white",
             "startlinecolor": "#2a3f5f"
            },
            "type": "carpet"
           }
          ],
          "choropleth": [
           {
            "colorbar": {
             "outlinewidth": 0,
             "ticks": ""
            },
            "type": "choropleth"
           }
          ],
          "contour": [
           {
            "colorbar": {
             "outlinewidth": 0,
             "ticks": ""
            },
            "colorscale": [
             [
              0,
              "#0d0887"
             ],
             [
              0.1111111111111111,
              "#46039f"
             ],
             [
              0.2222222222222222,
              "#7201a8"
             ],
             [
              0.3333333333333333,
              "#9c179e"
             ],
             [
              0.4444444444444444,
              "#bd3786"
             ],
             [
              0.5555555555555556,
              "#d8576b"
             ],
             [
              0.6666666666666666,
              "#ed7953"
             ],
             [
              0.7777777777777778,
              "#fb9f3a"
             ],
             [
              0.8888888888888888,
              "#fdca26"
             ],
             [
              1,
              "#f0f921"
             ]
            ],
            "type": "contour"
           }
          ],
          "contourcarpet": [
           {
            "colorbar": {
             "outlinewidth": 0,
             "ticks": ""
            },
            "type": "contourcarpet"
           }
          ],
          "heatmap": [
           {
            "colorbar": {
             "outlinewidth": 0,
             "ticks": ""
            },
            "colorscale": [
             [
              0,
              "#0d0887"
             ],
             [
              0.1111111111111111,
              "#46039f"
             ],
             [
              0.2222222222222222,
              "#7201a8"
             ],
             [
              0.3333333333333333,
              "#9c179e"
             ],
             [
              0.4444444444444444,
              "#bd3786"
             ],
             [
              0.5555555555555556,
              "#d8576b"
             ],
             [
              0.6666666666666666,
              "#ed7953"
             ],
             [
              0.7777777777777778,
              "#fb9f3a"
             ],
             [
              0.8888888888888888,
              "#fdca26"
             ],
             [
              1,
              "#f0f921"
             ]
            ],
            "type": "heatmap"
           }
          ],
          "heatmapgl": [
           {
            "colorbar": {
             "outlinewidth": 0,
             "ticks": ""
            },
            "colorscale": [
             [
              0,
              "#0d0887"
             ],
             [
              0.1111111111111111,
              "#46039f"
             ],
             [
              0.2222222222222222,
              "#7201a8"
             ],
             [
              0.3333333333333333,
              "#9c179e"
             ],
             [
              0.4444444444444444,
              "#bd3786"
             ],
             [
              0.5555555555555556,
              "#d8576b"
             ],
             [
              0.6666666666666666,
              "#ed7953"
             ],
             [
              0.7777777777777778,
              "#fb9f3a"
             ],
             [
              0.8888888888888888,
              "#fdca26"
             ],
             [
              1,
              "#f0f921"
             ]
            ],
            "type": "heatmapgl"
           }
          ],
          "histogram": [
           {
            "marker": {
             "pattern": {
              "fillmode": "overlay",
              "size": 10,
              "solidity": 0.2
             }
            },
            "type": "histogram"
           }
          ],
          "histogram2d": [
           {
            "colorbar": {
             "outlinewidth": 0,
             "ticks": ""
            },
            "colorscale": [
             [
              0,
              "#0d0887"
             ],
             [
              0.1111111111111111,
              "#46039f"
             ],
             [
              0.2222222222222222,
              "#7201a8"
             ],
             [
              0.3333333333333333,
              "#9c179e"
             ],
             [
              0.4444444444444444,
              "#bd3786"
             ],
             [
              0.5555555555555556,
              "#d8576b"
             ],
             [
              0.6666666666666666,
              "#ed7953"
             ],
             [
              0.7777777777777778,
              "#fb9f3a"
             ],
             [
              0.8888888888888888,
              "#fdca26"
             ],
             [
              1,
              "#f0f921"
             ]
            ],
            "type": "histogram2d"
           }
          ],
          "histogram2dcontour": [
           {
            "colorbar": {
             "outlinewidth": 0,
             "ticks": ""
            },
            "colorscale": [
             [
              0,
              "#0d0887"
             ],
             [
              0.1111111111111111,
              "#46039f"
             ],
             [
              0.2222222222222222,
              "#7201a8"
             ],
             [
              0.3333333333333333,
              "#9c179e"
             ],
             [
              0.4444444444444444,
              "#bd3786"
             ],
             [
              0.5555555555555556,
              "#d8576b"
             ],
             [
              0.6666666666666666,
              "#ed7953"
             ],
             [
              0.7777777777777778,
              "#fb9f3a"
             ],
             [
              0.8888888888888888,
              "#fdca26"
             ],
             [
              1,
              "#f0f921"
             ]
            ],
            "type": "histogram2dcontour"
           }
          ],
          "mesh3d": [
           {
            "colorbar": {
             "outlinewidth": 0,
             "ticks": ""
            },
            "type": "mesh3d"
           }
          ],
          "parcoords": [
           {
            "line": {
             "colorbar": {
              "outlinewidth": 0,
              "ticks": ""
             }
            },
            "type": "parcoords"
           }
          ],
          "pie": [
           {
            "automargin": true,
            "type": "pie"
           }
          ],
          "scatter": [
           {
            "fillpattern": {
             "fillmode": "overlay",
             "size": 10,
             "solidity": 0.2
            },
            "type": "scatter"
           }
          ],
          "scatter3d": [
           {
            "line": {
             "colorbar": {
              "outlinewidth": 0,
              "ticks": ""
             }
            },
            "marker": {
             "colorbar": {
              "outlinewidth": 0,
              "ticks": ""
             }
            },
            "type": "scatter3d"
           }
          ],
          "scattercarpet": [
           {
            "marker": {
             "colorbar": {
              "outlinewidth": 0,
              "ticks": ""
             }
            },
            "type": "scattercarpet"
           }
          ],
          "scattergeo": [
           {
            "marker": {
             "colorbar": {
              "outlinewidth": 0,
              "ticks": ""
             }
            },
            "type": "scattergeo"
           }
          ],
          "scattergl": [
           {
            "marker": {
             "colorbar": {
              "outlinewidth": 0,
              "ticks": ""
             }
            },
            "type": "scattergl"
           }
          ],
          "scattermapbox": [
           {
            "marker": {
             "colorbar": {
              "outlinewidth": 0,
              "ticks": ""
             }
            },
            "type": "scattermapbox"
           }
          ],
          "scatterpolar": [
           {
            "marker": {
             "colorbar": {
              "outlinewidth": 0,
              "ticks": ""
             }
            },
            "type": "scatterpolar"
           }
          ],
          "scatterpolargl": [
           {
            "marker": {
             "colorbar": {
              "outlinewidth": 0,
              "ticks": ""
             }
            },
            "type": "scatterpolargl"
           }
          ],
          "scatterternary": [
           {
            "marker": {
             "colorbar": {
              "outlinewidth": 0,
              "ticks": ""
             }
            },
            "type": "scatterternary"
           }
          ],
          "surface": [
           {
            "colorbar": {
             "outlinewidth": 0,
             "ticks": ""
            },
            "colorscale": [
             [
              0,
              "#0d0887"
             ],
             [
              0.1111111111111111,
              "#46039f"
             ],
             [
              0.2222222222222222,
              "#7201a8"
             ],
             [
              0.3333333333333333,
              "#9c179e"
             ],
             [
              0.4444444444444444,
              "#bd3786"
             ],
             [
              0.5555555555555556,
              "#d8576b"
             ],
             [
              0.6666666666666666,
              "#ed7953"
             ],
             [
              0.7777777777777778,
              "#fb9f3a"
             ],
             [
              0.8888888888888888,
              "#fdca26"
             ],
             [
              1,
              "#f0f921"
             ]
            ],
            "type": "surface"
           }
          ],
          "table": [
           {
            "cells": {
             "fill": {
              "color": "#EBF0F8"
             },
             "line": {
              "color": "white"
             }
            },
            "header": {
             "fill": {
              "color": "#C8D4E3"
             },
             "line": {
              "color": "white"
             }
            },
            "type": "table"
           }
          ]
         },
         "layout": {
          "annotationdefaults": {
           "arrowcolor": "#2a3f5f",
           "arrowhead": 0,
           "arrowwidth": 1
          },
          "autotypenumbers": "strict",
          "coloraxis": {
           "colorbar": {
            "outlinewidth": 0,
            "ticks": ""
           }
          },
          "colorscale": {
           "diverging": [
            [
             0,
             "#8e0152"
            ],
            [
             0.1,
             "#c51b7d"
            ],
            [
             0.2,
             "#de77ae"
            ],
            [
             0.3,
             "#f1b6da"
            ],
            [
             0.4,
             "#fde0ef"
            ],
            [
             0.5,
             "#f7f7f7"
            ],
            [
             0.6,
             "#e6f5d0"
            ],
            [
             0.7,
             "#b8e186"
            ],
            [
             0.8,
             "#7fbc41"
            ],
            [
             0.9,
             "#4d9221"
            ],
            [
             1,
             "#276419"
            ]
           ],
           "sequential": [
            [
             0,
             "#0d0887"
            ],
            [
             0.1111111111111111,
             "#46039f"
            ],
            [
             0.2222222222222222,
             "#7201a8"
            ],
            [
             0.3333333333333333,
             "#9c179e"
            ],
            [
             0.4444444444444444,
             "#bd3786"
            ],
            [
             0.5555555555555556,
             "#d8576b"
            ],
            [
             0.6666666666666666,
             "#ed7953"
            ],
            [
             0.7777777777777778,
             "#fb9f3a"
            ],
            [
             0.8888888888888888,
             "#fdca26"
            ],
            [
             1,
             "#f0f921"
            ]
           ],
           "sequentialminus": [
            [
             0,
             "#0d0887"
            ],
            [
             0.1111111111111111,
             "#46039f"
            ],
            [
             0.2222222222222222,
             "#7201a8"
            ],
            [
             0.3333333333333333,
             "#9c179e"
            ],
            [
             0.4444444444444444,
             "#bd3786"
            ],
            [
             0.5555555555555556,
             "#d8576b"
            ],
            [
             0.6666666666666666,
             "#ed7953"
            ],
            [
             0.7777777777777778,
             "#fb9f3a"
            ],
            [
             0.8888888888888888,
             "#fdca26"
            ],
            [
             1,
             "#f0f921"
            ]
           ]
          },
          "colorway": [
           "#636efa",
           "#EF553B",
           "#00cc96",
           "#ab63fa",
           "#FFA15A",
           "#19d3f3",
           "#FF6692",
           "#B6E880",
           "#FF97FF",
           "#FECB52"
          ],
          "font": {
           "color": "#2a3f5f"
          },
          "geo": {
           "bgcolor": "white",
           "lakecolor": "white",
           "landcolor": "#E5ECF6",
           "showlakes": true,
           "showland": true,
           "subunitcolor": "white"
          },
          "hoverlabel": {
           "align": "left"
          },
          "hovermode": "closest",
          "mapbox": {
           "style": "light"
          },
          "paper_bgcolor": "white",
          "plot_bgcolor": "#E5ECF6",
          "polar": {
           "angularaxis": {
            "gridcolor": "white",
            "linecolor": "white",
            "ticks": ""
           },
           "bgcolor": "#E5ECF6",
           "radialaxis": {
            "gridcolor": "white",
            "linecolor": "white",
            "ticks": ""
           }
          },
          "scene": {
           "xaxis": {
            "backgroundcolor": "#E5ECF6",
            "gridcolor": "white",
            "gridwidth": 2,
            "linecolor": "white",
            "showbackground": true,
            "ticks": "",
            "zerolinecolor": "white"
           },
           "yaxis": {
            "backgroundcolor": "#E5ECF6",
            "gridcolor": "white",
            "gridwidth": 2,
            "linecolor": "white",
            "showbackground": true,
            "ticks": "",
            "zerolinecolor": "white"
           },
           "zaxis": {
            "backgroundcolor": "#E5ECF6",
            "gridcolor": "white",
            "gridwidth": 2,
            "linecolor": "white",
            "showbackground": true,
            "ticks": "",
            "zerolinecolor": "white"
           }
          },
          "shapedefaults": {
           "line": {
            "color": "#2a3f5f"
           }
          },
          "ternary": {
           "aaxis": {
            "gridcolor": "white",
            "linecolor": "white",
            "ticks": ""
           },
           "baxis": {
            "gridcolor": "white",
            "linecolor": "white",
            "ticks": ""
           },
           "bgcolor": "#E5ECF6",
           "caxis": {
            "gridcolor": "white",
            "linecolor": "white",
            "ticks": ""
           }
          },
          "title": {
           "x": 0.05
          },
          "xaxis": {
           "automargin": true,
           "gridcolor": "white",
           "linecolor": "white",
           "ticks": "",
           "title": {
            "standoff": 15
           },
           "zerolinecolor": "white",
           "zerolinewidth": 2
          },
          "yaxis": {
           "automargin": true,
           "gridcolor": "white",
           "linecolor": "white",
           "ticks": "",
           "title": {
            "standoff": 15
           },
           "zerolinecolor": "white",
           "zerolinewidth": 2
          }
         }
        },
        "title": {
         "text": "放牧强度HGI下小区G9的全氮N拟合效果"
        },
        "xaxis": {
         "anchor": "y",
         "domain": [
          0,
          1
         ],
         "title": {
          "text": "年份"
         }
        },
        "yaxis": {
         "anchor": "x",
         "domain": [
          0,
          1
         ],
         "title": {
          "text": "取值"
         }
        }
       }
      },
      "text/html": [
       "<div>                            <div id=\"b77ec63e-20a6-4422-9f24-d5c67affb530\" class=\"plotly-graph-div\" style=\"height:525px; width:100%;\"></div>            <script type=\"text/javascript\">                require([\"plotly\"], function(Plotly) {                    window.PLOTLYENV=window.PLOTLYENV || {};                                    if (document.getElementById(\"b77ec63e-20a6-4422-9f24-d5c67affb530\")) {                    Plotly.newPlot(                        \"b77ec63e-20a6-4422-9f24-d5c67affb530\",                        [{\"hovertemplate\":\"variable=\\u5168\\u6c2eN\\u771f\\u5b9e\\u503c<br>year=%{x}<br>value=%{y}<extra></extra>\",\"legendgroup\":\"\\u5168\\u6c2eN\\u771f\\u5b9e\\u503c\",\"line\":{\"color\":\"#636efa\",\"dash\":\"solid\"},\"marker\":{\"symbol\":\"circle\"},\"mode\":\"lines\",\"name\":\"\\u5168\\u6c2eN\\u771f\\u5b9e\\u503c\",\"orientation\":\"v\",\"showlegend\":true,\"x\":[2012,2014,2016,2018,2020],\"xaxis\":\"x\",\"y\":[1.648023203015325,1.374505069106815,1.83664129426082,1.9773648679256437,2.23695],\"yaxis\":\"y\",\"type\":\"scatter\"},{\"hovertemplate\":\"variable=\\u5168\\u6c2eN\\u9884\\u6d4b\\u503c<br>year=%{x}<br>value=%{y}<extra></extra>\",\"legendgroup\":\"\\u5168\\u6c2eN\\u9884\\u6d4b\\u503c\",\"line\":{\"color\":\"#EF553B\",\"dash\":\"solid\"},\"marker\":{\"symbol\":\"circle\"},\"mode\":\"lines\",\"name\":\"\\u5168\\u6c2eN\\u9884\\u6d4b\\u503c\",\"orientation\":\"v\",\"showlegend\":true,\"x\":[2012,2014,2016,2018,2020],\"xaxis\":\"x\",\"y\":[1.6458410024642944,1.4058904647827148,1.766414999961853,2.029221773147583,2.2330126762390137],\"yaxis\":\"y\",\"type\":\"scatter\"}],                        {\"template\":{\"data\":{\"histogram2dcontour\":[{\"type\":\"histogram2dcontour\",\"colorbar\":{\"outlinewidth\":0,\"ticks\":\"\"},\"colorscale\":[[0.0,\"#0d0887\"],[0.1111111111111111,\"#46039f\"],[0.2222222222222222,\"#7201a8\"],[0.3333333333333333,\"#9c179e\"],[0.4444444444444444,\"#bd3786\"],[0.5555555555555556,\"#d8576b\"],[0.6666666666666666,\"#ed7953\"],[0.7777777777777778,\"#fb9f3a\"],[0.8888888888888888,\"#fdca26\"],[1.0,\"#f0f921\"]]}],\"choropleth\":[{\"type\":\"choropleth\",\"colorbar\":{\"outlinewidth\":0,\"ticks\":\"\"}}],\"histogram2d\":[{\"type\":\"histogram2d\",\"colorbar\":{\"outlinewidth\":0,\"ticks\":\"\"},\"colorscale\":[[0.0,\"#0d0887\"],[0.1111111111111111,\"#46039f\"],[0.2222222222222222,\"#7201a8\"],[0.3333333333333333,\"#9c179e\"],[0.4444444444444444,\"#bd3786\"],[0.5555555555555556,\"#d8576b\"],[0.6666666666666666,\"#ed7953\"],[0.7777777777777778,\"#fb9f3a\"],[0.8888888888888888,\"#fdca26\"],[1.0,\"#f0f921\"]]}],\"heatmap\":[{\"type\":\"heatmap\",\"colorbar\":{\"outlinewidth\":0,\"ticks\":\"\"},\"colorscale\":[[0.0,\"#0d0887\"],[0.1111111111111111,\"#46039f\"],[0.2222222222222222,\"#7201a8\"],[0.3333333333333333,\"#9c179e\"],[0.4444444444444444,\"#bd3786\"],[0.5555555555555556,\"#d8576b\"],[0.6666666666666666,\"#ed7953\"],[0.7777777777777778,\"#fb9f3a\"],[0.8888888888888888,\"#fdca26\"],[1.0,\"#f0f921\"]]}],\"heatmapgl\":[{\"type\":\"heatmapgl\",\"colorbar\":{\"outlinewidth\":0,\"ticks\":\"\"},\"colorscale\":[[0.0,\"#0d0887\"],[0.1111111111111111,\"#46039f\"],[0.2222222222222222,\"#7201a8\"],[0.3333333333333333,\"#9c179e\"],[0.4444444444444444,\"#bd3786\"],[0.5555555555555556,\"#d8576b\"],[0.6666666666666666,\"#ed7953\"],[0.7777777777777778,\"#fb9f3a\"],[0.8888888888888888,\"#fdca26\"],[1.0,\"#f0f921\"]]}],\"contourcarpet\":[{\"type\":\"contourcarpet\",\"colorbar\":{\"outlinewidth\":0,\"ticks\":\"\"}}],\"contour\":[{\"type\":\"contour\",\"colorbar\":{\"outlinewidth\":0,\"ticks\":\"\"},\"colorscale\":[[0.0,\"#0d0887\"],[0.1111111111111111,\"#46039f\"],[0.2222222222222222,\"#7201a8\"],[0.3333333333333333,\"#9c179e\"],[0.4444444444444444,\"#bd3786\"],[0.5555555555555556,\"#d8576b\"],[0.6666666666666666,\"#ed7953\"],[0.7777777777777778,\"#fb9f3a\"],[0.8888888888888888,\"#fdca26\"],[1.0,\"#f0f921\"]]}],\"surface\":[{\"type\":\"surface\",\"colorbar\":{\"outlinewidth\":0,\"ticks\":\"\"},\"colorscale\":[[0.0,\"#0d0887\"],[0.1111111111111111,\"#46039f\"],[0.2222222222222222,\"#7201a8\"],[0.3333333333333333,\"#9c179e\"],[0.4444444444444444,\"#bd3786\"],[0.5555555555555556,\"#d8576b\"],[0.6666666666666666,\"#ed7953\"],[0.7777777777777778,\"#fb9f3a\"],[0.8888888888888888,\"#fdca26\"],[1.0,\"#f0f921\"]]}],\"mesh3d\":[{\"type\":\"mesh3d\",\"colorbar\":{\"outlinewidth\":0,\"ticks\":\"\"}}],\"scatter\":[{\"fillpattern\":{\"fillmode\":\"overlay\",\"size\":10,\"solidity\":0.2},\"type\":\"scatter\"}],\"parcoords\":[{\"type\":\"parcoords\",\"line\":{\"colorbar\":{\"outlinewidth\":0,\"ticks\":\"\"}}}],\"scatterpolargl\":[{\"type\":\"scatterpolargl\",\"marker\":{\"colorbar\":{\"outlinewidth\":0,\"ticks\":\"\"}}}],\"bar\":[{\"error_x\":{\"color\":\"#2a3f5f\"},\"error_y\":{\"color\":\"#2a3f5f\"},\"marker\":{\"line\":{\"color\":\"#E5ECF6\",\"width\":0.5},\"pattern\":{\"fillmode\":\"overlay\",\"size\":10,\"solidity\":0.2}},\"type\":\"bar\"}],\"scattergeo\":[{\"type\":\"scattergeo\",\"marker\":{\"colorbar\":{\"outlinewidth\":0,\"ticks\":\"\"}}}],\"scatterpolar\":[{\"type\":\"scatterpolar\",\"marker\":{\"colorbar\":{\"outlinewidth\":0,\"ticks\":\"\"}}}],\"histogram\":[{\"marker\":{\"pattern\":{\"fillmode\":\"overlay\",\"size\":10,\"solidity\":0.2}},\"type\":\"histogram\"}],\"scattergl\":[{\"type\":\"scattergl\",\"marker\":{\"colorbar\":{\"outlinewidth\":0,\"ticks\":\"\"}}}],\"scatter3d\":[{\"type\":\"scatter3d\",\"line\":{\"colorbar\":{\"outlinewidth\":0,\"ticks\":\"\"}},\"marker\":{\"colorbar\":{\"outlinewidth\":0,\"ticks\":\"\"}}}],\"scattermapbox\":[{\"type\":\"scattermapbox\",\"marker\":{\"colorbar\":{\"outlinewidth\":0,\"ticks\":\"\"}}}],\"scatterternary\":[{\"type\":\"scatterternary\",\"marker\":{\"colorbar\":{\"outlinewidth\":0,\"ticks\":\"\"}}}],\"scattercarpet\":[{\"type\":\"scattercarpet\",\"marker\":{\"colorbar\":{\"outlinewidth\":0,\"ticks\":\"\"}}}],\"carpet\":[{\"aaxis\":{\"endlinecolor\":\"#2a3f5f\",\"gridcolor\":\"white\",\"linecolor\":\"white\",\"minorgridcolor\":\"white\",\"startlinecolor\":\"#2a3f5f\"},\"baxis\":{\"endlinecolor\":\"#2a3f5f\",\"gridcolor\":\"white\",\"linecolor\":\"white\",\"minorgridcolor\":\"white\",\"startlinecolor\":\"#2a3f5f\"},\"type\":\"carpet\"}],\"table\":[{\"cells\":{\"fill\":{\"color\":\"#EBF0F8\"},\"line\":{\"color\":\"white\"}},\"header\":{\"fill\":{\"color\":\"#C8D4E3\"},\"line\":{\"color\":\"white\"}},\"type\":\"table\"}],\"barpolar\":[{\"marker\":{\"line\":{\"color\":\"#E5ECF6\",\"width\":0.5},\"pattern\":{\"fillmode\":\"overlay\",\"size\":10,\"solidity\":0.2}},\"type\":\"barpolar\"}],\"pie\":[{\"automargin\":true,\"type\":\"pie\"}]},\"layout\":{\"autotypenumbers\":\"strict\",\"colorway\":[\"#636efa\",\"#EF553B\",\"#00cc96\",\"#ab63fa\",\"#FFA15A\",\"#19d3f3\",\"#FF6692\",\"#B6E880\",\"#FF97FF\",\"#FECB52\"],\"font\":{\"color\":\"#2a3f5f\"},\"hovermode\":\"closest\",\"hoverlabel\":{\"align\":\"left\"},\"paper_bgcolor\":\"white\",\"plot_bgcolor\":\"#E5ECF6\",\"polar\":{\"bgcolor\":\"#E5ECF6\",\"angularaxis\":{\"gridcolor\":\"white\",\"linecolor\":\"white\",\"ticks\":\"\"},\"radialaxis\":{\"gridcolor\":\"white\",\"linecolor\":\"white\",\"ticks\":\"\"}},\"ternary\":{\"bgcolor\":\"#E5ECF6\",\"aaxis\":{\"gridcolor\":\"white\",\"linecolor\":\"white\",\"ticks\":\"\"},\"baxis\":{\"gridcolor\":\"white\",\"linecolor\":\"white\",\"ticks\":\"\"},\"caxis\":{\"gridcolor\":\"white\",\"linecolor\":\"white\",\"ticks\":\"\"}},\"coloraxis\":{\"colorbar\":{\"outlinewidth\":0,\"ticks\":\"\"}},\"colorscale\":{\"sequential\":[[0.0,\"#0d0887\"],[0.1111111111111111,\"#46039f\"],[0.2222222222222222,\"#7201a8\"],[0.3333333333333333,\"#9c179e\"],[0.4444444444444444,\"#bd3786\"],[0.5555555555555556,\"#d8576b\"],[0.6666666666666666,\"#ed7953\"],[0.7777777777777778,\"#fb9f3a\"],[0.8888888888888888,\"#fdca26\"],[1.0,\"#f0f921\"]],\"sequentialminus\":[[0.0,\"#0d0887\"],[0.1111111111111111,\"#46039f\"],[0.2222222222222222,\"#7201a8\"],[0.3333333333333333,\"#9c179e\"],[0.4444444444444444,\"#bd3786\"],[0.5555555555555556,\"#d8576b\"],[0.6666666666666666,\"#ed7953\"],[0.7777777777777778,\"#fb9f3a\"],[0.8888888888888888,\"#fdca26\"],[1.0,\"#f0f921\"]],\"diverging\":[[0,\"#8e0152\"],[0.1,\"#c51b7d\"],[0.2,\"#de77ae\"],[0.3,\"#f1b6da\"],[0.4,\"#fde0ef\"],[0.5,\"#f7f7f7\"],[0.6,\"#e6f5d0\"],[0.7,\"#b8e186\"],[0.8,\"#7fbc41\"],[0.9,\"#4d9221\"],[1,\"#276419\"]]},\"xaxis\":{\"gridcolor\":\"white\",\"linecolor\":\"white\",\"ticks\":\"\",\"title\":{\"standoff\":15},\"zerolinecolor\":\"white\",\"automargin\":true,\"zerolinewidth\":2},\"yaxis\":{\"gridcolor\":\"white\",\"linecolor\":\"white\",\"ticks\":\"\",\"title\":{\"standoff\":15},\"zerolinecolor\":\"white\",\"automargin\":true,\"zerolinewidth\":2},\"scene\":{\"xaxis\":{\"backgroundcolor\":\"#E5ECF6\",\"gridcolor\":\"white\",\"linecolor\":\"white\",\"showbackground\":true,\"ticks\":\"\",\"zerolinecolor\":\"white\",\"gridwidth\":2},\"yaxis\":{\"backgroundcolor\":\"#E5ECF6\",\"gridcolor\":\"white\",\"linecolor\":\"white\",\"showbackground\":true,\"ticks\":\"\",\"zerolinecolor\":\"white\",\"gridwidth\":2},\"zaxis\":{\"backgroundcolor\":\"#E5ECF6\",\"gridcolor\":\"white\",\"linecolor\":\"white\",\"showbackground\":true,\"ticks\":\"\",\"zerolinecolor\":\"white\",\"gridwidth\":2}},\"shapedefaults\":{\"line\":{\"color\":\"#2a3f5f\"}},\"annotationdefaults\":{\"arrowcolor\":\"#2a3f5f\",\"arrowhead\":0,\"arrowwidth\":1},\"geo\":{\"bgcolor\":\"white\",\"landcolor\":\"#E5ECF6\",\"subunitcolor\":\"white\",\"showland\":true,\"showlakes\":true,\"lakecolor\":\"white\"},\"title\":{\"x\":0.05},\"mapbox\":{\"style\":\"light\"}}},\"xaxis\":{\"anchor\":\"y\",\"domain\":[0.0,1.0],\"title\":{\"text\":\"\\u5e74\\u4efd\"}},\"yaxis\":{\"anchor\":\"x\",\"domain\":[0.0,1.0],\"title\":{\"text\":\"\\u53d6\\u503c\"}},\"legend\":{\"title\":{\"text\":\"\\u9884\\u6d4b\\u503c/\\u771f\\u5b9e\\u503c\"},\"tracegroupgap\":0},\"margin\":{\"t\":60},\"title\":{\"text\":\"\\u653e\\u7267\\u5f3a\\u5ea6HGI\\u4e0b\\u5c0f\\u533aG9\\u7684\\u5168\\u6c2eN\\u62df\\u5408\\u6548\\u679c\"}},                        {\"responsive\": true}                    ).then(function(){\n",
       "                            \n",
       "var gd = document.getElementById('b77ec63e-20a6-4422-9f24-d5c67affb530');\n",
       "var x = new MutationObserver(function (mutations, observer) {{\n",
       "        var display = window.getComputedStyle(gd).display;\n",
       "        if (!display || display === 'none') {{\n",
       "            console.log([gd, 'removed!']);\n",
       "            Plotly.purge(gd);\n",
       "            observer.disconnect();\n",
       "        }}\n",
       "}});\n",
       "\n",
       "// Listen for the removal of the full notebook cells\n",
       "var notebookContainer = gd.closest('#notebook-container');\n",
       "if (notebookContainer) {{\n",
       "    x.observe(notebookContainer, {childList: true});\n",
       "}}\n",
       "\n",
       "// Listen for the clearing of the current output cell\n",
       "var outputEl = gd.closest('.output');\n",
       "if (outputEl) {{\n",
       "    x.observe(outputEl, {childList: true});\n",
       "}}\n",
       "\n",
       "                        })                };                });            </script>        </div>"
      ]
     },
     "metadata": {},
     "output_type": "display_data"
    }
   ],
   "source": [
    "plotPredGnd(2, ALLN)"
   ]
  },
  {
   "cell_type": "code",
   "execution_count": 47,
   "id": "00799a10",
   "metadata": {},
   "outputs": [
    {
     "data": {
      "application/vnd.plotly.v1+json": {
       "config": {
        "plotlyServerURL": "https://plot.ly"
       },
       "data": [
        {
         "hovertemplate": "variable=土壤C/N比真实值<br>year=%{x}<br>value=%{y}<extra></extra>",
         "legendgroup": "土壤C/N比真实值",
         "line": {
          "color": "#636efa",
          "dash": "solid"
         },
         "marker": {
          "symbol": "circle"
         },
         "mode": "lines",
         "name": "土壤C/N比真实值",
         "orientation": "v",
         "showlegend": true,
         "type": "scatter",
         "x": [
          2012,
          2014,
          2016,
          2018,
          2020
         ],
         "xaxis": "x",
         "y": [
          17.020658860617303,
          16.69590039210555,
          12.799613004302683,
          10.667015678995872,
          9.084758264601351
         ],
         "yaxis": "y"
        },
        {
         "hovertemplate": "variable=土壤C/N比预测值<br>year=%{x}<br>value=%{y}<extra></extra>",
         "legendgroup": "土壤C/N比预测值",
         "line": {
          "color": "#EF553B",
          "dash": "solid"
         },
         "marker": {
          "symbol": "circle"
         },
         "mode": "lines",
         "name": "土壤C/N比预测值",
         "orientation": "v",
         "showlegend": true,
         "type": "scatter",
         "x": [
          2012,
          2014,
          2016,
          2018,
          2020
         ],
         "xaxis": "x",
         "y": [
          17.062847137451172,
          16.453739166259766,
          13.023094177246094,
          10.542478561401367,
          8.897947311401367
         ],
         "yaxis": "y"
        }
       ],
       "layout": {
        "legend": {
         "title": {
          "text": "预测值/真实值"
         },
         "tracegroupgap": 0
        },
        "margin": {
         "t": 60
        },
        "template": {
         "data": {
          "bar": [
           {
            "error_x": {
             "color": "#2a3f5f"
            },
            "error_y": {
             "color": "#2a3f5f"
            },
            "marker": {
             "line": {
              "color": "#E5ECF6",
              "width": 0.5
             },
             "pattern": {
              "fillmode": "overlay",
              "size": 10,
              "solidity": 0.2
             }
            },
            "type": "bar"
           }
          ],
          "barpolar": [
           {
            "marker": {
             "line": {
              "color": "#E5ECF6",
              "width": 0.5
             },
             "pattern": {
              "fillmode": "overlay",
              "size": 10,
              "solidity": 0.2
             }
            },
            "type": "barpolar"
           }
          ],
          "carpet": [
           {
            "aaxis": {
             "endlinecolor": "#2a3f5f",
             "gridcolor": "white",
             "linecolor": "white",
             "minorgridcolor": "white",
             "startlinecolor": "#2a3f5f"
            },
            "baxis": {
             "endlinecolor": "#2a3f5f",
             "gridcolor": "white",
             "linecolor": "white",
             "minorgridcolor": "white",
             "startlinecolor": "#2a3f5f"
            },
            "type": "carpet"
           }
          ],
          "choropleth": [
           {
            "colorbar": {
             "outlinewidth": 0,
             "ticks": ""
            },
            "type": "choropleth"
           }
          ],
          "contour": [
           {
            "colorbar": {
             "outlinewidth": 0,
             "ticks": ""
            },
            "colorscale": [
             [
              0,
              "#0d0887"
             ],
             [
              0.1111111111111111,
              "#46039f"
             ],
             [
              0.2222222222222222,
              "#7201a8"
             ],
             [
              0.3333333333333333,
              "#9c179e"
             ],
             [
              0.4444444444444444,
              "#bd3786"
             ],
             [
              0.5555555555555556,
              "#d8576b"
             ],
             [
              0.6666666666666666,
              "#ed7953"
             ],
             [
              0.7777777777777778,
              "#fb9f3a"
             ],
             [
              0.8888888888888888,
              "#fdca26"
             ],
             [
              1,
              "#f0f921"
             ]
            ],
            "type": "contour"
           }
          ],
          "contourcarpet": [
           {
            "colorbar": {
             "outlinewidth": 0,
             "ticks": ""
            },
            "type": "contourcarpet"
           }
          ],
          "heatmap": [
           {
            "colorbar": {
             "outlinewidth": 0,
             "ticks": ""
            },
            "colorscale": [
             [
              0,
              "#0d0887"
             ],
             [
              0.1111111111111111,
              "#46039f"
             ],
             [
              0.2222222222222222,
              "#7201a8"
             ],
             [
              0.3333333333333333,
              "#9c179e"
             ],
             [
              0.4444444444444444,
              "#bd3786"
             ],
             [
              0.5555555555555556,
              "#d8576b"
             ],
             [
              0.6666666666666666,
              "#ed7953"
             ],
             [
              0.7777777777777778,
              "#fb9f3a"
             ],
             [
              0.8888888888888888,
              "#fdca26"
             ],
             [
              1,
              "#f0f921"
             ]
            ],
            "type": "heatmap"
           }
          ],
          "heatmapgl": [
           {
            "colorbar": {
             "outlinewidth": 0,
             "ticks": ""
            },
            "colorscale": [
             [
              0,
              "#0d0887"
             ],
             [
              0.1111111111111111,
              "#46039f"
             ],
             [
              0.2222222222222222,
              "#7201a8"
             ],
             [
              0.3333333333333333,
              "#9c179e"
             ],
             [
              0.4444444444444444,
              "#bd3786"
             ],
             [
              0.5555555555555556,
              "#d8576b"
             ],
             [
              0.6666666666666666,
              "#ed7953"
             ],
             [
              0.7777777777777778,
              "#fb9f3a"
             ],
             [
              0.8888888888888888,
              "#fdca26"
             ],
             [
              1,
              "#f0f921"
             ]
            ],
            "type": "heatmapgl"
           }
          ],
          "histogram": [
           {
            "marker": {
             "pattern": {
              "fillmode": "overlay",
              "size": 10,
              "solidity": 0.2
             }
            },
            "type": "histogram"
           }
          ],
          "histogram2d": [
           {
            "colorbar": {
             "outlinewidth": 0,
             "ticks": ""
            },
            "colorscale": [
             [
              0,
              "#0d0887"
             ],
             [
              0.1111111111111111,
              "#46039f"
             ],
             [
              0.2222222222222222,
              "#7201a8"
             ],
             [
              0.3333333333333333,
              "#9c179e"
             ],
             [
              0.4444444444444444,
              "#bd3786"
             ],
             [
              0.5555555555555556,
              "#d8576b"
             ],
             [
              0.6666666666666666,
              "#ed7953"
             ],
             [
              0.7777777777777778,
              "#fb9f3a"
             ],
             [
              0.8888888888888888,
              "#fdca26"
             ],
             [
              1,
              "#f0f921"
             ]
            ],
            "type": "histogram2d"
           }
          ],
          "histogram2dcontour": [
           {
            "colorbar": {
             "outlinewidth": 0,
             "ticks": ""
            },
            "colorscale": [
             [
              0,
              "#0d0887"
             ],
             [
              0.1111111111111111,
              "#46039f"
             ],
             [
              0.2222222222222222,
              "#7201a8"
             ],
             [
              0.3333333333333333,
              "#9c179e"
             ],
             [
              0.4444444444444444,
              "#bd3786"
             ],
             [
              0.5555555555555556,
              "#d8576b"
             ],
             [
              0.6666666666666666,
              "#ed7953"
             ],
             [
              0.7777777777777778,
              "#fb9f3a"
             ],
             [
              0.8888888888888888,
              "#fdca26"
             ],
             [
              1,
              "#f0f921"
             ]
            ],
            "type": "histogram2dcontour"
           }
          ],
          "mesh3d": [
           {
            "colorbar": {
             "outlinewidth": 0,
             "ticks": ""
            },
            "type": "mesh3d"
           }
          ],
          "parcoords": [
           {
            "line": {
             "colorbar": {
              "outlinewidth": 0,
              "ticks": ""
             }
            },
            "type": "parcoords"
           }
          ],
          "pie": [
           {
            "automargin": true,
            "type": "pie"
           }
          ],
          "scatter": [
           {
            "fillpattern": {
             "fillmode": "overlay",
             "size": 10,
             "solidity": 0.2
            },
            "type": "scatter"
           }
          ],
          "scatter3d": [
           {
            "line": {
             "colorbar": {
              "outlinewidth": 0,
              "ticks": ""
             }
            },
            "marker": {
             "colorbar": {
              "outlinewidth": 0,
              "ticks": ""
             }
            },
            "type": "scatter3d"
           }
          ],
          "scattercarpet": [
           {
            "marker": {
             "colorbar": {
              "outlinewidth": 0,
              "ticks": ""
             }
            },
            "type": "scattercarpet"
           }
          ],
          "scattergeo": [
           {
            "marker": {
             "colorbar": {
              "outlinewidth": 0,
              "ticks": ""
             }
            },
            "type": "scattergeo"
           }
          ],
          "scattergl": [
           {
            "marker": {
             "colorbar": {
              "outlinewidth": 0,
              "ticks": ""
             }
            },
            "type": "scattergl"
           }
          ],
          "scattermapbox": [
           {
            "marker": {
             "colorbar": {
              "outlinewidth": 0,
              "ticks": ""
             }
            },
            "type": "scattermapbox"
           }
          ],
          "scatterpolar": [
           {
            "marker": {
             "colorbar": {
              "outlinewidth": 0,
              "ticks": ""
             }
            },
            "type": "scatterpolar"
           }
          ],
          "scatterpolargl": [
           {
            "marker": {
             "colorbar": {
              "outlinewidth": 0,
              "ticks": ""
             }
            },
            "type": "scatterpolargl"
           }
          ],
          "scatterternary": [
           {
            "marker": {
             "colorbar": {
              "outlinewidth": 0,
              "ticks": ""
             }
            },
            "type": "scatterternary"
           }
          ],
          "surface": [
           {
            "colorbar": {
             "outlinewidth": 0,
             "ticks": ""
            },
            "colorscale": [
             [
              0,
              "#0d0887"
             ],
             [
              0.1111111111111111,
              "#46039f"
             ],
             [
              0.2222222222222222,
              "#7201a8"
             ],
             [
              0.3333333333333333,
              "#9c179e"
             ],
             [
              0.4444444444444444,
              "#bd3786"
             ],
             [
              0.5555555555555556,
              "#d8576b"
             ],
             [
              0.6666666666666666,
              "#ed7953"
             ],
             [
              0.7777777777777778,
              "#fb9f3a"
             ],
             [
              0.8888888888888888,
              "#fdca26"
             ],
             [
              1,
              "#f0f921"
             ]
            ],
            "type": "surface"
           }
          ],
          "table": [
           {
            "cells": {
             "fill": {
              "color": "#EBF0F8"
             },
             "line": {
              "color": "white"
             }
            },
            "header": {
             "fill": {
              "color": "#C8D4E3"
             },
             "line": {
              "color": "white"
             }
            },
            "type": "table"
           }
          ]
         },
         "layout": {
          "annotationdefaults": {
           "arrowcolor": "#2a3f5f",
           "arrowhead": 0,
           "arrowwidth": 1
          },
          "autotypenumbers": "strict",
          "coloraxis": {
           "colorbar": {
            "outlinewidth": 0,
            "ticks": ""
           }
          },
          "colorscale": {
           "diverging": [
            [
             0,
             "#8e0152"
            ],
            [
             0.1,
             "#c51b7d"
            ],
            [
             0.2,
             "#de77ae"
            ],
            [
             0.3,
             "#f1b6da"
            ],
            [
             0.4,
             "#fde0ef"
            ],
            [
             0.5,
             "#f7f7f7"
            ],
            [
             0.6,
             "#e6f5d0"
            ],
            [
             0.7,
             "#b8e186"
            ],
            [
             0.8,
             "#7fbc41"
            ],
            [
             0.9,
             "#4d9221"
            ],
            [
             1,
             "#276419"
            ]
           ],
           "sequential": [
            [
             0,
             "#0d0887"
            ],
            [
             0.1111111111111111,
             "#46039f"
            ],
            [
             0.2222222222222222,
             "#7201a8"
            ],
            [
             0.3333333333333333,
             "#9c179e"
            ],
            [
             0.4444444444444444,
             "#bd3786"
            ],
            [
             0.5555555555555556,
             "#d8576b"
            ],
            [
             0.6666666666666666,
             "#ed7953"
            ],
            [
             0.7777777777777778,
             "#fb9f3a"
            ],
            [
             0.8888888888888888,
             "#fdca26"
            ],
            [
             1,
             "#f0f921"
            ]
           ],
           "sequentialminus": [
            [
             0,
             "#0d0887"
            ],
            [
             0.1111111111111111,
             "#46039f"
            ],
            [
             0.2222222222222222,
             "#7201a8"
            ],
            [
             0.3333333333333333,
             "#9c179e"
            ],
            [
             0.4444444444444444,
             "#bd3786"
            ],
            [
             0.5555555555555556,
             "#d8576b"
            ],
            [
             0.6666666666666666,
             "#ed7953"
            ],
            [
             0.7777777777777778,
             "#fb9f3a"
            ],
            [
             0.8888888888888888,
             "#fdca26"
            ],
            [
             1,
             "#f0f921"
            ]
           ]
          },
          "colorway": [
           "#636efa",
           "#EF553B",
           "#00cc96",
           "#ab63fa",
           "#FFA15A",
           "#19d3f3",
           "#FF6692",
           "#B6E880",
           "#FF97FF",
           "#FECB52"
          ],
          "font": {
           "color": "#2a3f5f"
          },
          "geo": {
           "bgcolor": "white",
           "lakecolor": "white",
           "landcolor": "#E5ECF6",
           "showlakes": true,
           "showland": true,
           "subunitcolor": "white"
          },
          "hoverlabel": {
           "align": "left"
          },
          "hovermode": "closest",
          "mapbox": {
           "style": "light"
          },
          "paper_bgcolor": "white",
          "plot_bgcolor": "#E5ECF6",
          "polar": {
           "angularaxis": {
            "gridcolor": "white",
            "linecolor": "white",
            "ticks": ""
           },
           "bgcolor": "#E5ECF6",
           "radialaxis": {
            "gridcolor": "white",
            "linecolor": "white",
            "ticks": ""
           }
          },
          "scene": {
           "xaxis": {
            "backgroundcolor": "#E5ECF6",
            "gridcolor": "white",
            "gridwidth": 2,
            "linecolor": "white",
            "showbackground": true,
            "ticks": "",
            "zerolinecolor": "white"
           },
           "yaxis": {
            "backgroundcolor": "#E5ECF6",
            "gridcolor": "white",
            "gridwidth": 2,
            "linecolor": "white",
            "showbackground": true,
            "ticks": "",
            "zerolinecolor": "white"
           },
           "zaxis": {
            "backgroundcolor": "#E5ECF6",
            "gridcolor": "white",
            "gridwidth": 2,
            "linecolor": "white",
            "showbackground": true,
            "ticks": "",
            "zerolinecolor": "white"
           }
          },
          "shapedefaults": {
           "line": {
            "color": "#2a3f5f"
           }
          },
          "ternary": {
           "aaxis": {
            "gridcolor": "white",
            "linecolor": "white",
            "ticks": ""
           },
           "baxis": {
            "gridcolor": "white",
            "linecolor": "white",
            "ticks": ""
           },
           "bgcolor": "#E5ECF6",
           "caxis": {
            "gridcolor": "white",
            "linecolor": "white",
            "ticks": ""
           }
          },
          "title": {
           "x": 0.05
          },
          "xaxis": {
           "automargin": true,
           "gridcolor": "white",
           "linecolor": "white",
           "ticks": "",
           "title": {
            "standoff": 15
           },
           "zerolinecolor": "white",
           "zerolinewidth": 2
          },
          "yaxis": {
           "automargin": true,
           "gridcolor": "white",
           "linecolor": "white",
           "ticks": "",
           "title": {
            "standoff": 15
           },
           "zerolinecolor": "white",
           "zerolinewidth": 2
          }
         }
        },
        "title": {
         "text": "放牧强度HGI下小区G9的土壤C/N比拟合效果"
        },
        "xaxis": {
         "anchor": "y",
         "domain": [
          0,
          1
         ],
         "title": {
          "text": "年份"
         }
        },
        "yaxis": {
         "anchor": "x",
         "domain": [
          0,
          1
         ],
         "title": {
          "text": "取值"
         }
        }
       }
      },
      "text/html": [
       "<div>                            <div id=\"ef9a997c-94d3-4b8d-9018-0c0bcd4ed174\" class=\"plotly-graph-div\" style=\"height:525px; width:100%;\"></div>            <script type=\"text/javascript\">                require([\"plotly\"], function(Plotly) {                    window.PLOTLYENV=window.PLOTLYENV || {};                                    if (document.getElementById(\"ef9a997c-94d3-4b8d-9018-0c0bcd4ed174\")) {                    Plotly.newPlot(                        \"ef9a997c-94d3-4b8d-9018-0c0bcd4ed174\",                        [{\"hovertemplate\":\"variable=\\u571f\\u58e4C/N\\u6bd4\\u771f\\u5b9e\\u503c<br>year=%{x}<br>value=%{y}<extra></extra>\",\"legendgroup\":\"\\u571f\\u58e4C/N\\u6bd4\\u771f\\u5b9e\\u503c\",\"line\":{\"color\":\"#636efa\",\"dash\":\"solid\"},\"marker\":{\"symbol\":\"circle\"},\"mode\":\"lines\",\"name\":\"\\u571f\\u58e4C/N\\u6bd4\\u771f\\u5b9e\\u503c\",\"orientation\":\"v\",\"showlegend\":true,\"x\":[2012,2014,2016,2018,2020],\"xaxis\":\"x\",\"y\":[17.020658860617303,16.69590039210555,12.799613004302683,10.667015678995872,9.084758264601351],\"yaxis\":\"y\",\"type\":\"scatter\"},{\"hovertemplate\":\"variable=\\u571f\\u58e4C/N\\u6bd4\\u9884\\u6d4b\\u503c<br>year=%{x}<br>value=%{y}<extra></extra>\",\"legendgroup\":\"\\u571f\\u58e4C/N\\u6bd4\\u9884\\u6d4b\\u503c\",\"line\":{\"color\":\"#EF553B\",\"dash\":\"solid\"},\"marker\":{\"symbol\":\"circle\"},\"mode\":\"lines\",\"name\":\"\\u571f\\u58e4C/N\\u6bd4\\u9884\\u6d4b\\u503c\",\"orientation\":\"v\",\"showlegend\":true,\"x\":[2012,2014,2016,2018,2020],\"xaxis\":\"x\",\"y\":[17.062847137451172,16.453739166259766,13.023094177246094,10.542478561401367,8.897947311401367],\"yaxis\":\"y\",\"type\":\"scatter\"}],                        {\"template\":{\"data\":{\"histogram2dcontour\":[{\"type\":\"histogram2dcontour\",\"colorbar\":{\"outlinewidth\":0,\"ticks\":\"\"},\"colorscale\":[[0.0,\"#0d0887\"],[0.1111111111111111,\"#46039f\"],[0.2222222222222222,\"#7201a8\"],[0.3333333333333333,\"#9c179e\"],[0.4444444444444444,\"#bd3786\"],[0.5555555555555556,\"#d8576b\"],[0.6666666666666666,\"#ed7953\"],[0.7777777777777778,\"#fb9f3a\"],[0.8888888888888888,\"#fdca26\"],[1.0,\"#f0f921\"]]}],\"choropleth\":[{\"type\":\"choropleth\",\"colorbar\":{\"outlinewidth\":0,\"ticks\":\"\"}}],\"histogram2d\":[{\"type\":\"histogram2d\",\"colorbar\":{\"outlinewidth\":0,\"ticks\":\"\"},\"colorscale\":[[0.0,\"#0d0887\"],[0.1111111111111111,\"#46039f\"],[0.2222222222222222,\"#7201a8\"],[0.3333333333333333,\"#9c179e\"],[0.4444444444444444,\"#bd3786\"],[0.5555555555555556,\"#d8576b\"],[0.6666666666666666,\"#ed7953\"],[0.7777777777777778,\"#fb9f3a\"],[0.8888888888888888,\"#fdca26\"],[1.0,\"#f0f921\"]]}],\"heatmap\":[{\"type\":\"heatmap\",\"colorbar\":{\"outlinewidth\":0,\"ticks\":\"\"},\"colorscale\":[[0.0,\"#0d0887\"],[0.1111111111111111,\"#46039f\"],[0.2222222222222222,\"#7201a8\"],[0.3333333333333333,\"#9c179e\"],[0.4444444444444444,\"#bd3786\"],[0.5555555555555556,\"#d8576b\"],[0.6666666666666666,\"#ed7953\"],[0.7777777777777778,\"#fb9f3a\"],[0.8888888888888888,\"#fdca26\"],[1.0,\"#f0f921\"]]}],\"heatmapgl\":[{\"type\":\"heatmapgl\",\"colorbar\":{\"outlinewidth\":0,\"ticks\":\"\"},\"colorscale\":[[0.0,\"#0d0887\"],[0.1111111111111111,\"#46039f\"],[0.2222222222222222,\"#7201a8\"],[0.3333333333333333,\"#9c179e\"],[0.4444444444444444,\"#bd3786\"],[0.5555555555555556,\"#d8576b\"],[0.6666666666666666,\"#ed7953\"],[0.7777777777777778,\"#fb9f3a\"],[0.8888888888888888,\"#fdca26\"],[1.0,\"#f0f921\"]]}],\"contourcarpet\":[{\"type\":\"contourcarpet\",\"colorbar\":{\"outlinewidth\":0,\"ticks\":\"\"}}],\"contour\":[{\"type\":\"contour\",\"colorbar\":{\"outlinewidth\":0,\"ticks\":\"\"},\"colorscale\":[[0.0,\"#0d0887\"],[0.1111111111111111,\"#46039f\"],[0.2222222222222222,\"#7201a8\"],[0.3333333333333333,\"#9c179e\"],[0.4444444444444444,\"#bd3786\"],[0.5555555555555556,\"#d8576b\"],[0.6666666666666666,\"#ed7953\"],[0.7777777777777778,\"#fb9f3a\"],[0.8888888888888888,\"#fdca26\"],[1.0,\"#f0f921\"]]}],\"surface\":[{\"type\":\"surface\",\"colorbar\":{\"outlinewidth\":0,\"ticks\":\"\"},\"colorscale\":[[0.0,\"#0d0887\"],[0.1111111111111111,\"#46039f\"],[0.2222222222222222,\"#7201a8\"],[0.3333333333333333,\"#9c179e\"],[0.4444444444444444,\"#bd3786\"],[0.5555555555555556,\"#d8576b\"],[0.6666666666666666,\"#ed7953\"],[0.7777777777777778,\"#fb9f3a\"],[0.8888888888888888,\"#fdca26\"],[1.0,\"#f0f921\"]]}],\"mesh3d\":[{\"type\":\"mesh3d\",\"colorbar\":{\"outlinewidth\":0,\"ticks\":\"\"}}],\"scatter\":[{\"fillpattern\":{\"fillmode\":\"overlay\",\"size\":10,\"solidity\":0.2},\"type\":\"scatter\"}],\"parcoords\":[{\"type\":\"parcoords\",\"line\":{\"colorbar\":{\"outlinewidth\":0,\"ticks\":\"\"}}}],\"scatterpolargl\":[{\"type\":\"scatterpolargl\",\"marker\":{\"colorbar\":{\"outlinewidth\":0,\"ticks\":\"\"}}}],\"bar\":[{\"error_x\":{\"color\":\"#2a3f5f\"},\"error_y\":{\"color\":\"#2a3f5f\"},\"marker\":{\"line\":{\"color\":\"#E5ECF6\",\"width\":0.5},\"pattern\":{\"fillmode\":\"overlay\",\"size\":10,\"solidity\":0.2}},\"type\":\"bar\"}],\"scattergeo\":[{\"type\":\"scattergeo\",\"marker\":{\"colorbar\":{\"outlinewidth\":0,\"ticks\":\"\"}}}],\"scatterpolar\":[{\"type\":\"scatterpolar\",\"marker\":{\"colorbar\":{\"outlinewidth\":0,\"ticks\":\"\"}}}],\"histogram\":[{\"marker\":{\"pattern\":{\"fillmode\":\"overlay\",\"size\":10,\"solidity\":0.2}},\"type\":\"histogram\"}],\"scattergl\":[{\"type\":\"scattergl\",\"marker\":{\"colorbar\":{\"outlinewidth\":0,\"ticks\":\"\"}}}],\"scatter3d\":[{\"type\":\"scatter3d\",\"line\":{\"colorbar\":{\"outlinewidth\":0,\"ticks\":\"\"}},\"marker\":{\"colorbar\":{\"outlinewidth\":0,\"ticks\":\"\"}}}],\"scattermapbox\":[{\"type\":\"scattermapbox\",\"marker\":{\"colorbar\":{\"outlinewidth\":0,\"ticks\":\"\"}}}],\"scatterternary\":[{\"type\":\"scatterternary\",\"marker\":{\"colorbar\":{\"outlinewidth\":0,\"ticks\":\"\"}}}],\"scattercarpet\":[{\"type\":\"scattercarpet\",\"marker\":{\"colorbar\":{\"outlinewidth\":0,\"ticks\":\"\"}}}],\"carpet\":[{\"aaxis\":{\"endlinecolor\":\"#2a3f5f\",\"gridcolor\":\"white\",\"linecolor\":\"white\",\"minorgridcolor\":\"white\",\"startlinecolor\":\"#2a3f5f\"},\"baxis\":{\"endlinecolor\":\"#2a3f5f\",\"gridcolor\":\"white\",\"linecolor\":\"white\",\"minorgridcolor\":\"white\",\"startlinecolor\":\"#2a3f5f\"},\"type\":\"carpet\"}],\"table\":[{\"cells\":{\"fill\":{\"color\":\"#EBF0F8\"},\"line\":{\"color\":\"white\"}},\"header\":{\"fill\":{\"color\":\"#C8D4E3\"},\"line\":{\"color\":\"white\"}},\"type\":\"table\"}],\"barpolar\":[{\"marker\":{\"line\":{\"color\":\"#E5ECF6\",\"width\":0.5},\"pattern\":{\"fillmode\":\"overlay\",\"size\":10,\"solidity\":0.2}},\"type\":\"barpolar\"}],\"pie\":[{\"automargin\":true,\"type\":\"pie\"}]},\"layout\":{\"autotypenumbers\":\"strict\",\"colorway\":[\"#636efa\",\"#EF553B\",\"#00cc96\",\"#ab63fa\",\"#FFA15A\",\"#19d3f3\",\"#FF6692\",\"#B6E880\",\"#FF97FF\",\"#FECB52\"],\"font\":{\"color\":\"#2a3f5f\"},\"hovermode\":\"closest\",\"hoverlabel\":{\"align\":\"left\"},\"paper_bgcolor\":\"white\",\"plot_bgcolor\":\"#E5ECF6\",\"polar\":{\"bgcolor\":\"#E5ECF6\",\"angularaxis\":{\"gridcolor\":\"white\",\"linecolor\":\"white\",\"ticks\":\"\"},\"radialaxis\":{\"gridcolor\":\"white\",\"linecolor\":\"white\",\"ticks\":\"\"}},\"ternary\":{\"bgcolor\":\"#E5ECF6\",\"aaxis\":{\"gridcolor\":\"white\",\"linecolor\":\"white\",\"ticks\":\"\"},\"baxis\":{\"gridcolor\":\"white\",\"linecolor\":\"white\",\"ticks\":\"\"},\"caxis\":{\"gridcolor\":\"white\",\"linecolor\":\"white\",\"ticks\":\"\"}},\"coloraxis\":{\"colorbar\":{\"outlinewidth\":0,\"ticks\":\"\"}},\"colorscale\":{\"sequential\":[[0.0,\"#0d0887\"],[0.1111111111111111,\"#46039f\"],[0.2222222222222222,\"#7201a8\"],[0.3333333333333333,\"#9c179e\"],[0.4444444444444444,\"#bd3786\"],[0.5555555555555556,\"#d8576b\"],[0.6666666666666666,\"#ed7953\"],[0.7777777777777778,\"#fb9f3a\"],[0.8888888888888888,\"#fdca26\"],[1.0,\"#f0f921\"]],\"sequentialminus\":[[0.0,\"#0d0887\"],[0.1111111111111111,\"#46039f\"],[0.2222222222222222,\"#7201a8\"],[0.3333333333333333,\"#9c179e\"],[0.4444444444444444,\"#bd3786\"],[0.5555555555555556,\"#d8576b\"],[0.6666666666666666,\"#ed7953\"],[0.7777777777777778,\"#fb9f3a\"],[0.8888888888888888,\"#fdca26\"],[1.0,\"#f0f921\"]],\"diverging\":[[0,\"#8e0152\"],[0.1,\"#c51b7d\"],[0.2,\"#de77ae\"],[0.3,\"#f1b6da\"],[0.4,\"#fde0ef\"],[0.5,\"#f7f7f7\"],[0.6,\"#e6f5d0\"],[0.7,\"#b8e186\"],[0.8,\"#7fbc41\"],[0.9,\"#4d9221\"],[1,\"#276419\"]]},\"xaxis\":{\"gridcolor\":\"white\",\"linecolor\":\"white\",\"ticks\":\"\",\"title\":{\"standoff\":15},\"zerolinecolor\":\"white\",\"automargin\":true,\"zerolinewidth\":2},\"yaxis\":{\"gridcolor\":\"white\",\"linecolor\":\"white\",\"ticks\":\"\",\"title\":{\"standoff\":15},\"zerolinecolor\":\"white\",\"automargin\":true,\"zerolinewidth\":2},\"scene\":{\"xaxis\":{\"backgroundcolor\":\"#E5ECF6\",\"gridcolor\":\"white\",\"linecolor\":\"white\",\"showbackground\":true,\"ticks\":\"\",\"zerolinecolor\":\"white\",\"gridwidth\":2},\"yaxis\":{\"backgroundcolor\":\"#E5ECF6\",\"gridcolor\":\"white\",\"linecolor\":\"white\",\"showbackground\":true,\"ticks\":\"\",\"zerolinecolor\":\"white\",\"gridwidth\":2},\"zaxis\":{\"backgroundcolor\":\"#E5ECF6\",\"gridcolor\":\"white\",\"linecolor\":\"white\",\"showbackground\":true,\"ticks\":\"\",\"zerolinecolor\":\"white\",\"gridwidth\":2}},\"shapedefaults\":{\"line\":{\"color\":\"#2a3f5f\"}},\"annotationdefaults\":{\"arrowcolor\":\"#2a3f5f\",\"arrowhead\":0,\"arrowwidth\":1},\"geo\":{\"bgcolor\":\"white\",\"landcolor\":\"#E5ECF6\",\"subunitcolor\":\"white\",\"showland\":true,\"showlakes\":true,\"lakecolor\":\"white\"},\"title\":{\"x\":0.05},\"mapbox\":{\"style\":\"light\"}}},\"xaxis\":{\"anchor\":\"y\",\"domain\":[0.0,1.0],\"title\":{\"text\":\"\\u5e74\\u4efd\"}},\"yaxis\":{\"anchor\":\"x\",\"domain\":[0.0,1.0],\"title\":{\"text\":\"\\u53d6\\u503c\"}},\"legend\":{\"title\":{\"text\":\"\\u9884\\u6d4b\\u503c/\\u771f\\u5b9e\\u503c\"},\"tracegroupgap\":0},\"margin\":{\"t\":60},\"title\":{\"text\":\"\\u653e\\u7267\\u5f3a\\u5ea6HGI\\u4e0b\\u5c0f\\u533aG9\\u7684\\u571f\\u58e4C/N\\u6bd4\\u62df\\u5408\\u6548\\u679c\"}},                        {\"responsive\": true}                    ).then(function(){\n",
       "                            \n",
       "var gd = document.getElementById('ef9a997c-94d3-4b8d-9018-0c0bcd4ed174');\n",
       "var x = new MutationObserver(function (mutations, observer) {{\n",
       "        var display = window.getComputedStyle(gd).display;\n",
       "        if (!display || display === 'none') {{\n",
       "            console.log([gd, 'removed!']);\n",
       "            Plotly.purge(gd);\n",
       "            observer.disconnect();\n",
       "        }}\n",
       "}});\n",
       "\n",
       "// Listen for the removal of the full notebook cells\n",
       "var notebookContainer = gd.closest('#notebook-container');\n",
       "if (notebookContainer) {{\n",
       "    x.observe(notebookContainer, {childList: true});\n",
       "}}\n",
       "\n",
       "// Listen for the clearing of the current output cell\n",
       "var outputEl = gd.closest('.output');\n",
       "if (outputEl) {{\n",
       "    x.observe(outputEl, {childList: true});\n",
       "}}\n",
       "\n",
       "                        })                };                });            </script>        </div>"
      ]
     },
     "metadata": {},
     "output_type": "display_data"
    }
   ],
   "source": [
    "plotPredGnd(2, CN)"
   ]
  },
  {
   "cell_type": "code",
   "execution_count": 48,
   "id": "344ab856",
   "metadata": {},
   "outputs": [
    {
     "data": {
      "application/vnd.plotly.v1+json": {
       "config": {
        "plotlyServerURL": "https://plot.ly"
       },
       "data": [
        {
         "hovertemplate": "variable=SOC土壤有机碳真实值<br>year=%{x}<br>value=%{y}<extra></extra>",
         "legendgroup": "SOC土壤有机碳真实值",
         "line": {
          "color": "#636efa",
          "dash": "solid"
         },
         "marker": {
          "symbol": "circle"
         },
         "mode": "lines",
         "name": "SOC土壤有机碳真实值",
         "orientation": "v",
         "showlegend": true,
         "type": "scatter",
         "x": [
          2012,
          2014,
          2016,
          2018,
          2020
         ],
         "xaxis": "x",
         "y": [
          13.4745335539182,
          12.735764467716216,
          14.502588041623447,
          15.855964112281802,
          17.2
         ],
         "yaxis": "y"
        },
        {
         "hovertemplate": "variable=SOC土壤有机碳预测值<br>year=%{x}<br>value=%{y}<extra></extra>",
         "legendgroup": "SOC土壤有机碳预测值",
         "line": {
          "color": "#EF553B",
          "dash": "solid"
         },
         "marker": {
          "symbol": "circle"
         },
         "mode": "lines",
         "name": "SOC土壤有机碳预测值",
         "orientation": "v",
         "showlegend": true,
         "type": "scatter",
         "x": [
          2012,
          2014,
          2016,
          2018,
          2020
         ],
         "xaxis": "x",
         "y": [
          13.439794540405273,
          12.68254280090332,
          14.304827690124512,
          15.826181411743164,
          16.954660415649414
         ],
         "yaxis": "y"
        }
       ],
       "layout": {
        "legend": {
         "title": {
          "text": "预测值/真实值"
         },
         "tracegroupgap": 0
        },
        "margin": {
         "t": 60
        },
        "template": {
         "data": {
          "bar": [
           {
            "error_x": {
             "color": "#2a3f5f"
            },
            "error_y": {
             "color": "#2a3f5f"
            },
            "marker": {
             "line": {
              "color": "#E5ECF6",
              "width": 0.5
             },
             "pattern": {
              "fillmode": "overlay",
              "size": 10,
              "solidity": 0.2
             }
            },
            "type": "bar"
           }
          ],
          "barpolar": [
           {
            "marker": {
             "line": {
              "color": "#E5ECF6",
              "width": 0.5
             },
             "pattern": {
              "fillmode": "overlay",
              "size": 10,
              "solidity": 0.2
             }
            },
            "type": "barpolar"
           }
          ],
          "carpet": [
           {
            "aaxis": {
             "endlinecolor": "#2a3f5f",
             "gridcolor": "white",
             "linecolor": "white",
             "minorgridcolor": "white",
             "startlinecolor": "#2a3f5f"
            },
            "baxis": {
             "endlinecolor": "#2a3f5f",
             "gridcolor": "white",
             "linecolor": "white",
             "minorgridcolor": "white",
             "startlinecolor": "#2a3f5f"
            },
            "type": "carpet"
           }
          ],
          "choropleth": [
           {
            "colorbar": {
             "outlinewidth": 0,
             "ticks": ""
            },
            "type": "choropleth"
           }
          ],
          "contour": [
           {
            "colorbar": {
             "outlinewidth": 0,
             "ticks": ""
            },
            "colorscale": [
             [
              0,
              "#0d0887"
             ],
             [
              0.1111111111111111,
              "#46039f"
             ],
             [
              0.2222222222222222,
              "#7201a8"
             ],
             [
              0.3333333333333333,
              "#9c179e"
             ],
             [
              0.4444444444444444,
              "#bd3786"
             ],
             [
              0.5555555555555556,
              "#d8576b"
             ],
             [
              0.6666666666666666,
              "#ed7953"
             ],
             [
              0.7777777777777778,
              "#fb9f3a"
             ],
             [
              0.8888888888888888,
              "#fdca26"
             ],
             [
              1,
              "#f0f921"
             ]
            ],
            "type": "contour"
           }
          ],
          "contourcarpet": [
           {
            "colorbar": {
             "outlinewidth": 0,
             "ticks": ""
            },
            "type": "contourcarpet"
           }
          ],
          "heatmap": [
           {
            "colorbar": {
             "outlinewidth": 0,
             "ticks": ""
            },
            "colorscale": [
             [
              0,
              "#0d0887"
             ],
             [
              0.1111111111111111,
              "#46039f"
             ],
             [
              0.2222222222222222,
              "#7201a8"
             ],
             [
              0.3333333333333333,
              "#9c179e"
             ],
             [
              0.4444444444444444,
              "#bd3786"
             ],
             [
              0.5555555555555556,
              "#d8576b"
             ],
             [
              0.6666666666666666,
              "#ed7953"
             ],
             [
              0.7777777777777778,
              "#fb9f3a"
             ],
             [
              0.8888888888888888,
              "#fdca26"
             ],
             [
              1,
              "#f0f921"
             ]
            ],
            "type": "heatmap"
           }
          ],
          "heatmapgl": [
           {
            "colorbar": {
             "outlinewidth": 0,
             "ticks": ""
            },
            "colorscale": [
             [
              0,
              "#0d0887"
             ],
             [
              0.1111111111111111,
              "#46039f"
             ],
             [
              0.2222222222222222,
              "#7201a8"
             ],
             [
              0.3333333333333333,
              "#9c179e"
             ],
             [
              0.4444444444444444,
              "#bd3786"
             ],
             [
              0.5555555555555556,
              "#d8576b"
             ],
             [
              0.6666666666666666,
              "#ed7953"
             ],
             [
              0.7777777777777778,
              "#fb9f3a"
             ],
             [
              0.8888888888888888,
              "#fdca26"
             ],
             [
              1,
              "#f0f921"
             ]
            ],
            "type": "heatmapgl"
           }
          ],
          "histogram": [
           {
            "marker": {
             "pattern": {
              "fillmode": "overlay",
              "size": 10,
              "solidity": 0.2
             }
            },
            "type": "histogram"
           }
          ],
          "histogram2d": [
           {
            "colorbar": {
             "outlinewidth": 0,
             "ticks": ""
            },
            "colorscale": [
             [
              0,
              "#0d0887"
             ],
             [
              0.1111111111111111,
              "#46039f"
             ],
             [
              0.2222222222222222,
              "#7201a8"
             ],
             [
              0.3333333333333333,
              "#9c179e"
             ],
             [
              0.4444444444444444,
              "#bd3786"
             ],
             [
              0.5555555555555556,
              "#d8576b"
             ],
             [
              0.6666666666666666,
              "#ed7953"
             ],
             [
              0.7777777777777778,
              "#fb9f3a"
             ],
             [
              0.8888888888888888,
              "#fdca26"
             ],
             [
              1,
              "#f0f921"
             ]
            ],
            "type": "histogram2d"
           }
          ],
          "histogram2dcontour": [
           {
            "colorbar": {
             "outlinewidth": 0,
             "ticks": ""
            },
            "colorscale": [
             [
              0,
              "#0d0887"
             ],
             [
              0.1111111111111111,
              "#46039f"
             ],
             [
              0.2222222222222222,
              "#7201a8"
             ],
             [
              0.3333333333333333,
              "#9c179e"
             ],
             [
              0.4444444444444444,
              "#bd3786"
             ],
             [
              0.5555555555555556,
              "#d8576b"
             ],
             [
              0.6666666666666666,
              "#ed7953"
             ],
             [
              0.7777777777777778,
              "#fb9f3a"
             ],
             [
              0.8888888888888888,
              "#fdca26"
             ],
             [
              1,
              "#f0f921"
             ]
            ],
            "type": "histogram2dcontour"
           }
          ],
          "mesh3d": [
           {
            "colorbar": {
             "outlinewidth": 0,
             "ticks": ""
            },
            "type": "mesh3d"
           }
          ],
          "parcoords": [
           {
            "line": {
             "colorbar": {
              "outlinewidth": 0,
              "ticks": ""
             }
            },
            "type": "parcoords"
           }
          ],
          "pie": [
           {
            "automargin": true,
            "type": "pie"
           }
          ],
          "scatter": [
           {
            "fillpattern": {
             "fillmode": "overlay",
             "size": 10,
             "solidity": 0.2
            },
            "type": "scatter"
           }
          ],
          "scatter3d": [
           {
            "line": {
             "colorbar": {
              "outlinewidth": 0,
              "ticks": ""
             }
            },
            "marker": {
             "colorbar": {
              "outlinewidth": 0,
              "ticks": ""
             }
            },
            "type": "scatter3d"
           }
          ],
          "scattercarpet": [
           {
            "marker": {
             "colorbar": {
              "outlinewidth": 0,
              "ticks": ""
             }
            },
            "type": "scattercarpet"
           }
          ],
          "scattergeo": [
           {
            "marker": {
             "colorbar": {
              "outlinewidth": 0,
              "ticks": ""
             }
            },
            "type": "scattergeo"
           }
          ],
          "scattergl": [
           {
            "marker": {
             "colorbar": {
              "outlinewidth": 0,
              "ticks": ""
             }
            },
            "type": "scattergl"
           }
          ],
          "scattermapbox": [
           {
            "marker": {
             "colorbar": {
              "outlinewidth": 0,
              "ticks": ""
             }
            },
            "type": "scattermapbox"
           }
          ],
          "scatterpolar": [
           {
            "marker": {
             "colorbar": {
              "outlinewidth": 0,
              "ticks": ""
             }
            },
            "type": "scatterpolar"
           }
          ],
          "scatterpolargl": [
           {
            "marker": {
             "colorbar": {
              "outlinewidth": 0,
              "ticks": ""
             }
            },
            "type": "scatterpolargl"
           }
          ],
          "scatterternary": [
           {
            "marker": {
             "colorbar": {
              "outlinewidth": 0,
              "ticks": ""
             }
            },
            "type": "scatterternary"
           }
          ],
          "surface": [
           {
            "colorbar": {
             "outlinewidth": 0,
             "ticks": ""
            },
            "colorscale": [
             [
              0,
              "#0d0887"
             ],
             [
              0.1111111111111111,
              "#46039f"
             ],
             [
              0.2222222222222222,
              "#7201a8"
             ],
             [
              0.3333333333333333,
              "#9c179e"
             ],
             [
              0.4444444444444444,
              "#bd3786"
             ],
             [
              0.5555555555555556,
              "#d8576b"
             ],
             [
              0.6666666666666666,
              "#ed7953"
             ],
             [
              0.7777777777777778,
              "#fb9f3a"
             ],
             [
              0.8888888888888888,
              "#fdca26"
             ],
             [
              1,
              "#f0f921"
             ]
            ],
            "type": "surface"
           }
          ],
          "table": [
           {
            "cells": {
             "fill": {
              "color": "#EBF0F8"
             },
             "line": {
              "color": "white"
             }
            },
            "header": {
             "fill": {
              "color": "#C8D4E3"
             },
             "line": {
              "color": "white"
             }
            },
            "type": "table"
           }
          ]
         },
         "layout": {
          "annotationdefaults": {
           "arrowcolor": "#2a3f5f",
           "arrowhead": 0,
           "arrowwidth": 1
          },
          "autotypenumbers": "strict",
          "coloraxis": {
           "colorbar": {
            "outlinewidth": 0,
            "ticks": ""
           }
          },
          "colorscale": {
           "diverging": [
            [
             0,
             "#8e0152"
            ],
            [
             0.1,
             "#c51b7d"
            ],
            [
             0.2,
             "#de77ae"
            ],
            [
             0.3,
             "#f1b6da"
            ],
            [
             0.4,
             "#fde0ef"
            ],
            [
             0.5,
             "#f7f7f7"
            ],
            [
             0.6,
             "#e6f5d0"
            ],
            [
             0.7,
             "#b8e186"
            ],
            [
             0.8,
             "#7fbc41"
            ],
            [
             0.9,
             "#4d9221"
            ],
            [
             1,
             "#276419"
            ]
           ],
           "sequential": [
            [
             0,
             "#0d0887"
            ],
            [
             0.1111111111111111,
             "#46039f"
            ],
            [
             0.2222222222222222,
             "#7201a8"
            ],
            [
             0.3333333333333333,
             "#9c179e"
            ],
            [
             0.4444444444444444,
             "#bd3786"
            ],
            [
             0.5555555555555556,
             "#d8576b"
            ],
            [
             0.6666666666666666,
             "#ed7953"
            ],
            [
             0.7777777777777778,
             "#fb9f3a"
            ],
            [
             0.8888888888888888,
             "#fdca26"
            ],
            [
             1,
             "#f0f921"
            ]
           ],
           "sequentialminus": [
            [
             0,
             "#0d0887"
            ],
            [
             0.1111111111111111,
             "#46039f"
            ],
            [
             0.2222222222222222,
             "#7201a8"
            ],
            [
             0.3333333333333333,
             "#9c179e"
            ],
            [
             0.4444444444444444,
             "#bd3786"
            ],
            [
             0.5555555555555556,
             "#d8576b"
            ],
            [
             0.6666666666666666,
             "#ed7953"
            ],
            [
             0.7777777777777778,
             "#fb9f3a"
            ],
            [
             0.8888888888888888,
             "#fdca26"
            ],
            [
             1,
             "#f0f921"
            ]
           ]
          },
          "colorway": [
           "#636efa",
           "#EF553B",
           "#00cc96",
           "#ab63fa",
           "#FFA15A",
           "#19d3f3",
           "#FF6692",
           "#B6E880",
           "#FF97FF",
           "#FECB52"
          ],
          "font": {
           "color": "#2a3f5f"
          },
          "geo": {
           "bgcolor": "white",
           "lakecolor": "white",
           "landcolor": "#E5ECF6",
           "showlakes": true,
           "showland": true,
           "subunitcolor": "white"
          },
          "hoverlabel": {
           "align": "left"
          },
          "hovermode": "closest",
          "mapbox": {
           "style": "light"
          },
          "paper_bgcolor": "white",
          "plot_bgcolor": "#E5ECF6",
          "polar": {
           "angularaxis": {
            "gridcolor": "white",
            "linecolor": "white",
            "ticks": ""
           },
           "bgcolor": "#E5ECF6",
           "radialaxis": {
            "gridcolor": "white",
            "linecolor": "white",
            "ticks": ""
           }
          },
          "scene": {
           "xaxis": {
            "backgroundcolor": "#E5ECF6",
            "gridcolor": "white",
            "gridwidth": 2,
            "linecolor": "white",
            "showbackground": true,
            "ticks": "",
            "zerolinecolor": "white"
           },
           "yaxis": {
            "backgroundcolor": "#E5ECF6",
            "gridcolor": "white",
            "gridwidth": 2,
            "linecolor": "white",
            "showbackground": true,
            "ticks": "",
            "zerolinecolor": "white"
           },
           "zaxis": {
            "backgroundcolor": "#E5ECF6",
            "gridcolor": "white",
            "gridwidth": 2,
            "linecolor": "white",
            "showbackground": true,
            "ticks": "",
            "zerolinecolor": "white"
           }
          },
          "shapedefaults": {
           "line": {
            "color": "#2a3f5f"
           }
          },
          "ternary": {
           "aaxis": {
            "gridcolor": "white",
            "linecolor": "white",
            "ticks": ""
           },
           "baxis": {
            "gridcolor": "white",
            "linecolor": "white",
            "ticks": ""
           },
           "bgcolor": "#E5ECF6",
           "caxis": {
            "gridcolor": "white",
            "linecolor": "white",
            "ticks": ""
           }
          },
          "title": {
           "x": 0.05
          },
          "xaxis": {
           "automargin": true,
           "gridcolor": "white",
           "linecolor": "white",
           "ticks": "",
           "title": {
            "standoff": 15
           },
           "zerolinecolor": "white",
           "zerolinewidth": 2
          },
          "yaxis": {
           "automargin": true,
           "gridcolor": "white",
           "linecolor": "white",
           "ticks": "",
           "title": {
            "standoff": 15
           },
           "zerolinecolor": "white",
           "zerolinewidth": 2
          }
         }
        },
        "title": {
         "text": "放牧强度HGI下小区G9的SOC土壤有机碳拟合效果"
        },
        "xaxis": {
         "anchor": "y",
         "domain": [
          0,
          1
         ],
         "title": {
          "text": "年份"
         }
        },
        "yaxis": {
         "anchor": "x",
         "domain": [
          0,
          1
         ],
         "title": {
          "text": "取值"
         }
        }
       }
      },
      "text/html": [
       "<div>                            <div id=\"406ed5f3-e67a-4b14-9036-8cf17c93e28a\" class=\"plotly-graph-div\" style=\"height:525px; width:100%;\"></div>            <script type=\"text/javascript\">                require([\"plotly\"], function(Plotly) {                    window.PLOTLYENV=window.PLOTLYENV || {};                                    if (document.getElementById(\"406ed5f3-e67a-4b14-9036-8cf17c93e28a\")) {                    Plotly.newPlot(                        \"406ed5f3-e67a-4b14-9036-8cf17c93e28a\",                        [{\"hovertemplate\":\"variable=SOC\\u571f\\u58e4\\u6709\\u673a\\u78b3\\u771f\\u5b9e\\u503c<br>year=%{x}<br>value=%{y}<extra></extra>\",\"legendgroup\":\"SOC\\u571f\\u58e4\\u6709\\u673a\\u78b3\\u771f\\u5b9e\\u503c\",\"line\":{\"color\":\"#636efa\",\"dash\":\"solid\"},\"marker\":{\"symbol\":\"circle\"},\"mode\":\"lines\",\"name\":\"SOC\\u571f\\u58e4\\u6709\\u673a\\u78b3\\u771f\\u5b9e\\u503c\",\"orientation\":\"v\",\"showlegend\":true,\"x\":[2012,2014,2016,2018,2020],\"xaxis\":\"x\",\"y\":[13.4745335539182,12.735764467716216,14.502588041623447,15.855964112281802,17.2],\"yaxis\":\"y\",\"type\":\"scatter\"},{\"hovertemplate\":\"variable=SOC\\u571f\\u58e4\\u6709\\u673a\\u78b3\\u9884\\u6d4b\\u503c<br>year=%{x}<br>value=%{y}<extra></extra>\",\"legendgroup\":\"SOC\\u571f\\u58e4\\u6709\\u673a\\u78b3\\u9884\\u6d4b\\u503c\",\"line\":{\"color\":\"#EF553B\",\"dash\":\"solid\"},\"marker\":{\"symbol\":\"circle\"},\"mode\":\"lines\",\"name\":\"SOC\\u571f\\u58e4\\u6709\\u673a\\u78b3\\u9884\\u6d4b\\u503c\",\"orientation\":\"v\",\"showlegend\":true,\"x\":[2012,2014,2016,2018,2020],\"xaxis\":\"x\",\"y\":[13.439794540405273,12.68254280090332,14.304827690124512,15.826181411743164,16.954660415649414],\"yaxis\":\"y\",\"type\":\"scatter\"}],                        {\"template\":{\"data\":{\"histogram2dcontour\":[{\"type\":\"histogram2dcontour\",\"colorbar\":{\"outlinewidth\":0,\"ticks\":\"\"},\"colorscale\":[[0.0,\"#0d0887\"],[0.1111111111111111,\"#46039f\"],[0.2222222222222222,\"#7201a8\"],[0.3333333333333333,\"#9c179e\"],[0.4444444444444444,\"#bd3786\"],[0.5555555555555556,\"#d8576b\"],[0.6666666666666666,\"#ed7953\"],[0.7777777777777778,\"#fb9f3a\"],[0.8888888888888888,\"#fdca26\"],[1.0,\"#f0f921\"]]}],\"choropleth\":[{\"type\":\"choropleth\",\"colorbar\":{\"outlinewidth\":0,\"ticks\":\"\"}}],\"histogram2d\":[{\"type\":\"histogram2d\",\"colorbar\":{\"outlinewidth\":0,\"ticks\":\"\"},\"colorscale\":[[0.0,\"#0d0887\"],[0.1111111111111111,\"#46039f\"],[0.2222222222222222,\"#7201a8\"],[0.3333333333333333,\"#9c179e\"],[0.4444444444444444,\"#bd3786\"],[0.5555555555555556,\"#d8576b\"],[0.6666666666666666,\"#ed7953\"],[0.7777777777777778,\"#fb9f3a\"],[0.8888888888888888,\"#fdca26\"],[1.0,\"#f0f921\"]]}],\"heatmap\":[{\"type\":\"heatmap\",\"colorbar\":{\"outlinewidth\":0,\"ticks\":\"\"},\"colorscale\":[[0.0,\"#0d0887\"],[0.1111111111111111,\"#46039f\"],[0.2222222222222222,\"#7201a8\"],[0.3333333333333333,\"#9c179e\"],[0.4444444444444444,\"#bd3786\"],[0.5555555555555556,\"#d8576b\"],[0.6666666666666666,\"#ed7953\"],[0.7777777777777778,\"#fb9f3a\"],[0.8888888888888888,\"#fdca26\"],[1.0,\"#f0f921\"]]}],\"heatmapgl\":[{\"type\":\"heatmapgl\",\"colorbar\":{\"outlinewidth\":0,\"ticks\":\"\"},\"colorscale\":[[0.0,\"#0d0887\"],[0.1111111111111111,\"#46039f\"],[0.2222222222222222,\"#7201a8\"],[0.3333333333333333,\"#9c179e\"],[0.4444444444444444,\"#bd3786\"],[0.5555555555555556,\"#d8576b\"],[0.6666666666666666,\"#ed7953\"],[0.7777777777777778,\"#fb9f3a\"],[0.8888888888888888,\"#fdca26\"],[1.0,\"#f0f921\"]]}],\"contourcarpet\":[{\"type\":\"contourcarpet\",\"colorbar\":{\"outlinewidth\":0,\"ticks\":\"\"}}],\"contour\":[{\"type\":\"contour\",\"colorbar\":{\"outlinewidth\":0,\"ticks\":\"\"},\"colorscale\":[[0.0,\"#0d0887\"],[0.1111111111111111,\"#46039f\"],[0.2222222222222222,\"#7201a8\"],[0.3333333333333333,\"#9c179e\"],[0.4444444444444444,\"#bd3786\"],[0.5555555555555556,\"#d8576b\"],[0.6666666666666666,\"#ed7953\"],[0.7777777777777778,\"#fb9f3a\"],[0.8888888888888888,\"#fdca26\"],[1.0,\"#f0f921\"]]}],\"surface\":[{\"type\":\"surface\",\"colorbar\":{\"outlinewidth\":0,\"ticks\":\"\"},\"colorscale\":[[0.0,\"#0d0887\"],[0.1111111111111111,\"#46039f\"],[0.2222222222222222,\"#7201a8\"],[0.3333333333333333,\"#9c179e\"],[0.4444444444444444,\"#bd3786\"],[0.5555555555555556,\"#d8576b\"],[0.6666666666666666,\"#ed7953\"],[0.7777777777777778,\"#fb9f3a\"],[0.8888888888888888,\"#fdca26\"],[1.0,\"#f0f921\"]]}],\"mesh3d\":[{\"type\":\"mesh3d\",\"colorbar\":{\"outlinewidth\":0,\"ticks\":\"\"}}],\"scatter\":[{\"fillpattern\":{\"fillmode\":\"overlay\",\"size\":10,\"solidity\":0.2},\"type\":\"scatter\"}],\"parcoords\":[{\"type\":\"parcoords\",\"line\":{\"colorbar\":{\"outlinewidth\":0,\"ticks\":\"\"}}}],\"scatterpolargl\":[{\"type\":\"scatterpolargl\",\"marker\":{\"colorbar\":{\"outlinewidth\":0,\"ticks\":\"\"}}}],\"bar\":[{\"error_x\":{\"color\":\"#2a3f5f\"},\"error_y\":{\"color\":\"#2a3f5f\"},\"marker\":{\"line\":{\"color\":\"#E5ECF6\",\"width\":0.5},\"pattern\":{\"fillmode\":\"overlay\",\"size\":10,\"solidity\":0.2}},\"type\":\"bar\"}],\"scattergeo\":[{\"type\":\"scattergeo\",\"marker\":{\"colorbar\":{\"outlinewidth\":0,\"ticks\":\"\"}}}],\"scatterpolar\":[{\"type\":\"scatterpolar\",\"marker\":{\"colorbar\":{\"outlinewidth\":0,\"ticks\":\"\"}}}],\"histogram\":[{\"marker\":{\"pattern\":{\"fillmode\":\"overlay\",\"size\":10,\"solidity\":0.2}},\"type\":\"histogram\"}],\"scattergl\":[{\"type\":\"scattergl\",\"marker\":{\"colorbar\":{\"outlinewidth\":0,\"ticks\":\"\"}}}],\"scatter3d\":[{\"type\":\"scatter3d\",\"line\":{\"colorbar\":{\"outlinewidth\":0,\"ticks\":\"\"}},\"marker\":{\"colorbar\":{\"outlinewidth\":0,\"ticks\":\"\"}}}],\"scattermapbox\":[{\"type\":\"scattermapbox\",\"marker\":{\"colorbar\":{\"outlinewidth\":0,\"ticks\":\"\"}}}],\"scatterternary\":[{\"type\":\"scatterternary\",\"marker\":{\"colorbar\":{\"outlinewidth\":0,\"ticks\":\"\"}}}],\"scattercarpet\":[{\"type\":\"scattercarpet\",\"marker\":{\"colorbar\":{\"outlinewidth\":0,\"ticks\":\"\"}}}],\"carpet\":[{\"aaxis\":{\"endlinecolor\":\"#2a3f5f\",\"gridcolor\":\"white\",\"linecolor\":\"white\",\"minorgridcolor\":\"white\",\"startlinecolor\":\"#2a3f5f\"},\"baxis\":{\"endlinecolor\":\"#2a3f5f\",\"gridcolor\":\"white\",\"linecolor\":\"white\",\"minorgridcolor\":\"white\",\"startlinecolor\":\"#2a3f5f\"},\"type\":\"carpet\"}],\"table\":[{\"cells\":{\"fill\":{\"color\":\"#EBF0F8\"},\"line\":{\"color\":\"white\"}},\"header\":{\"fill\":{\"color\":\"#C8D4E3\"},\"line\":{\"color\":\"white\"}},\"type\":\"table\"}],\"barpolar\":[{\"marker\":{\"line\":{\"color\":\"#E5ECF6\",\"width\":0.5},\"pattern\":{\"fillmode\":\"overlay\",\"size\":10,\"solidity\":0.2}},\"type\":\"barpolar\"}],\"pie\":[{\"automargin\":true,\"type\":\"pie\"}]},\"layout\":{\"autotypenumbers\":\"strict\",\"colorway\":[\"#636efa\",\"#EF553B\",\"#00cc96\",\"#ab63fa\",\"#FFA15A\",\"#19d3f3\",\"#FF6692\",\"#B6E880\",\"#FF97FF\",\"#FECB52\"],\"font\":{\"color\":\"#2a3f5f\"},\"hovermode\":\"closest\",\"hoverlabel\":{\"align\":\"left\"},\"paper_bgcolor\":\"white\",\"plot_bgcolor\":\"#E5ECF6\",\"polar\":{\"bgcolor\":\"#E5ECF6\",\"angularaxis\":{\"gridcolor\":\"white\",\"linecolor\":\"white\",\"ticks\":\"\"},\"radialaxis\":{\"gridcolor\":\"white\",\"linecolor\":\"white\",\"ticks\":\"\"}},\"ternary\":{\"bgcolor\":\"#E5ECF6\",\"aaxis\":{\"gridcolor\":\"white\",\"linecolor\":\"white\",\"ticks\":\"\"},\"baxis\":{\"gridcolor\":\"white\",\"linecolor\":\"white\",\"ticks\":\"\"},\"caxis\":{\"gridcolor\":\"white\",\"linecolor\":\"white\",\"ticks\":\"\"}},\"coloraxis\":{\"colorbar\":{\"outlinewidth\":0,\"ticks\":\"\"}},\"colorscale\":{\"sequential\":[[0.0,\"#0d0887\"],[0.1111111111111111,\"#46039f\"],[0.2222222222222222,\"#7201a8\"],[0.3333333333333333,\"#9c179e\"],[0.4444444444444444,\"#bd3786\"],[0.5555555555555556,\"#d8576b\"],[0.6666666666666666,\"#ed7953\"],[0.7777777777777778,\"#fb9f3a\"],[0.8888888888888888,\"#fdca26\"],[1.0,\"#f0f921\"]],\"sequentialminus\":[[0.0,\"#0d0887\"],[0.1111111111111111,\"#46039f\"],[0.2222222222222222,\"#7201a8\"],[0.3333333333333333,\"#9c179e\"],[0.4444444444444444,\"#bd3786\"],[0.5555555555555556,\"#d8576b\"],[0.6666666666666666,\"#ed7953\"],[0.7777777777777778,\"#fb9f3a\"],[0.8888888888888888,\"#fdca26\"],[1.0,\"#f0f921\"]],\"diverging\":[[0,\"#8e0152\"],[0.1,\"#c51b7d\"],[0.2,\"#de77ae\"],[0.3,\"#f1b6da\"],[0.4,\"#fde0ef\"],[0.5,\"#f7f7f7\"],[0.6,\"#e6f5d0\"],[0.7,\"#b8e186\"],[0.8,\"#7fbc41\"],[0.9,\"#4d9221\"],[1,\"#276419\"]]},\"xaxis\":{\"gridcolor\":\"white\",\"linecolor\":\"white\",\"ticks\":\"\",\"title\":{\"standoff\":15},\"zerolinecolor\":\"white\",\"automargin\":true,\"zerolinewidth\":2},\"yaxis\":{\"gridcolor\":\"white\",\"linecolor\":\"white\",\"ticks\":\"\",\"title\":{\"standoff\":15},\"zerolinecolor\":\"white\",\"automargin\":true,\"zerolinewidth\":2},\"scene\":{\"xaxis\":{\"backgroundcolor\":\"#E5ECF6\",\"gridcolor\":\"white\",\"linecolor\":\"white\",\"showbackground\":true,\"ticks\":\"\",\"zerolinecolor\":\"white\",\"gridwidth\":2},\"yaxis\":{\"backgroundcolor\":\"#E5ECF6\",\"gridcolor\":\"white\",\"linecolor\":\"white\",\"showbackground\":true,\"ticks\":\"\",\"zerolinecolor\":\"white\",\"gridwidth\":2},\"zaxis\":{\"backgroundcolor\":\"#E5ECF6\",\"gridcolor\":\"white\",\"linecolor\":\"white\",\"showbackground\":true,\"ticks\":\"\",\"zerolinecolor\":\"white\",\"gridwidth\":2}},\"shapedefaults\":{\"line\":{\"color\":\"#2a3f5f\"}},\"annotationdefaults\":{\"arrowcolor\":\"#2a3f5f\",\"arrowhead\":0,\"arrowwidth\":1},\"geo\":{\"bgcolor\":\"white\",\"landcolor\":\"#E5ECF6\",\"subunitcolor\":\"white\",\"showland\":true,\"showlakes\":true,\"lakecolor\":\"white\"},\"title\":{\"x\":0.05},\"mapbox\":{\"style\":\"light\"}}},\"xaxis\":{\"anchor\":\"y\",\"domain\":[0.0,1.0],\"title\":{\"text\":\"\\u5e74\\u4efd\"}},\"yaxis\":{\"anchor\":\"x\",\"domain\":[0.0,1.0],\"title\":{\"text\":\"\\u53d6\\u503c\"}},\"legend\":{\"title\":{\"text\":\"\\u9884\\u6d4b\\u503c/\\u771f\\u5b9e\\u503c\"},\"tracegroupgap\":0},\"margin\":{\"t\":60},\"title\":{\"text\":\"\\u653e\\u7267\\u5f3a\\u5ea6HGI\\u4e0b\\u5c0f\\u533aG9\\u7684SOC\\u571f\\u58e4\\u6709\\u673a\\u78b3\\u62df\\u5408\\u6548\\u679c\"}},                        {\"responsive\": true}                    ).then(function(){\n",
       "                            \n",
       "var gd = document.getElementById('406ed5f3-e67a-4b14-9036-8cf17c93e28a');\n",
       "var x = new MutationObserver(function (mutations, observer) {{\n",
       "        var display = window.getComputedStyle(gd).display;\n",
       "        if (!display || display === 'none') {{\n",
       "            console.log([gd, 'removed!']);\n",
       "            Plotly.purge(gd);\n",
       "            observer.disconnect();\n",
       "        }}\n",
       "}});\n",
       "\n",
       "// Listen for the removal of the full notebook cells\n",
       "var notebookContainer = gd.closest('#notebook-container');\n",
       "if (notebookContainer) {{\n",
       "    x.observe(notebookContainer, {childList: true});\n",
       "}}\n",
       "\n",
       "// Listen for the clearing of the current output cell\n",
       "var outputEl = gd.closest('.output');\n",
       "if (outputEl) {{\n",
       "    x.observe(outputEl, {childList: true});\n",
       "}}\n",
       "\n",
       "                        })                };                });            </script>        </div>"
      ]
     },
     "metadata": {},
     "output_type": "display_data"
    }
   ],
   "source": [
    "plotPredGnd(2, SOC)"
   ]
  }
 ],
 "metadata": {
  "kernelspec": {
   "display_name": "Python 3 (ipykernel)",
   "language": "python",
   "name": "python3"
  },
  "language_info": {
   "codemirror_mode": {
    "name": "ipython",
    "version": 3
   },
   "file_extension": ".py",
   "mimetype": "text/x-python",
   "name": "python",
   "nbconvert_exporter": "python",
   "pygments_lexer": "ipython3",
   "version": "3.9.7"
  }
 },
 "nbformat": 4,
 "nbformat_minor": 5
}

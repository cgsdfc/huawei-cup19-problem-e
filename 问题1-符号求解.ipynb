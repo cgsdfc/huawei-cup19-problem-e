{
 "cells": [
  {
   "cell_type": "code",
   "execution_count": 119,
   "id": "95282c28",
   "metadata": {},
   "outputs": [],
   "source": [
    "from sympy import *\n",
    "import sympy\n",
    "from sympy.abc import *"
   ]
  },
  {
   "cell_type": "markdown",
   "id": "5cee74fa",
   "metadata": {},
   "source": [
    "## w生物量方程"
   ]
  },
  {
   "cell_type": "markdown",
   "id": "a94a69f5",
   "metadata": {},
   "source": [
    "t=Symbol('t', positive=True, integer=True)\n",
    "w=Function('w')\n",
    "a,b,c=symbols('a b c')\n",
    "S=Function('S')\n",
    "k=Symbol('k')\n",
    "P=Function('P')\n",
    "W=Function('W')\n",
    "alpha_star=Symbol(r'\\alpha^*')\n",
    "eg=Symbol(r'\\epsilon_g')\n",
    "w_star=Symbol(r'w^*')"
   ]
  },
  {
   "cell_type": "code",
   "execution_count": 179,
   "id": "b4f6ef2f",
   "metadata": {},
   "outputs": [
    {
     "data": {
      "text/latex": [
       "$\\displaystyle \\frac{d}{d t} w{\\left(t \\right)} = a \\left(1 - \\frac{w{\\left(t \\right)}}{b}\\right) w{\\left(t \\right)} - c S{\\left(t \\right)} w{\\left(t \\right)}$"
      ],
      "text/plain": [
       "Eq(Derivative(w(t), t), a*(1 - w(t)/b)*w(t) - c*S(t)*w(t))"
      ]
     },
     "execution_count": 179,
     "metadata": {},
     "output_type": "execute_result"
    }
   ],
   "source": [
    "eq1=Eq(diff(w(t), t), a*w(t)*(1-w(t)/b)-c*S(t)*w(t))\n",
    "eq1"
   ]
  },
  {
   "cell_type": "markdown",
   "id": "82d950d7",
   "metadata": {},
   "source": [
    "w是生物量，a b c是待定的系数，S是放牧强度，具体单位请看问题描述。\n",
    "这是方程1，可解出w和S的关系式子。"
   ]
  },
  {
   "cell_type": "code",
   "execution_count": 135,
   "id": "4dd1a3e8",
   "metadata": {},
   "outputs": [
    {
     "data": {
      "text/latex": [
       "$\\displaystyle \\operatorname{IC}_{max}{\\left(t \\right)} = - 0.00575 \\operatorname{LAI}^{2}{\\left(t \\right)} + 0.498 \\operatorname{LAI}{\\left(t \\right)} + 0.935$"
      ],
      "text/plain": [
       "Eq(IC_{max}(t), -0.00575*LAI(t)**2 + 0.498*LAI(t) + 0.935)"
      ]
     },
     "execution_count": 135,
     "metadata": {},
     "output_type": "execute_result"
    }
   ],
   "source": [
    "ICmax=Function('IC_{max}')\n",
    "LAI=Function('LAI')\n",
    "eq5=Eq(\n",
    "ICmax(t), (0.935)+ LAI(t)*(0.498) - (LAI(t)**2)*(0.00575)\n",
    ")\n",
    "eq5"
   ]
  },
  {
   "cell_type": "markdown",
   "id": "11f5e4f2",
   "metadata": {},
   "source": [
    "ICmax是植被的最大截留量，LAI是植被的叶面积指数，这是方程5，表示ICmax可由LAI求得。"
   ]
  },
  {
   "cell_type": "code",
   "execution_count": 159,
   "id": "7f8c6b74",
   "metadata": {},
   "outputs": [
    {
     "data": {
      "text/latex": [
       "$\\displaystyle \\operatorname{cp}{\\left(t \\right)} = a_{2} \\left(\\alpha^{*} - a_{1} W{\\left(t \\right)} - 1.8 S{\\left(t \\right)}\\right)$"
      ],
      "text/plain": [
       "Eq(cp(t), a2*(\\alpha^* - a1*W(t) - 1.8*S(t)))"
      ]
     },
     "execution_count": 159,
     "metadata": {},
     "output_type": "execute_result"
    }
   ],
   "source": [
    "cp=Function('cp')\n",
    "a1=Symbol('a1') # (1-exp(eg*w(t)/w_star)\n",
    "a2=Symbol('a2') # (1-exp(-eg*w(t)/w_star)\n",
    "\n",
    "eq3=Eq(\n",
    "    cp(t), a2 * \n",
    "   (alpha_star - W(t)* a1-1.8*S(t))\n",
    ")\n",
    "eq3"
   ]
  },
  {
   "cell_type": "markdown",
   "id": "232595bf",
   "metadata": {},
   "source": [
    "cp是植被覆盖率，a1 a2 是两个自定义的量（详见下面），a^*是最大增长率，S是放牧强度，这是方程3。"
   ]
  },
  {
   "cell_type": "code",
   "execution_count": 175,
   "id": "22942af7",
   "metadata": {},
   "outputs": [
    {
     "data": {
      "text/latex": [
       "$\\displaystyle a_{1} = 1 - e^{\\frac{\\epsilon_{g} w{\\left(t \\right)}}{w^{*}}}$"
      ],
      "text/plain": [
       "Eq(a1, 1 - exp(\\epsilon_g*w(t)/w^*))"
      ]
     },
     "execution_count": 175,
     "metadata": {},
     "output_type": "execute_result"
    }
   ],
   "source": [
    "Eq(a1, (1-exp(eg*w(t)/w_star)))"
   ]
  },
  {
   "cell_type": "code",
   "execution_count": 177,
   "id": "f5da4150",
   "metadata": {},
   "outputs": [
    {
     "data": {
      "text/latex": [
       "$\\displaystyle a_{2} = 1 - e^{- \\frac{\\epsilon_{g} w{\\left(t \\right)}}{w^{*}}}$"
      ],
      "text/plain": [
       "Eq(a2, 1 - exp(-\\epsilon_g*w(t)/w^*))"
      ]
     },
     "execution_count": 177,
     "metadata": {},
     "output_type": "execute_result"
    }
   ],
   "source": [
    "Eq(a2,(1-exp(-eg*w(t)/w_star)))"
   ]
  },
  {
   "cell_type": "code",
   "execution_count": 160,
   "id": "0249d08c",
   "metadata": {},
   "outputs": [
    {
     "data": {
      "text/latex": [
       "$\\displaystyle a_{2} \\left(\\alpha^{*} - a_{1} W{\\left(t \\right)} - 1.8 S{\\left(t \\right)}\\right)$"
      ],
      "text/plain": [
       "a2*(\\alpha^* - a1*W(t) - 1.8*S(t))"
      ]
     },
     "execution_count": 160,
     "metadata": {},
     "output_type": "execute_result"
    }
   ],
   "source": [
    "cp=a2 * \\\n",
    "   (alpha_star - W(t)* a1-1.8*S(t))\n",
    "cp"
   ]
  },
  {
   "cell_type": "markdown",
   "id": "f6988941",
   "metadata": {},
   "source": [
    "把cp用方程3代替，消去了cp。"
   ]
  },
  {
   "cell_type": "code",
   "execution_count": 162,
   "id": "1bafb0b2",
   "metadata": {},
   "outputs": [
    {
     "data": {
      "text/latex": [
       "$\\displaystyle \\operatorname{ICstore}{\\left(t \\right)} = a_{2} a_{3} \\left(\\alpha^{*} - a_{1} W{\\left(t \\right)} - 1.8 S{\\left(t \\right)}\\right) \\operatorname{IC}_{max}{\\left(t \\right)}$"
      ],
      "text/plain": [
       "Eq(ICstore(t), a2*a3*(\\alpha^* - a1*W(t) - 1.8*S(t))*IC_{max}(t))"
      ]
     },
     "execution_count": 162,
     "metadata": {},
     "output_type": "execute_result"
    }
   ],
   "source": [
    "ICstore=Function('ICstore')\n",
    "a3=Symbol('a3') # (1-exp(-k*P(t)/ICmax(t)))\n",
    "eq4=Eq(\n",
    "    ICstore(t), cp *ICmax(t) * a3\n",
    ")\n",
    "eq4"
   ]
  },
  {
   "cell_type": "markdown",
   "id": "3625d011",
   "metadata": {},
   "source": [
    "ICstore是植被截留量（注意不是最大截留量），a3是自定义的变量，这是方程4，用来消去ICstore。"
   ]
  },
  {
   "cell_type": "code",
   "execution_count": 178,
   "id": "7245ad70",
   "metadata": {},
   "outputs": [
    {
     "data": {
      "text/latex": [
       "$\\displaystyle a_{3} = 1 - e^{- \\frac{k P{\\left(t \\right)}}{\\operatorname{IC}_{max}{\\left(t \\right)}}}$"
      ],
      "text/plain": [
       "Eq(a3, 1 - exp(-k*P(t)/IC_{max}(t)))"
      ]
     },
     "execution_count": 178,
     "metadata": {},
     "output_type": "execute_result"
    }
   ],
   "source": [
    "Eq(a3,(1-exp(-k*P(t)/ICmax(t))) )"
   ]
  },
  {
   "cell_type": "code",
   "execution_count": 164,
   "id": "9ee4b8cd",
   "metadata": {},
   "outputs": [
    {
     "data": {
      "text/latex": [
       "$\\displaystyle a_{2} a_{3} \\left(\\alpha^{*} - a_{1} W{\\left(t \\right)} - 1.8 S{\\left(t \\right)}\\right) \\operatorname{IC}_{max}{\\left(t \\right)}$"
      ],
      "text/plain": [
       "a2*a3*(\\alpha^* - a1*W(t) - 1.8*S(t))*IC_{max}(t)"
      ]
     },
     "execution_count": 164,
     "metadata": {},
     "output_type": "execute_result"
    }
   ],
   "source": [
    "ICstore=cp *ICmax(t) * a3\n",
    "ICstore"
   ]
  },
  {
   "cell_type": "markdown",
   "id": "776329b6",
   "metadata": {},
   "source": [
    "这是消去了cp和ICstore后的式子，ICmax并不消去，因为它和叶面积指数LAI的关系式比较复杂。"
   ]
  },
  {
   "cell_type": "markdown",
   "id": "a473c8ff",
   "metadata": {},
   "source": [
    "## W土壤湿度方程"
   ]
  },
  {
   "attachments": {
    "image.png": {
     "image/png": "[encoded data removed]"
    }
   },
   "cell_type": "markdown",
   "id": "3e9f2b35",
   "metadata": {},
   "source": [
    "![image.png](attachment:image.png)\n",
    "这是原始的方程2，注意，不考虑输入径流量$R_{in}$和输出径流量$R_{out}$，那个G开头的变量也不用考虑。\n",
    "当t是离散变量时，比如t是月份，那W的增量就写作$\\Delta W$，当t是连续变量时，那W的增量就写作$dW/dt$，\n",
    "这里为了求解微分方程方便，就假设t是连续变量了。"
   ]
  },
  {
   "cell_type": "code",
   "execution_count": 165,
   "id": "37674ce5",
   "metadata": {},
   "outputs": [
    {
     "data": {
      "text/latex": [
       "$\\displaystyle \\frac{d}{d t} W{\\left(t \\right)} = - a_{2} a_{3} \\left(\\alpha^{*} - a_{1} W{\\left(t \\right)} - 1.8 S{\\left(t \\right)}\\right) \\operatorname{IC}_{max}{\\left(t \\right)} - E{\\left(t \\right)} + P{\\left(t \\right)}$"
      ],
      "text/plain": [
       "Eq(Derivative(W(t), t), -a2*a3*(\\alpha^* - a1*W(t) - 1.8*S(t))*IC_{max}(t) - E(t) + P(t))"
      ]
     },
     "execution_count": 165,
     "metadata": {},
     "output_type": "execute_result"
    }
   ],
   "source": [
    "E=Function('E')\n",
    "eq2=Eq(W(t).diff(),\n",
    "  P(t)-E(t)-ICstore )\n",
    "eq2"
   ]
  },
  {
   "cell_type": "markdown",
   "id": "7c960812",
   "metadata": {},
   "source": [
    "这是**经过了化简的**公式2，是土壤含水量W和方面强度S的关系式。\n",
    "生物量w包含在a1 a2 a3 等变量中了，所以W其实是S和w的函数。"
   ]
  },
  {
   "cell_type": "markdown",
   "id": "dc87b9de",
   "metadata": {},
   "source": [
    "## 方程求解"
   ]
  },
  {
   "cell_type": "code",
   "execution_count": 129,
   "id": "fc68821e",
   "metadata": {
    "scrolled": true
   },
   "outputs": [
    {
     "data": {
      "text/latex": [
       "$\\displaystyle w{\\left(t \\right)} = \\frac{b e^{a t - c \\int S{\\left(t \\right)}\\, dt}}{C_{1} b + a \\int e^{a t} e^{- c \\int S{\\left(t \\right)}\\, dt}\\, dt}$"
      ],
      "text/plain": [
       "Eq(w(t), b*exp(a*t - c*Integral(S(t), t))/(C1*b + a*Integral(exp(a*t)*exp(-c*Integral(S(t), t)), t)))"
      ]
     },
     "execution_count": 129,
     "metadata": {},
     "output_type": "execute_result"
    }
   ],
   "source": [
    "dsolve(eq1, w(t))"
   ]
  },
  {
   "cell_type": "markdown",
   "id": "58e02656",
   "metadata": {},
   "source": [
    "这是方程1的解，即生物量w和放牧强度S的函数关系。"
   ]
  },
  {
   "cell_type": "markdown",
   "id": "d9d82412",
   "metadata": {},
   "source": [
    "$$\n",
    "W(t) = {\\mathrm{e}}^{\\int a_{1}\\,a_{2}\\,a_{3}\\,\\mathrm{ICmax}\\left(t\\right) \\,d t}\\,\\int -\\frac{{\\mathrm{e}}^{-\\int a_{1}\\,a_{2}\\,a_{3}\\,\\mathrm{ICmax}\\left(t\\right) \\,d t}\\,\\left(5\\,E\\left(t\\right)-5\\,P\\left(t\\right)+5\\,a_{2}\\,a_{3}\\,\\alpha \\,\\mathrm{ICmax}\\left(t\\right)-9\\,a_{2}\\,a_{3}\\,\\mathrm{ICmax}\\left(t\\right)\\,S\\left(t\\right)\\right)}{5} \\,d t+C_{1}\\,{\\mathrm{e}}^{\\int a_{1}\\,a_{2}\\,a_{3}\\,\\mathrm{ICmax}\\left(t\\right) \\,d t}\n",
    "$$"
   ]
  },
  {
   "cell_type": "markdown",
   "id": "e5aa87ad",
   "metadata": {},
   "source": [
    "这是方程2的解，即土壤湿度W和放牧强度S的函数关系（实际上还隐藏了和生物量w的关系）。\n",
    "是用以下的MATLAB命令求解的：\n",
    "\n",
    "```matlab\n",
    "dsolve(diff(W)+a2*a3*ICmax(t)*(alpha-a1*W(t)-1.8*S(t))+E(t)-P(t))\n",
    "```"
   ]
  }
 ],
 "metadata": {
  "kernelspec": {
   "display_name": "Python 3 (ipykernel)",
   "language": "python",
   "name": "python3"
  },
  "language_info": {
   "codemirror_mode": {
    "name": "ipython",
    "version": 3
   },
   "file_extension": ".py",
   "mimetype": "text/x-python",
   "name": "python",
   "nbconvert_exporter": "python",
   "pygments_lexer": "ipython3",
   "version": "3.9.7"
  }
 },
 "nbformat": 4,
 "nbformat_minor": 5
}

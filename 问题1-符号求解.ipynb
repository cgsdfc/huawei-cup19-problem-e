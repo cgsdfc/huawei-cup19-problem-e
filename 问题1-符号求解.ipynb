{
 "cells": [
  {
   "cell_type": "code",
   "execution_count": 119,
   "id": "27be3c1a",
   "metadata": {},
   "outputs": [],
   "source": [
    "from sympy import *\n",
    "import sympy\n",
    "from sympy.abc import *"
   ]
  },
  {
   "cell_type": "code",
   "execution_count": 120,
   "id": "e9c034bc",
   "metadata": {},
   "outputs": [
    {
     "data": {
      "text/latex": [
       "$\\displaystyle \\frac{d}{d t} w{\\left(t \\right)} = a \\left(1 - \\frac{w{\\left(t \\right)}}{b}\\right) w{\\left(t \\right)} - c S{\\left(t \\right)} w{\\left(t \\right)}$"
      ],
      "text/plain": [
       "Eq(Derivative(w(t), t), a*(1 - w(t)/b)*w(t) - c*S(t)*w(t))"
      ]
     },
     "execution_count": 120,
     "metadata": {},
     "output_type": "execute_result"
    }
   ],
   "source": [
    "t=Symbol('t', positive=True, integer=True)\n",
    "w=Function('w')\n",
    "a,b,c=symbols('a b c')\n",
    "S=Function('S')\n",
    "k=Symbol('k')\n",
    "P=Function('P')\n",
    "W=Function('W')\n",
    "\n",
    "eq1=Eq(diff(w(t), t), a*w(t)*(1-w(t)/b)-c*S(t)*w(t))\n",
    "eq1"
   ]
  },
  {
   "cell_type": "code",
   "execution_count": 135,
   "id": "53c28bdd",
   "metadata": {},
   "outputs": [
    {
     "data": {
      "text/latex": [
       "$\\displaystyle \\operatorname{IC}_{max}{\\left(t \\right)} = - 0.00575 \\operatorname{LAI}^{2}{\\left(t \\right)} + 0.498 \\operatorname{LAI}{\\left(t \\right)} + 0.935$"
      ],
      "text/plain": [
       "Eq(IC_{max}(t), -0.00575*LAI(t)**2 + 0.498*LAI(t) + 0.935)"
      ]
     },
     "execution_count": 135,
     "metadata": {},
     "output_type": "execute_result"
    }
   ],
   "source": [
    "ICmax=Function('IC_{max}')\n",
    "LAI=Function('LAI')\n",
    "eq5=Eq(\n",
    "ICmax(t), (0.935)+ LAI(t)*(0.498) - (LAI(t)**2)*(0.00575)\n",
    ")\n",
    "eq5"
   ]
  },
  {
   "cell_type": "code",
   "execution_count": 132,
   "id": "3212ac80",
   "metadata": {},
   "outputs": [
    {
     "data": {
      "text/latex": [
       "$\\displaystyle \\operatorname{cp}{\\left(t \\right)} = \\left(1 - e^{- \\frac{\\epsilon_{g} w{\\left(t \\right)}}{w^{*}}}\\right) \\left(\\alpha^{*} - \\left(1 - e^{\\frac{\\epsilon_{g} w{\\left(t \\right)}}{w^{*}}}\\right) W{\\left(t \\right)} - 1.8 S{\\left(t \\right)}\\right)$"
      ],
      "text/plain": [
       "Eq(cp(t), (1 - exp(-\\epsilon_g*w(t)/w^*))*(\\alpha^* - (1 - exp(\\epsilon_g*w(t)/w^*))*W(t) - 1.8*S(t)))"
      ]
     },
     "execution_count": 132,
     "metadata": {},
     "output_type": "execute_result"
    }
   ],
   "source": [
    "cp=Function('cp')\n",
    "eq3=Eq(\n",
    "    cp(t), ((1-exp(-eg*w(t)/w_star)) * \n",
    "   (alpha_star - W(t)* (1-exp(eg*w(t)/w_star))-1.8*S(t)))\n",
    ")\n",
    "eq3"
   ]
  },
  {
   "cell_type": "code",
   "execution_count": 154,
   "id": "94a72f66",
   "metadata": {},
   "outputs": [
    {
     "data": {
      "text/latex": [
       "$\\displaystyle \\left(1 - e^{- \\frac{\\epsilon_{g} w{\\left(t \\right)}}{w^{*}}}\\right) \\left(\\alpha^{*} - \\left(1 - e^{\\frac{\\epsilon_{g} w{\\left(t \\right)}}{w^{*}}}\\right) W{\\left(t \\right)} - 1.8 S{\\left(t \\right)}\\right)$"
      ],
      "text/plain": [
       "(1 - exp(-\\epsilon_g*w(t)/w^*))*(\\alpha^* - (1 - exp(\\epsilon_g*w(t)/w^*))*W(t) - 1.8*S(t))"
      ]
     },
     "execution_count": 154,
     "metadata": {},
     "output_type": "execute_result"
    }
   ],
   "source": [
    "cp=((1-exp(-eg*w(t)/w_star)) * \n",
    "   (alpha_star - W(t)* (1-exp(eg*w(t)/w_star))-1.8*S(t)))\n",
    "cp"
   ]
  },
  {
   "cell_type": "code",
   "execution_count": 138,
   "id": "d0e1298d",
   "metadata": {},
   "outputs": [
    {
     "data": {
      "text/latex": [
       "$\\displaystyle \\operatorname{ICstore}{\\left(t \\right)} = \\left(1 - e^{- \\frac{k P{\\left(t \\right)}}{\\operatorname{IC}_{max}{\\left(t \\right)}}}\\right) \\operatorname{IC}_{max}{\\left(t \\right)} \\operatorname{cp}{\\left(t \\right)}$"
      ],
      "text/plain": [
       "Eq(ICstore(t), (1 - exp(-k*P(t)/IC_{max}(t)))*IC_{max}(t)*cp(t))"
      ]
     },
     "execution_count": 138,
     "metadata": {},
     "output_type": "execute_result"
    }
   ],
   "source": [
    "ICstore=Function('ICstore')\n",
    "\n",
    "eq4=Eq(\n",
    "    ICstore(t), cp(t) *ICmax(t) *(1-exp(-k*P(t)/ICmax(t)))\n",
    ")\n",
    "eq4"
   ]
  },
  {
   "cell_type": "code",
   "execution_count": 155,
   "id": "48e056ae",
   "metadata": {},
   "outputs": [
    {
     "data": {
      "text/latex": [
       "$\\displaystyle \\left(1 - e^{- \\frac{\\epsilon_{g} w{\\left(t \\right)}}{w^{*}}}\\right) \\left(1 - e^{- \\frac{k P{\\left(t \\right)}}{\\operatorname{IC}_{max}{\\left(t \\right)}}}\\right) \\left(\\alpha^{*} - \\left(1 - e^{\\frac{\\epsilon_{g} w{\\left(t \\right)}}{w^{*}}}\\right) W{\\left(t \\right)} - 1.8 S{\\left(t \\right)}\\right) \\operatorname{IC}_{max}{\\left(t \\right)}$"
      ],
      "text/plain": [
       "(1 - exp(-\\epsilon_g*w(t)/w^*))*(1 - exp(-k*P(t)/IC_{max}(t)))*(\\alpha^* - (1 - exp(\\epsilon_g*w(t)/w^*))*W(t) - 1.8*S(t))*IC_{max}(t)"
      ]
     },
     "execution_count": 155,
     "metadata": {},
     "output_type": "execute_result"
    }
   ],
   "source": [
    "ICstore=cp *ICmax(t) *(1-exp(-k*P(t)/ICmax(t)))\n",
    "ICstore"
   ]
  },
  {
   "cell_type": "code",
   "execution_count": 139,
   "id": "2db2dc91",
   "metadata": {},
   "outputs": [],
   "source": [
    "alpha_star=Symbol(r'\\alpha^*')\n",
    "eg=Symbol(r'\\epsilon_g')\n",
    "w_star=Symbol(r'w^*')"
   ]
  },
  {
   "cell_type": "code",
   "execution_count": 156,
   "id": "e77385ae",
   "metadata": {},
   "outputs": [
    {
     "data": {
      "text/latex": [
       "$\\displaystyle \\frac{d}{d t} W{\\left(t \\right)} = - \\left(1 - e^{- \\frac{\\epsilon_{g} w{\\left(t \\right)}}{w^{*}}}\\right) \\left(1 - e^{- \\frac{k P{\\left(t \\right)}}{\\operatorname{IC}_{max}{\\left(t \\right)}}}\\right) \\left(\\alpha^{*} - \\left(1 - e^{\\frac{\\epsilon_{g} w{\\left(t \\right)}}{w^{*}}}\\right) W{\\left(t \\right)} - 1.8 S{\\left(t \\right)}\\right) \\operatorname{IC}_{max}{\\left(t \\right)} - E{\\left(t \\right)} + P{\\left(t \\right)}$"
      ],
      "text/plain": [
       "Eq(Derivative(W(t), t), -(1 - exp(-\\epsilon_g*w(t)/w^*))*(1 - exp(-k*P(t)/IC_{max}(t)))*(\\alpha^* - (1 - exp(\\epsilon_g*w(t)/w^*))*W(t) - 1.8*S(t))*IC_{max}(t) - E(t) + P(t))"
      ]
     },
     "execution_count": 156,
     "metadata": {},
     "output_type": "execute_result"
    }
   ],
   "source": [
    "E=Function('E')\n",
    "eq2=Eq(W(t).diff(),\n",
    "  P(t)-E(t)-ICstore )\n",
    "eq2"
   ]
  },
  {
   "cell_type": "code",
   "execution_count": 129,
   "id": "5684b6ab",
   "metadata": {
    "scrolled": true
   },
   "outputs": [
    {
     "data": {
      "text/latex": [
       "$\\displaystyle w{\\left(t \\right)} = \\frac{b e^{a t - c \\int S{\\left(t \\right)}\\, dt}}{C_{1} b + a \\int e^{a t} e^{- c \\int S{\\left(t \\right)}\\, dt}\\, dt}$"
      ],
      "text/plain": [
       "Eq(w(t), b*exp(a*t - c*Integral(S(t), t))/(C1*b + a*Integral(exp(a*t)*exp(-c*Integral(S(t), t)), t)))"
      ]
     },
     "execution_count": 129,
     "metadata": {},
     "output_type": "execute_result"
    }
   ],
   "source": [
    "dsolve(eq1, w(t))"
   ]
  },
  {
   "cell_type": "code",
   "execution_count": 158,
   "id": "5daf7c44",
   "metadata": {},
   "outputs": [
    {
     "ename": "NotImplementedError",
     "evalue": "",
     "output_type": "error",
     "traceback": [
      "\u001b[1;31m---------------------------------------------------------------------------\u001b[0m",
      "\u001b[1;31mNotImplementedError\u001b[0m                       Traceback (most recent call last)",
      "Input \u001b[1;32mIn [158]\u001b[0m, in \u001b[0;36m<cell line: 1>\u001b[1;34m()\u001b[0m\n\u001b[1;32m----> 1\u001b[0m \u001b[43mdsolve\u001b[49m\u001b[43m(\u001b[49m\u001b[43m[\u001b[49m\u001b[43meq1\u001b[49m\u001b[43m,\u001b[49m\u001b[43m \u001b[49m\u001b[43meq2\u001b[49m\u001b[43m]\u001b[49m\u001b[43m,\u001b[49m\u001b[43m \u001b[49m\u001b[43m[\u001b[49m\u001b[43mw\u001b[49m\u001b[43m(\u001b[49m\u001b[43mt\u001b[49m\u001b[43m)\u001b[49m\u001b[43m,\u001b[49m\u001b[43mW\u001b[49m\u001b[43m(\u001b[49m\u001b[43mt\u001b[49m\u001b[43m)\u001b[49m\u001b[43m]\u001b[49m\u001b[43m)\u001b[49m\n",
      "File \u001b[1;32mD:\\miniconda3\\lib\\site-packages\\sympy\\solvers\\ode\\ode.py:589\u001b[0m, in \u001b[0;36mdsolve\u001b[1;34m(eq, func, hint, simplify, ics, xi, eta, x0, n, **kwargs)\u001b[0m\n\u001b[0;32m    586\u001b[0m     \u001b[38;5;28;01mraise\u001b[39;00m \u001b[38;5;167;01mValueError\u001b[39;00m(\u001b[38;5;124m\"\u001b[39m\u001b[38;5;124mdsolve() and classify_sysode() work with \u001b[39m\u001b[38;5;124m\"\u001b[39m\n\u001b[0;32m    587\u001b[0m     \u001b[38;5;124m\"\u001b[39m\u001b[38;5;124mnumber of functions being equal to number of equations\u001b[39m\u001b[38;5;124m\"\u001b[39m)\n\u001b[0;32m    588\u001b[0m \u001b[38;5;28;01mif\u001b[39;00m match[\u001b[38;5;124m'\u001b[39m\u001b[38;5;124mtype_of_equation\u001b[39m\u001b[38;5;124m'\u001b[39m] \u001b[38;5;129;01mis\u001b[39;00m \u001b[38;5;28;01mNone\u001b[39;00m:\n\u001b[1;32m--> 589\u001b[0m     \u001b[38;5;28;01mraise\u001b[39;00m \u001b[38;5;167;01mNotImplementedError\u001b[39;00m\n\u001b[0;32m    590\u001b[0m \u001b[38;5;28;01melse\u001b[39;00m:\n\u001b[0;32m    591\u001b[0m     \u001b[38;5;28;01mif\u001b[39;00m match[\u001b[38;5;124m'\u001b[39m\u001b[38;5;124mis_linear\u001b[39m\u001b[38;5;124m'\u001b[39m] \u001b[38;5;241m==\u001b[39m \u001b[38;5;28;01mTrue\u001b[39;00m:\n",
      "\u001b[1;31mNotImplementedError\u001b[0m: "
     ]
    }
   ],
   "source": [
    "dsolve([eq1, eq2], [w(t),W(t)])"
   ]
  }
 ],
 "metadata": {
  "kernelspec": {
   "display_name": "Python 3 (ipykernel)",
   "language": "python",
   "name": "python3"
  },
  "language_info": {
   "codemirror_mode": {
    "name": "ipython",
    "version": 3
   },
   "file_extension": ".py",
   "mimetype": "text/x-python",
   "name": "python",
   "nbconvert_exporter": "python",
   "pygments_lexer": "ipython3",
   "version": "3.9.7"
  }
 },
 "nbformat": 4,
 "nbformat_minor": 5
}

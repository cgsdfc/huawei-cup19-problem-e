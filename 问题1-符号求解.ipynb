{
 "cells": [
  {
   "cell_type": "code",
   "execution_count": 119,
   "id": "93a41a3f",
   "metadata": {},
   "outputs": [],
   "source": [
    "from sympy import *\n",
    "import sympy\n",
    "from sympy.abc import *"
   ]
  },
  {
   "cell_type": "markdown",
   "id": "4770f39c",
   "metadata": {},
   "source": [
    "## w生物量方程"
   ]
  },
  {
   "cell_type": "code",
   "execution_count": 120,
   "id": "459f9ae7",
   "metadata": {},
   "outputs": [
    {
     "data": {
      "text/latex": [
       "$\\displaystyle \\frac{d}{d t} w{\\left(t \\right)} = a \\left(1 - \\frac{w{\\left(t \\right)}}{b}\\right) w{\\left(t \\right)} - c S{\\left(t \\right)} w{\\left(t \\right)}$"
      ],
      "text/plain": [
       "Eq(Derivative(w(t), t), a*(1 - w(t)/b)*w(t) - c*S(t)*w(t))"
      ]
     },
     "execution_count": 120,
     "metadata": {},
     "output_type": "execute_result"
    }
   ],
   "source": [
    "t=Symbol('t', positive=True, integer=True)\n",
    "w=Function('w')\n",
    "a,b,c=symbols('a b c')\n",
    "S=Function('S')\n",
    "k=Symbol('k')\n",
    "P=Function('P')\n",
    "W=Function('W')\n",
    "\n",
    "eq1=Eq(diff(w(t), t), a*w(t)*(1-w(t)/b)-c*S(t)*w(t))\n",
    "eq1"
   ]
  },
  {
   "cell_type": "code",
   "execution_count": 135,
   "id": "b4bb74d8",
   "metadata": {},
   "outputs": [
    {
     "data": {
      "text/latex": [
       "$\\displaystyle \\operatorname{IC}_{max}{\\left(t \\right)} = - 0.00575 \\operatorname{LAI}^{2}{\\left(t \\right)} + 0.498 \\operatorname{LAI}{\\left(t \\right)} + 0.935$"
      ],
      "text/plain": [
       "Eq(IC_{max}(t), -0.00575*LAI(t)**2 + 0.498*LAI(t) + 0.935)"
      ]
     },
     "execution_count": 135,
     "metadata": {},
     "output_type": "execute_result"
    }
   ],
   "source": [
    "ICmax=Function('IC_{max}')\n",
    "LAI=Function('LAI')\n",
    "eq5=Eq(\n",
    "ICmax(t), (0.935)+ LAI(t)*(0.498) - (LAI(t)**2)*(0.00575)\n",
    ")\n",
    "eq5"
   ]
  },
  {
   "cell_type": "code",
   "execution_count": 159,
   "id": "3373d6de",
   "metadata": {},
   "outputs": [
    {
     "data": {
      "text/latex": [
       "$\\displaystyle \\operatorname{cp}{\\left(t \\right)} = a_{2} \\left(\\alpha^{*} - a_{1} W{\\left(t \\right)} - 1.8 S{\\left(t \\right)}\\right)$"
      ],
      "text/plain": [
       "Eq(cp(t), a2*(\\alpha^* - a1*W(t) - 1.8*S(t)))"
      ]
     },
     "execution_count": 159,
     "metadata": {},
     "output_type": "execute_result"
    }
   ],
   "source": [
    "cp=Function('cp')\n",
    "a1=Symbol('a1') # (1-exp(eg*w(t)/w_star)\n",
    "a2=Symbol('a2') # (1-exp(-eg*w(t)/w_star)\n",
    "\n",
    "eq3=Eq(\n",
    "    cp(t), a2 * \n",
    "   (alpha_star - W(t)* a1-1.8*S(t))\n",
    ")\n",
    "eq3"
   ]
  },
  {
   "cell_type": "code",
   "execution_count": 160,
   "id": "d5fe88a7",
   "metadata": {},
   "outputs": [
    {
     "data": {
      "text/latex": [
       "$\\displaystyle a_{2} \\left(\\alpha^{*} - a_{1} W{\\left(t \\right)} - 1.8 S{\\left(t \\right)}\\right)$"
      ],
      "text/plain": [
       "a2*(\\alpha^* - a1*W(t) - 1.8*S(t))"
      ]
     },
     "execution_count": 160,
     "metadata": {},
     "output_type": "execute_result"
    }
   ],
   "source": [
    "cp=a2 * \\\n",
    "   (alpha_star - W(t)* a1-1.8*S(t))\n",
    "cp"
   ]
  },
  {
   "cell_type": "code",
   "execution_count": 162,
   "id": "3413845a",
   "metadata": {},
   "outputs": [
    {
     "data": {
      "text/latex": [
       "$\\displaystyle \\operatorname{ICstore}{\\left(t \\right)} = a_{2} a_{3} \\left(\\alpha^{*} - a_{1} W{\\left(t \\right)} - 1.8 S{\\left(t \\right)}\\right) \\operatorname{IC}_{max}{\\left(t \\right)}$"
      ],
      "text/plain": [
       "Eq(ICstore(t), a2*a3*(\\alpha^* - a1*W(t) - 1.8*S(t))*IC_{max}(t))"
      ]
     },
     "execution_count": 162,
     "metadata": {},
     "output_type": "execute_result"
    }
   ],
   "source": [
    "ICstore=Function('ICstore')\n",
    "a3=Symbol('a3') # (1-exp(-k*P(t)/ICmax(t)))\n",
    "eq4=Eq(\n",
    "    ICstore(t), cp *ICmax(t) * a3\n",
    ")\n",
    "eq4"
   ]
  },
  {
   "cell_type": "code",
   "execution_count": 164,
   "id": "4928bbf1",
   "metadata": {},
   "outputs": [
    {
     "data": {
      "text/latex": [
       "$\\displaystyle a_{2} a_{3} \\left(\\alpha^{*} - a_{1} W{\\left(t \\right)} - 1.8 S{\\left(t \\right)}\\right) \\operatorname{IC}_{max}{\\left(t \\right)}$"
      ],
      "text/plain": [
       "a2*a3*(\\alpha^* - a1*W(t) - 1.8*S(t))*IC_{max}(t)"
      ]
     },
     "execution_count": 164,
     "metadata": {},
     "output_type": "execute_result"
    }
   ],
   "source": [
    "ICstore=cp *ICmax(t) * a3\n",
    "ICstore"
   ]
  },
  {
   "cell_type": "code",
   "execution_count": 139,
   "id": "3a63d7e7",
   "metadata": {},
   "outputs": [],
   "source": [
    "alpha_star=Symbol(r'\\alpha^*')\n",
    "eg=Symbol(r'\\epsilon_g')\n",
    "w_star=Symbol(r'w^*')"
   ]
  },
  {
   "cell_type": "markdown",
   "id": "7829be00",
   "metadata": {},
   "source": [
    "## W土壤湿度方程"
   ]
  },
  {
   "cell_type": "code",
   "execution_count": 165,
   "id": "cb3add34",
   "metadata": {},
   "outputs": [
    {
     "data": {
      "text/latex": [
       "$\\displaystyle \\frac{d}{d t} W{\\left(t \\right)} = - a_{2} a_{3} \\left(\\alpha^{*} - a_{1} W{\\left(t \\right)} - 1.8 S{\\left(t \\right)}\\right) \\operatorname{IC}_{max}{\\left(t \\right)} - E{\\left(t \\right)} + P{\\left(t \\right)}$"
      ],
      "text/plain": [
       "Eq(Derivative(W(t), t), -a2*a3*(\\alpha^* - a1*W(t) - 1.8*S(t))*IC_{max}(t) - E(t) + P(t))"
      ]
     },
     "execution_count": 165,
     "metadata": {},
     "output_type": "execute_result"
    }
   ],
   "source": [
    "E=Function('E')\n",
    "eq2=Eq(W(t).diff(),\n",
    "  P(t)-E(t)-ICstore )\n",
    "eq2"
   ]
  },
  {
   "cell_type": "markdown",
   "id": "4112509c",
   "metadata": {},
   "source": [
    "## 方程求解"
   ]
  },
  {
   "cell_type": "code",
   "execution_count": 129,
   "id": "c5e9eca9",
   "metadata": {
    "scrolled": true
   },
   "outputs": [
    {
     "data": {
      "text/latex": [
       "$\\displaystyle w{\\left(t \\right)} = \\frac{b e^{a t - c \\int S{\\left(t \\right)}\\, dt}}{C_{1} b + a \\int e^{a t} e^{- c \\int S{\\left(t \\right)}\\, dt}\\, dt}$"
      ],
      "text/plain": [
       "Eq(w(t), b*exp(a*t - c*Integral(S(t), t))/(C1*b + a*Integral(exp(a*t)*exp(-c*Integral(S(t), t)), t)))"
      ]
     },
     "execution_count": 129,
     "metadata": {},
     "output_type": "execute_result"
    }
   ],
   "source": [
    "dsolve(eq1, w(t))"
   ]
  },
  {
   "cell_type": "markdown",
   "id": "2e482721",
   "metadata": {},
   "source": [
    "$$\n",
    "\\left(\\begin{array}{c} \\frac{{\\mathrm{e}}^{\\int a-c\\,S\\left(t\\right) \\,d t}}{C_{1}-\\int -\\frac{a\\,{\\mathrm{e}}^{\\int a-c\\,S\\left(t\\right) \\,d t}}{b} \\,d t}\\\\ 0 \\end{array}\\right)\n",
    "$$"
   ]
  },
  {
   "cell_type": "code",
   "execution_count": null,
   "id": "feea9310",
   "metadata": {},
   "outputs": [],
   "source": []
  },
  {
   "cell_type": "markdown",
   "id": "591b37bd",
   "metadata": {},
   "source": [
    "$$\n",
    "{\\mathrm{e}}^{\\int a_{1}\\,a_{2}\\,a_{3}\\,\\mathrm{ICmax}\\left(t\\right) \\,d t}\\,\\int -\\frac{{\\mathrm{e}}^{-\\int a_{1}\\,a_{2}\\,a_{3}\\,\\mathrm{ICmax}\\left(t\\right) \\,d t}\\,\\left(5\\,E\\left(t\\right)-5\\,P\\left(t\\right)+5\\,a_{2}\\,a_{3}\\,\\alpha \\,\\mathrm{ICmax}\\left(t\\right)-9\\,a_{2}\\,a_{3}\\,\\mathrm{ICmax}\\left(t\\right)\\,S\\left(t\\right)\\right)}{5} \\,d t+C_{1}\\,{\\mathrm{e}}^{\\int a_{1}\\,a_{2}\\,a_{3}\\,\\mathrm{ICmax}\\left(t\\right) \\,d t}\n",
    "$$"
   ]
  }
 ],
 "metadata": {
  "kernelspec": {
   "display_name": "Python 3 (ipykernel)",
   "language": "python",
   "name": "python3"
  },
  "language_info": {
   "codemirror_mode": {
    "name": "ipython",
    "version": 3
   },
   "file_extension": ".py",
   "mimetype": "text/x-python",
   "name": "python",
   "nbconvert_exporter": "python",
   "pygments_lexer": "ipython3",
   "version": "3.9.7"
  }
 },
 "nbformat": 4,
 "nbformat_minor": 5
}

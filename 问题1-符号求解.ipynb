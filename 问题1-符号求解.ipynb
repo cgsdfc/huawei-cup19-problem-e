{
 "cells": [
  {
   "cell_type": "code",
   "execution_count": 63,
   "id": "0a8e78a2",
   "metadata": {},
   "outputs": [],
   "source": [
    "from sympy import *\n",
    "import sympy\n",
    "from sympy.abc import *"
   ]
  },
  {
   "cell_type": "code",
   "execution_count": 64,
   "id": "2e3554c9",
   "metadata": {},
   "outputs": [
    {
     "data": {
      "text/latex": [
       "$\\displaystyle \\frac{d}{d t} w{\\left(t \\right)} = a \\left(1 - \\frac{w{\\left(t \\right)}}{b}\\right) w{\\left(t \\right)} - c S{\\left(t \\right)} w{\\left(t \\right)}$"
      ],
      "text/plain": [
       "Eq(Derivative(w(t), t), a*(1 - w(t)/b)*w(t) - c*S(t)*w(t))"
      ]
     },
     "execution_count": 64,
     "metadata": {},
     "output_type": "execute_result"
    }
   ],
   "source": [
    "t=Symbol('t', positive=True, integer=True)\n",
    "w=Function('w')\n",
    "a,b,c=symbols('a b c')\n",
    "S=Function('S')\n",
    "eq1=Eq(diff(w(t), t), a*w(t)*(1-w(t)/b)-c*S(t)*w(t))\n",
    "eq1"
   ]
  },
  {
   "cell_type": "code",
   "execution_count": 65,
   "id": "31b80ac6",
   "metadata": {},
   "outputs": [
    {
     "data": {
      "text/latex": [
       "$\\displaystyle \\operatorname{IC}_{max}{\\left(t \\right)} = - 0.00575 \\operatorname{LAI}^{2}{\\left(t \\right)} + 0.498 \\operatorname{LAI}{\\left(t \\right)} + 0.935$"
      ],
      "text/plain": [
       "Eq(IC_{max}(t), -0.00575*LAI(t)**2 + 0.498*LAI(t) + 0.935)"
      ]
     },
     "execution_count": 65,
     "metadata": {},
     "output_type": "execute_result"
    }
   ],
   "source": [
    "ICmax=Function('IC_{max}')\n",
    "LAI=Function('LAI')\n",
    "eq5=Eq(ICmax(t), (0.935)+ LAI(t)*(0.498) - (LAI(t)**2)*(0.00575))\n",
    "eq5"
   ]
  },
  {
   "cell_type": "code",
   "execution_count": 72,
   "id": "e32a704c",
   "metadata": {},
   "outputs": [
    {
     "data": {
      "text/latex": [
       "$\\displaystyle \\operatorname{IC}_{store}{\\left(t \\right)} = \\left(1 - e^{- \\frac{k P{\\left(t \\right)}}{\\operatorname{IC}_{max}{\\left(t \\right)}}}\\right) \\operatorname{IC}_{max}{\\left(t \\right)} c_{p}{\\left(t \\right)}$"
      ],
      "text/plain": [
       "Eq(IC_{store}(t), (1 - exp(-k*P(t)/IC_{max}(t)))*IC_{max}(t)*c_p(t))"
      ]
     },
     "execution_count": 72,
     "metadata": {},
     "output_type": "execute_result"
    }
   ],
   "source": [
    "ICstore=Function('IC_{store}')\n",
    "cp=Function('c_p')\n",
    "k=Symbol('k')\n",
    "P=Function('P')\n",
    "W=Function('W')\n",
    "eq4=Eq(ICstore(t), cp(t)*ICmax(t)*(1-exp(-k*P(t)/ICmax(t))))\n",
    "eq4"
   ]
  },
  {
   "cell_type": "code",
   "execution_count": 74,
   "id": "26c79623",
   "metadata": {},
   "outputs": [],
   "source": [
    "alpha_star=Symbol(r'\\alpha^*')\n",
    "eg=Symbol(r'\\epsilon_g')\n",
    "w_star=Symbol(r'w^*')"
   ]
  },
  {
   "cell_type": "code",
   "execution_count": 85,
   "id": "1132f8d2",
   "metadata": {},
   "outputs": [
    {
     "data": {
      "text/latex": [
       "$\\displaystyle c_{p}{\\left(t \\right)} = \\left(1 - e^{- \\frac{\\epsilon_{g} w{\\left(t \\right)}}{w^{*}}}\\right) \\left(\\alpha^{*} - \\left(1 - e^{\\frac{\\epsilon_{g} w{\\left(t \\right)}}{w^{*}}}\\right) W{\\left(t \\right)} - 1.8 S{\\left(t \\right)}\\right)$"
      ],
      "text/plain": [
       "Eq(c_p(t), (1 - exp(-\\epsilon_g*w(t)/w^*))*(\\alpha^* - (1 - exp(\\epsilon_g*w(t)/w^*))*W(t) - 1.8*S(t)))"
      ]
     },
     "execution_count": 85,
     "metadata": {},
     "output_type": "execute_result"
    }
   ],
   "source": [
    "eq3=Eq(cp(t), (1-exp(-eg*w(t)/w_star)) * \n",
    "   (alpha_star - W(t)* (1-exp(eg*w(t)/w_star))-1.8*S(t))\n",
    "  )\n",
    "eq3"
   ]
  },
  {
   "cell_type": "code",
   "execution_count": 89,
   "id": "c8115dae",
   "metadata": {},
   "outputs": [
    {
     "data": {
      "text/latex": [
       "$\\displaystyle \\frac{d}{d t} W{\\left(t \\right)} = - E{\\left(t \\right)} - \\operatorname{IC}_{store}{\\left(t \\right)} + P{\\left(t \\right)}$"
      ],
      "text/plain": [
       "Eq(Derivative(W(t), t), -E(t) - IC_{store}(t) + P(t))"
      ]
     },
     "execution_count": 89,
     "metadata": {},
     "output_type": "execute_result"
    }
   ],
   "source": [
    "E=Function('E')\n",
    "eq2=Eq(W(t).diff(),\n",
    "  P(t)-E(t)-ICstore(t)\n",
    "  )\n",
    "eq2"
   ]
  },
  {
   "cell_type": "code",
   "execution_count": 91,
   "id": "34ef2759",
   "metadata": {},
   "outputs": [
    {
     "data": {
      "text/plain": [
       "[Eq(Derivative(w(t), t), a*(1 - w(t)/b)*w(t) - c*S(t)*w(t)),\n",
       " Eq(Derivative(W(t), t), -E(t) - IC_{store}(t) + P(t)),\n",
       " Eq(c_p(t), (1 - exp(-\\epsilon_g*w(t)/w^*))*(\\alpha^* - (1 - exp(\\epsilon_g*w(t)/w^*))*W(t) - 1.8*S(t))),\n",
       " Eq(IC_{store}(t), (1 - exp(-k*P(t)/IC_{max}(t)))*IC_{max}(t)*c_p(t)),\n",
       " Eq(IC_{max}(t), -0.00575*LAI(t)**2 + 0.498*LAI(t) + 0.935)]"
      ]
     },
     "execution_count": 91,
     "metadata": {},
     "output_type": "execute_result"
    }
   ],
   "source": [
    "eqlist=[eq1,eq2,eq3,eq4,eq5]\n",
    "eqlist"
   ]
  },
  {
   "cell_type": "code",
   "execution_count": null,
   "id": "25f1c2b5",
   "metadata": {},
   "outputs": [],
   "source": []
  }
 ],
 "metadata": {
  "kernelspec": {
   "display_name": "Python 3 (ipykernel)",
   "language": "python",
   "name": "python3"
  },
  "language_info": {
   "codemirror_mode": {
    "name": "ipython",
    "version": 3
   },
   "file_extension": ".py",
   "mimetype": "text/x-python",
   "name": "python",
   "nbconvert_exporter": "python",
   "pygments_lexer": "ipython3",
   "version": "3.9.7"
  }
 },
 "nbformat": 4,
 "nbformat_minor": 5
}

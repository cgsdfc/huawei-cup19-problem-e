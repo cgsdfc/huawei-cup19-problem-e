{
 "cells": [
  {
   "cell_type": "code",
   "execution_count": 9,
   "id": "74d806f4",
   "metadata": {},
   "outputs": [],
   "source": [
    "import pandas as pd\n",
    "import numpy as np\n",
    "import seaborn as sns\n",
    "from pathlib import Path as P\n",
    "import matplotlib.pyplot as plt\n",
    "plt.rcParams['font.sans-serif'] = ['KaiTi', 'SimHei', 'FangSong']  # 汉字字体,优先使用楷体，如果找不到楷体，则使用黑体\n",
    "plt.rcParams['font.size'] = 12  # 字体大小\n",
    "plt.rcParams['axes.unicode_minus'] = False  # 正常显示负号\n",
    "from collections import defaultdict\n",
    "import plotly.express as px\n",
    "import pickle\n",
    "from sklearn.preprocessing import StandardScaler, MinMaxScaler\n",
    "from sklearn.model_selection import train_test_split\n",
    "\n",
    "import tensorflow.keras as keras"
   ]
  },
  {
   "cell_type": "code",
   "execution_count": 10,
   "id": "a4207b3a",
   "metadata": {},
   "outputs": [],
   "source": [
    "learning_rate=0.001\n",
    "train_size=0.8\n",
    "bs=32\n",
    "epochs=200\n",
    "feature_size=1"
   ]
  },
  {
   "cell_type": "markdown",
   "id": "3d4f3674",
   "metadata": {},
   "source": [
    "这些是模型的超参数。\n",
    "- learning_rate 是学习率，控制模型收敛的快慢，太大了模型容易发散，太小了模型收敛很慢；\n",
    "- train_size 训练集占整个数据集的比例，一般是28开；\n",
    "- bs：batch size，批量大小，随机梯度下降算法SGD中，每次用来估计梯度的训练样本数量；\n",
    "考虑到数据集本身只有100多个样本，批量不用太大；\n",
    "- epochs：训练的轮数，即迭代次数；"
   ]
  },
  {
   "cell_type": "code",
   "execution_count": 11,
   "id": "e2d95214",
   "metadata": {},
   "outputs": [],
   "source": [
    "df_list=pickle.load(open('问题3-分组数据.pkl','rb'))\n",
    "scaler=pickle.load(open('问题3-scaler.pkl', 'rb'))\n",
    "NUMERIC=pickle.load(open('问题3-因变量列名.pkl', 'rb'))\n",
    "output_size=len(NUMERIC)"
   ]
  },
  {
   "cell_type": "code",
   "execution_count": 12,
   "id": "c6f5dc51",
   "metadata": {},
   "outputs": [
    {
     "data": {
      "text/html": [
       "<div>\n",
       "<style scoped>\n",
       "    .dataframe tbody tr th:only-of-type {\n",
       "        vertical-align: middle;\n",
       "    }\n",
       "\n",
       "    .dataframe tbody tr th {\n",
       "        vertical-align: top;\n",
       "    }\n",
       "\n",
       "    .dataframe thead th {\n",
       "        text-align: right;\n",
       "    }\n",
       "</style>\n",
       "<table border=\"1\" class=\"dataframe\">\n",
       "  <thead>\n",
       "    <tr style=\"text-align: right;\">\n",
       "      <th></th>\n",
       "      <th>year</th>\n",
       "      <th>SOC土壤有机碳</th>\n",
       "      <th>SIC土壤无机碳</th>\n",
       "      <th>STC土壤全碳</th>\n",
       "      <th>全氮N</th>\n",
       "      <th>土壤C/N比</th>\n",
       "    </tr>\n",
       "  </thead>\n",
       "  <tbody>\n",
       "    <tr>\n",
       "      <th>0</th>\n",
       "      <td>0</td>\n",
       "      <td>-1.614686</td>\n",
       "      <td>1.445963</td>\n",
       "      <td>0.525585</td>\n",
       "      <td>-2.058148</td>\n",
       "      <td>1.784696</td>\n",
       "    </tr>\n",
       "    <tr>\n",
       "      <th>12</th>\n",
       "      <td>2</td>\n",
       "      <td>-1.167833</td>\n",
       "      <td>0.219368</td>\n",
       "      <td>-0.566259</td>\n",
       "      <td>-0.773713</td>\n",
       "      <td>0.140593</td>\n",
       "    </tr>\n",
       "    <tr>\n",
       "      <th>24</th>\n",
       "      <td>4</td>\n",
       "      <td>0.614059</td>\n",
       "      <td>-0.780412</td>\n",
       "      <td>-0.463855</td>\n",
       "      <td>0.263030</td>\n",
       "      <td>-0.472703</td>\n",
       "    </tr>\n",
       "    <tr>\n",
       "      <th>36</th>\n",
       "      <td>6</td>\n",
       "      <td>0.066401</td>\n",
       "      <td>-0.667004</td>\n",
       "      <td>-0.717339</td>\n",
       "      <td>0.374028</td>\n",
       "      <td>-0.713805</td>\n",
       "    </tr>\n",
       "    <tr>\n",
       "      <th>48</th>\n",
       "      <td>8</td>\n",
       "      <td>1.038093</td>\n",
       "      <td>-1.413813</td>\n",
       "      <td>-0.892375</td>\n",
       "      <td>1.277783</td>\n",
       "      <td>-1.372190</td>\n",
       "    </tr>\n",
       "  </tbody>\n",
       "</table>\n",
       "</div>"
      ],
      "text/plain": [
       "    year  SOC土壤有机碳  SIC土壤无机碳   STC土壤全碳       全氮N    土壤C/N比\n",
       "0      0 -1.614686  1.445963  0.525585 -2.058148  1.784696\n",
       "12     2 -1.167833  0.219368 -0.566259 -0.773713  0.140593\n",
       "24     4  0.614059 -0.780412 -0.463855  0.263030 -0.472703\n",
       "36     6  0.066401 -0.667004 -0.717339  0.374028 -0.713805\n",
       "48     8  1.038093 -1.413813 -0.892375  1.277783 -1.372190"
      ]
     },
     "execution_count": 12,
     "metadata": {},
     "output_type": "execute_result"
    }
   ],
   "source": [
    "df_train=df_list[0][1]\n",
    "df_train"
   ]
  },
  {
   "cell_type": "code",
   "execution_count": 37,
   "id": "a680fc86",
   "metadata": {},
   "outputs": [
    {
     "data": {
      "text/plain": [
       "('HGI', 'G13')"
      ]
     },
     "execution_count": 37,
     "metadata": {},
     "output_type": "execute_result"
    }
   ],
   "source": [
    "df_list[0][0]"
   ]
  },
  {
   "cell_type": "code",
   "execution_count": 21,
   "id": "a1bed2b3",
   "metadata": {},
   "outputs": [
    {
     "name": "stdout",
     "output_type": "stream",
     "text": [
      "Model: \"model_4\"\n",
      "_________________________________________________________________\n",
      " Layer (type)                Output Shape              Param #   \n",
      "=================================================================\n",
      " input_5 (InputLayer)        [(None, 1)]               0         \n",
      "                                                                 \n",
      " dense_8 (Dense)             (None, 16)                32        \n",
      "                                                                 \n",
      " dense_9 (Dense)             (None, 5)                 85        \n",
      "                                                                 \n",
      "=================================================================\n",
      "Total params: 117\n",
      "Trainable params: 117\n",
      "Non-trainable params: 0\n",
      "_________________________________________________________________\n"
     ]
    }
   ],
   "source": [
    "inputs = keras.layers.Input(shape=(1,))\n",
    "lstm_out = keras.layers.Dense(16, activation='relu')(inputs)\n",
    "outputs = keras.layers.Dense(output_size)(lstm_out)\n",
    "\n",
    "model = keras.Model(inputs=inputs, outputs=outputs)\n",
    "model.compile(optimizer=keras.optimizers.Adam(learning_rate=learning_rate), loss=\"mse\")\n",
    "model.summary()"
   ]
  },
  {
   "cell_type": "code",
   "execution_count": 22,
   "id": "4d6def6b",
   "metadata": {
    "scrolled": true
   },
   "outputs": [
    {
     "name": "stdout",
     "output_type": "stream",
     "text": [
      "Epoch 1/200\n",
      "1/1 [==============================] - 0s 332ms/step - loss: 7.4604\n",
      "Epoch 2/200\n",
      "1/1 [==============================] - 0s 4ms/step - loss: 7.3372\n",
      "Epoch 3/200\n",
      "1/1 [==============================] - 0s 10ms/step - loss: 7.2156\n",
      "Epoch 4/200\n",
      "1/1 [==============================] - 0s 7ms/step - loss: 7.0956\n",
      "Epoch 5/200\n",
      "1/1 [==============================] - 0s 6ms/step - loss: 6.9772\n",
      "Epoch 6/200\n",
      "1/1 [==============================] - 0s 8ms/step - loss: 6.8605\n",
      "Epoch 7/200\n",
      "1/1 [==============================] - 0s 5ms/step - loss: 6.7455\n",
      "Epoch 8/200\n",
      "1/1 [==============================] - 0s 8ms/step - loss: 6.6321\n",
      "Epoch 9/200\n",
      "1/1 [==============================] - 0s 7ms/step - loss: 6.5204\n",
      "Epoch 10/200\n",
      "1/1 [==============================] - 0s 6ms/step - loss: 6.4104\n",
      "Epoch 11/200\n",
      "1/1 [==============================] - 0s 6ms/step - loss: 6.3020\n",
      "Epoch 12/200\n",
      "1/1 [==============================] - 0s 4ms/step - loss: 6.1953\n",
      "Epoch 13/200\n",
      "1/1 [==============================] - 0s 7ms/step - loss: 6.0903\n",
      "Epoch 14/200\n",
      "1/1 [==============================] - 0s 5ms/step - loss: 5.9869\n",
      "Epoch 15/200\n",
      "1/1 [==============================] - 0s 7ms/step - loss: 5.8852\n",
      "Epoch 16/200\n",
      "1/1 [==============================] - 0s 7ms/step - loss: 5.7851\n",
      "Epoch 17/200\n",
      "1/1 [==============================] - 0s 7ms/step - loss: 5.6866\n",
      "Epoch 18/200\n",
      "1/1 [==============================] - 0s 7ms/step - loss: 5.5898\n",
      "Epoch 19/200\n",
      "1/1 [==============================] - 0s 5ms/step - loss: 5.4945\n",
      "Epoch 20/200\n",
      "1/1 [==============================] - 0s 4ms/step - loss: 5.4007\n",
      "Epoch 21/200\n",
      "1/1 [==============================] - 0s 6ms/step - loss: 5.3085\n",
      "Epoch 22/200\n",
      "1/1 [==============================] - 0s 3ms/step - loss: 5.2178\n",
      "Epoch 23/200\n",
      "1/1 [==============================] - 0s 9ms/step - loss: 5.1287\n",
      "Epoch 24/200\n",
      "1/1 [==============================] - 0s 4ms/step - loss: 5.0410\n",
      "Epoch 25/200\n",
      "1/1 [==============================] - 0s 5ms/step - loss: 4.9548\n",
      "Epoch 26/200\n",
      "1/1 [==============================] - 0s 4ms/step - loss: 4.8700\n",
      "Epoch 27/200\n",
      "1/1 [==============================] - 0s 8ms/step - loss: 4.7867\n",
      "Epoch 28/200\n",
      "1/1 [==============================] - 0s 4ms/step - loss: 4.7049\n",
      "Epoch 29/200\n",
      "1/1 [==============================] - 0s 7ms/step - loss: 4.6244\n",
      "Epoch 30/200\n",
      "1/1 [==============================] - 0s 5ms/step - loss: 4.5453\n",
      "Epoch 31/200\n",
      "1/1 [==============================] - 0s 6ms/step - loss: 4.4676\n",
      "Epoch 32/200\n",
      "1/1 [==============================] - 0s 4ms/step - loss: 4.3913\n",
      "Epoch 33/200\n",
      "1/1 [==============================] - 0s 4ms/step - loss: 4.3164\n",
      "Epoch 34/200\n",
      "1/1 [==============================] - 0s 5ms/step - loss: 4.2428\n",
      "Epoch 35/200\n",
      "1/1 [==============================] - 0s 4ms/step - loss: 4.1705\n",
      "Epoch 36/200\n",
      "1/1 [==============================] - 0s 4ms/step - loss: 4.0995\n",
      "Epoch 37/200\n",
      "1/1 [==============================] - 0s 6ms/step - loss: 4.0298\n",
      "Epoch 38/200\n",
      "1/1 [==============================] - 0s 5ms/step - loss: 3.9613\n",
      "Epoch 39/200\n",
      "1/1 [==============================] - 0s 5ms/step - loss: 3.8941\n",
      "Epoch 40/200\n",
      "1/1 [==============================] - 0s 6ms/step - loss: 3.8282\n",
      "Epoch 41/200\n",
      "1/1 [==============================] - 0s 4ms/step - loss: 3.7634\n",
      "Epoch 42/200\n",
      "1/1 [==============================] - 0s 5ms/step - loss: 3.6999\n",
      "Epoch 43/200\n",
      "1/1 [==============================] - 0s 5ms/step - loss: 3.6375\n",
      "Epoch 44/200\n",
      "1/1 [==============================] - 0s 6ms/step - loss: 3.5763\n",
      "Epoch 45/200\n",
      "1/1 [==============================] - 0s 5ms/step - loss: 3.5162\n",
      "Epoch 46/200\n",
      "1/1 [==============================] - 0s 6ms/step - loss: 3.4573\n",
      "Epoch 47/200\n",
      "1/1 [==============================] - 0s 6ms/step - loss: 3.3995\n",
      "Epoch 48/200\n",
      "1/1 [==============================] - 0s 5ms/step - loss: 3.3427\n",
      "Epoch 49/200\n",
      "1/1 [==============================] - 0s 6ms/step - loss: 3.2871\n",
      "Epoch 50/200\n",
      "1/1 [==============================] - 0s 7ms/step - loss: 3.2325\n",
      "Epoch 51/200\n",
      "1/1 [==============================] - 0s 7ms/step - loss: 3.1789\n",
      "Epoch 52/200\n",
      "1/1 [==============================] - 0s 10ms/step - loss: 3.1264\n",
      "Epoch 53/200\n",
      "1/1 [==============================] - 0s 8ms/step - loss: 3.0749\n",
      "Epoch 54/200\n",
      "1/1 [==============================] - 0s 5ms/step - loss: 3.0243\n",
      "Epoch 55/200\n",
      "1/1 [==============================] - 0s 8ms/step - loss: 2.9748\n",
      "Epoch 56/200\n",
      "1/1 [==============================] - 0s 5ms/step - loss: 2.9262\n",
      "Epoch 57/200\n",
      "1/1 [==============================] - 0s 7ms/step - loss: 2.8785\n",
      "Epoch 58/200\n",
      "1/1 [==============================] - 0s 7ms/step - loss: 2.8318\n",
      "Epoch 59/200\n",
      "1/1 [==============================] - 0s 6ms/step - loss: 2.7860\n",
      "Epoch 60/200\n",
      "1/1 [==============================] - 0s 6ms/step - loss: 2.7411\n",
      "Epoch 61/200\n",
      "1/1 [==============================] - 0s 6ms/step - loss: 2.6970\n",
      "Epoch 62/200\n",
      "1/1 [==============================] - 0s 7ms/step - loss: 2.6539\n",
      "Epoch 63/200\n",
      "1/1 [==============================] - 0s 5ms/step - loss: 2.6115\n",
      "Epoch 64/200\n",
      "1/1 [==============================] - 0s 7ms/step - loss: 2.5701\n",
      "Epoch 65/200\n",
      "1/1 [==============================] - 0s 5ms/step - loss: 2.5294\n",
      "Epoch 66/200\n",
      "1/1 [==============================] - 0s 7ms/step - loss: 2.4895\n",
      "Epoch 67/200\n",
      "1/1 [==============================] - 0s 6ms/step - loss: 2.4505\n",
      "Epoch 68/200\n",
      "1/1 [==============================] - 0s 7ms/step - loss: 2.4122\n",
      "Epoch 69/200\n",
      "1/1 [==============================] - 0s 5ms/step - loss: 2.3747\n",
      "Epoch 70/200\n",
      "1/1 [==============================] - 0s 7ms/step - loss: 2.3379\n",
      "Epoch 71/200\n",
      "1/1 [==============================] - 0s 5ms/step - loss: 2.3019\n",
      "Epoch 72/200\n",
      "1/1 [==============================] - 0s 6ms/step - loss: 2.2666\n",
      "Epoch 73/200\n",
      "1/1 [==============================] - 0s 5ms/step - loss: 2.2320\n",
      "Epoch 74/200\n",
      "1/1 [==============================] - 0s 5ms/step - loss: 2.1981\n",
      "Epoch 75/200\n",
      "1/1 [==============================] - 0s 5ms/step - loss: 2.1649\n",
      "Epoch 76/200\n",
      "1/1 [==============================] - 0s 10ms/step - loss: 2.1323\n",
      "Epoch 77/200\n",
      "1/1 [==============================] - 0s 11ms/step - loss: 2.1005\n",
      "Epoch 78/200\n",
      "1/1 [==============================] - 0s 13ms/step - loss: 2.0692\n",
      "Epoch 79/200\n",
      "1/1 [==============================] - 0s 12ms/step - loss: 2.0386\n",
      "Epoch 80/200\n",
      "1/1 [==============================] - 0s 8ms/step - loss: 2.0087\n",
      "Epoch 81/200\n",
      "1/1 [==============================] - 0s 15ms/step - loss: 1.9793\n",
      "Epoch 82/200\n",
      "1/1 [==============================] - 0s 12ms/step - loss: 1.9506\n",
      "Epoch 83/200\n",
      "1/1 [==============================] - 0s 15ms/step - loss: 1.9224\n",
      "Epoch 84/200\n",
      "1/1 [==============================] - 0s 13ms/step - loss: 1.8948\n",
      "Epoch 85/200\n",
      "1/1 [==============================] - 0s 13ms/step - loss: 1.8678\n",
      "Epoch 86/200\n",
      "1/1 [==============================] - 0s 18ms/step - loss: 1.8413\n",
      "Epoch 87/200\n",
      "1/1 [==============================] - 0s 12ms/step - loss: 1.8154\n",
      "Epoch 88/200\n",
      "1/1 [==============================] - 0s 13ms/step - loss: 1.7900\n",
      "Epoch 89/200\n",
      "1/1 [==============================] - 0s 14ms/step - loss: 1.7652\n",
      "Epoch 90/200\n",
      "1/1 [==============================] - 0s 15ms/step - loss: 1.7409\n",
      "Epoch 91/200\n",
      "1/1 [==============================] - 0s 16ms/step - loss: 1.7170\n",
      "Epoch 92/200\n",
      "1/1 [==============================] - 0s 17ms/step - loss: 1.6937\n",
      "Epoch 93/200\n",
      "1/1 [==============================] - 0s 18ms/step - loss: 1.6708\n",
      "Epoch 94/200\n",
      "1/1 [==============================] - 0s 15ms/step - loss: 1.6484\n",
      "Epoch 95/200\n",
      "1/1 [==============================] - 0s 13ms/step - loss: 1.6265\n",
      "Epoch 96/200\n",
      "1/1 [==============================] - 0s 8ms/step - loss: 1.6050\n",
      "Epoch 97/200\n",
      "1/1 [==============================] - 0s 18ms/step - loss: 1.5839\n",
      "Epoch 98/200\n",
      "1/1 [==============================] - 0s 32ms/step - loss: 1.5634\n",
      "Epoch 99/200\n",
      "1/1 [==============================] - 0s 12ms/step - loss: 1.5432\n",
      "Epoch 100/200\n",
      "1/1 [==============================] - 0s 22ms/step - loss: 1.5234\n",
      "Epoch 101/200\n",
      "1/1 [==============================] - 0s 24ms/step - loss: 1.5041\n",
      "Epoch 102/200\n",
      "1/1 [==============================] - 0s 18ms/step - loss: 1.4852\n",
      "Epoch 103/200\n",
      "1/1 [==============================] - 0s 17ms/step - loss: 1.4667\n",
      "Epoch 104/200\n"
     ]
    },
    {
     "name": "stdout",
     "output_type": "stream",
     "text": [
      "1/1 [==============================] - 0s 13ms/step - loss: 1.4485\n",
      "Epoch 105/200\n",
      "1/1 [==============================] - 0s 14ms/step - loss: 1.4307\n",
      "Epoch 106/200\n",
      "1/1 [==============================] - 0s 12ms/step - loss: 1.4133\n",
      "Epoch 107/200\n",
      "1/1 [==============================] - 0s 17ms/step - loss: 1.3963\n",
      "Epoch 108/200\n",
      "1/1 [==============================] - 0s 17ms/step - loss: 1.3796\n",
      "Epoch 109/200\n",
      "1/1 [==============================] - 0s 8ms/step - loss: 1.3633\n",
      "Epoch 110/200\n",
      "1/1 [==============================] - 0s 6ms/step - loss: 1.3473\n",
      "Epoch 111/200\n",
      "1/1 [==============================] - 0s 10ms/step - loss: 1.3317\n",
      "Epoch 112/200\n",
      "1/1 [==============================] - 0s 6ms/step - loss: 1.3164\n",
      "Epoch 113/200\n",
      "1/1 [==============================] - 0s 5ms/step - loss: 1.3014\n",
      "Epoch 114/200\n",
      "1/1 [==============================] - 0s 10ms/step - loss: 1.2867\n",
      "Epoch 115/200\n",
      "1/1 [==============================] - 0s 6ms/step - loss: 1.2723\n",
      "Epoch 116/200\n",
      "1/1 [==============================] - 0s 5ms/step - loss: 1.2582\n",
      "Epoch 117/200\n",
      "1/1 [==============================] - 0s 10ms/step - loss: 1.2445\n",
      "Epoch 118/200\n",
      "1/1 [==============================] - 0s 4ms/step - loss: 1.2310\n",
      "Epoch 119/200\n",
      "1/1 [==============================] - 0s 10ms/step - loss: 1.2179\n",
      "Epoch 120/200\n",
      "1/1 [==============================] - 0s 4ms/step - loss: 1.2050\n",
      "Epoch 121/200\n",
      "1/1 [==============================] - 0s 6ms/step - loss: 1.1924\n",
      "Epoch 122/200\n",
      "1/1 [==============================] - 0s 11ms/step - loss: 1.1800\n",
      "Epoch 123/200\n",
      "1/1 [==============================] - 0s 8ms/step - loss: 1.1679\n",
      "Epoch 124/200\n",
      "1/1 [==============================] - 0s 5ms/step - loss: 1.1561\n",
      "Epoch 125/200\n",
      "1/1 [==============================] - 0s 9ms/step - loss: 1.1445\n",
      "Epoch 126/200\n",
      "1/1 [==============================] - 0s 4ms/step - loss: 1.1331\n",
      "Epoch 127/200\n",
      "1/1 [==============================] - 0s 9ms/step - loss: 1.1220\n",
      "Epoch 128/200\n",
      "1/1 [==============================] - 0s 7ms/step - loss: 1.1112\n",
      "Epoch 129/200\n",
      "1/1 [==============================] - 0s 6ms/step - loss: 1.1007\n",
      "Epoch 130/200\n",
      "1/1 [==============================] - 0s 7ms/step - loss: 1.0904\n",
      "Epoch 131/200\n",
      "1/1 [==============================] - 0s 5ms/step - loss: 1.0803\n",
      "Epoch 132/200\n",
      "1/1 [==============================] - 0s 8ms/step - loss: 1.0704\n",
      "Epoch 133/200\n",
      "1/1 [==============================] - 0s 8ms/step - loss: 1.0607\n",
      "Epoch 134/200\n",
      "1/1 [==============================] - 0s 7ms/step - loss: 1.0512\n",
      "Epoch 135/200\n",
      "1/1 [==============================] - 0s 10ms/step - loss: 1.0420\n",
      "Epoch 136/200\n",
      "1/1 [==============================] - 0s 9ms/step - loss: 1.0330\n",
      "Epoch 137/200\n",
      "1/1 [==============================] - 0s 4ms/step - loss: 1.0243\n",
      "Epoch 138/200\n",
      "1/1 [==============================] - 0s 8ms/step - loss: 1.0158\n",
      "Epoch 139/200\n",
      "1/1 [==============================] - 0s 5ms/step - loss: 1.0074\n",
      "Epoch 140/200\n",
      "1/1 [==============================] - 0s 5ms/step - loss: 0.9992\n",
      "Epoch 141/200\n",
      "1/1 [==============================] - 0s 8ms/step - loss: 0.9912\n",
      "Epoch 142/200\n",
      "1/1 [==============================] - 0s 5ms/step - loss: 0.9833\n",
      "Epoch 143/200\n",
      "1/1 [==============================] - 0s 9ms/step - loss: 0.9756\n",
      "Epoch 144/200\n",
      "1/1 [==============================] - 0s 4ms/step - loss: 0.9681\n",
      "Epoch 145/200\n",
      "1/1 [==============================] - 0s 10ms/step - loss: 0.9607\n",
      "Epoch 146/200\n",
      "1/1 [==============================] - 0s 4ms/step - loss: 0.9534\n",
      "Epoch 147/200\n",
      "1/1 [==============================] - 0s 9ms/step - loss: 0.9463\n",
      "Epoch 148/200\n",
      "1/1 [==============================] - 0s 4ms/step - loss: 0.9393\n",
      "Epoch 149/200\n",
      "1/1 [==============================] - 0s 5ms/step - loss: 0.9324\n",
      "Epoch 150/200\n",
      "1/1 [==============================] - 0s 4ms/step - loss: 0.9257\n",
      "Epoch 151/200\n",
      "1/1 [==============================] - 0s 5ms/step - loss: 0.9191\n",
      "Epoch 152/200\n",
      "1/1 [==============================] - 0s 5ms/step - loss: 0.9127\n",
      "Epoch 153/200\n",
      "1/1 [==============================] - 0s 4ms/step - loss: 0.9064\n",
      "Epoch 154/200\n",
      "1/1 [==============================] - 0s 6ms/step - loss: 0.9003\n",
      "Epoch 155/200\n",
      "1/1 [==============================] - 0s 4ms/step - loss: 0.8943\n",
      "Epoch 156/200\n",
      "1/1 [==============================] - 0s 3ms/step - loss: 0.8885\n",
      "Epoch 157/200\n",
      "1/1 [==============================] - 0s 7ms/step - loss: 0.8827\n",
      "Epoch 158/200\n",
      "1/1 [==============================] - 0s 3ms/step - loss: 0.8771\n",
      "Epoch 159/200\n",
      "1/1 [==============================] - 0s 7ms/step - loss: 0.8715\n",
      "Epoch 160/200\n",
      "1/1 [==============================] - 0s 5ms/step - loss: 0.8661\n",
      "Epoch 161/200\n",
      "1/1 [==============================] - 0s 5ms/step - loss: 0.8608\n",
      "Epoch 162/200\n",
      "1/1 [==============================] - 0s 5ms/step - loss: 0.8556\n",
      "Epoch 163/200\n",
      "1/1 [==============================] - 0s 4ms/step - loss: 0.8506\n",
      "Epoch 164/200\n",
      "1/1 [==============================] - 0s 6ms/step - loss: 0.8458\n",
      "Epoch 165/200\n",
      "1/1 [==============================] - 0s 4ms/step - loss: 0.8410\n",
      "Epoch 166/200\n",
      "1/1 [==============================] - 0s 8ms/step - loss: 0.8364\n",
      "Epoch 167/200\n",
      "1/1 [==============================] - 0s 5ms/step - loss: 0.8318\n",
      "Epoch 168/200\n",
      "1/1 [==============================] - 0s 5ms/step - loss: 0.8274\n",
      "Epoch 169/200\n",
      "1/1 [==============================] - 0s 6ms/step - loss: 0.8230\n",
      "Epoch 170/200\n",
      "1/1 [==============================] - 0s 4ms/step - loss: 0.8187\n",
      "Epoch 171/200\n",
      "1/1 [==============================] - 0s 6ms/step - loss: 0.8145\n",
      "Epoch 172/200\n",
      "1/1 [==============================] - 0s 3ms/step - loss: 0.8104\n",
      "Epoch 173/200\n",
      "1/1 [==============================] - 0s 8ms/step - loss: 0.8063\n",
      "Epoch 174/200\n",
      "1/1 [==============================] - 0s 4ms/step - loss: 0.8024\n",
      "Epoch 175/200\n",
      "1/1 [==============================] - 0s 7ms/step - loss: 0.7985\n",
      "Epoch 176/200\n",
      "1/1 [==============================] - 0s 5ms/step - loss: 0.7947\n",
      "Epoch 177/200\n",
      "1/1 [==============================] - 0s 4ms/step - loss: 0.7909\n",
      "Epoch 178/200\n",
      "1/1 [==============================] - 0s 5ms/step - loss: 0.7873\n",
      "Epoch 179/200\n",
      "1/1 [==============================] - 0s 4ms/step - loss: 0.7837\n",
      "Epoch 180/200\n",
      "1/1 [==============================] - 0s 6ms/step - loss: 0.7802\n",
      "Epoch 181/200\n",
      "1/1 [==============================] - 0s 3ms/step - loss: 0.7767\n",
      "Epoch 182/200\n",
      "1/1 [==============================] - 0s 7ms/step - loss: 0.7733\n",
      "Epoch 183/200\n",
      "1/1 [==============================] - 0s 4ms/step - loss: 0.7700\n",
      "Epoch 184/200\n",
      "1/1 [==============================] - 0s 6ms/step - loss: 0.7667\n",
      "Epoch 185/200\n",
      "1/1 [==============================] - 0s 5ms/step - loss: 0.7635\n",
      "Epoch 186/200\n",
      "1/1 [==============================] - 0s 3ms/step - loss: 0.7604\n",
      "Epoch 187/200\n",
      "1/1 [==============================] - 0s 5ms/step - loss: 0.7573\n",
      "Epoch 188/200\n",
      "1/1 [==============================] - 0s 3ms/step - loss: 0.7543\n",
      "Epoch 189/200\n",
      "1/1 [==============================] - 0s 5ms/step - loss: 0.7513\n",
      "Epoch 190/200\n",
      "1/1 [==============================] - 0s 4ms/step - loss: 0.7484\n",
      "Epoch 191/200\n",
      "1/1 [==============================] - 0s 4ms/step - loss: 0.7455\n",
      "Epoch 192/200\n",
      "1/1 [==============================] - 0s 5ms/step - loss: 0.7427\n",
      "Epoch 193/200\n",
      "1/1 [==============================] - 0s 3ms/step - loss: 0.7400\n",
      "Epoch 194/200\n",
      "1/1 [==============================] - 0s 5ms/step - loss: 0.7373\n",
      "Epoch 195/200\n",
      "1/1 [==============================] - 0s 3ms/step - loss: 0.7346\n",
      "Epoch 196/200\n",
      "1/1 [==============================] - 0s 9ms/step - loss: 0.7320\n",
      "Epoch 197/200\n",
      "1/1 [==============================] - 0s 3ms/step - loss: 0.7294\n",
      "Epoch 198/200\n",
      "1/1 [==============================] - 0s 8ms/step - loss: 0.7269\n",
      "Epoch 199/200\n",
      "1/1 [==============================] - 0s 4ms/step - loss: 0.7244\n",
      "Epoch 200/200\n",
      "1/1 [==============================] - 0s 7ms/step - loss: 0.7220\n"
     ]
    }
   ],
   "source": [
    "history = model.fit(\n",
    "    df_train.year.values,\n",
    "    df_train[NUMERIC].values,\n",
    "    batch_size=bs,\n",
    "    epochs=epochs,\n",
    ")\n",
    "model.save('问题3-分组回归模型.h5')"
   ]
  },
  {
   "cell_type": "code",
   "execution_count": 23,
   "id": "e784dfa5",
   "metadata": {},
   "outputs": [
    {
     "data": {
      "image/png": "[encoded data removed]",
      "text/plain": [
       "<Figure size 720x360 with 1 Axes>"
      ]
     },
     "metadata": {
      "needs_background": "light"
     },
     "output_type": "display_data"
    }
   ],
   "source": [
    "def visualize_loss(history, title):\n",
    "    loss = history.history[\"loss\"]\n",
    "    epochs = range(len(loss))\n",
    "    plt.figure(figsize=(10,5))\n",
    "    plt.plot(epochs, loss, \"b\", label=\"Training loss\")\n",
    "    plt.title(title)\n",
    "    plt.xlabel(\"Epochs\")\n",
    "    plt.ylabel(\"Loss\")\n",
    "    plt.legend()\n",
    "    plt.show()\n",
    "\n",
    "visualize_loss(history, \"Training Loss\")"
   ]
  },
  {
   "cell_type": "code",
   "execution_count": 34,
   "id": "58c1e8c3",
   "metadata": {},
   "outputs": [
    {
     "data": {
      "text/html": [
       "<div>\n",
       "<style scoped>\n",
       "    .dataframe tbody tr th:only-of-type {\n",
       "        vertical-align: middle;\n",
       "    }\n",
       "\n",
       "    .dataframe tbody tr th {\n",
       "        vertical-align: top;\n",
       "    }\n",
       "\n",
       "    .dataframe thead th {\n",
       "        text-align: right;\n",
       "    }\n",
       "</style>\n",
       "<table border=\"1\" class=\"dataframe\">\n",
       "  <thead>\n",
       "    <tr style=\"text-align: right;\">\n",
       "      <th></th>\n",
       "      <th>SOC土壤有机碳</th>\n",
       "      <th>SIC土壤无机碳</th>\n",
       "      <th>STC土壤全碳</th>\n",
       "      <th>全氮N</th>\n",
       "      <th>土壤C/N比</th>\n",
       "      <th>year</th>\n",
       "    </tr>\n",
       "  </thead>\n",
       "  <tbody>\n",
       "    <tr>\n",
       "      <th>0</th>\n",
       "      <td>0.704257</td>\n",
       "      <td>-1.146076</td>\n",
       "      <td>-2.518708</td>\n",
       "      <td>0.561034</td>\n",
       "      <td>-1.507976</td>\n",
       "      <td>10</td>\n",
       "    </tr>\n",
       "    <tr>\n",
       "      <th>1</th>\n",
       "      <td>0.867481</td>\n",
       "      <td>-1.331555</td>\n",
       "      <td>-3.091973</td>\n",
       "      <td>0.665227</td>\n",
       "      <td>-1.854217</td>\n",
       "      <td>12</td>\n",
       "    </tr>\n",
       "    <tr>\n",
       "      <th>2</th>\n",
       "      <td>1.029496</td>\n",
       "      <td>-1.523107</td>\n",
       "      <td>-3.669667</td>\n",
       "      <td>0.765628</td>\n",
       "      <td>-2.200993</td>\n",
       "      <td>14</td>\n",
       "    </tr>\n",
       "    <tr>\n",
       "      <th>3</th>\n",
       "      <td>1.191117</td>\n",
       "      <td>-1.716640</td>\n",
       "      <td>-4.248805</td>\n",
       "      <td>0.864794</td>\n",
       "      <td>-2.547943</td>\n",
       "      <td>16</td>\n",
       "    </tr>\n",
       "    <tr>\n",
       "      <th>4</th>\n",
       "      <td>1.352738</td>\n",
       "      <td>-1.910174</td>\n",
       "      <td>-4.827942</td>\n",
       "      <td>0.963959</td>\n",
       "      <td>-2.894893</td>\n",
       "      <td>18</td>\n",
       "    </tr>\n",
       "  </tbody>\n",
       "</table>\n",
       "</div>"
      ],
      "text/plain": [
       "   SOC土壤有机碳  SIC土壤无机碳   STC土壤全碳       全氮N    土壤C/N比  year\n",
       "0  0.704257 -1.146076 -2.518708  0.561034 -1.507976    10\n",
       "1  0.867481 -1.331555 -3.091973  0.665227 -1.854217    12\n",
       "2  1.029496 -1.523107 -3.669667  0.765628 -2.200993    14\n",
       "3  1.191117 -1.716640 -4.248805  0.864794 -2.547943    16\n",
       "4  1.352738 -1.910174 -4.827942  0.963959 -2.894893    18"
      ]
     },
     "execution_count": 34,
     "metadata": {},
     "output_type": "execute_result"
    }
   ],
   "source": [
    "year_list=[10, 12, 14, 16, 18]\n",
    "pred = model.predict(year_list)\n",
    "# pred = scaler.inverse_transform(pred)\n",
    "df_pred = pd.DataFrame(data=pred, columns=NUMERIC)\n",
    "df_pred['year']=year_list\n",
    "df_pred"
   ]
  },
  {
   "cell_type": "code",
   "execution_count": 35,
   "id": "363aa55f",
   "metadata": {},
   "outputs": [
    {
     "data": {
      "text/html": [
       "<div>\n",
       "<style scoped>\n",
       "    .dataframe tbody tr th:only-of-type {\n",
       "        vertical-align: middle;\n",
       "    }\n",
       "\n",
       "    .dataframe tbody tr th {\n",
       "        vertical-align: top;\n",
       "    }\n",
       "\n",
       "    .dataframe thead th {\n",
       "        text-align: right;\n",
       "    }\n",
       "</style>\n",
       "<table border=\"1\" class=\"dataframe\">\n",
       "  <thead>\n",
       "    <tr style=\"text-align: right;\">\n",
       "      <th></th>\n",
       "      <th>year</th>\n",
       "      <th>SOC土壤有机碳</th>\n",
       "      <th>SIC土壤无机碳</th>\n",
       "      <th>STC土壤全碳</th>\n",
       "      <th>全氮N</th>\n",
       "      <th>土壤C/N比</th>\n",
       "    </tr>\n",
       "  </thead>\n",
       "  <tbody>\n",
       "    <tr>\n",
       "      <th>0</th>\n",
       "      <td>0</td>\n",
       "      <td>-1.614686</td>\n",
       "      <td>1.445963</td>\n",
       "      <td>0.525585</td>\n",
       "      <td>-2.058148</td>\n",
       "      <td>1.784696</td>\n",
       "    </tr>\n",
       "    <tr>\n",
       "      <th>12</th>\n",
       "      <td>2</td>\n",
       "      <td>-1.167833</td>\n",
       "      <td>0.219368</td>\n",
       "      <td>-0.566259</td>\n",
       "      <td>-0.773713</td>\n",
       "      <td>0.140593</td>\n",
       "    </tr>\n",
       "    <tr>\n",
       "      <th>24</th>\n",
       "      <td>4</td>\n",
       "      <td>0.614059</td>\n",
       "      <td>-0.780412</td>\n",
       "      <td>-0.463855</td>\n",
       "      <td>0.263030</td>\n",
       "      <td>-0.472703</td>\n",
       "    </tr>\n",
       "    <tr>\n",
       "      <th>36</th>\n",
       "      <td>6</td>\n",
       "      <td>0.066401</td>\n",
       "      <td>-0.667004</td>\n",
       "      <td>-0.717339</td>\n",
       "      <td>0.374028</td>\n",
       "      <td>-0.713805</td>\n",
       "    </tr>\n",
       "    <tr>\n",
       "      <th>48</th>\n",
       "      <td>8</td>\n",
       "      <td>1.038093</td>\n",
       "      <td>-1.413813</td>\n",
       "      <td>-0.892375</td>\n",
       "      <td>1.277783</td>\n",
       "      <td>-1.372190</td>\n",
       "    </tr>\n",
       "    <tr>\n",
       "      <th>0</th>\n",
       "      <td>10</td>\n",
       "      <td>0.704257</td>\n",
       "      <td>-1.146076</td>\n",
       "      <td>-2.518708</td>\n",
       "      <td>0.561034</td>\n",
       "      <td>-1.507976</td>\n",
       "    </tr>\n",
       "    <tr>\n",
       "      <th>1</th>\n",
       "      <td>12</td>\n",
       "      <td>0.867481</td>\n",
       "      <td>-1.331555</td>\n",
       "      <td>-3.091973</td>\n",
       "      <td>0.665227</td>\n",
       "      <td>-1.854217</td>\n",
       "    </tr>\n",
       "    <tr>\n",
       "      <th>2</th>\n",
       "      <td>14</td>\n",
       "      <td>1.029496</td>\n",
       "      <td>-1.523107</td>\n",
       "      <td>-3.669667</td>\n",
       "      <td>0.765628</td>\n",
       "      <td>-2.200993</td>\n",
       "    </tr>\n",
       "    <tr>\n",
       "      <th>3</th>\n",
       "      <td>16</td>\n",
       "      <td>1.191117</td>\n",
       "      <td>-1.716640</td>\n",
       "      <td>-4.248805</td>\n",
       "      <td>0.864794</td>\n",
       "      <td>-2.547943</td>\n",
       "    </tr>\n",
       "    <tr>\n",
       "      <th>4</th>\n",
       "      <td>18</td>\n",
       "      <td>1.352738</td>\n",
       "      <td>-1.910174</td>\n",
       "      <td>-4.827942</td>\n",
       "      <td>0.963959</td>\n",
       "      <td>-2.894893</td>\n",
       "    </tr>\n",
       "  </tbody>\n",
       "</table>\n",
       "</div>"
      ],
      "text/plain": [
       "    year  SOC土壤有机碳  SIC土壤无机碳   STC土壤全碳       全氮N    土壤C/N比\n",
       "0      0 -1.614686  1.445963  0.525585 -2.058148  1.784696\n",
       "12     2 -1.167833  0.219368 -0.566259 -0.773713  0.140593\n",
       "24     4  0.614059 -0.780412 -0.463855  0.263030 -0.472703\n",
       "36     6  0.066401 -0.667004 -0.717339  0.374028 -0.713805\n",
       "48     8  1.038093 -1.413813 -0.892375  1.277783 -1.372190\n",
       "0     10  0.704257 -1.146076 -2.518708  0.561034 -1.507976\n",
       "1     12  0.867481 -1.331555 -3.091973  0.665227 -1.854217\n",
       "2     14  1.029496 -1.523107 -3.669667  0.765628 -2.200993\n",
       "3     16  1.191117 -1.716640 -4.248805  0.864794 -2.547943\n",
       "4     18  1.352738 -1.910174 -4.827942  0.963959 -2.894893"
      ]
     },
     "execution_count": 35,
     "metadata": {},
     "output_type": "execute_result"
    }
   ],
   "source": [
    "df=pd.concat([df_train, df_pred])\n",
    "df"
   ]
  },
  {
   "cell_type": "code",
   "execution_count": 36,
   "id": "78a8f45f",
   "metadata": {},
   "outputs": [
    {
     "data": {
      "application/vnd.plotly.v1+json": {
       "config": {
        "plotlyServerURL": "https://plot.ly"
       },
       "data": [
        {
         "hovertemplate": "variable=SOC土壤有机碳<br>year=%{x}<br>value=%{y}<extra></extra>",
         "legendgroup": "SOC土壤有机碳",
         "line": {
          "color": "#636efa",
          "dash": "solid"
         },
         "marker": {
          "symbol": "circle"
         },
         "mode": "lines",
         "name": "SOC土壤有机碳",
         "orientation": "v",
         "showlegend": true,
         "type": "scatter",
         "x": [
          0,
          2,
          4,
          6,
          8,
          10,
          12,
          14,
          16,
          18
         ],
         "xaxis": "x",
         "y": [
          -1.6146861156739747,
          -1.1678328624675274,
          0.6140594804093985,
          0.06640103515213454,
          1.0380934569424667,
          0.704256534576416,
          0.8674807548522949,
          1.0294959545135498,
          1.1911165714263916,
          1.3527376651763916
         ],
         "yaxis": "y"
        },
        {
         "hovertemplate": "variable=SIC土壤无机碳<br>year=%{x}<br>value=%{y}<extra></extra>",
         "legendgroup": "SIC土壤无机碳",
         "line": {
          "color": "#EF553B",
          "dash": "solid"
         },
         "marker": {
          "symbol": "circle"
         },
         "mode": "lines",
         "name": "SIC土壤无机碳",
         "orientation": "v",
         "showlegend": true,
         "type": "scatter",
         "x": [
          0,
          2,
          4,
          6,
          8,
          10,
          12,
          14,
          16,
          18
         ],
         "xaxis": "x",
         "y": [
          1.4459629804734293,
          0.21936755558885537,
          -0.7804121702902984,
          -0.6670043207875882,
          -1.4138129162654864,
          -1.146075963973999,
          -1.331554889678955,
          -1.5231072902679443,
          -1.7166403532028198,
          -1.9101735353469849
         ],
         "yaxis": "y"
        },
        {
         "hovertemplate": "variable=STC土壤全碳<br>year=%{x}<br>value=%{y}<extra></extra>",
         "legendgroup": "STC土壤全碳",
         "line": {
          "color": "#00cc96",
          "dash": "solid"
         },
         "marker": {
          "symbol": "circle"
         },
         "mode": "lines",
         "name": "STC土壤全碳",
         "orientation": "v",
         "showlegend": true,
         "type": "scatter",
         "x": [
          0,
          2,
          4,
          6,
          8,
          10,
          12,
          14,
          16,
          18
         ],
         "xaxis": "x",
         "y": [
          0.5255846309051495,
          -0.5662585593622044,
          -0.46385486093595596,
          -0.7173394286456973,
          -0.8923750146138641,
          -2.5187079906463623,
          -3.091973304748535,
          -3.6696670055389404,
          -4.248805046081543,
          -4.827942371368408
         ],
         "yaxis": "y"
        },
        {
         "hovertemplate": "variable=全氮N<br>year=%{x}<br>value=%{y}<extra></extra>",
         "legendgroup": "全氮N",
         "line": {
          "color": "#ab63fa",
          "dash": "solid"
         },
         "marker": {
          "symbol": "circle"
         },
         "mode": "lines",
         "name": "全氮N",
         "orientation": "v",
         "showlegend": true,
         "type": "scatter",
         "x": [
          0,
          2,
          4,
          6,
          8,
          10,
          12,
          14,
          16,
          18
         ],
         "xaxis": "x",
         "y": [
          -2.058147836872241,
          -0.7737125790887267,
          0.263030150719848,
          0.37402820013454874,
          1.277782833219558,
          0.5610337257385254,
          0.6652266979217529,
          0.7656279802322388,
          0.8647936582565308,
          0.9639586210250854
         ],
         "yaxis": "y"
        },
        {
         "hovertemplate": "variable=土壤C/N比<br>year=%{x}<br>value=%{y}<extra></extra>",
         "legendgroup": "土壤C/N比",
         "line": {
          "color": "#FFA15A",
          "dash": "solid"
         },
         "marker": {
          "symbol": "circle"
         },
         "mode": "lines",
         "name": "土壤C/N比",
         "orientation": "v",
         "showlegend": true,
         "type": "scatter",
         "x": [
          0,
          2,
          4,
          6,
          8,
          10,
          12,
          14,
          16,
          18
         ],
         "xaxis": "x",
         "y": [
          1.7846962857478543,
          0.14059341834385722,
          -0.4727033730561072,
          -0.7138052672631319,
          -1.3721895594260392,
          -1.5079755783081055,
          -1.8542170524597168,
          -2.2009925842285156,
          -2.547942876815796,
          -2.894892692565918
         ],
         "yaxis": "y"
        }
       ],
       "layout": {
        "legend": {
         "title": {
          "text": "variable"
         },
         "tracegroupgap": 0
        },
        "margin": {
         "t": 60
        },
        "template": {
         "data": {
          "bar": [
           {
            "error_x": {
             "color": "#2a3f5f"
            },
            "error_y": {
             "color": "#2a3f5f"
            },
            "marker": {
             "line": {
              "color": "#E5ECF6",
              "width": 0.5
             },
             "pattern": {
              "fillmode": "overlay",
              "size": 10,
              "solidity": 0.2
             }
            },
            "type": "bar"
           }
          ],
          "barpolar": [
           {
            "marker": {
             "line": {
              "color": "#E5ECF6",
              "width": 0.5
             },
             "pattern": {
              "fillmode": "overlay",
              "size": 10,
              "solidity": 0.2
             }
            },
            "type": "barpolar"
           }
          ],
          "carpet": [
           {
            "aaxis": {
             "endlinecolor": "#2a3f5f",
             "gridcolor": "white",
             "linecolor": "white",
             "minorgridcolor": "white",
             "startlinecolor": "#2a3f5f"
            },
            "baxis": {
             "endlinecolor": "#2a3f5f",
             "gridcolor": "white",
             "linecolor": "white",
             "minorgridcolor": "white",
             "startlinecolor": "#2a3f5f"
            },
            "type": "carpet"
           }
          ],
          "choropleth": [
           {
            "colorbar": {
             "outlinewidth": 0,
             "ticks": ""
            },
            "type": "choropleth"
           }
          ],
          "contour": [
           {
            "colorbar": {
             "outlinewidth": 0,
             "ticks": ""
            },
            "colorscale": [
             [
              0,
              "#0d0887"
             ],
             [
              0.1111111111111111,
              "#46039f"
             ],
             [
              0.2222222222222222,
              "#7201a8"
             ],
             [
              0.3333333333333333,
              "#9c179e"
             ],
             [
              0.4444444444444444,
              "#bd3786"
             ],
             [
              0.5555555555555556,
              "#d8576b"
             ],
             [
              0.6666666666666666,
              "#ed7953"
             ],
             [
              0.7777777777777778,
              "#fb9f3a"
             ],
             [
              0.8888888888888888,
              "#fdca26"
             ],
             [
              1,
              "#f0f921"
             ]
            ],
            "type": "contour"
           }
          ],
          "contourcarpet": [
           {
            "colorbar": {
             "outlinewidth": 0,
             "ticks": ""
            },
            "type": "contourcarpet"
           }
          ],
          "heatmap": [
           {
            "colorbar": {
             "outlinewidth": 0,
             "ticks": ""
            },
            "colorscale": [
             [
              0,
              "#0d0887"
             ],
             [
              0.1111111111111111,
              "#46039f"
             ],
             [
              0.2222222222222222,
              "#7201a8"
             ],
             [
              0.3333333333333333,
              "#9c179e"
             ],
             [
              0.4444444444444444,
              "#bd3786"
             ],
             [
              0.5555555555555556,
              "#d8576b"
             ],
             [
              0.6666666666666666,
              "#ed7953"
             ],
             [
              0.7777777777777778,
              "#fb9f3a"
             ],
             [
              0.8888888888888888,
              "#fdca26"
             ],
             [
              1,
              "#f0f921"
             ]
            ],
            "type": "heatmap"
           }
          ],
          "heatmapgl": [
           {
            "colorbar": {
             "outlinewidth": 0,
             "ticks": ""
            },
            "colorscale": [
             [
              0,
              "#0d0887"
             ],
             [
              0.1111111111111111,
              "#46039f"
             ],
             [
              0.2222222222222222,
              "#7201a8"
             ],
             [
              0.3333333333333333,
              "#9c179e"
             ],
             [
              0.4444444444444444,
              "#bd3786"
             ],
             [
              0.5555555555555556,
              "#d8576b"
             ],
             [
              0.6666666666666666,
              "#ed7953"
             ],
             [
              0.7777777777777778,
              "#fb9f3a"
             ],
             [
              0.8888888888888888,
              "#fdca26"
             ],
             [
              1,
              "#f0f921"
             ]
            ],
            "type": "heatmapgl"
           }
          ],
          "histogram": [
           {
            "marker": {
             "pattern": {
              "fillmode": "overlay",
              "size": 10,
              "solidity": 0.2
             }
            },
            "type": "histogram"
           }
          ],
          "histogram2d": [
           {
            "colorbar": {
             "outlinewidth": 0,
             "ticks": ""
            },
            "colorscale": [
             [
              0,
              "#0d0887"
             ],
             [
              0.1111111111111111,
              "#46039f"
             ],
             [
              0.2222222222222222,
              "#7201a8"
             ],
             [
              0.3333333333333333,
              "#9c179e"
             ],
             [
              0.4444444444444444,
              "#bd3786"
             ],
             [
              0.5555555555555556,
              "#d8576b"
             ],
             [
              0.6666666666666666,
              "#ed7953"
             ],
             [
              0.7777777777777778,
              "#fb9f3a"
             ],
             [
              0.8888888888888888,
              "#fdca26"
             ],
             [
              1,
              "#f0f921"
             ]
            ],
            "type": "histogram2d"
           }
          ],
          "histogram2dcontour": [
           {
            "colorbar": {
             "outlinewidth": 0,
             "ticks": ""
            },
            "colorscale": [
             [
              0,
              "#0d0887"
             ],
             [
              0.1111111111111111,
              "#46039f"
             ],
             [
              0.2222222222222222,
              "#7201a8"
             ],
             [
              0.3333333333333333,
              "#9c179e"
             ],
             [
              0.4444444444444444,
              "#bd3786"
             ],
             [
              0.5555555555555556,
              "#d8576b"
             ],
             [
              0.6666666666666666,
              "#ed7953"
             ],
             [
              0.7777777777777778,
              "#fb9f3a"
             ],
             [
              0.8888888888888888,
              "#fdca26"
             ],
             [
              1,
              "#f0f921"
             ]
            ],
            "type": "histogram2dcontour"
           }
          ],
          "mesh3d": [
           {
            "colorbar": {
             "outlinewidth": 0,
             "ticks": ""
            },
            "type": "mesh3d"
           }
          ],
          "parcoords": [
           {
            "line": {
             "colorbar": {
              "outlinewidth": 0,
              "ticks": ""
             }
            },
            "type": "parcoords"
           }
          ],
          "pie": [
           {
            "automargin": true,
            "type": "pie"
           }
          ],
          "scatter": [
           {
            "fillpattern": {
             "fillmode": "overlay",
             "size": 10,
             "solidity": 0.2
            },
            "type": "scatter"
           }
          ],
          "scatter3d": [
           {
            "line": {
             "colorbar": {
              "outlinewidth": 0,
              "ticks": ""
             }
            },
            "marker": {
             "colorbar": {
              "outlinewidth": 0,
              "ticks": ""
             }
            },
            "type": "scatter3d"
           }
          ],
          "scattercarpet": [
           {
            "marker": {
             "colorbar": {
              "outlinewidth": 0,
              "ticks": ""
             }
            },
            "type": "scattercarpet"
           }
          ],
          "scattergeo": [
           {
            "marker": {
             "colorbar": {
              "outlinewidth": 0,
              "ticks": ""
             }
            },
            "type": "scattergeo"
           }
          ],
          "scattergl": [
           {
            "marker": {
             "colorbar": {
              "outlinewidth": 0,
              "ticks": ""
             }
            },
            "type": "scattergl"
           }
          ],
          "scattermapbox": [
           {
            "marker": {
             "colorbar": {
              "outlinewidth": 0,
              "ticks": ""
             }
            },
            "type": "scattermapbox"
           }
          ],
          "scatterpolar": [
           {
            "marker": {
             "colorbar": {
              "outlinewidth": 0,
              "ticks": ""
             }
            },
            "type": "scatterpolar"
           }
          ],
          "scatterpolargl": [
           {
            "marker": {
             "colorbar": {
              "outlinewidth": 0,
              "ticks": ""
             }
            },
            "type": "scatterpolargl"
           }
          ],
          "scatterternary": [
           {
            "marker": {
             "colorbar": {
              "outlinewidth": 0,
              "ticks": ""
             }
            },
            "type": "scatterternary"
           }
          ],
          "surface": [
           {
            "colorbar": {
             "outlinewidth": 0,
             "ticks": ""
            },
            "colorscale": [
             [
              0,
              "#0d0887"
             ],
             [
              0.1111111111111111,
              "#46039f"
             ],
             [
              0.2222222222222222,
              "#7201a8"
             ],
             [
              0.3333333333333333,
              "#9c179e"
             ],
             [
              0.4444444444444444,
              "#bd3786"
             ],
             [
              0.5555555555555556,
              "#d8576b"
             ],
             [
              0.6666666666666666,
              "#ed7953"
             ],
             [
              0.7777777777777778,
              "#fb9f3a"
             ],
             [
              0.8888888888888888,
              "#fdca26"
             ],
             [
              1,
              "#f0f921"
             ]
            ],
            "type": "surface"
           }
          ],
          "table": [
           {
            "cells": {
             "fill": {
              "color": "#EBF0F8"
             },
             "line": {
              "color": "white"
             }
            },
            "header": {
             "fill": {
              "color": "#C8D4E3"
             },
             "line": {
              "color": "white"
             }
            },
            "type": "table"
           }
          ]
         },
         "layout": {
          "annotationdefaults": {
           "arrowcolor": "#2a3f5f",
           "arrowhead": 0,
           "arrowwidth": 1
          },
          "autotypenumbers": "strict",
          "coloraxis": {
           "colorbar": {
            "outlinewidth": 0,
            "ticks": ""
           }
          },
          "colorscale": {
           "diverging": [
            [
             0,
             "#8e0152"
            ],
            [
             0.1,
             "#c51b7d"
            ],
            [
             0.2,
             "#de77ae"
            ],
            [
             0.3,
             "#f1b6da"
            ],
            [
             0.4,
             "#fde0ef"
            ],
            [
             0.5,
             "#f7f7f7"
            ],
            [
             0.6,
             "#e6f5d0"
            ],
            [
             0.7,
             "#b8e186"
            ],
            [
             0.8,
             "#7fbc41"
            ],
            [
             0.9,
             "#4d9221"
            ],
            [
             1,
             "#276419"
            ]
           ],
           "sequential": [
            [
             0,
             "#0d0887"
            ],
            [
             0.1111111111111111,
             "#46039f"
            ],
            [
             0.2222222222222222,
             "#7201a8"
            ],
            [
             0.3333333333333333,
             "#9c179e"
            ],
            [
             0.4444444444444444,
             "#bd3786"
            ],
            [
             0.5555555555555556,
             "#d8576b"
            ],
            [
             0.6666666666666666,
             "#ed7953"
            ],
            [
             0.7777777777777778,
             "#fb9f3a"
            ],
            [
             0.8888888888888888,
             "#fdca26"
            ],
            [
             1,
             "#f0f921"
            ]
           ],
           "sequentialminus": [
            [
             0,
             "#0d0887"
            ],
            [
             0.1111111111111111,
             "#46039f"
            ],
            [
             0.2222222222222222,
             "#7201a8"
            ],
            [
             0.3333333333333333,
             "#9c179e"
            ],
            [
             0.4444444444444444,
             "#bd3786"
            ],
            [
             0.5555555555555556,
             "#d8576b"
            ],
            [
             0.6666666666666666,
             "#ed7953"
            ],
            [
             0.7777777777777778,
             "#fb9f3a"
            ],
            [
             0.8888888888888888,
             "#fdca26"
            ],
            [
             1,
             "#f0f921"
            ]
           ]
          },
          "colorway": [
           "#636efa",
           "#EF553B",
           "#00cc96",
           "#ab63fa",
           "#FFA15A",
           "#19d3f3",
           "#FF6692",
           "#B6E880",
           "#FF97FF",
           "#FECB52"
          ],
          "font": {
           "color": "#2a3f5f"
          },
          "geo": {
           "bgcolor": "white",
           "lakecolor": "white",
           "landcolor": "#E5ECF6",
           "showlakes": true,
           "showland": true,
           "subunitcolor": "white"
          },
          "hoverlabel": {
           "align": "left"
          },
          "hovermode": "closest",
          "mapbox": {
           "style": "light"
          },
          "paper_bgcolor": "white",
          "plot_bgcolor": "#E5ECF6",
          "polar": {
           "angularaxis": {
            "gridcolor": "white",
            "linecolor": "white",
            "ticks": ""
           },
           "bgcolor": "#E5ECF6",
           "radialaxis": {
            "gridcolor": "white",
            "linecolor": "white",
            "ticks": ""
           }
          },
          "scene": {
           "xaxis": {
            "backgroundcolor": "#E5ECF6",
            "gridcolor": "white",
            "gridwidth": 2,
            "linecolor": "white",
            "showbackground": true,
            "ticks": "",
            "zerolinecolor": "white"
           },
           "yaxis": {
            "backgroundcolor": "#E5ECF6",
            "gridcolor": "white",
            "gridwidth": 2,
            "linecolor": "white",
            "showbackground": true,
            "ticks": "",
            "zerolinecolor": "white"
           },
           "zaxis": {
            "backgroundcolor": "#E5ECF6",
            "gridcolor": "white",
            "gridwidth": 2,
            "linecolor": "white",
            "showbackground": true,
            "ticks": "",
            "zerolinecolor": "white"
           }
          },
          "shapedefaults": {
           "line": {
            "color": "#2a3f5f"
           }
          },
          "ternary": {
           "aaxis": {
            "gridcolor": "white",
            "linecolor": "white",
            "ticks": ""
           },
           "baxis": {
            "gridcolor": "white",
            "linecolor": "white",
            "ticks": ""
           },
           "bgcolor": "#E5ECF6",
           "caxis": {
            "gridcolor": "white",
            "linecolor": "white",
            "ticks": ""
           }
          },
          "title": {
           "x": 0.05
          },
          "xaxis": {
           "automargin": true,
           "gridcolor": "white",
           "linecolor": "white",
           "ticks": "",
           "title": {
            "standoff": 15
           },
           "zerolinecolor": "white",
           "zerolinewidth": 2
          },
          "yaxis": {
           "automargin": true,
           "gridcolor": "white",
           "linecolor": "white",
           "ticks": "",
           "title": {
            "standoff": 15
           },
           "zerolinecolor": "white",
           "zerolinewidth": 2
          }
         }
        },
        "xaxis": {
         "anchor": "y",
         "domain": [
          0,
          1
         ],
         "title": {
          "text": "year"
         }
        },
        "yaxis": {
         "anchor": "x",
         "domain": [
          0,
          1
         ],
         "title": {
          "text": "value"
         }
        }
       }
      },
      "text/html": [
       "<div>                            <div id=\"ee5f101e-797f-4181-8598-9c3105745e85\" class=\"plotly-graph-div\" style=\"height:525px; width:100%;\"></div>            <script type=\"text/javascript\">                require([\"plotly\"], function(Plotly) {                    window.PLOTLYENV=window.PLOTLYENV || {};                                    if (document.getElementById(\"ee5f101e-797f-4181-8598-9c3105745e85\")) {                    Plotly.newPlot(                        \"ee5f101e-797f-4181-8598-9c3105745e85\",                        [{\"hovertemplate\":\"variable=SOC\\u571f\\u58e4\\u6709\\u673a\\u78b3<br>year=%{x}<br>value=%{y}<extra></extra>\",\"legendgroup\":\"SOC\\u571f\\u58e4\\u6709\\u673a\\u78b3\",\"line\":{\"color\":\"#636efa\",\"dash\":\"solid\"},\"marker\":{\"symbol\":\"circle\"},\"mode\":\"lines\",\"name\":\"SOC\\u571f\\u58e4\\u6709\\u673a\\u78b3\",\"orientation\":\"v\",\"showlegend\":true,\"x\":[0,2,4,6,8,10,12,14,16,18],\"xaxis\":\"x\",\"y\":[-1.6146861156739747,-1.1678328624675274,0.6140594804093985,0.06640103515213454,1.0380934569424667,0.704256534576416,0.8674807548522949,1.0294959545135498,1.1911165714263916,1.3527376651763916],\"yaxis\":\"y\",\"type\":\"scatter\"},{\"hovertemplate\":\"variable=SIC\\u571f\\u58e4\\u65e0\\u673a\\u78b3<br>year=%{x}<br>value=%{y}<extra></extra>\",\"legendgroup\":\"SIC\\u571f\\u58e4\\u65e0\\u673a\\u78b3\",\"line\":{\"color\":\"#EF553B\",\"dash\":\"solid\"},\"marker\":{\"symbol\":\"circle\"},\"mode\":\"lines\",\"name\":\"SIC\\u571f\\u58e4\\u65e0\\u673a\\u78b3\",\"orientation\":\"v\",\"showlegend\":true,\"x\":[0,2,4,6,8,10,12,14,16,18],\"xaxis\":\"x\",\"y\":[1.4459629804734293,0.21936755558885537,-0.7804121702902984,-0.6670043207875882,-1.4138129162654864,-1.146075963973999,-1.331554889678955,-1.5231072902679443,-1.7166403532028198,-1.9101735353469849],\"yaxis\":\"y\",\"type\":\"scatter\"},{\"hovertemplate\":\"variable=STC\\u571f\\u58e4\\u5168\\u78b3<br>year=%{x}<br>value=%{y}<extra></extra>\",\"legendgroup\":\"STC\\u571f\\u58e4\\u5168\\u78b3\",\"line\":{\"color\":\"#00cc96\",\"dash\":\"solid\"},\"marker\":{\"symbol\":\"circle\"},\"mode\":\"lines\",\"name\":\"STC\\u571f\\u58e4\\u5168\\u78b3\",\"orientation\":\"v\",\"showlegend\":true,\"x\":[0,2,4,6,8,10,12,14,16,18],\"xaxis\":\"x\",\"y\":[0.5255846309051495,-0.5662585593622044,-0.46385486093595596,-0.7173394286456973,-0.8923750146138641,-2.5187079906463623,-3.091973304748535,-3.6696670055389404,-4.248805046081543,-4.827942371368408],\"yaxis\":\"y\",\"type\":\"scatter\"},{\"hovertemplate\":\"variable=\\u5168\\u6c2eN<br>year=%{x}<br>value=%{y}<extra></extra>\",\"legendgroup\":\"\\u5168\\u6c2eN\",\"line\":{\"color\":\"#ab63fa\",\"dash\":\"solid\"},\"marker\":{\"symbol\":\"circle\"},\"mode\":\"lines\",\"name\":\"\\u5168\\u6c2eN\",\"orientation\":\"v\",\"showlegend\":true,\"x\":[0,2,4,6,8,10,12,14,16,18],\"xaxis\":\"x\",\"y\":[-2.058147836872241,-0.7737125790887267,0.263030150719848,0.37402820013454874,1.277782833219558,0.5610337257385254,0.6652266979217529,0.7656279802322388,0.8647936582565308,0.9639586210250854],\"yaxis\":\"y\",\"type\":\"scatter\"},{\"hovertemplate\":\"variable=\\u571f\\u58e4C/N\\u6bd4<br>year=%{x}<br>value=%{y}<extra></extra>\",\"legendgroup\":\"\\u571f\\u58e4C/N\\u6bd4\",\"line\":{\"color\":\"#FFA15A\",\"dash\":\"solid\"},\"marker\":{\"symbol\":\"circle\"},\"mode\":\"lines\",\"name\":\"\\u571f\\u58e4C/N\\u6bd4\",\"orientation\":\"v\",\"showlegend\":true,\"x\":[0,2,4,6,8,10,12,14,16,18],\"xaxis\":\"x\",\"y\":[1.7846962857478543,0.14059341834385722,-0.4727033730561072,-0.7138052672631319,-1.3721895594260392,-1.5079755783081055,-1.8542170524597168,-2.2009925842285156,-2.547942876815796,-2.894892692565918],\"yaxis\":\"y\",\"type\":\"scatter\"}],                        {\"template\":{\"data\":{\"histogram2dcontour\":[{\"type\":\"histogram2dcontour\",\"colorbar\":{\"outlinewidth\":0,\"ticks\":\"\"},\"colorscale\":[[0.0,\"#0d0887\"],[0.1111111111111111,\"#46039f\"],[0.2222222222222222,\"#7201a8\"],[0.3333333333333333,\"#9c179e\"],[0.4444444444444444,\"#bd3786\"],[0.5555555555555556,\"#d8576b\"],[0.6666666666666666,\"#ed7953\"],[0.7777777777777778,\"#fb9f3a\"],[0.8888888888888888,\"#fdca26\"],[1.0,\"#f0f921\"]]}],\"choropleth\":[{\"type\":\"choropleth\",\"colorbar\":{\"outlinewidth\":0,\"ticks\":\"\"}}],\"histogram2d\":[{\"type\":\"histogram2d\",\"colorbar\":{\"outlinewidth\":0,\"ticks\":\"\"},\"colorscale\":[[0.0,\"#0d0887\"],[0.1111111111111111,\"#46039f\"],[0.2222222222222222,\"#7201a8\"],[0.3333333333333333,\"#9c179e\"],[0.4444444444444444,\"#bd3786\"],[0.5555555555555556,\"#d8576b\"],[0.6666666666666666,\"#ed7953\"],[0.7777777777777778,\"#fb9f3a\"],[0.8888888888888888,\"#fdca26\"],[1.0,\"#f0f921\"]]}],\"heatmap\":[{\"type\":\"heatmap\",\"colorbar\":{\"outlinewidth\":0,\"ticks\":\"\"},\"colorscale\":[[0.0,\"#0d0887\"],[0.1111111111111111,\"#46039f\"],[0.2222222222222222,\"#7201a8\"],[0.3333333333333333,\"#9c179e\"],[0.4444444444444444,\"#bd3786\"],[0.5555555555555556,\"#d8576b\"],[0.6666666666666666,\"#ed7953\"],[0.7777777777777778,\"#fb9f3a\"],[0.8888888888888888,\"#fdca26\"],[1.0,\"#f0f921\"]]}],\"heatmapgl\":[{\"type\":\"heatmapgl\",\"colorbar\":{\"outlinewidth\":0,\"ticks\":\"\"},\"colorscale\":[[0.0,\"#0d0887\"],[0.1111111111111111,\"#46039f\"],[0.2222222222222222,\"#7201a8\"],[0.3333333333333333,\"#9c179e\"],[0.4444444444444444,\"#bd3786\"],[0.5555555555555556,\"#d8576b\"],[0.6666666666666666,\"#ed7953\"],[0.7777777777777778,\"#fb9f3a\"],[0.8888888888888888,\"#fdca26\"],[1.0,\"#f0f921\"]]}],\"contourcarpet\":[{\"type\":\"contourcarpet\",\"colorbar\":{\"outlinewidth\":0,\"ticks\":\"\"}}],\"contour\":[{\"type\":\"contour\",\"colorbar\":{\"outlinewidth\":0,\"ticks\":\"\"},\"colorscale\":[[0.0,\"#0d0887\"],[0.1111111111111111,\"#46039f\"],[0.2222222222222222,\"#7201a8\"],[0.3333333333333333,\"#9c179e\"],[0.4444444444444444,\"#bd3786\"],[0.5555555555555556,\"#d8576b\"],[0.6666666666666666,\"#ed7953\"],[0.7777777777777778,\"#fb9f3a\"],[0.8888888888888888,\"#fdca26\"],[1.0,\"#f0f921\"]]}],\"surface\":[{\"type\":\"surface\",\"colorbar\":{\"outlinewidth\":0,\"ticks\":\"\"},\"colorscale\":[[0.0,\"#0d0887\"],[0.1111111111111111,\"#46039f\"],[0.2222222222222222,\"#7201a8\"],[0.3333333333333333,\"#9c179e\"],[0.4444444444444444,\"#bd3786\"],[0.5555555555555556,\"#d8576b\"],[0.6666666666666666,\"#ed7953\"],[0.7777777777777778,\"#fb9f3a\"],[0.8888888888888888,\"#fdca26\"],[1.0,\"#f0f921\"]]}],\"mesh3d\":[{\"type\":\"mesh3d\",\"colorbar\":{\"outlinewidth\":0,\"ticks\":\"\"}}],\"scatter\":[{\"fillpattern\":{\"fillmode\":\"overlay\",\"size\":10,\"solidity\":0.2},\"type\":\"scatter\"}],\"parcoords\":[{\"type\":\"parcoords\",\"line\":{\"colorbar\":{\"outlinewidth\":0,\"ticks\":\"\"}}}],\"scatterpolargl\":[{\"type\":\"scatterpolargl\",\"marker\":{\"colorbar\":{\"outlinewidth\":0,\"ticks\":\"\"}}}],\"bar\":[{\"error_x\":{\"color\":\"#2a3f5f\"},\"error_y\":{\"color\":\"#2a3f5f\"},\"marker\":{\"line\":{\"color\":\"#E5ECF6\",\"width\":0.5},\"pattern\":{\"fillmode\":\"overlay\",\"size\":10,\"solidity\":0.2}},\"type\":\"bar\"}],\"scattergeo\":[{\"type\":\"scattergeo\",\"marker\":{\"colorbar\":{\"outlinewidth\":0,\"ticks\":\"\"}}}],\"scatterpolar\":[{\"type\":\"scatterpolar\",\"marker\":{\"colorbar\":{\"outlinewidth\":0,\"ticks\":\"\"}}}],\"histogram\":[{\"marker\":{\"pattern\":{\"fillmode\":\"overlay\",\"size\":10,\"solidity\":0.2}},\"type\":\"histogram\"}],\"scattergl\":[{\"type\":\"scattergl\",\"marker\":{\"colorbar\":{\"outlinewidth\":0,\"ticks\":\"\"}}}],\"scatter3d\":[{\"type\":\"scatter3d\",\"line\":{\"colorbar\":{\"outlinewidth\":0,\"ticks\":\"\"}},\"marker\":{\"colorbar\":{\"outlinewidth\":0,\"ticks\":\"\"}}}],\"scattermapbox\":[{\"type\":\"scattermapbox\",\"marker\":{\"colorbar\":{\"outlinewidth\":0,\"ticks\":\"\"}}}],\"scatterternary\":[{\"type\":\"scatterternary\",\"marker\":{\"colorbar\":{\"outlinewidth\":0,\"ticks\":\"\"}}}],\"scattercarpet\":[{\"type\":\"scattercarpet\",\"marker\":{\"colorbar\":{\"outlinewidth\":0,\"ticks\":\"\"}}}],\"carpet\":[{\"aaxis\":{\"endlinecolor\":\"#2a3f5f\",\"gridcolor\":\"white\",\"linecolor\":\"white\",\"minorgridcolor\":\"white\",\"startlinecolor\":\"#2a3f5f\"},\"baxis\":{\"endlinecolor\":\"#2a3f5f\",\"gridcolor\":\"white\",\"linecolor\":\"white\",\"minorgridcolor\":\"white\",\"startlinecolor\":\"#2a3f5f\"},\"type\":\"carpet\"}],\"table\":[{\"cells\":{\"fill\":{\"color\":\"#EBF0F8\"},\"line\":{\"color\":\"white\"}},\"header\":{\"fill\":{\"color\":\"#C8D4E3\"},\"line\":{\"color\":\"white\"}},\"type\":\"table\"}],\"barpolar\":[{\"marker\":{\"line\":{\"color\":\"#E5ECF6\",\"width\":0.5},\"pattern\":{\"fillmode\":\"overlay\",\"size\":10,\"solidity\":0.2}},\"type\":\"barpolar\"}],\"pie\":[{\"automargin\":true,\"type\":\"pie\"}]},\"layout\":{\"autotypenumbers\":\"strict\",\"colorway\":[\"#636efa\",\"#EF553B\",\"#00cc96\",\"#ab63fa\",\"#FFA15A\",\"#19d3f3\",\"#FF6692\",\"#B6E880\",\"#FF97FF\",\"#FECB52\"],\"font\":{\"color\":\"#2a3f5f\"},\"hovermode\":\"closest\",\"hoverlabel\":{\"align\":\"left\"},\"paper_bgcolor\":\"white\",\"plot_bgcolor\":\"#E5ECF6\",\"polar\":{\"bgcolor\":\"#E5ECF6\",\"angularaxis\":{\"gridcolor\":\"white\",\"linecolor\":\"white\",\"ticks\":\"\"},\"radialaxis\":{\"gridcolor\":\"white\",\"linecolor\":\"white\",\"ticks\":\"\"}},\"ternary\":{\"bgcolor\":\"#E5ECF6\",\"aaxis\":{\"gridcolor\":\"white\",\"linecolor\":\"white\",\"ticks\":\"\"},\"baxis\":{\"gridcolor\":\"white\",\"linecolor\":\"white\",\"ticks\":\"\"},\"caxis\":{\"gridcolor\":\"white\",\"linecolor\":\"white\",\"ticks\":\"\"}},\"coloraxis\":{\"colorbar\":{\"outlinewidth\":0,\"ticks\":\"\"}},\"colorscale\":{\"sequential\":[[0.0,\"#0d0887\"],[0.1111111111111111,\"#46039f\"],[0.2222222222222222,\"#7201a8\"],[0.3333333333333333,\"#9c179e\"],[0.4444444444444444,\"#bd3786\"],[0.5555555555555556,\"#d8576b\"],[0.6666666666666666,\"#ed7953\"],[0.7777777777777778,\"#fb9f3a\"],[0.8888888888888888,\"#fdca26\"],[1.0,\"#f0f921\"]],\"sequentialminus\":[[0.0,\"#0d0887\"],[0.1111111111111111,\"#46039f\"],[0.2222222222222222,\"#7201a8\"],[0.3333333333333333,\"#9c179e\"],[0.4444444444444444,\"#bd3786\"],[0.5555555555555556,\"#d8576b\"],[0.6666666666666666,\"#ed7953\"],[0.7777777777777778,\"#fb9f3a\"],[0.8888888888888888,\"#fdca26\"],[1.0,\"#f0f921\"]],\"diverging\":[[0,\"#8e0152\"],[0.1,\"#c51b7d\"],[0.2,\"#de77ae\"],[0.3,\"#f1b6da\"],[0.4,\"#fde0ef\"],[0.5,\"#f7f7f7\"],[0.6,\"#e6f5d0\"],[0.7,\"#b8e186\"],[0.8,\"#7fbc41\"],[0.9,\"#4d9221\"],[1,\"#276419\"]]},\"xaxis\":{\"gridcolor\":\"white\",\"linecolor\":\"white\",\"ticks\":\"\",\"title\":{\"standoff\":15},\"zerolinecolor\":\"white\",\"automargin\":true,\"zerolinewidth\":2},\"yaxis\":{\"gridcolor\":\"white\",\"linecolor\":\"white\",\"ticks\":\"\",\"title\":{\"standoff\":15},\"zerolinecolor\":\"white\",\"automargin\":true,\"zerolinewidth\":2},\"scene\":{\"xaxis\":{\"backgroundcolor\":\"#E5ECF6\",\"gridcolor\":\"white\",\"linecolor\":\"white\",\"showbackground\":true,\"ticks\":\"\",\"zerolinecolor\":\"white\",\"gridwidth\":2},\"yaxis\":{\"backgroundcolor\":\"#E5ECF6\",\"gridcolor\":\"white\",\"linecolor\":\"white\",\"showbackground\":true,\"ticks\":\"\",\"zerolinecolor\":\"white\",\"gridwidth\":2},\"zaxis\":{\"backgroundcolor\":\"#E5ECF6\",\"gridcolor\":\"white\",\"linecolor\":\"white\",\"showbackground\":true,\"ticks\":\"\",\"zerolinecolor\":\"white\",\"gridwidth\":2}},\"shapedefaults\":{\"line\":{\"color\":\"#2a3f5f\"}},\"annotationdefaults\":{\"arrowcolor\":\"#2a3f5f\",\"arrowhead\":0,\"arrowwidth\":1},\"geo\":{\"bgcolor\":\"white\",\"landcolor\":\"#E5ECF6\",\"subunitcolor\":\"white\",\"showland\":true,\"showlakes\":true,\"lakecolor\":\"white\"},\"title\":{\"x\":0.05},\"mapbox\":{\"style\":\"light\"}}},\"xaxis\":{\"anchor\":\"y\",\"domain\":[0.0,1.0],\"title\":{\"text\":\"year\"}},\"yaxis\":{\"anchor\":\"x\",\"domain\":[0.0,1.0],\"title\":{\"text\":\"value\"}},\"legend\":{\"title\":{\"text\":\"variable\"},\"tracegroupgap\":0},\"margin\":{\"t\":60}},                        {\"responsive\": true}                    ).then(function(){\n",
       "                            \n",
       "var gd = document.getElementById('ee5f101e-797f-4181-8598-9c3105745e85');\n",
       "var x = new MutationObserver(function (mutations, observer) {{\n",
       "        var display = window.getComputedStyle(gd).display;\n",
       "        if (!display || display === 'none') {{\n",
       "            console.log([gd, 'removed!']);\n",
       "            Plotly.purge(gd);\n",
       "            observer.disconnect();\n",
       "        }}\n",
       "}});\n",
       "\n",
       "// Listen for the removal of the full notebook cells\n",
       "var notebookContainer = gd.closest('#notebook-container');\n",
       "if (notebookContainer) {{\n",
       "    x.observe(notebookContainer, {childList: true});\n",
       "}}\n",
       "\n",
       "// Listen for the clearing of the current output cell\n",
       "var outputEl = gd.closest('.output');\n",
       "if (outputEl) {{\n",
       "    x.observe(outputEl, {childList: true});\n",
       "}}\n",
       "\n",
       "                        })                };                });            </script>        </div>"
      ]
     },
     "metadata": {},
     "output_type": "display_data"
    }
   ],
   "source": [
    "px.line(df,x='year',y=NUMERIC)"
   ]
  }
 ],
 "metadata": {
  "kernelspec": {
   "display_name": "Python 3 (ipykernel)",
   "language": "python",
   "name": "python3"
  },
  "language_info": {
   "codemirror_mode": {
    "name": "ipython",
    "version": 3
   },
   "file_extension": ".py",
   "mimetype": "text/x-python",
   "name": "python",
   "nbconvert_exporter": "python",
   "pygments_lexer": "ipython3",
   "version": "3.9.7"
  }
 },
 "nbformat": 4,
 "nbformat_minor": 5
}
